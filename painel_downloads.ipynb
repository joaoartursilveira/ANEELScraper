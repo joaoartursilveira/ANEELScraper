{
 "cells": [
  {
   "cell_type": "code",
   "execution_count": 1,
   "id": "oriental-theorem",
   "metadata": {},
   "outputs": [],
   "source": [
    "from os import listdir\n",
    "from os.path import isfile, join\n",
    "from conexao_sql import SQLite\n",
    "import pandas as pd\n",
    "import requests\n",
    "import re\n",
    "import certifi\n",
    "pd.options.display.max_columns = 300"
   ]
  },
  {
   "cell_type": "code",
   "execution_count": 2,
   "id": "personal-affect",
   "metadata": {},
   "outputs": [],
   "source": [
    "def download(df_naozip): \n",
    "    nome_link = [row for row in df_naozip[['nome_padrao','link']].to_numpy()]\n",
    "    for row in nome_link:\n",
    "        print(row)\n",
    "        nome_extensao, linkdownload = row[0], requests.get(row[1], verify=False)\n",
    "        with open(join(path_arquivos, nome_extensao), 'wb') as f:\n",
    "            f.write(linkdownload.content)\n",
    "            f.flush()\n",
    "            f.close()\n",
    "        print(f'Arquivo: \"{nome_extensao}\" foi baixado com sucesso')\n",
    "    print('Todos os arquivos foram baixados com sucesso')\n",
    "\n",
    "    \n",
    "#importa os arquivos existentes na pasta\n",
    "def importar_arquivos_pasta(path_arquivos): \n",
    "    lista_arquivos = [f for f in listdir(path_arquivos) if isfile(join(path_arquivos, f))]\n",
    "    return pd.DataFrame(lista_arquivos, columns = ['nome_padrao'])\n",
    "\n",
    "\n",
    "def verificar_dados_existentes(df_dados, df_arquivos, regex):\n",
    "    dados = pd.merge(df_dados, df_arquivos, how='outer', on='nome_padrao', indicator=True)\n",
    "    filtro = (dados['nome_padrao'].str.contains(regex)) & (dados['_merge']=='left_only')\n",
    "    return dados.loc[filtro,:]"
   ]
  },
  {
   "cell_type": "code",
   "execution_count": 7,
   "id": "e8417ac0",
   "metadata": {},
   "outputs": [],
   "source": [
    "path_root = r'D:\\python_projects\\cpfl'\n",
    "path_banco = join(path_root, 'db_sqlite')"
   ]
  },
  {
   "cell_type": "code",
   "execution_count": 8,
   "id": "familiar-president",
   "metadata": {},
   "outputs": [],
   "source": [
    "sparta_pcat = 'pcat' #unica entrada relevante\n",
    "path_arquivos = join(path_root, 'arquivos_aneel', sparta_pcat)\n",
    "df_banco = SQLite(path=path_banco, db_name='central_dist.db').select_processos()"
   ]
  },
  {
   "cell_type": "code",
   "execution_count": 9,
   "id": "gentle-thesaurus",
   "metadata": {},
   "outputs": [],
   "source": [
    "df_arquivos = importar_arquivos_pasta(path_arquivos)"
   ]
  },
  {
   "cell_type": "code",
   "execution_count": 10,
   "id": "understanding-ethics",
   "metadata": {
    "scrolled": false
   },
   "outputs": [
    {
     "data": {
      "text/html": [
       "<div>\n",
       "<style scoped>\n",
       "    .dataframe tbody tr th:only-of-type {\n",
       "        vertical-align: middle;\n",
       "    }\n",
       "\n",
       "    .dataframe tbody tr th {\n",
       "        vertical-align: top;\n",
       "    }\n",
       "\n",
       "    .dataframe thead th {\n",
       "        text-align: right;\n",
       "    }\n",
       "</style>\n",
       "<table border=\"1\" class=\"dataframe\">\n",
       "  <thead>\n",
       "    <tr style=\"text-align: right;\">\n",
       "      <th></th>\n",
       "      <th>arquivo</th>\n",
       "      <th>distribuidora</th>\n",
       "      <th>data_processo</th>\n",
       "      <th>processo</th>\n",
       "      <th>link</th>\n",
       "      <th>nome_padrao</th>\n",
       "      <th>_merge</th>\n",
       "    </tr>\n",
       "  </thead>\n",
       "  <tbody>\n",
       "    <tr>\n",
       "      <th>477</th>\n",
       "      <td>PCAT</td>\n",
       "      <td>AME</td>\n",
       "      <td>2013-11-01</td>\n",
       "      <td>REVISAO</td>\n",
       "      <td>https://www2.aneel.gov.br/aplicacoes/tarifa/ar...</td>\n",
       "      <td>PCAT_AME_2013-11-01_REVISAO_(PCATAME2013).xlsx</td>\n",
       "      <td>left_only</td>\n",
       "    </tr>\n",
       "    <tr>\n",
       "      <th>478</th>\n",
       "      <td>PCAT</td>\n",
       "      <td>AME</td>\n",
       "      <td>2014-11-01</td>\n",
       "      <td>REAJUSTE</td>\n",
       "      <td>https://www2.aneel.gov.br/aplicacoes/tarifa/ar...</td>\n",
       "      <td>PCAT_AME_2014-11-01_REAJUSTE_(PCATAME2014).xlsx</td>\n",
       "      <td>left_only</td>\n",
       "    </tr>\n",
       "    <tr>\n",
       "      <th>479</th>\n",
       "      <td>PCAT</td>\n",
       "      <td>AME</td>\n",
       "      <td>2015-11-01</td>\n",
       "      <td>REAJUSTE</td>\n",
       "      <td>https://www2.aneel.gov.br/aplicacoes/tarifa/ar...</td>\n",
       "      <td>PCAT_AME_2015-11-01_REAJUSTE_(PCATAME2015).xlsx</td>\n",
       "      <td>left_only</td>\n",
       "    </tr>\n",
       "    <tr>\n",
       "      <th>480</th>\n",
       "      <td>PCAT</td>\n",
       "      <td>AME</td>\n",
       "      <td>2016-11-01</td>\n",
       "      <td>REAJUSTE</td>\n",
       "      <td>https://www2.aneel.gov.br/aplicacoes/tarifa/ar...</td>\n",
       "      <td>PCAT_AME_2016-11-01_REAJUSTE_(PCATAME2016).xlsx</td>\n",
       "      <td>left_only</td>\n",
       "    </tr>\n",
       "    <tr>\n",
       "      <th>481</th>\n",
       "      <td>PCAT</td>\n",
       "      <td>AME</td>\n",
       "      <td>2017-11-01</td>\n",
       "      <td>REAJUSTE</td>\n",
       "      <td>https://www2.aneel.gov.br/aplicacoes/tarifa/ar...</td>\n",
       "      <td>PCAT_AME_2017-11-01_REAJUSTE_(PCATAME2017).xlsx</td>\n",
       "      <td>left_only</td>\n",
       "    </tr>\n",
       "    <tr>\n",
       "      <th>...</th>\n",
       "      <td>...</td>\n",
       "      <td>...</td>\n",
       "      <td>...</td>\n",
       "      <td>...</td>\n",
       "      <td>...</td>\n",
       "      <td>...</td>\n",
       "      <td>...</td>\n",
       "    </tr>\n",
       "    <tr>\n",
       "      <th>1031</th>\n",
       "      <td>PCAT</td>\n",
       "      <td>CERON</td>\n",
       "      <td>2021-12-13</td>\n",
       "      <td>REAJUSTE</td>\n",
       "      <td>https://www2.aneel.gov.br/aplicacoes/tarifa/ar...</td>\n",
       "      <td>PCAT_CERON_2021-12-13_REAJUSTE_(369PCATCERON20...</td>\n",
       "      <td>left_only</td>\n",
       "    </tr>\n",
       "    <tr>\n",
       "      <th>1033</th>\n",
       "      <td>PCAT</td>\n",
       "      <td>CHESP</td>\n",
       "      <td>2021-11-22</td>\n",
       "      <td>REVISAO</td>\n",
       "      <td>https://www2.aneel.gov.br/aplicacoes/tarifa/ar...</td>\n",
       "      <td>PCAT_CHESP_2021-11-22_REVISAO_(103PCATCHESP202...</td>\n",
       "      <td>left_only</td>\n",
       "    </tr>\n",
       "    <tr>\n",
       "      <th>1035</th>\n",
       "      <td>PCAT</td>\n",
       "      <td>DMED</td>\n",
       "      <td>2021-11-22</td>\n",
       "      <td>REAJUSTE</td>\n",
       "      <td>https://www2.aneel.gov.br/aplicacoes/tarifa/ar...</td>\n",
       "      <td>PCAT_DMED_2021-11-22_REAJUSTE_(51PCATDMED2021V...</td>\n",
       "      <td>left_only</td>\n",
       "    </tr>\n",
       "    <tr>\n",
       "      <th>1037</th>\n",
       "      <td>PCAT</td>\n",
       "      <td>ELETROACRE</td>\n",
       "      <td>2021-12-13</td>\n",
       "      <td>REAJUSTE</td>\n",
       "      <td>https://www2.aneel.gov.br/aplicacoes/tarifa/ar...</td>\n",
       "      <td>PCAT_ELETROACRE_2021-12-13_REAJUSTE_(26PCATELE...</td>\n",
       "      <td>left_only</td>\n",
       "    </tr>\n",
       "    <tr>\n",
       "      <th>1039</th>\n",
       "      <td>PCAT</td>\n",
       "      <td>EQUATORIALPI</td>\n",
       "      <td>2021-12-02</td>\n",
       "      <td>REAJUSTE</td>\n",
       "      <td>https://www2.aneel.gov.br/aplicacoes/tarifa/ar...</td>\n",
       "      <td>PCAT_EQUATORIALPI_2021-12-02_REAJUSTE_(38PCATC...</td>\n",
       "      <td>left_only</td>\n",
       "    </tr>\n",
       "  </tbody>\n",
       "</table>\n",
       "<p>550 rows × 7 columns</p>\n",
       "</div>"
      ],
      "text/plain": [
       "     arquivo distribuidora data_processo  processo  \\\n",
       "477     PCAT           AME    2013-11-01   REVISAO   \n",
       "478     PCAT           AME    2014-11-01  REAJUSTE   \n",
       "479     PCAT           AME    2015-11-01  REAJUSTE   \n",
       "480     PCAT           AME    2016-11-01  REAJUSTE   \n",
       "481     PCAT           AME    2017-11-01  REAJUSTE   \n",
       "...      ...           ...           ...       ...   \n",
       "1031    PCAT         CERON    2021-12-13  REAJUSTE   \n",
       "1033    PCAT         CHESP    2021-11-22   REVISAO   \n",
       "1035    PCAT          DMED    2021-11-22  REAJUSTE   \n",
       "1037    PCAT    ELETROACRE    2021-12-13  REAJUSTE   \n",
       "1039    PCAT  EQUATORIALPI    2021-12-02  REAJUSTE   \n",
       "\n",
       "                                                   link  \\\n",
       "477   https://www2.aneel.gov.br/aplicacoes/tarifa/ar...   \n",
       "478   https://www2.aneel.gov.br/aplicacoes/tarifa/ar...   \n",
       "479   https://www2.aneel.gov.br/aplicacoes/tarifa/ar...   \n",
       "480   https://www2.aneel.gov.br/aplicacoes/tarifa/ar...   \n",
       "481   https://www2.aneel.gov.br/aplicacoes/tarifa/ar...   \n",
       "...                                                 ...   \n",
       "1031  https://www2.aneel.gov.br/aplicacoes/tarifa/ar...   \n",
       "1033  https://www2.aneel.gov.br/aplicacoes/tarifa/ar...   \n",
       "1035  https://www2.aneel.gov.br/aplicacoes/tarifa/ar...   \n",
       "1037  https://www2.aneel.gov.br/aplicacoes/tarifa/ar...   \n",
       "1039  https://www2.aneel.gov.br/aplicacoes/tarifa/ar...   \n",
       "\n",
       "                                            nome_padrao     _merge  \n",
       "477      PCAT_AME_2013-11-01_REVISAO_(PCATAME2013).xlsx  left_only  \n",
       "478     PCAT_AME_2014-11-01_REAJUSTE_(PCATAME2014).xlsx  left_only  \n",
       "479     PCAT_AME_2015-11-01_REAJUSTE_(PCATAME2015).xlsx  left_only  \n",
       "480     PCAT_AME_2016-11-01_REAJUSTE_(PCATAME2016).xlsx  left_only  \n",
       "481     PCAT_AME_2017-11-01_REAJUSTE_(PCATAME2017).xlsx  left_only  \n",
       "...                                                 ...        ...  \n",
       "1031  PCAT_CERON_2021-12-13_REAJUSTE_(369PCATCERON20...  left_only  \n",
       "1033  PCAT_CHESP_2021-11-22_REVISAO_(103PCATCHESP202...  left_only  \n",
       "1035  PCAT_DMED_2021-11-22_REAJUSTE_(51PCATDMED2021V...  left_only  \n",
       "1037  PCAT_ELETROACRE_2021-12-13_REAJUSTE_(26PCATELE...  left_only  \n",
       "1039  PCAT_EQUATORIALPI_2021-12-02_REAJUSTE_(38PCATC...  left_only  \n",
       "\n",
       "[550 rows x 7 columns]"
      ]
     },
     "execution_count": 10,
     "metadata": {},
     "output_type": "execute_result"
    },
    {
     "data": {
      "text/html": [
       "<div>\n",
       "<style scoped>\n",
       "    .dataframe tbody tr th:only-of-type {\n",
       "        vertical-align: middle;\n",
       "    }\n",
       "\n",
       "    .dataframe tbody tr th {\n",
       "        vertical-align: top;\n",
       "    }\n",
       "\n",
       "    .dataframe thead th {\n",
       "        text-align: right;\n",
       "    }\n",
       "</style>\n",
       "<table border=\"1\" class=\"dataframe\">\n",
       "  <thead>\n",
       "    <tr style=\"text-align: right;\">\n",
       "      <th></th>\n",
       "      <th>arquivo</th>\n",
       "      <th>distribuidora</th>\n",
       "      <th>data_processo</th>\n",
       "      <th>processo</th>\n",
       "      <th>link</th>\n",
       "      <th>nome_padrao</th>\n",
       "      <th>_merge</th>\n",
       "    </tr>\n",
       "  </thead>\n",
       "  <tbody>\n",
       "    <tr>\n",
       "      <th>477</th>\n",
       "      <td>PCAT</td>\n",
       "      <td>AME</td>\n",
       "      <td>2013-11-01</td>\n",
       "      <td>REVISAO</td>\n",
       "      <td>https://www2.aneel.gov.br/aplicacoes/tarifa/ar...</td>\n",
       "      <td>PCAT_AME_2013-11-01_REVISAO_(PCATAME2013).xlsx</td>\n",
       "      <td>left_only</td>\n",
       "    </tr>\n",
       "    <tr>\n",
       "      <th>478</th>\n",
       "      <td>PCAT</td>\n",
       "      <td>AME</td>\n",
       "      <td>2014-11-01</td>\n",
       "      <td>REAJUSTE</td>\n",
       "      <td>https://www2.aneel.gov.br/aplicacoes/tarifa/ar...</td>\n",
       "      <td>PCAT_AME_2014-11-01_REAJUSTE_(PCATAME2014).xlsx</td>\n",
       "      <td>left_only</td>\n",
       "    </tr>\n",
       "    <tr>\n",
       "      <th>479</th>\n",
       "      <td>PCAT</td>\n",
       "      <td>AME</td>\n",
       "      <td>2015-11-01</td>\n",
       "      <td>REAJUSTE</td>\n",
       "      <td>https://www2.aneel.gov.br/aplicacoes/tarifa/ar...</td>\n",
       "      <td>PCAT_AME_2015-11-01_REAJUSTE_(PCATAME2015).xlsx</td>\n",
       "      <td>left_only</td>\n",
       "    </tr>\n",
       "    <tr>\n",
       "      <th>480</th>\n",
       "      <td>PCAT</td>\n",
       "      <td>AME</td>\n",
       "      <td>2016-11-01</td>\n",
       "      <td>REAJUSTE</td>\n",
       "      <td>https://www2.aneel.gov.br/aplicacoes/tarifa/ar...</td>\n",
       "      <td>PCAT_AME_2016-11-01_REAJUSTE_(PCATAME2016).xlsx</td>\n",
       "      <td>left_only</td>\n",
       "    </tr>\n",
       "    <tr>\n",
       "      <th>481</th>\n",
       "      <td>PCAT</td>\n",
       "      <td>AME</td>\n",
       "      <td>2017-11-01</td>\n",
       "      <td>REAJUSTE</td>\n",
       "      <td>https://www2.aneel.gov.br/aplicacoes/tarifa/ar...</td>\n",
       "      <td>PCAT_AME_2017-11-01_REAJUSTE_(PCATAME2017).xlsx</td>\n",
       "      <td>left_only</td>\n",
       "    </tr>\n",
       "    <tr>\n",
       "      <th>...</th>\n",
       "      <td>...</td>\n",
       "      <td>...</td>\n",
       "      <td>...</td>\n",
       "      <td>...</td>\n",
       "      <td>...</td>\n",
       "      <td>...</td>\n",
       "      <td>...</td>\n",
       "    </tr>\n",
       "    <tr>\n",
       "      <th>1031</th>\n",
       "      <td>PCAT</td>\n",
       "      <td>CERON</td>\n",
       "      <td>2021-12-13</td>\n",
       "      <td>REAJUSTE</td>\n",
       "      <td>https://www2.aneel.gov.br/aplicacoes/tarifa/ar...</td>\n",
       "      <td>PCAT_CERON_2021-12-13_REAJUSTE_(369PCATCERON20...</td>\n",
       "      <td>left_only</td>\n",
       "    </tr>\n",
       "    <tr>\n",
       "      <th>1033</th>\n",
       "      <td>PCAT</td>\n",
       "      <td>CHESP</td>\n",
       "      <td>2021-11-22</td>\n",
       "      <td>REVISAO</td>\n",
       "      <td>https://www2.aneel.gov.br/aplicacoes/tarifa/ar...</td>\n",
       "      <td>PCAT_CHESP_2021-11-22_REVISAO_(103PCATCHESP202...</td>\n",
       "      <td>left_only</td>\n",
       "    </tr>\n",
       "    <tr>\n",
       "      <th>1035</th>\n",
       "      <td>PCAT</td>\n",
       "      <td>DMED</td>\n",
       "      <td>2021-11-22</td>\n",
       "      <td>REAJUSTE</td>\n",
       "      <td>https://www2.aneel.gov.br/aplicacoes/tarifa/ar...</td>\n",
       "      <td>PCAT_DMED_2021-11-22_REAJUSTE_(51PCATDMED2021V...</td>\n",
       "      <td>left_only</td>\n",
       "    </tr>\n",
       "    <tr>\n",
       "      <th>1037</th>\n",
       "      <td>PCAT</td>\n",
       "      <td>ELETROACRE</td>\n",
       "      <td>2021-12-13</td>\n",
       "      <td>REAJUSTE</td>\n",
       "      <td>https://www2.aneel.gov.br/aplicacoes/tarifa/ar...</td>\n",
       "      <td>PCAT_ELETROACRE_2021-12-13_REAJUSTE_(26PCATELE...</td>\n",
       "      <td>left_only</td>\n",
       "    </tr>\n",
       "    <tr>\n",
       "      <th>1039</th>\n",
       "      <td>PCAT</td>\n",
       "      <td>EQUATORIALPI</td>\n",
       "      <td>2021-12-02</td>\n",
       "      <td>REAJUSTE</td>\n",
       "      <td>https://www2.aneel.gov.br/aplicacoes/tarifa/ar...</td>\n",
       "      <td>PCAT_EQUATORIALPI_2021-12-02_REAJUSTE_(38PCATC...</td>\n",
       "      <td>left_only</td>\n",
       "    </tr>\n",
       "  </tbody>\n",
       "</table>\n",
       "<p>550 rows × 7 columns</p>\n",
       "</div>"
      ],
      "text/plain": [
       "     arquivo distribuidora data_processo  processo  \\\n",
       "477     PCAT           AME    2013-11-01   REVISAO   \n",
       "478     PCAT           AME    2014-11-01  REAJUSTE   \n",
       "479     PCAT           AME    2015-11-01  REAJUSTE   \n",
       "480     PCAT           AME    2016-11-01  REAJUSTE   \n",
       "481     PCAT           AME    2017-11-01  REAJUSTE   \n",
       "...      ...           ...           ...       ...   \n",
       "1031    PCAT         CERON    2021-12-13  REAJUSTE   \n",
       "1033    PCAT         CHESP    2021-11-22   REVISAO   \n",
       "1035    PCAT          DMED    2021-11-22  REAJUSTE   \n",
       "1037    PCAT    ELETROACRE    2021-12-13  REAJUSTE   \n",
       "1039    PCAT  EQUATORIALPI    2021-12-02  REAJUSTE   \n",
       "\n",
       "                                                   link  \\\n",
       "477   https://www2.aneel.gov.br/aplicacoes/tarifa/ar...   \n",
       "478   https://www2.aneel.gov.br/aplicacoes/tarifa/ar...   \n",
       "479   https://www2.aneel.gov.br/aplicacoes/tarifa/ar...   \n",
       "480   https://www2.aneel.gov.br/aplicacoes/tarifa/ar...   \n",
       "481   https://www2.aneel.gov.br/aplicacoes/tarifa/ar...   \n",
       "...                                                 ...   \n",
       "1031  https://www2.aneel.gov.br/aplicacoes/tarifa/ar...   \n",
       "1033  https://www2.aneel.gov.br/aplicacoes/tarifa/ar...   \n",
       "1035  https://www2.aneel.gov.br/aplicacoes/tarifa/ar...   \n",
       "1037  https://www2.aneel.gov.br/aplicacoes/tarifa/ar...   \n",
       "1039  https://www2.aneel.gov.br/aplicacoes/tarifa/ar...   \n",
       "\n",
       "                                            nome_padrao     _merge  \n",
       "477      PCAT_AME_2013-11-01_REVISAO_(PCATAME2013).xlsx  left_only  \n",
       "478     PCAT_AME_2014-11-01_REAJUSTE_(PCATAME2014).xlsx  left_only  \n",
       "479     PCAT_AME_2015-11-01_REAJUSTE_(PCATAME2015).xlsx  left_only  \n",
       "480     PCAT_AME_2016-11-01_REAJUSTE_(PCATAME2016).xlsx  left_only  \n",
       "481     PCAT_AME_2017-11-01_REAJUSTE_(PCATAME2017).xlsx  left_only  \n",
       "...                                                 ...        ...  \n",
       "1031  PCAT_CERON_2021-12-13_REAJUSTE_(369PCATCERON20...  left_only  \n",
       "1033  PCAT_CHESP_2021-11-22_REVISAO_(103PCATCHESP202...  left_only  \n",
       "1035  PCAT_DMED_2021-11-22_REAJUSTE_(51PCATDMED2021V...  left_only  \n",
       "1037  PCAT_ELETROACRE_2021-12-13_REAJUSTE_(26PCATELE...  left_only  \n",
       "1039  PCAT_EQUATORIALPI_2021-12-02_REAJUSTE_(38PCATC...  left_only  \n",
       "\n",
       "[550 rows x 7 columns]"
      ]
     },
     "execution_count": 10,
     "metadata": {},
     "output_type": "execute_result"
    }
   ],
   "source": [
    "df_download = verificar_dados_existentes(df_banco, df_arquivos, regex=sparta_pcat.upper()+'|\\?')\n",
    "df_download"
   ]
  },
  {
   "cell_type": "code",
   "execution_count": 11,
   "id": "turned-robinson",
   "metadata": {},
   "outputs": [
    {
     "name": "stdout",
     "output_type": "stream",
     "text": [
      "['PCAT_AME_2013-11-01_REVISAO_(PCATAME2013).xlsx'\n",
      " 'https://www2.aneel.gov.br/aplicacoes/tarifa/arquivo/PCAT _AME_ 2013.xlsx']\n",
      "['PCAT_AME_2013-11-01_REVISAO_(PCATAME2013).xlsx'\n",
      " 'https://www2.aneel.gov.br/aplicacoes/tarifa/arquivo/PCAT _AME_ 2013.xlsx']\n"
     ]
    },
    {
     "name": "stderr",
     "output_type": "stream",
     "text": [
      "D:\\python_projects\\cpfl\\web_scrapper\\venv_scraper\\lib\\site-packages\\urllib3\\connectionpool.py:1043: InsecureRequestWarning: Unverified HTTPS request is being made to host 'www2.aneel.gov.br'. Adding certificate verification is strongly advised. See: https://urllib3.readthedocs.io/en/1.26.x/advanced-usage.html#ssl-warnings\n",
      "  warnings.warn(\n",
      "D:\\python_projects\\cpfl\\web_scrapper\\venv_scraper\\lib\\site-packages\\urllib3\\connectionpool.py:1043: InsecureRequestWarning: Unverified HTTPS request is being made to host 'www2.aneel.gov.br'. Adding certificate verification is strongly advised. See: https://urllib3.readthedocs.io/en/1.26.x/advanced-usage.html#ssl-warnings\n",
      "  warnings.warn(\n"
     ]
    },
    {
     "name": "stdout",
     "output_type": "stream",
     "text": [
      "Arquivo: \"PCAT_AME_2013-11-01_REVISAO_(PCATAME2013).xlsx\" foi baixado com sucesso\n",
      "['PCAT_AME_2014-11-01_REAJUSTE_(PCATAME2014).xlsx'\n",
      " 'https://www2.aneel.gov.br/aplicacoes/tarifa/arquivo/PCAT_AME_2014.xlsx']\n",
      "Arquivo: \"PCAT_AME_2013-11-01_REVISAO_(PCATAME2013).xlsx\" foi baixado com sucesso\n",
      "['PCAT_AME_2014-11-01_REAJUSTE_(PCATAME2014).xlsx'\n",
      " 'https://www2.aneel.gov.br/aplicacoes/tarifa/arquivo/PCAT_AME_2014.xlsx']\n"
     ]
    },
    {
     "name": "stderr",
     "output_type": "stream",
     "text": [
      "D:\\python_projects\\cpfl\\web_scrapper\\venv_scraper\\lib\\site-packages\\urllib3\\connectionpool.py:1043: InsecureRequestWarning: Unverified HTTPS request is being made to host 'www2.aneel.gov.br'. Adding certificate verification is strongly advised. See: https://urllib3.readthedocs.io/en/1.26.x/advanced-usage.html#ssl-warnings\n",
      "  warnings.warn(\n",
      "D:\\python_projects\\cpfl\\web_scrapper\\venv_scraper\\lib\\site-packages\\urllib3\\connectionpool.py:1043: InsecureRequestWarning: Unverified HTTPS request is being made to host 'www2.aneel.gov.br'. Adding certificate verification is strongly advised. See: https://urllib3.readthedocs.io/en/1.26.x/advanced-usage.html#ssl-warnings\n",
      "  warnings.warn(\n"
     ]
    },
    {
     "name": "stdout",
     "output_type": "stream",
     "text": [
      "Arquivo: \"PCAT_AME_2014-11-01_REAJUSTE_(PCATAME2014).xlsx\" foi baixado com sucesso\n",
      "['PCAT_AME_2015-11-01_REAJUSTE_(PCATAME2015).xlsx'\n",
      " 'https://www2.aneel.gov.br/aplicacoes/tarifa/arquivo/PCAT_AmE_2015.xlsx']\n",
      "Arquivo: \"PCAT_AME_2014-11-01_REAJUSTE_(PCATAME2014).xlsx\" foi baixado com sucesso\n",
      "['PCAT_AME_2015-11-01_REAJUSTE_(PCATAME2015).xlsx'\n",
      " 'https://www2.aneel.gov.br/aplicacoes/tarifa/arquivo/PCAT_AmE_2015.xlsx']\n"
     ]
    },
    {
     "name": "stderr",
     "output_type": "stream",
     "text": [
      "D:\\python_projects\\cpfl\\web_scrapper\\venv_scraper\\lib\\site-packages\\urllib3\\connectionpool.py:1043: InsecureRequestWarning: Unverified HTTPS request is being made to host 'www2.aneel.gov.br'. Adding certificate verification is strongly advised. See: https://urllib3.readthedocs.io/en/1.26.x/advanced-usage.html#ssl-warnings\n",
      "  warnings.warn(\n",
      "D:\\python_projects\\cpfl\\web_scrapper\\venv_scraper\\lib\\site-packages\\urllib3\\connectionpool.py:1043: InsecureRequestWarning: Unverified HTTPS request is being made to host 'www2.aneel.gov.br'. Adding certificate verification is strongly advised. See: https://urllib3.readthedocs.io/en/1.26.x/advanced-usage.html#ssl-warnings\n",
      "  warnings.warn(\n"
     ]
    },
    {
     "name": "stdout",
     "output_type": "stream",
     "text": [
      "Arquivo: \"PCAT_AME_2015-11-01_REAJUSTE_(PCATAME2015).xlsx\" foi baixado com sucesso\n",
      "['PCAT_AME_2016-11-01_REAJUSTE_(PCATAME2016).xlsx'\n",
      " 'https://www2.aneel.gov.br/aplicacoes/tarifa/arquivo/PCAT_AmE_2016.xlsx']\n",
      "Arquivo: \"PCAT_AME_2015-11-01_REAJUSTE_(PCATAME2015).xlsx\" foi baixado com sucesso\n",
      "['PCAT_AME_2016-11-01_REAJUSTE_(PCATAME2016).xlsx'\n",
      " 'https://www2.aneel.gov.br/aplicacoes/tarifa/arquivo/PCAT_AmE_2016.xlsx']\n"
     ]
    },
    {
     "name": "stderr",
     "output_type": "stream",
     "text": [
      "D:\\python_projects\\cpfl\\web_scrapper\\venv_scraper\\lib\\site-packages\\urllib3\\connectionpool.py:1043: InsecureRequestWarning: Unverified HTTPS request is being made to host 'www2.aneel.gov.br'. Adding certificate verification is strongly advised. See: https://urllib3.readthedocs.io/en/1.26.x/advanced-usage.html#ssl-warnings\n",
      "  warnings.warn(\n",
      "D:\\python_projects\\cpfl\\web_scrapper\\venv_scraper\\lib\\site-packages\\urllib3\\connectionpool.py:1043: InsecureRequestWarning: Unverified HTTPS request is being made to host 'www2.aneel.gov.br'. Adding certificate verification is strongly advised. See: https://urllib3.readthedocs.io/en/1.26.x/advanced-usage.html#ssl-warnings\n",
      "  warnings.warn(\n"
     ]
    },
    {
     "name": "stdout",
     "output_type": "stream",
     "text": [
      "Arquivo: \"PCAT_AME_2016-11-01_REAJUSTE_(PCATAME2016).xlsx\" foi baixado com sucesso\n",
      "['PCAT_AME_2017-11-01_REAJUSTE_(PCATAME2017).xlsx'\n",
      " 'https://www2.aneel.gov.br/aplicacoes/tarifa/arquivo/PCAT_AmE_2017.xlsx']\n",
      "Arquivo: \"PCAT_AME_2016-11-01_REAJUSTE_(PCATAME2016).xlsx\" foi baixado com sucesso\n",
      "['PCAT_AME_2017-11-01_REAJUSTE_(PCATAME2017).xlsx'\n",
      " 'https://www2.aneel.gov.br/aplicacoes/tarifa/arquivo/PCAT_AmE_2017.xlsx']\n"
     ]
    },
    {
     "name": "stderr",
     "output_type": "stream",
     "text": [
      "D:\\python_projects\\cpfl\\web_scrapper\\venv_scraper\\lib\\site-packages\\urllib3\\connectionpool.py:1043: InsecureRequestWarning: Unverified HTTPS request is being made to host 'www2.aneel.gov.br'. Adding certificate verification is strongly advised. See: https://urllib3.readthedocs.io/en/1.26.x/advanced-usage.html#ssl-warnings\n",
      "  warnings.warn(\n",
      "D:\\python_projects\\cpfl\\web_scrapper\\venv_scraper\\lib\\site-packages\\urllib3\\connectionpool.py:1043: InsecureRequestWarning: Unverified HTTPS request is being made to host 'www2.aneel.gov.br'. Adding certificate verification is strongly advised. See: https://urllib3.readthedocs.io/en/1.26.x/advanced-usage.html#ssl-warnings\n",
      "  warnings.warn(\n"
     ]
    },
    {
     "name": "stdout",
     "output_type": "stream",
     "text": [
      "Arquivo: \"PCAT_AME_2017-11-01_REAJUSTE_(PCATAME2017).xlsx\" foi baixado com sucesso\n",
      "['PCAT_AME_2018-11-01_REAJUSTE_(PCATAME2018).xlsx'\n",
      " 'https://www2.aneel.gov.br/aplicacoes/tarifa/arquivo/PCAT_AmE_2018 .xlsx']\n",
      "Arquivo: \"PCAT_AME_2017-11-01_REAJUSTE_(PCATAME2017).xlsx\" foi baixado com sucesso\n",
      "['PCAT_AME_2018-11-01_REAJUSTE_(PCATAME2018).xlsx'\n",
      " 'https://www2.aneel.gov.br/aplicacoes/tarifa/arquivo/PCAT_AmE_2018 .xlsx']\n"
     ]
    },
    {
     "name": "stderr",
     "output_type": "stream",
     "text": [
      "D:\\python_projects\\cpfl\\web_scrapper\\venv_scraper\\lib\\site-packages\\urllib3\\connectionpool.py:1043: InsecureRequestWarning: Unverified HTTPS request is being made to host 'www2.aneel.gov.br'. Adding certificate verification is strongly advised. See: https://urllib3.readthedocs.io/en/1.26.x/advanced-usage.html#ssl-warnings\n",
      "  warnings.warn(\n",
      "D:\\python_projects\\cpfl\\web_scrapper\\venv_scraper\\lib\\site-packages\\urllib3\\connectionpool.py:1043: InsecureRequestWarning: Unverified HTTPS request is being made to host 'www2.aneel.gov.br'. Adding certificate verification is strongly advised. See: https://urllib3.readthedocs.io/en/1.26.x/advanced-usage.html#ssl-warnings\n",
      "  warnings.warn(\n"
     ]
    },
    {
     "name": "stdout",
     "output_type": "stream",
     "text": [
      "Arquivo: \"PCAT_AME_2018-11-01_REAJUSTE_(PCATAME2018).xlsx\" foi baixado com sucesso\n",
      "['PCAT_AME_2019-11-01_REAJUSTE_(7019PCATAME2019V02).xlsx'\n",
      " 'https://www2.aneel.gov.br/aplicacoes/tarifa/arquivo/7019 PCAT AmE 2019 V02.xlsx']\n",
      "Arquivo: \"PCAT_AME_2018-11-01_REAJUSTE_(PCATAME2018).xlsx\" foi baixado com sucesso\n",
      "['PCAT_AME_2019-11-01_REAJUSTE_(7019PCATAME2019V02).xlsx'\n",
      " 'https://www2.aneel.gov.br/aplicacoes/tarifa/arquivo/7019 PCAT AmE 2019 V02.xlsx']\n"
     ]
    },
    {
     "name": "stderr",
     "output_type": "stream",
     "text": [
      "D:\\python_projects\\cpfl\\web_scrapper\\venv_scraper\\lib\\site-packages\\urllib3\\connectionpool.py:1043: InsecureRequestWarning: Unverified HTTPS request is being made to host 'www2.aneel.gov.br'. Adding certificate verification is strongly advised. See: https://urllib3.readthedocs.io/en/1.26.x/advanced-usage.html#ssl-warnings\n",
      "  warnings.warn(\n",
      "D:\\python_projects\\cpfl\\web_scrapper\\venv_scraper\\lib\\site-packages\\urllib3\\connectionpool.py:1043: InsecureRequestWarning: Unverified HTTPS request is being made to host 'www2.aneel.gov.br'. Adding certificate verification is strongly advised. See: https://urllib3.readthedocs.io/en/1.26.x/advanced-usage.html#ssl-warnings\n",
      "  warnings.warn(\n"
     ]
    },
    {
     "name": "stdout",
     "output_type": "stream",
     "text": [
      "Arquivo: \"PCAT_AME_2019-11-01_REAJUSTE_(7019PCATAME2019V02).xlsx\" foi baixado com sucesso\n",
      "['PCAT_AME_2020-11-01_REVISAO_(7019PCATAME2020V02).xlsx'\n",
      " 'https://www2.aneel.gov.br/aplicacoes/tarifa/arquivo/7019 PCAT AmE 2020 V02.xlsx']\n",
      "Arquivo: \"PCAT_AME_2019-11-01_REAJUSTE_(7019PCATAME2019V02).xlsx\" foi baixado com sucesso\n",
      "['PCAT_AME_2020-11-01_REVISAO_(7019PCATAME2020V02).xlsx'\n",
      " 'https://www2.aneel.gov.br/aplicacoes/tarifa/arquivo/7019 PCAT AmE 2020 V02.xlsx']\n"
     ]
    },
    {
     "name": "stderr",
     "output_type": "stream",
     "text": [
      "D:\\python_projects\\cpfl\\web_scrapper\\venv_scraper\\lib\\site-packages\\urllib3\\connectionpool.py:1043: InsecureRequestWarning: Unverified HTTPS request is being made to host 'www2.aneel.gov.br'. Adding certificate verification is strongly advised. See: https://urllib3.readthedocs.io/en/1.26.x/advanced-usage.html#ssl-warnings\n",
      "  warnings.warn(\n",
      "D:\\python_projects\\cpfl\\web_scrapper\\venv_scraper\\lib\\site-packages\\urllib3\\connectionpool.py:1043: InsecureRequestWarning: Unverified HTTPS request is being made to host 'www2.aneel.gov.br'. Adding certificate verification is strongly advised. See: https://urllib3.readthedocs.io/en/1.26.x/advanced-usage.html#ssl-warnings\n",
      "  warnings.warn(\n"
     ]
    },
    {
     "name": "stdout",
     "output_type": "stream",
     "text": [
      "Arquivo: \"PCAT_AME_2020-11-01_REVISAO_(7019PCATAME2020V02).xlsx\" foi baixado com sucesso\n",
      "['PCAT_BOAVISTA_2014-11-01_REAJUSTE_(PCATBOAVISTA2014).xlsx'\n",
      " 'https://www2.aneel.gov.br/aplicacoes/tarifa/arquivo/PCAT_BOA_VISTA_2014.xlsx']\n",
      "Arquivo: \"PCAT_AME_2020-11-01_REVISAO_(7019PCATAME2020V02).xlsx\" foi baixado com sucesso\n",
      "['PCAT_BOAVISTA_2014-11-01_REAJUSTE_(PCATBOAVISTA2014).xlsx'\n",
      " 'https://www2.aneel.gov.br/aplicacoes/tarifa/arquivo/PCAT_BOA_VISTA_2014.xlsx']\n"
     ]
    },
    {
     "name": "stderr",
     "output_type": "stream",
     "text": [
      "D:\\python_projects\\cpfl\\web_scrapper\\venv_scraper\\lib\\site-packages\\urllib3\\connectionpool.py:1043: InsecureRequestWarning: Unverified HTTPS request is being made to host 'www2.aneel.gov.br'. Adding certificate verification is strongly advised. See: https://urllib3.readthedocs.io/en/1.26.x/advanced-usage.html#ssl-warnings\n",
      "  warnings.warn(\n",
      "D:\\python_projects\\cpfl\\web_scrapper\\venv_scraper\\lib\\site-packages\\urllib3\\connectionpool.py:1043: InsecureRequestWarning: Unverified HTTPS request is being made to host 'www2.aneel.gov.br'. Adding certificate verification is strongly advised. See: https://urllib3.readthedocs.io/en/1.26.x/advanced-usage.html#ssl-warnings\n",
      "  warnings.warn(\n"
     ]
    },
    {
     "name": "stdout",
     "output_type": "stream",
     "text": [
      "Arquivo: \"PCAT_BOAVISTA_2014-11-01_REAJUSTE_(PCATBOAVISTA2014).xlsx\" foi baixado com sucesso\n",
      "['PCAT_BOAVISTA_2015-11-01_REAJUSTE_(PCATBOAVISTA2015).xlsx'\n",
      " 'https://www2.aneel.gov.br/aplicacoes/tarifa/arquivo/PCAT_BoaVista_2015.xlsx']\n",
      "Arquivo: \"PCAT_BOAVISTA_2014-11-01_REAJUSTE_(PCATBOAVISTA2014).xlsx\" foi baixado com sucesso\n",
      "['PCAT_BOAVISTA_2015-11-01_REAJUSTE_(PCATBOAVISTA2015).xlsx'\n",
      " 'https://www2.aneel.gov.br/aplicacoes/tarifa/arquivo/PCAT_BoaVista_2015.xlsx']\n"
     ]
    },
    {
     "name": "stderr",
     "output_type": "stream",
     "text": [
      "D:\\python_projects\\cpfl\\web_scrapper\\venv_scraper\\lib\\site-packages\\urllib3\\connectionpool.py:1043: InsecureRequestWarning: Unverified HTTPS request is being made to host 'www2.aneel.gov.br'. Adding certificate verification is strongly advised. See: https://urllib3.readthedocs.io/en/1.26.x/advanced-usage.html#ssl-warnings\n",
      "  warnings.warn(\n",
      "D:\\python_projects\\cpfl\\web_scrapper\\venv_scraper\\lib\\site-packages\\urllib3\\connectionpool.py:1043: InsecureRequestWarning: Unverified HTTPS request is being made to host 'www2.aneel.gov.br'. Adding certificate verification is strongly advised. See: https://urllib3.readthedocs.io/en/1.26.x/advanced-usage.html#ssl-warnings\n",
      "  warnings.warn(\n"
     ]
    },
    {
     "name": "stdout",
     "output_type": "stream",
     "text": [
      "Arquivo: \"PCAT_BOAVISTA_2015-11-01_REAJUSTE_(PCATBOAVISTA2015).xlsx\" foi baixado com sucesso\n",
      "['PCAT_BOAVISTA_2016-11-01_REAJUSTE_(PCATBOAVISTA2016).xlsx'\n",
      " 'https://www2.aneel.gov.br/aplicacoes/tarifa/arquivo/PCAT_Boa_Vista_2016.xlsx']\n",
      "Arquivo: \"PCAT_BOAVISTA_2015-11-01_REAJUSTE_(PCATBOAVISTA2015).xlsx\" foi baixado com sucesso\n",
      "['PCAT_BOAVISTA_2016-11-01_REAJUSTE_(PCATBOAVISTA2016).xlsx'\n",
      " 'https://www2.aneel.gov.br/aplicacoes/tarifa/arquivo/PCAT_Boa_Vista_2016.xlsx']\n"
     ]
    },
    {
     "name": "stderr",
     "output_type": "stream",
     "text": [
      "D:\\python_projects\\cpfl\\web_scrapper\\venv_scraper\\lib\\site-packages\\urllib3\\connectionpool.py:1043: InsecureRequestWarning: Unverified HTTPS request is being made to host 'www2.aneel.gov.br'. Adding certificate verification is strongly advised. See: https://urllib3.readthedocs.io/en/1.26.x/advanced-usage.html#ssl-warnings\n",
      "  warnings.warn(\n",
      "D:\\python_projects\\cpfl\\web_scrapper\\venv_scraper\\lib\\site-packages\\urllib3\\connectionpool.py:1043: InsecureRequestWarning: Unverified HTTPS request is being made to host 'www2.aneel.gov.br'. Adding certificate verification is strongly advised. See: https://urllib3.readthedocs.io/en/1.26.x/advanced-usage.html#ssl-warnings\n",
      "  warnings.warn(\n"
     ]
    },
    {
     "name": "stdout",
     "output_type": "stream",
     "text": [
      "Arquivo: \"PCAT_BOAVISTA_2016-11-01_REAJUSTE_(PCATBOAVISTA2016).xlsx\" foi baixado com sucesso\n",
      "['PCAT_BOAVISTA_2017-11-01_REAJUSTE_(PCATBOAVISTA2017).xlsx'\n",
      " 'https://www2.aneel.gov.br/aplicacoes/tarifa/arquivo/PCAT_Boa_Vista_2017.xlsx']\n",
      "Arquivo: \"PCAT_BOAVISTA_2016-11-01_REAJUSTE_(PCATBOAVISTA2016).xlsx\" foi baixado com sucesso\n",
      "['PCAT_BOAVISTA_2017-11-01_REAJUSTE_(PCATBOAVISTA2017).xlsx'\n",
      " 'https://www2.aneel.gov.br/aplicacoes/tarifa/arquivo/PCAT_Boa_Vista_2017.xlsx']\n"
     ]
    },
    {
     "name": "stderr",
     "output_type": "stream",
     "text": [
      "D:\\python_projects\\cpfl\\web_scrapper\\venv_scraper\\lib\\site-packages\\urllib3\\connectionpool.py:1043: InsecureRequestWarning: Unverified HTTPS request is being made to host 'www2.aneel.gov.br'. Adding certificate verification is strongly advised. See: https://urllib3.readthedocs.io/en/1.26.x/advanced-usage.html#ssl-warnings\n",
      "  warnings.warn(\n",
      "D:\\python_projects\\cpfl\\web_scrapper\\venv_scraper\\lib\\site-packages\\urllib3\\connectionpool.py:1043: InsecureRequestWarning: Unverified HTTPS request is being made to host 'www2.aneel.gov.br'. Adding certificate verification is strongly advised. See: https://urllib3.readthedocs.io/en/1.26.x/advanced-usage.html#ssl-warnings\n",
      "  warnings.warn(\n"
     ]
    },
    {
     "name": "stdout",
     "output_type": "stream",
     "text": [
      "Arquivo: \"PCAT_BOAVISTA_2017-11-01_REAJUSTE_(PCATBOAVISTA2017).xlsx\" foi baixado com sucesso\n",
      "['PCAT_BOAVISTA_2018-11-01_REAJUSTE_(PCATBOAVISTA2018).xlsx'\n",
      " 'https://www2.aneel.gov.br/aplicacoes/tarifa/arquivo/PCAT_Boa_Vista_2018 .xlsx']\n",
      "Arquivo: \"PCAT_BOAVISTA_2017-11-01_REAJUSTE_(PCATBOAVISTA2017).xlsx\" foi baixado com sucesso\n",
      "['PCAT_BOAVISTA_2018-11-01_REAJUSTE_(PCATBOAVISTA2018).xlsx'\n",
      " 'https://www2.aneel.gov.br/aplicacoes/tarifa/arquivo/PCAT_Boa_Vista_2018 .xlsx']\n"
     ]
    },
    {
     "name": "stderr",
     "output_type": "stream",
     "text": [
      "D:\\python_projects\\cpfl\\web_scrapper\\venv_scraper\\lib\\site-packages\\urllib3\\connectionpool.py:1043: InsecureRequestWarning: Unverified HTTPS request is being made to host 'www2.aneel.gov.br'. Adding certificate verification is strongly advised. See: https://urllib3.readthedocs.io/en/1.26.x/advanced-usage.html#ssl-warnings\n",
      "  warnings.warn(\n",
      "D:\\python_projects\\cpfl\\web_scrapper\\venv_scraper\\lib\\site-packages\\urllib3\\connectionpool.py:1043: InsecureRequestWarning: Unverified HTTPS request is being made to host 'www2.aneel.gov.br'. Adding certificate verification is strongly advised. See: https://urllib3.readthedocs.io/en/1.26.x/advanced-usage.html#ssl-warnings\n",
      "  warnings.warn(\n"
     ]
    },
    {
     "name": "stdout",
     "output_type": "stream",
     "text": [
      "Arquivo: \"PCAT_BOAVISTA_2018-11-01_REAJUSTE_(PCATBOAVISTA2018).xlsx\" foi baixado com sucesso\n",
      "['PCAT_BOAVISTA_2019-11-01_REAJUSTE_(370PCATBOAVISTA2019V02).xlsx'\n",
      " 'https://www2.aneel.gov.br/aplicacoes/tarifa/arquivo/370 PCAT Boa Vista 2019 V02.xlsx']\n",
      "Arquivo: \"PCAT_BOAVISTA_2018-11-01_REAJUSTE_(PCATBOAVISTA2018).xlsx\" foi baixado com sucesso\n",
      "['PCAT_BOAVISTA_2019-11-01_REAJUSTE_(370PCATBOAVISTA2019V02).xlsx'\n",
      " 'https://www2.aneel.gov.br/aplicacoes/tarifa/arquivo/370 PCAT Boa Vista 2019 V02.xlsx']\n"
     ]
    },
    {
     "name": "stderr",
     "output_type": "stream",
     "text": [
      "D:\\python_projects\\cpfl\\web_scrapper\\venv_scraper\\lib\\site-packages\\urllib3\\connectionpool.py:1043: InsecureRequestWarning: Unverified HTTPS request is being made to host 'www2.aneel.gov.br'. Adding certificate verification is strongly advised. See: https://urllib3.readthedocs.io/en/1.26.x/advanced-usage.html#ssl-warnings\n",
      "  warnings.warn(\n",
      "D:\\python_projects\\cpfl\\web_scrapper\\venv_scraper\\lib\\site-packages\\urllib3\\connectionpool.py:1043: InsecureRequestWarning: Unverified HTTPS request is being made to host 'www2.aneel.gov.br'. Adding certificate verification is strongly advised. See: https://urllib3.readthedocs.io/en/1.26.x/advanced-usage.html#ssl-warnings\n",
      "  warnings.warn(\n"
     ]
    },
    {
     "name": "stdout",
     "output_type": "stream",
     "text": [
      "Arquivo: \"PCAT_BOAVISTA_2019-11-01_REAJUSTE_(370PCATBOAVISTA2019V02).xlsx\" foi baixado com sucesso\n",
      "['PCAT_BOAVISTA_2020-11-01_REVISAOEXTRAORDINARIA_(370PCATRORAIMAENERGIA2020V02).xlsx'\n",
      " 'https://www2.aneel.gov.br/aplicacoes/tarifa/arquivo/370 PCAT Roraima Energia 2020 V02.xlsx']\n",
      "Arquivo: \"PCAT_BOAVISTA_2019-11-01_REAJUSTE_(370PCATBOAVISTA2019V02).xlsx\" foi baixado com sucesso\n",
      "['PCAT_BOAVISTA_2020-11-01_REVISAOEXTRAORDINARIA_(370PCATRORAIMAENERGIA2020V02).xlsx'\n",
      " 'https://www2.aneel.gov.br/aplicacoes/tarifa/arquivo/370 PCAT Roraima Energia 2020 V02.xlsx']\n"
     ]
    },
    {
     "name": "stderr",
     "output_type": "stream",
     "text": [
      "D:\\python_projects\\cpfl\\web_scrapper\\venv_scraper\\lib\\site-packages\\urllib3\\connectionpool.py:1043: InsecureRequestWarning: Unverified HTTPS request is being made to host 'www2.aneel.gov.br'. Adding certificate verification is strongly advised. See: https://urllib3.readthedocs.io/en/1.26.x/advanced-usage.html#ssl-warnings\n",
      "  warnings.warn(\n",
      "D:\\python_projects\\cpfl\\web_scrapper\\venv_scraper\\lib\\site-packages\\urllib3\\connectionpool.py:1043: InsecureRequestWarning: Unverified HTTPS request is being made to host 'www2.aneel.gov.br'. Adding certificate verification is strongly advised. See: https://urllib3.readthedocs.io/en/1.26.x/advanced-usage.html#ssl-warnings\n",
      "  warnings.warn(\n"
     ]
    },
    {
     "name": "stdout",
     "output_type": "stream",
     "text": [
      "Arquivo: \"PCAT_BOAVISTA_2020-11-01_REVISAOEXTRAORDINARIA_(370PCATRORAIMAENERGIA2020V02).xlsx\" foi baixado com sucesso\n",
      "['PCAT_CEA_2013-11-30_REAJUSTE_(PCATCEEE20131).xlsx'\n",
      " 'https://www2.aneel.gov.br/aplicacoes/tarifa/arquivo/PCAT_CEEE_20131.xlsx']\n",
      "Arquivo: \"PCAT_BOAVISTA_2020-11-01_REVISAOEXTRAORDINARIA_(370PCATRORAIMAENERGIA2020V02).xlsx\" foi baixado com sucesso\n",
      "['PCAT_CEA_2013-11-30_REAJUSTE_(PCATCEEE20131).xlsx'\n",
      " 'https://www2.aneel.gov.br/aplicacoes/tarifa/arquivo/PCAT_CEEE_20131.xlsx']\n"
     ]
    },
    {
     "name": "stderr",
     "output_type": "stream",
     "text": [
      "D:\\python_projects\\cpfl\\web_scrapper\\venv_scraper\\lib\\site-packages\\urllib3\\connectionpool.py:1043: InsecureRequestWarning: Unverified HTTPS request is being made to host 'www2.aneel.gov.br'. Adding certificate verification is strongly advised. See: https://urllib3.readthedocs.io/en/1.26.x/advanced-usage.html#ssl-warnings\n",
      "  warnings.warn(\n",
      "D:\\python_projects\\cpfl\\web_scrapper\\venv_scraper\\lib\\site-packages\\urllib3\\connectionpool.py:1043: InsecureRequestWarning: Unverified HTTPS request is being made to host 'www2.aneel.gov.br'. Adding certificate verification is strongly advised. See: https://urllib3.readthedocs.io/en/1.26.x/advanced-usage.html#ssl-warnings\n",
      "  warnings.warn(\n"
     ]
    },
    {
     "name": "stdout",
     "output_type": "stream",
     "text": [
      "Arquivo: \"PCAT_CEA_2013-11-30_REAJUSTE_(PCATCEEE20131).xlsx\" foi baixado com sucesso\n",
      "['PCAT_CEA_2014-11-30_REAJUSTE_(PCATCEA2014).xlsx'\n",
      " 'https://www2.aneel.gov.br/aplicacoes/tarifa/arquivo/PCAT_CEA_ 2014 .xlsx']\n",
      "Arquivo: \"PCAT_CEA_2013-11-30_REAJUSTE_(PCATCEEE20131).xlsx\" foi baixado com sucesso\n",
      "['PCAT_CEA_2014-11-30_REAJUSTE_(PCATCEA2014).xlsx'\n",
      " 'https://www2.aneel.gov.br/aplicacoes/tarifa/arquivo/PCAT_CEA_ 2014 .xlsx']\n"
     ]
    },
    {
     "name": "stderr",
     "output_type": "stream",
     "text": [
      "D:\\python_projects\\cpfl\\web_scrapper\\venv_scraper\\lib\\site-packages\\urllib3\\connectionpool.py:1043: InsecureRequestWarning: Unverified HTTPS request is being made to host 'www2.aneel.gov.br'. Adding certificate verification is strongly advised. See: https://urllib3.readthedocs.io/en/1.26.x/advanced-usage.html#ssl-warnings\n",
      "  warnings.warn(\n",
      "D:\\python_projects\\cpfl\\web_scrapper\\venv_scraper\\lib\\site-packages\\urllib3\\connectionpool.py:1043: InsecureRequestWarning: Unverified HTTPS request is being made to host 'www2.aneel.gov.br'. Adding certificate verification is strongly advised. See: https://urllib3.readthedocs.io/en/1.26.x/advanced-usage.html#ssl-warnings\n",
      "  warnings.warn(\n"
     ]
    },
    {
     "name": "stdout",
     "output_type": "stream",
     "text": [
      "Arquivo: \"PCAT_CEA_2014-11-30_REAJUSTE_(PCATCEA2014).xlsx\" foi baixado com sucesso\n",
      "['PCAT_CEA_2015-11-30_REAJUSTE_(PCATCEA2015).xlsx'\n",
      " 'https://www2.aneel.gov.br/aplicacoes/tarifa/arquivo/PCAT_CEA_2015.xlsx']\n",
      "Arquivo: \"PCAT_CEA_2014-11-30_REAJUSTE_(PCATCEA2014).xlsx\" foi baixado com sucesso\n",
      "['PCAT_CEA_2015-11-30_REAJUSTE_(PCATCEA2015).xlsx'\n",
      " 'https://www2.aneel.gov.br/aplicacoes/tarifa/arquivo/PCAT_CEA_2015.xlsx']\n"
     ]
    },
    {
     "name": "stderr",
     "output_type": "stream",
     "text": [
      "D:\\python_projects\\cpfl\\web_scrapper\\venv_scraper\\lib\\site-packages\\urllib3\\connectionpool.py:1043: InsecureRequestWarning: Unverified HTTPS request is being made to host 'www2.aneel.gov.br'. Adding certificate verification is strongly advised. See: https://urllib3.readthedocs.io/en/1.26.x/advanced-usage.html#ssl-warnings\n",
      "  warnings.warn(\n",
      "D:\\python_projects\\cpfl\\web_scrapper\\venv_scraper\\lib\\site-packages\\urllib3\\connectionpool.py:1043: InsecureRequestWarning: Unverified HTTPS request is being made to host 'www2.aneel.gov.br'. Adding certificate verification is strongly advised. See: https://urllib3.readthedocs.io/en/1.26.x/advanced-usage.html#ssl-warnings\n",
      "  warnings.warn(\n"
     ]
    },
    {
     "name": "stdout",
     "output_type": "stream",
     "text": [
      "Arquivo: \"PCAT_CEA_2015-11-30_REAJUSTE_(PCATCEA2015).xlsx\" foi baixado com sucesso\n",
      "['PCAT_CEA_2016-11-30_REAJUSTE_(PCATCEA2016).xlsx'\n",
      " 'https://www2.aneel.gov.br/aplicacoes/tarifa/arquivo/PCAT_CEA_2016.xlsx']\n",
      "Arquivo: \"PCAT_CEA_2015-11-30_REAJUSTE_(PCATCEA2015).xlsx\" foi baixado com sucesso\n",
      "['PCAT_CEA_2016-11-30_REAJUSTE_(PCATCEA2016).xlsx'\n",
      " 'https://www2.aneel.gov.br/aplicacoes/tarifa/arquivo/PCAT_CEA_2016.xlsx']\n"
     ]
    },
    {
     "name": "stderr",
     "output_type": "stream",
     "text": [
      "D:\\python_projects\\cpfl\\web_scrapper\\venv_scraper\\lib\\site-packages\\urllib3\\connectionpool.py:1043: InsecureRequestWarning: Unverified HTTPS request is being made to host 'www2.aneel.gov.br'. Adding certificate verification is strongly advised. See: https://urllib3.readthedocs.io/en/1.26.x/advanced-usage.html#ssl-warnings\n",
      "  warnings.warn(\n",
      "D:\\python_projects\\cpfl\\web_scrapper\\venv_scraper\\lib\\site-packages\\urllib3\\connectionpool.py:1043: InsecureRequestWarning: Unverified HTTPS request is being made to host 'www2.aneel.gov.br'. Adding certificate verification is strongly advised. See: https://urllib3.readthedocs.io/en/1.26.x/advanced-usage.html#ssl-warnings\n",
      "  warnings.warn(\n"
     ]
    },
    {
     "name": "stdout",
     "output_type": "stream",
     "text": [
      "Arquivo: \"PCAT_CEA_2016-11-30_REAJUSTE_(PCATCEA2016).xlsx\" foi baixado com sucesso\n",
      "['PCAT_CEA_2017-11-30_REVISAO_(PCATCEA2017).xlsx'\n",
      " 'https://www2.aneel.gov.br/aplicacoes/tarifa/arquivo/PCAT_CEA_2017.xlsx']\n",
      "Arquivo: \"PCAT_CEA_2016-11-30_REAJUSTE_(PCATCEA2016).xlsx\" foi baixado com sucesso\n",
      "['PCAT_CEA_2017-11-30_REVISAO_(PCATCEA2017).xlsx'\n",
      " 'https://www2.aneel.gov.br/aplicacoes/tarifa/arquivo/PCAT_CEA_2017.xlsx']\n"
     ]
    },
    {
     "name": "stderr",
     "output_type": "stream",
     "text": [
      "D:\\python_projects\\cpfl\\web_scrapper\\venv_scraper\\lib\\site-packages\\urllib3\\connectionpool.py:1043: InsecureRequestWarning: Unverified HTTPS request is being made to host 'www2.aneel.gov.br'. Adding certificate verification is strongly advised. See: https://urllib3.readthedocs.io/en/1.26.x/advanced-usage.html#ssl-warnings\n",
      "  warnings.warn(\n",
      "D:\\python_projects\\cpfl\\web_scrapper\\venv_scraper\\lib\\site-packages\\urllib3\\connectionpool.py:1043: InsecureRequestWarning: Unverified HTTPS request is being made to host 'www2.aneel.gov.br'. Adding certificate verification is strongly advised. See: https://urllib3.readthedocs.io/en/1.26.x/advanced-usage.html#ssl-warnings\n",
      "  warnings.warn(\n"
     ]
    },
    {
     "name": "stdout",
     "output_type": "stream",
     "text": [
      "Arquivo: \"PCAT_CEA_2017-11-30_REVISAO_(PCATCEA2017).xlsx\" foi baixado com sucesso\n",
      "['PCAT_CEA_2018-11-30_REAJUSTE_(PCATCEA2018).xlsx'\n",
      " 'https://www2.aneel.gov.br/aplicacoes/tarifa/arquivo/PCAT_CEA_2018 .xlsx']\n",
      "Arquivo: \"PCAT_CEA_2017-11-30_REVISAO_(PCATCEA2017).xlsx\" foi baixado com sucesso\n",
      "['PCAT_CEA_2018-11-30_REAJUSTE_(PCATCEA2018).xlsx'\n",
      " 'https://www2.aneel.gov.br/aplicacoes/tarifa/arquivo/PCAT_CEA_2018 .xlsx']\n"
     ]
    },
    {
     "name": "stderr",
     "output_type": "stream",
     "text": [
      "D:\\python_projects\\cpfl\\web_scrapper\\venv_scraper\\lib\\site-packages\\urllib3\\connectionpool.py:1043: InsecureRequestWarning: Unverified HTTPS request is being made to host 'www2.aneel.gov.br'. Adding certificate verification is strongly advised. See: https://urllib3.readthedocs.io/en/1.26.x/advanced-usage.html#ssl-warnings\n",
      "  warnings.warn(\n",
      "D:\\python_projects\\cpfl\\web_scrapper\\venv_scraper\\lib\\site-packages\\urllib3\\connectionpool.py:1043: InsecureRequestWarning: Unverified HTTPS request is being made to host 'www2.aneel.gov.br'. Adding certificate verification is strongly advised. See: https://urllib3.readthedocs.io/en/1.26.x/advanced-usage.html#ssl-warnings\n",
      "  warnings.warn(\n"
     ]
    },
    {
     "name": "stdout",
     "output_type": "stream",
     "text": [
      "Arquivo: \"PCAT_CEA_2018-11-30_REAJUSTE_(PCATCEA2018).xlsx\" foi baixado com sucesso\n",
      "['PCAT_CEA_2019-11-30_REAJUSTE_(31PCATCEA2019V02).xlsx'\n",
      " 'https://www2.aneel.gov.br/aplicacoes/tarifa/arquivo/31 PCAT CEA 2019 V02.xlsx']\n",
      "Arquivo: \"PCAT_CEA_2018-11-30_REAJUSTE_(PCATCEA2018).xlsx\" foi baixado com sucesso\n",
      "['PCAT_CEA_2019-11-30_REAJUSTE_(31PCATCEA2019V02).xlsx'\n",
      " 'https://www2.aneel.gov.br/aplicacoes/tarifa/arquivo/31 PCAT CEA 2019 V02.xlsx']\n"
     ]
    },
    {
     "name": "stderr",
     "output_type": "stream",
     "text": [
      "D:\\python_projects\\cpfl\\web_scrapper\\venv_scraper\\lib\\site-packages\\urllib3\\connectionpool.py:1043: InsecureRequestWarning: Unverified HTTPS request is being made to host 'www2.aneel.gov.br'. Adding certificate verification is strongly advised. See: https://urllib3.readthedocs.io/en/1.26.x/advanced-usage.html#ssl-warnings\n",
      "  warnings.warn(\n",
      "D:\\python_projects\\cpfl\\web_scrapper\\venv_scraper\\lib\\site-packages\\urllib3\\connectionpool.py:1043: InsecureRequestWarning: Unverified HTTPS request is being made to host 'www2.aneel.gov.br'. Adding certificate verification is strongly advised. See: https://urllib3.readthedocs.io/en/1.26.x/advanced-usage.html#ssl-warnings\n",
      "  warnings.warn(\n"
     ]
    },
    {
     "name": "stdout",
     "output_type": "stream",
     "text": [
      "Arquivo: \"PCAT_CEA_2019-11-30_REAJUSTE_(31PCATCEA2019V02).xlsx\" foi baixado com sucesso\n",
      "['PCAT_CEA_2020-11-30_REAJUSTE_(31PCATCEA2020V02).xlsx'\n",
      " 'https://www2.aneel.gov.br/aplicacoes/tarifa/arquivo/31 PCAT CEA 2020 V02.xlsx']\n",
      "Arquivo: \"PCAT_CEA_2019-11-30_REAJUSTE_(31PCATCEA2019V02).xlsx\" foi baixado com sucesso\n",
      "['PCAT_CEA_2020-11-30_REAJUSTE_(31PCATCEA2020V02).xlsx'\n",
      " 'https://www2.aneel.gov.br/aplicacoes/tarifa/arquivo/31 PCAT CEA 2020 V02.xlsx']\n"
     ]
    },
    {
     "name": "stderr",
     "output_type": "stream",
     "text": [
      "D:\\python_projects\\cpfl\\web_scrapper\\venv_scraper\\lib\\site-packages\\urllib3\\connectionpool.py:1043: InsecureRequestWarning: Unverified HTTPS request is being made to host 'www2.aneel.gov.br'. Adding certificate verification is strongly advised. See: https://urllib3.readthedocs.io/en/1.26.x/advanced-usage.html#ssl-warnings\n",
      "  warnings.warn(\n",
      "D:\\python_projects\\cpfl\\web_scrapper\\venv_scraper\\lib\\site-packages\\urllib3\\connectionpool.py:1043: InsecureRequestWarning: Unverified HTTPS request is being made to host 'www2.aneel.gov.br'. Adding certificate verification is strongly advised. See: https://urllib3.readthedocs.io/en/1.26.x/advanced-usage.html#ssl-warnings\n",
      "  warnings.warn(\n"
     ]
    },
    {
     "name": "stdout",
     "output_type": "stream",
     "text": [
      "Arquivo: \"PCAT_CEA_2020-11-30_REAJUSTE_(31PCATCEA2020V02).xlsx\" foi baixado com sucesso\n",
      "['PCAT_CEBDIS_2013-01-24_REVISAOEXTRAORDINARIA_(PCATCEBDIS2013).xlsx'\n",
      " 'https://www2.aneel.gov.br/aplicacoes/tarifa/arquivo/PCAT_CEB-DIS_2013.xlsx']\n",
      "Arquivo: \"PCAT_CEA_2020-11-30_REAJUSTE_(31PCATCEA2020V02).xlsx\" foi baixado com sucesso\n",
      "['PCAT_CEBDIS_2013-01-24_REVISAOEXTRAORDINARIA_(PCATCEBDIS2013).xlsx'\n",
      " 'https://www2.aneel.gov.br/aplicacoes/tarifa/arquivo/PCAT_CEB-DIS_2013.xlsx']\n"
     ]
    },
    {
     "name": "stderr",
     "output_type": "stream",
     "text": [
      "D:\\python_projects\\cpfl\\web_scrapper\\venv_scraper\\lib\\site-packages\\urllib3\\connectionpool.py:1043: InsecureRequestWarning: Unverified HTTPS request is being made to host 'www2.aneel.gov.br'. Adding certificate verification is strongly advised. See: https://urllib3.readthedocs.io/en/1.26.x/advanced-usage.html#ssl-warnings\n",
      "  warnings.warn(\n",
      "D:\\python_projects\\cpfl\\web_scrapper\\venv_scraper\\lib\\site-packages\\urllib3\\connectionpool.py:1043: InsecureRequestWarning: Unverified HTTPS request is being made to host 'www2.aneel.gov.br'. Adding certificate verification is strongly advised. See: https://urllib3.readthedocs.io/en/1.26.x/advanced-usage.html#ssl-warnings\n",
      "  warnings.warn(\n"
     ]
    },
    {
     "name": "stdout",
     "output_type": "stream",
     "text": [
      "Arquivo: \"PCAT_CEBDIS_2013-01-24_REVISAOEXTRAORDINARIA_(PCATCEBDIS2013).xlsx\" foi baixado com sucesso\n",
      "['PCAT_CEBDIS_2014-08-20_REAJUSTE_(PCATCEB2014CAT).xlsx'\n",
      " 'https://www2.aneel.gov.br/aplicacoes/tarifa/arquivo/PCAT_CEB_2014_CAT.xlsx']\n",
      "Arquivo: \"PCAT_CEBDIS_2013-01-24_REVISAOEXTRAORDINARIA_(PCATCEBDIS2013).xlsx\" foi baixado com sucesso\n",
      "['PCAT_CEBDIS_2014-08-20_REAJUSTE_(PCATCEB2014CAT).xlsx'\n",
      " 'https://www2.aneel.gov.br/aplicacoes/tarifa/arquivo/PCAT_CEB_2014_CAT.xlsx']\n"
     ]
    },
    {
     "name": "stderr",
     "output_type": "stream",
     "text": [
      "D:\\python_projects\\cpfl\\web_scrapper\\venv_scraper\\lib\\site-packages\\urllib3\\connectionpool.py:1043: InsecureRequestWarning: Unverified HTTPS request is being made to host 'www2.aneel.gov.br'. Adding certificate verification is strongly advised. See: https://urllib3.readthedocs.io/en/1.26.x/advanced-usage.html#ssl-warnings\n",
      "  warnings.warn(\n",
      "D:\\python_projects\\cpfl\\web_scrapper\\venv_scraper\\lib\\site-packages\\urllib3\\connectionpool.py:1043: InsecureRequestWarning: Unverified HTTPS request is being made to host 'www2.aneel.gov.br'. Adding certificate verification is strongly advised. See: https://urllib3.readthedocs.io/en/1.26.x/advanced-usage.html#ssl-warnings\n",
      "  warnings.warn(\n"
     ]
    },
    {
     "name": "stdout",
     "output_type": "stream",
     "text": [
      "Arquivo: \"PCAT_CEBDIS_2014-08-20_REAJUSTE_(PCATCEB2014CAT).xlsx\" foi baixado com sucesso\n",
      "['PCAT_CEBDIS_2015-08-26_REAJUSTE_(PCATCEBDIS2015).xlsx'\n",
      " 'https://www2.aneel.gov.br/aplicacoes/tarifa/arquivo/PCAT_CEB-DIS_2015.xlsx']\n",
      "Arquivo: \"PCAT_CEBDIS_2014-08-20_REAJUSTE_(PCATCEB2014CAT).xlsx\" foi baixado com sucesso\n",
      "['PCAT_CEBDIS_2015-08-26_REAJUSTE_(PCATCEBDIS2015).xlsx'\n",
      " 'https://www2.aneel.gov.br/aplicacoes/tarifa/arquivo/PCAT_CEB-DIS_2015.xlsx']\n"
     ]
    },
    {
     "name": "stderr",
     "output_type": "stream",
     "text": [
      "D:\\python_projects\\cpfl\\web_scrapper\\venv_scraper\\lib\\site-packages\\urllib3\\connectionpool.py:1043: InsecureRequestWarning: Unverified HTTPS request is being made to host 'www2.aneel.gov.br'. Adding certificate verification is strongly advised. See: https://urllib3.readthedocs.io/en/1.26.x/advanced-usage.html#ssl-warnings\n",
      "  warnings.warn(\n",
      "D:\\python_projects\\cpfl\\web_scrapper\\venv_scraper\\lib\\site-packages\\urllib3\\connectionpool.py:1043: InsecureRequestWarning: Unverified HTTPS request is being made to host 'www2.aneel.gov.br'. Adding certificate verification is strongly advised. See: https://urllib3.readthedocs.io/en/1.26.x/advanced-usage.html#ssl-warnings\n",
      "  warnings.warn(\n"
     ]
    },
    {
     "name": "stdout",
     "output_type": "stream",
     "text": [
      "Arquivo: \"PCAT_CEBDIS_2015-08-26_REAJUSTE_(PCATCEBDIS2015).xlsx\" foi baixado com sucesso\n",
      "['PCAT_CEBDIS_2015-03-02_REVISAOEXTRAORDINARIA_(PCATCEB2014CAT1).xlsx'\n",
      " 'https://www2.aneel.gov.br/aplicacoes/tarifa/arquivo/PCAT_CEB_2014_CAT1.xlsx']\n",
      "Arquivo: \"PCAT_CEBDIS_2015-08-26_REAJUSTE_(PCATCEBDIS2015).xlsx\" foi baixado com sucesso\n",
      "['PCAT_CEBDIS_2015-03-02_REVISAOEXTRAORDINARIA_(PCATCEB2014CAT1).xlsx'\n",
      " 'https://www2.aneel.gov.br/aplicacoes/tarifa/arquivo/PCAT_CEB_2014_CAT1.xlsx']\n"
     ]
    },
    {
     "name": "stderr",
     "output_type": "stream",
     "text": [
      "D:\\python_projects\\cpfl\\web_scrapper\\venv_scraper\\lib\\site-packages\\urllib3\\connectionpool.py:1043: InsecureRequestWarning: Unverified HTTPS request is being made to host 'www2.aneel.gov.br'. Adding certificate verification is strongly advised. See: https://urllib3.readthedocs.io/en/1.26.x/advanced-usage.html#ssl-warnings\n",
      "  warnings.warn(\n",
      "D:\\python_projects\\cpfl\\web_scrapper\\venv_scraper\\lib\\site-packages\\urllib3\\connectionpool.py:1043: InsecureRequestWarning: Unverified HTTPS request is being made to host 'www2.aneel.gov.br'. Adding certificate verification is strongly advised. See: https://urllib3.readthedocs.io/en/1.26.x/advanced-usage.html#ssl-warnings\n",
      "  warnings.warn(\n"
     ]
    },
    {
     "name": "stdout",
     "output_type": "stream",
     "text": [
      "Arquivo: \"PCAT_CEBDIS_2015-03-02_REVISAOEXTRAORDINARIA_(PCATCEB2014CAT1).xlsx\" foi baixado com sucesso\n",
      "['PCAT_CEBDIS_2016-10-22_REVISAO_(PCATCEBDIS2016).xlsx'\n",
      " 'https://www2.aneel.gov.br/aplicacoes/tarifa/arquivo/PCAT_CEB-DIS_2016.xlsx']\n",
      "Arquivo: \"PCAT_CEBDIS_2015-03-02_REVISAOEXTRAORDINARIA_(PCATCEB2014CAT1).xlsx\" foi baixado com sucesso\n",
      "['PCAT_CEBDIS_2016-10-22_REVISAO_(PCATCEBDIS2016).xlsx'\n",
      " 'https://www2.aneel.gov.br/aplicacoes/tarifa/arquivo/PCAT_CEB-DIS_2016.xlsx']\n"
     ]
    },
    {
     "name": "stderr",
     "output_type": "stream",
     "text": [
      "D:\\python_projects\\cpfl\\web_scrapper\\venv_scraper\\lib\\site-packages\\urllib3\\connectionpool.py:1043: InsecureRequestWarning: Unverified HTTPS request is being made to host 'www2.aneel.gov.br'. Adding certificate verification is strongly advised. See: https://urllib3.readthedocs.io/en/1.26.x/advanced-usage.html#ssl-warnings\n",
      "  warnings.warn(\n",
      "D:\\python_projects\\cpfl\\web_scrapper\\venv_scraper\\lib\\site-packages\\urllib3\\connectionpool.py:1043: InsecureRequestWarning: Unverified HTTPS request is being made to host 'www2.aneel.gov.br'. Adding certificate verification is strongly advised. See: https://urllib3.readthedocs.io/en/1.26.x/advanced-usage.html#ssl-warnings\n",
      "  warnings.warn(\n"
     ]
    },
    {
     "name": "stdout",
     "output_type": "stream",
     "text": [
      "Arquivo: \"PCAT_CEBDIS_2016-10-22_REVISAO_(PCATCEBDIS2016).xlsx\" foi baixado com sucesso\n",
      "['PCAT_CEBDIS_2017-10-22_REAJUSTE_(PCATCEBDIS2017).xlsx'\n",
      " 'https://www2.aneel.gov.br/aplicacoes/tarifa/arquivo/PCAT_CEB-DIS_2017.xlsx']\n",
      "Arquivo: \"PCAT_CEBDIS_2016-10-22_REVISAO_(PCATCEBDIS2016).xlsx\" foi baixado com sucesso\n",
      "['PCAT_CEBDIS_2017-10-22_REAJUSTE_(PCATCEBDIS2017).xlsx'\n",
      " 'https://www2.aneel.gov.br/aplicacoes/tarifa/arquivo/PCAT_CEB-DIS_2017.xlsx']\n"
     ]
    },
    {
     "name": "stderr",
     "output_type": "stream",
     "text": [
      "D:\\python_projects\\cpfl\\web_scrapper\\venv_scraper\\lib\\site-packages\\urllib3\\connectionpool.py:1043: InsecureRequestWarning: Unverified HTTPS request is being made to host 'www2.aneel.gov.br'. Adding certificate verification is strongly advised. See: https://urllib3.readthedocs.io/en/1.26.x/advanced-usage.html#ssl-warnings\n",
      "  warnings.warn(\n",
      "D:\\python_projects\\cpfl\\web_scrapper\\venv_scraper\\lib\\site-packages\\urllib3\\connectionpool.py:1043: InsecureRequestWarning: Unverified HTTPS request is being made to host 'www2.aneel.gov.br'. Adding certificate verification is strongly advised. See: https://urllib3.readthedocs.io/en/1.26.x/advanced-usage.html#ssl-warnings\n",
      "  warnings.warn(\n"
     ]
    },
    {
     "name": "stdout",
     "output_type": "stream",
     "text": [
      "Arquivo: \"PCAT_CEBDIS_2017-10-22_REAJUSTE_(PCATCEBDIS2017).xlsx\" foi baixado com sucesso\n",
      "['PCAT_CEBDIS_2018-10-22_REAJUSTE_(PCATCEBDIS2018).xlsx'\n",
      " 'https://www2.aneel.gov.br/aplicacoes/tarifa/arquivo/PCAT_CEB-DIS_2018.xlsx']\n",
      "Arquivo: \"PCAT_CEBDIS_2017-10-22_REAJUSTE_(PCATCEBDIS2017).xlsx\" foi baixado com sucesso\n",
      "['PCAT_CEBDIS_2018-10-22_REAJUSTE_(PCATCEBDIS2018).xlsx'\n",
      " 'https://www2.aneel.gov.br/aplicacoes/tarifa/arquivo/PCAT_CEB-DIS_2018.xlsx']\n"
     ]
    },
    {
     "name": "stderr",
     "output_type": "stream",
     "text": [
      "D:\\python_projects\\cpfl\\web_scrapper\\venv_scraper\\lib\\site-packages\\urllib3\\connectionpool.py:1043: InsecureRequestWarning: Unverified HTTPS request is being made to host 'www2.aneel.gov.br'. Adding certificate verification is strongly advised. See: https://urllib3.readthedocs.io/en/1.26.x/advanced-usage.html#ssl-warnings\n",
      "  warnings.warn(\n",
      "D:\\python_projects\\cpfl\\web_scrapper\\venv_scraper\\lib\\site-packages\\urllib3\\connectionpool.py:1043: InsecureRequestWarning: Unverified HTTPS request is being made to host 'www2.aneel.gov.br'. Adding certificate verification is strongly advised. See: https://urllib3.readthedocs.io/en/1.26.x/advanced-usage.html#ssl-warnings\n",
      "  warnings.warn(\n"
     ]
    },
    {
     "name": "stdout",
     "output_type": "stream",
     "text": [
      "Arquivo: \"PCAT_CEBDIS_2018-10-22_REAJUSTE_(PCATCEBDIS2018).xlsx\" foi baixado com sucesso\n",
      "['PCAT_CEBDIS_2018-06-22_REVISAOEXTRAORDINARIA_(PCATCEBDIS20172018).xlsx'\n",
      " 'https://www2.aneel.gov.br/aplicacoes/tarifa/arquivo/PCAT_CEB-DIS_2017 _2018.xlsx']\n",
      "Arquivo: \"PCAT_CEBDIS_2018-10-22_REAJUSTE_(PCATCEBDIS2018).xlsx\" foi baixado com sucesso\n",
      "['PCAT_CEBDIS_2018-06-22_REVISAOEXTRAORDINARIA_(PCATCEBDIS20172018).xlsx'\n",
      " 'https://www2.aneel.gov.br/aplicacoes/tarifa/arquivo/PCAT_CEB-DIS_2017 _2018.xlsx']\n"
     ]
    },
    {
     "name": "stderr",
     "output_type": "stream",
     "text": [
      "D:\\python_projects\\cpfl\\web_scrapper\\venv_scraper\\lib\\site-packages\\urllib3\\connectionpool.py:1043: InsecureRequestWarning: Unverified HTTPS request is being made to host 'www2.aneel.gov.br'. Adding certificate verification is strongly advised. See: https://urllib3.readthedocs.io/en/1.26.x/advanced-usage.html#ssl-warnings\n",
      "  warnings.warn(\n",
      "D:\\python_projects\\cpfl\\web_scrapper\\venv_scraper\\lib\\site-packages\\urllib3\\connectionpool.py:1043: InsecureRequestWarning: Unverified HTTPS request is being made to host 'www2.aneel.gov.br'. Adding certificate verification is strongly advised. See: https://urllib3.readthedocs.io/en/1.26.x/advanced-usage.html#ssl-warnings\n",
      "  warnings.warn(\n"
     ]
    },
    {
     "name": "stdout",
     "output_type": "stream",
     "text": [
      "Arquivo: \"PCAT_CEBDIS_2018-06-22_REVISAOEXTRAORDINARIA_(PCATCEBDIS20172018).xlsx\" foi baixado com sucesso\n",
      "['PCAT_CEBDIS_2019-10-22_REAJUSTE_(5160PCATCEBDIS2019).xlsx'\n",
      " 'https://www2.aneel.gov.br/aplicacoes/tarifa/arquivo/5160_PCAT_CEB-DIS_2019.xlsx']\n",
      "Arquivo: \"PCAT_CEBDIS_2018-06-22_REVISAOEXTRAORDINARIA_(PCATCEBDIS20172018).xlsx\" foi baixado com sucesso\n",
      "['PCAT_CEBDIS_2019-10-22_REAJUSTE_(5160PCATCEBDIS2019).xlsx'\n",
      " 'https://www2.aneel.gov.br/aplicacoes/tarifa/arquivo/5160_PCAT_CEB-DIS_2019.xlsx']\n"
     ]
    },
    {
     "name": "stderr",
     "output_type": "stream",
     "text": [
      "D:\\python_projects\\cpfl\\web_scrapper\\venv_scraper\\lib\\site-packages\\urllib3\\connectionpool.py:1043: InsecureRequestWarning: Unverified HTTPS request is being made to host 'www2.aneel.gov.br'. Adding certificate verification is strongly advised. See: https://urllib3.readthedocs.io/en/1.26.x/advanced-usage.html#ssl-warnings\n",
      "  warnings.warn(\n",
      "D:\\python_projects\\cpfl\\web_scrapper\\venv_scraper\\lib\\site-packages\\urllib3\\connectionpool.py:1043: InsecureRequestWarning: Unverified HTTPS request is being made to host 'www2.aneel.gov.br'. Adding certificate verification is strongly advised. See: https://urllib3.readthedocs.io/en/1.26.x/advanced-usage.html#ssl-warnings\n",
      "  warnings.warn(\n"
     ]
    },
    {
     "name": "stdout",
     "output_type": "stream",
     "text": [
      "Arquivo: \"PCAT_CEBDIS_2019-10-22_REAJUSTE_(5160PCATCEBDIS2019).xlsx\" foi baixado com sucesso\n",
      "['PCAT_CEBDIS_2020-10-22_REAJUSTE_(5160PCATCEBDIS2020V021).xlsx'\n",
      " 'https://www2.aneel.gov.br/aplicacoes/tarifa/arquivo/5160 PCAT CEB-DIS 2020 V021.xlsx']\n",
      "Arquivo: \"PCAT_CEBDIS_2019-10-22_REAJUSTE_(5160PCATCEBDIS2019).xlsx\" foi baixado com sucesso\n",
      "['PCAT_CEBDIS_2020-10-22_REAJUSTE_(5160PCATCEBDIS2020V021).xlsx'\n",
      " 'https://www2.aneel.gov.br/aplicacoes/tarifa/arquivo/5160 PCAT CEB-DIS 2020 V021.xlsx']\n"
     ]
    },
    {
     "name": "stderr",
     "output_type": "stream",
     "text": [
      "D:\\python_projects\\cpfl\\web_scrapper\\venv_scraper\\lib\\site-packages\\urllib3\\connectionpool.py:1043: InsecureRequestWarning: Unverified HTTPS request is being made to host 'www2.aneel.gov.br'. Adding certificate verification is strongly advised. See: https://urllib3.readthedocs.io/en/1.26.x/advanced-usage.html#ssl-warnings\n",
      "  warnings.warn(\n",
      "D:\\python_projects\\cpfl\\web_scrapper\\venv_scraper\\lib\\site-packages\\urllib3\\connectionpool.py:1043: InsecureRequestWarning: Unverified HTTPS request is being made to host 'www2.aneel.gov.br'. Adding certificate verification is strongly advised. See: https://urllib3.readthedocs.io/en/1.26.x/advanced-usage.html#ssl-warnings\n",
      "  warnings.warn(\n"
     ]
    },
    {
     "name": "stdout",
     "output_type": "stream",
     "text": [
      "Arquivo: \"PCAT_CEBDIS_2020-10-22_REAJUSTE_(5160PCATCEBDIS2020V021).xlsx\" foi baixado com sucesso\n",
      "['PCAT_CEEED_2013-10-25_REAJUSTE_(PCATCEEE2013).xlsx'\n",
      " 'https://www2.aneel.gov.br/aplicacoes/tarifa/arquivo/PCAT_CEEE_2013.xlsx']\n",
      "Arquivo: \"PCAT_CEBDIS_2020-10-22_REAJUSTE_(5160PCATCEBDIS2020V021).xlsx\" foi baixado com sucesso\n",
      "['PCAT_CEEED_2013-10-25_REAJUSTE_(PCATCEEE2013).xlsx'\n",
      " 'https://www2.aneel.gov.br/aplicacoes/tarifa/arquivo/PCAT_CEEE_2013.xlsx']\n"
     ]
    },
    {
     "name": "stderr",
     "output_type": "stream",
     "text": [
      "D:\\python_projects\\cpfl\\web_scrapper\\venv_scraper\\lib\\site-packages\\urllib3\\connectionpool.py:1043: InsecureRequestWarning: Unverified HTTPS request is being made to host 'www2.aneel.gov.br'. Adding certificate verification is strongly advised. See: https://urllib3.readthedocs.io/en/1.26.x/advanced-usage.html#ssl-warnings\n",
      "  warnings.warn(\n",
      "D:\\python_projects\\cpfl\\web_scrapper\\venv_scraper\\lib\\site-packages\\urllib3\\connectionpool.py:1043: InsecureRequestWarning: Unverified HTTPS request is being made to host 'www2.aneel.gov.br'. Adding certificate verification is strongly advised. See: https://urllib3.readthedocs.io/en/1.26.x/advanced-usage.html#ssl-warnings\n",
      "  warnings.warn(\n"
     ]
    },
    {
     "name": "stdout",
     "output_type": "stream",
     "text": [
      "Arquivo: \"PCAT_CEEED_2013-10-25_REAJUSTE_(PCATCEEE2013).xlsx\" foi baixado com sucesso\n",
      "['PCAT_CEEED_2014-10-25_REAJUSTE_(PCATCEEE2014).xlsx'\n",
      " 'https://www2.aneel.gov.br/aplicacoes/tarifa/arquivo/PCAT_CEEE_2014 .xlsx']\n",
      "Arquivo: \"PCAT_CEEED_2013-10-25_REAJUSTE_(PCATCEEE2013).xlsx\" foi baixado com sucesso\n",
      "['PCAT_CEEED_2014-10-25_REAJUSTE_(PCATCEEE2014).xlsx'\n",
      " 'https://www2.aneel.gov.br/aplicacoes/tarifa/arquivo/PCAT_CEEE_2014 .xlsx']\n"
     ]
    },
    {
     "name": "stderr",
     "output_type": "stream",
     "text": [
      "D:\\python_projects\\cpfl\\web_scrapper\\venv_scraper\\lib\\site-packages\\urllib3\\connectionpool.py:1043: InsecureRequestWarning: Unverified HTTPS request is being made to host 'www2.aneel.gov.br'. Adding certificate verification is strongly advised. See: https://urllib3.readthedocs.io/en/1.26.x/advanced-usage.html#ssl-warnings\n",
      "  warnings.warn(\n",
      "D:\\python_projects\\cpfl\\web_scrapper\\venv_scraper\\lib\\site-packages\\urllib3\\connectionpool.py:1043: InsecureRequestWarning: Unverified HTTPS request is being made to host 'www2.aneel.gov.br'. Adding certificate verification is strongly advised. See: https://urllib3.readthedocs.io/en/1.26.x/advanced-usage.html#ssl-warnings\n",
      "  warnings.warn(\n"
     ]
    },
    {
     "name": "stdout",
     "output_type": "stream",
     "text": [
      "Arquivo: \"PCAT_CEEED_2014-10-25_REAJUSTE_(PCATCEEE2014).xlsx\" foi baixado com sucesso\n",
      "['PCAT_CEEED_2015-10-25_REAJUSTE_(PCATCEEED2015).xlsx'\n",
      " 'https://www2.aneel.gov.br/aplicacoes/tarifa/arquivo/PCAT_CEEE-D_2015.xlsx']\n",
      "Arquivo: \"PCAT_CEEED_2014-10-25_REAJUSTE_(PCATCEEE2014).xlsx\" foi baixado com sucesso\n",
      "['PCAT_CEEED_2015-10-25_REAJUSTE_(PCATCEEED2015).xlsx'\n",
      " 'https://www2.aneel.gov.br/aplicacoes/tarifa/arquivo/PCAT_CEEE-D_2015.xlsx']\n"
     ]
    },
    {
     "name": "stderr",
     "output_type": "stream",
     "text": [
      "D:\\python_projects\\cpfl\\web_scrapper\\venv_scraper\\lib\\site-packages\\urllib3\\connectionpool.py:1043: InsecureRequestWarning: Unverified HTTPS request is being made to host 'www2.aneel.gov.br'. Adding certificate verification is strongly advised. See: https://urllib3.readthedocs.io/en/1.26.x/advanced-usage.html#ssl-warnings\n",
      "  warnings.warn(\n",
      "D:\\python_projects\\cpfl\\web_scrapper\\venv_scraper\\lib\\site-packages\\urllib3\\connectionpool.py:1043: InsecureRequestWarning: Unverified HTTPS request is being made to host 'www2.aneel.gov.br'. Adding certificate verification is strongly advised. See: https://urllib3.readthedocs.io/en/1.26.x/advanced-usage.html#ssl-warnings\n",
      "  warnings.warn(\n"
     ]
    },
    {
     "name": "stdout",
     "output_type": "stream",
     "text": [
      "Arquivo: \"PCAT_CEEED_2015-10-25_REAJUSTE_(PCATCEEED2015).xlsx\" foi baixado com sucesso\n",
      "['PCAT_CEEED_2015-03-02_REVISAOEXTRAORDINARIA_(PCATCEEE2014CAT).xlsx'\n",
      " 'https://www2.aneel.gov.br/aplicacoes/tarifa/arquivo/PCAT_CEEE_2014_CAT.xlsx']\n",
      "Arquivo: \"PCAT_CEEED_2015-10-25_REAJUSTE_(PCATCEEED2015).xlsx\" foi baixado com sucesso\n",
      "['PCAT_CEEED_2015-03-02_REVISAOEXTRAORDINARIA_(PCATCEEE2014CAT).xlsx'\n",
      " 'https://www2.aneel.gov.br/aplicacoes/tarifa/arquivo/PCAT_CEEE_2014_CAT.xlsx']\n"
     ]
    },
    {
     "name": "stderr",
     "output_type": "stream",
     "text": [
      "D:\\python_projects\\cpfl\\web_scrapper\\venv_scraper\\lib\\site-packages\\urllib3\\connectionpool.py:1043: InsecureRequestWarning: Unverified HTTPS request is being made to host 'www2.aneel.gov.br'. Adding certificate verification is strongly advised. See: https://urllib3.readthedocs.io/en/1.26.x/advanced-usage.html#ssl-warnings\n",
      "  warnings.warn(\n",
      "D:\\python_projects\\cpfl\\web_scrapper\\venv_scraper\\lib\\site-packages\\urllib3\\connectionpool.py:1043: InsecureRequestWarning: Unverified HTTPS request is being made to host 'www2.aneel.gov.br'. Adding certificate verification is strongly advised. See: https://urllib3.readthedocs.io/en/1.26.x/advanced-usage.html#ssl-warnings\n",
      "  warnings.warn(\n"
     ]
    },
    {
     "name": "stdout",
     "output_type": "stream",
     "text": [
      "Arquivo: \"PCAT_CEEED_2015-03-02_REVISAOEXTRAORDINARIA_(PCATCEEE2014CAT).xlsx\" foi baixado com sucesso\n",
      "['PCAT_CEEED_2016-10-25_REVISAO_(PCATCEEED2016).xlsx'\n",
      " 'https://www2.aneel.gov.br/aplicacoes/tarifa/arquivo/PCAT_CEEE-D_2016.xlsx']\n",
      "Arquivo: \"PCAT_CEEED_2015-03-02_REVISAOEXTRAORDINARIA_(PCATCEEE2014CAT).xlsx\" foi baixado com sucesso\n",
      "['PCAT_CEEED_2016-10-25_REVISAO_(PCATCEEED2016).xlsx'\n",
      " 'https://www2.aneel.gov.br/aplicacoes/tarifa/arquivo/PCAT_CEEE-D_2016.xlsx']\n"
     ]
    },
    {
     "name": "stderr",
     "output_type": "stream",
     "text": [
      "D:\\python_projects\\cpfl\\web_scrapper\\venv_scraper\\lib\\site-packages\\urllib3\\connectionpool.py:1043: InsecureRequestWarning: Unverified HTTPS request is being made to host 'www2.aneel.gov.br'. Adding certificate verification is strongly advised. See: https://urllib3.readthedocs.io/en/1.26.x/advanced-usage.html#ssl-warnings\n",
      "  warnings.warn(\n",
      "D:\\python_projects\\cpfl\\web_scrapper\\venv_scraper\\lib\\site-packages\\urllib3\\connectionpool.py:1043: InsecureRequestWarning: Unverified HTTPS request is being made to host 'www2.aneel.gov.br'. Adding certificate verification is strongly advised. See: https://urllib3.readthedocs.io/en/1.26.x/advanced-usage.html#ssl-warnings\n",
      "  warnings.warn(\n"
     ]
    },
    {
     "name": "stdout",
     "output_type": "stream",
     "text": [
      "Arquivo: \"PCAT_CEEED_2016-10-25_REVISAO_(PCATCEEED2016).xlsx\" foi baixado com sucesso\n",
      "['PCAT_CEEED_2017-11-22_REAJUSTE_(PCATCEEED2017).xlsx'\n",
      " 'https://www2.aneel.gov.br/aplicacoes/tarifa/arquivo/PCAT_CEEE-D_2017.xlsx']\n",
      "Arquivo: \"PCAT_CEEED_2016-10-25_REVISAO_(PCATCEEED2016).xlsx\" foi baixado com sucesso\n",
      "['PCAT_CEEED_2017-11-22_REAJUSTE_(PCATCEEED2017).xlsx'\n",
      " 'https://www2.aneel.gov.br/aplicacoes/tarifa/arquivo/PCAT_CEEE-D_2017.xlsx']\n"
     ]
    },
    {
     "name": "stderr",
     "output_type": "stream",
     "text": [
      "D:\\python_projects\\cpfl\\web_scrapper\\venv_scraper\\lib\\site-packages\\urllib3\\connectionpool.py:1043: InsecureRequestWarning: Unverified HTTPS request is being made to host 'www2.aneel.gov.br'. Adding certificate verification is strongly advised. See: https://urllib3.readthedocs.io/en/1.26.x/advanced-usage.html#ssl-warnings\n",
      "  warnings.warn(\n",
      "D:\\python_projects\\cpfl\\web_scrapper\\venv_scraper\\lib\\site-packages\\urllib3\\connectionpool.py:1043: InsecureRequestWarning: Unverified HTTPS request is being made to host 'www2.aneel.gov.br'. Adding certificate verification is strongly advised. See: https://urllib3.readthedocs.io/en/1.26.x/advanced-usage.html#ssl-warnings\n",
      "  warnings.warn(\n"
     ]
    },
    {
     "name": "stdout",
     "output_type": "stream",
     "text": [
      "Arquivo: \"PCAT_CEEED_2017-11-22_REAJUSTE_(PCATCEEED2017).xlsx\" foi baixado com sucesso\n",
      "['PCAT_CEEED_2018-11-22_REAJUSTE_(5707PCATCEEED2018V02).xlsx'\n",
      " 'https://www2.aneel.gov.br/aplicacoes/tarifa/arquivo/5707 PCAT CEEE-D 2018 V02.xlsx']\n",
      "Arquivo: \"PCAT_CEEED_2017-11-22_REAJUSTE_(PCATCEEED2017).xlsx\" foi baixado com sucesso\n",
      "['PCAT_CEEED_2018-11-22_REAJUSTE_(5707PCATCEEED2018V02).xlsx'\n",
      " 'https://www2.aneel.gov.br/aplicacoes/tarifa/arquivo/5707 PCAT CEEE-D 2018 V02.xlsx']\n"
     ]
    },
    {
     "name": "stderr",
     "output_type": "stream",
     "text": [
      "D:\\python_projects\\cpfl\\web_scrapper\\venv_scraper\\lib\\site-packages\\urllib3\\connectionpool.py:1043: InsecureRequestWarning: Unverified HTTPS request is being made to host 'www2.aneel.gov.br'. Adding certificate verification is strongly advised. See: https://urllib3.readthedocs.io/en/1.26.x/advanced-usage.html#ssl-warnings\n",
      "  warnings.warn(\n",
      "D:\\python_projects\\cpfl\\web_scrapper\\venv_scraper\\lib\\site-packages\\urllib3\\connectionpool.py:1043: InsecureRequestWarning: Unverified HTTPS request is being made to host 'www2.aneel.gov.br'. Adding certificate verification is strongly advised. See: https://urllib3.readthedocs.io/en/1.26.x/advanced-usage.html#ssl-warnings\n",
      "  warnings.warn(\n"
     ]
    },
    {
     "name": "stdout",
     "output_type": "stream",
     "text": [
      "Arquivo: \"PCAT_CEEED_2018-11-22_REAJUSTE_(5707PCATCEEED2018V02).xlsx\" foi baixado com sucesso\n",
      "['PCAT_CEEED_2019-11-22_REAJUSTE_(5707PCATCEEED2019V02).xlsx'\n",
      " 'https://www2.aneel.gov.br/aplicacoes/tarifa/arquivo/5707 PCAT CEEE-D 2019 V02.xlsx']\n",
      "Arquivo: \"PCAT_CEEED_2018-11-22_REAJUSTE_(5707PCATCEEED2018V02).xlsx\" foi baixado com sucesso\n",
      "['PCAT_CEEED_2019-11-22_REAJUSTE_(5707PCATCEEED2019V02).xlsx'\n",
      " 'https://www2.aneel.gov.br/aplicacoes/tarifa/arquivo/5707 PCAT CEEE-D 2019 V02.xlsx']\n"
     ]
    },
    {
     "name": "stderr",
     "output_type": "stream",
     "text": [
      "D:\\python_projects\\cpfl\\web_scrapper\\venv_scraper\\lib\\site-packages\\urllib3\\connectionpool.py:1043: InsecureRequestWarning: Unverified HTTPS request is being made to host 'www2.aneel.gov.br'. Adding certificate verification is strongly advised. See: https://urllib3.readthedocs.io/en/1.26.x/advanced-usage.html#ssl-warnings\n",
      "  warnings.warn(\n",
      "D:\\python_projects\\cpfl\\web_scrapper\\venv_scraper\\lib\\site-packages\\urllib3\\connectionpool.py:1043: InsecureRequestWarning: Unverified HTTPS request is being made to host 'www2.aneel.gov.br'. Adding certificate verification is strongly advised. See: https://urllib3.readthedocs.io/en/1.26.x/advanced-usage.html#ssl-warnings\n",
      "  warnings.warn(\n"
     ]
    },
    {
     "name": "stdout",
     "output_type": "stream",
     "text": [
      "Arquivo: \"PCAT_CEEED_2019-11-22_REAJUSTE_(5707PCATCEEED2019V02).xlsx\" foi baixado com sucesso\n",
      "['PCAT_CEEED_2020-11-22_REAJUSTE_(5707PCATCEEED2020V02).xlsx'\n",
      " 'https://www2.aneel.gov.br/aplicacoes/tarifa/arquivo/5707 PCAT CEEE-D 2020 V02.xlsx']\n",
      "Arquivo: \"PCAT_CEEED_2019-11-22_REAJUSTE_(5707PCATCEEED2019V02).xlsx\" foi baixado com sucesso\n",
      "['PCAT_CEEED_2020-11-22_REAJUSTE_(5707PCATCEEED2020V02).xlsx'\n",
      " 'https://www2.aneel.gov.br/aplicacoes/tarifa/arquivo/5707 PCAT CEEE-D 2020 V02.xlsx']\n"
     ]
    },
    {
     "name": "stderr",
     "output_type": "stream",
     "text": [
      "D:\\python_projects\\cpfl\\web_scrapper\\venv_scraper\\lib\\site-packages\\urllib3\\connectionpool.py:1043: InsecureRequestWarning: Unverified HTTPS request is being made to host 'www2.aneel.gov.br'. Adding certificate verification is strongly advised. See: https://urllib3.readthedocs.io/en/1.26.x/advanced-usage.html#ssl-warnings\n",
      "  warnings.warn(\n",
      "D:\\python_projects\\cpfl\\web_scrapper\\venv_scraper\\lib\\site-packages\\urllib3\\connectionpool.py:1043: InsecureRequestWarning: Unverified HTTPS request is being made to host 'www2.aneel.gov.br'. Adding certificate verification is strongly advised. See: https://urllib3.readthedocs.io/en/1.26.x/advanced-usage.html#ssl-warnings\n",
      "  warnings.warn(\n"
     ]
    },
    {
     "name": "stdout",
     "output_type": "stream",
     "text": [
      "Arquivo: \"PCAT_CEEED_2020-11-22_REAJUSTE_(5707PCATCEEED2020V02).xlsx\" foi baixado com sucesso\n",
      "['PCAT_CELESCDIS_2014-08-07_REAJUSTE_(PCATCELESC20141).xlsx'\n",
      " 'https://www2.aneel.gov.br/aplicacoes/tarifa/arquivo/PCAT_CELESC_20141.xlsx']\n",
      "Arquivo: \"PCAT_CEEED_2020-11-22_REAJUSTE_(5707PCATCEEED2020V02).xlsx\" foi baixado com sucesso\n",
      "['PCAT_CELESCDIS_2014-08-07_REAJUSTE_(PCATCELESC20141).xlsx'\n",
      " 'https://www2.aneel.gov.br/aplicacoes/tarifa/arquivo/PCAT_CELESC_20141.xlsx']\n"
     ]
    },
    {
     "name": "stderr",
     "output_type": "stream",
     "text": [
      "D:\\python_projects\\cpfl\\web_scrapper\\venv_scraper\\lib\\site-packages\\urllib3\\connectionpool.py:1043: InsecureRequestWarning: Unverified HTTPS request is being made to host 'www2.aneel.gov.br'. Adding certificate verification is strongly advised. See: https://urllib3.readthedocs.io/en/1.26.x/advanced-usage.html#ssl-warnings\n",
      "  warnings.warn(\n",
      "D:\\python_projects\\cpfl\\web_scrapper\\venv_scraper\\lib\\site-packages\\urllib3\\connectionpool.py:1043: InsecureRequestWarning: Unverified HTTPS request is being made to host 'www2.aneel.gov.br'. Adding certificate verification is strongly advised. See: https://urllib3.readthedocs.io/en/1.26.x/advanced-usage.html#ssl-warnings\n",
      "  warnings.warn(\n"
     ]
    },
    {
     "name": "stdout",
     "output_type": "stream",
     "text": [
      "Arquivo: \"PCAT_CELESCDIS_2014-08-07_REAJUSTE_(PCATCELESC20141).xlsx\" foi baixado com sucesso\n",
      "['PCAT_CELESCDIS_2015-08-07_REAJUSTE_(PCATCELESCDIS2015).xlsx'\n",
      " 'https://www2.aneel.gov.br/aplicacoes/tarifa/arquivo/PCAT_Celesc-DIS_2015.xlsx']\n",
      "Arquivo: \"PCAT_CELESCDIS_2014-08-07_REAJUSTE_(PCATCELESC20141).xlsx\" foi baixado com sucesso\n",
      "['PCAT_CELESCDIS_2015-08-07_REAJUSTE_(PCATCELESCDIS2015).xlsx'\n",
      " 'https://www2.aneel.gov.br/aplicacoes/tarifa/arquivo/PCAT_Celesc-DIS_2015.xlsx']\n"
     ]
    },
    {
     "name": "stderr",
     "output_type": "stream",
     "text": [
      "D:\\python_projects\\cpfl\\web_scrapper\\venv_scraper\\lib\\site-packages\\urllib3\\connectionpool.py:1043: InsecureRequestWarning: Unverified HTTPS request is being made to host 'www2.aneel.gov.br'. Adding certificate verification is strongly advised. See: https://urllib3.readthedocs.io/en/1.26.x/advanced-usage.html#ssl-warnings\n",
      "  warnings.warn(\n",
      "D:\\python_projects\\cpfl\\web_scrapper\\venv_scraper\\lib\\site-packages\\urllib3\\connectionpool.py:1043: InsecureRequestWarning: Unverified HTTPS request is being made to host 'www2.aneel.gov.br'. Adding certificate verification is strongly advised. See: https://urllib3.readthedocs.io/en/1.26.x/advanced-usage.html#ssl-warnings\n",
      "  warnings.warn(\n"
     ]
    },
    {
     "name": "stdout",
     "output_type": "stream",
     "text": [
      "Arquivo: \"PCAT_CELESCDIS_2015-08-07_REAJUSTE_(PCATCELESCDIS2015).xlsx\" foi baixado com sucesso\n",
      "['PCAT_CELESCDIS_2015-03-02_REVISAOEXTRAORDINARIA_(PCATCELESC2014V00).xlsx'\n",
      " 'https://www2.aneel.gov.br/aplicacoes/tarifa/arquivo/PCAT_CELESC_2014_V00.xlsx']\n",
      "Arquivo: \"PCAT_CELESCDIS_2015-08-07_REAJUSTE_(PCATCELESCDIS2015).xlsx\" foi baixado com sucesso\n",
      "['PCAT_CELESCDIS_2015-03-02_REVISAOEXTRAORDINARIA_(PCATCELESC2014V00).xlsx'\n",
      " 'https://www2.aneel.gov.br/aplicacoes/tarifa/arquivo/PCAT_CELESC_2014_V00.xlsx']\n"
     ]
    },
    {
     "name": "stderr",
     "output_type": "stream",
     "text": [
      "D:\\python_projects\\cpfl\\web_scrapper\\venv_scraper\\lib\\site-packages\\urllib3\\connectionpool.py:1043: InsecureRequestWarning: Unverified HTTPS request is being made to host 'www2.aneel.gov.br'. Adding certificate verification is strongly advised. See: https://urllib3.readthedocs.io/en/1.26.x/advanced-usage.html#ssl-warnings\n",
      "  warnings.warn(\n",
      "D:\\python_projects\\cpfl\\web_scrapper\\venv_scraper\\lib\\site-packages\\urllib3\\connectionpool.py:1043: InsecureRequestWarning: Unverified HTTPS request is being made to host 'www2.aneel.gov.br'. Adding certificate verification is strongly advised. See: https://urllib3.readthedocs.io/en/1.26.x/advanced-usage.html#ssl-warnings\n",
      "  warnings.warn(\n"
     ]
    },
    {
     "name": "stdout",
     "output_type": "stream",
     "text": [
      "Arquivo: \"PCAT_CELESCDIS_2015-03-02_REVISAOEXTRAORDINARIA_(PCATCELESC2014V00).xlsx\" foi baixado com sucesso\n",
      "['PCAT_CELESCDIS_2016-08-22_REVISAO_(PCATCELESCDIS2016).xlsx'\n",
      " 'https://www2.aneel.gov.br/aplicacoes/tarifa/arquivo/PCAT_Celesc-DIS_2016.xlsx']\n",
      "Arquivo: \"PCAT_CELESCDIS_2015-03-02_REVISAOEXTRAORDINARIA_(PCATCELESC2014V00).xlsx\" foi baixado com sucesso\n",
      "['PCAT_CELESCDIS_2016-08-22_REVISAO_(PCATCELESCDIS2016).xlsx'\n",
      " 'https://www2.aneel.gov.br/aplicacoes/tarifa/arquivo/PCAT_Celesc-DIS_2016.xlsx']\n"
     ]
    },
    {
     "name": "stderr",
     "output_type": "stream",
     "text": [
      "D:\\python_projects\\cpfl\\web_scrapper\\venv_scraper\\lib\\site-packages\\urllib3\\connectionpool.py:1043: InsecureRequestWarning: Unverified HTTPS request is being made to host 'www2.aneel.gov.br'. Adding certificate verification is strongly advised. See: https://urllib3.readthedocs.io/en/1.26.x/advanced-usage.html#ssl-warnings\n",
      "  warnings.warn(\n",
      "D:\\python_projects\\cpfl\\web_scrapper\\venv_scraper\\lib\\site-packages\\urllib3\\connectionpool.py:1043: InsecureRequestWarning: Unverified HTTPS request is being made to host 'www2.aneel.gov.br'. Adding certificate verification is strongly advised. See: https://urllib3.readthedocs.io/en/1.26.x/advanced-usage.html#ssl-warnings\n",
      "  warnings.warn(\n"
     ]
    },
    {
     "name": "stdout",
     "output_type": "stream",
     "text": [
      "Arquivo: \"PCAT_CELESCDIS_2016-08-22_REVISAO_(PCATCELESCDIS2016).xlsx\" foi baixado com sucesso\n",
      "['PCAT_CELESCDIS_2017-08-22_REAJUSTE_(PCATCELESCDIS2017).xlsx'\n",
      " 'https://www2.aneel.gov.br/aplicacoes/tarifa/arquivo/PCAT_Celesc-DIS_2017.xlsx']\n",
      "Arquivo: \"PCAT_CELESCDIS_2016-08-22_REVISAO_(PCATCELESCDIS2016).xlsx\" foi baixado com sucesso\n",
      "['PCAT_CELESCDIS_2017-08-22_REAJUSTE_(PCATCELESCDIS2017).xlsx'\n",
      " 'https://www2.aneel.gov.br/aplicacoes/tarifa/arquivo/PCAT_Celesc-DIS_2017.xlsx']\n"
     ]
    },
    {
     "name": "stderr",
     "output_type": "stream",
     "text": [
      "D:\\python_projects\\cpfl\\web_scrapper\\venv_scraper\\lib\\site-packages\\urllib3\\connectionpool.py:1043: InsecureRequestWarning: Unverified HTTPS request is being made to host 'www2.aneel.gov.br'. Adding certificate verification is strongly advised. See: https://urllib3.readthedocs.io/en/1.26.x/advanced-usage.html#ssl-warnings\n",
      "  warnings.warn(\n",
      "D:\\python_projects\\cpfl\\web_scrapper\\venv_scraper\\lib\\site-packages\\urllib3\\connectionpool.py:1043: InsecureRequestWarning: Unverified HTTPS request is being made to host 'www2.aneel.gov.br'. Adding certificate verification is strongly advised. See: https://urllib3.readthedocs.io/en/1.26.x/advanced-usage.html#ssl-warnings\n",
      "  warnings.warn(\n"
     ]
    },
    {
     "name": "stdout",
     "output_type": "stream",
     "text": [
      "Arquivo: \"PCAT_CELESCDIS_2017-08-22_REAJUSTE_(PCATCELESCDIS2017).xlsx\" foi baixado com sucesso\n",
      "['PCAT_CELESCDIS_2018-08-22_REAJUSTE_(PCATCELESCDIS2018).xlsx'\n",
      " 'https://www2.aneel.gov.br/aplicacoes/tarifa/arquivo/PCAT_Celesc-DIS_2018 .xlsx']\n",
      "Arquivo: \"PCAT_CELESCDIS_2017-08-22_REAJUSTE_(PCATCELESCDIS2017).xlsx\" foi baixado com sucesso\n",
      "['PCAT_CELESCDIS_2018-08-22_REAJUSTE_(PCATCELESCDIS2018).xlsx'\n",
      " 'https://www2.aneel.gov.br/aplicacoes/tarifa/arquivo/PCAT_Celesc-DIS_2018 .xlsx']\n"
     ]
    },
    {
     "name": "stderr",
     "output_type": "stream",
     "text": [
      "D:\\python_projects\\cpfl\\web_scrapper\\venv_scraper\\lib\\site-packages\\urllib3\\connectionpool.py:1043: InsecureRequestWarning: Unverified HTTPS request is being made to host 'www2.aneel.gov.br'. Adding certificate verification is strongly advised. See: https://urllib3.readthedocs.io/en/1.26.x/advanced-usage.html#ssl-warnings\n",
      "  warnings.warn(\n",
      "D:\\python_projects\\cpfl\\web_scrapper\\venv_scraper\\lib\\site-packages\\urllib3\\connectionpool.py:1043: InsecureRequestWarning: Unverified HTTPS request is being made to host 'www2.aneel.gov.br'. Adding certificate verification is strongly advised. See: https://urllib3.readthedocs.io/en/1.26.x/advanced-usage.html#ssl-warnings\n",
      "  warnings.warn(\n"
     ]
    },
    {
     "name": "stdout",
     "output_type": "stream",
     "text": [
      "Arquivo: \"PCAT_CELESCDIS_2018-08-22_REAJUSTE_(PCATCELESCDIS2018).xlsx\" foi baixado com sucesso\n",
      "['PCAT_CELESCDIS_2019-08-22_REAJUSTE_(5697PCATCELESCDIS2019V02).xlsx'\n",
      " 'https://www2.aneel.gov.br/aplicacoes/tarifa/arquivo/5697 PCAT Celesc-DIS 2019 V02.xlsx']\n",
      "Arquivo: \"PCAT_CELESCDIS_2018-08-22_REAJUSTE_(PCATCELESCDIS2018).xlsx\" foi baixado com sucesso\n",
      "['PCAT_CELESCDIS_2019-08-22_REAJUSTE_(5697PCATCELESCDIS2019V02).xlsx'\n",
      " 'https://www2.aneel.gov.br/aplicacoes/tarifa/arquivo/5697 PCAT Celesc-DIS 2019 V02.xlsx']\n"
     ]
    },
    {
     "name": "stderr",
     "output_type": "stream",
     "text": [
      "D:\\python_projects\\cpfl\\web_scrapper\\venv_scraper\\lib\\site-packages\\urllib3\\connectionpool.py:1043: InsecureRequestWarning: Unverified HTTPS request is being made to host 'www2.aneel.gov.br'. Adding certificate verification is strongly advised. See: https://urllib3.readthedocs.io/en/1.26.x/advanced-usage.html#ssl-warnings\n",
      "  warnings.warn(\n",
      "D:\\python_projects\\cpfl\\web_scrapper\\venv_scraper\\lib\\site-packages\\urllib3\\connectionpool.py:1043: InsecureRequestWarning: Unverified HTTPS request is being made to host 'www2.aneel.gov.br'. Adding certificate verification is strongly advised. See: https://urllib3.readthedocs.io/en/1.26.x/advanced-usage.html#ssl-warnings\n",
      "  warnings.warn(\n"
     ]
    },
    {
     "name": "stdout",
     "output_type": "stream",
     "text": [
      "Arquivo: \"PCAT_CELESCDIS_2019-08-22_REAJUSTE_(5697PCATCELESCDIS2019V02).xlsx\" foi baixado com sucesso\n",
      "['PCAT_CELESCDIS_2020-08-22_REAJUSTE_(5697PCATCELESCDIS2020V02).xlsx'\n",
      " 'https://www2.aneel.gov.br/aplicacoes/tarifa/arquivo/5697 PCAT Celesc-DIS 2020 V02.xlsx']\n",
      "Arquivo: \"PCAT_CELESCDIS_2019-08-22_REAJUSTE_(5697PCATCELESCDIS2019V02).xlsx\" foi baixado com sucesso\n",
      "['PCAT_CELESCDIS_2020-08-22_REAJUSTE_(5697PCATCELESCDIS2020V02).xlsx'\n",
      " 'https://www2.aneel.gov.br/aplicacoes/tarifa/arquivo/5697 PCAT Celesc-DIS 2020 V02.xlsx']\n"
     ]
    },
    {
     "name": "stderr",
     "output_type": "stream",
     "text": [
      "D:\\python_projects\\cpfl\\web_scrapper\\venv_scraper\\lib\\site-packages\\urllib3\\connectionpool.py:1043: InsecureRequestWarning: Unverified HTTPS request is being made to host 'www2.aneel.gov.br'. Adding certificate verification is strongly advised. See: https://urllib3.readthedocs.io/en/1.26.x/advanced-usage.html#ssl-warnings\n",
      "  warnings.warn(\n",
      "D:\\python_projects\\cpfl\\web_scrapper\\venv_scraper\\lib\\site-packages\\urllib3\\connectionpool.py:1043: InsecureRequestWarning: Unverified HTTPS request is being made to host 'www2.aneel.gov.br'. Adding certificate verification is strongly advised. See: https://urllib3.readthedocs.io/en/1.26.x/advanced-usage.html#ssl-warnings\n",
      "  warnings.warn(\n"
     ]
    },
    {
     "name": "stdout",
     "output_type": "stream",
     "text": [
      "Arquivo: \"PCAT_CELESCDIS_2020-08-22_REAJUSTE_(5697PCATCELESCDIS2020V02).xlsx\" foi baixado com sucesso\n",
      "['PCAT_CELESCDIS_2021-08-22_REVISAO_(5697PCATCELESCDRTP2021).xlsx'\n",
      " 'https://www2.aneel.gov.br/aplicacoes/tarifa/arquivo/5697 PCAT Celesc_D  RTP 2021.xlsx']\n",
      "Arquivo: \"PCAT_CELESCDIS_2020-08-22_REAJUSTE_(5697PCATCELESCDIS2020V02).xlsx\" foi baixado com sucesso\n",
      "['PCAT_CELESCDIS_2021-08-22_REVISAO_(5697PCATCELESCDRTP2021).xlsx'\n",
      " 'https://www2.aneel.gov.br/aplicacoes/tarifa/arquivo/5697 PCAT Celesc_D  RTP 2021.xlsx']\n"
     ]
    },
    {
     "name": "stderr",
     "output_type": "stream",
     "text": [
      "D:\\python_projects\\cpfl\\web_scrapper\\venv_scraper\\lib\\site-packages\\urllib3\\connectionpool.py:1043: InsecureRequestWarning: Unverified HTTPS request is being made to host 'www2.aneel.gov.br'. Adding certificate verification is strongly advised. See: https://urllib3.readthedocs.io/en/1.26.x/advanced-usage.html#ssl-warnings\n",
      "  warnings.warn(\n",
      "D:\\python_projects\\cpfl\\web_scrapper\\venv_scraper\\lib\\site-packages\\urllib3\\connectionpool.py:1043: InsecureRequestWarning: Unverified HTTPS request is being made to host 'www2.aneel.gov.br'. Adding certificate verification is strongly advised. See: https://urllib3.readthedocs.io/en/1.26.x/advanced-usage.html#ssl-warnings\n",
      "  warnings.warn(\n"
     ]
    },
    {
     "name": "stdout",
     "output_type": "stream",
     "text": [
      "Arquivo: \"PCAT_CELESCDIS_2021-08-22_REVISAO_(5697PCATCELESCDRTP2021).xlsx\" foi baixado com sucesso\n",
      "['PCAT_CELGD_2014-09-05_REAJUSTE_(PCATCELG2014).xlsx'\n",
      " 'https://www2.aneel.gov.br/aplicacoes/tarifa/arquivo/PCAT_CELG_2014.xlsx']\n",
      "Arquivo: \"PCAT_CELESCDIS_2021-08-22_REVISAO_(5697PCATCELESCDRTP2021).xlsx\" foi baixado com sucesso\n",
      "['PCAT_CELGD_2014-09-05_REAJUSTE_(PCATCELG2014).xlsx'\n",
      " 'https://www2.aneel.gov.br/aplicacoes/tarifa/arquivo/PCAT_CELG_2014.xlsx']\n"
     ]
    },
    {
     "name": "stderr",
     "output_type": "stream",
     "text": [
      "D:\\python_projects\\cpfl\\web_scrapper\\venv_scraper\\lib\\site-packages\\urllib3\\connectionpool.py:1043: InsecureRequestWarning: Unverified HTTPS request is being made to host 'www2.aneel.gov.br'. Adding certificate verification is strongly advised. See: https://urllib3.readthedocs.io/en/1.26.x/advanced-usage.html#ssl-warnings\n",
      "  warnings.warn(\n",
      "D:\\python_projects\\cpfl\\web_scrapper\\venv_scraper\\lib\\site-packages\\urllib3\\connectionpool.py:1043: InsecureRequestWarning: Unverified HTTPS request is being made to host 'www2.aneel.gov.br'. Adding certificate verification is strongly advised. See: https://urllib3.readthedocs.io/en/1.26.x/advanced-usage.html#ssl-warnings\n",
      "  warnings.warn(\n"
     ]
    },
    {
     "name": "stdout",
     "output_type": "stream",
     "text": [
      "Arquivo: \"PCAT_CELGD_2014-09-05_REAJUSTE_(PCATCELG2014).xlsx\" foi baixado com sucesso\n",
      "['PCAT_CELGD_2015-09-12_REAJUSTE_(PCATCELGD2015).xlsx'\n",
      " 'https://www2.aneel.gov.br/aplicacoes/tarifa/arquivo/PCAT_Celg-D_2015.xlsx']\n",
      "Arquivo: \"PCAT_CELGD_2014-09-05_REAJUSTE_(PCATCELG2014).xlsx\" foi baixado com sucesso\n",
      "['PCAT_CELGD_2015-09-12_REAJUSTE_(PCATCELGD2015).xlsx'\n",
      " 'https://www2.aneel.gov.br/aplicacoes/tarifa/arquivo/PCAT_Celg-D_2015.xlsx']\n"
     ]
    },
    {
     "name": "stderr",
     "output_type": "stream",
     "text": [
      "D:\\python_projects\\cpfl\\web_scrapper\\venv_scraper\\lib\\site-packages\\urllib3\\connectionpool.py:1043: InsecureRequestWarning: Unverified HTTPS request is being made to host 'www2.aneel.gov.br'. Adding certificate verification is strongly advised. See: https://urllib3.readthedocs.io/en/1.26.x/advanced-usage.html#ssl-warnings\n",
      "  warnings.warn(\n",
      "D:\\python_projects\\cpfl\\web_scrapper\\venv_scraper\\lib\\site-packages\\urllib3\\connectionpool.py:1043: InsecureRequestWarning: Unverified HTTPS request is being made to host 'www2.aneel.gov.br'. Adding certificate verification is strongly advised. See: https://urllib3.readthedocs.io/en/1.26.x/advanced-usage.html#ssl-warnings\n",
      "  warnings.warn(\n"
     ]
    },
    {
     "name": "stdout",
     "output_type": "stream",
     "text": [
      "Arquivo: \"PCAT_CELGD_2015-09-12_REAJUSTE_(PCATCELGD2015).xlsx\" foi baixado com sucesso\n",
      "['PCAT_CELGD_2015-03-02_REVISAOEXTRAORDINARIA_(PCATCELG2014CAT).xlsx'\n",
      " 'https://www2.aneel.gov.br/aplicacoes/tarifa/arquivo/PCAT_CELG_2014_CAT.xlsx']\n",
      "Arquivo: \"PCAT_CELGD_2015-09-12_REAJUSTE_(PCATCELGD2015).xlsx\" foi baixado com sucesso\n",
      "['PCAT_CELGD_2015-03-02_REVISAOEXTRAORDINARIA_(PCATCELG2014CAT).xlsx'\n",
      " 'https://www2.aneel.gov.br/aplicacoes/tarifa/arquivo/PCAT_CELG_2014_CAT.xlsx']\n"
     ]
    },
    {
     "name": "stderr",
     "output_type": "stream",
     "text": [
      "D:\\python_projects\\cpfl\\web_scrapper\\venv_scraper\\lib\\site-packages\\urllib3\\connectionpool.py:1043: InsecureRequestWarning: Unverified HTTPS request is being made to host 'www2.aneel.gov.br'. Adding certificate verification is strongly advised. See: https://urllib3.readthedocs.io/en/1.26.x/advanced-usage.html#ssl-warnings\n",
      "  warnings.warn(\n",
      "D:\\python_projects\\cpfl\\web_scrapper\\venv_scraper\\lib\\site-packages\\urllib3\\connectionpool.py:1043: InsecureRequestWarning: Unverified HTTPS request is being made to host 'www2.aneel.gov.br'. Adding certificate verification is strongly advised. See: https://urllib3.readthedocs.io/en/1.26.x/advanced-usage.html#ssl-warnings\n",
      "  warnings.warn(\n"
     ]
    },
    {
     "name": "stdout",
     "output_type": "stream",
     "text": [
      "Arquivo: \"PCAT_CELGD_2015-03-02_REVISAOEXTRAORDINARIA_(PCATCELG2014CAT).xlsx\" foi baixado com sucesso\n",
      "['PCAT_CELGD_2016-10-22_REAJUSTE_(PCATCELGD20161).xlsx'\n",
      " 'https://www2.aneel.gov.br/aplicacoes/tarifa/arquivo/PCAT_Celg-D_20161.xlsx']\n",
      "Arquivo: \"PCAT_CELGD_2015-03-02_REVISAOEXTRAORDINARIA_(PCATCELG2014CAT).xlsx\" foi baixado com sucesso\n",
      "['PCAT_CELGD_2016-10-22_REAJUSTE_(PCATCELGD20161).xlsx'\n",
      " 'https://www2.aneel.gov.br/aplicacoes/tarifa/arquivo/PCAT_Celg-D_20161.xlsx']\n"
     ]
    },
    {
     "name": "stderr",
     "output_type": "stream",
     "text": [
      "D:\\python_projects\\cpfl\\web_scrapper\\venv_scraper\\lib\\site-packages\\urllib3\\connectionpool.py:1043: InsecureRequestWarning: Unverified HTTPS request is being made to host 'www2.aneel.gov.br'. Adding certificate verification is strongly advised. See: https://urllib3.readthedocs.io/en/1.26.x/advanced-usage.html#ssl-warnings\n",
      "  warnings.warn(\n",
      "D:\\python_projects\\cpfl\\web_scrapper\\venv_scraper\\lib\\site-packages\\urllib3\\connectionpool.py:1043: InsecureRequestWarning: Unverified HTTPS request is being made to host 'www2.aneel.gov.br'. Adding certificate verification is strongly advised. See: https://urllib3.readthedocs.io/en/1.26.x/advanced-usage.html#ssl-warnings\n",
      "  warnings.warn(\n"
     ]
    },
    {
     "name": "stdout",
     "output_type": "stream",
     "text": [
      "Arquivo: \"PCAT_CELGD_2016-10-22_REAJUSTE_(PCATCELGD20161).xlsx\" foi baixado com sucesso\n",
      "['PCAT_CELGD_2017-10-22_REAJUSTE_(PCATCELGD20171).xlsx'\n",
      " 'https://www2.aneel.gov.br/aplicacoes/tarifa/arquivo/PCAT_Celg-D_2017 1.xlsx']\n",
      "Arquivo: \"PCAT_CELGD_2016-10-22_REAJUSTE_(PCATCELGD20161).xlsx\" foi baixado com sucesso\n",
      "['PCAT_CELGD_2017-10-22_REAJUSTE_(PCATCELGD20171).xlsx'\n",
      " 'https://www2.aneel.gov.br/aplicacoes/tarifa/arquivo/PCAT_Celg-D_2017 1.xlsx']\n"
     ]
    },
    {
     "name": "stderr",
     "output_type": "stream",
     "text": [
      "D:\\python_projects\\cpfl\\web_scrapper\\venv_scraper\\lib\\site-packages\\urllib3\\connectionpool.py:1043: InsecureRequestWarning: Unverified HTTPS request is being made to host 'www2.aneel.gov.br'. Adding certificate verification is strongly advised. See: https://urllib3.readthedocs.io/en/1.26.x/advanced-usage.html#ssl-warnings\n",
      "  warnings.warn(\n",
      "D:\\python_projects\\cpfl\\web_scrapper\\venv_scraper\\lib\\site-packages\\urllib3\\connectionpool.py:1043: InsecureRequestWarning: Unverified HTTPS request is being made to host 'www2.aneel.gov.br'. Adding certificate verification is strongly advised. See: https://urllib3.readthedocs.io/en/1.26.x/advanced-usage.html#ssl-warnings\n",
      "  warnings.warn(\n"
     ]
    },
    {
     "name": "stdout",
     "output_type": "stream",
     "text": [
      "Arquivo: \"PCAT_CELGD_2017-10-22_REAJUSTE_(PCATCELGD20171).xlsx\" foi baixado com sucesso\n",
      "['PCAT_CELGD_2018-10-22_REVISAO_(PCATCELGD2018).xlsx'\n",
      " 'https://www2.aneel.gov.br/aplicacoes/tarifa/arquivo/PCAT_Celg-D_2018.xlsx']\n",
      "Arquivo: \"PCAT_CELGD_2017-10-22_REAJUSTE_(PCATCELGD20171).xlsx\" foi baixado com sucesso\n",
      "['PCAT_CELGD_2018-10-22_REVISAO_(PCATCELGD2018).xlsx'\n",
      " 'https://www2.aneel.gov.br/aplicacoes/tarifa/arquivo/PCAT_Celg-D_2018.xlsx']\n"
     ]
    },
    {
     "name": "stderr",
     "output_type": "stream",
     "text": [
      "D:\\python_projects\\cpfl\\web_scrapper\\venv_scraper\\lib\\site-packages\\urllib3\\connectionpool.py:1043: InsecureRequestWarning: Unverified HTTPS request is being made to host 'www2.aneel.gov.br'. Adding certificate verification is strongly advised. See: https://urllib3.readthedocs.io/en/1.26.x/advanced-usage.html#ssl-warnings\n",
      "  warnings.warn(\n",
      "D:\\python_projects\\cpfl\\web_scrapper\\venv_scraper\\lib\\site-packages\\urllib3\\connectionpool.py:1043: InsecureRequestWarning: Unverified HTTPS request is being made to host 'www2.aneel.gov.br'. Adding certificate verification is strongly advised. See: https://urllib3.readthedocs.io/en/1.26.x/advanced-usage.html#ssl-warnings\n",
      "  warnings.warn(\n"
     ]
    },
    {
     "name": "stdout",
     "output_type": "stream",
     "text": [
      "Arquivo: \"PCAT_CELGD_2018-10-22_REVISAO_(PCATCELGD2018).xlsx\" foi baixado com sucesso\n",
      "['PCAT_CELGD_2019-10-22_REAJUSTE_(6072PCATCELGD2019V02).xlsx'\n",
      " 'https://www2.aneel.gov.br/aplicacoes/tarifa/arquivo/6072 PCAT Celg-D 2019 V02.xlsx']\n",
      "Arquivo: \"PCAT_CELGD_2018-10-22_REVISAO_(PCATCELGD2018).xlsx\" foi baixado com sucesso\n",
      "['PCAT_CELGD_2019-10-22_REAJUSTE_(6072PCATCELGD2019V02).xlsx'\n",
      " 'https://www2.aneel.gov.br/aplicacoes/tarifa/arquivo/6072 PCAT Celg-D 2019 V02.xlsx']\n"
     ]
    },
    {
     "name": "stderr",
     "output_type": "stream",
     "text": [
      "D:\\python_projects\\cpfl\\web_scrapper\\venv_scraper\\lib\\site-packages\\urllib3\\connectionpool.py:1043: InsecureRequestWarning: Unverified HTTPS request is being made to host 'www2.aneel.gov.br'. Adding certificate verification is strongly advised. See: https://urllib3.readthedocs.io/en/1.26.x/advanced-usage.html#ssl-warnings\n",
      "  warnings.warn(\n",
      "D:\\python_projects\\cpfl\\web_scrapper\\venv_scraper\\lib\\site-packages\\urllib3\\connectionpool.py:1043: InsecureRequestWarning: Unverified HTTPS request is being made to host 'www2.aneel.gov.br'. Adding certificate verification is strongly advised. See: https://urllib3.readthedocs.io/en/1.26.x/advanced-usage.html#ssl-warnings\n",
      "  warnings.warn(\n"
     ]
    },
    {
     "name": "stdout",
     "output_type": "stream",
     "text": [
      "Arquivo: \"PCAT_CELGD_2019-10-22_REAJUSTE_(6072PCATCELGD2019V02).xlsx\" foi baixado com sucesso\n",
      "['PCAT_CELGD_2020-10-22_REAJUSTE_(6072PCATENELGO2020V02).xlsx'\n",
      " 'https://www2.aneel.gov.br/aplicacoes/tarifa/arquivo/6072 PCAT Enel GO 2020 V02.xlsx']\n",
      "Arquivo: \"PCAT_CELGD_2019-10-22_REAJUSTE_(6072PCATCELGD2019V02).xlsx\" foi baixado com sucesso\n",
      "['PCAT_CELGD_2020-10-22_REAJUSTE_(6072PCATENELGO2020V02).xlsx'\n",
      " 'https://www2.aneel.gov.br/aplicacoes/tarifa/arquivo/6072 PCAT Enel GO 2020 V02.xlsx']\n"
     ]
    },
    {
     "name": "stderr",
     "output_type": "stream",
     "text": [
      "D:\\python_projects\\cpfl\\web_scrapper\\venv_scraper\\lib\\site-packages\\urllib3\\connectionpool.py:1043: InsecureRequestWarning: Unverified HTTPS request is being made to host 'www2.aneel.gov.br'. Adding certificate verification is strongly advised. See: https://urllib3.readthedocs.io/en/1.26.x/advanced-usage.html#ssl-warnings\n",
      "  warnings.warn(\n",
      "D:\\python_projects\\cpfl\\web_scrapper\\venv_scraper\\lib\\site-packages\\urllib3\\connectionpool.py:1043: InsecureRequestWarning: Unverified HTTPS request is being made to host 'www2.aneel.gov.br'. Adding certificate verification is strongly advised. See: https://urllib3.readthedocs.io/en/1.26.x/advanced-usage.html#ssl-warnings\n",
      "  warnings.warn(\n"
     ]
    },
    {
     "name": "stdout",
     "output_type": "stream",
     "text": [
      "Arquivo: \"PCAT_CELGD_2020-10-22_REAJUSTE_(6072PCATENELGO2020V02).xlsx\" foi baixado com sucesso\n",
      "['PCAT_CELPE_2014-04-29_REAJUSTE_(PCATCELPE2014).xlsx'\n",
      " 'https://www2.aneel.gov.br/aplicacoes/tarifa/arquivo/PCAT_CELPE_2014.xlsx']\n",
      "Arquivo: \"PCAT_CELGD_2020-10-22_REAJUSTE_(6072PCATENELGO2020V02).xlsx\" foi baixado com sucesso\n",
      "['PCAT_CELPE_2014-04-29_REAJUSTE_(PCATCELPE2014).xlsx'\n",
      " 'https://www2.aneel.gov.br/aplicacoes/tarifa/arquivo/PCAT_CELPE_2014.xlsx']\n"
     ]
    },
    {
     "name": "stderr",
     "output_type": "stream",
     "text": [
      "D:\\python_projects\\cpfl\\web_scrapper\\venv_scraper\\lib\\site-packages\\urllib3\\connectionpool.py:1043: InsecureRequestWarning: Unverified HTTPS request is being made to host 'www2.aneel.gov.br'. Adding certificate verification is strongly advised. See: https://urllib3.readthedocs.io/en/1.26.x/advanced-usage.html#ssl-warnings\n",
      "  warnings.warn(\n",
      "D:\\python_projects\\cpfl\\web_scrapper\\venv_scraper\\lib\\site-packages\\urllib3\\connectionpool.py:1043: InsecureRequestWarning: Unverified HTTPS request is being made to host 'www2.aneel.gov.br'. Adding certificate verification is strongly advised. See: https://urllib3.readthedocs.io/en/1.26.x/advanced-usage.html#ssl-warnings\n",
      "  warnings.warn(\n"
     ]
    },
    {
     "name": "stdout",
     "output_type": "stream",
     "text": [
      "Arquivo: \"PCAT_CELPE_2014-04-29_REAJUSTE_(PCATCELPE2014).xlsx\" foi baixado com sucesso\n",
      "['PCAT_CELPE_2015-04-29_REAJUSTE_(PCATCELPE2015A015).xlsx'\n",
      " 'https://www2.aneel.gov.br/aplicacoes/tarifa/arquivo/PCAT_CELPE_2015A_015.xlsx']\n",
      "Arquivo: \"PCAT_CELPE_2014-04-29_REAJUSTE_(PCATCELPE2014).xlsx\" foi baixado com sucesso\n",
      "['PCAT_CELPE_2015-04-29_REAJUSTE_(PCATCELPE2015A015).xlsx'\n",
      " 'https://www2.aneel.gov.br/aplicacoes/tarifa/arquivo/PCAT_CELPE_2015A_015.xlsx']\n"
     ]
    },
    {
     "name": "stderr",
     "output_type": "stream",
     "text": [
      "D:\\python_projects\\cpfl\\web_scrapper\\venv_scraper\\lib\\site-packages\\urllib3\\connectionpool.py:1043: InsecureRequestWarning: Unverified HTTPS request is being made to host 'www2.aneel.gov.br'. Adding certificate verification is strongly advised. See: https://urllib3.readthedocs.io/en/1.26.x/advanced-usage.html#ssl-warnings\n",
      "  warnings.warn(\n",
      "D:\\python_projects\\cpfl\\web_scrapper\\venv_scraper\\lib\\site-packages\\urllib3\\connectionpool.py:1043: InsecureRequestWarning: Unverified HTTPS request is being made to host 'www2.aneel.gov.br'. Adding certificate verification is strongly advised. See: https://urllib3.readthedocs.io/en/1.26.x/advanced-usage.html#ssl-warnings\n",
      "  warnings.warn(\n"
     ]
    },
    {
     "name": "stdout",
     "output_type": "stream",
     "text": [
      "Arquivo: \"PCAT_CELPE_2015-04-29_REAJUSTE_(PCATCELPE2015A015).xlsx\" foi baixado com sucesso\n",
      "['PCAT_CELPE_2015-03-02_REVISAOEXTRAORDINARIA_(PCATCELPE2014V00).xlsx'\n",
      " 'https://www2.aneel.gov.br/aplicacoes/tarifa/arquivo/PCAT_CELPE_2014_V00.xlsx']\n",
      "Arquivo: \"PCAT_CELPE_2015-04-29_REAJUSTE_(PCATCELPE2015A015).xlsx\" foi baixado com sucesso\n",
      "['PCAT_CELPE_2015-03-02_REVISAOEXTRAORDINARIA_(PCATCELPE2014V00).xlsx'\n",
      " 'https://www2.aneel.gov.br/aplicacoes/tarifa/arquivo/PCAT_CELPE_2014_V00.xlsx']\n"
     ]
    },
    {
     "name": "stderr",
     "output_type": "stream",
     "text": [
      "D:\\python_projects\\cpfl\\web_scrapper\\venv_scraper\\lib\\site-packages\\urllib3\\connectionpool.py:1043: InsecureRequestWarning: Unverified HTTPS request is being made to host 'www2.aneel.gov.br'. Adding certificate verification is strongly advised. See: https://urllib3.readthedocs.io/en/1.26.x/advanced-usage.html#ssl-warnings\n",
      "  warnings.warn(\n",
      "D:\\python_projects\\cpfl\\web_scrapper\\venv_scraper\\lib\\site-packages\\urllib3\\connectionpool.py:1043: InsecureRequestWarning: Unverified HTTPS request is being made to host 'www2.aneel.gov.br'. Adding certificate verification is strongly advised. See: https://urllib3.readthedocs.io/en/1.26.x/advanced-usage.html#ssl-warnings\n",
      "  warnings.warn(\n"
     ]
    },
    {
     "name": "stdout",
     "output_type": "stream",
     "text": [
      "Arquivo: \"PCAT_CELPE_2015-03-02_REVISAOEXTRAORDINARIA_(PCATCELPE2014V00).xlsx\" foi baixado com sucesso\n",
      "['PCAT_CELPE_2016-04-29_REAJUSTE_(PCATCELPE2016).xlsx'\n",
      " 'https://www2.aneel.gov.br/aplicacoes/tarifa/arquivo/PCAT_Celpe_2016.xlsx']\n",
      "Arquivo: \"PCAT_CELPE_2015-03-02_REVISAOEXTRAORDINARIA_(PCATCELPE2014V00).xlsx\" foi baixado com sucesso\n",
      "['PCAT_CELPE_2016-04-29_REAJUSTE_(PCATCELPE2016).xlsx'\n",
      " 'https://www2.aneel.gov.br/aplicacoes/tarifa/arquivo/PCAT_Celpe_2016.xlsx']\n"
     ]
    },
    {
     "name": "stderr",
     "output_type": "stream",
     "text": [
      "D:\\python_projects\\cpfl\\web_scrapper\\venv_scraper\\lib\\site-packages\\urllib3\\connectionpool.py:1043: InsecureRequestWarning: Unverified HTTPS request is being made to host 'www2.aneel.gov.br'. Adding certificate verification is strongly advised. See: https://urllib3.readthedocs.io/en/1.26.x/advanced-usage.html#ssl-warnings\n",
      "  warnings.warn(\n",
      "D:\\python_projects\\cpfl\\web_scrapper\\venv_scraper\\lib\\site-packages\\urllib3\\connectionpool.py:1043: InsecureRequestWarning: Unverified HTTPS request is being made to host 'www2.aneel.gov.br'. Adding certificate verification is strongly advised. See: https://urllib3.readthedocs.io/en/1.26.x/advanced-usage.html#ssl-warnings\n",
      "  warnings.warn(\n"
     ]
    },
    {
     "name": "stdout",
     "output_type": "stream",
     "text": [
      "Arquivo: \"PCAT_CELPE_2016-04-29_REAJUSTE_(PCATCELPE2016).xlsx\" foi baixado com sucesso\n",
      "['PCAT_CELPE_2017-04-29_REVISAO_(PCATCELPE2017).xlsx'\n",
      " 'https://www2.aneel.gov.br/aplicacoes/tarifa/arquivo/PCAT_Celpe_2017.xlsx']\n",
      "Arquivo: \"PCAT_CELPE_2016-04-29_REAJUSTE_(PCATCELPE2016).xlsx\" foi baixado com sucesso\n",
      "['PCAT_CELPE_2017-04-29_REVISAO_(PCATCELPE2017).xlsx'\n",
      " 'https://www2.aneel.gov.br/aplicacoes/tarifa/arquivo/PCAT_Celpe_2017.xlsx']\n"
     ]
    },
    {
     "name": "stderr",
     "output_type": "stream",
     "text": [
      "D:\\python_projects\\cpfl\\web_scrapper\\venv_scraper\\lib\\site-packages\\urllib3\\connectionpool.py:1043: InsecureRequestWarning: Unverified HTTPS request is being made to host 'www2.aneel.gov.br'. Adding certificate verification is strongly advised. See: https://urllib3.readthedocs.io/en/1.26.x/advanced-usage.html#ssl-warnings\n",
      "  warnings.warn(\n",
      "D:\\python_projects\\cpfl\\web_scrapper\\venv_scraper\\lib\\site-packages\\urllib3\\connectionpool.py:1043: InsecureRequestWarning: Unverified HTTPS request is being made to host 'www2.aneel.gov.br'. Adding certificate verification is strongly advised. See: https://urllib3.readthedocs.io/en/1.26.x/advanced-usage.html#ssl-warnings\n",
      "  warnings.warn(\n"
     ]
    },
    {
     "name": "stdout",
     "output_type": "stream",
     "text": [
      "Arquivo: \"PCAT_CELPE_2017-04-29_REVISAO_(PCATCELPE2017).xlsx\" foi baixado com sucesso\n",
      "['PCAT_CELPE_2018-04-29_REAJUSTE_(PCATCELPE2018).xlsx'\n",
      " 'https://www2.aneel.gov.br/aplicacoes/tarifa/arquivo/PCAT_Celpe_2018.xlsx']\n",
      "Arquivo: \"PCAT_CELPE_2017-04-29_REVISAO_(PCATCELPE2017).xlsx\" foi baixado com sucesso\n",
      "['PCAT_CELPE_2018-04-29_REAJUSTE_(PCATCELPE2018).xlsx'\n",
      " 'https://www2.aneel.gov.br/aplicacoes/tarifa/arquivo/PCAT_Celpe_2018.xlsx']\n"
     ]
    },
    {
     "name": "stderr",
     "output_type": "stream",
     "text": [
      "D:\\python_projects\\cpfl\\web_scrapper\\venv_scraper\\lib\\site-packages\\urllib3\\connectionpool.py:1043: InsecureRequestWarning: Unverified HTTPS request is being made to host 'www2.aneel.gov.br'. Adding certificate verification is strongly advised. See: https://urllib3.readthedocs.io/en/1.26.x/advanced-usage.html#ssl-warnings\n",
      "  warnings.warn(\n",
      "D:\\python_projects\\cpfl\\web_scrapper\\venv_scraper\\lib\\site-packages\\urllib3\\connectionpool.py:1043: InsecureRequestWarning: Unverified HTTPS request is being made to host 'www2.aneel.gov.br'. Adding certificate verification is strongly advised. See: https://urllib3.readthedocs.io/en/1.26.x/advanced-usage.html#ssl-warnings\n",
      "  warnings.warn(\n"
     ]
    },
    {
     "name": "stdout",
     "output_type": "stream",
     "text": [
      "Arquivo: \"PCAT_CELPE_2018-04-29_REAJUSTE_(PCATCELPE2018).xlsx\" foi baixado com sucesso\n",
      "['PCAT_CELPE_2019-04-22_REAJUSTE_(PCATCELPE2019).xlsx'\n",
      " 'https://www2.aneel.gov.br/aplicacoes/tarifa/arquivo/PCAT_Celpe_2019 .xlsx']\n",
      "Arquivo: \"PCAT_CELPE_2018-04-29_REAJUSTE_(PCATCELPE2018).xlsx\" foi baixado com sucesso\n",
      "['PCAT_CELPE_2019-04-22_REAJUSTE_(PCATCELPE2019).xlsx'\n",
      " 'https://www2.aneel.gov.br/aplicacoes/tarifa/arquivo/PCAT_Celpe_2019 .xlsx']\n"
     ]
    },
    {
     "name": "stderr",
     "output_type": "stream",
     "text": [
      "D:\\python_projects\\cpfl\\web_scrapper\\venv_scraper\\lib\\site-packages\\urllib3\\connectionpool.py:1043: InsecureRequestWarning: Unverified HTTPS request is being made to host 'www2.aneel.gov.br'. Adding certificate verification is strongly advised. See: https://urllib3.readthedocs.io/en/1.26.x/advanced-usage.html#ssl-warnings\n",
      "  warnings.warn(\n",
      "D:\\python_projects\\cpfl\\web_scrapper\\venv_scraper\\lib\\site-packages\\urllib3\\connectionpool.py:1043: InsecureRequestWarning: Unverified HTTPS request is being made to host 'www2.aneel.gov.br'. Adding certificate verification is strongly advised. See: https://urllib3.readthedocs.io/en/1.26.x/advanced-usage.html#ssl-warnings\n",
      "  warnings.warn(\n"
     ]
    },
    {
     "name": "stdout",
     "output_type": "stream",
     "text": [
      "Arquivo: \"PCAT_CELPE_2019-04-22_REAJUSTE_(PCATCELPE2019).xlsx\" foi baixado com sucesso\n",
      "['PCAT_CELPE_2020-04-29_REAJUSTE_(43PCATCELPE2020).xlsx'\n",
      " 'https://www2.aneel.gov.br/aplicacoes/tarifa/arquivo/43_PCAT_CELPE_2020.xlsx']\n",
      "Arquivo: \"PCAT_CELPE_2019-04-22_REAJUSTE_(PCATCELPE2019).xlsx\" foi baixado com sucesso\n",
      "['PCAT_CELPE_2020-04-29_REAJUSTE_(43PCATCELPE2020).xlsx'\n",
      " 'https://www2.aneel.gov.br/aplicacoes/tarifa/arquivo/43_PCAT_CELPE_2020.xlsx']\n"
     ]
    },
    {
     "name": "stderr",
     "output_type": "stream",
     "text": [
      "D:\\python_projects\\cpfl\\web_scrapper\\venv_scraper\\lib\\site-packages\\urllib3\\connectionpool.py:1043: InsecureRequestWarning: Unverified HTTPS request is being made to host 'www2.aneel.gov.br'. Adding certificate verification is strongly advised. See: https://urllib3.readthedocs.io/en/1.26.x/advanced-usage.html#ssl-warnings\n",
      "  warnings.warn(\n",
      "D:\\python_projects\\cpfl\\web_scrapper\\venv_scraper\\lib\\site-packages\\urllib3\\connectionpool.py:1043: InsecureRequestWarning: Unverified HTTPS request is being made to host 'www2.aneel.gov.br'. Adding certificate verification is strongly advised. See: https://urllib3.readthedocs.io/en/1.26.x/advanced-usage.html#ssl-warnings\n",
      "  warnings.warn(\n"
     ]
    },
    {
     "name": "stdout",
     "output_type": "stream",
     "text": [
      "Arquivo: \"PCAT_CELPE_2020-04-29_REAJUSTE_(43PCATCELPE2020).xlsx\" foi baixado com sucesso\n",
      "['PCAT_CELPE_2021-04-29_REVISAO_(43PCATCELPE2021V02).xlsx'\n",
      " 'https://www2.aneel.gov.br/aplicacoes/tarifa/arquivo/43 PCAT Celpe 2021 V02.xlsx']\n",
      "Arquivo: \"PCAT_CELPE_2020-04-29_REAJUSTE_(43PCATCELPE2020).xlsx\" foi baixado com sucesso\n",
      "['PCAT_CELPE_2021-04-29_REVISAO_(43PCATCELPE2021V02).xlsx'\n",
      " 'https://www2.aneel.gov.br/aplicacoes/tarifa/arquivo/43 PCAT Celpe 2021 V02.xlsx']\n"
     ]
    },
    {
     "name": "stderr",
     "output_type": "stream",
     "text": [
      "D:\\python_projects\\cpfl\\web_scrapper\\venv_scraper\\lib\\site-packages\\urllib3\\connectionpool.py:1043: InsecureRequestWarning: Unverified HTTPS request is being made to host 'www2.aneel.gov.br'. Adding certificate verification is strongly advised. See: https://urllib3.readthedocs.io/en/1.26.x/advanced-usage.html#ssl-warnings\n",
      "  warnings.warn(\n",
      "D:\\python_projects\\cpfl\\web_scrapper\\venv_scraper\\lib\\site-packages\\urllib3\\connectionpool.py:1043: InsecureRequestWarning: Unverified HTTPS request is being made to host 'www2.aneel.gov.br'. Adding certificate verification is strongly advised. See: https://urllib3.readthedocs.io/en/1.26.x/advanced-usage.html#ssl-warnings\n",
      "  warnings.warn(\n"
     ]
    },
    {
     "name": "stdout",
     "output_type": "stream",
     "text": [
      "Arquivo: \"PCAT_CELPE_2021-04-29_REVISAO_(43PCATCELPE2021V02).xlsx\" foi baixado com sucesso\n",
      "['PCAT_CEMIGD_2015-04-08_REAJUSTE_(PCATCEMIG2015A015).xls'\n",
      " 'https://www2.aneel.gov.br/aplicacoes/tarifa/arquivo/PCAT_CEMIG_2015A_015.xls']\n",
      "Arquivo: \"PCAT_CELPE_2021-04-29_REVISAO_(43PCATCELPE2021V02).xlsx\" foi baixado com sucesso\n",
      "['PCAT_CEMIGD_2015-04-08_REAJUSTE_(PCATCEMIG2015A015).xls'\n",
      " 'https://www2.aneel.gov.br/aplicacoes/tarifa/arquivo/PCAT_CEMIG_2015A_015.xls']\n"
     ]
    },
    {
     "name": "stderr",
     "output_type": "stream",
     "text": [
      "D:\\python_projects\\cpfl\\web_scrapper\\venv_scraper\\lib\\site-packages\\urllib3\\connectionpool.py:1043: InsecureRequestWarning: Unverified HTTPS request is being made to host 'www2.aneel.gov.br'. Adding certificate verification is strongly advised. See: https://urllib3.readthedocs.io/en/1.26.x/advanced-usage.html#ssl-warnings\n",
      "  warnings.warn(\n",
      "D:\\python_projects\\cpfl\\web_scrapper\\venv_scraper\\lib\\site-packages\\urllib3\\connectionpool.py:1043: InsecureRequestWarning: Unverified HTTPS request is being made to host 'www2.aneel.gov.br'. Adding certificate verification is strongly advised. See: https://urllib3.readthedocs.io/en/1.26.x/advanced-usage.html#ssl-warnings\n",
      "  warnings.warn(\n"
     ]
    },
    {
     "name": "stdout",
     "output_type": "stream",
     "text": [
      "Arquivo: \"PCAT_CEMIGD_2015-04-08_REAJUSTE_(PCATCEMIG2015A015).xls\" foi baixado com sucesso\n",
      "['PCAT_CEMIGD_2015-03-02_REVISAOEXTRAORDINARIA_(PCATCEMIG2014V00).xlsx'\n",
      " 'https://www2.aneel.gov.br/aplicacoes/tarifa/arquivo/PCAT_CEMIG_2014_V00.xlsx']\n",
      "Arquivo: \"PCAT_CEMIGD_2015-04-08_REAJUSTE_(PCATCEMIG2015A015).xls\" foi baixado com sucesso\n",
      "['PCAT_CEMIGD_2015-03-02_REVISAOEXTRAORDINARIA_(PCATCEMIG2014V00).xlsx'\n",
      " 'https://www2.aneel.gov.br/aplicacoes/tarifa/arquivo/PCAT_CEMIG_2014_V00.xlsx']\n"
     ]
    },
    {
     "name": "stderr",
     "output_type": "stream",
     "text": [
      "D:\\python_projects\\cpfl\\web_scrapper\\venv_scraper\\lib\\site-packages\\urllib3\\connectionpool.py:1043: InsecureRequestWarning: Unverified HTTPS request is being made to host 'www2.aneel.gov.br'. Adding certificate verification is strongly advised. See: https://urllib3.readthedocs.io/en/1.26.x/advanced-usage.html#ssl-warnings\n",
      "  warnings.warn(\n",
      "D:\\python_projects\\cpfl\\web_scrapper\\venv_scraper\\lib\\site-packages\\urllib3\\connectionpool.py:1043: InsecureRequestWarning: Unverified HTTPS request is being made to host 'www2.aneel.gov.br'. Adding certificate verification is strongly advised. See: https://urllib3.readthedocs.io/en/1.26.x/advanced-usage.html#ssl-warnings\n",
      "  warnings.warn(\n"
     ]
    },
    {
     "name": "stdout",
     "output_type": "stream",
     "text": [
      "Arquivo: \"PCAT_CEMIGD_2015-03-02_REVISAOEXTRAORDINARIA_(PCATCEMIG2014V00).xlsx\" foi baixado com sucesso\n",
      "['PCAT_CEMIGD_2016-05-28_REAJUSTE_(PCATCEMIG2016).xlsx'\n",
      " 'https://www2.aneel.gov.br/aplicacoes/tarifa/arquivo/PCAT_CEMIG_2016.xlsx']\n",
      "Arquivo: \"PCAT_CEMIGD_2015-03-02_REVISAOEXTRAORDINARIA_(PCATCEMIG2014V00).xlsx\" foi baixado com sucesso\n",
      "['PCAT_CEMIGD_2016-05-28_REAJUSTE_(PCATCEMIG2016).xlsx'\n",
      " 'https://www2.aneel.gov.br/aplicacoes/tarifa/arquivo/PCAT_CEMIG_2016.xlsx']\n"
     ]
    },
    {
     "name": "stderr",
     "output_type": "stream",
     "text": [
      "D:\\python_projects\\cpfl\\web_scrapper\\venv_scraper\\lib\\site-packages\\urllib3\\connectionpool.py:1043: InsecureRequestWarning: Unverified HTTPS request is being made to host 'www2.aneel.gov.br'. Adding certificate verification is strongly advised. See: https://urllib3.readthedocs.io/en/1.26.x/advanced-usage.html#ssl-warnings\n",
      "  warnings.warn(\n",
      "D:\\python_projects\\cpfl\\web_scrapper\\venv_scraper\\lib\\site-packages\\urllib3\\connectionpool.py:1043: InsecureRequestWarning: Unverified HTTPS request is being made to host 'www2.aneel.gov.br'. Adding certificate verification is strongly advised. See: https://urllib3.readthedocs.io/en/1.26.x/advanced-usage.html#ssl-warnings\n",
      "  warnings.warn(\n"
     ]
    },
    {
     "name": "stdout",
     "output_type": "stream",
     "text": [
      "Arquivo: \"PCAT_CEMIGD_2016-05-28_REAJUSTE_(PCATCEMIG2016).xlsx\" foi baixado com sucesso\n",
      "['PCAT_CEMIGD_2017-05-28_REAJUSTE_(PCATCEMIGD2017).xlsx'\n",
      " 'https://www2.aneel.gov.br/aplicacoes/tarifa/arquivo/PCAT_Cemig-D_2017.xlsx']\n",
      "Arquivo: \"PCAT_CEMIGD_2016-05-28_REAJUSTE_(PCATCEMIG2016).xlsx\" foi baixado com sucesso\n",
      "['PCAT_CEMIGD_2017-05-28_REAJUSTE_(PCATCEMIGD2017).xlsx'\n",
      " 'https://www2.aneel.gov.br/aplicacoes/tarifa/arquivo/PCAT_Cemig-D_2017.xlsx']\n"
     ]
    },
    {
     "name": "stderr",
     "output_type": "stream",
     "text": [
      "D:\\python_projects\\cpfl\\web_scrapper\\venv_scraper\\lib\\site-packages\\urllib3\\connectionpool.py:1043: InsecureRequestWarning: Unverified HTTPS request is being made to host 'www2.aneel.gov.br'. Adding certificate verification is strongly advised. See: https://urllib3.readthedocs.io/en/1.26.x/advanced-usage.html#ssl-warnings\n",
      "  warnings.warn(\n",
      "D:\\python_projects\\cpfl\\web_scrapper\\venv_scraper\\lib\\site-packages\\urllib3\\connectionpool.py:1043: InsecureRequestWarning: Unverified HTTPS request is being made to host 'www2.aneel.gov.br'. Adding certificate verification is strongly advised. See: https://urllib3.readthedocs.io/en/1.26.x/advanced-usage.html#ssl-warnings\n",
      "  warnings.warn(\n"
     ]
    },
    {
     "name": "stdout",
     "output_type": "stream",
     "text": [
      "Arquivo: \"PCAT_CEMIGD_2017-05-28_REAJUSTE_(PCATCEMIGD2017).xlsx\" foi baixado com sucesso\n",
      "['PCAT_CEMIGD_2018-05-28_REVISAO_(PCATCEMIG2018).xlsx'\n",
      " 'https://www2.aneel.gov.br/aplicacoes/tarifa/arquivo/PCAT _Cemig_2018.xlsx']\n",
      "Arquivo: \"PCAT_CEMIGD_2017-05-28_REAJUSTE_(PCATCEMIGD2017).xlsx\" foi baixado com sucesso\n",
      "['PCAT_CEMIGD_2018-05-28_REVISAO_(PCATCEMIG2018).xlsx'\n",
      " 'https://www2.aneel.gov.br/aplicacoes/tarifa/arquivo/PCAT _Cemig_2018.xlsx']\n"
     ]
    },
    {
     "name": "stderr",
     "output_type": "stream",
     "text": [
      "D:\\python_projects\\cpfl\\web_scrapper\\venv_scraper\\lib\\site-packages\\urllib3\\connectionpool.py:1043: InsecureRequestWarning: Unverified HTTPS request is being made to host 'www2.aneel.gov.br'. Adding certificate verification is strongly advised. See: https://urllib3.readthedocs.io/en/1.26.x/advanced-usage.html#ssl-warnings\n",
      "  warnings.warn(\n",
      "D:\\python_projects\\cpfl\\web_scrapper\\venv_scraper\\lib\\site-packages\\urllib3\\connectionpool.py:1043: InsecureRequestWarning: Unverified HTTPS request is being made to host 'www2.aneel.gov.br'. Adding certificate verification is strongly advised. See: https://urllib3.readthedocs.io/en/1.26.x/advanced-usage.html#ssl-warnings\n",
      "  warnings.warn(\n"
     ]
    },
    {
     "name": "stdout",
     "output_type": "stream",
     "text": [
      "Arquivo: \"PCAT_CEMIGD_2018-05-28_REVISAO_(PCATCEMIG2018).xlsx\" foi baixado com sucesso\n",
      "['PCAT_CEMIGD_2019-05-28_REAJUSTE_(4950PCATCEMIGD2019V02).xlsx'\n",
      " 'https://www2.aneel.gov.br/aplicacoes/tarifa/arquivo/4950 PCAT Cemig-D 2019 V02.xlsx']\n",
      "Arquivo: \"PCAT_CEMIGD_2018-05-28_REVISAO_(PCATCEMIG2018).xlsx\" foi baixado com sucesso\n",
      "['PCAT_CEMIGD_2019-05-28_REAJUSTE_(4950PCATCEMIGD2019V02).xlsx'\n",
      " 'https://www2.aneel.gov.br/aplicacoes/tarifa/arquivo/4950 PCAT Cemig-D 2019 V02.xlsx']\n"
     ]
    },
    {
     "name": "stderr",
     "output_type": "stream",
     "text": [
      "D:\\python_projects\\cpfl\\web_scrapper\\venv_scraper\\lib\\site-packages\\urllib3\\connectionpool.py:1043: InsecureRequestWarning: Unverified HTTPS request is being made to host 'www2.aneel.gov.br'. Adding certificate verification is strongly advised. See: https://urllib3.readthedocs.io/en/1.26.x/advanced-usage.html#ssl-warnings\n",
      "  warnings.warn(\n",
      "D:\\python_projects\\cpfl\\web_scrapper\\venv_scraper\\lib\\site-packages\\urllib3\\connectionpool.py:1043: InsecureRequestWarning: Unverified HTTPS request is being made to host 'www2.aneel.gov.br'. Adding certificate verification is strongly advised. See: https://urllib3.readthedocs.io/en/1.26.x/advanced-usage.html#ssl-warnings\n",
      "  warnings.warn(\n"
     ]
    },
    {
     "name": "stdout",
     "output_type": "stream",
     "text": [
      "Arquivo: \"PCAT_CEMIGD_2019-05-28_REAJUSTE_(4950PCATCEMIGD2019V02).xlsx\" foi baixado com sucesso\n",
      "['PCAT_CEMIGD_2020-08-19_REAJUSTE_(4950PCATCEMIGD2020V02POSRECURSO).xlsx'\n",
      " 'https://www2.aneel.gov.br/aplicacoes/tarifa/arquivo/4950 PCAT Cemig-D 2020 V02 - Pós Recurso.xlsx']\n",
      "Arquivo: \"PCAT_CEMIGD_2019-05-28_REAJUSTE_(4950PCATCEMIGD2019V02).xlsx\" foi baixado com sucesso\n",
      "['PCAT_CEMIGD_2020-08-19_REAJUSTE_(4950PCATCEMIGD2020V02POSRECURSO).xlsx'\n",
      " 'https://www2.aneel.gov.br/aplicacoes/tarifa/arquivo/4950 PCAT Cemig-D 2020 V02 - Pós Recurso.xlsx']\n"
     ]
    },
    {
     "name": "stderr",
     "output_type": "stream",
     "text": [
      "D:\\python_projects\\cpfl\\web_scrapper\\venv_scraper\\lib\\site-packages\\urllib3\\connectionpool.py:1043: InsecureRequestWarning: Unverified HTTPS request is being made to host 'www2.aneel.gov.br'. Adding certificate verification is strongly advised. See: https://urllib3.readthedocs.io/en/1.26.x/advanced-usage.html#ssl-warnings\n",
      "  warnings.warn(\n",
      "D:\\python_projects\\cpfl\\web_scrapper\\venv_scraper\\lib\\site-packages\\urllib3\\connectionpool.py:1043: InsecureRequestWarning: Unverified HTTPS request is being made to host 'www2.aneel.gov.br'. Adding certificate verification is strongly advised. See: https://urllib3.readthedocs.io/en/1.26.x/advanced-usage.html#ssl-warnings\n",
      "  warnings.warn(\n"
     ]
    },
    {
     "name": "stdout",
     "output_type": "stream",
     "text": [
      "Arquivo: \"PCAT_CEMIGD_2020-08-19_REAJUSTE_(4950PCATCEMIGD2020V02POSRECURSO).xlsx\" foi baixado com sucesso\n",
      "['PCAT_CEMIGD_2020-05-28_REAJUSTE_(4950PCATCEMIGD2020V02).xlsx'\n",
      " 'https://www2.aneel.gov.br/aplicacoes/tarifa/arquivo/4950 PCAT Cemig-D 2020 V02.xlsx']\n",
      "Arquivo: \"PCAT_CEMIGD_2020-08-19_REAJUSTE_(4950PCATCEMIGD2020V02POSRECURSO).xlsx\" foi baixado com sucesso\n",
      "['PCAT_CEMIGD_2020-05-28_REAJUSTE_(4950PCATCEMIGD2020V02).xlsx'\n",
      " 'https://www2.aneel.gov.br/aplicacoes/tarifa/arquivo/4950 PCAT Cemig-D 2020 V02.xlsx']\n"
     ]
    },
    {
     "name": "stderr",
     "output_type": "stream",
     "text": [
      "D:\\python_projects\\cpfl\\web_scrapper\\venv_scraper\\lib\\site-packages\\urllib3\\connectionpool.py:1043: InsecureRequestWarning: Unverified HTTPS request is being made to host 'www2.aneel.gov.br'. Adding certificate verification is strongly advised. See: https://urllib3.readthedocs.io/en/1.26.x/advanced-usage.html#ssl-warnings\n",
      "  warnings.warn(\n",
      "D:\\python_projects\\cpfl\\web_scrapper\\venv_scraper\\lib\\site-packages\\urllib3\\connectionpool.py:1043: InsecureRequestWarning: Unverified HTTPS request is being made to host 'www2.aneel.gov.br'. Adding certificate verification is strongly advised. See: https://urllib3.readthedocs.io/en/1.26.x/advanced-usage.html#ssl-warnings\n",
      "  warnings.warn(\n"
     ]
    },
    {
     "name": "stdout",
     "output_type": "stream",
     "text": [
      "Arquivo: \"PCAT_CEMIGD_2020-05-28_REAJUSTE_(4950PCATCEMIGD2020V02).xlsx\" foi baixado com sucesso\n",
      "['PCAT_CEMIGD_2021-05-29_REAJUSTE_(4950PCATCEMIGD2021V021).xlsx'\n",
      " 'https://www2.aneel.gov.br/aplicacoes/tarifa/arquivo/4950 PCAT Cemig-D 2021 V021.xlsx']\n",
      "Arquivo: \"PCAT_CEMIGD_2020-05-28_REAJUSTE_(4950PCATCEMIGD2020V02).xlsx\" foi baixado com sucesso\n",
      "['PCAT_CEMIGD_2021-05-29_REAJUSTE_(4950PCATCEMIGD2021V021).xlsx'\n",
      " 'https://www2.aneel.gov.br/aplicacoes/tarifa/arquivo/4950 PCAT Cemig-D 2021 V021.xlsx']\n"
     ]
    },
    {
     "name": "stderr",
     "output_type": "stream",
     "text": [
      "D:\\python_projects\\cpfl\\web_scrapper\\venv_scraper\\lib\\site-packages\\urllib3\\connectionpool.py:1043: InsecureRequestWarning: Unverified HTTPS request is being made to host 'www2.aneel.gov.br'. Adding certificate verification is strongly advised. See: https://urllib3.readthedocs.io/en/1.26.x/advanced-usage.html#ssl-warnings\n",
      "  warnings.warn(\n",
      "D:\\python_projects\\cpfl\\web_scrapper\\venv_scraper\\lib\\site-packages\\urllib3\\connectionpool.py:1043: InsecureRequestWarning: Unverified HTTPS request is being made to host 'www2.aneel.gov.br'. Adding certificate verification is strongly advised. See: https://urllib3.readthedocs.io/en/1.26.x/advanced-usage.html#ssl-warnings\n",
      "  warnings.warn(\n"
     ]
    },
    {
     "name": "stdout",
     "output_type": "stream",
     "text": [
      "Arquivo: \"PCAT_CEMIGD_2021-05-29_REAJUSTE_(4950PCATCEMIGD2021V021).xlsx\" foi baixado com sucesso\n",
      "['PCAT_CERON_2013-11-30_REVISAO_(369PCATCERON2013V00).xlsx'\n",
      " 'https://www2.aneel.gov.br/aplicacoes/tarifa/arquivo/369 PCAT CERON 2013 V00.xlsx']\n",
      "Arquivo: \"PCAT_CEMIGD_2021-05-29_REAJUSTE_(4950PCATCEMIGD2021V021).xlsx\" foi baixado com sucesso\n",
      "['PCAT_CERON_2013-11-30_REVISAO_(369PCATCERON2013V00).xlsx'\n",
      " 'https://www2.aneel.gov.br/aplicacoes/tarifa/arquivo/369 PCAT CERON 2013 V00.xlsx']\n"
     ]
    },
    {
     "name": "stderr",
     "output_type": "stream",
     "text": [
      "D:\\python_projects\\cpfl\\web_scrapper\\venv_scraper\\lib\\site-packages\\urllib3\\connectionpool.py:1043: InsecureRequestWarning: Unverified HTTPS request is being made to host 'www2.aneel.gov.br'. Adding certificate verification is strongly advised. See: https://urllib3.readthedocs.io/en/1.26.x/advanced-usage.html#ssl-warnings\n",
      "  warnings.warn(\n",
      "D:\\python_projects\\cpfl\\web_scrapper\\venv_scraper\\lib\\site-packages\\urllib3\\connectionpool.py:1043: InsecureRequestWarning: Unverified HTTPS request is being made to host 'www2.aneel.gov.br'. Adding certificate verification is strongly advised. See: https://urllib3.readthedocs.io/en/1.26.x/advanced-usage.html#ssl-warnings\n",
      "  warnings.warn(\n"
     ]
    },
    {
     "name": "stdout",
     "output_type": "stream",
     "text": [
      "Arquivo: \"PCAT_CERON_2013-11-30_REVISAO_(369PCATCERON2013V00).xlsx\" foi baixado com sucesso\n",
      "['PCAT_CERON_2014-11-30_REAJUSTE_(PCATCERON2014).xlsx'\n",
      " 'https://www2.aneel.gov.br/aplicacoes/tarifa/arquivo/PCAT_CERON_2014.xlsx']\n",
      "Arquivo: \"PCAT_CERON_2013-11-30_REVISAO_(369PCATCERON2013V00).xlsx\" foi baixado com sucesso\n",
      "['PCAT_CERON_2014-11-30_REAJUSTE_(PCATCERON2014).xlsx'\n",
      " 'https://www2.aneel.gov.br/aplicacoes/tarifa/arquivo/PCAT_CERON_2014.xlsx']\n"
     ]
    },
    {
     "name": "stderr",
     "output_type": "stream",
     "text": [
      "D:\\python_projects\\cpfl\\web_scrapper\\venv_scraper\\lib\\site-packages\\urllib3\\connectionpool.py:1043: InsecureRequestWarning: Unverified HTTPS request is being made to host 'www2.aneel.gov.br'. Adding certificate verification is strongly advised. See: https://urllib3.readthedocs.io/en/1.26.x/advanced-usage.html#ssl-warnings\n",
      "  warnings.warn(\n",
      "D:\\python_projects\\cpfl\\web_scrapper\\venv_scraper\\lib\\site-packages\\urllib3\\connectionpool.py:1043: InsecureRequestWarning: Unverified HTTPS request is being made to host 'www2.aneel.gov.br'. Adding certificate verification is strongly advised. See: https://urllib3.readthedocs.io/en/1.26.x/advanced-usage.html#ssl-warnings\n",
      "  warnings.warn(\n"
     ]
    },
    {
     "name": "stdout",
     "output_type": "stream",
     "text": [
      "Arquivo: \"PCAT_CERON_2014-11-30_REAJUSTE_(PCATCERON2014).xlsx\" foi baixado com sucesso\n",
      "['PCAT_CERON_2015-11-30_REAJUSTE_(PCATCERON2015).xlsx'\n",
      " 'https://www2.aneel.gov.br/aplicacoes/tarifa/arquivo/PCAT_Ceron_2015.xlsx']\n",
      "Arquivo: \"PCAT_CERON_2014-11-30_REAJUSTE_(PCATCERON2014).xlsx\" foi baixado com sucesso\n",
      "['PCAT_CERON_2015-11-30_REAJUSTE_(PCATCERON2015).xlsx'\n",
      " 'https://www2.aneel.gov.br/aplicacoes/tarifa/arquivo/PCAT_Ceron_2015.xlsx']\n"
     ]
    },
    {
     "name": "stderr",
     "output_type": "stream",
     "text": [
      "D:\\python_projects\\cpfl\\web_scrapper\\venv_scraper\\lib\\site-packages\\urllib3\\connectionpool.py:1043: InsecureRequestWarning: Unverified HTTPS request is being made to host 'www2.aneel.gov.br'. Adding certificate verification is strongly advised. See: https://urllib3.readthedocs.io/en/1.26.x/advanced-usage.html#ssl-warnings\n",
      "  warnings.warn(\n",
      "D:\\python_projects\\cpfl\\web_scrapper\\venv_scraper\\lib\\site-packages\\urllib3\\connectionpool.py:1043: InsecureRequestWarning: Unverified HTTPS request is being made to host 'www2.aneel.gov.br'. Adding certificate verification is strongly advised. See: https://urllib3.readthedocs.io/en/1.26.x/advanced-usage.html#ssl-warnings\n",
      "  warnings.warn(\n"
     ]
    },
    {
     "name": "stdout",
     "output_type": "stream",
     "text": [
      "Arquivo: \"PCAT_CERON_2015-11-30_REAJUSTE_(PCATCERON2015).xlsx\" foi baixado com sucesso\n",
      "['PCAT_CERON_2015-03-02_REVISAOEXTRAORDINARIA_(PCATCERON2014CAT).xlsx'\n",
      " 'https://www2.aneel.gov.br/aplicacoes/tarifa/arquivo/PCAT_CERON_2014_CAT.xlsx']\n",
      "Arquivo: \"PCAT_CERON_2015-11-30_REAJUSTE_(PCATCERON2015).xlsx\" foi baixado com sucesso\n",
      "['PCAT_CERON_2015-03-02_REVISAOEXTRAORDINARIA_(PCATCERON2014CAT).xlsx'\n",
      " 'https://www2.aneel.gov.br/aplicacoes/tarifa/arquivo/PCAT_CERON_2014_CAT.xlsx']\n"
     ]
    },
    {
     "name": "stderr",
     "output_type": "stream",
     "text": [
      "D:\\python_projects\\cpfl\\web_scrapper\\venv_scraper\\lib\\site-packages\\urllib3\\connectionpool.py:1043: InsecureRequestWarning: Unverified HTTPS request is being made to host 'www2.aneel.gov.br'. Adding certificate verification is strongly advised. See: https://urllib3.readthedocs.io/en/1.26.x/advanced-usage.html#ssl-warnings\n",
      "  warnings.warn(\n",
      "D:\\python_projects\\cpfl\\web_scrapper\\venv_scraper\\lib\\site-packages\\urllib3\\connectionpool.py:1043: InsecureRequestWarning: Unverified HTTPS request is being made to host 'www2.aneel.gov.br'. Adding certificate verification is strongly advised. See: https://urllib3.readthedocs.io/en/1.26.x/advanced-usage.html#ssl-warnings\n",
      "  warnings.warn(\n"
     ]
    },
    {
     "name": "stdout",
     "output_type": "stream",
     "text": [
      "Arquivo: \"PCAT_CERON_2015-03-02_REVISAOEXTRAORDINARIA_(PCATCERON2014CAT).xlsx\" foi baixado com sucesso\n",
      "['PCAT_CERON_2016-11-30_REAJUSTE_(PCATCERON2016).xlsx'\n",
      " 'https://www2.aneel.gov.br/aplicacoes/tarifa/arquivo/PCAT_Ceron_ 2016.xlsx']\n",
      "Arquivo: \"PCAT_CERON_2015-03-02_REVISAOEXTRAORDINARIA_(PCATCERON2014CAT).xlsx\" foi baixado com sucesso\n",
      "['PCAT_CERON_2016-11-30_REAJUSTE_(PCATCERON2016).xlsx'\n",
      " 'https://www2.aneel.gov.br/aplicacoes/tarifa/arquivo/PCAT_Ceron_ 2016.xlsx']\n"
     ]
    },
    {
     "name": "stderr",
     "output_type": "stream",
     "text": [
      "D:\\python_projects\\cpfl\\web_scrapper\\venv_scraper\\lib\\site-packages\\urllib3\\connectionpool.py:1043: InsecureRequestWarning: Unverified HTTPS request is being made to host 'www2.aneel.gov.br'. Adding certificate verification is strongly advised. See: https://urllib3.readthedocs.io/en/1.26.x/advanced-usage.html#ssl-warnings\n",
      "  warnings.warn(\n",
      "D:\\python_projects\\cpfl\\web_scrapper\\venv_scraper\\lib\\site-packages\\urllib3\\connectionpool.py:1043: InsecureRequestWarning: Unverified HTTPS request is being made to host 'www2.aneel.gov.br'. Adding certificate verification is strongly advised. See: https://urllib3.readthedocs.io/en/1.26.x/advanced-usage.html#ssl-warnings\n",
      "  warnings.warn(\n"
     ]
    },
    {
     "name": "stdout",
     "output_type": "stream",
     "text": [
      "Arquivo: \"PCAT_CERON_2016-11-30_REAJUSTE_(PCATCERON2016).xlsx\" foi baixado com sucesso\n",
      "['PCAT_CERON_2017-11-30_REAJUSTE_(PCATCERON2017).xlsx'\n",
      " 'https://www2.aneel.gov.br/aplicacoes/tarifa/arquivo/PCAT_Ceron_2017.xlsx']\n",
      "Arquivo: \"PCAT_CERON_2016-11-30_REAJUSTE_(PCATCERON2016).xlsx\" foi baixado com sucesso\n",
      "['PCAT_CERON_2017-11-30_REAJUSTE_(PCATCERON2017).xlsx'\n",
      " 'https://www2.aneel.gov.br/aplicacoes/tarifa/arquivo/PCAT_Ceron_2017.xlsx']\n"
     ]
    },
    {
     "name": "stderr",
     "output_type": "stream",
     "text": [
      "D:\\python_projects\\cpfl\\web_scrapper\\venv_scraper\\lib\\site-packages\\urllib3\\connectionpool.py:1043: InsecureRequestWarning: Unverified HTTPS request is being made to host 'www2.aneel.gov.br'. Adding certificate verification is strongly advised. See: https://urllib3.readthedocs.io/en/1.26.x/advanced-usage.html#ssl-warnings\n",
      "  warnings.warn(\n",
      "D:\\python_projects\\cpfl\\web_scrapper\\venv_scraper\\lib\\site-packages\\urllib3\\connectionpool.py:1043: InsecureRequestWarning: Unverified HTTPS request is being made to host 'www2.aneel.gov.br'. Adding certificate verification is strongly advised. See: https://urllib3.readthedocs.io/en/1.26.x/advanced-usage.html#ssl-warnings\n",
      "  warnings.warn(\n"
     ]
    },
    {
     "name": "stdout",
     "output_type": "stream",
     "text": [
      "Arquivo: \"PCAT_CERON_2017-11-30_REAJUSTE_(PCATCERON2017).xlsx\" foi baixado com sucesso\n",
      "['PCAT_CERON_2018-12-13_REAJUSTE_(PCATCERON2018).xlsx'\n",
      " 'https://www2.aneel.gov.br/aplicacoes/tarifa/arquivo/PCAT_Ceron_2018.xlsx']\n",
      "Arquivo: \"PCAT_CERON_2017-11-30_REAJUSTE_(PCATCERON2017).xlsx\" foi baixado com sucesso\n",
      "['PCAT_CERON_2018-12-13_REAJUSTE_(PCATCERON2018).xlsx'\n",
      " 'https://www2.aneel.gov.br/aplicacoes/tarifa/arquivo/PCAT_Ceron_2018.xlsx']\n"
     ]
    },
    {
     "name": "stderr",
     "output_type": "stream",
     "text": [
      "D:\\python_projects\\cpfl\\web_scrapper\\venv_scraper\\lib\\site-packages\\urllib3\\connectionpool.py:1043: InsecureRequestWarning: Unverified HTTPS request is being made to host 'www2.aneel.gov.br'. Adding certificate verification is strongly advised. See: https://urllib3.readthedocs.io/en/1.26.x/advanced-usage.html#ssl-warnings\n",
      "  warnings.warn(\n",
      "D:\\python_projects\\cpfl\\web_scrapper\\venv_scraper\\lib\\site-packages\\urllib3\\connectionpool.py:1043: InsecureRequestWarning: Unverified HTTPS request is being made to host 'www2.aneel.gov.br'. Adding certificate verification is strongly advised. See: https://urllib3.readthedocs.io/en/1.26.x/advanced-usage.html#ssl-warnings\n",
      "  warnings.warn(\n"
     ]
    },
    {
     "name": "stdout",
     "output_type": "stream",
     "text": [
      "Arquivo: \"PCAT_CERON_2018-12-13_REAJUSTE_(PCATCERON2018).xlsx\" foi baixado com sucesso\n",
      "['PCAT_CERON_2019-12-13_REAJUSTE_(369PCATCERON2019V02).xlsx'\n",
      " 'https://www2.aneel.gov.br/aplicacoes/tarifa/arquivo/369 PCAT Ceron 2019 V02.xlsx']\n",
      "Arquivo: \"PCAT_CERON_2018-12-13_REAJUSTE_(PCATCERON2018).xlsx\" foi baixado com sucesso\n",
      "['PCAT_CERON_2019-12-13_REAJUSTE_(369PCATCERON2019V02).xlsx'\n",
      " 'https://www2.aneel.gov.br/aplicacoes/tarifa/arquivo/369 PCAT Ceron 2019 V02.xlsx']\n"
     ]
    },
    {
     "name": "stderr",
     "output_type": "stream",
     "text": [
      "D:\\python_projects\\cpfl\\web_scrapper\\venv_scraper\\lib\\site-packages\\urllib3\\connectionpool.py:1043: InsecureRequestWarning: Unverified HTTPS request is being made to host 'www2.aneel.gov.br'. Adding certificate verification is strongly advised. See: https://urllib3.readthedocs.io/en/1.26.x/advanced-usage.html#ssl-warnings\n",
      "  warnings.warn(\n",
      "D:\\python_projects\\cpfl\\web_scrapper\\venv_scraper\\lib\\site-packages\\urllib3\\connectionpool.py:1043: InsecureRequestWarning: Unverified HTTPS request is being made to host 'www2.aneel.gov.br'. Adding certificate verification is strongly advised. See: https://urllib3.readthedocs.io/en/1.26.x/advanced-usage.html#ssl-warnings\n",
      "  warnings.warn(\n"
     ]
    },
    {
     "name": "stdout",
     "output_type": "stream",
     "text": [
      "Arquivo: \"PCAT_CERON_2019-12-13_REAJUSTE_(369PCATCERON2019V02).xlsx\" foi baixado com sucesso\n",
      "['PCAT_CERON_2019-04-01_REVISAOEXTRAORDINARIA_(PCATCERONRTE2019).xlsx'\n",
      " 'https://www2.aneel.gov.br/aplicacoes/tarifa/arquivo/PCAT_Ceron_RTE_2019.xlsx']\n",
      "Arquivo: \"PCAT_CERON_2019-12-13_REAJUSTE_(369PCATCERON2019V02).xlsx\" foi baixado com sucesso\n",
      "['PCAT_CERON_2019-04-01_REVISAOEXTRAORDINARIA_(PCATCERONRTE2019).xlsx'\n",
      " 'https://www2.aneel.gov.br/aplicacoes/tarifa/arquivo/PCAT_Ceron_RTE_2019.xlsx']\n"
     ]
    },
    {
     "name": "stderr",
     "output_type": "stream",
     "text": [
      "D:\\python_projects\\cpfl\\web_scrapper\\venv_scraper\\lib\\site-packages\\urllib3\\connectionpool.py:1043: InsecureRequestWarning: Unverified HTTPS request is being made to host 'www2.aneel.gov.br'. Adding certificate verification is strongly advised. See: https://urllib3.readthedocs.io/en/1.26.x/advanced-usage.html#ssl-warnings\n",
      "  warnings.warn(\n",
      "D:\\python_projects\\cpfl\\web_scrapper\\venv_scraper\\lib\\site-packages\\urllib3\\connectionpool.py:1043: InsecureRequestWarning: Unverified HTTPS request is being made to host 'www2.aneel.gov.br'. Adding certificate verification is strongly advised. See: https://urllib3.readthedocs.io/en/1.26.x/advanced-usage.html#ssl-warnings\n",
      "  warnings.warn(\n"
     ]
    },
    {
     "name": "stdout",
     "output_type": "stream",
     "text": [
      "Arquivo: \"PCAT_CERON_2019-04-01_REVISAOEXTRAORDINARIA_(PCATCERONRTE2019).xlsx\" foi baixado com sucesso\n",
      "['PCAT_CERON_2020-12-13_REVISAOEXTRAORDINARIA_(369PCATCERON2020V02).xlsx'\n",
      " 'https://www2.aneel.gov.br/aplicacoes/tarifa/arquivo/369 PCAT Ceron 2020 V02.xlsx']\n",
      "Arquivo: \"PCAT_CERON_2019-04-01_REVISAOEXTRAORDINARIA_(PCATCERONRTE2019).xlsx\" foi baixado com sucesso\n",
      "['PCAT_CERON_2020-12-13_REVISAOEXTRAORDINARIA_(369PCATCERON2020V02).xlsx'\n",
      " 'https://www2.aneel.gov.br/aplicacoes/tarifa/arquivo/369 PCAT Ceron 2020 V02.xlsx']\n"
     ]
    },
    {
     "name": "stderr",
     "output_type": "stream",
     "text": [
      "D:\\python_projects\\cpfl\\web_scrapper\\venv_scraper\\lib\\site-packages\\urllib3\\connectionpool.py:1043: InsecureRequestWarning: Unverified HTTPS request is being made to host 'www2.aneel.gov.br'. Adding certificate verification is strongly advised. See: https://urllib3.readthedocs.io/en/1.26.x/advanced-usage.html#ssl-warnings\n",
      "  warnings.warn(\n",
      "D:\\python_projects\\cpfl\\web_scrapper\\venv_scraper\\lib\\site-packages\\urllib3\\connectionpool.py:1043: InsecureRequestWarning: Unverified HTTPS request is being made to host 'www2.aneel.gov.br'. Adding certificate verification is strongly advised. See: https://urllib3.readthedocs.io/en/1.26.x/advanced-usage.html#ssl-warnings\n",
      "  warnings.warn(\n"
     ]
    },
    {
     "name": "stdout",
     "output_type": "stream",
     "text": [
      "Arquivo: \"PCAT_CERON_2020-12-13_REVISAOEXTRAORDINARIA_(369PCATCERON2020V02).xlsx\" foi baixado com sucesso\n",
      "['PCAT_CERR_2013-11-01_REAJUSTE_(PCATCERR2013).xlsx'\n",
      " 'https://www2.aneel.gov.br/aplicacoes/tarifa/arquivo/PCAT_CERR_2013.xlsx']\n",
      "Arquivo: \"PCAT_CERON_2020-12-13_REVISAOEXTRAORDINARIA_(369PCATCERON2020V02).xlsx\" foi baixado com sucesso\n",
      "['PCAT_CERR_2013-11-01_REAJUSTE_(PCATCERR2013).xlsx'\n",
      " 'https://www2.aneel.gov.br/aplicacoes/tarifa/arquivo/PCAT_CERR_2013.xlsx']\n"
     ]
    },
    {
     "name": "stderr",
     "output_type": "stream",
     "text": [
      "D:\\python_projects\\cpfl\\web_scrapper\\venv_scraper\\lib\\site-packages\\urllib3\\connectionpool.py:1043: InsecureRequestWarning: Unverified HTTPS request is being made to host 'www2.aneel.gov.br'. Adding certificate verification is strongly advised. See: https://urllib3.readthedocs.io/en/1.26.x/advanced-usage.html#ssl-warnings\n",
      "  warnings.warn(\n",
      "D:\\python_projects\\cpfl\\web_scrapper\\venv_scraper\\lib\\site-packages\\urllib3\\connectionpool.py:1043: InsecureRequestWarning: Unverified HTTPS request is being made to host 'www2.aneel.gov.br'. Adding certificate verification is strongly advised. See: https://urllib3.readthedocs.io/en/1.26.x/advanced-usage.html#ssl-warnings\n",
      "  warnings.warn(\n"
     ]
    },
    {
     "name": "stdout",
     "output_type": "stream",
     "text": [
      "Arquivo: \"PCAT_CERR_2013-11-01_REAJUSTE_(PCATCERR2013).xlsx\" foi baixado com sucesso\n",
      "['PCAT_CFLO_2014-06-24_REAJUSTE_(PCATCFLO2014).xlsx'\n",
      " 'https://www2.aneel.gov.br/aplicacoes/tarifa/arquivo/PCAT_CFLO_2014.xlsx']\n",
      "Arquivo: \"PCAT_CERR_2013-11-01_REAJUSTE_(PCATCERR2013).xlsx\" foi baixado com sucesso\n",
      "['PCAT_CFLO_2014-06-24_REAJUSTE_(PCATCFLO2014).xlsx'\n",
      " 'https://www2.aneel.gov.br/aplicacoes/tarifa/arquivo/PCAT_CFLO_2014.xlsx']\n"
     ]
    },
    {
     "name": "stderr",
     "output_type": "stream",
     "text": [
      "D:\\python_projects\\cpfl\\web_scrapper\\venv_scraper\\lib\\site-packages\\urllib3\\connectionpool.py:1043: InsecureRequestWarning: Unverified HTTPS request is being made to host 'www2.aneel.gov.br'. Adding certificate verification is strongly advised. See: https://urllib3.readthedocs.io/en/1.26.x/advanced-usage.html#ssl-warnings\n",
      "  warnings.warn(\n",
      "D:\\python_projects\\cpfl\\web_scrapper\\venv_scraper\\lib\\site-packages\\urllib3\\connectionpool.py:1043: InsecureRequestWarning: Unverified HTTPS request is being made to host 'www2.aneel.gov.br'. Adding certificate verification is strongly advised. See: https://urllib3.readthedocs.io/en/1.26.x/advanced-usage.html#ssl-warnings\n",
      "  warnings.warn(\n"
     ]
    },
    {
     "name": "stdout",
     "output_type": "stream",
     "text": [
      "Arquivo: \"PCAT_CFLO_2014-06-24_REAJUSTE_(PCATCFLO2014).xlsx\" foi baixado com sucesso\n",
      "['PCAT_CFLO_2015-06-29_REAJUSTE_(PCATCFLO2015).xlsx'\n",
      " 'https://www2.aneel.gov.br/aplicacoes/tarifa/arquivo/PCAT_CFLO_2015.xlsx']\n",
      "Arquivo: \"PCAT_CFLO_2014-06-24_REAJUSTE_(PCATCFLO2014).xlsx\" foi baixado com sucesso\n",
      "['PCAT_CFLO_2015-06-29_REAJUSTE_(PCATCFLO2015).xlsx'\n",
      " 'https://www2.aneel.gov.br/aplicacoes/tarifa/arquivo/PCAT_CFLO_2015.xlsx']\n"
     ]
    },
    {
     "name": "stderr",
     "output_type": "stream",
     "text": [
      "D:\\python_projects\\cpfl\\web_scrapper\\venv_scraper\\lib\\site-packages\\urllib3\\connectionpool.py:1043: InsecureRequestWarning: Unverified HTTPS request is being made to host 'www2.aneel.gov.br'. Adding certificate verification is strongly advised. See: https://urllib3.readthedocs.io/en/1.26.x/advanced-usage.html#ssl-warnings\n",
      "  warnings.warn(\n",
      "D:\\python_projects\\cpfl\\web_scrapper\\venv_scraper\\lib\\site-packages\\urllib3\\connectionpool.py:1043: InsecureRequestWarning: Unverified HTTPS request is being made to host 'www2.aneel.gov.br'. Adding certificate verification is strongly advised. See: https://urllib3.readthedocs.io/en/1.26.x/advanced-usage.html#ssl-warnings\n",
      "  warnings.warn(\n"
     ]
    },
    {
     "name": "stdout",
     "output_type": "stream",
     "text": [
      "Arquivo: \"PCAT_CFLO_2015-06-29_REAJUSTE_(PCATCFLO2015).xlsx\" foi baixado com sucesso\n",
      "['PCAT_CFLO_2015-03-02_REVISAOEXTRAORDINARIA_(PCATCFLO2014V00).xlsx'\n",
      " 'https://www2.aneel.gov.br/aplicacoes/tarifa/arquivo/PCAT_CFLO_2014_V00.xlsx']\n",
      "Arquivo: \"PCAT_CFLO_2015-06-29_REAJUSTE_(PCATCFLO2015).xlsx\" foi baixado com sucesso\n",
      "['PCAT_CFLO_2015-03-02_REVISAOEXTRAORDINARIA_(PCATCFLO2014V00).xlsx'\n",
      " 'https://www2.aneel.gov.br/aplicacoes/tarifa/arquivo/PCAT_CFLO_2014_V00.xlsx']\n"
     ]
    },
    {
     "name": "stderr",
     "output_type": "stream",
     "text": [
      "D:\\python_projects\\cpfl\\web_scrapper\\venv_scraper\\lib\\site-packages\\urllib3\\connectionpool.py:1043: InsecureRequestWarning: Unverified HTTPS request is being made to host 'www2.aneel.gov.br'. Adding certificate verification is strongly advised. See: https://urllib3.readthedocs.io/en/1.26.x/advanced-usage.html#ssl-warnings\n",
      "  warnings.warn(\n",
      "D:\\python_projects\\cpfl\\web_scrapper\\venv_scraper\\lib\\site-packages\\urllib3\\connectionpool.py:1043: InsecureRequestWarning: Unverified HTTPS request is being made to host 'www2.aneel.gov.br'. Adding certificate verification is strongly advised. See: https://urllib3.readthedocs.io/en/1.26.x/advanced-usage.html#ssl-warnings\n",
      "  warnings.warn(\n"
     ]
    },
    {
     "name": "stdout",
     "output_type": "stream",
     "text": [
      "Arquivo: \"PCAT_CFLO_2015-03-02_REVISAOEXTRAORDINARIA_(PCATCFLO2014V00).xlsx\" foi baixado com sucesso\n",
      "['PCAT_CFLO_2016-06-29_REVISAO_(PCATCFLO2016).xlsx'\n",
      " 'https://www2.aneel.gov.br/aplicacoes/tarifa/arquivo/PCAT_CFLO_2016.xlsx']\n",
      "Arquivo: \"PCAT_CFLO_2015-03-02_REVISAOEXTRAORDINARIA_(PCATCFLO2014V00).xlsx\" foi baixado com sucesso\n",
      "['PCAT_CFLO_2016-06-29_REVISAO_(PCATCFLO2016).xlsx'\n",
      " 'https://www2.aneel.gov.br/aplicacoes/tarifa/arquivo/PCAT_CFLO_2016.xlsx']\n"
     ]
    },
    {
     "name": "stderr",
     "output_type": "stream",
     "text": [
      "D:\\python_projects\\cpfl\\web_scrapper\\venv_scraper\\lib\\site-packages\\urllib3\\connectionpool.py:1043: InsecureRequestWarning: Unverified HTTPS request is being made to host 'www2.aneel.gov.br'. Adding certificate verification is strongly advised. See: https://urllib3.readthedocs.io/en/1.26.x/advanced-usage.html#ssl-warnings\n",
      "  warnings.warn(\n",
      "D:\\python_projects\\cpfl\\web_scrapper\\venv_scraper\\lib\\site-packages\\urllib3\\connectionpool.py:1043: InsecureRequestWarning: Unverified HTTPS request is being made to host 'www2.aneel.gov.br'. Adding certificate verification is strongly advised. See: https://urllib3.readthedocs.io/en/1.26.x/advanced-usage.html#ssl-warnings\n",
      "  warnings.warn(\n"
     ]
    },
    {
     "name": "stdout",
     "output_type": "stream",
     "text": [
      "Arquivo: \"PCAT_CFLO_2016-06-29_REVISAO_(PCATCFLO2016).xlsx\" foi baixado com sucesso\n",
      "['PCAT_CFLO_2017-07-12_REAJUSTE_(PCATSUPERENER20174).xlsx'\n",
      " 'https://www2.aneel.gov.br/aplicacoes/tarifa/arquivo/PCAT_SuperEner_20174.xlsx']\n",
      "Arquivo: \"PCAT_CFLO_2016-06-29_REVISAO_(PCATCFLO2016).xlsx\" foi baixado com sucesso\n",
      "['PCAT_CFLO_2017-07-12_REAJUSTE_(PCATSUPERENER20174).xlsx'\n",
      " 'https://www2.aneel.gov.br/aplicacoes/tarifa/arquivo/PCAT_SuperEner_20174.xlsx']\n"
     ]
    },
    {
     "name": "stderr",
     "output_type": "stream",
     "text": [
      "D:\\python_projects\\cpfl\\web_scrapper\\venv_scraper\\lib\\site-packages\\urllib3\\connectionpool.py:1043: InsecureRequestWarning: Unverified HTTPS request is being made to host 'www2.aneel.gov.br'. Adding certificate verification is strongly advised. See: https://urllib3.readthedocs.io/en/1.26.x/advanced-usage.html#ssl-warnings\n",
      "  warnings.warn(\n",
      "D:\\python_projects\\cpfl\\web_scrapper\\venv_scraper\\lib\\site-packages\\urllib3\\connectionpool.py:1043: InsecureRequestWarning: Unverified HTTPS request is being made to host 'www2.aneel.gov.br'. Adding certificate verification is strongly advised. See: https://urllib3.readthedocs.io/en/1.26.x/advanced-usage.html#ssl-warnings\n",
      "  warnings.warn(\n"
     ]
    },
    {
     "name": "stdout",
     "output_type": "stream",
     "text": [
      "Arquivo: \"PCAT_CFLO_2017-07-12_REAJUSTE_(PCATSUPERENER20174).xlsx\" foi baixado com sucesso\n",
      "['PCAT_CHESP_2013-09-05_REAJUSTE_(PCATCHESP2013).xlsx'\n",
      " 'https://www2.aneel.gov.br/aplicacoes/tarifa/arquivo/PCAT_CHESP_2013.xlsx']\n",
      "Arquivo: \"PCAT_CFLO_2017-07-12_REAJUSTE_(PCATSUPERENER20174).xlsx\" foi baixado com sucesso\n",
      "['PCAT_CHESP_2013-09-05_REAJUSTE_(PCATCHESP2013).xlsx'\n",
      " 'https://www2.aneel.gov.br/aplicacoes/tarifa/arquivo/PCAT_CHESP_2013.xlsx']\n"
     ]
    },
    {
     "name": "stderr",
     "output_type": "stream",
     "text": [
      "D:\\python_projects\\cpfl\\web_scrapper\\venv_scraper\\lib\\site-packages\\urllib3\\connectionpool.py:1043: InsecureRequestWarning: Unverified HTTPS request is being made to host 'www2.aneel.gov.br'. Adding certificate verification is strongly advised. See: https://urllib3.readthedocs.io/en/1.26.x/advanced-usage.html#ssl-warnings\n",
      "  warnings.warn(\n",
      "D:\\python_projects\\cpfl\\web_scrapper\\venv_scraper\\lib\\site-packages\\urllib3\\connectionpool.py:1043: InsecureRequestWarning: Unverified HTTPS request is being made to host 'www2.aneel.gov.br'. Adding certificate verification is strongly advised. See: https://urllib3.readthedocs.io/en/1.26.x/advanced-usage.html#ssl-warnings\n",
      "  warnings.warn(\n"
     ]
    },
    {
     "name": "stdout",
     "output_type": "stream",
     "text": [
      "Arquivo: \"PCAT_CHESP_2013-09-05_REAJUSTE_(PCATCHESP2013).xlsx\" foi baixado com sucesso\n",
      "['PCAT_CHESP_2014-09-12_REAJUSTE_(PCATCHESP2014CAT1).xlsx'\n",
      " 'https://www2.aneel.gov.br/aplicacoes/tarifa/arquivo/PCAT_CHESP_2014_CAT1.xlsx']\n",
      "Arquivo: \"PCAT_CHESP_2013-09-05_REAJUSTE_(PCATCHESP2013).xlsx\" foi baixado com sucesso\n",
      "['PCAT_CHESP_2014-09-12_REAJUSTE_(PCATCHESP2014CAT1).xlsx'\n",
      " 'https://www2.aneel.gov.br/aplicacoes/tarifa/arquivo/PCAT_CHESP_2014_CAT1.xlsx']\n"
     ]
    },
    {
     "name": "stderr",
     "output_type": "stream",
     "text": [
      "D:\\python_projects\\cpfl\\web_scrapper\\venv_scraper\\lib\\site-packages\\urllib3\\connectionpool.py:1043: InsecureRequestWarning: Unverified HTTPS request is being made to host 'www2.aneel.gov.br'. Adding certificate verification is strongly advised. See: https://urllib3.readthedocs.io/en/1.26.x/advanced-usage.html#ssl-warnings\n",
      "  warnings.warn(\n",
      "D:\\python_projects\\cpfl\\web_scrapper\\venv_scraper\\lib\\site-packages\\urllib3\\connectionpool.py:1043: InsecureRequestWarning: Unverified HTTPS request is being made to host 'www2.aneel.gov.br'. Adding certificate verification is strongly advised. See: https://urllib3.readthedocs.io/en/1.26.x/advanced-usage.html#ssl-warnings\n",
      "  warnings.warn(\n"
     ]
    },
    {
     "name": "stdout",
     "output_type": "stream",
     "text": [
      "Arquivo: \"PCAT_CHESP_2014-09-12_REAJUSTE_(PCATCHESP2014CAT1).xlsx\" foi baixado com sucesso\n",
      "['PCAT_CHESP_2015-09-12_REAJUSTE_(PCATCHESP2015).xlsx'\n",
      " 'https://www2.aneel.gov.br/aplicacoes/tarifa/arquivo/PCAT_Chesp_2015.xlsx']\n",
      "Arquivo: \"PCAT_CHESP_2014-09-12_REAJUSTE_(PCATCHESP2014CAT1).xlsx\" foi baixado com sucesso\n",
      "['PCAT_CHESP_2015-09-12_REAJUSTE_(PCATCHESP2015).xlsx'\n",
      " 'https://www2.aneel.gov.br/aplicacoes/tarifa/arquivo/PCAT_Chesp_2015.xlsx']\n"
     ]
    },
    {
     "name": "stderr",
     "output_type": "stream",
     "text": [
      "D:\\python_projects\\cpfl\\web_scrapper\\venv_scraper\\lib\\site-packages\\urllib3\\connectionpool.py:1043: InsecureRequestWarning: Unverified HTTPS request is being made to host 'www2.aneel.gov.br'. Adding certificate verification is strongly advised. See: https://urllib3.readthedocs.io/en/1.26.x/advanced-usage.html#ssl-warnings\n",
      "  warnings.warn(\n",
      "D:\\python_projects\\cpfl\\web_scrapper\\venv_scraper\\lib\\site-packages\\urllib3\\connectionpool.py:1043: InsecureRequestWarning: Unverified HTTPS request is being made to host 'www2.aneel.gov.br'. Adding certificate verification is strongly advised. See: https://urllib3.readthedocs.io/en/1.26.x/advanced-usage.html#ssl-warnings\n",
      "  warnings.warn(\n"
     ]
    },
    {
     "name": "stdout",
     "output_type": "stream",
     "text": [
      "Arquivo: \"PCAT_CHESP_2015-09-12_REAJUSTE_(PCATCHESP2015).xlsx\" foi baixado com sucesso\n",
      "['PCAT_CHESP_2015-03-02_REVISAOEXTRAORDINARIA_(PCATCHESP2014CAT).xlsx'\n",
      " 'https://www2.aneel.gov.br/aplicacoes/tarifa/arquivo/PCAT_CHESP_2014_CAT.xlsx']\n",
      "Arquivo: \"PCAT_CHESP_2015-09-12_REAJUSTE_(PCATCHESP2015).xlsx\" foi baixado com sucesso\n",
      "['PCAT_CHESP_2015-03-02_REVISAOEXTRAORDINARIA_(PCATCHESP2014CAT).xlsx'\n",
      " 'https://www2.aneel.gov.br/aplicacoes/tarifa/arquivo/PCAT_CHESP_2014_CAT.xlsx']\n"
     ]
    },
    {
     "name": "stderr",
     "output_type": "stream",
     "text": [
      "D:\\python_projects\\cpfl\\web_scrapper\\venv_scraper\\lib\\site-packages\\urllib3\\connectionpool.py:1043: InsecureRequestWarning: Unverified HTTPS request is being made to host 'www2.aneel.gov.br'. Adding certificate verification is strongly advised. See: https://urllib3.readthedocs.io/en/1.26.x/advanced-usage.html#ssl-warnings\n",
      "  warnings.warn(\n",
      "D:\\python_projects\\cpfl\\web_scrapper\\venv_scraper\\lib\\site-packages\\urllib3\\connectionpool.py:1043: InsecureRequestWarning: Unverified HTTPS request is being made to host 'www2.aneel.gov.br'. Adding certificate verification is strongly advised. See: https://urllib3.readthedocs.io/en/1.26.x/advanced-usage.html#ssl-warnings\n",
      "  warnings.warn(\n"
     ]
    },
    {
     "name": "stdout",
     "output_type": "stream",
     "text": [
      "Arquivo: \"PCAT_CHESP_2015-03-02_REVISAOEXTRAORDINARIA_(PCATCHESP2014CAT).xlsx\" foi baixado com sucesso\n",
      "['PCAT_CHESP_2016-11-22_REVISAO_(PCATCHESP2016).xlsx'\n",
      " 'https://www2.aneel.gov.br/aplicacoes/tarifa/arquivo/PCAT_Chesp_2016.xlsx']\n",
      "Arquivo: \"PCAT_CHESP_2015-03-02_REVISAOEXTRAORDINARIA_(PCATCHESP2014CAT).xlsx\" foi baixado com sucesso\n",
      "['PCAT_CHESP_2016-11-22_REVISAO_(PCATCHESP2016).xlsx'\n",
      " 'https://www2.aneel.gov.br/aplicacoes/tarifa/arquivo/PCAT_Chesp_2016.xlsx']\n"
     ]
    },
    {
     "name": "stderr",
     "output_type": "stream",
     "text": [
      "D:\\python_projects\\cpfl\\web_scrapper\\venv_scraper\\lib\\site-packages\\urllib3\\connectionpool.py:1043: InsecureRequestWarning: Unverified HTTPS request is being made to host 'www2.aneel.gov.br'. Adding certificate verification is strongly advised. See: https://urllib3.readthedocs.io/en/1.26.x/advanced-usage.html#ssl-warnings\n",
      "  warnings.warn(\n",
      "D:\\python_projects\\cpfl\\web_scrapper\\venv_scraper\\lib\\site-packages\\urllib3\\connectionpool.py:1043: InsecureRequestWarning: Unverified HTTPS request is being made to host 'www2.aneel.gov.br'. Adding certificate verification is strongly advised. See: https://urllib3.readthedocs.io/en/1.26.x/advanced-usage.html#ssl-warnings\n",
      "  warnings.warn(\n"
     ]
    },
    {
     "name": "stdout",
     "output_type": "stream",
     "text": [
      "Arquivo: \"PCAT_CHESP_2016-11-22_REVISAO_(PCATCHESP2016).xlsx\" foi baixado com sucesso\n",
      "['PCAT_CHESP_2017-11-22_REAJUSTE_(PCATCHESP2017).xlsx'\n",
      " 'https://www2.aneel.gov.br/aplicacoes/tarifa/arquivo/PCAT_Chesp_2017.xlsx']\n",
      "Arquivo: \"PCAT_CHESP_2016-11-22_REVISAO_(PCATCHESP2016).xlsx\" foi baixado com sucesso\n",
      "['PCAT_CHESP_2017-11-22_REAJUSTE_(PCATCHESP2017).xlsx'\n",
      " 'https://www2.aneel.gov.br/aplicacoes/tarifa/arquivo/PCAT_Chesp_2017.xlsx']\n"
     ]
    },
    {
     "name": "stderr",
     "output_type": "stream",
     "text": [
      "D:\\python_projects\\cpfl\\web_scrapper\\venv_scraper\\lib\\site-packages\\urllib3\\connectionpool.py:1043: InsecureRequestWarning: Unverified HTTPS request is being made to host 'www2.aneel.gov.br'. Adding certificate verification is strongly advised. See: https://urllib3.readthedocs.io/en/1.26.x/advanced-usage.html#ssl-warnings\n",
      "  warnings.warn(\n",
      "D:\\python_projects\\cpfl\\web_scrapper\\venv_scraper\\lib\\site-packages\\urllib3\\connectionpool.py:1043: InsecureRequestWarning: Unverified HTTPS request is being made to host 'www2.aneel.gov.br'. Adding certificate verification is strongly advised. See: https://urllib3.readthedocs.io/en/1.26.x/advanced-usage.html#ssl-warnings\n",
      "  warnings.warn(\n"
     ]
    },
    {
     "name": "stdout",
     "output_type": "stream",
     "text": [
      "Arquivo: \"PCAT_CHESP_2017-11-22_REAJUSTE_(PCATCHESP2017).xlsx\" foi baixado com sucesso\n",
      "['PCAT_CHESP_2018-11-22_REAJUSTE_(103PCATCHESP2018V02).xlsx'\n",
      " 'https://www2.aneel.gov.br/aplicacoes/tarifa/arquivo/103 PCAT Chesp 2018 V02.xlsx']\n",
      "Arquivo: \"PCAT_CHESP_2017-11-22_REAJUSTE_(PCATCHESP2017).xlsx\" foi baixado com sucesso\n",
      "['PCAT_CHESP_2018-11-22_REAJUSTE_(103PCATCHESP2018V02).xlsx'\n",
      " 'https://www2.aneel.gov.br/aplicacoes/tarifa/arquivo/103 PCAT Chesp 2018 V02.xlsx']\n"
     ]
    },
    {
     "name": "stderr",
     "output_type": "stream",
     "text": [
      "D:\\python_projects\\cpfl\\web_scrapper\\venv_scraper\\lib\\site-packages\\urllib3\\connectionpool.py:1043: InsecureRequestWarning: Unverified HTTPS request is being made to host 'www2.aneel.gov.br'. Adding certificate verification is strongly advised. See: https://urllib3.readthedocs.io/en/1.26.x/advanced-usage.html#ssl-warnings\n",
      "  warnings.warn(\n",
      "D:\\python_projects\\cpfl\\web_scrapper\\venv_scraper\\lib\\site-packages\\urllib3\\connectionpool.py:1043: InsecureRequestWarning: Unverified HTTPS request is being made to host 'www2.aneel.gov.br'. Adding certificate verification is strongly advised. See: https://urllib3.readthedocs.io/en/1.26.x/advanced-usage.html#ssl-warnings\n",
      "  warnings.warn(\n"
     ]
    },
    {
     "name": "stdout",
     "output_type": "stream",
     "text": [
      "Arquivo: \"PCAT_CHESP_2018-11-22_REAJUSTE_(103PCATCHESP2018V02).xlsx\" foi baixado com sucesso\n",
      "['PCAT_CHESP_2019-11-22_REAJUSTE_(103PCATCHESP2019V02).xlsx'\n",
      " 'https://www2.aneel.gov.br/aplicacoes/tarifa/arquivo/103 PCAT Chesp 2019 V02.xlsx']\n",
      "Arquivo: \"PCAT_CHESP_2018-11-22_REAJUSTE_(103PCATCHESP2018V02).xlsx\" foi baixado com sucesso\n",
      "['PCAT_CHESP_2019-11-22_REAJUSTE_(103PCATCHESP2019V02).xlsx'\n",
      " 'https://www2.aneel.gov.br/aplicacoes/tarifa/arquivo/103 PCAT Chesp 2019 V02.xlsx']\n"
     ]
    },
    {
     "name": "stderr",
     "output_type": "stream",
     "text": [
      "D:\\python_projects\\cpfl\\web_scrapper\\venv_scraper\\lib\\site-packages\\urllib3\\connectionpool.py:1043: InsecureRequestWarning: Unverified HTTPS request is being made to host 'www2.aneel.gov.br'. Adding certificate verification is strongly advised. See: https://urllib3.readthedocs.io/en/1.26.x/advanced-usage.html#ssl-warnings\n",
      "  warnings.warn(\n",
      "D:\\python_projects\\cpfl\\web_scrapper\\venv_scraper\\lib\\site-packages\\urllib3\\connectionpool.py:1043: InsecureRequestWarning: Unverified HTTPS request is being made to host 'www2.aneel.gov.br'. Adding certificate verification is strongly advised. See: https://urllib3.readthedocs.io/en/1.26.x/advanced-usage.html#ssl-warnings\n",
      "  warnings.warn(\n"
     ]
    },
    {
     "name": "stdout",
     "output_type": "stream",
     "text": [
      "Arquivo: \"PCAT_CHESP_2019-11-22_REAJUSTE_(103PCATCHESP2019V02).xlsx\" foi baixado com sucesso\n",
      "['PCAT_CHESP_2020-11-22_REAJUSTE_(103PCATCHESP2020V02).xlsx'\n",
      " 'https://www2.aneel.gov.br/aplicacoes/tarifa/arquivo/103 PCAT Chesp 2020 V02.xlsx']\n",
      "Arquivo: \"PCAT_CHESP_2019-11-22_REAJUSTE_(103PCATCHESP2019V02).xlsx\" foi baixado com sucesso\n",
      "['PCAT_CHESP_2020-11-22_REAJUSTE_(103PCATCHESP2020V02).xlsx'\n",
      " 'https://www2.aneel.gov.br/aplicacoes/tarifa/arquivo/103 PCAT Chesp 2020 V02.xlsx']\n"
     ]
    },
    {
     "name": "stderr",
     "output_type": "stream",
     "text": [
      "D:\\python_projects\\cpfl\\web_scrapper\\venv_scraper\\lib\\site-packages\\urllib3\\connectionpool.py:1043: InsecureRequestWarning: Unverified HTTPS request is being made to host 'www2.aneel.gov.br'. Adding certificate verification is strongly advised. See: https://urllib3.readthedocs.io/en/1.26.x/advanced-usage.html#ssl-warnings\n",
      "  warnings.warn(\n",
      "D:\\python_projects\\cpfl\\web_scrapper\\venv_scraper\\lib\\site-packages\\urllib3\\connectionpool.py:1043: InsecureRequestWarning: Unverified HTTPS request is being made to host 'www2.aneel.gov.br'. Adding certificate verification is strongly advised. See: https://urllib3.readthedocs.io/en/1.26.x/advanced-usage.html#ssl-warnings\n",
      "  warnings.warn(\n"
     ]
    },
    {
     "name": "stdout",
     "output_type": "stream",
     "text": [
      "Arquivo: \"PCAT_CHESP_2020-11-22_REAJUSTE_(103PCATCHESP2020V02).xlsx\" foi baixado com sucesso\n",
      "['PCAT_CNEE_2014-05-06_REAJUSTE_(PCATCNEE2014).xlsx'\n",
      " 'https://www2.aneel.gov.br/aplicacoes/tarifa/arquivo/PCAT_CNEE_2014.xlsx']\n",
      "Arquivo: \"PCAT_CHESP_2020-11-22_REAJUSTE_(103PCATCHESP2020V02).xlsx\" foi baixado com sucesso\n",
      "['PCAT_CNEE_2014-05-06_REAJUSTE_(PCATCNEE2014).xlsx'\n",
      " 'https://www2.aneel.gov.br/aplicacoes/tarifa/arquivo/PCAT_CNEE_2014.xlsx']\n"
     ]
    },
    {
     "name": "stderr",
     "output_type": "stream",
     "text": [
      "D:\\python_projects\\cpfl\\web_scrapper\\venv_scraper\\lib\\site-packages\\urllib3\\connectionpool.py:1043: InsecureRequestWarning: Unverified HTTPS request is being made to host 'www2.aneel.gov.br'. Adding certificate verification is strongly advised. See: https://urllib3.readthedocs.io/en/1.26.x/advanced-usage.html#ssl-warnings\n",
      "  warnings.warn(\n",
      "D:\\python_projects\\cpfl\\web_scrapper\\venv_scraper\\lib\\site-packages\\urllib3\\connectionpool.py:1043: InsecureRequestWarning: Unverified HTTPS request is being made to host 'www2.aneel.gov.br'. Adding certificate verification is strongly advised. See: https://urllib3.readthedocs.io/en/1.26.x/advanced-usage.html#ssl-warnings\n",
      "  warnings.warn(\n"
     ]
    },
    {
     "name": "stdout",
     "output_type": "stream",
     "text": [
      "Arquivo: \"PCAT_CNEE_2014-05-06_REAJUSTE_(PCATCNEE2014).xlsx\" foi baixado com sucesso\n",
      "['PCAT_CNEE_2015-05-10_REAJUSTE_(PCATCNEE2015).xlsx'\n",
      " 'https://www2.aneel.gov.br/aplicacoes/tarifa/arquivo/PCAT_CNEE_2015.xlsx']\n",
      "Arquivo: \"PCAT_CNEE_2014-05-06_REAJUSTE_(PCATCNEE2014).xlsx\" foi baixado com sucesso\n",
      "['PCAT_CNEE_2015-05-10_REAJUSTE_(PCATCNEE2015).xlsx'\n",
      " 'https://www2.aneel.gov.br/aplicacoes/tarifa/arquivo/PCAT_CNEE_2015.xlsx']\n"
     ]
    },
    {
     "name": "stderr",
     "output_type": "stream",
     "text": [
      "D:\\python_projects\\cpfl\\web_scrapper\\venv_scraper\\lib\\site-packages\\urllib3\\connectionpool.py:1043: InsecureRequestWarning: Unverified HTTPS request is being made to host 'www2.aneel.gov.br'. Adding certificate verification is strongly advised. See: https://urllib3.readthedocs.io/en/1.26.x/advanced-usage.html#ssl-warnings\n",
      "  warnings.warn(\n",
      "D:\\python_projects\\cpfl\\web_scrapper\\venv_scraper\\lib\\site-packages\\urllib3\\connectionpool.py:1043: InsecureRequestWarning: Unverified HTTPS request is being made to host 'www2.aneel.gov.br'. Adding certificate verification is strongly advised. See: https://urllib3.readthedocs.io/en/1.26.x/advanced-usage.html#ssl-warnings\n",
      "  warnings.warn(\n"
     ]
    },
    {
     "name": "stdout",
     "output_type": "stream",
     "text": [
      "Arquivo: \"PCAT_CNEE_2015-05-10_REAJUSTE_(PCATCNEE2015).xlsx\" foi baixado com sucesso\n",
      "['PCAT_CNEE_2015-03-02_REVISAOEXTRAORDINARIA_(PCATCNEE2014V00).xlsx'\n",
      " 'https://www2.aneel.gov.br/aplicacoes/tarifa/arquivo/PCAT_CNEE_2014_V00.xlsx']\n",
      "Arquivo: \"PCAT_CNEE_2015-05-10_REAJUSTE_(PCATCNEE2015).xlsx\" foi baixado com sucesso\n",
      "['PCAT_CNEE_2015-03-02_REVISAOEXTRAORDINARIA_(PCATCNEE2014V00).xlsx'\n",
      " 'https://www2.aneel.gov.br/aplicacoes/tarifa/arquivo/PCAT_CNEE_2014_V00.xlsx']\n"
     ]
    },
    {
     "name": "stderr",
     "output_type": "stream",
     "text": [
      "D:\\python_projects\\cpfl\\web_scrapper\\venv_scraper\\lib\\site-packages\\urllib3\\connectionpool.py:1043: InsecureRequestWarning: Unverified HTTPS request is being made to host 'www2.aneel.gov.br'. Adding certificate verification is strongly advised. See: https://urllib3.readthedocs.io/en/1.26.x/advanced-usage.html#ssl-warnings\n",
      "  warnings.warn(\n",
      "D:\\python_projects\\cpfl\\web_scrapper\\venv_scraper\\lib\\site-packages\\urllib3\\connectionpool.py:1043: InsecureRequestWarning: Unverified HTTPS request is being made to host 'www2.aneel.gov.br'. Adding certificate verification is strongly advised. See: https://urllib3.readthedocs.io/en/1.26.x/advanced-usage.html#ssl-warnings\n",
      "  warnings.warn(\n"
     ]
    },
    {
     "name": "stdout",
     "output_type": "stream",
     "text": [
      "Arquivo: \"PCAT_CNEE_2015-03-02_REVISAOEXTRAORDINARIA_(PCATCNEE2014V00).xlsx\" foi baixado com sucesso\n",
      "['PCAT_CNEE_2016-05-10_REVISAO_(PCATCNEE2016).xlsx'\n",
      " 'https://www2.aneel.gov.br/aplicacoes/tarifa/arquivo/PCAT_CNEE_ 2016.xlsx']\n",
      "Arquivo: \"PCAT_CNEE_2015-03-02_REVISAOEXTRAORDINARIA_(PCATCNEE2014V00).xlsx\" foi baixado com sucesso\n",
      "['PCAT_CNEE_2016-05-10_REVISAO_(PCATCNEE2016).xlsx'\n",
      " 'https://www2.aneel.gov.br/aplicacoes/tarifa/arquivo/PCAT_CNEE_ 2016.xlsx']\n"
     ]
    },
    {
     "name": "stderr",
     "output_type": "stream",
     "text": [
      "D:\\python_projects\\cpfl\\web_scrapper\\venv_scraper\\lib\\site-packages\\urllib3\\connectionpool.py:1043: InsecureRequestWarning: Unverified HTTPS request is being made to host 'www2.aneel.gov.br'. Adding certificate verification is strongly advised. See: https://urllib3.readthedocs.io/en/1.26.x/advanced-usage.html#ssl-warnings\n",
      "  warnings.warn(\n",
      "D:\\python_projects\\cpfl\\web_scrapper\\venv_scraper\\lib\\site-packages\\urllib3\\connectionpool.py:1043: InsecureRequestWarning: Unverified HTTPS request is being made to host 'www2.aneel.gov.br'. Adding certificate verification is strongly advised. See: https://urllib3.readthedocs.io/en/1.26.x/advanced-usage.html#ssl-warnings\n",
      "  warnings.warn(\n"
     ]
    },
    {
     "name": "stdout",
     "output_type": "stream",
     "text": [
      "Arquivo: \"PCAT_CNEE_2016-05-10_REVISAO_(PCATCNEE2016).xlsx\" foi baixado com sucesso\n",
      "['PCAT_CNEE_2017-07-12_REAJUSTE_(PCATSUPERENER20171).xlsx'\n",
      " 'https://www2.aneel.gov.br/aplicacoes/tarifa/arquivo/PCAT_SuperEner_20171.xlsx']\n",
      "Arquivo: \"PCAT_CNEE_2016-05-10_REVISAO_(PCATCNEE2016).xlsx\" foi baixado com sucesso\n",
      "['PCAT_CNEE_2017-07-12_REAJUSTE_(PCATSUPERENER20171).xlsx'\n",
      " 'https://www2.aneel.gov.br/aplicacoes/tarifa/arquivo/PCAT_SuperEner_20171.xlsx']\n"
     ]
    },
    {
     "name": "stderr",
     "output_type": "stream",
     "text": [
      "D:\\python_projects\\cpfl\\web_scrapper\\venv_scraper\\lib\\site-packages\\urllib3\\connectionpool.py:1043: InsecureRequestWarning: Unverified HTTPS request is being made to host 'www2.aneel.gov.br'. Adding certificate verification is strongly advised. See: https://urllib3.readthedocs.io/en/1.26.x/advanced-usage.html#ssl-warnings\n",
      "  warnings.warn(\n",
      "D:\\python_projects\\cpfl\\web_scrapper\\venv_scraper\\lib\\site-packages\\urllib3\\connectionpool.py:1043: InsecureRequestWarning: Unverified HTTPS request is being made to host 'www2.aneel.gov.br'. Adding certificate verification is strongly advised. See: https://urllib3.readthedocs.io/en/1.26.x/advanced-usage.html#ssl-warnings\n",
      "  warnings.warn(\n"
     ]
    },
    {
     "name": "stdout",
     "output_type": "stream",
     "text": [
      "Arquivo: \"PCAT_CNEE_2017-07-12_REAJUSTE_(PCATSUPERENER20171).xlsx\" foi baixado com sucesso\n",
      "['PCAT_COCEL_2013-06-24_REAJUSTE_(PCATCOCEL2014).xlsx'\n",
      " 'https://www2.aneel.gov.br/aplicacoes/tarifa/arquivo/PCAT_COCEL_2014.xlsx']\n",
      "Arquivo: \"PCAT_CNEE_2017-07-12_REAJUSTE_(PCATSUPERENER20171).xlsx\" foi baixado com sucesso\n",
      "['PCAT_COCEL_2013-06-24_REAJUSTE_(PCATCOCEL2014).xlsx'\n",
      " 'https://www2.aneel.gov.br/aplicacoes/tarifa/arquivo/PCAT_COCEL_2014.xlsx']\n"
     ]
    },
    {
     "name": "stderr",
     "output_type": "stream",
     "text": [
      "D:\\python_projects\\cpfl\\web_scrapper\\venv_scraper\\lib\\site-packages\\urllib3\\connectionpool.py:1043: InsecureRequestWarning: Unverified HTTPS request is being made to host 'www2.aneel.gov.br'. Adding certificate verification is strongly advised. See: https://urllib3.readthedocs.io/en/1.26.x/advanced-usage.html#ssl-warnings\n",
      "  warnings.warn(\n",
      "D:\\python_projects\\cpfl\\web_scrapper\\venv_scraper\\lib\\site-packages\\urllib3\\connectionpool.py:1043: InsecureRequestWarning: Unverified HTTPS request is being made to host 'www2.aneel.gov.br'. Adding certificate verification is strongly advised. See: https://urllib3.readthedocs.io/en/1.26.x/advanced-usage.html#ssl-warnings\n",
      "  warnings.warn(\n"
     ]
    },
    {
     "name": "stdout",
     "output_type": "stream",
     "text": [
      "Arquivo: \"PCAT_COCEL_2013-06-24_REAJUSTE_(PCATCOCEL2014).xlsx\" foi baixado com sucesso\n",
      "['PCAT_COCEL_2014-06-24_REAJUSTE_(PCATCOCEL20141).xlsx'\n",
      " 'https://www2.aneel.gov.br/aplicacoes/tarifa/arquivo/PCAT_COCEL_20141.xlsx']\n",
      "Arquivo: \"PCAT_COCEL_2013-06-24_REAJUSTE_(PCATCOCEL2014).xlsx\" foi baixado com sucesso\n",
      "['PCAT_COCEL_2014-06-24_REAJUSTE_(PCATCOCEL20141).xlsx'\n",
      " 'https://www2.aneel.gov.br/aplicacoes/tarifa/arquivo/PCAT_COCEL_20141.xlsx']\n"
     ]
    },
    {
     "name": "stderr",
     "output_type": "stream",
     "text": [
      "D:\\python_projects\\cpfl\\web_scrapper\\venv_scraper\\lib\\site-packages\\urllib3\\connectionpool.py:1043: InsecureRequestWarning: Unverified HTTPS request is being made to host 'www2.aneel.gov.br'. Adding certificate verification is strongly advised. See: https://urllib3.readthedocs.io/en/1.26.x/advanced-usage.html#ssl-warnings\n",
      "  warnings.warn(\n",
      "D:\\python_projects\\cpfl\\web_scrapper\\venv_scraper\\lib\\site-packages\\urllib3\\connectionpool.py:1043: InsecureRequestWarning: Unverified HTTPS request is being made to host 'www2.aneel.gov.br'. Adding certificate verification is strongly advised. See: https://urllib3.readthedocs.io/en/1.26.x/advanced-usage.html#ssl-warnings\n",
      "  warnings.warn(\n"
     ]
    },
    {
     "name": "stdout",
     "output_type": "stream",
     "text": [
      "Arquivo: \"PCAT_COCEL_2014-06-24_REAJUSTE_(PCATCOCEL20141).xlsx\" foi baixado com sucesso\n",
      "['PCAT_COCEL_2015-06-24_REAJUSTE_(PCATCOCEL2015).xlsx'\n",
      " 'https://www2.aneel.gov.br/aplicacoes/tarifa/arquivo/PCAT_Cocel_2015.xlsx']\n",
      "Arquivo: \"PCAT_COCEL_2014-06-24_REAJUSTE_(PCATCOCEL20141).xlsx\" foi baixado com sucesso\n",
      "['PCAT_COCEL_2015-06-24_REAJUSTE_(PCATCOCEL2015).xlsx'\n",
      " 'https://www2.aneel.gov.br/aplicacoes/tarifa/arquivo/PCAT_Cocel_2015.xlsx']\n"
     ]
    },
    {
     "name": "stderr",
     "output_type": "stream",
     "text": [
      "D:\\python_projects\\cpfl\\web_scrapper\\venv_scraper\\lib\\site-packages\\urllib3\\connectionpool.py:1043: InsecureRequestWarning: Unverified HTTPS request is being made to host 'www2.aneel.gov.br'. Adding certificate verification is strongly advised. See: https://urllib3.readthedocs.io/en/1.26.x/advanced-usage.html#ssl-warnings\n",
      "  warnings.warn(\n",
      "D:\\python_projects\\cpfl\\web_scrapper\\venv_scraper\\lib\\site-packages\\urllib3\\connectionpool.py:1043: InsecureRequestWarning: Unverified HTTPS request is being made to host 'www2.aneel.gov.br'. Adding certificate verification is strongly advised. See: https://urllib3.readthedocs.io/en/1.26.x/advanced-usage.html#ssl-warnings\n",
      "  warnings.warn(\n"
     ]
    },
    {
     "name": "stdout",
     "output_type": "stream",
     "text": [
      "Arquivo: \"PCAT_COCEL_2015-06-24_REAJUSTE_(PCATCOCEL2015).xlsx\" foi baixado com sucesso\n",
      "['PCAT_COCEL_2015-03-02_REVISAOEXTRAORDINARIA_(PCATCOCEL2014V00).xlsx'\n",
      " 'https://www2.aneel.gov.br/aplicacoes/tarifa/arquivo/PCAT_COCEL_2014_V00.xlsx']\n",
      "Arquivo: \"PCAT_COCEL_2015-06-24_REAJUSTE_(PCATCOCEL2015).xlsx\" foi baixado com sucesso\n",
      "['PCAT_COCEL_2015-03-02_REVISAOEXTRAORDINARIA_(PCATCOCEL2014V00).xlsx'\n",
      " 'https://www2.aneel.gov.br/aplicacoes/tarifa/arquivo/PCAT_COCEL_2014_V00.xlsx']\n"
     ]
    },
    {
     "name": "stderr",
     "output_type": "stream",
     "text": [
      "D:\\python_projects\\cpfl\\web_scrapper\\venv_scraper\\lib\\site-packages\\urllib3\\connectionpool.py:1043: InsecureRequestWarning: Unverified HTTPS request is being made to host 'www2.aneel.gov.br'. Adding certificate verification is strongly advised. See: https://urllib3.readthedocs.io/en/1.26.x/advanced-usage.html#ssl-warnings\n",
      "  warnings.warn(\n",
      "D:\\python_projects\\cpfl\\web_scrapper\\venv_scraper\\lib\\site-packages\\urllib3\\connectionpool.py:1043: InsecureRequestWarning: Unverified HTTPS request is being made to host 'www2.aneel.gov.br'. Adding certificate verification is strongly advised. See: https://urllib3.readthedocs.io/en/1.26.x/advanced-usage.html#ssl-warnings\n",
      "  warnings.warn(\n"
     ]
    },
    {
     "name": "stdout",
     "output_type": "stream",
     "text": [
      "Arquivo: \"PCAT_COCEL_2015-03-02_REVISAOEXTRAORDINARIA_(PCATCOCEL2014V00).xlsx\" foi baixado com sucesso\n",
      "['PCAT_COCEL_2017-06-29_REAJUSTE_(PCATCOCEL2017).xlsx'\n",
      " 'https://www2.aneel.gov.br/aplicacoes/tarifa/arquivo/PCAT_Cocel_2017.xlsx']\n",
      "Arquivo: \"PCAT_COCEL_2015-03-02_REVISAOEXTRAORDINARIA_(PCATCOCEL2014V00).xlsx\" foi baixado com sucesso\n",
      "['PCAT_COCEL_2017-06-29_REAJUSTE_(PCATCOCEL2017).xlsx'\n",
      " 'https://www2.aneel.gov.br/aplicacoes/tarifa/arquivo/PCAT_Cocel_2017.xlsx']\n"
     ]
    },
    {
     "name": "stderr",
     "output_type": "stream",
     "text": [
      "D:\\python_projects\\cpfl\\web_scrapper\\venv_scraper\\lib\\site-packages\\urllib3\\connectionpool.py:1043: InsecureRequestWarning: Unverified HTTPS request is being made to host 'www2.aneel.gov.br'. Adding certificate verification is strongly advised. See: https://urllib3.readthedocs.io/en/1.26.x/advanced-usage.html#ssl-warnings\n",
      "  warnings.warn(\n",
      "D:\\python_projects\\cpfl\\web_scrapper\\venv_scraper\\lib\\site-packages\\urllib3\\connectionpool.py:1043: InsecureRequestWarning: Unverified HTTPS request is being made to host 'www2.aneel.gov.br'. Adding certificate verification is strongly advised. See: https://urllib3.readthedocs.io/en/1.26.x/advanced-usage.html#ssl-warnings\n",
      "  warnings.warn(\n"
     ]
    },
    {
     "name": "stdout",
     "output_type": "stream",
     "text": [
      "Arquivo: \"PCAT_COCEL_2017-06-29_REAJUSTE_(PCATCOCEL2017).xlsx\" foi baixado com sucesso\n",
      "['PCAT_COCEL_2018-06-29_REAJUSTE_(PCATCOCEL2018).xlsx'\n",
      " 'https://www2.aneel.gov.br/aplicacoes/tarifa/arquivo/PCAT_Cocel_2018.xlsx']\n",
      "Arquivo: \"PCAT_COCEL_2017-06-29_REAJUSTE_(PCATCOCEL2017).xlsx\" foi baixado com sucesso\n",
      "['PCAT_COCEL_2018-06-29_REAJUSTE_(PCATCOCEL2018).xlsx'\n",
      " 'https://www2.aneel.gov.br/aplicacoes/tarifa/arquivo/PCAT_Cocel_2018.xlsx']\n"
     ]
    },
    {
     "name": "stderr",
     "output_type": "stream",
     "text": [
      "D:\\python_projects\\cpfl\\web_scrapper\\venv_scraper\\lib\\site-packages\\urllib3\\connectionpool.py:1043: InsecureRequestWarning: Unverified HTTPS request is being made to host 'www2.aneel.gov.br'. Adding certificate verification is strongly advised. See: https://urllib3.readthedocs.io/en/1.26.x/advanced-usage.html#ssl-warnings\n",
      "  warnings.warn(\n",
      "D:\\python_projects\\cpfl\\web_scrapper\\venv_scraper\\lib\\site-packages\\urllib3\\connectionpool.py:1043: InsecureRequestWarning: Unverified HTTPS request is being made to host 'www2.aneel.gov.br'. Adding certificate verification is strongly advised. See: https://urllib3.readthedocs.io/en/1.26.x/advanced-usage.html#ssl-warnings\n",
      "  warnings.warn(\n"
     ]
    },
    {
     "name": "stdout",
     "output_type": "stream",
     "text": [
      "Arquivo: \"PCAT_COCEL_2018-06-29_REAJUSTE_(PCATCOCEL2018).xlsx\" foi baixado com sucesso\n",
      "['PCAT_COCEL_2019-06-29_REAJUSTE_(82PCATCOCEL2019V02).xlsx'\n",
      " 'https://www2.aneel.gov.br/aplicacoes/tarifa/arquivo/82 PCAT Cocel 2019 V02.xlsx']\n",
      "Arquivo: \"PCAT_COCEL_2018-06-29_REAJUSTE_(PCATCOCEL2018).xlsx\" foi baixado com sucesso\n",
      "['PCAT_COCEL_2019-06-29_REAJUSTE_(82PCATCOCEL2019V02).xlsx'\n",
      " 'https://www2.aneel.gov.br/aplicacoes/tarifa/arquivo/82 PCAT Cocel 2019 V02.xlsx']\n"
     ]
    },
    {
     "name": "stderr",
     "output_type": "stream",
     "text": [
      "D:\\python_projects\\cpfl\\web_scrapper\\venv_scraper\\lib\\site-packages\\urllib3\\connectionpool.py:1043: InsecureRequestWarning: Unverified HTTPS request is being made to host 'www2.aneel.gov.br'. Adding certificate verification is strongly advised. See: https://urllib3.readthedocs.io/en/1.26.x/advanced-usage.html#ssl-warnings\n",
      "  warnings.warn(\n",
      "D:\\python_projects\\cpfl\\web_scrapper\\venv_scraper\\lib\\site-packages\\urllib3\\connectionpool.py:1043: InsecureRequestWarning: Unverified HTTPS request is being made to host 'www2.aneel.gov.br'. Adding certificate verification is strongly advised. See: https://urllib3.readthedocs.io/en/1.26.x/advanced-usage.html#ssl-warnings\n",
      "  warnings.warn(\n"
     ]
    },
    {
     "name": "stdout",
     "output_type": "stream",
     "text": [
      "Arquivo: \"PCAT_COCEL_2019-06-29_REAJUSTE_(82PCATCOCEL2019V02).xlsx\" foi baixado com sucesso\n",
      "['PCAT_COCEL_2020-06-29_REAJUSTE_(82PCATCOCEL2020V02).xlsx'\n",
      " 'https://www2.aneel.gov.br/aplicacoes/tarifa/arquivo/82 PCAT Cocel 2020 V02.xlsx']\n",
      "Arquivo: \"PCAT_COCEL_2019-06-29_REAJUSTE_(82PCATCOCEL2019V02).xlsx\" foi baixado com sucesso\n",
      "['PCAT_COCEL_2020-06-29_REAJUSTE_(82PCATCOCEL2020V02).xlsx'\n",
      " 'https://www2.aneel.gov.br/aplicacoes/tarifa/arquivo/82 PCAT Cocel 2020 V02.xlsx']\n"
     ]
    },
    {
     "name": "stderr",
     "output_type": "stream",
     "text": [
      "D:\\python_projects\\cpfl\\web_scrapper\\venv_scraper\\lib\\site-packages\\urllib3\\connectionpool.py:1043: InsecureRequestWarning: Unverified HTTPS request is being made to host 'www2.aneel.gov.br'. Adding certificate verification is strongly advised. See: https://urllib3.readthedocs.io/en/1.26.x/advanced-usage.html#ssl-warnings\n",
      "  warnings.warn(\n",
      "D:\\python_projects\\cpfl\\web_scrapper\\venv_scraper\\lib\\site-packages\\urllib3\\connectionpool.py:1043: InsecureRequestWarning: Unverified HTTPS request is being made to host 'www2.aneel.gov.br'. Adding certificate verification is strongly advised. See: https://urllib3.readthedocs.io/en/1.26.x/advanced-usage.html#ssl-warnings\n",
      "  warnings.warn(\n"
     ]
    },
    {
     "name": "stdout",
     "output_type": "stream",
     "text": [
      "Arquivo: \"PCAT_COCEL_2020-06-29_REAJUSTE_(82PCATCOCEL2020V02).xlsx\" foi baixado com sucesso\n",
      "['PCAT_COCEL_2021-06-29_REVISAO_(82PCATCOCEL2021V02).xlsx'\n",
      " 'https://www2.aneel.gov.br/aplicacoes/tarifa/arquivo/82 PCAT Cocel 2021 V02.xlsx']\n",
      "Arquivo: \"PCAT_COCEL_2020-06-29_REAJUSTE_(82PCATCOCEL2020V02).xlsx\" foi baixado com sucesso\n",
      "['PCAT_COCEL_2021-06-29_REVISAO_(82PCATCOCEL2021V02).xlsx'\n",
      " 'https://www2.aneel.gov.br/aplicacoes/tarifa/arquivo/82 PCAT Cocel 2021 V02.xlsx']\n"
     ]
    },
    {
     "name": "stderr",
     "output_type": "stream",
     "text": [
      "D:\\python_projects\\cpfl\\web_scrapper\\venv_scraper\\lib\\site-packages\\urllib3\\connectionpool.py:1043: InsecureRequestWarning: Unverified HTTPS request is being made to host 'www2.aneel.gov.br'. Adding certificate verification is strongly advised. See: https://urllib3.readthedocs.io/en/1.26.x/advanced-usage.html#ssl-warnings\n",
      "  warnings.warn(\n",
      "D:\\python_projects\\cpfl\\web_scrapper\\venv_scraper\\lib\\site-packages\\urllib3\\connectionpool.py:1043: InsecureRequestWarning: Unverified HTTPS request is being made to host 'www2.aneel.gov.br'. Adding certificate verification is strongly advised. See: https://urllib3.readthedocs.io/en/1.26.x/advanced-usage.html#ssl-warnings\n",
      "  warnings.warn(\n"
     ]
    },
    {
     "name": "stdout",
     "output_type": "stream",
     "text": [
      "Arquivo: \"PCAT_COCEL_2021-06-29_REVISAO_(82PCATCOCEL2021V02).xlsx\" foi baixado com sucesso\n",
      "['PCAT_COELBA_2013-01-24_REVISAOEXTRAORDINARIA_(47PCATCOELBA2019V02).xlsx'\n",
      " 'https://www2.aneel.gov.br/aplicacoes/tarifa/arquivo/47 PCAT Coelba 2019 V02.xlsx']\n",
      "Arquivo: \"PCAT_COCEL_2021-06-29_REVISAO_(82PCATCOCEL2021V02).xlsx\" foi baixado com sucesso\n",
      "['PCAT_COELBA_2013-01-24_REVISAOEXTRAORDINARIA_(47PCATCOELBA2019V02).xlsx'\n",
      " 'https://www2.aneel.gov.br/aplicacoes/tarifa/arquivo/47 PCAT Coelba 2019 V02.xlsx']\n"
     ]
    },
    {
     "name": "stderr",
     "output_type": "stream",
     "text": [
      "D:\\python_projects\\cpfl\\web_scrapper\\venv_scraper\\lib\\site-packages\\urllib3\\connectionpool.py:1043: InsecureRequestWarning: Unverified HTTPS request is being made to host 'www2.aneel.gov.br'. Adding certificate verification is strongly advised. See: https://urllib3.readthedocs.io/en/1.26.x/advanced-usage.html#ssl-warnings\n",
      "  warnings.warn(\n",
      "D:\\python_projects\\cpfl\\web_scrapper\\venv_scraper\\lib\\site-packages\\urllib3\\connectionpool.py:1043: InsecureRequestWarning: Unverified HTTPS request is being made to host 'www2.aneel.gov.br'. Adding certificate verification is strongly advised. See: https://urllib3.readthedocs.io/en/1.26.x/advanced-usage.html#ssl-warnings\n",
      "  warnings.warn(\n"
     ]
    },
    {
     "name": "stdout",
     "output_type": "stream",
     "text": [
      "Arquivo: \"PCAT_COELBA_2013-01-24_REVISAOEXTRAORDINARIA_(47PCATCOELBA2019V02).xlsx\" foi baixado com sucesso\n",
      "['PCAT_COELBA_2014-04-22_REAJUSTE_(PCATCOELBA2014).xlsx'\n",
      " 'https://www2.aneel.gov.br/aplicacoes/tarifa/arquivo/PCAT_COELBA_2014.xlsx']\n",
      "Arquivo: \"PCAT_COELBA_2013-01-24_REVISAOEXTRAORDINARIA_(47PCATCOELBA2019V02).xlsx\" foi baixado com sucesso\n",
      "['PCAT_COELBA_2014-04-22_REAJUSTE_(PCATCOELBA2014).xlsx'\n",
      " 'https://www2.aneel.gov.br/aplicacoes/tarifa/arquivo/PCAT_COELBA_2014.xlsx']\n"
     ]
    },
    {
     "name": "stderr",
     "output_type": "stream",
     "text": [
      "D:\\python_projects\\cpfl\\web_scrapper\\venv_scraper\\lib\\site-packages\\urllib3\\connectionpool.py:1043: InsecureRequestWarning: Unverified HTTPS request is being made to host 'www2.aneel.gov.br'. Adding certificate verification is strongly advised. See: https://urllib3.readthedocs.io/en/1.26.x/advanced-usage.html#ssl-warnings\n",
      "  warnings.warn(\n",
      "D:\\python_projects\\cpfl\\web_scrapper\\venv_scraper\\lib\\site-packages\\urllib3\\connectionpool.py:1043: InsecureRequestWarning: Unverified HTTPS request is being made to host 'www2.aneel.gov.br'. Adding certificate verification is strongly advised. See: https://urllib3.readthedocs.io/en/1.26.x/advanced-usage.html#ssl-warnings\n",
      "  warnings.warn(\n"
     ]
    },
    {
     "name": "stdout",
     "output_type": "stream",
     "text": [
      "Arquivo: \"PCAT_COELBA_2014-04-22_REAJUSTE_(PCATCOELBA2014).xlsx\" foi baixado com sucesso\n",
      "['PCAT_COELBA_2015-04-22_REAJUSTE_(PCATCOELBA2015AV01).xlsx'\n",
      " 'https://www2.aneel.gov.br/aplicacoes/tarifa/arquivo/PCAT_COELBA_2015A_V01..xlsx']\n",
      "Arquivo: \"PCAT_COELBA_2014-04-22_REAJUSTE_(PCATCOELBA2014).xlsx\" foi baixado com sucesso\n",
      "['PCAT_COELBA_2015-04-22_REAJUSTE_(PCATCOELBA2015AV01).xlsx'\n",
      " 'https://www2.aneel.gov.br/aplicacoes/tarifa/arquivo/PCAT_COELBA_2015A_V01..xlsx']\n"
     ]
    },
    {
     "name": "stderr",
     "output_type": "stream",
     "text": [
      "D:\\python_projects\\cpfl\\web_scrapper\\venv_scraper\\lib\\site-packages\\urllib3\\connectionpool.py:1043: InsecureRequestWarning: Unverified HTTPS request is being made to host 'www2.aneel.gov.br'. Adding certificate verification is strongly advised. See: https://urllib3.readthedocs.io/en/1.26.x/advanced-usage.html#ssl-warnings\n",
      "  warnings.warn(\n",
      "D:\\python_projects\\cpfl\\web_scrapper\\venv_scraper\\lib\\site-packages\\urllib3\\connectionpool.py:1043: InsecureRequestWarning: Unverified HTTPS request is being made to host 'www2.aneel.gov.br'. Adding certificate verification is strongly advised. See: https://urllib3.readthedocs.io/en/1.26.x/advanced-usage.html#ssl-warnings\n",
      "  warnings.warn(\n"
     ]
    },
    {
     "name": "stdout",
     "output_type": "stream",
     "text": [
      "Arquivo: \"PCAT_COELBA_2015-04-22_REAJUSTE_(PCATCOELBA2015AV01).xlsx\" foi baixado com sucesso\n",
      "['PCAT_COELBA_2015-03-02_REVISAOEXTRAORDINARIA_(PCATCOELBA2014V00).xlsx'\n",
      " 'https://www2.aneel.gov.br/aplicacoes/tarifa/arquivo/PCAT_COELBA_2014_V00.xlsx']\n",
      "Arquivo: \"PCAT_COELBA_2015-04-22_REAJUSTE_(PCATCOELBA2015AV01).xlsx\" foi baixado com sucesso\n",
      "['PCAT_COELBA_2015-03-02_REVISAOEXTRAORDINARIA_(PCATCOELBA2014V00).xlsx'\n",
      " 'https://www2.aneel.gov.br/aplicacoes/tarifa/arquivo/PCAT_COELBA_2014_V00.xlsx']\n"
     ]
    },
    {
     "name": "stderr",
     "output_type": "stream",
     "text": [
      "D:\\python_projects\\cpfl\\web_scrapper\\venv_scraper\\lib\\site-packages\\urllib3\\connectionpool.py:1043: InsecureRequestWarning: Unverified HTTPS request is being made to host 'www2.aneel.gov.br'. Adding certificate verification is strongly advised. See: https://urllib3.readthedocs.io/en/1.26.x/advanced-usage.html#ssl-warnings\n",
      "  warnings.warn(\n",
      "D:\\python_projects\\cpfl\\web_scrapper\\venv_scraper\\lib\\site-packages\\urllib3\\connectionpool.py:1043: InsecureRequestWarning: Unverified HTTPS request is being made to host 'www2.aneel.gov.br'. Adding certificate verification is strongly advised. See: https://urllib3.readthedocs.io/en/1.26.x/advanced-usage.html#ssl-warnings\n",
      "  warnings.warn(\n"
     ]
    },
    {
     "name": "stdout",
     "output_type": "stream",
     "text": [
      "Arquivo: \"PCAT_COELBA_2015-03-02_REVISAOEXTRAORDINARIA_(PCATCOELBA2014V00).xlsx\" foi baixado com sucesso\n",
      "['PCAT_COELBA_2016-04-22_REAJUSTE_(PCATCOELBA2016).xlsx'\n",
      " 'https://www2.aneel.gov.br/aplicacoes/tarifa/arquivo/PCAT_COELBA_2016.xlsx']\n",
      "Arquivo: \"PCAT_COELBA_2015-03-02_REVISAOEXTRAORDINARIA_(PCATCOELBA2014V00).xlsx\" foi baixado com sucesso\n",
      "['PCAT_COELBA_2016-04-22_REAJUSTE_(PCATCOELBA2016).xlsx'\n",
      " 'https://www2.aneel.gov.br/aplicacoes/tarifa/arquivo/PCAT_COELBA_2016.xlsx']\n"
     ]
    },
    {
     "name": "stderr",
     "output_type": "stream",
     "text": [
      "D:\\python_projects\\cpfl\\web_scrapper\\venv_scraper\\lib\\site-packages\\urllib3\\connectionpool.py:1043: InsecureRequestWarning: Unverified HTTPS request is being made to host 'www2.aneel.gov.br'. Adding certificate verification is strongly advised. See: https://urllib3.readthedocs.io/en/1.26.x/advanced-usage.html#ssl-warnings\n",
      "  warnings.warn(\n",
      "D:\\python_projects\\cpfl\\web_scrapper\\venv_scraper\\lib\\site-packages\\urllib3\\connectionpool.py:1043: InsecureRequestWarning: Unverified HTTPS request is being made to host 'www2.aneel.gov.br'. Adding certificate verification is strongly advised. See: https://urllib3.readthedocs.io/en/1.26.x/advanced-usage.html#ssl-warnings\n",
      "  warnings.warn(\n"
     ]
    },
    {
     "name": "stdout",
     "output_type": "stream",
     "text": [
      "Arquivo: \"PCAT_COELBA_2016-04-22_REAJUSTE_(PCATCOELBA2016).xlsx\" foi baixado com sucesso\n",
      "['PCAT_COELBA_2017-04-22_REAJUSTE_(PCATCOELBA2017).xlsx'\n",
      " 'https://www2.aneel.gov.br/aplicacoes/tarifa/arquivo/PCAT_Coelba_2017.xlsx']\n",
      "Arquivo: \"PCAT_COELBA_2016-04-22_REAJUSTE_(PCATCOELBA2016).xlsx\" foi baixado com sucesso\n",
      "['PCAT_COELBA_2017-04-22_REAJUSTE_(PCATCOELBA2017).xlsx'\n",
      " 'https://www2.aneel.gov.br/aplicacoes/tarifa/arquivo/PCAT_Coelba_2017.xlsx']\n"
     ]
    },
    {
     "name": "stderr",
     "output_type": "stream",
     "text": [
      "D:\\python_projects\\cpfl\\web_scrapper\\venv_scraper\\lib\\site-packages\\urllib3\\connectionpool.py:1043: InsecureRequestWarning: Unverified HTTPS request is being made to host 'www2.aneel.gov.br'. Adding certificate verification is strongly advised. See: https://urllib3.readthedocs.io/en/1.26.x/advanced-usage.html#ssl-warnings\n",
      "  warnings.warn(\n",
      "D:\\python_projects\\cpfl\\web_scrapper\\venv_scraper\\lib\\site-packages\\urllib3\\connectionpool.py:1043: InsecureRequestWarning: Unverified HTTPS request is being made to host 'www2.aneel.gov.br'. Adding certificate verification is strongly advised. See: https://urllib3.readthedocs.io/en/1.26.x/advanced-usage.html#ssl-warnings\n",
      "  warnings.warn(\n"
     ]
    },
    {
     "name": "stdout",
     "output_type": "stream",
     "text": [
      "Arquivo: \"PCAT_COELBA_2017-04-22_REAJUSTE_(PCATCOELBA2017).xlsx\" foi baixado com sucesso\n",
      "['PCAT_COELBA_2018-04-22_REVISAO_(PCATCOELBA2018).xlsx'\n",
      " 'https://www2.aneel.gov.br/aplicacoes/tarifa/arquivo/PCAT_Coelba_2018.xlsx']\n",
      "Arquivo: \"PCAT_COELBA_2017-04-22_REAJUSTE_(PCATCOELBA2017).xlsx\" foi baixado com sucesso\n",
      "['PCAT_COELBA_2018-04-22_REVISAO_(PCATCOELBA2018).xlsx'\n",
      " 'https://www2.aneel.gov.br/aplicacoes/tarifa/arquivo/PCAT_Coelba_2018.xlsx']\n"
     ]
    },
    {
     "name": "stderr",
     "output_type": "stream",
     "text": [
      "D:\\python_projects\\cpfl\\web_scrapper\\venv_scraper\\lib\\site-packages\\urllib3\\connectionpool.py:1043: InsecureRequestWarning: Unverified HTTPS request is being made to host 'www2.aneel.gov.br'. Adding certificate verification is strongly advised. See: https://urllib3.readthedocs.io/en/1.26.x/advanced-usage.html#ssl-warnings\n",
      "  warnings.warn(\n",
      "D:\\python_projects\\cpfl\\web_scrapper\\venv_scraper\\lib\\site-packages\\urllib3\\connectionpool.py:1043: InsecureRequestWarning: Unverified HTTPS request is being made to host 'www2.aneel.gov.br'. Adding certificate verification is strongly advised. See: https://urllib3.readthedocs.io/en/1.26.x/advanced-usage.html#ssl-warnings\n",
      "  warnings.warn(\n"
     ]
    },
    {
     "name": "stdout",
     "output_type": "stream",
     "text": [
      "Arquivo: \"PCAT_COELBA_2018-04-22_REVISAO_(PCATCOELBA2018).xlsx\" foi baixado com sucesso\n",
      "['PCAT_COELBA_2019-04-22_REAJUSTE_(47PCATCOELBA2019V021).xlsx'\n",
      " 'https://www2.aneel.gov.br/aplicacoes/tarifa/arquivo/47 PCAT Coelba 2019 V021.xlsx']\n",
      "Arquivo: \"PCAT_COELBA_2018-04-22_REVISAO_(PCATCOELBA2018).xlsx\" foi baixado com sucesso\n",
      "['PCAT_COELBA_2019-04-22_REAJUSTE_(47PCATCOELBA2019V021).xlsx'\n",
      " 'https://www2.aneel.gov.br/aplicacoes/tarifa/arquivo/47 PCAT Coelba 2019 V021.xlsx']\n"
     ]
    },
    {
     "name": "stderr",
     "output_type": "stream",
     "text": [
      "D:\\python_projects\\cpfl\\web_scrapper\\venv_scraper\\lib\\site-packages\\urllib3\\connectionpool.py:1043: InsecureRequestWarning: Unverified HTTPS request is being made to host 'www2.aneel.gov.br'. Adding certificate verification is strongly advised. See: https://urllib3.readthedocs.io/en/1.26.x/advanced-usage.html#ssl-warnings\n",
      "  warnings.warn(\n",
      "D:\\python_projects\\cpfl\\web_scrapper\\venv_scraper\\lib\\site-packages\\urllib3\\connectionpool.py:1043: InsecureRequestWarning: Unverified HTTPS request is being made to host 'www2.aneel.gov.br'. Adding certificate verification is strongly advised. See: https://urllib3.readthedocs.io/en/1.26.x/advanced-usage.html#ssl-warnings\n",
      "  warnings.warn(\n"
     ]
    },
    {
     "name": "stdout",
     "output_type": "stream",
     "text": [
      "Arquivo: \"PCAT_COELBA_2019-04-22_REAJUSTE_(47PCATCOELBA2019V021).xlsx\" foi baixado com sucesso\n",
      "['PCAT_COELBA_2020-04-22_REAJUSTE_(47PCATCOELBA2020V02).xlsx'\n",
      " 'https://www2.aneel.gov.br/aplicacoes/tarifa/arquivo/47 PCAT Coelba 2020 V02.xlsx']\n",
      "Arquivo: \"PCAT_COELBA_2019-04-22_REAJUSTE_(47PCATCOELBA2019V021).xlsx\" foi baixado com sucesso\n",
      "['PCAT_COELBA_2020-04-22_REAJUSTE_(47PCATCOELBA2020V02).xlsx'\n",
      " 'https://www2.aneel.gov.br/aplicacoes/tarifa/arquivo/47 PCAT Coelba 2020 V02.xlsx']\n"
     ]
    },
    {
     "name": "stderr",
     "output_type": "stream",
     "text": [
      "D:\\python_projects\\cpfl\\web_scrapper\\venv_scraper\\lib\\site-packages\\urllib3\\connectionpool.py:1043: InsecureRequestWarning: Unverified HTTPS request is being made to host 'www2.aneel.gov.br'. Adding certificate verification is strongly advised. See: https://urllib3.readthedocs.io/en/1.26.x/advanced-usage.html#ssl-warnings\n",
      "  warnings.warn(\n",
      "D:\\python_projects\\cpfl\\web_scrapper\\venv_scraper\\lib\\site-packages\\urllib3\\connectionpool.py:1043: InsecureRequestWarning: Unverified HTTPS request is being made to host 'www2.aneel.gov.br'. Adding certificate verification is strongly advised. See: https://urllib3.readthedocs.io/en/1.26.x/advanced-usage.html#ssl-warnings\n",
      "  warnings.warn(\n"
     ]
    },
    {
     "name": "stdout",
     "output_type": "stream",
     "text": [
      "Arquivo: \"PCAT_COELBA_2020-04-22_REAJUSTE_(47PCATCOELBA2020V02).xlsx\" foi baixado com sucesso\n",
      "['PCAT_COELBA_2021-04-22_REAJUSTE_(47PCATCOELBA2021V02).xlsx'\n",
      " 'https://www2.aneel.gov.br/aplicacoes/tarifa/arquivo/47 PCAT Coelba 2021 V02.xlsx']\n",
      "Arquivo: \"PCAT_COELBA_2020-04-22_REAJUSTE_(47PCATCOELBA2020V02).xlsx\" foi baixado com sucesso\n",
      "['PCAT_COELBA_2021-04-22_REAJUSTE_(47PCATCOELBA2021V02).xlsx'\n",
      " 'https://www2.aneel.gov.br/aplicacoes/tarifa/arquivo/47 PCAT Coelba 2021 V02.xlsx']\n"
     ]
    },
    {
     "name": "stderr",
     "output_type": "stream",
     "text": [
      "D:\\python_projects\\cpfl\\web_scrapper\\venv_scraper\\lib\\site-packages\\urllib3\\connectionpool.py:1043: InsecureRequestWarning: Unverified HTTPS request is being made to host 'www2.aneel.gov.br'. Adding certificate verification is strongly advised. See: https://urllib3.readthedocs.io/en/1.26.x/advanced-usage.html#ssl-warnings\n",
      "  warnings.warn(\n",
      "D:\\python_projects\\cpfl\\web_scrapper\\venv_scraper\\lib\\site-packages\\urllib3\\connectionpool.py:1043: InsecureRequestWarning: Unverified HTTPS request is being made to host 'www2.aneel.gov.br'. Adding certificate verification is strongly advised. See: https://urllib3.readthedocs.io/en/1.26.x/advanced-usage.html#ssl-warnings\n",
      "  warnings.warn(\n"
     ]
    },
    {
     "name": "stdout",
     "output_type": "stream",
     "text": [
      "Arquivo: \"PCAT_COELBA_2021-04-22_REAJUSTE_(47PCATCOELBA2021V02).xlsx\" foi baixado com sucesso\n",
      "['PCAT_COOPERALIANCA_2014-08-12_REAJUSTE_(PCATCOOPERALIANCA2014).xlsx'\n",
      " 'https://www2.aneel.gov.br/aplicacoes/tarifa/arquivo/PCAT_COOPERALIANÇA_2014.xlsx']\n",
      "Arquivo: \"PCAT_COELBA_2021-04-22_REAJUSTE_(47PCATCOELBA2021V02).xlsx\" foi baixado com sucesso\n",
      "['PCAT_COOPERALIANCA_2014-08-12_REAJUSTE_(PCATCOOPERALIANCA2014).xlsx'\n",
      " 'https://www2.aneel.gov.br/aplicacoes/tarifa/arquivo/PCAT_COOPERALIANÇA_2014.xlsx']\n"
     ]
    },
    {
     "name": "stderr",
     "output_type": "stream",
     "text": [
      "D:\\python_projects\\cpfl\\web_scrapper\\venv_scraper\\lib\\site-packages\\urllib3\\connectionpool.py:1043: InsecureRequestWarning: Unverified HTTPS request is being made to host 'www2.aneel.gov.br'. Adding certificate verification is strongly advised. See: https://urllib3.readthedocs.io/en/1.26.x/advanced-usage.html#ssl-warnings\n",
      "  warnings.warn(\n",
      "D:\\python_projects\\cpfl\\web_scrapper\\venv_scraper\\lib\\site-packages\\urllib3\\connectionpool.py:1043: InsecureRequestWarning: Unverified HTTPS request is being made to host 'www2.aneel.gov.br'. Adding certificate verification is strongly advised. See: https://urllib3.readthedocs.io/en/1.26.x/advanced-usage.html#ssl-warnings\n",
      "  warnings.warn(\n"
     ]
    },
    {
     "name": "stdout",
     "output_type": "stream",
     "text": [
      "Arquivo: \"PCAT_COOPERALIANCA_2014-08-12_REAJUSTE_(PCATCOOPERALIANCA2014).xlsx\" foi baixado com sucesso\n",
      "['PCAT_COOPERALIANCA_2015-08-14_REAJUSTE_(PCATCOOPERALIANCA2015).xlsx'\n",
      " 'https://www2.aneel.gov.br/aplicacoes/tarifa/arquivo/PCAT_Cooperaliança_2015.xlsx']\n",
      "Arquivo: \"PCAT_COOPERALIANCA_2014-08-12_REAJUSTE_(PCATCOOPERALIANCA2014).xlsx\" foi baixado com sucesso\n",
      "['PCAT_COOPERALIANCA_2015-08-14_REAJUSTE_(PCATCOOPERALIANCA2015).xlsx'\n",
      " 'https://www2.aneel.gov.br/aplicacoes/tarifa/arquivo/PCAT_Cooperaliança_2015.xlsx']\n"
     ]
    },
    {
     "name": "stderr",
     "output_type": "stream",
     "text": [
      "D:\\python_projects\\cpfl\\web_scrapper\\venv_scraper\\lib\\site-packages\\urllib3\\connectionpool.py:1043: InsecureRequestWarning: Unverified HTTPS request is being made to host 'www2.aneel.gov.br'. Adding certificate verification is strongly advised. See: https://urllib3.readthedocs.io/en/1.26.x/advanced-usage.html#ssl-warnings\n",
      "  warnings.warn(\n",
      "D:\\python_projects\\cpfl\\web_scrapper\\venv_scraper\\lib\\site-packages\\urllib3\\connectionpool.py:1043: InsecureRequestWarning: Unverified HTTPS request is being made to host 'www2.aneel.gov.br'. Adding certificate verification is strongly advised. See: https://urllib3.readthedocs.io/en/1.26.x/advanced-usage.html#ssl-warnings\n",
      "  warnings.warn(\n"
     ]
    },
    {
     "name": "stdout",
     "output_type": "stream",
     "text": [
      "Arquivo: \"PCAT_COOPERALIANCA_2015-08-14_REAJUSTE_(PCATCOOPERALIANCA2015).xlsx\" foi baixado com sucesso\n",
      "['PCAT_COOPERALIANCA_2015-03-02_REVISAOEXTRAORDINARIA_(PCATCOOPERALIANCA2014V00).xlsx'\n",
      " 'https://www2.aneel.gov.br/aplicacoes/tarifa/arquivo/PCAT_COOPERALIANÇA2014_V00.xlsx']\n",
      "Arquivo: \"PCAT_COOPERALIANCA_2015-08-14_REAJUSTE_(PCATCOOPERALIANCA2015).xlsx\" foi baixado com sucesso\n",
      "['PCAT_COOPERALIANCA_2015-03-02_REVISAOEXTRAORDINARIA_(PCATCOOPERALIANCA2014V00).xlsx'\n",
      " 'https://www2.aneel.gov.br/aplicacoes/tarifa/arquivo/PCAT_COOPERALIANÇA2014_V00.xlsx']\n"
     ]
    },
    {
     "name": "stderr",
     "output_type": "stream",
     "text": [
      "D:\\python_projects\\cpfl\\web_scrapper\\venv_scraper\\lib\\site-packages\\urllib3\\connectionpool.py:1043: InsecureRequestWarning: Unverified HTTPS request is being made to host 'www2.aneel.gov.br'. Adding certificate verification is strongly advised. See: https://urllib3.readthedocs.io/en/1.26.x/advanced-usage.html#ssl-warnings\n",
      "  warnings.warn(\n",
      "D:\\python_projects\\cpfl\\web_scrapper\\venv_scraper\\lib\\site-packages\\urllib3\\connectionpool.py:1043: InsecureRequestWarning: Unverified HTTPS request is being made to host 'www2.aneel.gov.br'. Adding certificate verification is strongly advised. See: https://urllib3.readthedocs.io/en/1.26.x/advanced-usage.html#ssl-warnings\n",
      "  warnings.warn(\n"
     ]
    },
    {
     "name": "stdout",
     "output_type": "stream",
     "text": [
      "Arquivo: \"PCAT_COOPERALIANCA_2015-03-02_REVISAOEXTRAORDINARIA_(PCATCOOPERALIANCA2014V00).xlsx\" foi baixado com sucesso\n",
      "['PCAT_COOPERALIANCA_2016-08-29_REAJUSTE_(PCATCOOPERALIANCA2016).xlsx'\n",
      " 'https://www2.aneel.gov.br/aplicacoes/tarifa/arquivo/PCAT_ COOPERALIANÇA_ 2016.xlsx']\n",
      "Arquivo: \"PCAT_COOPERALIANCA_2015-03-02_REVISAOEXTRAORDINARIA_(PCATCOOPERALIANCA2014V00).xlsx\" foi baixado com sucesso\n",
      "['PCAT_COOPERALIANCA_2016-08-29_REAJUSTE_(PCATCOOPERALIANCA2016).xlsx'\n",
      " 'https://www2.aneel.gov.br/aplicacoes/tarifa/arquivo/PCAT_ COOPERALIANÇA_ 2016.xlsx']\n"
     ]
    },
    {
     "name": "stderr",
     "output_type": "stream",
     "text": [
      "D:\\python_projects\\cpfl\\web_scrapper\\venv_scraper\\lib\\site-packages\\urllib3\\connectionpool.py:1043: InsecureRequestWarning: Unverified HTTPS request is being made to host 'www2.aneel.gov.br'. Adding certificate verification is strongly advised. See: https://urllib3.readthedocs.io/en/1.26.x/advanced-usage.html#ssl-warnings\n",
      "  warnings.warn(\n",
      "D:\\python_projects\\cpfl\\web_scrapper\\venv_scraper\\lib\\site-packages\\urllib3\\connectionpool.py:1043: InsecureRequestWarning: Unverified HTTPS request is being made to host 'www2.aneel.gov.br'. Adding certificate verification is strongly advised. See: https://urllib3.readthedocs.io/en/1.26.x/advanced-usage.html#ssl-warnings\n",
      "  warnings.warn(\n"
     ]
    },
    {
     "name": "stdout",
     "output_type": "stream",
     "text": [
      "Arquivo: \"PCAT_COOPERALIANCA_2016-08-29_REAJUSTE_(PCATCOOPERALIANCA2016).xlsx\" foi baixado com sucesso\n",
      "['PCAT_COOPERALIANCA_2017-08-29_REVISAO_(PCATCOOPERALINACA2017).xlsx'\n",
      " 'https://www2.aneel.gov.br/aplicacoes/tarifa/arquivo/PCAT_Cooperalinaça_2017.xlsx']\n",
      "Arquivo: \"PCAT_COOPERALIANCA_2016-08-29_REAJUSTE_(PCATCOOPERALIANCA2016).xlsx\" foi baixado com sucesso\n",
      "['PCAT_COOPERALIANCA_2017-08-29_REVISAO_(PCATCOOPERALINACA2017).xlsx'\n",
      " 'https://www2.aneel.gov.br/aplicacoes/tarifa/arquivo/PCAT_Cooperalinaça_2017.xlsx']\n"
     ]
    },
    {
     "name": "stderr",
     "output_type": "stream",
     "text": [
      "D:\\python_projects\\cpfl\\web_scrapper\\venv_scraper\\lib\\site-packages\\urllib3\\connectionpool.py:1043: InsecureRequestWarning: Unverified HTTPS request is being made to host 'www2.aneel.gov.br'. Adding certificate verification is strongly advised. See: https://urllib3.readthedocs.io/en/1.26.x/advanced-usage.html#ssl-warnings\n",
      "  warnings.warn(\n",
      "D:\\python_projects\\cpfl\\web_scrapper\\venv_scraper\\lib\\site-packages\\urllib3\\connectionpool.py:1043: InsecureRequestWarning: Unverified HTTPS request is being made to host 'www2.aneel.gov.br'. Adding certificate verification is strongly advised. See: https://urllib3.readthedocs.io/en/1.26.x/advanced-usage.html#ssl-warnings\n",
      "  warnings.warn(\n"
     ]
    },
    {
     "name": "stdout",
     "output_type": "stream",
     "text": [
      "Arquivo: \"PCAT_COOPERALIANCA_2017-08-29_REVISAO_(PCATCOOPERALINACA2017).xlsx\" foi baixado com sucesso\n",
      "['PCAT_COOPERALIANCA_2018-08-29_REAJUSTE_(PCATCOOPERALIANCA2018).xlsx'\n",
      " 'https://www2.aneel.gov.br/aplicacoes/tarifa/arquivo/PCAT_Cooperaliança_2018 .xlsx']\n",
      "Arquivo: \"PCAT_COOPERALIANCA_2017-08-29_REVISAO_(PCATCOOPERALINACA2017).xlsx\" foi baixado com sucesso\n",
      "['PCAT_COOPERALIANCA_2018-08-29_REAJUSTE_(PCATCOOPERALIANCA2018).xlsx'\n",
      " 'https://www2.aneel.gov.br/aplicacoes/tarifa/arquivo/PCAT_Cooperaliança_2018 .xlsx']\n"
     ]
    },
    {
     "name": "stderr",
     "output_type": "stream",
     "text": [
      "D:\\python_projects\\cpfl\\web_scrapper\\venv_scraper\\lib\\site-packages\\urllib3\\connectionpool.py:1043: InsecureRequestWarning: Unverified HTTPS request is being made to host 'www2.aneel.gov.br'. Adding certificate verification is strongly advised. See: https://urllib3.readthedocs.io/en/1.26.x/advanced-usage.html#ssl-warnings\n",
      "  warnings.warn(\n",
      "D:\\python_projects\\cpfl\\web_scrapper\\venv_scraper\\lib\\site-packages\\urllib3\\connectionpool.py:1043: InsecureRequestWarning: Unverified HTTPS request is being made to host 'www2.aneel.gov.br'. Adding certificate verification is strongly advised. See: https://urllib3.readthedocs.io/en/1.26.x/advanced-usage.html#ssl-warnings\n",
      "  warnings.warn(\n"
     ]
    },
    {
     "name": "stdout",
     "output_type": "stream",
     "text": [
      "Arquivo: \"PCAT_COOPERALIANCA_2018-08-29_REAJUSTE_(PCATCOOPERALIANCA2018).xlsx\" foi baixado com sucesso\n",
      "['PCAT_COOPERALIANCA_2019-08-29_REAJUSTE_(2904PCATCOOPERALIANCA2019V02).xlsx'\n",
      " 'https://www2.aneel.gov.br/aplicacoes/tarifa/arquivo/2904 PCAT Cooperaliança 2019 V02.xlsx']\n",
      "Arquivo: \"PCAT_COOPERALIANCA_2018-08-29_REAJUSTE_(PCATCOOPERALIANCA2018).xlsx\" foi baixado com sucesso\n",
      "['PCAT_COOPERALIANCA_2019-08-29_REAJUSTE_(2904PCATCOOPERALIANCA2019V02).xlsx'\n",
      " 'https://www2.aneel.gov.br/aplicacoes/tarifa/arquivo/2904 PCAT Cooperaliança 2019 V02.xlsx']\n"
     ]
    },
    {
     "name": "stderr",
     "output_type": "stream",
     "text": [
      "D:\\python_projects\\cpfl\\web_scrapper\\venv_scraper\\lib\\site-packages\\urllib3\\connectionpool.py:1043: InsecureRequestWarning: Unverified HTTPS request is being made to host 'www2.aneel.gov.br'. Adding certificate verification is strongly advised. See: https://urllib3.readthedocs.io/en/1.26.x/advanced-usage.html#ssl-warnings\n",
      "  warnings.warn(\n",
      "D:\\python_projects\\cpfl\\web_scrapper\\venv_scraper\\lib\\site-packages\\urllib3\\connectionpool.py:1043: InsecureRequestWarning: Unverified HTTPS request is being made to host 'www2.aneel.gov.br'. Adding certificate verification is strongly advised. See: https://urllib3.readthedocs.io/en/1.26.x/advanced-usage.html#ssl-warnings\n",
      "  warnings.warn(\n"
     ]
    },
    {
     "name": "stdout",
     "output_type": "stream",
     "text": [
      "Arquivo: \"PCAT_COOPERALIANCA_2019-08-29_REAJUSTE_(2904PCATCOOPERALIANCA2019V02).xlsx\" foi baixado com sucesso\n",
      "['PCAT_COOPERALIANCA_2020-08-29_REAJUSTE_(2904PCATCOOPERALIANCA2020V02).xlsx'\n",
      " 'https://www2.aneel.gov.br/aplicacoes/tarifa/arquivo/2904 PCAT Cooperaliança 2020 V02.xlsx']\n",
      "Arquivo: \"PCAT_COOPERALIANCA_2019-08-29_REAJUSTE_(2904PCATCOOPERALIANCA2019V02).xlsx\" foi baixado com sucesso\n",
      "['PCAT_COOPERALIANCA_2020-08-29_REAJUSTE_(2904PCATCOOPERALIANCA2020V02).xlsx'\n",
      " 'https://www2.aneel.gov.br/aplicacoes/tarifa/arquivo/2904 PCAT Cooperaliança 2020 V02.xlsx']\n"
     ]
    },
    {
     "name": "stderr",
     "output_type": "stream",
     "text": [
      "D:\\python_projects\\cpfl\\web_scrapper\\venv_scraper\\lib\\site-packages\\urllib3\\connectionpool.py:1043: InsecureRequestWarning: Unverified HTTPS request is being made to host 'www2.aneel.gov.br'. Adding certificate verification is strongly advised. See: https://urllib3.readthedocs.io/en/1.26.x/advanced-usage.html#ssl-warnings\n",
      "  warnings.warn(\n",
      "D:\\python_projects\\cpfl\\web_scrapper\\venv_scraper\\lib\\site-packages\\urllib3\\connectionpool.py:1043: InsecureRequestWarning: Unverified HTTPS request is being made to host 'www2.aneel.gov.br'. Adding certificate verification is strongly advised. See: https://urllib3.readthedocs.io/en/1.26.x/advanced-usage.html#ssl-warnings\n",
      "  warnings.warn(\n"
     ]
    },
    {
     "name": "stdout",
     "output_type": "stream",
     "text": [
      "Arquivo: \"PCAT_COOPERALIANCA_2020-08-29_REAJUSTE_(2904PCATCOOPERALIANCA2020V02).xlsx\" foi baixado com sucesso\n",
      "['PCAT_COOPERALIANCA_2021-08-29_REAJUSTE_(2904PCATCOOPERALIANCA2021V02).xlsx'\n",
      " 'https://www2.aneel.gov.br/aplicacoes/tarifa/arquivo/2904 PCAT Cooperaliança 2021 V02.xlsx']\n",
      "Arquivo: \"PCAT_COOPERALIANCA_2020-08-29_REAJUSTE_(2904PCATCOOPERALIANCA2020V02).xlsx\" foi baixado com sucesso\n",
      "['PCAT_COOPERALIANCA_2021-08-29_REAJUSTE_(2904PCATCOOPERALIANCA2021V02).xlsx'\n",
      " 'https://www2.aneel.gov.br/aplicacoes/tarifa/arquivo/2904 PCAT Cooperaliança 2021 V02.xlsx']\n"
     ]
    },
    {
     "name": "stderr",
     "output_type": "stream",
     "text": [
      "D:\\python_projects\\cpfl\\web_scrapper\\venv_scraper\\lib\\site-packages\\urllib3\\connectionpool.py:1043: InsecureRequestWarning: Unverified HTTPS request is being made to host 'www2.aneel.gov.br'. Adding certificate verification is strongly advised. See: https://urllib3.readthedocs.io/en/1.26.x/advanced-usage.html#ssl-warnings\n",
      "  warnings.warn(\n",
      "D:\\python_projects\\cpfl\\web_scrapper\\venv_scraper\\lib\\site-packages\\urllib3\\connectionpool.py:1043: InsecureRequestWarning: Unverified HTTPS request is being made to host 'www2.aneel.gov.br'. Adding certificate verification is strongly advised. See: https://urllib3.readthedocs.io/en/1.26.x/advanced-usage.html#ssl-warnings\n",
      "  warnings.warn(\n"
     ]
    },
    {
     "name": "stdout",
     "output_type": "stream",
     "text": [
      "Arquivo: \"PCAT_COOPERALIANCA_2021-08-29_REAJUSTE_(2904PCATCOOPERALIANCA2021V02).xlsx\" foi baixado com sucesso\n",
      "['PCAT_COPELDIS_2014-06-24_REAJUSTE_(PCATCOPEL2014).xlsx'\n",
      " 'https://www2.aneel.gov.br/aplicacoes/tarifa/arquivo/PCAT_COPEL_2014.xlsx']\n",
      "Arquivo: \"PCAT_COOPERALIANCA_2021-08-29_REAJUSTE_(2904PCATCOOPERALIANCA2021V02).xlsx\" foi baixado com sucesso\n",
      "['PCAT_COPELDIS_2014-06-24_REAJUSTE_(PCATCOPEL2014).xlsx'\n",
      " 'https://www2.aneel.gov.br/aplicacoes/tarifa/arquivo/PCAT_COPEL_2014.xlsx']\n"
     ]
    },
    {
     "name": "stderr",
     "output_type": "stream",
     "text": [
      "D:\\python_projects\\cpfl\\web_scrapper\\venv_scraper\\lib\\site-packages\\urllib3\\connectionpool.py:1043: InsecureRequestWarning: Unverified HTTPS request is being made to host 'www2.aneel.gov.br'. Adding certificate verification is strongly advised. See: https://urllib3.readthedocs.io/en/1.26.x/advanced-usage.html#ssl-warnings\n",
      "  warnings.warn(\n",
      "D:\\python_projects\\cpfl\\web_scrapper\\venv_scraper\\lib\\site-packages\\urllib3\\connectionpool.py:1043: InsecureRequestWarning: Unverified HTTPS request is being made to host 'www2.aneel.gov.br'. Adding certificate verification is strongly advised. See: https://urllib3.readthedocs.io/en/1.26.x/advanced-usage.html#ssl-warnings\n",
      "  warnings.warn(\n"
     ]
    },
    {
     "name": "stdout",
     "output_type": "stream",
     "text": [
      "Arquivo: \"PCAT_COPELDIS_2014-06-24_REAJUSTE_(PCATCOPEL2014).xlsx\" foi baixado com sucesso\n",
      "['PCAT_COPELDIS_2015-06-24_REAJUSTE_(PCATCOPELDIS2015).xlsx'\n",
      " 'https://www2.aneel.gov.br/aplicacoes/tarifa/arquivo/PCAT_Copel-DIS 2015.xlsx']\n",
      "Arquivo: \"PCAT_COPELDIS_2014-06-24_REAJUSTE_(PCATCOPEL2014).xlsx\" foi baixado com sucesso\n",
      "['PCAT_COPELDIS_2015-06-24_REAJUSTE_(PCATCOPELDIS2015).xlsx'\n",
      " 'https://www2.aneel.gov.br/aplicacoes/tarifa/arquivo/PCAT_Copel-DIS 2015.xlsx']\n"
     ]
    },
    {
     "name": "stderr",
     "output_type": "stream",
     "text": [
      "D:\\python_projects\\cpfl\\web_scrapper\\venv_scraper\\lib\\site-packages\\urllib3\\connectionpool.py:1043: InsecureRequestWarning: Unverified HTTPS request is being made to host 'www2.aneel.gov.br'. Adding certificate verification is strongly advised. See: https://urllib3.readthedocs.io/en/1.26.x/advanced-usage.html#ssl-warnings\n",
      "  warnings.warn(\n",
      "D:\\python_projects\\cpfl\\web_scrapper\\venv_scraper\\lib\\site-packages\\urllib3\\connectionpool.py:1043: InsecureRequestWarning: Unverified HTTPS request is being made to host 'www2.aneel.gov.br'. Adding certificate verification is strongly advised. See: https://urllib3.readthedocs.io/en/1.26.x/advanced-usage.html#ssl-warnings\n",
      "  warnings.warn(\n"
     ]
    },
    {
     "name": "stdout",
     "output_type": "stream",
     "text": [
      "Arquivo: \"PCAT_COPELDIS_2015-06-24_REAJUSTE_(PCATCOPELDIS2015).xlsx\" foi baixado com sucesso\n",
      "['PCAT_COPELDIS_2015-03-02_REVISAOEXTRAORDINARIA_(PCATCOPEL2014V00).xlsx'\n",
      " 'https://www2.aneel.gov.br/aplicacoes/tarifa/arquivo/PCAT_COPEL_2014_V00.xlsx']\n",
      "Arquivo: \"PCAT_COPELDIS_2015-06-24_REAJUSTE_(PCATCOPELDIS2015).xlsx\" foi baixado com sucesso\n",
      "['PCAT_COPELDIS_2015-03-02_REVISAOEXTRAORDINARIA_(PCATCOPEL2014V00).xlsx'\n",
      " 'https://www2.aneel.gov.br/aplicacoes/tarifa/arquivo/PCAT_COPEL_2014_V00.xlsx']\n"
     ]
    },
    {
     "name": "stderr",
     "output_type": "stream",
     "text": [
      "D:\\python_projects\\cpfl\\web_scrapper\\venv_scraper\\lib\\site-packages\\urllib3\\connectionpool.py:1043: InsecureRequestWarning: Unverified HTTPS request is being made to host 'www2.aneel.gov.br'. Adding certificate verification is strongly advised. See: https://urllib3.readthedocs.io/en/1.26.x/advanced-usage.html#ssl-warnings\n",
      "  warnings.warn(\n",
      "D:\\python_projects\\cpfl\\web_scrapper\\venv_scraper\\lib\\site-packages\\urllib3\\connectionpool.py:1043: InsecureRequestWarning: Unverified HTTPS request is being made to host 'www2.aneel.gov.br'. Adding certificate verification is strongly advised. See: https://urllib3.readthedocs.io/en/1.26.x/advanced-usage.html#ssl-warnings\n",
      "  warnings.warn(\n"
     ]
    },
    {
     "name": "stdout",
     "output_type": "stream",
     "text": [
      "Arquivo: \"PCAT_COPELDIS_2015-03-02_REVISAOEXTRAORDINARIA_(PCATCOPEL2014V00).xlsx\" foi baixado com sucesso\n",
      "['PCAT_COPELDIS_2016-06-24_REVISAO_(PCATCOPELDIS20161).xlsx'\n",
      " 'https://www2.aneel.gov.br/aplicacoes/tarifa/arquivo/PCAT_Copel-DIS_20161.xlsx']\n",
      "Arquivo: \"PCAT_COPELDIS_2015-03-02_REVISAOEXTRAORDINARIA_(PCATCOPEL2014V00).xlsx\" foi baixado com sucesso\n",
      "['PCAT_COPELDIS_2016-06-24_REVISAO_(PCATCOPELDIS20161).xlsx'\n",
      " 'https://www2.aneel.gov.br/aplicacoes/tarifa/arquivo/PCAT_Copel-DIS_20161.xlsx']\n"
     ]
    },
    {
     "name": "stderr",
     "output_type": "stream",
     "text": [
      "D:\\python_projects\\cpfl\\web_scrapper\\venv_scraper\\lib\\site-packages\\urllib3\\connectionpool.py:1043: InsecureRequestWarning: Unverified HTTPS request is being made to host 'www2.aneel.gov.br'. Adding certificate verification is strongly advised. See: https://urllib3.readthedocs.io/en/1.26.x/advanced-usage.html#ssl-warnings\n",
      "  warnings.warn(\n",
      "D:\\python_projects\\cpfl\\web_scrapper\\venv_scraper\\lib\\site-packages\\urllib3\\connectionpool.py:1043: InsecureRequestWarning: Unverified HTTPS request is being made to host 'www2.aneel.gov.br'. Adding certificate verification is strongly advised. See: https://urllib3.readthedocs.io/en/1.26.x/advanced-usage.html#ssl-warnings\n",
      "  warnings.warn(\n"
     ]
    },
    {
     "name": "stdout",
     "output_type": "stream",
     "text": [
      "Arquivo: \"PCAT_COPELDIS_2016-06-24_REVISAO_(PCATCOPELDIS20161).xlsx\" foi baixado com sucesso\n",
      "['PCAT_COPELDIS_2017-06-24_REAJUSTE_(PCATCOPELDIS20171).xlsx'\n",
      " 'https://www2.aneel.gov.br/aplicacoes/tarifa/arquivo/PCAT_Copel-DIS_20171.xlsx']\n",
      "Arquivo: \"PCAT_COPELDIS_2016-06-24_REVISAO_(PCATCOPELDIS20161).xlsx\" foi baixado com sucesso\n",
      "['PCAT_COPELDIS_2017-06-24_REAJUSTE_(PCATCOPELDIS20171).xlsx'\n",
      " 'https://www2.aneel.gov.br/aplicacoes/tarifa/arquivo/PCAT_Copel-DIS_20171.xlsx']\n"
     ]
    },
    {
     "name": "stderr",
     "output_type": "stream",
     "text": [
      "D:\\python_projects\\cpfl\\web_scrapper\\venv_scraper\\lib\\site-packages\\urllib3\\connectionpool.py:1043: InsecureRequestWarning: Unverified HTTPS request is being made to host 'www2.aneel.gov.br'. Adding certificate verification is strongly advised. See: https://urllib3.readthedocs.io/en/1.26.x/advanced-usage.html#ssl-warnings\n",
      "  warnings.warn(\n",
      "D:\\python_projects\\cpfl\\web_scrapper\\venv_scraper\\lib\\site-packages\\urllib3\\connectionpool.py:1043: InsecureRequestWarning: Unverified HTTPS request is being made to host 'www2.aneel.gov.br'. Adding certificate verification is strongly advised. See: https://urllib3.readthedocs.io/en/1.26.x/advanced-usage.html#ssl-warnings\n",
      "  warnings.warn(\n"
     ]
    },
    {
     "name": "stdout",
     "output_type": "stream",
     "text": [
      "Arquivo: \"PCAT_COPELDIS_2017-06-24_REAJUSTE_(PCATCOPELDIS20171).xlsx\" foi baixado com sucesso\n",
      "['PCAT_COPELDIS_2018-06-24_REAJUSTE_(PCATCOPELDIS2018).xlsx'\n",
      " 'https://www2.aneel.gov.br/aplicacoes/tarifa/arquivo/PCAT_Copel-DIS_2018.xlsx']\n",
      "Arquivo: \"PCAT_COPELDIS_2017-06-24_REAJUSTE_(PCATCOPELDIS20171).xlsx\" foi baixado com sucesso\n",
      "['PCAT_COPELDIS_2018-06-24_REAJUSTE_(PCATCOPELDIS2018).xlsx'\n",
      " 'https://www2.aneel.gov.br/aplicacoes/tarifa/arquivo/PCAT_Copel-DIS_2018.xlsx']\n"
     ]
    },
    {
     "name": "stderr",
     "output_type": "stream",
     "text": [
      "D:\\python_projects\\cpfl\\web_scrapper\\venv_scraper\\lib\\site-packages\\urllib3\\connectionpool.py:1043: InsecureRequestWarning: Unverified HTTPS request is being made to host 'www2.aneel.gov.br'. Adding certificate verification is strongly advised. See: https://urllib3.readthedocs.io/en/1.26.x/advanced-usage.html#ssl-warnings\n",
      "  warnings.warn(\n",
      "D:\\python_projects\\cpfl\\web_scrapper\\venv_scraper\\lib\\site-packages\\urllib3\\connectionpool.py:1043: InsecureRequestWarning: Unverified HTTPS request is being made to host 'www2.aneel.gov.br'. Adding certificate verification is strongly advised. See: https://urllib3.readthedocs.io/en/1.26.x/advanced-usage.html#ssl-warnings\n",
      "  warnings.warn(\n"
     ]
    },
    {
     "name": "stdout",
     "output_type": "stream",
     "text": [
      "Arquivo: \"PCAT_COPELDIS_2018-06-24_REAJUSTE_(PCATCOPELDIS2018).xlsx\" foi baixado com sucesso\n",
      "['PCAT_COPELDIS_2019-06-24_REAJUSTE_(2866PCATCOPELDIS2019V02).xlsx'\n",
      " 'https://www2.aneel.gov.br/aplicacoes/tarifa/arquivo/2866 PCAT Copel-DIS 2019 V02.xlsx']\n",
      "Arquivo: \"PCAT_COPELDIS_2018-06-24_REAJUSTE_(PCATCOPELDIS2018).xlsx\" foi baixado com sucesso\n",
      "['PCAT_COPELDIS_2019-06-24_REAJUSTE_(2866PCATCOPELDIS2019V02).xlsx'\n",
      " 'https://www2.aneel.gov.br/aplicacoes/tarifa/arquivo/2866 PCAT Copel-DIS 2019 V02.xlsx']\n"
     ]
    },
    {
     "name": "stderr",
     "output_type": "stream",
     "text": [
      "D:\\python_projects\\cpfl\\web_scrapper\\venv_scraper\\lib\\site-packages\\urllib3\\connectionpool.py:1043: InsecureRequestWarning: Unverified HTTPS request is being made to host 'www2.aneel.gov.br'. Adding certificate verification is strongly advised. See: https://urllib3.readthedocs.io/en/1.26.x/advanced-usage.html#ssl-warnings\n",
      "  warnings.warn(\n",
      "D:\\python_projects\\cpfl\\web_scrapper\\venv_scraper\\lib\\site-packages\\urllib3\\connectionpool.py:1043: InsecureRequestWarning: Unverified HTTPS request is being made to host 'www2.aneel.gov.br'. Adding certificate verification is strongly advised. See: https://urllib3.readthedocs.io/en/1.26.x/advanced-usage.html#ssl-warnings\n",
      "  warnings.warn(\n"
     ]
    },
    {
     "name": "stdout",
     "output_type": "stream",
     "text": [
      "Arquivo: \"PCAT_COPELDIS_2019-06-24_REAJUSTE_(2866PCATCOPELDIS2019V02).xlsx\" foi baixado com sucesso\n",
      "['PCAT_COPELDIS_2020-06-24_REAJUSTE_(2866PCATCOPELDIS2020V02).xlsx'\n",
      " 'https://www2.aneel.gov.br/aplicacoes/tarifa/arquivo/2866 PCAT Copel-DIS 2020 V02.xlsx']\n",
      "Arquivo: \"PCAT_COPELDIS_2019-06-24_REAJUSTE_(2866PCATCOPELDIS2019V02).xlsx\" foi baixado com sucesso\n",
      "['PCAT_COPELDIS_2020-06-24_REAJUSTE_(2866PCATCOPELDIS2020V02).xlsx'\n",
      " 'https://www2.aneel.gov.br/aplicacoes/tarifa/arquivo/2866 PCAT Copel-DIS 2020 V02.xlsx']\n"
     ]
    },
    {
     "name": "stderr",
     "output_type": "stream",
     "text": [
      "D:\\python_projects\\cpfl\\web_scrapper\\venv_scraper\\lib\\site-packages\\urllib3\\connectionpool.py:1043: InsecureRequestWarning: Unverified HTTPS request is being made to host 'www2.aneel.gov.br'. Adding certificate verification is strongly advised. See: https://urllib3.readthedocs.io/en/1.26.x/advanced-usage.html#ssl-warnings\n",
      "  warnings.warn(\n",
      "D:\\python_projects\\cpfl\\web_scrapper\\venv_scraper\\lib\\site-packages\\urllib3\\connectionpool.py:1043: InsecureRequestWarning: Unverified HTTPS request is being made to host 'www2.aneel.gov.br'. Adding certificate verification is strongly advised. See: https://urllib3.readthedocs.io/en/1.26.x/advanced-usage.html#ssl-warnings\n",
      "  warnings.warn(\n"
     ]
    },
    {
     "name": "stdout",
     "output_type": "stream",
     "text": [
      "Arquivo: \"PCAT_COPELDIS_2020-06-24_REAJUSTE_(2866PCATCOPELDIS2020V02).xlsx\" foi baixado com sucesso\n",
      "['PCAT_COPELDIS_2021-06-24_REVISAO_(2866PCATCOPELDIS2021V02).xlsx'\n",
      " 'https://www2.aneel.gov.br/aplicacoes/tarifa/arquivo/2866 PCAT Copel-DIS 2021 V02.xlsx']\n",
      "Arquivo: \"PCAT_COPELDIS_2020-06-24_REAJUSTE_(2866PCATCOPELDIS2020V02).xlsx\" foi baixado com sucesso\n",
      "['PCAT_COPELDIS_2021-06-24_REVISAO_(2866PCATCOPELDIS2021V02).xlsx'\n",
      " 'https://www2.aneel.gov.br/aplicacoes/tarifa/arquivo/2866 PCAT Copel-DIS 2021 V02.xlsx']\n"
     ]
    },
    {
     "name": "stderr",
     "output_type": "stream",
     "text": [
      "D:\\python_projects\\cpfl\\web_scrapper\\venv_scraper\\lib\\site-packages\\urllib3\\connectionpool.py:1043: InsecureRequestWarning: Unverified HTTPS request is being made to host 'www2.aneel.gov.br'. Adding certificate verification is strongly advised. See: https://urllib3.readthedocs.io/en/1.26.x/advanced-usage.html#ssl-warnings\n",
      "  warnings.warn(\n",
      "D:\\python_projects\\cpfl\\web_scrapper\\venv_scraper\\lib\\site-packages\\urllib3\\connectionpool.py:1043: InsecureRequestWarning: Unverified HTTPS request is being made to host 'www2.aneel.gov.br'. Adding certificate verification is strongly advised. See: https://urllib3.readthedocs.io/en/1.26.x/advanced-usage.html#ssl-warnings\n",
      "  warnings.warn(\n"
     ]
    },
    {
     "name": "stdout",
     "output_type": "stream",
     "text": [
      "Arquivo: \"PCAT_COPELDIS_2021-06-24_REVISAO_(2866PCATCOPELDIS2021V02).xlsx\" foi baixado com sucesso\n",
      "['PCAT_COSERN_2014-04-22_REAJUSTE_(PCATCOSERN2014).xlsx'\n",
      " 'https://www2.aneel.gov.br/aplicacoes/tarifa/arquivo/PCAT_COSERN_2014.xlsx']\n",
      "Arquivo: \"PCAT_COPELDIS_2021-06-24_REVISAO_(2866PCATCOPELDIS2021V02).xlsx\" foi baixado com sucesso\n",
      "['PCAT_COSERN_2014-04-22_REAJUSTE_(PCATCOSERN2014).xlsx'\n",
      " 'https://www2.aneel.gov.br/aplicacoes/tarifa/arquivo/PCAT_COSERN_2014.xlsx']\n"
     ]
    },
    {
     "name": "stderr",
     "output_type": "stream",
     "text": [
      "D:\\python_projects\\cpfl\\web_scrapper\\venv_scraper\\lib\\site-packages\\urllib3\\connectionpool.py:1043: InsecureRequestWarning: Unverified HTTPS request is being made to host 'www2.aneel.gov.br'. Adding certificate verification is strongly advised. See: https://urllib3.readthedocs.io/en/1.26.x/advanced-usage.html#ssl-warnings\n",
      "  warnings.warn(\n",
      "D:\\python_projects\\cpfl\\web_scrapper\\venv_scraper\\lib\\site-packages\\urllib3\\connectionpool.py:1043: InsecureRequestWarning: Unverified HTTPS request is being made to host 'www2.aneel.gov.br'. Adding certificate verification is strongly advised. See: https://urllib3.readthedocs.io/en/1.26.x/advanced-usage.html#ssl-warnings\n",
      "  warnings.warn(\n"
     ]
    },
    {
     "name": "stdout",
     "output_type": "stream",
     "text": [
      "Arquivo: \"PCAT_COSERN_2014-04-22_REAJUSTE_(PCATCOSERN2014).xlsx\" foi baixado com sucesso\n",
      "['PCAT_COSERN_2015-04-22_REAJUSTE_(PCATCOSERN2015AV01).xls'\n",
      " 'https://www2.aneel.gov.br/aplicacoes/tarifa/arquivo/PCAT_COSERN_2015A_V01..xls']\n",
      "Arquivo: \"PCAT_COSERN_2014-04-22_REAJUSTE_(PCATCOSERN2014).xlsx\" foi baixado com sucesso\n",
      "['PCAT_COSERN_2015-04-22_REAJUSTE_(PCATCOSERN2015AV01).xls'\n",
      " 'https://www2.aneel.gov.br/aplicacoes/tarifa/arquivo/PCAT_COSERN_2015A_V01..xls']\n"
     ]
    },
    {
     "name": "stderr",
     "output_type": "stream",
     "text": [
      "D:\\python_projects\\cpfl\\web_scrapper\\venv_scraper\\lib\\site-packages\\urllib3\\connectionpool.py:1043: InsecureRequestWarning: Unverified HTTPS request is being made to host 'www2.aneel.gov.br'. Adding certificate verification is strongly advised. See: https://urllib3.readthedocs.io/en/1.26.x/advanced-usage.html#ssl-warnings\n",
      "  warnings.warn(\n",
      "D:\\python_projects\\cpfl\\web_scrapper\\venv_scraper\\lib\\site-packages\\urllib3\\connectionpool.py:1043: InsecureRequestWarning: Unverified HTTPS request is being made to host 'www2.aneel.gov.br'. Adding certificate verification is strongly advised. See: https://urllib3.readthedocs.io/en/1.26.x/advanced-usage.html#ssl-warnings\n",
      "  warnings.warn(\n"
     ]
    },
    {
     "name": "stdout",
     "output_type": "stream",
     "text": [
      "Arquivo: \"PCAT_COSERN_2015-04-22_REAJUSTE_(PCATCOSERN2015AV01).xls\" foi baixado com sucesso\n",
      "['PCAT_COSERN_2015-03-02_REVISAOEXTRAORDINARIA_(PCATCOSERN2014V00).xlsx'\n",
      " 'https://www2.aneel.gov.br/aplicacoes/tarifa/arquivo/PCAT_COSERN_2014_V00.xlsx']\n",
      "Arquivo: \"PCAT_COSERN_2015-04-22_REAJUSTE_(PCATCOSERN2015AV01).xls\" foi baixado com sucesso\n",
      "['PCAT_COSERN_2015-03-02_REVISAOEXTRAORDINARIA_(PCATCOSERN2014V00).xlsx'\n",
      " 'https://www2.aneel.gov.br/aplicacoes/tarifa/arquivo/PCAT_COSERN_2014_V00.xlsx']\n"
     ]
    },
    {
     "name": "stderr",
     "output_type": "stream",
     "text": [
      "D:\\python_projects\\cpfl\\web_scrapper\\venv_scraper\\lib\\site-packages\\urllib3\\connectionpool.py:1043: InsecureRequestWarning: Unverified HTTPS request is being made to host 'www2.aneel.gov.br'. Adding certificate verification is strongly advised. See: https://urllib3.readthedocs.io/en/1.26.x/advanced-usage.html#ssl-warnings\n",
      "  warnings.warn(\n",
      "D:\\python_projects\\cpfl\\web_scrapper\\venv_scraper\\lib\\site-packages\\urllib3\\connectionpool.py:1043: InsecureRequestWarning: Unverified HTTPS request is being made to host 'www2.aneel.gov.br'. Adding certificate verification is strongly advised. See: https://urllib3.readthedocs.io/en/1.26.x/advanced-usage.html#ssl-warnings\n",
      "  warnings.warn(\n"
     ]
    },
    {
     "name": "stdout",
     "output_type": "stream",
     "text": [
      "Arquivo: \"PCAT_COSERN_2015-03-02_REVISAOEXTRAORDINARIA_(PCATCOSERN2014V00).xlsx\" foi baixado com sucesso\n",
      "['PCAT_COSERN_2016-04-22_REAJUSTE_(PCATCOSERN2016).xlsx'\n",
      " 'https://www2.aneel.gov.br/aplicacoes/tarifa/arquivo/PCAT_Cosern_2016.xlsx']\n",
      "Arquivo: \"PCAT_COSERN_2015-03-02_REVISAOEXTRAORDINARIA_(PCATCOSERN2014V00).xlsx\" foi baixado com sucesso\n",
      "['PCAT_COSERN_2016-04-22_REAJUSTE_(PCATCOSERN2016).xlsx'\n",
      " 'https://www2.aneel.gov.br/aplicacoes/tarifa/arquivo/PCAT_Cosern_2016.xlsx']\n"
     ]
    },
    {
     "name": "stderr",
     "output_type": "stream",
     "text": [
      "D:\\python_projects\\cpfl\\web_scrapper\\venv_scraper\\lib\\site-packages\\urllib3\\connectionpool.py:1043: InsecureRequestWarning: Unverified HTTPS request is being made to host 'www2.aneel.gov.br'. Adding certificate verification is strongly advised. See: https://urllib3.readthedocs.io/en/1.26.x/advanced-usage.html#ssl-warnings\n",
      "  warnings.warn(\n",
      "D:\\python_projects\\cpfl\\web_scrapper\\venv_scraper\\lib\\site-packages\\urllib3\\connectionpool.py:1043: InsecureRequestWarning: Unverified HTTPS request is being made to host 'www2.aneel.gov.br'. Adding certificate verification is strongly advised. See: https://urllib3.readthedocs.io/en/1.26.x/advanced-usage.html#ssl-warnings\n",
      "  warnings.warn(\n"
     ]
    },
    {
     "name": "stdout",
     "output_type": "stream",
     "text": [
      "Arquivo: \"PCAT_COSERN_2016-04-22_REAJUSTE_(PCATCOSERN2016).xlsx\" foi baixado com sucesso\n",
      "['PCAT_COSERN_2017-04-22_REAJUSTE_(PCATCOSERN2017).xlsx'\n",
      " 'https://www2.aneel.gov.br/aplicacoes/tarifa/arquivo/PCAT_Cosern_2017.xlsx']\n",
      "Arquivo: \"PCAT_COSERN_2016-04-22_REAJUSTE_(PCATCOSERN2016).xlsx\" foi baixado com sucesso\n",
      "['PCAT_COSERN_2017-04-22_REAJUSTE_(PCATCOSERN2017).xlsx'\n",
      " 'https://www2.aneel.gov.br/aplicacoes/tarifa/arquivo/PCAT_Cosern_2017.xlsx']\n"
     ]
    },
    {
     "name": "stderr",
     "output_type": "stream",
     "text": [
      "D:\\python_projects\\cpfl\\web_scrapper\\venv_scraper\\lib\\site-packages\\urllib3\\connectionpool.py:1043: InsecureRequestWarning: Unverified HTTPS request is being made to host 'www2.aneel.gov.br'. Adding certificate verification is strongly advised. See: https://urllib3.readthedocs.io/en/1.26.x/advanced-usage.html#ssl-warnings\n",
      "  warnings.warn(\n",
      "D:\\python_projects\\cpfl\\web_scrapper\\venv_scraper\\lib\\site-packages\\urllib3\\connectionpool.py:1043: InsecureRequestWarning: Unverified HTTPS request is being made to host 'www2.aneel.gov.br'. Adding certificate verification is strongly advised. See: https://urllib3.readthedocs.io/en/1.26.x/advanced-usage.html#ssl-warnings\n",
      "  warnings.warn(\n"
     ]
    },
    {
     "name": "stdout",
     "output_type": "stream",
     "text": [
      "Arquivo: \"PCAT_COSERN_2017-04-22_REAJUSTE_(PCATCOSERN2017).xlsx\" foi baixado com sucesso\n",
      "['PCAT_COSERN_2019-04-22_REAJUSTE_(PCATCOSERN2019).xlsx'\n",
      " 'https://www2.aneel.gov.br/aplicacoes/tarifa/arquivo/PCAT_Cosern_2019 .xlsx']\n",
      "Arquivo: \"PCAT_COSERN_2017-04-22_REAJUSTE_(PCATCOSERN2017).xlsx\" foi baixado com sucesso\n",
      "['PCAT_COSERN_2019-04-22_REAJUSTE_(PCATCOSERN2019).xlsx'\n",
      " 'https://www2.aneel.gov.br/aplicacoes/tarifa/arquivo/PCAT_Cosern_2019 .xlsx']\n"
     ]
    },
    {
     "name": "stderr",
     "output_type": "stream",
     "text": [
      "D:\\python_projects\\cpfl\\web_scrapper\\venv_scraper\\lib\\site-packages\\urllib3\\connectionpool.py:1043: InsecureRequestWarning: Unverified HTTPS request is being made to host 'www2.aneel.gov.br'. Adding certificate verification is strongly advised. See: https://urllib3.readthedocs.io/en/1.26.x/advanced-usage.html#ssl-warnings\n",
      "  warnings.warn(\n",
      "D:\\python_projects\\cpfl\\web_scrapper\\venv_scraper\\lib\\site-packages\\urllib3\\connectionpool.py:1043: InsecureRequestWarning: Unverified HTTPS request is being made to host 'www2.aneel.gov.br'. Adding certificate verification is strongly advised. See: https://urllib3.readthedocs.io/en/1.26.x/advanced-usage.html#ssl-warnings\n",
      "  warnings.warn(\n"
     ]
    },
    {
     "name": "stdout",
     "output_type": "stream",
     "text": [
      "Arquivo: \"PCAT_COSERN_2019-04-22_REAJUSTE_(PCATCOSERN2019).xlsx\" foi baixado com sucesso\n",
      "['PCAT_COSERN_2020-04-22_REAJUSTE_(40PCATCOSERN2020V02).xlsx'\n",
      " 'https://www2.aneel.gov.br/aplicacoes/tarifa/arquivo/40 PCAT Cosern 2020 V02.xlsx']\n",
      "Arquivo: \"PCAT_COSERN_2019-04-22_REAJUSTE_(PCATCOSERN2019).xlsx\" foi baixado com sucesso\n",
      "['PCAT_COSERN_2020-04-22_REAJUSTE_(40PCATCOSERN2020V02).xlsx'\n",
      " 'https://www2.aneel.gov.br/aplicacoes/tarifa/arquivo/40 PCAT Cosern 2020 V02.xlsx']\n"
     ]
    },
    {
     "name": "stderr",
     "output_type": "stream",
     "text": [
      "D:\\python_projects\\cpfl\\web_scrapper\\venv_scraper\\lib\\site-packages\\urllib3\\connectionpool.py:1043: InsecureRequestWarning: Unverified HTTPS request is being made to host 'www2.aneel.gov.br'. Adding certificate verification is strongly advised. See: https://urllib3.readthedocs.io/en/1.26.x/advanced-usage.html#ssl-warnings\n",
      "  warnings.warn(\n",
      "D:\\python_projects\\cpfl\\web_scrapper\\venv_scraper\\lib\\site-packages\\urllib3\\connectionpool.py:1043: InsecureRequestWarning: Unverified HTTPS request is being made to host 'www2.aneel.gov.br'. Adding certificate verification is strongly advised. See: https://urllib3.readthedocs.io/en/1.26.x/advanced-usage.html#ssl-warnings\n",
      "  warnings.warn(\n"
     ]
    },
    {
     "name": "stdout",
     "output_type": "stream",
     "text": [
      "Arquivo: \"PCAT_COSERN_2020-04-22_REAJUSTE_(40PCATCOSERN2020V02).xlsx\" foi baixado com sucesso\n",
      "['PCAT_COSERN_2021-04-22_REAJUSTE_(40PCATCOSERN2021V02).xlsx'\n",
      " 'https://www2.aneel.gov.br/aplicacoes/tarifa/arquivo/40 PCAT Cosern 2021 V02.xlsx']\n",
      "Arquivo: \"PCAT_COSERN_2020-04-22_REAJUSTE_(40PCATCOSERN2020V02).xlsx\" foi baixado com sucesso\n",
      "['PCAT_COSERN_2021-04-22_REAJUSTE_(40PCATCOSERN2021V02).xlsx'\n",
      " 'https://www2.aneel.gov.br/aplicacoes/tarifa/arquivo/40 PCAT Cosern 2021 V02.xlsx']\n"
     ]
    },
    {
     "name": "stderr",
     "output_type": "stream",
     "text": [
      "D:\\python_projects\\cpfl\\web_scrapper\\venv_scraper\\lib\\site-packages\\urllib3\\connectionpool.py:1043: InsecureRequestWarning: Unverified HTTPS request is being made to host 'www2.aneel.gov.br'. Adding certificate verification is strongly advised. See: https://urllib3.readthedocs.io/en/1.26.x/advanced-usage.html#ssl-warnings\n",
      "  warnings.warn(\n",
      "D:\\python_projects\\cpfl\\web_scrapper\\venv_scraper\\lib\\site-packages\\urllib3\\connectionpool.py:1043: InsecureRequestWarning: Unverified HTTPS request is being made to host 'www2.aneel.gov.br'. Adding certificate verification is strongly advised. See: https://urllib3.readthedocs.io/en/1.26.x/advanced-usage.html#ssl-warnings\n",
      "  warnings.warn(\n"
     ]
    },
    {
     "name": "stdout",
     "output_type": "stream",
     "text": [
      "Arquivo: \"PCAT_COSERN_2021-04-22_REAJUSTE_(40PCATCOSERN2021V02).xlsx\" foi baixado com sucesso\n",
      "['PCAT_CPFLJAGUARI_2014-02-03_REAJUSTE_(PCATCJE2014).xlsx'\n",
      " 'https://www2.aneel.gov.br/aplicacoes/tarifa/arquivo/PCAT_CJE_2014.xlsx']\n",
      "Arquivo: \"PCAT_COSERN_2021-04-22_REAJUSTE_(40PCATCOSERN2021V02).xlsx\" foi baixado com sucesso\n",
      "['PCAT_CPFLJAGUARI_2014-02-03_REAJUSTE_(PCATCJE2014).xlsx'\n",
      " 'https://www2.aneel.gov.br/aplicacoes/tarifa/arquivo/PCAT_CJE_2014.xlsx']\n"
     ]
    },
    {
     "name": "stderr",
     "output_type": "stream",
     "text": [
      "D:\\python_projects\\cpfl\\web_scrapper\\venv_scraper\\lib\\site-packages\\urllib3\\connectionpool.py:1043: InsecureRequestWarning: Unverified HTTPS request is being made to host 'www2.aneel.gov.br'. Adding certificate verification is strongly advised. See: https://urllib3.readthedocs.io/en/1.26.x/advanced-usage.html#ssl-warnings\n",
      "  warnings.warn(\n",
      "D:\\python_projects\\cpfl\\web_scrapper\\venv_scraper\\lib\\site-packages\\urllib3\\connectionpool.py:1043: InsecureRequestWarning: Unverified HTTPS request is being made to host 'www2.aneel.gov.br'. Adding certificate verification is strongly advised. See: https://urllib3.readthedocs.io/en/1.26.x/advanced-usage.html#ssl-warnings\n",
      "  warnings.warn(\n"
     ]
    },
    {
     "name": "stdout",
     "output_type": "stream",
     "text": [
      "Arquivo: \"PCAT_CPFLJAGUARI_2014-02-03_REAJUSTE_(PCATCJE2014).xlsx\" foi baixado com sucesso\n",
      "['PCAT_CPFLJAGUARI_2015-03-02_REVISAOEXTRAORDINARIA_(PCATCJE20151).xlsx'\n",
      " 'https://www2.aneel.gov.br/aplicacoes/tarifa/arquivo/PCAT_CJE_20151.xlsx']\n",
      "Arquivo: \"PCAT_CPFLJAGUARI_2014-02-03_REAJUSTE_(PCATCJE2014).xlsx\" foi baixado com sucesso\n",
      "['PCAT_CPFLJAGUARI_2015-03-02_REVISAOEXTRAORDINARIA_(PCATCJE20151).xlsx'\n",
      " 'https://www2.aneel.gov.br/aplicacoes/tarifa/arquivo/PCAT_CJE_20151.xlsx']\n"
     ]
    },
    {
     "name": "stderr",
     "output_type": "stream",
     "text": [
      "D:\\python_projects\\cpfl\\web_scrapper\\venv_scraper\\lib\\site-packages\\urllib3\\connectionpool.py:1043: InsecureRequestWarning: Unverified HTTPS request is being made to host 'www2.aneel.gov.br'. Adding certificate verification is strongly advised. See: https://urllib3.readthedocs.io/en/1.26.x/advanced-usage.html#ssl-warnings\n",
      "  warnings.warn(\n",
      "D:\\python_projects\\cpfl\\web_scrapper\\venv_scraper\\lib\\site-packages\\urllib3\\connectionpool.py:1043: InsecureRequestWarning: Unverified HTTPS request is being made to host 'www2.aneel.gov.br'. Adding certificate verification is strongly advised. See: https://urllib3.readthedocs.io/en/1.26.x/advanced-usage.html#ssl-warnings\n",
      "  warnings.warn(\n"
     ]
    },
    {
     "name": "stdout",
     "output_type": "stream",
     "text": [
      "Arquivo: \"PCAT_CPFLJAGUARI_2015-03-02_REVISAOEXTRAORDINARIA_(PCATCJE20151).xlsx\" foi baixado com sucesso\n",
      "['PCAT_CPFLJAGUARI_2015-02-03_REAJUSTE_(PCATCJE2015).xlsx'\n",
      " 'https://www2.aneel.gov.br/aplicacoes/tarifa/arquivo/PCAT_CJE_2015.xlsx']\n",
      "Arquivo: \"PCAT_CPFLJAGUARI_2015-03-02_REVISAOEXTRAORDINARIA_(PCATCJE20151).xlsx\" foi baixado com sucesso\n",
      "['PCAT_CPFLJAGUARI_2015-02-03_REAJUSTE_(PCATCJE2015).xlsx'\n",
      " 'https://www2.aneel.gov.br/aplicacoes/tarifa/arquivo/PCAT_CJE_2015.xlsx']\n"
     ]
    },
    {
     "name": "stderr",
     "output_type": "stream",
     "text": [
      "D:\\python_projects\\cpfl\\web_scrapper\\venv_scraper\\lib\\site-packages\\urllib3\\connectionpool.py:1043: InsecureRequestWarning: Unverified HTTPS request is being made to host 'www2.aneel.gov.br'. Adding certificate verification is strongly advised. See: https://urllib3.readthedocs.io/en/1.26.x/advanced-usage.html#ssl-warnings\n",
      "  warnings.warn(\n",
      "D:\\python_projects\\cpfl\\web_scrapper\\venv_scraper\\lib\\site-packages\\urllib3\\connectionpool.py:1043: InsecureRequestWarning: Unverified HTTPS request is being made to host 'www2.aneel.gov.br'. Adding certificate verification is strongly advised. See: https://urllib3.readthedocs.io/en/1.26.x/advanced-usage.html#ssl-warnings\n",
      "  warnings.warn(\n"
     ]
    },
    {
     "name": "stdout",
     "output_type": "stream",
     "text": [
      "Arquivo: \"PCAT_CPFLJAGUARI_2015-02-03_REAJUSTE_(PCATCJE2015).xlsx\" foi baixado com sucesso\n",
      "['PCAT_CPFLJAGUARI_2016-03-22_REVISAO_(PCATCPFLJAGUARI2016).xlsx'\n",
      " 'https://www2.aneel.gov.br/aplicacoes/tarifa/arquivo/PCAT_CPFL_Jaguari_2016.xlsx']\n",
      "Arquivo: \"PCAT_CPFLJAGUARI_2015-02-03_REAJUSTE_(PCATCJE2015).xlsx\" foi baixado com sucesso\n",
      "['PCAT_CPFLJAGUARI_2016-03-22_REVISAO_(PCATCPFLJAGUARI2016).xlsx'\n",
      " 'https://www2.aneel.gov.br/aplicacoes/tarifa/arquivo/PCAT_CPFL_Jaguari_2016.xlsx']\n"
     ]
    },
    {
     "name": "stderr",
     "output_type": "stream",
     "text": [
      "D:\\python_projects\\cpfl\\web_scrapper\\venv_scraper\\lib\\site-packages\\urllib3\\connectionpool.py:1043: InsecureRequestWarning: Unverified HTTPS request is being made to host 'www2.aneel.gov.br'. Adding certificate verification is strongly advised. See: https://urllib3.readthedocs.io/en/1.26.x/advanced-usage.html#ssl-warnings\n",
      "  warnings.warn(\n",
      "D:\\python_projects\\cpfl\\web_scrapper\\venv_scraper\\lib\\site-packages\\urllib3\\connectionpool.py:1043: InsecureRequestWarning: Unverified HTTPS request is being made to host 'www2.aneel.gov.br'. Adding certificate verification is strongly advised. See: https://urllib3.readthedocs.io/en/1.26.x/advanced-usage.html#ssl-warnings\n",
      "  warnings.warn(\n"
     ]
    },
    {
     "name": "stdout",
     "output_type": "stream",
     "text": [
      "Arquivo: \"PCAT_CPFLJAGUARI_2016-03-22_REVISAO_(PCATCPFLJAGUARI2016).xlsx\" foi baixado com sucesso\n",
      "['PCAT_CPFLJAGUARI_2017-03-22_REAJUSTE_(PCATCPFLJAGUARI2017).xlsx'\n",
      " 'https://www2.aneel.gov.br/aplicacoes/tarifa/arquivo/PCAT_CPFL_Jaguari_2017.xlsx']\n",
      "Arquivo: \"PCAT_CPFLJAGUARI_2016-03-22_REVISAO_(PCATCPFLJAGUARI2016).xlsx\" foi baixado com sucesso\n",
      "['PCAT_CPFLJAGUARI_2017-03-22_REAJUSTE_(PCATCPFLJAGUARI2017).xlsx'\n",
      " 'https://www2.aneel.gov.br/aplicacoes/tarifa/arquivo/PCAT_CPFL_Jaguari_2017.xlsx']\n"
     ]
    },
    {
     "name": "stderr",
     "output_type": "stream",
     "text": [
      "D:\\python_projects\\cpfl\\web_scrapper\\venv_scraper\\lib\\site-packages\\urllib3\\connectionpool.py:1043: InsecureRequestWarning: Unverified HTTPS request is being made to host 'www2.aneel.gov.br'. Adding certificate verification is strongly advised. See: https://urllib3.readthedocs.io/en/1.26.x/advanced-usage.html#ssl-warnings\n",
      "  warnings.warn(\n",
      "D:\\python_projects\\cpfl\\web_scrapper\\venv_scraper\\lib\\site-packages\\urllib3\\connectionpool.py:1043: InsecureRequestWarning: Unverified HTTPS request is being made to host 'www2.aneel.gov.br'. Adding certificate verification is strongly advised. See: https://urllib3.readthedocs.io/en/1.26.x/advanced-usage.html#ssl-warnings\n",
      "  warnings.warn(\n"
     ]
    },
    {
     "name": "stdout",
     "output_type": "stream",
     "text": [
      "Arquivo: \"PCAT_CPFLJAGUARI_2017-03-22_REAJUSTE_(PCATCPFLJAGUARI2017).xlsx\" foi baixado com sucesso\n",
      "['PCAT_CPFLLESTEPAULISTA_2014-03-02_REAJUSTE_(PCATCPEE20141).xlsx'\n",
      " 'https://www2.aneel.gov.br/aplicacoes/tarifa/arquivo/PCAT_CPEE_ 20141.xlsx']\n",
      "Arquivo: \"PCAT_CPFLJAGUARI_2017-03-22_REAJUSTE_(PCATCPFLJAGUARI2017).xlsx\" foi baixado com sucesso\n",
      "['PCAT_CPFLLESTEPAULISTA_2014-03-02_REAJUSTE_(PCATCPEE20141).xlsx'\n",
      " 'https://www2.aneel.gov.br/aplicacoes/tarifa/arquivo/PCAT_CPEE_ 20141.xlsx']\n"
     ]
    },
    {
     "name": "stderr",
     "output_type": "stream",
     "text": [
      "D:\\python_projects\\cpfl\\web_scrapper\\venv_scraper\\lib\\site-packages\\urllib3\\connectionpool.py:1043: InsecureRequestWarning: Unverified HTTPS request is being made to host 'www2.aneel.gov.br'. Adding certificate verification is strongly advised. See: https://urllib3.readthedocs.io/en/1.26.x/advanced-usage.html#ssl-warnings\n",
      "  warnings.warn(\n",
      "D:\\python_projects\\cpfl\\web_scrapper\\venv_scraper\\lib\\site-packages\\urllib3\\connectionpool.py:1043: InsecureRequestWarning: Unverified HTTPS request is being made to host 'www2.aneel.gov.br'. Adding certificate verification is strongly advised. See: https://urllib3.readthedocs.io/en/1.26.x/advanced-usage.html#ssl-warnings\n",
      "  warnings.warn(\n"
     ]
    },
    {
     "name": "stdout",
     "output_type": "stream",
     "text": [
      "Arquivo: \"PCAT_CPFLLESTEPAULISTA_2014-03-02_REAJUSTE_(PCATCPEE20141).xlsx\" foi baixado com sucesso\n",
      "['PCAT_CPFLLESTEPAULISTA_2015-03-02_REVISAOEXTRAORDINARIA_(PCATCPEE20151).xlsx'\n",
      " 'https://www2.aneel.gov.br/aplicacoes/tarifa/arquivo/PCAT_CPEE_20151.xlsx']\n",
      "Arquivo: \"PCAT_CPFLLESTEPAULISTA_2014-03-02_REAJUSTE_(PCATCPEE20141).xlsx\" foi baixado com sucesso\n",
      "['PCAT_CPFLLESTEPAULISTA_2015-03-02_REVISAOEXTRAORDINARIA_(PCATCPEE20151).xlsx'\n",
      " 'https://www2.aneel.gov.br/aplicacoes/tarifa/arquivo/PCAT_CPEE_20151.xlsx']\n"
     ]
    },
    {
     "name": "stderr",
     "output_type": "stream",
     "text": [
      "D:\\python_projects\\cpfl\\web_scrapper\\venv_scraper\\lib\\site-packages\\urllib3\\connectionpool.py:1043: InsecureRequestWarning: Unverified HTTPS request is being made to host 'www2.aneel.gov.br'. Adding certificate verification is strongly advised. See: https://urllib3.readthedocs.io/en/1.26.x/advanced-usage.html#ssl-warnings\n",
      "  warnings.warn(\n",
      "D:\\python_projects\\cpfl\\web_scrapper\\venv_scraper\\lib\\site-packages\\urllib3\\connectionpool.py:1043: InsecureRequestWarning: Unverified HTTPS request is being made to host 'www2.aneel.gov.br'. Adding certificate verification is strongly advised. See: https://urllib3.readthedocs.io/en/1.26.x/advanced-usage.html#ssl-warnings\n",
      "  warnings.warn(\n"
     ]
    },
    {
     "name": "stdout",
     "output_type": "stream",
     "text": [
      "Arquivo: \"PCAT_CPFLLESTEPAULISTA_2015-03-02_REVISAOEXTRAORDINARIA_(PCATCPEE20151).xlsx\" foi baixado com sucesso\n",
      "['PCAT_CPFLLESTEPAULISTA_2015-02-03_REAJUSTE_(PCATCPEE2015).xlsx'\n",
      " 'https://www2.aneel.gov.br/aplicacoes/tarifa/arquivo/PCAT_CPEE_2015.xlsx']\n",
      "Arquivo: \"PCAT_CPFLLESTEPAULISTA_2015-03-02_REVISAOEXTRAORDINARIA_(PCATCPEE20151).xlsx\" foi baixado com sucesso\n",
      "['PCAT_CPFLLESTEPAULISTA_2015-02-03_REAJUSTE_(PCATCPEE2015).xlsx'\n",
      " 'https://www2.aneel.gov.br/aplicacoes/tarifa/arquivo/PCAT_CPEE_2015.xlsx']\n"
     ]
    },
    {
     "name": "stderr",
     "output_type": "stream",
     "text": [
      "D:\\python_projects\\cpfl\\web_scrapper\\venv_scraper\\lib\\site-packages\\urllib3\\connectionpool.py:1043: InsecureRequestWarning: Unverified HTTPS request is being made to host 'www2.aneel.gov.br'. Adding certificate verification is strongly advised. See: https://urllib3.readthedocs.io/en/1.26.x/advanced-usage.html#ssl-warnings\n",
      "  warnings.warn(\n",
      "D:\\python_projects\\cpfl\\web_scrapper\\venv_scraper\\lib\\site-packages\\urllib3\\connectionpool.py:1043: InsecureRequestWarning: Unverified HTTPS request is being made to host 'www2.aneel.gov.br'. Adding certificate verification is strongly advised. See: https://urllib3.readthedocs.io/en/1.26.x/advanced-usage.html#ssl-warnings\n",
      "  warnings.warn(\n"
     ]
    },
    {
     "name": "stdout",
     "output_type": "stream",
     "text": [
      "Arquivo: \"PCAT_CPFLLESTEPAULISTA_2015-02-03_REAJUSTE_(PCATCPEE2015).xlsx\" foi baixado com sucesso\n",
      "['PCAT_CPFLLESTEPAULISTA_2016-03-22_REVISAO_(PCATCPFLLESTEPAULISTA2016V02).xlsx'\n",
      " 'https://www2.aneel.gov.br/aplicacoes/tarifa/arquivo/PCAT_CPFL_Leste_Paulista_2016 V02.xlsx']\n",
      "Arquivo: \"PCAT_CPFLLESTEPAULISTA_2015-02-03_REAJUSTE_(PCATCPEE2015).xlsx\" foi baixado com sucesso\n",
      "['PCAT_CPFLLESTEPAULISTA_2016-03-22_REVISAO_(PCATCPFLLESTEPAULISTA2016V02).xlsx'\n",
      " 'https://www2.aneel.gov.br/aplicacoes/tarifa/arquivo/PCAT_CPFL_Leste_Paulista_2016 V02.xlsx']\n"
     ]
    },
    {
     "name": "stderr",
     "output_type": "stream",
     "text": [
      "D:\\python_projects\\cpfl\\web_scrapper\\venv_scraper\\lib\\site-packages\\urllib3\\connectionpool.py:1043: InsecureRequestWarning: Unverified HTTPS request is being made to host 'www2.aneel.gov.br'. Adding certificate verification is strongly advised. See: https://urllib3.readthedocs.io/en/1.26.x/advanced-usage.html#ssl-warnings\n",
      "  warnings.warn(\n",
      "D:\\python_projects\\cpfl\\web_scrapper\\venv_scraper\\lib\\site-packages\\urllib3\\connectionpool.py:1043: InsecureRequestWarning: Unverified HTTPS request is being made to host 'www2.aneel.gov.br'. Adding certificate verification is strongly advised. See: https://urllib3.readthedocs.io/en/1.26.x/advanced-usage.html#ssl-warnings\n",
      "  warnings.warn(\n"
     ]
    },
    {
     "name": "stdout",
     "output_type": "stream",
     "text": [
      "Arquivo: \"PCAT_CPFLLESTEPAULISTA_2016-03-22_REVISAO_(PCATCPFLLESTEPAULISTA2016V02).xlsx\" foi baixado com sucesso\n",
      "['PCAT_CPFLLESTEPAULISTA_2018-03-22_REAJUSTE_(PCATNSC20181).xlsx'\n",
      " 'https://www2.aneel.gov.br/aplicacoes/tarifa/arquivo/PCAT_NSC_20181.xlsx']\n",
      "Arquivo: \"PCAT_CPFLLESTEPAULISTA_2016-03-22_REVISAO_(PCATCPFLLESTEPAULISTA2016V02).xlsx\" foi baixado com sucesso\n",
      "['PCAT_CPFLLESTEPAULISTA_2018-03-22_REAJUSTE_(PCATNSC20181).xlsx'\n",
      " 'https://www2.aneel.gov.br/aplicacoes/tarifa/arquivo/PCAT_NSC_20181.xlsx']\n"
     ]
    },
    {
     "name": "stderr",
     "output_type": "stream",
     "text": [
      "D:\\python_projects\\cpfl\\web_scrapper\\venv_scraper\\lib\\site-packages\\urllib3\\connectionpool.py:1043: InsecureRequestWarning: Unverified HTTPS request is being made to host 'www2.aneel.gov.br'. Adding certificate verification is strongly advised. See: https://urllib3.readthedocs.io/en/1.26.x/advanced-usage.html#ssl-warnings\n",
      "  warnings.warn(\n",
      "D:\\python_projects\\cpfl\\web_scrapper\\venv_scraper\\lib\\site-packages\\urllib3\\connectionpool.py:1043: InsecureRequestWarning: Unverified HTTPS request is being made to host 'www2.aneel.gov.br'. Adding certificate verification is strongly advised. See: https://urllib3.readthedocs.io/en/1.26.x/advanced-usage.html#ssl-warnings\n",
      "  warnings.warn(\n"
     ]
    },
    {
     "name": "stdout",
     "output_type": "stream",
     "text": [
      "Arquivo: \"PCAT_CPFLLESTEPAULISTA_2018-03-22_REAJUSTE_(PCATNSC20181).xlsx\" foi baixado com sucesso\n",
      "['PCAT_CPFLMOCOCA_2014-02-03_REAJUSTE_(PCATCPEE2014).xlsx'\n",
      " 'https://www2.aneel.gov.br/aplicacoes/tarifa/arquivo/PCAT_CPEE_ 2014.xlsx']\n",
      "Arquivo: \"PCAT_CPFLLESTEPAULISTA_2018-03-22_REAJUSTE_(PCATNSC20181).xlsx\" foi baixado com sucesso\n",
      "['PCAT_CPFLMOCOCA_2014-02-03_REAJUSTE_(PCATCPEE2014).xlsx'\n",
      " 'https://www2.aneel.gov.br/aplicacoes/tarifa/arquivo/PCAT_CPEE_ 2014.xlsx']\n"
     ]
    },
    {
     "name": "stderr",
     "output_type": "stream",
     "text": [
      "D:\\python_projects\\cpfl\\web_scrapper\\venv_scraper\\lib\\site-packages\\urllib3\\connectionpool.py:1043: InsecureRequestWarning: Unverified HTTPS request is being made to host 'www2.aneel.gov.br'. Adding certificate verification is strongly advised. See: https://urllib3.readthedocs.io/en/1.26.x/advanced-usage.html#ssl-warnings\n",
      "  warnings.warn(\n",
      "D:\\python_projects\\cpfl\\web_scrapper\\venv_scraper\\lib\\site-packages\\urllib3\\connectionpool.py:1043: InsecureRequestWarning: Unverified HTTPS request is being made to host 'www2.aneel.gov.br'. Adding certificate verification is strongly advised. See: https://urllib3.readthedocs.io/en/1.26.x/advanced-usage.html#ssl-warnings\n",
      "  warnings.warn(\n"
     ]
    },
    {
     "name": "stdout",
     "output_type": "stream",
     "text": [
      "Arquivo: \"PCAT_CPFLMOCOCA_2014-02-03_REAJUSTE_(PCATCPEE2014).xlsx\" foi baixado com sucesso\n",
      "['PCAT_CPFLMOCOCA_2015-03-02_REVISAOEXTRAORDINARIA_(PCATCLFM20151).xlsx'\n",
      " 'https://www2.aneel.gov.br/aplicacoes/tarifa/arquivo/PCAT_CLFM_20151.xlsx']\n",
      "Arquivo: \"PCAT_CPFLMOCOCA_2014-02-03_REAJUSTE_(PCATCPEE2014).xlsx\" foi baixado com sucesso\n",
      "['PCAT_CPFLMOCOCA_2015-03-02_REVISAOEXTRAORDINARIA_(PCATCLFM20151).xlsx'\n",
      " 'https://www2.aneel.gov.br/aplicacoes/tarifa/arquivo/PCAT_CLFM_20151.xlsx']\n"
     ]
    },
    {
     "name": "stderr",
     "output_type": "stream",
     "text": [
      "D:\\python_projects\\cpfl\\web_scrapper\\venv_scraper\\lib\\site-packages\\urllib3\\connectionpool.py:1043: InsecureRequestWarning: Unverified HTTPS request is being made to host 'www2.aneel.gov.br'. Adding certificate verification is strongly advised. See: https://urllib3.readthedocs.io/en/1.26.x/advanced-usage.html#ssl-warnings\n",
      "  warnings.warn(\n",
      "D:\\python_projects\\cpfl\\web_scrapper\\venv_scraper\\lib\\site-packages\\urllib3\\connectionpool.py:1043: InsecureRequestWarning: Unverified HTTPS request is being made to host 'www2.aneel.gov.br'. Adding certificate verification is strongly advised. See: https://urllib3.readthedocs.io/en/1.26.x/advanced-usage.html#ssl-warnings\n",
      "  warnings.warn(\n"
     ]
    },
    {
     "name": "stdout",
     "output_type": "stream",
     "text": [
      "Arquivo: \"PCAT_CPFLMOCOCA_2015-03-02_REVISAOEXTRAORDINARIA_(PCATCLFM20151).xlsx\" foi baixado com sucesso\n",
      "['PCAT_CPFLMOCOCA_2015-02-03_REAJUSTE_(PCATCLFM2015).xlsx'\n",
      " 'https://www2.aneel.gov.br/aplicacoes/tarifa/arquivo/PCAT_CLFM_2015.xlsx']\n",
      "Arquivo: \"PCAT_CPFLMOCOCA_2015-03-02_REVISAOEXTRAORDINARIA_(PCATCLFM20151).xlsx\" foi baixado com sucesso\n",
      "['PCAT_CPFLMOCOCA_2015-02-03_REAJUSTE_(PCATCLFM2015).xlsx'\n",
      " 'https://www2.aneel.gov.br/aplicacoes/tarifa/arquivo/PCAT_CLFM_2015.xlsx']\n"
     ]
    },
    {
     "name": "stderr",
     "output_type": "stream",
     "text": [
      "D:\\python_projects\\cpfl\\web_scrapper\\venv_scraper\\lib\\site-packages\\urllib3\\connectionpool.py:1043: InsecureRequestWarning: Unverified HTTPS request is being made to host 'www2.aneel.gov.br'. Adding certificate verification is strongly advised. See: https://urllib3.readthedocs.io/en/1.26.x/advanced-usage.html#ssl-warnings\n",
      "  warnings.warn(\n",
      "D:\\python_projects\\cpfl\\web_scrapper\\venv_scraper\\lib\\site-packages\\urllib3\\connectionpool.py:1043: InsecureRequestWarning: Unverified HTTPS request is being made to host 'www2.aneel.gov.br'. Adding certificate verification is strongly advised. See: https://urllib3.readthedocs.io/en/1.26.x/advanced-usage.html#ssl-warnings\n",
      "  warnings.warn(\n"
     ]
    },
    {
     "name": "stdout",
     "output_type": "stream",
     "text": [
      "Arquivo: \"PCAT_CPFLMOCOCA_2015-02-03_REAJUSTE_(PCATCLFM2015).xlsx\" foi baixado com sucesso\n",
      "['PCAT_CPFLMOCOCA_2016-03-22_REVISAO_(PCATCPFLMOCOCA2016V02).xlsx'\n",
      " 'https://www2.aneel.gov.br/aplicacoes/tarifa/arquivo/PCAT_CPFL_Mococa_2016V02.xlsx']\n",
      "Arquivo: \"PCAT_CPFLMOCOCA_2015-02-03_REAJUSTE_(PCATCLFM2015).xlsx\" foi baixado com sucesso\n",
      "['PCAT_CPFLMOCOCA_2016-03-22_REVISAO_(PCATCPFLMOCOCA2016V02).xlsx'\n",
      " 'https://www2.aneel.gov.br/aplicacoes/tarifa/arquivo/PCAT_CPFL_Mococa_2016V02.xlsx']\n"
     ]
    },
    {
     "name": "stderr",
     "output_type": "stream",
     "text": [
      "D:\\python_projects\\cpfl\\web_scrapper\\venv_scraper\\lib\\site-packages\\urllib3\\connectionpool.py:1043: InsecureRequestWarning: Unverified HTTPS request is being made to host 'www2.aneel.gov.br'. Adding certificate verification is strongly advised. See: https://urllib3.readthedocs.io/en/1.26.x/advanced-usage.html#ssl-warnings\n",
      "  warnings.warn(\n",
      "D:\\python_projects\\cpfl\\web_scrapper\\venv_scraper\\lib\\site-packages\\urllib3\\connectionpool.py:1043: InsecureRequestWarning: Unverified HTTPS request is being made to host 'www2.aneel.gov.br'. Adding certificate verification is strongly advised. See: https://urllib3.readthedocs.io/en/1.26.x/advanced-usage.html#ssl-warnings\n",
      "  warnings.warn(\n"
     ]
    },
    {
     "name": "stdout",
     "output_type": "stream",
     "text": [
      "Arquivo: \"PCAT_CPFLMOCOCA_2016-03-22_REVISAO_(PCATCPFLMOCOCA2016V02).xlsx\" foi baixado com sucesso\n",
      "['PCAT_CPFLMOCOCA_2017-03-22_REAJUSTE_(PCATCPFLMOCOCA2017).xlsx'\n",
      " 'https://www2.aneel.gov.br/aplicacoes/tarifa/arquivo/PCAT_CPFL_Mococa_2017.xlsx']\n",
      "Arquivo: \"PCAT_CPFLMOCOCA_2016-03-22_REVISAO_(PCATCPFLMOCOCA2016V02).xlsx\" foi baixado com sucesso\n",
      "['PCAT_CPFLMOCOCA_2017-03-22_REAJUSTE_(PCATCPFLMOCOCA2017).xlsx'\n",
      " 'https://www2.aneel.gov.br/aplicacoes/tarifa/arquivo/PCAT_CPFL_Mococa_2017.xlsx']\n"
     ]
    },
    {
     "name": "stderr",
     "output_type": "stream",
     "text": [
      "D:\\python_projects\\cpfl\\web_scrapper\\venv_scraper\\lib\\site-packages\\urllib3\\connectionpool.py:1043: InsecureRequestWarning: Unverified HTTPS request is being made to host 'www2.aneel.gov.br'. Adding certificate verification is strongly advised. See: https://urllib3.readthedocs.io/en/1.26.x/advanced-usage.html#ssl-warnings\n",
      "  warnings.warn(\n",
      "D:\\python_projects\\cpfl\\web_scrapper\\venv_scraper\\lib\\site-packages\\urllib3\\connectionpool.py:1043: InsecureRequestWarning: Unverified HTTPS request is being made to host 'www2.aneel.gov.br'. Adding certificate verification is strongly advised. See: https://urllib3.readthedocs.io/en/1.26.x/advanced-usage.html#ssl-warnings\n",
      "  warnings.warn(\n"
     ]
    },
    {
     "name": "stdout",
     "output_type": "stream",
     "text": [
      "Arquivo: \"PCAT_CPFLMOCOCA_2017-03-22_REAJUSTE_(PCATCPFLMOCOCA2017).xlsx\" foi baixado com sucesso\n",
      "['PCAT_CPFLMOCOCA_2018-03-22_REAJUSTE_(PCATNSC20182).xlsx'\n",
      " 'https://www2.aneel.gov.br/aplicacoes/tarifa/arquivo/PCAT_NSC_20182.xlsx']\n",
      "Arquivo: \"PCAT_CPFLMOCOCA_2017-03-22_REAJUSTE_(PCATCPFLMOCOCA2017).xlsx\" foi baixado com sucesso\n",
      "['PCAT_CPFLMOCOCA_2018-03-22_REAJUSTE_(PCATNSC20182).xlsx'\n",
      " 'https://www2.aneel.gov.br/aplicacoes/tarifa/arquivo/PCAT_NSC_20182.xlsx']\n"
     ]
    },
    {
     "name": "stderr",
     "output_type": "stream",
     "text": [
      "D:\\python_projects\\cpfl\\web_scrapper\\venv_scraper\\lib\\site-packages\\urllib3\\connectionpool.py:1043: InsecureRequestWarning: Unverified HTTPS request is being made to host 'www2.aneel.gov.br'. Adding certificate verification is strongly advised. See: https://urllib3.readthedocs.io/en/1.26.x/advanced-usage.html#ssl-warnings\n",
      "  warnings.warn(\n",
      "D:\\python_projects\\cpfl\\web_scrapper\\venv_scraper\\lib\\site-packages\\urllib3\\connectionpool.py:1043: InsecureRequestWarning: Unverified HTTPS request is being made to host 'www2.aneel.gov.br'. Adding certificate verification is strongly advised. See: https://urllib3.readthedocs.io/en/1.26.x/advanced-usage.html#ssl-warnings\n",
      "  warnings.warn(\n"
     ]
    },
    {
     "name": "stdout",
     "output_type": "stream",
     "text": [
      "Arquivo: \"PCAT_CPFLMOCOCA_2018-03-22_REAJUSTE_(PCATNSC20182).xlsx\" foi baixado com sucesso\n",
      "['PCAT_CPFLPIRATININGA_2014-10-23_REAJUSTE_(PCATCPFLPIRATININGA20141).xlsx'\n",
      " 'https://www2.aneel.gov.br/aplicacoes/tarifa/arquivo/PCAT_CPFL_PIRATININGA_20141.xlsx']\n",
      "Arquivo: \"PCAT_CPFLMOCOCA_2018-03-22_REAJUSTE_(PCATNSC20182).xlsx\" foi baixado com sucesso\n",
      "['PCAT_CPFLPIRATININGA_2014-10-23_REAJUSTE_(PCATCPFLPIRATININGA20141).xlsx'\n",
      " 'https://www2.aneel.gov.br/aplicacoes/tarifa/arquivo/PCAT_CPFL_PIRATININGA_20141.xlsx']\n"
     ]
    },
    {
     "name": "stderr",
     "output_type": "stream",
     "text": [
      "D:\\python_projects\\cpfl\\web_scrapper\\venv_scraper\\lib\\site-packages\\urllib3\\connectionpool.py:1043: InsecureRequestWarning: Unverified HTTPS request is being made to host 'www2.aneel.gov.br'. Adding certificate verification is strongly advised. See: https://urllib3.readthedocs.io/en/1.26.x/advanced-usage.html#ssl-warnings\n",
      "  warnings.warn(\n",
      "D:\\python_projects\\cpfl\\web_scrapper\\venv_scraper\\lib\\site-packages\\urllib3\\connectionpool.py:1043: InsecureRequestWarning: Unverified HTTPS request is being made to host 'www2.aneel.gov.br'. Adding certificate verification is strongly advised. See: https://urllib3.readthedocs.io/en/1.26.x/advanced-usage.html#ssl-warnings\n",
      "  warnings.warn(\n"
     ]
    },
    {
     "name": "stdout",
     "output_type": "stream",
     "text": [
      "Arquivo: \"PCAT_CPFLPIRATININGA_2014-10-23_REAJUSTE_(PCATCPFLPIRATININGA20141).xlsx\" foi baixado com sucesso\n",
      "['PCAT_CPFLPIRATININGA_2015-10-23_REVISAO_(PCATCPFLPIRATININGA22015).xlsx'\n",
      " 'https://www2.aneel.gov.br/aplicacoes/tarifa/arquivo/PCAT_CPFL_Piratininga2_2015.xlsx']\n",
      "Arquivo: \"PCAT_CPFLPIRATININGA_2014-10-23_REAJUSTE_(PCATCPFLPIRATININGA20141).xlsx\" foi baixado com sucesso\n",
      "['PCAT_CPFLPIRATININGA_2015-10-23_REVISAO_(PCATCPFLPIRATININGA22015).xlsx'\n",
      " 'https://www2.aneel.gov.br/aplicacoes/tarifa/arquivo/PCAT_CPFL_Piratininga2_2015.xlsx']\n"
     ]
    },
    {
     "name": "stderr",
     "output_type": "stream",
     "text": [
      "D:\\python_projects\\cpfl\\web_scrapper\\venv_scraper\\lib\\site-packages\\urllib3\\connectionpool.py:1043: InsecureRequestWarning: Unverified HTTPS request is being made to host 'www2.aneel.gov.br'. Adding certificate verification is strongly advised. See: https://urllib3.readthedocs.io/en/1.26.x/advanced-usage.html#ssl-warnings\n",
      "  warnings.warn(\n",
      "D:\\python_projects\\cpfl\\web_scrapper\\venv_scraper\\lib\\site-packages\\urllib3\\connectionpool.py:1043: InsecureRequestWarning: Unverified HTTPS request is being made to host 'www2.aneel.gov.br'. Adding certificate verification is strongly advised. See: https://urllib3.readthedocs.io/en/1.26.x/advanced-usage.html#ssl-warnings\n",
      "  warnings.warn(\n"
     ]
    },
    {
     "name": "stdout",
     "output_type": "stream",
     "text": [
      "Arquivo: \"PCAT_CPFLPIRATININGA_2015-10-23_REVISAO_(PCATCPFLPIRATININGA22015).xlsx\" foi baixado com sucesso\n",
      "['PCAT_CPFLPIRATININGA_2015-03-02_REVISAOEXTRAORDINARIA_(PCATCPFLPIRATININGA2014CAT).xlsx'\n",
      " 'https://www2.aneel.gov.br/aplicacoes/tarifa/arquivo/PCAT_CPFL_PIRATININGA_2014_CAT.xlsx']\n",
      "Arquivo: \"PCAT_CPFLPIRATININGA_2015-10-23_REVISAO_(PCATCPFLPIRATININGA22015).xlsx\" foi baixado com sucesso\n",
      "['PCAT_CPFLPIRATININGA_2015-03-02_REVISAOEXTRAORDINARIA_(PCATCPFLPIRATININGA2014CAT).xlsx'\n",
      " 'https://www2.aneel.gov.br/aplicacoes/tarifa/arquivo/PCAT_CPFL_PIRATININGA_2014_CAT.xlsx']\n"
     ]
    },
    {
     "name": "stderr",
     "output_type": "stream",
     "text": [
      "D:\\python_projects\\cpfl\\web_scrapper\\venv_scraper\\lib\\site-packages\\urllib3\\connectionpool.py:1043: InsecureRequestWarning: Unverified HTTPS request is being made to host 'www2.aneel.gov.br'. Adding certificate verification is strongly advised. See: https://urllib3.readthedocs.io/en/1.26.x/advanced-usage.html#ssl-warnings\n",
      "  warnings.warn(\n",
      "D:\\python_projects\\cpfl\\web_scrapper\\venv_scraper\\lib\\site-packages\\urllib3\\connectionpool.py:1043: InsecureRequestWarning: Unverified HTTPS request is being made to host 'www2.aneel.gov.br'. Adding certificate verification is strongly advised. See: https://urllib3.readthedocs.io/en/1.26.x/advanced-usage.html#ssl-warnings\n",
      "  warnings.warn(\n"
     ]
    },
    {
     "name": "stdout",
     "output_type": "stream",
     "text": [
      "Arquivo: \"PCAT_CPFLPIRATININGA_2015-03-02_REVISAOEXTRAORDINARIA_(PCATCPFLPIRATININGA2014CAT).xlsx\" foi baixado com sucesso\n",
      "['PCAT_CPFLPIRATININGA_2016-10-23_REAJUSTE_(PCATCPFLPIRATININGA2016).xlsx'\n",
      " 'https://www2.aneel.gov.br/aplicacoes/tarifa/arquivo/PCAT_CPFL_Piratininga_2016.xlsx']\n",
      "Arquivo: \"PCAT_CPFLPIRATININGA_2015-03-02_REVISAOEXTRAORDINARIA_(PCATCPFLPIRATININGA2014CAT).xlsx\" foi baixado com sucesso\n",
      "['PCAT_CPFLPIRATININGA_2016-10-23_REAJUSTE_(PCATCPFLPIRATININGA2016).xlsx'\n",
      " 'https://www2.aneel.gov.br/aplicacoes/tarifa/arquivo/PCAT_CPFL_Piratininga_2016.xlsx']\n"
     ]
    },
    {
     "name": "stderr",
     "output_type": "stream",
     "text": [
      "D:\\python_projects\\cpfl\\web_scrapper\\venv_scraper\\lib\\site-packages\\urllib3\\connectionpool.py:1043: InsecureRequestWarning: Unverified HTTPS request is being made to host 'www2.aneel.gov.br'. Adding certificate verification is strongly advised. See: https://urllib3.readthedocs.io/en/1.26.x/advanced-usage.html#ssl-warnings\n",
      "  warnings.warn(\n",
      "D:\\python_projects\\cpfl\\web_scrapper\\venv_scraper\\lib\\site-packages\\urllib3\\connectionpool.py:1043: InsecureRequestWarning: Unverified HTTPS request is being made to host 'www2.aneel.gov.br'. Adding certificate verification is strongly advised. See: https://urllib3.readthedocs.io/en/1.26.x/advanced-usage.html#ssl-warnings\n",
      "  warnings.warn(\n"
     ]
    },
    {
     "name": "stdout",
     "output_type": "stream",
     "text": [
      "Arquivo: \"PCAT_CPFLPIRATININGA_2016-10-23_REAJUSTE_(PCATCPFLPIRATININGA2016).xlsx\" foi baixado com sucesso\n",
      "['PCAT_CPFLPIRATININGA_2017-10-23_REAJUSTE_(PCATCPFLPIRATININGA2017).xlsx'\n",
      " 'https://www2.aneel.gov.br/aplicacoes/tarifa/arquivo/PCAT_CPFL_Piratininga_2017.xlsx']\n",
      "Arquivo: \"PCAT_CPFLPIRATININGA_2016-10-23_REAJUSTE_(PCATCPFLPIRATININGA2016).xlsx\" foi baixado com sucesso\n",
      "['PCAT_CPFLPIRATININGA_2017-10-23_REAJUSTE_(PCATCPFLPIRATININGA2017).xlsx'\n",
      " 'https://www2.aneel.gov.br/aplicacoes/tarifa/arquivo/PCAT_CPFL_Piratininga_2017.xlsx']\n"
     ]
    },
    {
     "name": "stderr",
     "output_type": "stream",
     "text": [
      "D:\\python_projects\\cpfl\\web_scrapper\\venv_scraper\\lib\\site-packages\\urllib3\\connectionpool.py:1043: InsecureRequestWarning: Unverified HTTPS request is being made to host 'www2.aneel.gov.br'. Adding certificate verification is strongly advised. See: https://urllib3.readthedocs.io/en/1.26.x/advanced-usage.html#ssl-warnings\n",
      "  warnings.warn(\n",
      "D:\\python_projects\\cpfl\\web_scrapper\\venv_scraper\\lib\\site-packages\\urllib3\\connectionpool.py:1043: InsecureRequestWarning: Unverified HTTPS request is being made to host 'www2.aneel.gov.br'. Adding certificate verification is strongly advised. See: https://urllib3.readthedocs.io/en/1.26.x/advanced-usage.html#ssl-warnings\n",
      "  warnings.warn(\n"
     ]
    },
    {
     "name": "stdout",
     "output_type": "stream",
     "text": [
      "Arquivo: \"PCAT_CPFLPIRATININGA_2017-10-23_REAJUSTE_(PCATCPFLPIRATININGA2017).xlsx\" foi baixado com sucesso\n",
      "['PCAT_CPFLPIRATININGA_2018-10-23_REAJUSTE_(PCATCPFLPIRATININGA2018).xlsx'\n",
      " 'https://www2.aneel.gov.br/aplicacoes/tarifa/arquivo/PCAT_CPFL_Piratininga_2018 .xlsx']\n",
      "Arquivo: \"PCAT_CPFLPIRATININGA_2017-10-23_REAJUSTE_(PCATCPFLPIRATININGA2017).xlsx\" foi baixado com sucesso\n",
      "['PCAT_CPFLPIRATININGA_2018-10-23_REAJUSTE_(PCATCPFLPIRATININGA2018).xlsx'\n",
      " 'https://www2.aneel.gov.br/aplicacoes/tarifa/arquivo/PCAT_CPFL_Piratininga_2018 .xlsx']\n"
     ]
    },
    {
     "name": "stderr",
     "output_type": "stream",
     "text": [
      "D:\\python_projects\\cpfl\\web_scrapper\\venv_scraper\\lib\\site-packages\\urllib3\\connectionpool.py:1043: InsecureRequestWarning: Unverified HTTPS request is being made to host 'www2.aneel.gov.br'. Adding certificate verification is strongly advised. See: https://urllib3.readthedocs.io/en/1.26.x/advanced-usage.html#ssl-warnings\n",
      "  warnings.warn(\n",
      "D:\\python_projects\\cpfl\\web_scrapper\\venv_scraper\\lib\\site-packages\\urllib3\\connectionpool.py:1043: InsecureRequestWarning: Unverified HTTPS request is being made to host 'www2.aneel.gov.br'. Adding certificate verification is strongly advised. See: https://urllib3.readthedocs.io/en/1.26.x/advanced-usage.html#ssl-warnings\n",
      "  warnings.warn(\n"
     ]
    },
    {
     "name": "stdout",
     "output_type": "stream",
     "text": [
      "Arquivo: \"PCAT_CPFLPIRATININGA_2018-10-23_REAJUSTE_(PCATCPFLPIRATININGA2018).xlsx\" foi baixado com sucesso\n",
      "['PCAT_CPFLPIRATININGA_2019-10-23_REVISAO_(2937PCATCPFLPIRATININGA2019V02).xlsx'\n",
      " 'https://www2.aneel.gov.br/aplicacoes/tarifa/arquivo/2937 PCAT CPFL Piratininga 2019 V02.xlsx']\n",
      "Arquivo: \"PCAT_CPFLPIRATININGA_2018-10-23_REAJUSTE_(PCATCPFLPIRATININGA2018).xlsx\" foi baixado com sucesso\n",
      "['PCAT_CPFLPIRATININGA_2019-10-23_REVISAO_(2937PCATCPFLPIRATININGA2019V02).xlsx'\n",
      " 'https://www2.aneel.gov.br/aplicacoes/tarifa/arquivo/2937 PCAT CPFL Piratininga 2019 V02.xlsx']\n"
     ]
    },
    {
     "name": "stderr",
     "output_type": "stream",
     "text": [
      "D:\\python_projects\\cpfl\\web_scrapper\\venv_scraper\\lib\\site-packages\\urllib3\\connectionpool.py:1043: InsecureRequestWarning: Unverified HTTPS request is being made to host 'www2.aneel.gov.br'. Adding certificate verification is strongly advised. See: https://urllib3.readthedocs.io/en/1.26.x/advanced-usage.html#ssl-warnings\n",
      "  warnings.warn(\n",
      "D:\\python_projects\\cpfl\\web_scrapper\\venv_scraper\\lib\\site-packages\\urllib3\\connectionpool.py:1043: InsecureRequestWarning: Unverified HTTPS request is being made to host 'www2.aneel.gov.br'. Adding certificate verification is strongly advised. See: https://urllib3.readthedocs.io/en/1.26.x/advanced-usage.html#ssl-warnings\n",
      "  warnings.warn(\n"
     ]
    },
    {
     "name": "stdout",
     "output_type": "stream",
     "text": [
      "Arquivo: \"PCAT_CPFLPIRATININGA_2019-10-23_REVISAO_(2937PCATCPFLPIRATININGA2019V02).xlsx\" foi baixado com sucesso\n",
      "['PCAT_CPFLPIRATININGA_2020-10-23_REAJUSTE_(2937PCATCPFLPIRATININGA2020V02).xlsx'\n",
      " 'https://www2.aneel.gov.br/aplicacoes/tarifa/arquivo/2937 PCAT CPFL Piratininga 2020 V02.xlsx']\n",
      "Arquivo: \"PCAT_CPFLPIRATININGA_2019-10-23_REVISAO_(2937PCATCPFLPIRATININGA2019V02).xlsx\" foi baixado com sucesso\n",
      "['PCAT_CPFLPIRATININGA_2020-10-23_REAJUSTE_(2937PCATCPFLPIRATININGA2020V02).xlsx'\n",
      " 'https://www2.aneel.gov.br/aplicacoes/tarifa/arquivo/2937 PCAT CPFL Piratininga 2020 V02.xlsx']\n"
     ]
    },
    {
     "name": "stderr",
     "output_type": "stream",
     "text": [
      "D:\\python_projects\\cpfl\\web_scrapper\\venv_scraper\\lib\\site-packages\\urllib3\\connectionpool.py:1043: InsecureRequestWarning: Unverified HTTPS request is being made to host 'www2.aneel.gov.br'. Adding certificate verification is strongly advised. See: https://urllib3.readthedocs.io/en/1.26.x/advanced-usage.html#ssl-warnings\n",
      "  warnings.warn(\n",
      "D:\\python_projects\\cpfl\\web_scrapper\\venv_scraper\\lib\\site-packages\\urllib3\\connectionpool.py:1043: InsecureRequestWarning: Unverified HTTPS request is being made to host 'www2.aneel.gov.br'. Adding certificate verification is strongly advised. See: https://urllib3.readthedocs.io/en/1.26.x/advanced-usage.html#ssl-warnings\n",
      "  warnings.warn(\n"
     ]
    },
    {
     "name": "stdout",
     "output_type": "stream",
     "text": [
      "Arquivo: \"PCAT_CPFLPIRATININGA_2020-10-23_REAJUSTE_(2937PCATCPFLPIRATININGA2020V02).xlsx\" foi baixado com sucesso\n",
      "['PCAT_CPFLSANTACRUZ_2014-02-03_REAJUSTE_(PCATCLFSC2014).xlsx'\n",
      " 'https://www2.aneel.gov.br/aplicacoes/tarifa/arquivo/PCAT_CLFSC_2014.xlsx']\n",
      "Arquivo: \"PCAT_CPFLPIRATININGA_2020-10-23_REAJUSTE_(2937PCATCPFLPIRATININGA2020V02).xlsx\" foi baixado com sucesso\n",
      "['PCAT_CPFLSANTACRUZ_2014-02-03_REAJUSTE_(PCATCLFSC2014).xlsx'\n",
      " 'https://www2.aneel.gov.br/aplicacoes/tarifa/arquivo/PCAT_CLFSC_2014.xlsx']\n"
     ]
    },
    {
     "name": "stderr",
     "output_type": "stream",
     "text": [
      "D:\\python_projects\\cpfl\\web_scrapper\\venv_scraper\\lib\\site-packages\\urllib3\\connectionpool.py:1043: InsecureRequestWarning: Unverified HTTPS request is being made to host 'www2.aneel.gov.br'. Adding certificate verification is strongly advised. See: https://urllib3.readthedocs.io/en/1.26.x/advanced-usage.html#ssl-warnings\n",
      "  warnings.warn(\n",
      "D:\\python_projects\\cpfl\\web_scrapper\\venv_scraper\\lib\\site-packages\\urllib3\\connectionpool.py:1043: InsecureRequestWarning: Unverified HTTPS request is being made to host 'www2.aneel.gov.br'. Adding certificate verification is strongly advised. See: https://urllib3.readthedocs.io/en/1.26.x/advanced-usage.html#ssl-warnings\n",
      "  warnings.warn(\n"
     ]
    },
    {
     "name": "stdout",
     "output_type": "stream",
     "text": [
      "Arquivo: \"PCAT_CPFLSANTACRUZ_2014-02-03_REAJUSTE_(PCATCLFSC2014).xlsx\" foi baixado com sucesso\n",
      "['PCAT_CPFLSANTACRUZ_2015-03-02_REVISAOEXTRAORDINARIA_(PCATCLFSC20151).xlsx'\n",
      " 'https://www2.aneel.gov.br/aplicacoes/tarifa/arquivo/PCAT_CLFSC_20151.xlsx']\n",
      "Arquivo: \"PCAT_CPFLSANTACRUZ_2014-02-03_REAJUSTE_(PCATCLFSC2014).xlsx\" foi baixado com sucesso\n",
      "['PCAT_CPFLSANTACRUZ_2015-03-02_REVISAOEXTRAORDINARIA_(PCATCLFSC20151).xlsx'\n",
      " 'https://www2.aneel.gov.br/aplicacoes/tarifa/arquivo/PCAT_CLFSC_20151.xlsx']\n"
     ]
    },
    {
     "name": "stderr",
     "output_type": "stream",
     "text": [
      "D:\\python_projects\\cpfl\\web_scrapper\\venv_scraper\\lib\\site-packages\\urllib3\\connectionpool.py:1043: InsecureRequestWarning: Unverified HTTPS request is being made to host 'www2.aneel.gov.br'. Adding certificate verification is strongly advised. See: https://urllib3.readthedocs.io/en/1.26.x/advanced-usage.html#ssl-warnings\n",
      "  warnings.warn(\n",
      "D:\\python_projects\\cpfl\\web_scrapper\\venv_scraper\\lib\\site-packages\\urllib3\\connectionpool.py:1043: InsecureRequestWarning: Unverified HTTPS request is being made to host 'www2.aneel.gov.br'. Adding certificate verification is strongly advised. See: https://urllib3.readthedocs.io/en/1.26.x/advanced-usage.html#ssl-warnings\n",
      "  warnings.warn(\n"
     ]
    },
    {
     "name": "stdout",
     "output_type": "stream",
     "text": [
      "Arquivo: \"PCAT_CPFLSANTACRUZ_2015-03-02_REVISAOEXTRAORDINARIA_(PCATCLFSC20151).xlsx\" foi baixado com sucesso\n",
      "['PCAT_CPFLSANTACRUZ_2015-02-03_REAJUSTE_(PCATCLFSC2015).xlsx'\n",
      " 'https://www2.aneel.gov.br/aplicacoes/tarifa/arquivo/PCAT_CLFSC_2015.xlsx']\n",
      "Arquivo: \"PCAT_CPFLSANTACRUZ_2015-03-02_REVISAOEXTRAORDINARIA_(PCATCLFSC20151).xlsx\" foi baixado com sucesso\n",
      "['PCAT_CPFLSANTACRUZ_2015-02-03_REAJUSTE_(PCATCLFSC2015).xlsx'\n",
      " 'https://www2.aneel.gov.br/aplicacoes/tarifa/arquivo/PCAT_CLFSC_2015.xlsx']\n"
     ]
    },
    {
     "name": "stderr",
     "output_type": "stream",
     "text": [
      "D:\\python_projects\\cpfl\\web_scrapper\\venv_scraper\\lib\\site-packages\\urllib3\\connectionpool.py:1043: InsecureRequestWarning: Unverified HTTPS request is being made to host 'www2.aneel.gov.br'. Adding certificate verification is strongly advised. See: https://urllib3.readthedocs.io/en/1.26.x/advanced-usage.html#ssl-warnings\n",
      "  warnings.warn(\n",
      "D:\\python_projects\\cpfl\\web_scrapper\\venv_scraper\\lib\\site-packages\\urllib3\\connectionpool.py:1043: InsecureRequestWarning: Unverified HTTPS request is being made to host 'www2.aneel.gov.br'. Adding certificate verification is strongly advised. See: https://urllib3.readthedocs.io/en/1.26.x/advanced-usage.html#ssl-warnings\n",
      "  warnings.warn(\n"
     ]
    },
    {
     "name": "stdout",
     "output_type": "stream",
     "text": [
      "Arquivo: \"PCAT_CPFLSANTACRUZ_2015-02-03_REAJUSTE_(PCATCLFSC2015).xlsx\" foi baixado com sucesso\n",
      "['PCAT_CPFLSANTACRUZ_2016-03-22_REVISAO_(PCATINTERNETCPFLSANTACRUZ2016).xlsx'\n",
      " 'https://www2.aneel.gov.br/aplicacoes/tarifa/arquivo/PCAT_Internet_CPFL Santa_Cruz_2016.xlsx']\n",
      "Arquivo: \"PCAT_CPFLSANTACRUZ_2015-02-03_REAJUSTE_(PCATCLFSC2015).xlsx\" foi baixado com sucesso\n",
      "['PCAT_CPFLSANTACRUZ_2016-03-22_REVISAO_(PCATINTERNETCPFLSANTACRUZ2016).xlsx'\n",
      " 'https://www2.aneel.gov.br/aplicacoes/tarifa/arquivo/PCAT_Internet_CPFL Santa_Cruz_2016.xlsx']\n"
     ]
    },
    {
     "name": "stderr",
     "output_type": "stream",
     "text": [
      "D:\\python_projects\\cpfl\\web_scrapper\\venv_scraper\\lib\\site-packages\\urllib3\\connectionpool.py:1043: InsecureRequestWarning: Unverified HTTPS request is being made to host 'www2.aneel.gov.br'. Adding certificate verification is strongly advised. See: https://urllib3.readthedocs.io/en/1.26.x/advanced-usage.html#ssl-warnings\n",
      "  warnings.warn(\n",
      "D:\\python_projects\\cpfl\\web_scrapper\\venv_scraper\\lib\\site-packages\\urllib3\\connectionpool.py:1043: InsecureRequestWarning: Unverified HTTPS request is being made to host 'www2.aneel.gov.br'. Adding certificate verification is strongly advised. See: https://urllib3.readthedocs.io/en/1.26.x/advanced-usage.html#ssl-warnings\n",
      "  warnings.warn(\n"
     ]
    },
    {
     "name": "stdout",
     "output_type": "stream",
     "text": [
      "Arquivo: \"PCAT_CPFLSANTACRUZ_2016-03-22_REVISAO_(PCATINTERNETCPFLSANTACRUZ2016).xlsx\" foi baixado com sucesso\n",
      "['PCAT_CPFLSANTACRUZ_2017-03-22_REAJUSTE_(PCATCPFLSANTACRUZ2017).xlsx'\n",
      " 'https://www2.aneel.gov.br/aplicacoes/tarifa/arquivo/PCAT_CPFL_Santa_Cruz_2017.xlsx']\n",
      "Arquivo: \"PCAT_CPFLSANTACRUZ_2016-03-22_REVISAO_(PCATINTERNETCPFLSANTACRUZ2016).xlsx\" foi baixado com sucesso\n",
      "['PCAT_CPFLSANTACRUZ_2017-03-22_REAJUSTE_(PCATCPFLSANTACRUZ2017).xlsx'\n",
      " 'https://www2.aneel.gov.br/aplicacoes/tarifa/arquivo/PCAT_CPFL_Santa_Cruz_2017.xlsx']\n"
     ]
    },
    {
     "name": "stderr",
     "output_type": "stream",
     "text": [
      "D:\\python_projects\\cpfl\\web_scrapper\\venv_scraper\\lib\\site-packages\\urllib3\\connectionpool.py:1043: InsecureRequestWarning: Unverified HTTPS request is being made to host 'www2.aneel.gov.br'. Adding certificate verification is strongly advised. See: https://urllib3.readthedocs.io/en/1.26.x/advanced-usage.html#ssl-warnings\n",
      "  warnings.warn(\n",
      "D:\\python_projects\\cpfl\\web_scrapper\\venv_scraper\\lib\\site-packages\\urllib3\\connectionpool.py:1043: InsecureRequestWarning: Unverified HTTPS request is being made to host 'www2.aneel.gov.br'. Adding certificate verification is strongly advised. See: https://urllib3.readthedocs.io/en/1.26.x/advanced-usage.html#ssl-warnings\n",
      "  warnings.warn(\n"
     ]
    },
    {
     "name": "stdout",
     "output_type": "stream",
     "text": [
      "Arquivo: \"PCAT_CPFLSANTACRUZ_2017-03-22_REAJUSTE_(PCATCPFLSANTACRUZ2017).xlsx\" foi baixado com sucesso\n",
      "['PCAT_CPFLSANTACRUZ_2018-03-22_REAJUSTE_(PCATNSC20183).xlsx'\n",
      " 'https://www2.aneel.gov.br/aplicacoes/tarifa/arquivo/PCAT_NSC_20183.xlsx']\n",
      "Arquivo: \"PCAT_CPFLSANTACRUZ_2017-03-22_REAJUSTE_(PCATCPFLSANTACRUZ2017).xlsx\" foi baixado com sucesso\n",
      "['PCAT_CPFLSANTACRUZ_2018-03-22_REAJUSTE_(PCATNSC20183).xlsx'\n",
      " 'https://www2.aneel.gov.br/aplicacoes/tarifa/arquivo/PCAT_NSC_20183.xlsx']\n"
     ]
    },
    {
     "name": "stderr",
     "output_type": "stream",
     "text": [
      "D:\\python_projects\\cpfl\\web_scrapper\\venv_scraper\\lib\\site-packages\\urllib3\\connectionpool.py:1043: InsecureRequestWarning: Unverified HTTPS request is being made to host 'www2.aneel.gov.br'. Adding certificate verification is strongly advised. See: https://urllib3.readthedocs.io/en/1.26.x/advanced-usage.html#ssl-warnings\n",
      "  warnings.warn(\n",
      "D:\\python_projects\\cpfl\\web_scrapper\\venv_scraper\\lib\\site-packages\\urllib3\\connectionpool.py:1043: InsecureRequestWarning: Unverified HTTPS request is being made to host 'www2.aneel.gov.br'. Adding certificate verification is strongly advised. See: https://urllib3.readthedocs.io/en/1.26.x/advanced-usage.html#ssl-warnings\n",
      "  warnings.warn(\n"
     ]
    },
    {
     "name": "stdout",
     "output_type": "stream",
     "text": [
      "Arquivo: \"PCAT_CPFLSANTACRUZ_2018-03-22_REAJUSTE_(PCATNSC20183).xlsx\" foi baixado com sucesso\n",
      "['PCAT_CPFLSANTACRUZ_2019-03-22_REAJUSTE_(PCATCPFLSANTACRUZ2019).xlsx'\n",
      " 'https://www2.aneel.gov.br/aplicacoes/tarifa/arquivo/PCAT_CPFL_Santa_Cruz_2019 .xlsx']\n",
      "Arquivo: \"PCAT_CPFLSANTACRUZ_2018-03-22_REAJUSTE_(PCATNSC20183).xlsx\" foi baixado com sucesso\n",
      "['PCAT_CPFLSANTACRUZ_2019-03-22_REAJUSTE_(PCATCPFLSANTACRUZ2019).xlsx'\n",
      " 'https://www2.aneel.gov.br/aplicacoes/tarifa/arquivo/PCAT_CPFL_Santa_Cruz_2019 .xlsx']\n"
     ]
    },
    {
     "name": "stderr",
     "output_type": "stream",
     "text": [
      "D:\\python_projects\\cpfl\\web_scrapper\\venv_scraper\\lib\\site-packages\\urllib3\\connectionpool.py:1043: InsecureRequestWarning: Unverified HTTPS request is being made to host 'www2.aneel.gov.br'. Adding certificate verification is strongly advised. See: https://urllib3.readthedocs.io/en/1.26.x/advanced-usage.html#ssl-warnings\n",
      "  warnings.warn(\n",
      "D:\\python_projects\\cpfl\\web_scrapper\\venv_scraper\\lib\\site-packages\\urllib3\\connectionpool.py:1043: InsecureRequestWarning: Unverified HTTPS request is being made to host 'www2.aneel.gov.br'. Adding certificate verification is strongly advised. See: https://urllib3.readthedocs.io/en/1.26.x/advanced-usage.html#ssl-warnings\n",
      "  warnings.warn(\n"
     ]
    },
    {
     "name": "stdout",
     "output_type": "stream",
     "text": [
      "Arquivo: \"PCAT_CPFLSANTACRUZ_2019-03-22_REAJUSTE_(PCATCPFLSANTACRUZ2019).xlsx\" foi baixado com sucesso\n",
      "['PCAT_CPFLSANTACRUZ_2020-03-22_REAJUSTE_(1000041PCATCPFLSANTACRUZNOVA2020V02).xlsx'\n",
      " 'https://www2.aneel.gov.br/aplicacoes/tarifa/arquivo/1000041 PCAT CPFL Santa Cruz - nova 2020 V02.xlsx']\n",
      "Arquivo: \"PCAT_CPFLSANTACRUZ_2019-03-22_REAJUSTE_(PCATCPFLSANTACRUZ2019).xlsx\" foi baixado com sucesso\n",
      "['PCAT_CPFLSANTACRUZ_2020-03-22_REAJUSTE_(1000041PCATCPFLSANTACRUZNOVA2020V02).xlsx'\n",
      " 'https://www2.aneel.gov.br/aplicacoes/tarifa/arquivo/1000041 PCAT CPFL Santa Cruz - nova 2020 V02.xlsx']\n"
     ]
    },
    {
     "name": "stderr",
     "output_type": "stream",
     "text": [
      "D:\\python_projects\\cpfl\\web_scrapper\\venv_scraper\\lib\\site-packages\\urllib3\\connectionpool.py:1043: InsecureRequestWarning: Unverified HTTPS request is being made to host 'www2.aneel.gov.br'. Adding certificate verification is strongly advised. See: https://urllib3.readthedocs.io/en/1.26.x/advanced-usage.html#ssl-warnings\n",
      "  warnings.warn(\n",
      "D:\\python_projects\\cpfl\\web_scrapper\\venv_scraper\\lib\\site-packages\\urllib3\\connectionpool.py:1043: InsecureRequestWarning: Unverified HTTPS request is being made to host 'www2.aneel.gov.br'. Adding certificate verification is strongly advised. See: https://urllib3.readthedocs.io/en/1.26.x/advanced-usage.html#ssl-warnings\n",
      "  warnings.warn(\n"
     ]
    },
    {
     "name": "stdout",
     "output_type": "stream",
     "text": [
      "Arquivo: \"PCAT_CPFLSANTACRUZ_2020-03-22_REAJUSTE_(1000041PCATCPFLSANTACRUZNOVA2020V02).xlsx\" foi baixado com sucesso\n",
      "['PCAT_CPFLSANTACRUZ_2021-03-22_REVISAO_(1000041PCATCPFLSANTACRUZ2021V02).xlsx'\n",
      " 'https://www2.aneel.gov.br/aplicacoes/tarifa/arquivo/1000041 PCAT CPFL Santa Cruz  2021 V02.xlsx']\n",
      "Arquivo: \"PCAT_CPFLSANTACRUZ_2020-03-22_REAJUSTE_(1000041PCATCPFLSANTACRUZNOVA2020V02).xlsx\" foi baixado com sucesso\n",
      "['PCAT_CPFLSANTACRUZ_2021-03-22_REVISAO_(1000041PCATCPFLSANTACRUZ2021V02).xlsx'\n",
      " 'https://www2.aneel.gov.br/aplicacoes/tarifa/arquivo/1000041 PCAT CPFL Santa Cruz  2021 V02.xlsx']\n"
     ]
    },
    {
     "name": "stderr",
     "output_type": "stream",
     "text": [
      "D:\\python_projects\\cpfl\\web_scrapper\\venv_scraper\\lib\\site-packages\\urllib3\\connectionpool.py:1043: InsecureRequestWarning: Unverified HTTPS request is being made to host 'www2.aneel.gov.br'. Adding certificate verification is strongly advised. See: https://urllib3.readthedocs.io/en/1.26.x/advanced-usage.html#ssl-warnings\n",
      "  warnings.warn(\n",
      "D:\\python_projects\\cpfl\\web_scrapper\\venv_scraper\\lib\\site-packages\\urllib3\\connectionpool.py:1043: InsecureRequestWarning: Unverified HTTPS request is being made to host 'www2.aneel.gov.br'. Adding certificate verification is strongly advised. See: https://urllib3.readthedocs.io/en/1.26.x/advanced-usage.html#ssl-warnings\n",
      "  warnings.warn(\n"
     ]
    },
    {
     "name": "stdout",
     "output_type": "stream",
     "text": [
      "Arquivo: \"PCAT_CPFLSANTACRUZ_2021-03-22_REVISAO_(1000041PCATCPFLSANTACRUZ2021V02).xlsx\" foi baixado com sucesso\n",
      "['PCAT_CPFLSULPAULISTA_2014-02-03_REAJUSTE_(PCATCSPE2014).xlsx'\n",
      " 'https://www2.aneel.gov.br/aplicacoes/tarifa/arquivo/PCAT_CSPE_2014.xlsx']\n",
      "Arquivo: \"PCAT_CPFLSANTACRUZ_2021-03-22_REVISAO_(1000041PCATCPFLSANTACRUZ2021V02).xlsx\" foi baixado com sucesso\n",
      "['PCAT_CPFLSULPAULISTA_2014-02-03_REAJUSTE_(PCATCSPE2014).xlsx'\n",
      " 'https://www2.aneel.gov.br/aplicacoes/tarifa/arquivo/PCAT_CSPE_2014.xlsx']\n"
     ]
    },
    {
     "name": "stderr",
     "output_type": "stream",
     "text": [
      "D:\\python_projects\\cpfl\\web_scrapper\\venv_scraper\\lib\\site-packages\\urllib3\\connectionpool.py:1043: InsecureRequestWarning: Unverified HTTPS request is being made to host 'www2.aneel.gov.br'. Adding certificate verification is strongly advised. See: https://urllib3.readthedocs.io/en/1.26.x/advanced-usage.html#ssl-warnings\n",
      "  warnings.warn(\n",
      "D:\\python_projects\\cpfl\\web_scrapper\\venv_scraper\\lib\\site-packages\\urllib3\\connectionpool.py:1043: InsecureRequestWarning: Unverified HTTPS request is being made to host 'www2.aneel.gov.br'. Adding certificate verification is strongly advised. See: https://urllib3.readthedocs.io/en/1.26.x/advanced-usage.html#ssl-warnings\n",
      "  warnings.warn(\n"
     ]
    },
    {
     "name": "stdout",
     "output_type": "stream",
     "text": [
      "Arquivo: \"PCAT_CPFLSULPAULISTA_2014-02-03_REAJUSTE_(PCATCSPE2014).xlsx\" foi baixado com sucesso\n",
      "['PCAT_CPFLSULPAULISTA_2015-03-02_REVISAOEXTRAORDINARIA_(PCATCSPE20151).xlsx'\n",
      " 'https://www2.aneel.gov.br/aplicacoes/tarifa/arquivo/PCAT_CSPE_20151.xlsx']\n",
      "Arquivo: \"PCAT_CPFLSULPAULISTA_2014-02-03_REAJUSTE_(PCATCSPE2014).xlsx\" foi baixado com sucesso\n",
      "['PCAT_CPFLSULPAULISTA_2015-03-02_REVISAOEXTRAORDINARIA_(PCATCSPE20151).xlsx'\n",
      " 'https://www2.aneel.gov.br/aplicacoes/tarifa/arquivo/PCAT_CSPE_20151.xlsx']\n"
     ]
    },
    {
     "name": "stderr",
     "output_type": "stream",
     "text": [
      "D:\\python_projects\\cpfl\\web_scrapper\\venv_scraper\\lib\\site-packages\\urllib3\\connectionpool.py:1043: InsecureRequestWarning: Unverified HTTPS request is being made to host 'www2.aneel.gov.br'. Adding certificate verification is strongly advised. See: https://urllib3.readthedocs.io/en/1.26.x/advanced-usage.html#ssl-warnings\n",
      "  warnings.warn(\n",
      "D:\\python_projects\\cpfl\\web_scrapper\\venv_scraper\\lib\\site-packages\\urllib3\\connectionpool.py:1043: InsecureRequestWarning: Unverified HTTPS request is being made to host 'www2.aneel.gov.br'. Adding certificate verification is strongly advised. See: https://urllib3.readthedocs.io/en/1.26.x/advanced-usage.html#ssl-warnings\n",
      "  warnings.warn(\n"
     ]
    },
    {
     "name": "stdout",
     "output_type": "stream",
     "text": [
      "Arquivo: \"PCAT_CPFLSULPAULISTA_2015-03-02_REVISAOEXTRAORDINARIA_(PCATCSPE20151).xlsx\" foi baixado com sucesso\n",
      "['PCAT_CPFLSULPAULISTA_2015-02-03_REAJUSTE_(PCATCSPE2015).xlsx'\n",
      " 'https://www2.aneel.gov.br/aplicacoes/tarifa/arquivo/PCAT_CSPE_2015.xlsx']\n",
      "Arquivo: \"PCAT_CPFLSULPAULISTA_2015-03-02_REVISAOEXTRAORDINARIA_(PCATCSPE20151).xlsx\" foi baixado com sucesso\n",
      "['PCAT_CPFLSULPAULISTA_2015-02-03_REAJUSTE_(PCATCSPE2015).xlsx'\n",
      " 'https://www2.aneel.gov.br/aplicacoes/tarifa/arquivo/PCAT_CSPE_2015.xlsx']\n"
     ]
    },
    {
     "name": "stderr",
     "output_type": "stream",
     "text": [
      "D:\\python_projects\\cpfl\\web_scrapper\\venv_scraper\\lib\\site-packages\\urllib3\\connectionpool.py:1043: InsecureRequestWarning: Unverified HTTPS request is being made to host 'www2.aneel.gov.br'. Adding certificate verification is strongly advised. See: https://urllib3.readthedocs.io/en/1.26.x/advanced-usage.html#ssl-warnings\n",
      "  warnings.warn(\n",
      "D:\\python_projects\\cpfl\\web_scrapper\\venv_scraper\\lib\\site-packages\\urllib3\\connectionpool.py:1043: InsecureRequestWarning: Unverified HTTPS request is being made to host 'www2.aneel.gov.br'. Adding certificate verification is strongly advised. See: https://urllib3.readthedocs.io/en/1.26.x/advanced-usage.html#ssl-warnings\n",
      "  warnings.warn(\n"
     ]
    },
    {
     "name": "stdout",
     "output_type": "stream",
     "text": [
      "Arquivo: \"PCAT_CPFLSULPAULISTA_2015-02-03_REAJUSTE_(PCATCSPE2015).xlsx\" foi baixado com sucesso\n",
      "['PCAT_CPFLSULPAULISTA_2016-03-22_REVISAO_(PCATCPFLSULPAULISTA2016).xlsx'\n",
      " 'https://www2.aneel.gov.br/aplicacoes/tarifa/arquivo/PCAT_CPFL_Sul_Paulista_2016.xlsx']\n",
      "Arquivo: \"PCAT_CPFLSULPAULISTA_2015-02-03_REAJUSTE_(PCATCSPE2015).xlsx\" foi baixado com sucesso\n",
      "['PCAT_CPFLSULPAULISTA_2016-03-22_REVISAO_(PCATCPFLSULPAULISTA2016).xlsx'\n",
      " 'https://www2.aneel.gov.br/aplicacoes/tarifa/arquivo/PCAT_CPFL_Sul_Paulista_2016.xlsx']\n"
     ]
    },
    {
     "name": "stderr",
     "output_type": "stream",
     "text": [
      "D:\\python_projects\\cpfl\\web_scrapper\\venv_scraper\\lib\\site-packages\\urllib3\\connectionpool.py:1043: InsecureRequestWarning: Unverified HTTPS request is being made to host 'www2.aneel.gov.br'. Adding certificate verification is strongly advised. See: https://urllib3.readthedocs.io/en/1.26.x/advanced-usage.html#ssl-warnings\n",
      "  warnings.warn(\n",
      "D:\\python_projects\\cpfl\\web_scrapper\\venv_scraper\\lib\\site-packages\\urllib3\\connectionpool.py:1043: InsecureRequestWarning: Unverified HTTPS request is being made to host 'www2.aneel.gov.br'. Adding certificate verification is strongly advised. See: https://urllib3.readthedocs.io/en/1.26.x/advanced-usage.html#ssl-warnings\n",
      "  warnings.warn(\n"
     ]
    },
    {
     "name": "stdout",
     "output_type": "stream",
     "text": [
      "Arquivo: \"PCAT_CPFLSULPAULISTA_2016-03-22_REVISAO_(PCATCPFLSULPAULISTA2016).xlsx\" foi baixado com sucesso\n",
      "['PCAT_CPFLSULPAULISTA_2017-03-22_REAJUSTE_(PCATCPFLSULPAULISTA2017).xlsx'\n",
      " 'https://www2.aneel.gov.br/aplicacoes/tarifa/arquivo/PCAT_CPFL_Sul_Paulista_2017.xlsx']\n",
      "Arquivo: \"PCAT_CPFLSULPAULISTA_2016-03-22_REVISAO_(PCATCPFLSULPAULISTA2016).xlsx\" foi baixado com sucesso\n",
      "['PCAT_CPFLSULPAULISTA_2017-03-22_REAJUSTE_(PCATCPFLSULPAULISTA2017).xlsx'\n",
      " 'https://www2.aneel.gov.br/aplicacoes/tarifa/arquivo/PCAT_CPFL_Sul_Paulista_2017.xlsx']\n"
     ]
    },
    {
     "name": "stderr",
     "output_type": "stream",
     "text": [
      "D:\\python_projects\\cpfl\\web_scrapper\\venv_scraper\\lib\\site-packages\\urllib3\\connectionpool.py:1043: InsecureRequestWarning: Unverified HTTPS request is being made to host 'www2.aneel.gov.br'. Adding certificate verification is strongly advised. See: https://urllib3.readthedocs.io/en/1.26.x/advanced-usage.html#ssl-warnings\n",
      "  warnings.warn(\n",
      "D:\\python_projects\\cpfl\\web_scrapper\\venv_scraper\\lib\\site-packages\\urllib3\\connectionpool.py:1043: InsecureRequestWarning: Unverified HTTPS request is being made to host 'www2.aneel.gov.br'. Adding certificate verification is strongly advised. See: https://urllib3.readthedocs.io/en/1.26.x/advanced-usage.html#ssl-warnings\n",
      "  warnings.warn(\n"
     ]
    },
    {
     "name": "stdout",
     "output_type": "stream",
     "text": [
      "Arquivo: \"PCAT_CPFLSULPAULISTA_2017-03-22_REAJUSTE_(PCATCPFLSULPAULISTA2017).xlsx\" foi baixado com sucesso\n",
      "['PCAT_CPFLSULPAULISTA_2018-03-22_REAJUSTE_(PCATNSC20184).xlsx'\n",
      " 'https://www2.aneel.gov.br/aplicacoes/tarifa/arquivo/PCAT_NSC_20184.xlsx']\n",
      "Arquivo: \"PCAT_CPFLSULPAULISTA_2017-03-22_REAJUSTE_(PCATCPFLSULPAULISTA2017).xlsx\" foi baixado com sucesso\n",
      "['PCAT_CPFLSULPAULISTA_2018-03-22_REAJUSTE_(PCATNSC20184).xlsx'\n",
      " 'https://www2.aneel.gov.br/aplicacoes/tarifa/arquivo/PCAT_NSC_20184.xlsx']\n"
     ]
    },
    {
     "name": "stderr",
     "output_type": "stream",
     "text": [
      "D:\\python_projects\\cpfl\\web_scrapper\\venv_scraper\\lib\\site-packages\\urllib3\\connectionpool.py:1043: InsecureRequestWarning: Unverified HTTPS request is being made to host 'www2.aneel.gov.br'. Adding certificate verification is strongly advised. See: https://urllib3.readthedocs.io/en/1.26.x/advanced-usage.html#ssl-warnings\n",
      "  warnings.warn(\n",
      "D:\\python_projects\\cpfl\\web_scrapper\\venv_scraper\\lib\\site-packages\\urllib3\\connectionpool.py:1043: InsecureRequestWarning: Unverified HTTPS request is being made to host 'www2.aneel.gov.br'. Adding certificate verification is strongly advised. See: https://urllib3.readthedocs.io/en/1.26.x/advanced-usage.html#ssl-warnings\n",
      "  warnings.warn(\n"
     ]
    },
    {
     "name": "stdout",
     "output_type": "stream",
     "text": [
      "Arquivo: \"PCAT_CPFLSULPAULISTA_2018-03-22_REAJUSTE_(PCATNSC20184).xlsx\" foi baixado com sucesso\n",
      "['PCAT_CPFLPAULISTA_2014-04-08_REAJUSTE_(PCATCPFLPAULISTA2014).xlsx'\n",
      " 'https://www2.aneel.gov.br/aplicacoes/tarifa/arquivo/PCAT_CPFL_PAULISTA_2014.xlsx']\n",
      "Arquivo: \"PCAT_CPFLSULPAULISTA_2018-03-22_REAJUSTE_(PCATNSC20184).xlsx\" foi baixado com sucesso\n",
      "['PCAT_CPFLPAULISTA_2014-04-08_REAJUSTE_(PCATCPFLPAULISTA2014).xlsx'\n",
      " 'https://www2.aneel.gov.br/aplicacoes/tarifa/arquivo/PCAT_CPFL_PAULISTA_2014.xlsx']\n"
     ]
    },
    {
     "name": "stderr",
     "output_type": "stream",
     "text": [
      "D:\\python_projects\\cpfl\\web_scrapper\\venv_scraper\\lib\\site-packages\\urllib3\\connectionpool.py:1043: InsecureRequestWarning: Unverified HTTPS request is being made to host 'www2.aneel.gov.br'. Adding certificate verification is strongly advised. See: https://urllib3.readthedocs.io/en/1.26.x/advanced-usage.html#ssl-warnings\n",
      "  warnings.warn(\n",
      "D:\\python_projects\\cpfl\\web_scrapper\\venv_scraper\\lib\\site-packages\\urllib3\\connectionpool.py:1043: InsecureRequestWarning: Unverified HTTPS request is being made to host 'www2.aneel.gov.br'. Adding certificate verification is strongly advised. See: https://urllib3.readthedocs.io/en/1.26.x/advanced-usage.html#ssl-warnings\n",
      "  warnings.warn(\n"
     ]
    },
    {
     "name": "stdout",
     "output_type": "stream",
     "text": [
      "Arquivo: \"PCAT_CPFLPAULISTA_2014-04-08_REAJUSTE_(PCATCPFLPAULISTA2014).xlsx\" foi baixado com sucesso\n",
      "['PCAT_CPFLPAULISTA_2015-04-08_REAJUSTE_(PCATCPFLPAULISTA2015A15).xls'\n",
      " 'https://www2.aneel.gov.br/aplicacoes/tarifa/arquivo/PCAT_CPFL_PAULISTA_2015A_15.xls']\n",
      "Arquivo: \"PCAT_CPFLPAULISTA_2014-04-08_REAJUSTE_(PCATCPFLPAULISTA2014).xlsx\" foi baixado com sucesso\n",
      "['PCAT_CPFLPAULISTA_2015-04-08_REAJUSTE_(PCATCPFLPAULISTA2015A15).xls'\n",
      " 'https://www2.aneel.gov.br/aplicacoes/tarifa/arquivo/PCAT_CPFL_PAULISTA_2015A_15.xls']\n"
     ]
    },
    {
     "name": "stderr",
     "output_type": "stream",
     "text": [
      "D:\\python_projects\\cpfl\\web_scrapper\\venv_scraper\\lib\\site-packages\\urllib3\\connectionpool.py:1043: InsecureRequestWarning: Unverified HTTPS request is being made to host 'www2.aneel.gov.br'. Adding certificate verification is strongly advised. See: https://urllib3.readthedocs.io/en/1.26.x/advanced-usage.html#ssl-warnings\n",
      "  warnings.warn(\n",
      "D:\\python_projects\\cpfl\\web_scrapper\\venv_scraper\\lib\\site-packages\\urllib3\\connectionpool.py:1043: InsecureRequestWarning: Unverified HTTPS request is being made to host 'www2.aneel.gov.br'. Adding certificate verification is strongly advised. See: https://urllib3.readthedocs.io/en/1.26.x/advanced-usage.html#ssl-warnings\n",
      "  warnings.warn(\n"
     ]
    },
    {
     "name": "stdout",
     "output_type": "stream",
     "text": [
      "Arquivo: \"PCAT_CPFLPAULISTA_2015-04-08_REAJUSTE_(PCATCPFLPAULISTA2015A15).xls\" foi baixado com sucesso\n",
      "['PCAT_CPFLPAULISTA_2015-03-02_REVISAOEXTRAORDINARIA_(PCATCPFLPAULISTA2014V00).xlsx'\n",
      " 'https://www2.aneel.gov.br/aplicacoes/tarifa/arquivo/PCAT_CPFL_PAULISTA_2014_V00.xlsx']\n",
      "Arquivo: \"PCAT_CPFLPAULISTA_2015-04-08_REAJUSTE_(PCATCPFLPAULISTA2015A15).xls\" foi baixado com sucesso\n",
      "['PCAT_CPFLPAULISTA_2015-03-02_REVISAOEXTRAORDINARIA_(PCATCPFLPAULISTA2014V00).xlsx'\n",
      " 'https://www2.aneel.gov.br/aplicacoes/tarifa/arquivo/PCAT_CPFL_PAULISTA_2014_V00.xlsx']\n"
     ]
    },
    {
     "name": "stderr",
     "output_type": "stream",
     "text": [
      "D:\\python_projects\\cpfl\\web_scrapper\\venv_scraper\\lib\\site-packages\\urllib3\\connectionpool.py:1043: InsecureRequestWarning: Unverified HTTPS request is being made to host 'www2.aneel.gov.br'. Adding certificate verification is strongly advised. See: https://urllib3.readthedocs.io/en/1.26.x/advanced-usage.html#ssl-warnings\n",
      "  warnings.warn(\n",
      "D:\\python_projects\\cpfl\\web_scrapper\\venv_scraper\\lib\\site-packages\\urllib3\\connectionpool.py:1043: InsecureRequestWarning: Unverified HTTPS request is being made to host 'www2.aneel.gov.br'. Adding certificate verification is strongly advised. See: https://urllib3.readthedocs.io/en/1.26.x/advanced-usage.html#ssl-warnings\n",
      "  warnings.warn(\n"
     ]
    },
    {
     "name": "stdout",
     "output_type": "stream",
     "text": [
      "Arquivo: \"PCAT_CPFLPAULISTA_2015-03-02_REVISAOEXTRAORDINARIA_(PCATCPFLPAULISTA2014V00).xlsx\" foi baixado com sucesso\n",
      "['PCAT_CPFLPAULISTA_2016-04-08_REAJUSTE_(PCATCPFLPAULISTA2016).xlsx'\n",
      " 'https://www2.aneel.gov.br/aplicacoes/tarifa/arquivo/PCAT_CPFL_Paulista_2016.xlsx']\n",
      "Arquivo: \"PCAT_CPFLPAULISTA_2015-03-02_REVISAOEXTRAORDINARIA_(PCATCPFLPAULISTA2014V00).xlsx\" foi baixado com sucesso\n",
      "['PCAT_CPFLPAULISTA_2016-04-08_REAJUSTE_(PCATCPFLPAULISTA2016).xlsx'\n",
      " 'https://www2.aneel.gov.br/aplicacoes/tarifa/arquivo/PCAT_CPFL_Paulista_2016.xlsx']\n"
     ]
    },
    {
     "name": "stderr",
     "output_type": "stream",
     "text": [
      "D:\\python_projects\\cpfl\\web_scrapper\\venv_scraper\\lib\\site-packages\\urllib3\\connectionpool.py:1043: InsecureRequestWarning: Unverified HTTPS request is being made to host 'www2.aneel.gov.br'. Adding certificate verification is strongly advised. See: https://urllib3.readthedocs.io/en/1.26.x/advanced-usage.html#ssl-warnings\n",
      "  warnings.warn(\n",
      "D:\\python_projects\\cpfl\\web_scrapper\\venv_scraper\\lib\\site-packages\\urllib3\\connectionpool.py:1043: InsecureRequestWarning: Unverified HTTPS request is being made to host 'www2.aneel.gov.br'. Adding certificate verification is strongly advised. See: https://urllib3.readthedocs.io/en/1.26.x/advanced-usage.html#ssl-warnings\n",
      "  warnings.warn(\n"
     ]
    },
    {
     "name": "stdout",
     "output_type": "stream",
     "text": [
      "Arquivo: \"PCAT_CPFLPAULISTA_2016-04-08_REAJUSTE_(PCATCPFLPAULISTA2016).xlsx\" foi baixado com sucesso\n",
      "['PCAT_CPFLPAULISTA_2017-04-08_REAJUSTE_(PCATCPFLPAULISTA2017).xlsx'\n",
      " 'https://www2.aneel.gov.br/aplicacoes/tarifa/arquivo/PCAT_CPFL_Paulista_2017.xlsx']\n",
      "Arquivo: \"PCAT_CPFLPAULISTA_2016-04-08_REAJUSTE_(PCATCPFLPAULISTA2016).xlsx\" foi baixado com sucesso\n",
      "['PCAT_CPFLPAULISTA_2017-04-08_REAJUSTE_(PCATCPFLPAULISTA2017).xlsx'\n",
      " 'https://www2.aneel.gov.br/aplicacoes/tarifa/arquivo/PCAT_CPFL_Paulista_2017.xlsx']\n"
     ]
    },
    {
     "name": "stderr",
     "output_type": "stream",
     "text": [
      "D:\\python_projects\\cpfl\\web_scrapper\\venv_scraper\\lib\\site-packages\\urllib3\\connectionpool.py:1043: InsecureRequestWarning: Unverified HTTPS request is being made to host 'www2.aneel.gov.br'. Adding certificate verification is strongly advised. See: https://urllib3.readthedocs.io/en/1.26.x/advanced-usage.html#ssl-warnings\n",
      "  warnings.warn(\n",
      "D:\\python_projects\\cpfl\\web_scrapper\\venv_scraper\\lib\\site-packages\\urllib3\\connectionpool.py:1043: InsecureRequestWarning: Unverified HTTPS request is being made to host 'www2.aneel.gov.br'. Adding certificate verification is strongly advised. See: https://urllib3.readthedocs.io/en/1.26.x/advanced-usage.html#ssl-warnings\n",
      "  warnings.warn(\n"
     ]
    },
    {
     "name": "stdout",
     "output_type": "stream",
     "text": [
      "Arquivo: \"PCAT_CPFLPAULISTA_2017-04-08_REAJUSTE_(PCATCPFLPAULISTA2017).xlsx\" foi baixado com sucesso\n",
      "['PCAT_CPFLPAULISTA_2018-04-08_REVISAO_(PCATCPFLPAULISTA2018).xlsx'\n",
      " 'https://www2.aneel.gov.br/aplicacoes/tarifa/arquivo/PCAT_CPFL_Paulista_2018 .xlsx']\n",
      "Arquivo: \"PCAT_CPFLPAULISTA_2017-04-08_REAJUSTE_(PCATCPFLPAULISTA2017).xlsx\" foi baixado com sucesso\n",
      "['PCAT_CPFLPAULISTA_2018-04-08_REVISAO_(PCATCPFLPAULISTA2018).xlsx'\n",
      " 'https://www2.aneel.gov.br/aplicacoes/tarifa/arquivo/PCAT_CPFL_Paulista_2018 .xlsx']\n"
     ]
    },
    {
     "name": "stderr",
     "output_type": "stream",
     "text": [
      "D:\\python_projects\\cpfl\\web_scrapper\\venv_scraper\\lib\\site-packages\\urllib3\\connectionpool.py:1043: InsecureRequestWarning: Unverified HTTPS request is being made to host 'www2.aneel.gov.br'. Adding certificate verification is strongly advised. See: https://urllib3.readthedocs.io/en/1.26.x/advanced-usage.html#ssl-warnings\n",
      "  warnings.warn(\n",
      "D:\\python_projects\\cpfl\\web_scrapper\\venv_scraper\\lib\\site-packages\\urllib3\\connectionpool.py:1043: InsecureRequestWarning: Unverified HTTPS request is being made to host 'www2.aneel.gov.br'. Adding certificate verification is strongly advised. See: https://urllib3.readthedocs.io/en/1.26.x/advanced-usage.html#ssl-warnings\n",
      "  warnings.warn(\n"
     ]
    },
    {
     "name": "stdout",
     "output_type": "stream",
     "text": [
      "Arquivo: \"PCAT_CPFLPAULISTA_2018-04-08_REVISAO_(PCATCPFLPAULISTA2018).xlsx\" foi baixado com sucesso\n",
      "['PCAT_CPFLPAULISTA_2019-04-08_REAJUSTE_(PCATCPFLPAULISTA2019).xlsx'\n",
      " 'https://www2.aneel.gov.br/aplicacoes/tarifa/arquivo/PCAT_CPFL_Paulista_2019.xlsx']\n",
      "Arquivo: \"PCAT_CPFLPAULISTA_2018-04-08_REVISAO_(PCATCPFLPAULISTA2018).xlsx\" foi baixado com sucesso\n",
      "['PCAT_CPFLPAULISTA_2019-04-08_REAJUSTE_(PCATCPFLPAULISTA2019).xlsx'\n",
      " 'https://www2.aneel.gov.br/aplicacoes/tarifa/arquivo/PCAT_CPFL_Paulista_2019.xlsx']\n"
     ]
    },
    {
     "name": "stderr",
     "output_type": "stream",
     "text": [
      "D:\\python_projects\\cpfl\\web_scrapper\\venv_scraper\\lib\\site-packages\\urllib3\\connectionpool.py:1043: InsecureRequestWarning: Unverified HTTPS request is being made to host 'www2.aneel.gov.br'. Adding certificate verification is strongly advised. See: https://urllib3.readthedocs.io/en/1.26.x/advanced-usage.html#ssl-warnings\n",
      "  warnings.warn(\n",
      "D:\\python_projects\\cpfl\\web_scrapper\\venv_scraper\\lib\\site-packages\\urllib3\\connectionpool.py:1043: InsecureRequestWarning: Unverified HTTPS request is being made to host 'www2.aneel.gov.br'. Adding certificate verification is strongly advised. See: https://urllib3.readthedocs.io/en/1.26.x/advanced-usage.html#ssl-warnings\n",
      "  warnings.warn(\n"
     ]
    },
    {
     "name": "stdout",
     "output_type": "stream",
     "text": [
      "Arquivo: \"PCAT_CPFLPAULISTA_2019-04-08_REAJUSTE_(PCATCPFLPAULISTA2019).xlsx\" foi baixado com sucesso\n",
      "['PCAT_CPFLPAULISTA_2020-04-08_REAJUSTE_(63PCATCPFLPAULISTA2020V02).xlsx'\n",
      " 'https://www2.aneel.gov.br/aplicacoes/tarifa/arquivo/63 PCAT CPFL Paulista 2020 V02.xlsx']\n",
      "Arquivo: \"PCAT_CPFLPAULISTA_2019-04-08_REAJUSTE_(PCATCPFLPAULISTA2019).xlsx\" foi baixado com sucesso\n",
      "['PCAT_CPFLPAULISTA_2020-04-08_REAJUSTE_(63PCATCPFLPAULISTA2020V02).xlsx'\n",
      " 'https://www2.aneel.gov.br/aplicacoes/tarifa/arquivo/63 PCAT CPFL Paulista 2020 V02.xlsx']\n"
     ]
    },
    {
     "name": "stderr",
     "output_type": "stream",
     "text": [
      "D:\\python_projects\\cpfl\\web_scrapper\\venv_scraper\\lib\\site-packages\\urllib3\\connectionpool.py:1043: InsecureRequestWarning: Unverified HTTPS request is being made to host 'www2.aneel.gov.br'. Adding certificate verification is strongly advised. See: https://urllib3.readthedocs.io/en/1.26.x/advanced-usage.html#ssl-warnings\n",
      "  warnings.warn(\n",
      "D:\\python_projects\\cpfl\\web_scrapper\\venv_scraper\\lib\\site-packages\\urllib3\\connectionpool.py:1043: InsecureRequestWarning: Unverified HTTPS request is being made to host 'www2.aneel.gov.br'. Adding certificate verification is strongly advised. See: https://urllib3.readthedocs.io/en/1.26.x/advanced-usage.html#ssl-warnings\n",
      "  warnings.warn(\n"
     ]
    },
    {
     "name": "stdout",
     "output_type": "stream",
     "text": [
      "Arquivo: \"PCAT_CPFLPAULISTA_2020-04-08_REAJUSTE_(63PCATCPFLPAULISTA2020V02).xlsx\" foi baixado com sucesso\n",
      "['PCAT_CPFLPAULISTA_2021-04-22_REAJUSTE_(63PCATCPFLPAULISTA2021V02).xlsx'\n",
      " 'https://www2.aneel.gov.br/aplicacoes/tarifa/arquivo/63 PCAT CPFL Paulista 2021 V02.xlsx']\n",
      "Arquivo: \"PCAT_CPFLPAULISTA_2020-04-08_REAJUSTE_(63PCATCPFLPAULISTA2020V02).xlsx\" foi baixado com sucesso\n",
      "['PCAT_CPFLPAULISTA_2021-04-22_REAJUSTE_(63PCATCPFLPAULISTA2021V02).xlsx'\n",
      " 'https://www2.aneel.gov.br/aplicacoes/tarifa/arquivo/63 PCAT CPFL Paulista 2021 V02.xlsx']\n"
     ]
    },
    {
     "name": "stderr",
     "output_type": "stream",
     "text": [
      "D:\\python_projects\\cpfl\\web_scrapper\\venv_scraper\\lib\\site-packages\\urllib3\\connectionpool.py:1043: InsecureRequestWarning: Unverified HTTPS request is being made to host 'www2.aneel.gov.br'. Adding certificate verification is strongly advised. See: https://urllib3.readthedocs.io/en/1.26.x/advanced-usage.html#ssl-warnings\n",
      "  warnings.warn(\n",
      "D:\\python_projects\\cpfl\\web_scrapper\\venv_scraper\\lib\\site-packages\\urllib3\\connectionpool.py:1043: InsecureRequestWarning: Unverified HTTPS request is being made to host 'www2.aneel.gov.br'. Adding certificate verification is strongly advised. See: https://urllib3.readthedocs.io/en/1.26.x/advanced-usage.html#ssl-warnings\n",
      "  warnings.warn(\n"
     ]
    },
    {
     "name": "stdout",
     "output_type": "stream",
     "text": [
      "Arquivo: \"PCAT_CPFLPAULISTA_2021-04-22_REAJUSTE_(63PCATCPFLPAULISTA2021V02).xlsx\" foi baixado com sucesso\n",
      "['PCAT_DCELT_2013-01-24_REAJUSTE_(PCATIGUACU2013).xlsx'\n",
      " 'https://www2.aneel.gov.br/aplicacoes/tarifa/arquivo/PCAT_IGUAÇU_2013.xlsx']\n",
      "Arquivo: \"PCAT_CPFLPAULISTA_2021-04-22_REAJUSTE_(63PCATCPFLPAULISTA2021V02).xlsx\" foi baixado com sucesso\n",
      "['PCAT_DCELT_2013-01-24_REAJUSTE_(PCATIGUACU2013).xlsx'\n",
      " 'https://www2.aneel.gov.br/aplicacoes/tarifa/arquivo/PCAT_IGUAÇU_2013.xlsx']\n"
     ]
    },
    {
     "name": "stderr",
     "output_type": "stream",
     "text": [
      "D:\\python_projects\\cpfl\\web_scrapper\\venv_scraper\\lib\\site-packages\\urllib3\\connectionpool.py:1043: InsecureRequestWarning: Unverified HTTPS request is being made to host 'www2.aneel.gov.br'. Adding certificate verification is strongly advised. See: https://urllib3.readthedocs.io/en/1.26.x/advanced-usage.html#ssl-warnings\n",
      "  warnings.warn(\n",
      "D:\\python_projects\\cpfl\\web_scrapper\\venv_scraper\\lib\\site-packages\\urllib3\\connectionpool.py:1043: InsecureRequestWarning: Unverified HTTPS request is being made to host 'www2.aneel.gov.br'. Adding certificate verification is strongly advised. See: https://urllib3.readthedocs.io/en/1.26.x/advanced-usage.html#ssl-warnings\n",
      "  warnings.warn(\n"
     ]
    },
    {
     "name": "stdout",
     "output_type": "stream",
     "text": [
      "Arquivo: \"PCAT_DCELT_2013-01-24_REAJUSTE_(PCATIGUACU2013).xlsx\" foi baixado com sucesso\n",
      "['PCAT_DCELT_2014-08-05_REAJUSTE_(PCATIGUACU2014).xlsx'\n",
      " 'https://www2.aneel.gov.br/aplicacoes/tarifa/arquivo/PCAT_IGUAÇU_2014.xlsx']\n",
      "Arquivo: \"PCAT_DCELT_2013-01-24_REAJUSTE_(PCATIGUACU2013).xlsx\" foi baixado com sucesso\n",
      "['PCAT_DCELT_2014-08-05_REAJUSTE_(PCATIGUACU2014).xlsx'\n",
      " 'https://www2.aneel.gov.br/aplicacoes/tarifa/arquivo/PCAT_IGUAÇU_2014.xlsx']\n"
     ]
    },
    {
     "name": "stderr",
     "output_type": "stream",
     "text": [
      "D:\\python_projects\\cpfl\\web_scrapper\\venv_scraper\\lib\\site-packages\\urllib3\\connectionpool.py:1043: InsecureRequestWarning: Unverified HTTPS request is being made to host 'www2.aneel.gov.br'. Adding certificate verification is strongly advised. See: https://urllib3.readthedocs.io/en/1.26.x/advanced-usage.html#ssl-warnings\n",
      "  warnings.warn(\n",
      "D:\\python_projects\\cpfl\\web_scrapper\\venv_scraper\\lib\\site-packages\\urllib3\\connectionpool.py:1043: InsecureRequestWarning: Unverified HTTPS request is being made to host 'www2.aneel.gov.br'. Adding certificate verification is strongly advised. See: https://urllib3.readthedocs.io/en/1.26.x/advanced-usage.html#ssl-warnings\n",
      "  warnings.warn(\n"
     ]
    },
    {
     "name": "stdout",
     "output_type": "stream",
     "text": [
      "Arquivo: \"PCAT_DCELT_2014-08-05_REAJUSTE_(PCATIGUACU2014).xlsx\" foi baixado com sucesso\n",
      "['PCAT_DCELT_2015-08-07_REAJUSTE_(PCATIENERGIA2015).xlsx'\n",
      " 'https://www2.aneel.gov.br/aplicacoes/tarifa/arquivo/PCAT_Ienergia_2015.xlsx']\n",
      "Arquivo: \"PCAT_DCELT_2014-08-05_REAJUSTE_(PCATIGUACU2014).xlsx\" foi baixado com sucesso\n",
      "['PCAT_DCELT_2015-08-07_REAJUSTE_(PCATIENERGIA2015).xlsx'\n",
      " 'https://www2.aneel.gov.br/aplicacoes/tarifa/arquivo/PCAT_Ienergia_2015.xlsx']\n"
     ]
    },
    {
     "name": "stderr",
     "output_type": "stream",
     "text": [
      "D:\\python_projects\\cpfl\\web_scrapper\\venv_scraper\\lib\\site-packages\\urllib3\\connectionpool.py:1043: InsecureRequestWarning: Unverified HTTPS request is being made to host 'www2.aneel.gov.br'. Adding certificate verification is strongly advised. See: https://urllib3.readthedocs.io/en/1.26.x/advanced-usage.html#ssl-warnings\n",
      "  warnings.warn(\n",
      "D:\\python_projects\\cpfl\\web_scrapper\\venv_scraper\\lib\\site-packages\\urllib3\\connectionpool.py:1043: InsecureRequestWarning: Unverified HTTPS request is being made to host 'www2.aneel.gov.br'. Adding certificate verification is strongly advised. See: https://urllib3.readthedocs.io/en/1.26.x/advanced-usage.html#ssl-warnings\n",
      "  warnings.warn(\n"
     ]
    },
    {
     "name": "stdout",
     "output_type": "stream",
     "text": [
      "Arquivo: \"PCAT_DCELT_2015-08-07_REAJUSTE_(PCATIENERGIA2015).xlsx\" foi baixado com sucesso\n",
      "['PCAT_DCELT_2015-03-02_REVISAOEXTRAORDINARIA_(PCATIGUACU2014V00).xlsx'\n",
      " 'https://www2.aneel.gov.br/aplicacoes/tarifa/arquivo/PCAT_IGUAÇU_2014_V00.xlsx']\n",
      "Arquivo: \"PCAT_DCELT_2015-08-07_REAJUSTE_(PCATIENERGIA2015).xlsx\" foi baixado com sucesso\n",
      "['PCAT_DCELT_2015-03-02_REVISAOEXTRAORDINARIA_(PCATIGUACU2014V00).xlsx'\n",
      " 'https://www2.aneel.gov.br/aplicacoes/tarifa/arquivo/PCAT_IGUAÇU_2014_V00.xlsx']\n"
     ]
    },
    {
     "name": "stderr",
     "output_type": "stream",
     "text": [
      "D:\\python_projects\\cpfl\\web_scrapper\\venv_scraper\\lib\\site-packages\\urllib3\\connectionpool.py:1043: InsecureRequestWarning: Unverified HTTPS request is being made to host 'www2.aneel.gov.br'. Adding certificate verification is strongly advised. See: https://urllib3.readthedocs.io/en/1.26.x/advanced-usage.html#ssl-warnings\n",
      "  warnings.warn(\n",
      "D:\\python_projects\\cpfl\\web_scrapper\\venv_scraper\\lib\\site-packages\\urllib3\\connectionpool.py:1043: InsecureRequestWarning: Unverified HTTPS request is being made to host 'www2.aneel.gov.br'. Adding certificate verification is strongly advised. See: https://urllib3.readthedocs.io/en/1.26.x/advanced-usage.html#ssl-warnings\n",
      "  warnings.warn(\n"
     ]
    },
    {
     "name": "stdout",
     "output_type": "stream",
     "text": [
      "Arquivo: \"PCAT_DCELT_2015-03-02_REVISAOEXTRAORDINARIA_(PCATIGUACU2014V00).xlsx\" foi baixado com sucesso\n",
      "['PCAT_DCELT_2016-08-29_REVISAO_(PCATIENERGIA2016).xlsx'\n",
      " 'https://www2.aneel.gov.br/aplicacoes/tarifa/arquivo/PCAT_Ienergia_2016.xlsx']\n",
      "Arquivo: \"PCAT_DCELT_2015-03-02_REVISAOEXTRAORDINARIA_(PCATIGUACU2014V00).xlsx\" foi baixado com sucesso\n",
      "['PCAT_DCELT_2016-08-29_REVISAO_(PCATIENERGIA2016).xlsx'\n",
      " 'https://www2.aneel.gov.br/aplicacoes/tarifa/arquivo/PCAT_Ienergia_2016.xlsx']\n"
     ]
    },
    {
     "name": "stderr",
     "output_type": "stream",
     "text": [
      "D:\\python_projects\\cpfl\\web_scrapper\\venv_scraper\\lib\\site-packages\\urllib3\\connectionpool.py:1043: InsecureRequestWarning: Unverified HTTPS request is being made to host 'www2.aneel.gov.br'. Adding certificate verification is strongly advised. See: https://urllib3.readthedocs.io/en/1.26.x/advanced-usage.html#ssl-warnings\n",
      "  warnings.warn(\n",
      "D:\\python_projects\\cpfl\\web_scrapper\\venv_scraper\\lib\\site-packages\\urllib3\\connectionpool.py:1043: InsecureRequestWarning: Unverified HTTPS request is being made to host 'www2.aneel.gov.br'. Adding certificate verification is strongly advised. See: https://urllib3.readthedocs.io/en/1.26.x/advanced-usage.html#ssl-warnings\n",
      "  warnings.warn(\n"
     ]
    },
    {
     "name": "stdout",
     "output_type": "stream",
     "text": [
      "Arquivo: \"PCAT_DCELT_2016-08-29_REVISAO_(PCATIENERGIA2016).xlsx\" foi baixado com sucesso\n",
      "['PCAT_DCELT_2017-08-29_REAJUSTE_(PCATIENERGIA2017).xlsx'\n",
      " 'https://www2.aneel.gov.br/aplicacoes/tarifa/arquivo/PCAT_Ienergia_2017.xlsx']\n",
      "Arquivo: \"PCAT_DCELT_2016-08-29_REVISAO_(PCATIENERGIA2016).xlsx\" foi baixado com sucesso\n",
      "['PCAT_DCELT_2017-08-29_REAJUSTE_(PCATIENERGIA2017).xlsx'\n",
      " 'https://www2.aneel.gov.br/aplicacoes/tarifa/arquivo/PCAT_Ienergia_2017.xlsx']\n"
     ]
    },
    {
     "name": "stderr",
     "output_type": "stream",
     "text": [
      "D:\\python_projects\\cpfl\\web_scrapper\\venv_scraper\\lib\\site-packages\\urllib3\\connectionpool.py:1043: InsecureRequestWarning: Unverified HTTPS request is being made to host 'www2.aneel.gov.br'. Adding certificate verification is strongly advised. See: https://urllib3.readthedocs.io/en/1.26.x/advanced-usage.html#ssl-warnings\n",
      "  warnings.warn(\n",
      "D:\\python_projects\\cpfl\\web_scrapper\\venv_scraper\\lib\\site-packages\\urllib3\\connectionpool.py:1043: InsecureRequestWarning: Unverified HTTPS request is being made to host 'www2.aneel.gov.br'. Adding certificate verification is strongly advised. See: https://urllib3.readthedocs.io/en/1.26.x/advanced-usage.html#ssl-warnings\n",
      "  warnings.warn(\n"
     ]
    },
    {
     "name": "stdout",
     "output_type": "stream",
     "text": [
      "Arquivo: \"PCAT_DCELT_2017-08-29_REAJUSTE_(PCATIENERGIA2017).xlsx\" foi baixado com sucesso\n",
      "['PCAT_DCELT_2018-08-28_REAJUSTE_(PCATIENERGIA2018).xlsx'\n",
      " 'https://www2.aneel.gov.br/aplicacoes/tarifa/arquivo/PCAT_Ienergia_2018 .xlsx']\n",
      "Arquivo: \"PCAT_DCELT_2017-08-29_REAJUSTE_(PCATIENERGIA2017).xlsx\" foi baixado com sucesso\n",
      "['PCAT_DCELT_2018-08-28_REAJUSTE_(PCATIENERGIA2018).xlsx'\n",
      " 'https://www2.aneel.gov.br/aplicacoes/tarifa/arquivo/PCAT_Ienergia_2018 .xlsx']\n"
     ]
    },
    {
     "name": "stderr",
     "output_type": "stream",
     "text": [
      "D:\\python_projects\\cpfl\\web_scrapper\\venv_scraper\\lib\\site-packages\\urllib3\\connectionpool.py:1043: InsecureRequestWarning: Unverified HTTPS request is being made to host 'www2.aneel.gov.br'. Adding certificate verification is strongly advised. See: https://urllib3.readthedocs.io/en/1.26.x/advanced-usage.html#ssl-warnings\n",
      "  warnings.warn(\n",
      "D:\\python_projects\\cpfl\\web_scrapper\\venv_scraper\\lib\\site-packages\\urllib3\\connectionpool.py:1043: InsecureRequestWarning: Unverified HTTPS request is being made to host 'www2.aneel.gov.br'. Adding certificate verification is strongly advised. See: https://urllib3.readthedocs.io/en/1.26.x/advanced-usage.html#ssl-warnings\n",
      "  warnings.warn(\n"
     ]
    },
    {
     "name": "stdout",
     "output_type": "stream",
     "text": [
      "Arquivo: \"PCAT_DCELT_2018-08-28_REAJUSTE_(PCATIENERGIA2018).xlsx\" foi baixado com sucesso\n",
      "['PCAT_DCELT_2019-08-29_REAJUSTE_(87PCATIENERGIA2019V02).xlsx'\n",
      " 'https://www2.aneel.gov.br/aplicacoes/tarifa/arquivo/87 PCAT Ienergia 2019 V02.xlsx']\n",
      "Arquivo: \"PCAT_DCELT_2018-08-28_REAJUSTE_(PCATIENERGIA2018).xlsx\" foi baixado com sucesso\n",
      "['PCAT_DCELT_2019-08-29_REAJUSTE_(87PCATIENERGIA2019V02).xlsx'\n",
      " 'https://www2.aneel.gov.br/aplicacoes/tarifa/arquivo/87 PCAT Ienergia 2019 V02.xlsx']\n"
     ]
    },
    {
     "name": "stderr",
     "output_type": "stream",
     "text": [
      "D:\\python_projects\\cpfl\\web_scrapper\\venv_scraper\\lib\\site-packages\\urllib3\\connectionpool.py:1043: InsecureRequestWarning: Unverified HTTPS request is being made to host 'www2.aneel.gov.br'. Adding certificate verification is strongly advised. See: https://urllib3.readthedocs.io/en/1.26.x/advanced-usage.html#ssl-warnings\n",
      "  warnings.warn(\n",
      "D:\\python_projects\\cpfl\\web_scrapper\\venv_scraper\\lib\\site-packages\\urllib3\\connectionpool.py:1043: InsecureRequestWarning: Unverified HTTPS request is being made to host 'www2.aneel.gov.br'. Adding certificate verification is strongly advised. See: https://urllib3.readthedocs.io/en/1.26.x/advanced-usage.html#ssl-warnings\n",
      "  warnings.warn(\n"
     ]
    },
    {
     "name": "stdout",
     "output_type": "stream",
     "text": [
      "Arquivo: \"PCAT_DCELT_2019-08-29_REAJUSTE_(87PCATIENERGIA2019V02).xlsx\" foi baixado com sucesso\n",
      "['PCAT_DCELT_2020-08-29_REAJUSTE_(87PCATIENERGIA2020V02).xlsx'\n",
      " 'https://www2.aneel.gov.br/aplicacoes/tarifa/arquivo/87 PCAT Ienergia 2020 V02.xlsx']\n",
      "Arquivo: \"PCAT_DCELT_2019-08-29_REAJUSTE_(87PCATIENERGIA2019V02).xlsx\" foi baixado com sucesso\n",
      "['PCAT_DCELT_2020-08-29_REAJUSTE_(87PCATIENERGIA2020V02).xlsx'\n",
      " 'https://www2.aneel.gov.br/aplicacoes/tarifa/arquivo/87 PCAT Ienergia 2020 V02.xlsx']\n"
     ]
    },
    {
     "name": "stderr",
     "output_type": "stream",
     "text": [
      "D:\\python_projects\\cpfl\\web_scrapper\\venv_scraper\\lib\\site-packages\\urllib3\\connectionpool.py:1043: InsecureRequestWarning: Unverified HTTPS request is being made to host 'www2.aneel.gov.br'. Adding certificate verification is strongly advised. See: https://urllib3.readthedocs.io/en/1.26.x/advanced-usage.html#ssl-warnings\n",
      "  warnings.warn(\n",
      "D:\\python_projects\\cpfl\\web_scrapper\\venv_scraper\\lib\\site-packages\\urllib3\\connectionpool.py:1043: InsecureRequestWarning: Unverified HTTPS request is being made to host 'www2.aneel.gov.br'. Adding certificate verification is strongly advised. See: https://urllib3.readthedocs.io/en/1.26.x/advanced-usage.html#ssl-warnings\n",
      "  warnings.warn(\n"
     ]
    },
    {
     "name": "stdout",
     "output_type": "stream",
     "text": [
      "Arquivo: \"PCAT_DCELT_2020-08-29_REAJUSTE_(87PCATIENERGIA2020V02).xlsx\" foi baixado com sucesso\n",
      "['PCAT_DCELT_2021-08-29_REVISAO_(87PCATIENERGIA2021V02).xlsx'\n",
      " 'https://www2.aneel.gov.br/aplicacoes/tarifa/arquivo/87 PCAT Ienergia 2021 V02.xlsx']\n",
      "Arquivo: \"PCAT_DCELT_2020-08-29_REAJUSTE_(87PCATIENERGIA2020V02).xlsx\" foi baixado com sucesso\n",
      "['PCAT_DCELT_2021-08-29_REVISAO_(87PCATIENERGIA2021V02).xlsx'\n",
      " 'https://www2.aneel.gov.br/aplicacoes/tarifa/arquivo/87 PCAT Ienergia 2021 V02.xlsx']\n"
     ]
    },
    {
     "name": "stderr",
     "output_type": "stream",
     "text": [
      "D:\\python_projects\\cpfl\\web_scrapper\\venv_scraper\\lib\\site-packages\\urllib3\\connectionpool.py:1043: InsecureRequestWarning: Unverified HTTPS request is being made to host 'www2.aneel.gov.br'. Adding certificate verification is strongly advised. See: https://urllib3.readthedocs.io/en/1.26.x/advanced-usage.html#ssl-warnings\n",
      "  warnings.warn(\n",
      "D:\\python_projects\\cpfl\\web_scrapper\\venv_scraper\\lib\\site-packages\\urllib3\\connectionpool.py:1043: InsecureRequestWarning: Unverified HTTPS request is being made to host 'www2.aneel.gov.br'. Adding certificate verification is strongly advised. See: https://urllib3.readthedocs.io/en/1.26.x/advanced-usage.html#ssl-warnings\n",
      "  warnings.warn(\n"
     ]
    },
    {
     "name": "stdout",
     "output_type": "stream",
     "text": [
      "Arquivo: \"PCAT_DCELT_2021-08-29_REVISAO_(87PCATIENERGIA2021V02).xlsx\" foi baixado com sucesso\n",
      "['PCAT_DEMEI_2014-06-24_REAJUSTE_(PCATDEMEI2014).xlsx'\n",
      " 'https://www2.aneel.gov.br/aplicacoes/tarifa/arquivo/PCAT_DEMEI_2014.xlsx']\n",
      "Arquivo: \"PCAT_DCELT_2021-08-29_REVISAO_(87PCATIENERGIA2021V02).xlsx\" foi baixado com sucesso\n",
      "['PCAT_DEMEI_2014-06-24_REAJUSTE_(PCATDEMEI2014).xlsx'\n",
      " 'https://www2.aneel.gov.br/aplicacoes/tarifa/arquivo/PCAT_DEMEI_2014.xlsx']\n"
     ]
    },
    {
     "name": "stderr",
     "output_type": "stream",
     "text": [
      "D:\\python_projects\\cpfl\\web_scrapper\\venv_scraper\\lib\\site-packages\\urllib3\\connectionpool.py:1043: InsecureRequestWarning: Unverified HTTPS request is being made to host 'www2.aneel.gov.br'. Adding certificate verification is strongly advised. See: https://urllib3.readthedocs.io/en/1.26.x/advanced-usage.html#ssl-warnings\n",
      "  warnings.warn(\n",
      "D:\\python_projects\\cpfl\\web_scrapper\\venv_scraper\\lib\\site-packages\\urllib3\\connectionpool.py:1043: InsecureRequestWarning: Unverified HTTPS request is being made to host 'www2.aneel.gov.br'. Adding certificate verification is strongly advised. See: https://urllib3.readthedocs.io/en/1.26.x/advanced-usage.html#ssl-warnings\n",
      "  warnings.warn(\n"
     ]
    },
    {
     "name": "stdout",
     "output_type": "stream",
     "text": [
      "Arquivo: \"PCAT_DEMEI_2014-06-24_REAJUSTE_(PCATDEMEI2014).xlsx\" foi baixado com sucesso\n",
      "['PCAT_DEMEI_2015-06-29_REAJUSTE_(PCATDEMEI2015).xlsx'\n",
      " 'https://www2.aneel.gov.br/aplicacoes/tarifa/arquivo/PCAT_Demei_2015.xlsx']\n",
      "Arquivo: \"PCAT_DEMEI_2014-06-24_REAJUSTE_(PCATDEMEI2014).xlsx\" foi baixado com sucesso\n",
      "['PCAT_DEMEI_2015-06-29_REAJUSTE_(PCATDEMEI2015).xlsx'\n",
      " 'https://www2.aneel.gov.br/aplicacoes/tarifa/arquivo/PCAT_Demei_2015.xlsx']\n"
     ]
    },
    {
     "name": "stderr",
     "output_type": "stream",
     "text": [
      "D:\\python_projects\\cpfl\\web_scrapper\\venv_scraper\\lib\\site-packages\\urllib3\\connectionpool.py:1043: InsecureRequestWarning: Unverified HTTPS request is being made to host 'www2.aneel.gov.br'. Adding certificate verification is strongly advised. See: https://urllib3.readthedocs.io/en/1.26.x/advanced-usage.html#ssl-warnings\n",
      "  warnings.warn(\n",
      "D:\\python_projects\\cpfl\\web_scrapper\\venv_scraper\\lib\\site-packages\\urllib3\\connectionpool.py:1043: InsecureRequestWarning: Unverified HTTPS request is being made to host 'www2.aneel.gov.br'. Adding certificate verification is strongly advised. See: https://urllib3.readthedocs.io/en/1.26.x/advanced-usage.html#ssl-warnings\n",
      "  warnings.warn(\n"
     ]
    },
    {
     "name": "stdout",
     "output_type": "stream",
     "text": [
      "Arquivo: \"PCAT_DEMEI_2015-06-29_REAJUSTE_(PCATDEMEI2015).xlsx\" foi baixado com sucesso\n",
      "['PCAT_DEMEI_2015-03-02_REVISAOEXTRAORDINARIA_(PCATDEMEI2014V00).xlsx'\n",
      " 'https://www2.aneel.gov.br/aplicacoes/tarifa/arquivo/PCAT_DEMEI_2014_V00.xlsx']\n",
      "Arquivo: \"PCAT_DEMEI_2015-06-29_REAJUSTE_(PCATDEMEI2015).xlsx\" foi baixado com sucesso\n",
      "['PCAT_DEMEI_2015-03-02_REVISAOEXTRAORDINARIA_(PCATDEMEI2014V00).xlsx'\n",
      " 'https://www2.aneel.gov.br/aplicacoes/tarifa/arquivo/PCAT_DEMEI_2014_V00.xlsx']\n"
     ]
    },
    {
     "name": "stderr",
     "output_type": "stream",
     "text": [
      "D:\\python_projects\\cpfl\\web_scrapper\\venv_scraper\\lib\\site-packages\\urllib3\\connectionpool.py:1043: InsecureRequestWarning: Unverified HTTPS request is being made to host 'www2.aneel.gov.br'. Adding certificate verification is strongly advised. See: https://urllib3.readthedocs.io/en/1.26.x/advanced-usage.html#ssl-warnings\n",
      "  warnings.warn(\n",
      "D:\\python_projects\\cpfl\\web_scrapper\\venv_scraper\\lib\\site-packages\\urllib3\\connectionpool.py:1043: InsecureRequestWarning: Unverified HTTPS request is being made to host 'www2.aneel.gov.br'. Adding certificate verification is strongly advised. See: https://urllib3.readthedocs.io/en/1.26.x/advanced-usage.html#ssl-warnings\n",
      "  warnings.warn(\n"
     ]
    },
    {
     "name": "stdout",
     "output_type": "stream",
     "text": [
      "Arquivo: \"PCAT_DEMEI_2015-03-02_REVISAOEXTRAORDINARIA_(PCATDEMEI2014V00).xlsx\" foi baixado com sucesso\n",
      "['PCAT_DEMEI_2016-07-22_REAJUSTE_(PCATDEMEI2016).xlsx'\n",
      " 'https://www2.aneel.gov.br/aplicacoes/tarifa/arquivo/PCAT_Demei_2016.xlsx']\n",
      "Arquivo: \"PCAT_DEMEI_2015-03-02_REVISAOEXTRAORDINARIA_(PCATDEMEI2014V00).xlsx\" foi baixado com sucesso\n",
      "['PCAT_DEMEI_2016-07-22_REAJUSTE_(PCATDEMEI2016).xlsx'\n",
      " 'https://www2.aneel.gov.br/aplicacoes/tarifa/arquivo/PCAT_Demei_2016.xlsx']\n"
     ]
    },
    {
     "name": "stderr",
     "output_type": "stream",
     "text": [
      "D:\\python_projects\\cpfl\\web_scrapper\\venv_scraper\\lib\\site-packages\\urllib3\\connectionpool.py:1043: InsecureRequestWarning: Unverified HTTPS request is being made to host 'www2.aneel.gov.br'. Adding certificate verification is strongly advised. See: https://urllib3.readthedocs.io/en/1.26.x/advanced-usage.html#ssl-warnings\n",
      "  warnings.warn(\n",
      "D:\\python_projects\\cpfl\\web_scrapper\\venv_scraper\\lib\\site-packages\\urllib3\\connectionpool.py:1043: InsecureRequestWarning: Unverified HTTPS request is being made to host 'www2.aneel.gov.br'. Adding certificate verification is strongly advised. See: https://urllib3.readthedocs.io/en/1.26.x/advanced-usage.html#ssl-warnings\n",
      "  warnings.warn(\n"
     ]
    },
    {
     "name": "stdout",
     "output_type": "stream",
     "text": [
      "Arquivo: \"PCAT_DEMEI_2016-07-22_REAJUSTE_(PCATDEMEI2016).xlsx\" foi baixado com sucesso\n",
      "['PCAT_DEMEI_2017-07-22_REVISAO_(PCATDEMEI2017).xlsx'\n",
      " 'https://www2.aneel.gov.br/aplicacoes/tarifa/arquivo/PCAT_Demei_2017.xlsx']\n",
      "Arquivo: \"PCAT_DEMEI_2016-07-22_REAJUSTE_(PCATDEMEI2016).xlsx\" foi baixado com sucesso\n",
      "['PCAT_DEMEI_2017-07-22_REVISAO_(PCATDEMEI2017).xlsx'\n",
      " 'https://www2.aneel.gov.br/aplicacoes/tarifa/arquivo/PCAT_Demei_2017.xlsx']\n"
     ]
    },
    {
     "name": "stderr",
     "output_type": "stream",
     "text": [
      "D:\\python_projects\\cpfl\\web_scrapper\\venv_scraper\\lib\\site-packages\\urllib3\\connectionpool.py:1043: InsecureRequestWarning: Unverified HTTPS request is being made to host 'www2.aneel.gov.br'. Adding certificate verification is strongly advised. See: https://urllib3.readthedocs.io/en/1.26.x/advanced-usage.html#ssl-warnings\n",
      "  warnings.warn(\n",
      "D:\\python_projects\\cpfl\\web_scrapper\\venv_scraper\\lib\\site-packages\\urllib3\\connectionpool.py:1043: InsecureRequestWarning: Unverified HTTPS request is being made to host 'www2.aneel.gov.br'. Adding certificate verification is strongly advised. See: https://urllib3.readthedocs.io/en/1.26.x/advanced-usage.html#ssl-warnings\n",
      "  warnings.warn(\n"
     ]
    },
    {
     "name": "stdout",
     "output_type": "stream",
     "text": [
      "Arquivo: \"PCAT_DEMEI_2017-07-22_REVISAO_(PCATDEMEI2017).xlsx\" foi baixado com sucesso\n",
      "['PCAT_DEMEI_2018-07-22_REAJUSTE_(PCATDEMEI2018).xlsx'\n",
      " 'https://www2.aneel.gov.br/aplicacoes/tarifa/arquivo/PCAT_Demei_2018.xlsx']\n",
      "Arquivo: \"PCAT_DEMEI_2017-07-22_REVISAO_(PCATDEMEI2017).xlsx\" foi baixado com sucesso\n",
      "['PCAT_DEMEI_2018-07-22_REAJUSTE_(PCATDEMEI2018).xlsx'\n",
      " 'https://www2.aneel.gov.br/aplicacoes/tarifa/arquivo/PCAT_Demei_2018.xlsx']\n"
     ]
    },
    {
     "name": "stderr",
     "output_type": "stream",
     "text": [
      "D:\\python_projects\\cpfl\\web_scrapper\\venv_scraper\\lib\\site-packages\\urllib3\\connectionpool.py:1043: InsecureRequestWarning: Unverified HTTPS request is being made to host 'www2.aneel.gov.br'. Adding certificate verification is strongly advised. See: https://urllib3.readthedocs.io/en/1.26.x/advanced-usage.html#ssl-warnings\n",
      "  warnings.warn(\n",
      "D:\\python_projects\\cpfl\\web_scrapper\\venv_scraper\\lib\\site-packages\\urllib3\\connectionpool.py:1043: InsecureRequestWarning: Unverified HTTPS request is being made to host 'www2.aneel.gov.br'. Adding certificate verification is strongly advised. See: https://urllib3.readthedocs.io/en/1.26.x/advanced-usage.html#ssl-warnings\n",
      "  warnings.warn(\n"
     ]
    },
    {
     "name": "stdout",
     "output_type": "stream",
     "text": [
      "Arquivo: \"PCAT_DEMEI_2018-07-22_REAJUSTE_(PCATDEMEI2018).xlsx\" foi baixado com sucesso\n",
      "['PCAT_DEMEI_2019-07-22_REAJUSTE_(95PCATDEMEI2019V02).xlsx'\n",
      " 'https://www2.aneel.gov.br/aplicacoes/tarifa/arquivo/95 PCAT Demei 2019 V02.xlsx']\n",
      "Arquivo: \"PCAT_DEMEI_2018-07-22_REAJUSTE_(PCATDEMEI2018).xlsx\" foi baixado com sucesso\n",
      "['PCAT_DEMEI_2019-07-22_REAJUSTE_(95PCATDEMEI2019V02).xlsx'\n",
      " 'https://www2.aneel.gov.br/aplicacoes/tarifa/arquivo/95 PCAT Demei 2019 V02.xlsx']\n"
     ]
    },
    {
     "name": "stderr",
     "output_type": "stream",
     "text": [
      "D:\\python_projects\\cpfl\\web_scrapper\\venv_scraper\\lib\\site-packages\\urllib3\\connectionpool.py:1043: InsecureRequestWarning: Unverified HTTPS request is being made to host 'www2.aneel.gov.br'. Adding certificate verification is strongly advised. See: https://urllib3.readthedocs.io/en/1.26.x/advanced-usage.html#ssl-warnings\n",
      "  warnings.warn(\n",
      "D:\\python_projects\\cpfl\\web_scrapper\\venv_scraper\\lib\\site-packages\\urllib3\\connectionpool.py:1043: InsecureRequestWarning: Unverified HTTPS request is being made to host 'www2.aneel.gov.br'. Adding certificate verification is strongly advised. See: https://urllib3.readthedocs.io/en/1.26.x/advanced-usage.html#ssl-warnings\n",
      "  warnings.warn(\n"
     ]
    },
    {
     "name": "stdout",
     "output_type": "stream",
     "text": [
      "Arquivo: \"PCAT_DEMEI_2019-07-22_REAJUSTE_(95PCATDEMEI2019V02).xlsx\" foi baixado com sucesso\n",
      "['PCAT_DEMEI_2020-07-22_REAJUSTE_(95PCATDEMEI2020V02).xlsx'\n",
      " 'https://www2.aneel.gov.br/aplicacoes/tarifa/arquivo/95 PCAT Demei 2020 V02.xlsx']\n",
      "Arquivo: \"PCAT_DEMEI_2019-07-22_REAJUSTE_(95PCATDEMEI2019V02).xlsx\" foi baixado com sucesso\n",
      "['PCAT_DEMEI_2020-07-22_REAJUSTE_(95PCATDEMEI2020V02).xlsx'\n",
      " 'https://www2.aneel.gov.br/aplicacoes/tarifa/arquivo/95 PCAT Demei 2020 V02.xlsx']\n"
     ]
    },
    {
     "name": "stderr",
     "output_type": "stream",
     "text": [
      "D:\\python_projects\\cpfl\\web_scrapper\\venv_scraper\\lib\\site-packages\\urllib3\\connectionpool.py:1043: InsecureRequestWarning: Unverified HTTPS request is being made to host 'www2.aneel.gov.br'. Adding certificate verification is strongly advised. See: https://urllib3.readthedocs.io/en/1.26.x/advanced-usage.html#ssl-warnings\n",
      "  warnings.warn(\n",
      "D:\\python_projects\\cpfl\\web_scrapper\\venv_scraper\\lib\\site-packages\\urllib3\\connectionpool.py:1043: InsecureRequestWarning: Unverified HTTPS request is being made to host 'www2.aneel.gov.br'. Adding certificate verification is strongly advised. See: https://urllib3.readthedocs.io/en/1.26.x/advanced-usage.html#ssl-warnings\n",
      "  warnings.warn(\n"
     ]
    },
    {
     "name": "stdout",
     "output_type": "stream",
     "text": [
      "Arquivo: \"PCAT_DEMEI_2020-07-22_REAJUSTE_(95PCATDEMEI2020V02).xlsx\" foi baixado com sucesso\n",
      "['PCAT_DEMEI_2021-07-22_REAJUSTE_(95PCATDEMEI2021V02).xlsx'\n",
      " 'https://www2.aneel.gov.br/aplicacoes/tarifa/arquivo/95 PCAT Demei 2021 V02.xlsx']\n",
      "Arquivo: \"PCAT_DEMEI_2020-07-22_REAJUSTE_(95PCATDEMEI2020V02).xlsx\" foi baixado com sucesso\n",
      "['PCAT_DEMEI_2021-07-22_REAJUSTE_(95PCATDEMEI2021V02).xlsx'\n",
      " 'https://www2.aneel.gov.br/aplicacoes/tarifa/arquivo/95 PCAT Demei 2021 V02.xlsx']\n"
     ]
    },
    {
     "name": "stderr",
     "output_type": "stream",
     "text": [
      "D:\\python_projects\\cpfl\\web_scrapper\\venv_scraper\\lib\\site-packages\\urllib3\\connectionpool.py:1043: InsecureRequestWarning: Unverified HTTPS request is being made to host 'www2.aneel.gov.br'. Adding certificate verification is strongly advised. See: https://urllib3.readthedocs.io/en/1.26.x/advanced-usage.html#ssl-warnings\n",
      "  warnings.warn(\n",
      "D:\\python_projects\\cpfl\\web_scrapper\\venv_scraper\\lib\\site-packages\\urllib3\\connectionpool.py:1043: InsecureRequestWarning: Unverified HTTPS request is being made to host 'www2.aneel.gov.br'. Adding certificate verification is strongly advised. See: https://urllib3.readthedocs.io/en/1.26.x/advanced-usage.html#ssl-warnings\n",
      "  warnings.warn(\n"
     ]
    },
    {
     "name": "stdout",
     "output_type": "stream",
     "text": [
      "Arquivo: \"PCAT_DEMEI_2021-07-22_REAJUSTE_(95PCATDEMEI2021V02).xlsx\" foi baixado com sucesso\n",
      "['PCAT_DMED_2015-10-30_REVISAO_(PCATDEMED22015).xlsx'\n",
      " 'https://www2.aneel.gov.br/aplicacoes/tarifa/arquivo/PCAT_DEMED2_2015.xlsx']\n",
      "Arquivo: \"PCAT_DEMEI_2021-07-22_REAJUSTE_(95PCATDEMEI2021V02).xlsx\" foi baixado com sucesso\n",
      "['PCAT_DMED_2015-10-30_REVISAO_(PCATDEMED22015).xlsx'\n",
      " 'https://www2.aneel.gov.br/aplicacoes/tarifa/arquivo/PCAT_DEMED2_2015.xlsx']\n"
     ]
    },
    {
     "name": "stderr",
     "output_type": "stream",
     "text": [
      "D:\\python_projects\\cpfl\\web_scrapper\\venv_scraper\\lib\\site-packages\\urllib3\\connectionpool.py:1043: InsecureRequestWarning: Unverified HTTPS request is being made to host 'www2.aneel.gov.br'. Adding certificate verification is strongly advised. See: https://urllib3.readthedocs.io/en/1.26.x/advanced-usage.html#ssl-warnings\n",
      "  warnings.warn(\n",
      "D:\\python_projects\\cpfl\\web_scrapper\\venv_scraper\\lib\\site-packages\\urllib3\\connectionpool.py:1043: InsecureRequestWarning: Unverified HTTPS request is being made to host 'www2.aneel.gov.br'. Adding certificate verification is strongly advised. See: https://urllib3.readthedocs.io/en/1.26.x/advanced-usage.html#ssl-warnings\n",
      "  warnings.warn(\n"
     ]
    },
    {
     "name": "stdout",
     "output_type": "stream",
     "text": [
      "Arquivo: \"PCAT_DMED_2015-10-30_REVISAO_(PCATDEMED22015).xlsx\" foi baixado com sucesso\n",
      "['PCAT_DMED_2015-03-02_REVISAOEXTRAORDINARIA_(PCATDMEPC2014CAT).xlsx'\n",
      " 'https://www2.aneel.gov.br/aplicacoes/tarifa/arquivo/PCAT_DMEPC_2014_CAT.xlsx']\n",
      "Arquivo: \"PCAT_DMED_2015-10-30_REVISAO_(PCATDEMED22015).xlsx\" foi baixado com sucesso\n",
      "['PCAT_DMED_2015-03-02_REVISAOEXTRAORDINARIA_(PCATDMEPC2014CAT).xlsx'\n",
      " 'https://www2.aneel.gov.br/aplicacoes/tarifa/arquivo/PCAT_DMEPC_2014_CAT.xlsx']\n"
     ]
    },
    {
     "name": "stderr",
     "output_type": "stream",
     "text": [
      "D:\\python_projects\\cpfl\\web_scrapper\\venv_scraper\\lib\\site-packages\\urllib3\\connectionpool.py:1043: InsecureRequestWarning: Unverified HTTPS request is being made to host 'www2.aneel.gov.br'. Adding certificate verification is strongly advised. See: https://urllib3.readthedocs.io/en/1.26.x/advanced-usage.html#ssl-warnings\n",
      "  warnings.warn(\n",
      "D:\\python_projects\\cpfl\\web_scrapper\\venv_scraper\\lib\\site-packages\\urllib3\\connectionpool.py:1043: InsecureRequestWarning: Unverified HTTPS request is being made to host 'www2.aneel.gov.br'. Adding certificate verification is strongly advised. See: https://urllib3.readthedocs.io/en/1.26.x/advanced-usage.html#ssl-warnings\n",
      "  warnings.warn(\n"
     ]
    },
    {
     "name": "stdout",
     "output_type": "stream",
     "text": [
      "Arquivo: \"PCAT_DMED_2015-03-02_REVISAOEXTRAORDINARIA_(PCATDMEPC2014CAT).xlsx\" foi baixado com sucesso\n",
      "['PCAT_DMED_2016-11-22_REAJUSTE_(PCATDMED2016).xlsx'\n",
      " 'https://www2.aneel.gov.br/aplicacoes/tarifa/arquivo/PCAT_DMED_2016.xlsx']\n",
      "Arquivo: \"PCAT_DMED_2015-03-02_REVISAOEXTRAORDINARIA_(PCATDMEPC2014CAT).xlsx\" foi baixado com sucesso\n",
      "['PCAT_DMED_2016-11-22_REAJUSTE_(PCATDMED2016).xlsx'\n",
      " 'https://www2.aneel.gov.br/aplicacoes/tarifa/arquivo/PCAT_DMED_2016.xlsx']\n"
     ]
    },
    {
     "name": "stderr",
     "output_type": "stream",
     "text": [
      "D:\\python_projects\\cpfl\\web_scrapper\\venv_scraper\\lib\\site-packages\\urllib3\\connectionpool.py:1043: InsecureRequestWarning: Unverified HTTPS request is being made to host 'www2.aneel.gov.br'. Adding certificate verification is strongly advised. See: https://urllib3.readthedocs.io/en/1.26.x/advanced-usage.html#ssl-warnings\n",
      "  warnings.warn(\n",
      "D:\\python_projects\\cpfl\\web_scrapper\\venv_scraper\\lib\\site-packages\\urllib3\\connectionpool.py:1043: InsecureRequestWarning: Unverified HTTPS request is being made to host 'www2.aneel.gov.br'. Adding certificate verification is strongly advised. See: https://urllib3.readthedocs.io/en/1.26.x/advanced-usage.html#ssl-warnings\n",
      "  warnings.warn(\n"
     ]
    },
    {
     "name": "stdout",
     "output_type": "stream",
     "text": [
      "Arquivo: \"PCAT_DMED_2016-11-22_REAJUSTE_(PCATDMED2016).xlsx\" foi baixado com sucesso\n",
      "['PCAT_DMED_2017-11-22_REAJUSTE_(PCATDMED2017).xlsx'\n",
      " 'https://www2.aneel.gov.br/aplicacoes/tarifa/arquivo/PCAT_DMED_2017.xlsx']\n",
      "Arquivo: \"PCAT_DMED_2016-11-22_REAJUSTE_(PCATDMED2016).xlsx\" foi baixado com sucesso\n",
      "['PCAT_DMED_2017-11-22_REAJUSTE_(PCATDMED2017).xlsx'\n",
      " 'https://www2.aneel.gov.br/aplicacoes/tarifa/arquivo/PCAT_DMED_2017.xlsx']\n"
     ]
    },
    {
     "name": "stderr",
     "output_type": "stream",
     "text": [
      "D:\\python_projects\\cpfl\\web_scrapper\\venv_scraper\\lib\\site-packages\\urllib3\\connectionpool.py:1043: InsecureRequestWarning: Unverified HTTPS request is being made to host 'www2.aneel.gov.br'. Adding certificate verification is strongly advised. See: https://urllib3.readthedocs.io/en/1.26.x/advanced-usage.html#ssl-warnings\n",
      "  warnings.warn(\n",
      "D:\\python_projects\\cpfl\\web_scrapper\\venv_scraper\\lib\\site-packages\\urllib3\\connectionpool.py:1043: InsecureRequestWarning: Unverified HTTPS request is being made to host 'www2.aneel.gov.br'. Adding certificate verification is strongly advised. See: https://urllib3.readthedocs.io/en/1.26.x/advanced-usage.html#ssl-warnings\n",
      "  warnings.warn(\n"
     ]
    },
    {
     "name": "stdout",
     "output_type": "stream",
     "text": [
      "Arquivo: \"PCAT_DMED_2017-11-22_REAJUSTE_(PCATDMED2017).xlsx\" foi baixado com sucesso\n",
      "['PCAT_DMED_2018-11-22_REAJUSTE_(51PCATDMED2018V02).xlsx'\n",
      " 'https://www2.aneel.gov.br/aplicacoes/tarifa/arquivo/51 PCAT DMED 2018 V02.xlsx']\n",
      "Arquivo: \"PCAT_DMED_2017-11-22_REAJUSTE_(PCATDMED2017).xlsx\" foi baixado com sucesso\n",
      "['PCAT_DMED_2018-11-22_REAJUSTE_(51PCATDMED2018V02).xlsx'\n",
      " 'https://www2.aneel.gov.br/aplicacoes/tarifa/arquivo/51 PCAT DMED 2018 V02.xlsx']\n"
     ]
    },
    {
     "name": "stderr",
     "output_type": "stream",
     "text": [
      "D:\\python_projects\\cpfl\\web_scrapper\\venv_scraper\\lib\\site-packages\\urllib3\\connectionpool.py:1043: InsecureRequestWarning: Unverified HTTPS request is being made to host 'www2.aneel.gov.br'. Adding certificate verification is strongly advised. See: https://urllib3.readthedocs.io/en/1.26.x/advanced-usage.html#ssl-warnings\n",
      "  warnings.warn(\n",
      "D:\\python_projects\\cpfl\\web_scrapper\\venv_scraper\\lib\\site-packages\\urllib3\\connectionpool.py:1043: InsecureRequestWarning: Unverified HTTPS request is being made to host 'www2.aneel.gov.br'. Adding certificate verification is strongly advised. See: https://urllib3.readthedocs.io/en/1.26.x/advanced-usage.html#ssl-warnings\n",
      "  warnings.warn(\n"
     ]
    },
    {
     "name": "stdout",
     "output_type": "stream",
     "text": [
      "Arquivo: \"PCAT_DMED_2018-11-22_REAJUSTE_(51PCATDMED2018V02).xlsx\" foi baixado com sucesso\n",
      "['PCAT_DMED_2019-11-22_REAJUSTE_(51PCATDMED2019V02).xlsx'\n",
      " 'https://www2.aneel.gov.br/aplicacoes/tarifa/arquivo/51 PCAT DMED 2019 V02.xlsx']\n",
      "Arquivo: \"PCAT_DMED_2018-11-22_REAJUSTE_(51PCATDMED2018V02).xlsx\" foi baixado com sucesso\n",
      "['PCAT_DMED_2019-11-22_REAJUSTE_(51PCATDMED2019V02).xlsx'\n",
      " 'https://www2.aneel.gov.br/aplicacoes/tarifa/arquivo/51 PCAT DMED 2019 V02.xlsx']\n"
     ]
    },
    {
     "name": "stderr",
     "output_type": "stream",
     "text": [
      "D:\\python_projects\\cpfl\\web_scrapper\\venv_scraper\\lib\\site-packages\\urllib3\\connectionpool.py:1043: InsecureRequestWarning: Unverified HTTPS request is being made to host 'www2.aneel.gov.br'. Adding certificate verification is strongly advised. See: https://urllib3.readthedocs.io/en/1.26.x/advanced-usage.html#ssl-warnings\n",
      "  warnings.warn(\n",
      "D:\\python_projects\\cpfl\\web_scrapper\\venv_scraper\\lib\\site-packages\\urllib3\\connectionpool.py:1043: InsecureRequestWarning: Unverified HTTPS request is being made to host 'www2.aneel.gov.br'. Adding certificate verification is strongly advised. See: https://urllib3.readthedocs.io/en/1.26.x/advanced-usage.html#ssl-warnings\n",
      "  warnings.warn(\n"
     ]
    },
    {
     "name": "stdout",
     "output_type": "stream",
     "text": [
      "Arquivo: \"PCAT_DMED_2019-11-22_REAJUSTE_(51PCATDMED2019V02).xlsx\" foi baixado com sucesso\n",
      "['PCAT_DMED_2020-11-22_REVISAO_(51PCATDMED20201).xlsx'\n",
      " 'https://www2.aneel.gov.br/aplicacoes/tarifa/arquivo/51_PCAT_DMED_20201.xlsx']\n",
      "Arquivo: \"PCAT_DMED_2019-11-22_REAJUSTE_(51PCATDMED2019V02).xlsx\" foi baixado com sucesso\n",
      "['PCAT_DMED_2020-11-22_REVISAO_(51PCATDMED20201).xlsx'\n",
      " 'https://www2.aneel.gov.br/aplicacoes/tarifa/arquivo/51_PCAT_DMED_20201.xlsx']\n"
     ]
    },
    {
     "name": "stderr",
     "output_type": "stream",
     "text": [
      "D:\\python_projects\\cpfl\\web_scrapper\\venv_scraper\\lib\\site-packages\\urllib3\\connectionpool.py:1043: InsecureRequestWarning: Unverified HTTPS request is being made to host 'www2.aneel.gov.br'. Adding certificate verification is strongly advised. See: https://urllib3.readthedocs.io/en/1.26.x/advanced-usage.html#ssl-warnings\n",
      "  warnings.warn(\n",
      "D:\\python_projects\\cpfl\\web_scrapper\\venv_scraper\\lib\\site-packages\\urllib3\\connectionpool.py:1043: InsecureRequestWarning: Unverified HTTPS request is being made to host 'www2.aneel.gov.br'. Adding certificate verification is strongly advised. See: https://urllib3.readthedocs.io/en/1.26.x/advanced-usage.html#ssl-warnings\n",
      "  warnings.warn(\n"
     ]
    },
    {
     "name": "stdout",
     "output_type": "stream",
     "text": [
      "Arquivo: \"PCAT_DMED_2020-11-22_REVISAO_(51PCATDMED20201).xlsx\" foi baixado com sucesso\n",
      "['PCAT_EBO_2013-02-04_REVISAO_(PCATINTERNETEBO3CRTP2013).xlsx'\n",
      " 'https://www2.aneel.gov.br/aplicacoes/tarifa/arquivo/PCAT Internet - EBO 3CRTP - 2013.xlsx']\n",
      "Arquivo: \"PCAT_DMED_2020-11-22_REVISAO_(51PCATDMED20201).xlsx\" foi baixado com sucesso\n",
      "['PCAT_EBO_2013-02-04_REVISAO_(PCATINTERNETEBO3CRTP2013).xlsx'\n",
      " 'https://www2.aneel.gov.br/aplicacoes/tarifa/arquivo/PCAT Internet - EBO 3CRTP - 2013.xlsx']\n"
     ]
    },
    {
     "name": "stderr",
     "output_type": "stream",
     "text": [
      "D:\\python_projects\\cpfl\\web_scrapper\\venv_scraper\\lib\\site-packages\\urllib3\\connectionpool.py:1043: InsecureRequestWarning: Unverified HTTPS request is being made to host 'www2.aneel.gov.br'. Adding certificate verification is strongly advised. See: https://urllib3.readthedocs.io/en/1.26.x/advanced-usage.html#ssl-warnings\n",
      "  warnings.warn(\n",
      "D:\\python_projects\\cpfl\\web_scrapper\\venv_scraper\\lib\\site-packages\\urllib3\\connectionpool.py:1043: InsecureRequestWarning: Unverified HTTPS request is being made to host 'www2.aneel.gov.br'. Adding certificate verification is strongly advised. See: https://urllib3.readthedocs.io/en/1.26.x/advanced-usage.html#ssl-warnings\n",
      "  warnings.warn(\n"
     ]
    },
    {
     "name": "stdout",
     "output_type": "stream",
     "text": [
      "Arquivo: \"PCAT_EBO_2013-02-04_REVISAO_(PCATINTERNETEBO3CRTP2013).xlsx\" foi baixado com sucesso\n",
      "['PCAT_EBO_2014-02-04_REAJUSTE_(PCATEBO2014).xlsx'\n",
      " 'https://www2.aneel.gov.br/aplicacoes/tarifa/arquivo/PCAT_EBO_2014.xlsx']\n",
      "Arquivo: \"PCAT_EBO_2013-02-04_REVISAO_(PCATINTERNETEBO3CRTP2013).xlsx\" foi baixado com sucesso\n",
      "['PCAT_EBO_2014-02-04_REAJUSTE_(PCATEBO2014).xlsx'\n",
      " 'https://www2.aneel.gov.br/aplicacoes/tarifa/arquivo/PCAT_EBO_2014.xlsx']\n"
     ]
    },
    {
     "name": "stderr",
     "output_type": "stream",
     "text": [
      "D:\\python_projects\\cpfl\\web_scrapper\\venv_scraper\\lib\\site-packages\\urllib3\\connectionpool.py:1043: InsecureRequestWarning: Unverified HTTPS request is being made to host 'www2.aneel.gov.br'. Adding certificate verification is strongly advised. See: https://urllib3.readthedocs.io/en/1.26.x/advanced-usage.html#ssl-warnings\n",
      "  warnings.warn(\n",
      "D:\\python_projects\\cpfl\\web_scrapper\\venv_scraper\\lib\\site-packages\\urllib3\\connectionpool.py:1043: InsecureRequestWarning: Unverified HTTPS request is being made to host 'www2.aneel.gov.br'. Adding certificate verification is strongly advised. See: https://urllib3.readthedocs.io/en/1.26.x/advanced-usage.html#ssl-warnings\n",
      "  warnings.warn(\n"
     ]
    },
    {
     "name": "stdout",
     "output_type": "stream",
     "text": [
      "Arquivo: \"PCAT_EBO_2014-02-04_REAJUSTE_(PCATEBO2014).xlsx\" foi baixado com sucesso\n",
      "['PCAT_EBO_2015-03-02_REVISAOEXTRAORDINARIA_(PCATEBO20151).xlsx'\n",
      " 'https://www2.aneel.gov.br/aplicacoes/tarifa/arquivo/PCAT_EBO_20151.xlsx']\n",
      "Arquivo: \"PCAT_EBO_2014-02-04_REAJUSTE_(PCATEBO2014).xlsx\" foi baixado com sucesso\n",
      "['PCAT_EBO_2015-03-02_REVISAOEXTRAORDINARIA_(PCATEBO20151).xlsx'\n",
      " 'https://www2.aneel.gov.br/aplicacoes/tarifa/arquivo/PCAT_EBO_20151.xlsx']\n"
     ]
    },
    {
     "name": "stderr",
     "output_type": "stream",
     "text": [
      "D:\\python_projects\\cpfl\\web_scrapper\\venv_scraper\\lib\\site-packages\\urllib3\\connectionpool.py:1043: InsecureRequestWarning: Unverified HTTPS request is being made to host 'www2.aneel.gov.br'. Adding certificate verification is strongly advised. See: https://urllib3.readthedocs.io/en/1.26.x/advanced-usage.html#ssl-warnings\n",
      "  warnings.warn(\n",
      "D:\\python_projects\\cpfl\\web_scrapper\\venv_scraper\\lib\\site-packages\\urllib3\\connectionpool.py:1043: InsecureRequestWarning: Unverified HTTPS request is being made to host 'www2.aneel.gov.br'. Adding certificate verification is strongly advised. See: https://urllib3.readthedocs.io/en/1.26.x/advanced-usage.html#ssl-warnings\n",
      "  warnings.warn(\n"
     ]
    },
    {
     "name": "stdout",
     "output_type": "stream",
     "text": [
      "Arquivo: \"PCAT_EBO_2015-03-02_REVISAOEXTRAORDINARIA_(PCATEBO20151).xlsx\" foi baixado com sucesso\n",
      "['PCAT_EBO_2015-02-04_REAJUSTE_(PCATEBO2015).xlsx'\n",
      " 'https://www2.aneel.gov.br/aplicacoes/tarifa/arquivo/PCAT_EBO_2015.xlsx']\n",
      "Arquivo: \"PCAT_EBO_2015-03-02_REVISAOEXTRAORDINARIA_(PCATEBO20151).xlsx\" foi baixado com sucesso\n",
      "['PCAT_EBO_2015-02-04_REAJUSTE_(PCATEBO2015).xlsx'\n",
      " 'https://www2.aneel.gov.br/aplicacoes/tarifa/arquivo/PCAT_EBO_2015.xlsx']\n"
     ]
    },
    {
     "name": "stderr",
     "output_type": "stream",
     "text": [
      "D:\\python_projects\\cpfl\\web_scrapper\\venv_scraper\\lib\\site-packages\\urllib3\\connectionpool.py:1043: InsecureRequestWarning: Unverified HTTPS request is being made to host 'www2.aneel.gov.br'. Adding certificate verification is strongly advised. See: https://urllib3.readthedocs.io/en/1.26.x/advanced-usage.html#ssl-warnings\n",
      "  warnings.warn(\n",
      "D:\\python_projects\\cpfl\\web_scrapper\\venv_scraper\\lib\\site-packages\\urllib3\\connectionpool.py:1043: InsecureRequestWarning: Unverified HTTPS request is being made to host 'www2.aneel.gov.br'. Adding certificate verification is strongly advised. See: https://urllib3.readthedocs.io/en/1.26.x/advanced-usage.html#ssl-warnings\n",
      "  warnings.warn(\n"
     ]
    },
    {
     "name": "stdout",
     "output_type": "stream",
     "text": [
      "Arquivo: \"PCAT_EBO_2015-02-04_REAJUSTE_(PCATEBO2015).xlsx\" foi baixado com sucesso\n",
      "['PCAT_EBO_2016-02-02_REAJUSTE_(PCATEBO2016V02).xlsx'\n",
      " 'https://www2.aneel.gov.br/aplicacoes/tarifa/arquivo/PCAT_EBO_2016_V02.xlsx']\n",
      "Arquivo: \"PCAT_EBO_2015-02-04_REAJUSTE_(PCATEBO2015).xlsx\" foi baixado com sucesso\n",
      "['PCAT_EBO_2016-02-02_REAJUSTE_(PCATEBO2016V02).xlsx'\n",
      " 'https://www2.aneel.gov.br/aplicacoes/tarifa/arquivo/PCAT_EBO_2016_V02.xlsx']\n"
     ]
    },
    {
     "name": "stderr",
     "output_type": "stream",
     "text": [
      "D:\\python_projects\\cpfl\\web_scrapper\\venv_scraper\\lib\\site-packages\\urllib3\\connectionpool.py:1043: InsecureRequestWarning: Unverified HTTPS request is being made to host 'www2.aneel.gov.br'. Adding certificate verification is strongly advised. See: https://urllib3.readthedocs.io/en/1.26.x/advanced-usage.html#ssl-warnings\n",
      "  warnings.warn(\n",
      "D:\\python_projects\\cpfl\\web_scrapper\\venv_scraper\\lib\\site-packages\\urllib3\\connectionpool.py:1043: InsecureRequestWarning: Unverified HTTPS request is being made to host 'www2.aneel.gov.br'. Adding certificate verification is strongly advised. See: https://urllib3.readthedocs.io/en/1.26.x/advanced-usage.html#ssl-warnings\n",
      "  warnings.warn(\n"
     ]
    },
    {
     "name": "stdout",
     "output_type": "stream",
     "text": [
      "Arquivo: \"PCAT_EBO_2016-02-02_REAJUSTE_(PCATEBO2016V02).xlsx\" foi baixado com sucesso\n",
      "['PCAT_EBO_2017-02-04_REVISAO_(PCATEBO2017).xlsx'\n",
      " 'https://www2.aneel.gov.br/aplicacoes/tarifa/arquivo/PCAT_EBO_2017.xlsx']\n",
      "Arquivo: \"PCAT_EBO_2016-02-02_REAJUSTE_(PCATEBO2016V02).xlsx\" foi baixado com sucesso\n",
      "['PCAT_EBO_2017-02-04_REVISAO_(PCATEBO2017).xlsx'\n",
      " 'https://www2.aneel.gov.br/aplicacoes/tarifa/arquivo/PCAT_EBO_2017.xlsx']\n"
     ]
    },
    {
     "name": "stderr",
     "output_type": "stream",
     "text": [
      "D:\\python_projects\\cpfl\\web_scrapper\\venv_scraper\\lib\\site-packages\\urllib3\\connectionpool.py:1043: InsecureRequestWarning: Unverified HTTPS request is being made to host 'www2.aneel.gov.br'. Adding certificate verification is strongly advised. See: https://urllib3.readthedocs.io/en/1.26.x/advanced-usage.html#ssl-warnings\n",
      "  warnings.warn(\n",
      "D:\\python_projects\\cpfl\\web_scrapper\\venv_scraper\\lib\\site-packages\\urllib3\\connectionpool.py:1043: InsecureRequestWarning: Unverified HTTPS request is being made to host 'www2.aneel.gov.br'. Adding certificate verification is strongly advised. See: https://urllib3.readthedocs.io/en/1.26.x/advanced-usage.html#ssl-warnings\n",
      "  warnings.warn(\n"
     ]
    },
    {
     "name": "stdout",
     "output_type": "stream",
     "text": [
      "Arquivo: \"PCAT_EBO_2017-02-04_REVISAO_(PCATEBO2017).xlsx\" foi baixado com sucesso\n",
      "['PCAT_EBO_2018-02-04_REAJUSTE_(PCATEBO2018).xlsx'\n",
      " 'https://www2.aneel.gov.br/aplicacoes/tarifa/arquivo/PCAT_EBO_2018 .xlsx']\n",
      "Arquivo: \"PCAT_EBO_2017-02-04_REVISAO_(PCATEBO2017).xlsx\" foi baixado com sucesso\n",
      "['PCAT_EBO_2018-02-04_REAJUSTE_(PCATEBO2018).xlsx'\n",
      " 'https://www2.aneel.gov.br/aplicacoes/tarifa/arquivo/PCAT_EBO_2018 .xlsx']\n"
     ]
    },
    {
     "name": "stderr",
     "output_type": "stream",
     "text": [
      "D:\\python_projects\\cpfl\\web_scrapper\\venv_scraper\\lib\\site-packages\\urllib3\\connectionpool.py:1043: InsecureRequestWarning: Unverified HTTPS request is being made to host 'www2.aneel.gov.br'. Adding certificate verification is strongly advised. See: https://urllib3.readthedocs.io/en/1.26.x/advanced-usage.html#ssl-warnings\n",
      "  warnings.warn(\n",
      "D:\\python_projects\\cpfl\\web_scrapper\\venv_scraper\\lib\\site-packages\\urllib3\\connectionpool.py:1043: InsecureRequestWarning: Unverified HTTPS request is being made to host 'www2.aneel.gov.br'. Adding certificate verification is strongly advised. See: https://urllib3.readthedocs.io/en/1.26.x/advanced-usage.html#ssl-warnings\n",
      "  warnings.warn(\n"
     ]
    },
    {
     "name": "stdout",
     "output_type": "stream",
     "text": [
      "Arquivo: \"PCAT_EBO_2018-02-04_REAJUSTE_(PCATEBO2018).xlsx\" foi baixado com sucesso\n",
      "['PCAT_EBO_2019-04-01_REVISAOEXTRAORDINARIA_(PCATEBO2019).xlsx'\n",
      " 'https://www2.aneel.gov.br/aplicacoes/tarifa/arquivo/PCAT_EBO_2019.xlsx']\n",
      "Arquivo: \"PCAT_EBO_2018-02-04_REAJUSTE_(PCATEBO2018).xlsx\" foi baixado com sucesso\n",
      "['PCAT_EBO_2019-04-01_REVISAOEXTRAORDINARIA_(PCATEBO2019).xlsx'\n",
      " 'https://www2.aneel.gov.br/aplicacoes/tarifa/arquivo/PCAT_EBO_2019.xlsx']\n"
     ]
    },
    {
     "name": "stderr",
     "output_type": "stream",
     "text": [
      "D:\\python_projects\\cpfl\\web_scrapper\\venv_scraper\\lib\\site-packages\\urllib3\\connectionpool.py:1043: InsecureRequestWarning: Unverified HTTPS request is being made to host 'www2.aneel.gov.br'. Adding certificate verification is strongly advised. See: https://urllib3.readthedocs.io/en/1.26.x/advanced-usage.html#ssl-warnings\n",
      "  warnings.warn(\n",
      "D:\\python_projects\\cpfl\\web_scrapper\\venv_scraper\\lib\\site-packages\\urllib3\\connectionpool.py:1043: InsecureRequestWarning: Unverified HTTPS request is being made to host 'www2.aneel.gov.br'. Adding certificate verification is strongly advised. See: https://urllib3.readthedocs.io/en/1.26.x/advanced-usage.html#ssl-warnings\n",
      "  warnings.warn(\n"
     ]
    },
    {
     "name": "stdout",
     "output_type": "stream",
     "text": [
      "Arquivo: \"PCAT_EBO_2019-04-01_REVISAOEXTRAORDINARIA_(PCATEBO2019).xlsx\" foi baixado com sucesso\n",
      "['PCAT_EBO_2019-02-04_REAJUSTE_(6611PCATEBO2019V02).xlsx'\n",
      " 'https://www2.aneel.gov.br/aplicacoes/tarifa/arquivo/6611 PCAT EBO 2019 V02.xlsx']\n",
      "Arquivo: \"PCAT_EBO_2019-04-01_REVISAOEXTRAORDINARIA_(PCATEBO2019).xlsx\" foi baixado com sucesso\n",
      "['PCAT_EBO_2019-02-04_REAJUSTE_(6611PCATEBO2019V02).xlsx'\n",
      " 'https://www2.aneel.gov.br/aplicacoes/tarifa/arquivo/6611 PCAT EBO 2019 V02.xlsx']\n"
     ]
    },
    {
     "name": "stderr",
     "output_type": "stream",
     "text": [
      "D:\\python_projects\\cpfl\\web_scrapper\\venv_scraper\\lib\\site-packages\\urllib3\\connectionpool.py:1043: InsecureRequestWarning: Unverified HTTPS request is being made to host 'www2.aneel.gov.br'. Adding certificate verification is strongly advised. See: https://urllib3.readthedocs.io/en/1.26.x/advanced-usage.html#ssl-warnings\n",
      "  warnings.warn(\n",
      "D:\\python_projects\\cpfl\\web_scrapper\\venv_scraper\\lib\\site-packages\\urllib3\\connectionpool.py:1043: InsecureRequestWarning: Unverified HTTPS request is being made to host 'www2.aneel.gov.br'. Adding certificate verification is strongly advised. See: https://urllib3.readthedocs.io/en/1.26.x/advanced-usage.html#ssl-warnings\n",
      "  warnings.warn(\n"
     ]
    },
    {
     "name": "stdout",
     "output_type": "stream",
     "text": [
      "Arquivo: \"PCAT_EBO_2019-02-04_REAJUSTE_(6611PCATEBO2019V02).xlsx\" foi baixado com sucesso\n",
      "['PCAT_EDEVP_2014-05-06_REAJUSTE_(PCATEDEVP2014).xlsx'\n",
      " 'https://www2.aneel.gov.br/aplicacoes/tarifa/arquivo/PCAT_EDEVP_2014.xlsx']\n",
      "Arquivo: \"PCAT_EBO_2019-02-04_REAJUSTE_(6611PCATEBO2019V02).xlsx\" foi baixado com sucesso\n",
      "['PCAT_EDEVP_2014-05-06_REAJUSTE_(PCATEDEVP2014).xlsx'\n",
      " 'https://www2.aneel.gov.br/aplicacoes/tarifa/arquivo/PCAT_EDEVP_2014.xlsx']\n"
     ]
    },
    {
     "name": "stderr",
     "output_type": "stream",
     "text": [
      "D:\\python_projects\\cpfl\\web_scrapper\\venv_scraper\\lib\\site-packages\\urllib3\\connectionpool.py:1043: InsecureRequestWarning: Unverified HTTPS request is being made to host 'www2.aneel.gov.br'. Adding certificate verification is strongly advised. See: https://urllib3.readthedocs.io/en/1.26.x/advanced-usage.html#ssl-warnings\n",
      "  warnings.warn(\n",
      "D:\\python_projects\\cpfl\\web_scrapper\\venv_scraper\\lib\\site-packages\\urllib3\\connectionpool.py:1043: InsecureRequestWarning: Unverified HTTPS request is being made to host 'www2.aneel.gov.br'. Adding certificate verification is strongly advised. See: https://urllib3.readthedocs.io/en/1.26.x/advanced-usage.html#ssl-warnings\n",
      "  warnings.warn(\n"
     ]
    },
    {
     "name": "stdout",
     "output_type": "stream",
     "text": [
      "Arquivo: \"PCAT_EDEVP_2014-05-06_REAJUSTE_(PCATEDEVP2014).xlsx\" foi baixado com sucesso\n",
      "['PCAT_EDEVP_2015-05-10_REAJUSTE_(PCATEDEVP2015A).xlsx'\n",
      " 'https://www2.aneel.gov.br/aplicacoes/tarifa/arquivo/PCAT_EDEVP_2015A.xlsx']\n",
      "Arquivo: \"PCAT_EDEVP_2014-05-06_REAJUSTE_(PCATEDEVP2014).xlsx\" foi baixado com sucesso\n",
      "['PCAT_EDEVP_2015-05-10_REAJUSTE_(PCATEDEVP2015A).xlsx'\n",
      " 'https://www2.aneel.gov.br/aplicacoes/tarifa/arquivo/PCAT_EDEVP_2015A.xlsx']\n"
     ]
    },
    {
     "name": "stderr",
     "output_type": "stream",
     "text": [
      "D:\\python_projects\\cpfl\\web_scrapper\\venv_scraper\\lib\\site-packages\\urllib3\\connectionpool.py:1043: InsecureRequestWarning: Unverified HTTPS request is being made to host 'www2.aneel.gov.br'. Adding certificate verification is strongly advised. See: https://urllib3.readthedocs.io/en/1.26.x/advanced-usage.html#ssl-warnings\n",
      "  warnings.warn(\n",
      "D:\\python_projects\\cpfl\\web_scrapper\\venv_scraper\\lib\\site-packages\\urllib3\\connectionpool.py:1043: InsecureRequestWarning: Unverified HTTPS request is being made to host 'www2.aneel.gov.br'. Adding certificate verification is strongly advised. See: https://urllib3.readthedocs.io/en/1.26.x/advanced-usage.html#ssl-warnings\n",
      "  warnings.warn(\n"
     ]
    },
    {
     "name": "stdout",
     "output_type": "stream",
     "text": [
      "Arquivo: \"PCAT_EDEVP_2015-05-10_REAJUSTE_(PCATEDEVP2015A).xlsx\" foi baixado com sucesso\n",
      "['PCAT_EDEVP_2015-03-02_REVISAOEXTRAORDINARIA_(PCATEDEVP2014V00).xlsx'\n",
      " 'https://www2.aneel.gov.br/aplicacoes/tarifa/arquivo/PCAT_EDEVP_2014_V00.xlsx']\n",
      "Arquivo: \"PCAT_EDEVP_2015-05-10_REAJUSTE_(PCATEDEVP2015A).xlsx\" foi baixado com sucesso\n",
      "['PCAT_EDEVP_2015-03-02_REVISAOEXTRAORDINARIA_(PCATEDEVP2014V00).xlsx'\n",
      " 'https://www2.aneel.gov.br/aplicacoes/tarifa/arquivo/PCAT_EDEVP_2014_V00.xlsx']\n"
     ]
    },
    {
     "name": "stderr",
     "output_type": "stream",
     "text": [
      "D:\\python_projects\\cpfl\\web_scrapper\\venv_scraper\\lib\\site-packages\\urllib3\\connectionpool.py:1043: InsecureRequestWarning: Unverified HTTPS request is being made to host 'www2.aneel.gov.br'. Adding certificate verification is strongly advised. See: https://urllib3.readthedocs.io/en/1.26.x/advanced-usage.html#ssl-warnings\n",
      "  warnings.warn(\n",
      "D:\\python_projects\\cpfl\\web_scrapper\\venv_scraper\\lib\\site-packages\\urllib3\\connectionpool.py:1043: InsecureRequestWarning: Unverified HTTPS request is being made to host 'www2.aneel.gov.br'. Adding certificate verification is strongly advised. See: https://urllib3.readthedocs.io/en/1.26.x/advanced-usage.html#ssl-warnings\n",
      "  warnings.warn(\n"
     ]
    },
    {
     "name": "stdout",
     "output_type": "stream",
     "text": [
      "Arquivo: \"PCAT_EDEVP_2015-03-02_REVISAOEXTRAORDINARIA_(PCATEDEVP2014V00).xlsx\" foi baixado com sucesso\n",
      "['PCAT_EDEVP_2016-05-10_REVISAO_(PCATEDEVP2016).xlsx'\n",
      " 'https://www2.aneel.gov.br/aplicacoes/tarifa/arquivo/PCAT_EDEVP_2016.xlsx']\n",
      "Arquivo: \"PCAT_EDEVP_2015-03-02_REVISAOEXTRAORDINARIA_(PCATEDEVP2014V00).xlsx\" foi baixado com sucesso\n",
      "['PCAT_EDEVP_2016-05-10_REVISAO_(PCATEDEVP2016).xlsx'\n",
      " 'https://www2.aneel.gov.br/aplicacoes/tarifa/arquivo/PCAT_EDEVP_2016.xlsx']\n"
     ]
    },
    {
     "name": "stderr",
     "output_type": "stream",
     "text": [
      "D:\\python_projects\\cpfl\\web_scrapper\\venv_scraper\\lib\\site-packages\\urllib3\\connectionpool.py:1043: InsecureRequestWarning: Unverified HTTPS request is being made to host 'www2.aneel.gov.br'. Adding certificate verification is strongly advised. See: https://urllib3.readthedocs.io/en/1.26.x/advanced-usage.html#ssl-warnings\n",
      "  warnings.warn(\n",
      "D:\\python_projects\\cpfl\\web_scrapper\\venv_scraper\\lib\\site-packages\\urllib3\\connectionpool.py:1043: InsecureRequestWarning: Unverified HTTPS request is being made to host 'www2.aneel.gov.br'. Adding certificate verification is strongly advised. See: https://urllib3.readthedocs.io/en/1.26.x/advanced-usage.html#ssl-warnings\n",
      "  warnings.warn(\n"
     ]
    },
    {
     "name": "stdout",
     "output_type": "stream",
     "text": [
      "Arquivo: \"PCAT_EDEVP_2016-05-10_REVISAO_(PCATEDEVP2016).xlsx\" foi baixado com sucesso\n",
      "['PCAT_EDEVP_2017-07-12_REAJUSTE_(PCATSUPERENER20172).xlsx'\n",
      " 'https://www2.aneel.gov.br/aplicacoes/tarifa/arquivo/PCAT_SuperEner_20172.xlsx']\n",
      "Arquivo: \"PCAT_EDEVP_2016-05-10_REVISAO_(PCATEDEVP2016).xlsx\" foi baixado com sucesso\n",
      "['PCAT_EDEVP_2017-07-12_REAJUSTE_(PCATSUPERENER20172).xlsx'\n",
      " 'https://www2.aneel.gov.br/aplicacoes/tarifa/arquivo/PCAT_SuperEner_20172.xlsx']\n"
     ]
    },
    {
     "name": "stderr",
     "output_type": "stream",
     "text": [
      "D:\\python_projects\\cpfl\\web_scrapper\\venv_scraper\\lib\\site-packages\\urllib3\\connectionpool.py:1043: InsecureRequestWarning: Unverified HTTPS request is being made to host 'www2.aneel.gov.br'. Adding certificate verification is strongly advised. See: https://urllib3.readthedocs.io/en/1.26.x/advanced-usage.html#ssl-warnings\n",
      "  warnings.warn(\n",
      "D:\\python_projects\\cpfl\\web_scrapper\\venv_scraper\\lib\\site-packages\\urllib3\\connectionpool.py:1043: InsecureRequestWarning: Unverified HTTPS request is being made to host 'www2.aneel.gov.br'. Adding certificate verification is strongly advised. See: https://urllib3.readthedocs.io/en/1.26.x/advanced-usage.html#ssl-warnings\n",
      "  warnings.warn(\n"
     ]
    },
    {
     "name": "stdout",
     "output_type": "stream",
     "text": [
      "Arquivo: \"PCAT_EDEVP_2017-07-12_REAJUSTE_(PCATSUPERENER20172).xlsx\" foi baixado com sucesso\n",
      "['PCAT_EDPES_2014-08-07_REAJUSTE_(PCATESCELSA2014).xlsx'\n",
      " 'https://www2.aneel.gov.br/aplicacoes/tarifa/arquivo/PCAT_ESCELSA_2014.xlsx']\n",
      "Arquivo: \"PCAT_EDEVP_2017-07-12_REAJUSTE_(PCATSUPERENER20172).xlsx\" foi baixado com sucesso\n",
      "['PCAT_EDPES_2014-08-07_REAJUSTE_(PCATESCELSA2014).xlsx'\n",
      " 'https://www2.aneel.gov.br/aplicacoes/tarifa/arquivo/PCAT_ESCELSA_2014.xlsx']\n"
     ]
    },
    {
     "name": "stderr",
     "output_type": "stream",
     "text": [
      "D:\\python_projects\\cpfl\\web_scrapper\\venv_scraper\\lib\\site-packages\\urllib3\\connectionpool.py:1043: InsecureRequestWarning: Unverified HTTPS request is being made to host 'www2.aneel.gov.br'. Adding certificate verification is strongly advised. See: https://urllib3.readthedocs.io/en/1.26.x/advanced-usage.html#ssl-warnings\n",
      "  warnings.warn(\n",
      "D:\\python_projects\\cpfl\\web_scrapper\\venv_scraper\\lib\\site-packages\\urllib3\\connectionpool.py:1043: InsecureRequestWarning: Unverified HTTPS request is being made to host 'www2.aneel.gov.br'. Adding certificate verification is strongly advised. See: https://urllib3.readthedocs.io/en/1.26.x/advanced-usage.html#ssl-warnings\n",
      "  warnings.warn(\n"
     ]
    },
    {
     "name": "stdout",
     "output_type": "stream",
     "text": [
      "Arquivo: \"PCAT_EDPES_2014-08-07_REAJUSTE_(PCATESCELSA2014).xlsx\" foi baixado com sucesso\n",
      "['PCAT_EDPES_2015-08-07_REAJUSTE_(PCATESCELSA2015).xlsx'\n",
      " 'https://www2.aneel.gov.br/aplicacoes/tarifa/arquivo/PCAT_Escelsa_2015.xlsx']\n",
      "Arquivo: \"PCAT_EDPES_2014-08-07_REAJUSTE_(PCATESCELSA2014).xlsx\" foi baixado com sucesso\n",
      "['PCAT_EDPES_2015-08-07_REAJUSTE_(PCATESCELSA2015).xlsx'\n",
      " 'https://www2.aneel.gov.br/aplicacoes/tarifa/arquivo/PCAT_Escelsa_2015.xlsx']\n"
     ]
    },
    {
     "name": "stderr",
     "output_type": "stream",
     "text": [
      "D:\\python_projects\\cpfl\\web_scrapper\\venv_scraper\\lib\\site-packages\\urllib3\\connectionpool.py:1043: InsecureRequestWarning: Unverified HTTPS request is being made to host 'www2.aneel.gov.br'. Adding certificate verification is strongly advised. See: https://urllib3.readthedocs.io/en/1.26.x/advanced-usage.html#ssl-warnings\n",
      "  warnings.warn(\n",
      "D:\\python_projects\\cpfl\\web_scrapper\\venv_scraper\\lib\\site-packages\\urllib3\\connectionpool.py:1043: InsecureRequestWarning: Unverified HTTPS request is being made to host 'www2.aneel.gov.br'. Adding certificate verification is strongly advised. See: https://urllib3.readthedocs.io/en/1.26.x/advanced-usage.html#ssl-warnings\n",
      "  warnings.warn(\n"
     ]
    },
    {
     "name": "stdout",
     "output_type": "stream",
     "text": [
      "Arquivo: \"PCAT_EDPES_2015-08-07_REAJUSTE_(PCATESCELSA2015).xlsx\" foi baixado com sucesso\n",
      "['PCAT_EDPES_2015-03-02_REVISAOEXTRAORDINARIA_(PCATESCELSA2014V00).xlsx'\n",
      " 'https://www2.aneel.gov.br/aplicacoes/tarifa/arquivo/PCAT_ESCELSA_2014_V00.xlsx']\n",
      "Arquivo: \"PCAT_EDPES_2015-08-07_REAJUSTE_(PCATESCELSA2015).xlsx\" foi baixado com sucesso\n",
      "['PCAT_EDPES_2015-03-02_REVISAOEXTRAORDINARIA_(PCATESCELSA2014V00).xlsx'\n",
      " 'https://www2.aneel.gov.br/aplicacoes/tarifa/arquivo/PCAT_ESCELSA_2014_V00.xlsx']\n"
     ]
    },
    {
     "name": "stderr",
     "output_type": "stream",
     "text": [
      "D:\\python_projects\\cpfl\\web_scrapper\\venv_scraper\\lib\\site-packages\\urllib3\\connectionpool.py:1043: InsecureRequestWarning: Unverified HTTPS request is being made to host 'www2.aneel.gov.br'. Adding certificate verification is strongly advised. See: https://urllib3.readthedocs.io/en/1.26.x/advanced-usage.html#ssl-warnings\n",
      "  warnings.warn(\n",
      "D:\\python_projects\\cpfl\\web_scrapper\\venv_scraper\\lib\\site-packages\\urllib3\\connectionpool.py:1043: InsecureRequestWarning: Unverified HTTPS request is being made to host 'www2.aneel.gov.br'. Adding certificate verification is strongly advised. See: https://urllib3.readthedocs.io/en/1.26.x/advanced-usage.html#ssl-warnings\n",
      "  warnings.warn(\n"
     ]
    },
    {
     "name": "stdout",
     "output_type": "stream",
     "text": [
      "Arquivo: \"PCAT_EDPES_2015-03-02_REVISAOEXTRAORDINARIA_(PCATESCELSA2014V00).xlsx\" foi baixado com sucesso\n",
      "['PCAT_EDPES_2016-08-07_REVISAO_(PCATESCELSA2016).xlsx'\n",
      " 'https://www2.aneel.gov.br/aplicacoes/tarifa/arquivo/PCAT_Escelsa_2016.xlsx']\n",
      "Arquivo: \"PCAT_EDPES_2015-03-02_REVISAOEXTRAORDINARIA_(PCATESCELSA2014V00).xlsx\" foi baixado com sucesso\n",
      "['PCAT_EDPES_2016-08-07_REVISAO_(PCATESCELSA2016).xlsx'\n",
      " 'https://www2.aneel.gov.br/aplicacoes/tarifa/arquivo/PCAT_Escelsa_2016.xlsx']\n"
     ]
    },
    {
     "name": "stderr",
     "output_type": "stream",
     "text": [
      "D:\\python_projects\\cpfl\\web_scrapper\\venv_scraper\\lib\\site-packages\\urllib3\\connectionpool.py:1043: InsecureRequestWarning: Unverified HTTPS request is being made to host 'www2.aneel.gov.br'. Adding certificate verification is strongly advised. See: https://urllib3.readthedocs.io/en/1.26.x/advanced-usage.html#ssl-warnings\n",
      "  warnings.warn(\n",
      "D:\\python_projects\\cpfl\\web_scrapper\\venv_scraper\\lib\\site-packages\\urllib3\\connectionpool.py:1043: InsecureRequestWarning: Unverified HTTPS request is being made to host 'www2.aneel.gov.br'. Adding certificate verification is strongly advised. See: https://urllib3.readthedocs.io/en/1.26.x/advanced-usage.html#ssl-warnings\n",
      "  warnings.warn(\n"
     ]
    },
    {
     "name": "stdout",
     "output_type": "stream",
     "text": [
      "Arquivo: \"PCAT_EDPES_2016-08-07_REVISAO_(PCATESCELSA2016).xlsx\" foi baixado com sucesso\n",
      "['PCAT_EDPES_2017-08-07_REAJUSTE_(PCATEDPES2017).xlsx'\n",
      " 'https://www2.aneel.gov.br/aplicacoes/tarifa/arquivo/PCAT_EDP-ES_2017.xlsx']\n",
      "Arquivo: \"PCAT_EDPES_2016-08-07_REVISAO_(PCATESCELSA2016).xlsx\" foi baixado com sucesso\n",
      "['PCAT_EDPES_2017-08-07_REAJUSTE_(PCATEDPES2017).xlsx'\n",
      " 'https://www2.aneel.gov.br/aplicacoes/tarifa/arquivo/PCAT_EDP-ES_2017.xlsx']\n"
     ]
    },
    {
     "name": "stderr",
     "output_type": "stream",
     "text": [
      "D:\\python_projects\\cpfl\\web_scrapper\\venv_scraper\\lib\\site-packages\\urllib3\\connectionpool.py:1043: InsecureRequestWarning: Unverified HTTPS request is being made to host 'www2.aneel.gov.br'. Adding certificate verification is strongly advised. See: https://urllib3.readthedocs.io/en/1.26.x/advanced-usage.html#ssl-warnings\n",
      "  warnings.warn(\n",
      "D:\\python_projects\\cpfl\\web_scrapper\\venv_scraper\\lib\\site-packages\\urllib3\\connectionpool.py:1043: InsecureRequestWarning: Unverified HTTPS request is being made to host 'www2.aneel.gov.br'. Adding certificate verification is strongly advised. See: https://urllib3.readthedocs.io/en/1.26.x/advanced-usage.html#ssl-warnings\n",
      "  warnings.warn(\n"
     ]
    },
    {
     "name": "stdout",
     "output_type": "stream",
     "text": [
      "Arquivo: \"PCAT_EDPES_2017-08-07_REAJUSTE_(PCATEDPES2017).xlsx\" foi baixado com sucesso\n",
      "['PCAT_EDPES_2018-08-07_REAJUSTE_(PCATRTAEDPES2018).xlsx'\n",
      " 'https://www2.aneel.gov.br/aplicacoes/tarifa/arquivo/PCAT_RTA_EDP ES_2018.xlsx']\n",
      "Arquivo: \"PCAT_EDPES_2017-08-07_REAJUSTE_(PCATEDPES2017).xlsx\" foi baixado com sucesso\n",
      "['PCAT_EDPES_2018-08-07_REAJUSTE_(PCATRTAEDPES2018).xlsx'\n",
      " 'https://www2.aneel.gov.br/aplicacoes/tarifa/arquivo/PCAT_RTA_EDP ES_2018.xlsx']\n"
     ]
    },
    {
     "name": "stderr",
     "output_type": "stream",
     "text": [
      "D:\\python_projects\\cpfl\\web_scrapper\\venv_scraper\\lib\\site-packages\\urllib3\\connectionpool.py:1043: InsecureRequestWarning: Unverified HTTPS request is being made to host 'www2.aneel.gov.br'. Adding certificate verification is strongly advised. See: https://urllib3.readthedocs.io/en/1.26.x/advanced-usage.html#ssl-warnings\n",
      "  warnings.warn(\n",
      "D:\\python_projects\\cpfl\\web_scrapper\\venv_scraper\\lib\\site-packages\\urllib3\\connectionpool.py:1043: InsecureRequestWarning: Unverified HTTPS request is being made to host 'www2.aneel.gov.br'. Adding certificate verification is strongly advised. See: https://urllib3.readthedocs.io/en/1.26.x/advanced-usage.html#ssl-warnings\n",
      "  warnings.warn(\n"
     ]
    },
    {
     "name": "stdout",
     "output_type": "stream",
     "text": [
      "Arquivo: \"PCAT_EDPES_2018-08-07_REAJUSTE_(PCATRTAEDPES2018).xlsx\" foi baixado com sucesso\n",
      "['PCAT_EDPES_2019-08-07_REVISAO_(380PCATEDPES2019).xlsx'\n",
      " 'https://www2.aneel.gov.br/aplicacoes/tarifa/arquivo/380 PCAT EDP_ES 2019.xlsx']\n",
      "Arquivo: \"PCAT_EDPES_2018-08-07_REAJUSTE_(PCATRTAEDPES2018).xlsx\" foi baixado com sucesso\n",
      "['PCAT_EDPES_2019-08-07_REVISAO_(380PCATEDPES2019).xlsx'\n",
      " 'https://www2.aneel.gov.br/aplicacoes/tarifa/arquivo/380 PCAT EDP_ES 2019.xlsx']\n"
     ]
    },
    {
     "name": "stderr",
     "output_type": "stream",
     "text": [
      "D:\\python_projects\\cpfl\\web_scrapper\\venv_scraper\\lib\\site-packages\\urllib3\\connectionpool.py:1043: InsecureRequestWarning: Unverified HTTPS request is being made to host 'www2.aneel.gov.br'. Adding certificate verification is strongly advised. See: https://urllib3.readthedocs.io/en/1.26.x/advanced-usage.html#ssl-warnings\n",
      "  warnings.warn(\n",
      "D:\\python_projects\\cpfl\\web_scrapper\\venv_scraper\\lib\\site-packages\\urllib3\\connectionpool.py:1043: InsecureRequestWarning: Unverified HTTPS request is being made to host 'www2.aneel.gov.br'. Adding certificate verification is strongly advised. See: https://urllib3.readthedocs.io/en/1.26.x/advanced-usage.html#ssl-warnings\n",
      "  warnings.warn(\n"
     ]
    },
    {
     "name": "stdout",
     "output_type": "stream",
     "text": [
      "Arquivo: \"PCAT_EDPES_2019-08-07_REVISAO_(380PCATEDPES2019).xlsx\" foi baixado com sucesso\n",
      "['PCAT_EDPES_2020-08-07_REAJUSTE_(380PCATEDPES2020V02).xlsx'\n",
      " 'https://www2.aneel.gov.br/aplicacoes/tarifa/arquivo/380 PCAT EDP ES 2020 V02.xlsx']\n",
      "Arquivo: \"PCAT_EDPES_2019-08-07_REVISAO_(380PCATEDPES2019).xlsx\" foi baixado com sucesso\n",
      "['PCAT_EDPES_2020-08-07_REAJUSTE_(380PCATEDPES2020V02).xlsx'\n",
      " 'https://www2.aneel.gov.br/aplicacoes/tarifa/arquivo/380 PCAT EDP ES 2020 V02.xlsx']\n"
     ]
    },
    {
     "name": "stderr",
     "output_type": "stream",
     "text": [
      "D:\\python_projects\\cpfl\\web_scrapper\\venv_scraper\\lib\\site-packages\\urllib3\\connectionpool.py:1043: InsecureRequestWarning: Unverified HTTPS request is being made to host 'www2.aneel.gov.br'. Adding certificate verification is strongly advised. See: https://urllib3.readthedocs.io/en/1.26.x/advanced-usage.html#ssl-warnings\n",
      "  warnings.warn(\n",
      "D:\\python_projects\\cpfl\\web_scrapper\\venv_scraper\\lib\\site-packages\\urllib3\\connectionpool.py:1043: InsecureRequestWarning: Unverified HTTPS request is being made to host 'www2.aneel.gov.br'. Adding certificate verification is strongly advised. See: https://urllib3.readthedocs.io/en/1.26.x/advanced-usage.html#ssl-warnings\n",
      "  warnings.warn(\n"
     ]
    },
    {
     "name": "stdout",
     "output_type": "stream",
     "text": [
      "Arquivo: \"PCAT_EDPES_2020-08-07_REAJUSTE_(380PCATEDPES2020V02).xlsx\" foi baixado com sucesso\n",
      "['PCAT_EDPES_2021-08-07_REAJUSTE_(380PCATEDPES2021V02).xlsx'\n",
      " 'https://www2.aneel.gov.br/aplicacoes/tarifa/arquivo/380 PCAT EDP ES 2021 V02.xlsx']\n",
      "Arquivo: \"PCAT_EDPES_2020-08-07_REAJUSTE_(380PCATEDPES2020V02).xlsx\" foi baixado com sucesso\n",
      "['PCAT_EDPES_2021-08-07_REAJUSTE_(380PCATEDPES2021V02).xlsx'\n",
      " 'https://www2.aneel.gov.br/aplicacoes/tarifa/arquivo/380 PCAT EDP ES 2021 V02.xlsx']\n"
     ]
    },
    {
     "name": "stderr",
     "output_type": "stream",
     "text": [
      "D:\\python_projects\\cpfl\\web_scrapper\\venv_scraper\\lib\\site-packages\\urllib3\\connectionpool.py:1043: InsecureRequestWarning: Unverified HTTPS request is being made to host 'www2.aneel.gov.br'. Adding certificate verification is strongly advised. See: https://urllib3.readthedocs.io/en/1.26.x/advanced-usage.html#ssl-warnings\n",
      "  warnings.warn(\n",
      "D:\\python_projects\\cpfl\\web_scrapper\\venv_scraper\\lib\\site-packages\\urllib3\\connectionpool.py:1043: InsecureRequestWarning: Unverified HTTPS request is being made to host 'www2.aneel.gov.br'. Adding certificate verification is strongly advised. See: https://urllib3.readthedocs.io/en/1.26.x/advanced-usage.html#ssl-warnings\n",
      "  warnings.warn(\n"
     ]
    },
    {
     "name": "stdout",
     "output_type": "stream",
     "text": [
      "Arquivo: \"PCAT_EDPES_2021-08-07_REAJUSTE_(380PCATEDPES2021V02).xlsx\" foi baixado com sucesso\n",
      "['PCAT_EDPSP_2013-10-21_REAJUSTE_(PCATBANDEIRANTE2013).xlsx'\n",
      " 'https://www2.aneel.gov.br/aplicacoes/tarifa/arquivo/PCAT_BANDEIRANTE_2013.xlsx']\n",
      "Arquivo: \"PCAT_EDPES_2021-08-07_REAJUSTE_(380PCATEDPES2021V02).xlsx\" foi baixado com sucesso\n",
      "['PCAT_EDPSP_2013-10-21_REAJUSTE_(PCATBANDEIRANTE2013).xlsx'\n",
      " 'https://www2.aneel.gov.br/aplicacoes/tarifa/arquivo/PCAT_BANDEIRANTE_2013.xlsx']\n"
     ]
    },
    {
     "name": "stderr",
     "output_type": "stream",
     "text": [
      "D:\\python_projects\\cpfl\\web_scrapper\\venv_scraper\\lib\\site-packages\\urllib3\\connectionpool.py:1043: InsecureRequestWarning: Unverified HTTPS request is being made to host 'www2.aneel.gov.br'. Adding certificate verification is strongly advised. See: https://urllib3.readthedocs.io/en/1.26.x/advanced-usage.html#ssl-warnings\n",
      "  warnings.warn(\n",
      "D:\\python_projects\\cpfl\\web_scrapper\\venv_scraper\\lib\\site-packages\\urllib3\\connectionpool.py:1043: InsecureRequestWarning: Unverified HTTPS request is being made to host 'www2.aneel.gov.br'. Adding certificate verification is strongly advised. See: https://urllib3.readthedocs.io/en/1.26.x/advanced-usage.html#ssl-warnings\n",
      "  warnings.warn(\n"
     ]
    },
    {
     "name": "stdout",
     "output_type": "stream",
     "text": [
      "Arquivo: \"PCAT_EDPSP_2013-10-21_REAJUSTE_(PCATBANDEIRANTE2013).xlsx\" foi baixado com sucesso\n",
      "['PCAT_EDPSP_2014-10-21_REAJUSTE_(PCATBANDEIRANTE2014).xlsx'\n",
      " 'https://www2.aneel.gov.br/aplicacoes/tarifa/arquivo/PCAT_BANDEIRANTE_2014.xlsx']\n",
      "Arquivo: \"PCAT_EDPSP_2013-10-21_REAJUSTE_(PCATBANDEIRANTE2013).xlsx\" foi baixado com sucesso\n",
      "['PCAT_EDPSP_2014-10-21_REAJUSTE_(PCATBANDEIRANTE2014).xlsx'\n",
      " 'https://www2.aneel.gov.br/aplicacoes/tarifa/arquivo/PCAT_BANDEIRANTE_2014.xlsx']\n"
     ]
    },
    {
     "name": "stderr",
     "output_type": "stream",
     "text": [
      "D:\\python_projects\\cpfl\\web_scrapper\\venv_scraper\\lib\\site-packages\\urllib3\\connectionpool.py:1043: InsecureRequestWarning: Unverified HTTPS request is being made to host 'www2.aneel.gov.br'. Adding certificate verification is strongly advised. See: https://urllib3.readthedocs.io/en/1.26.x/advanced-usage.html#ssl-warnings\n",
      "  warnings.warn(\n",
      "D:\\python_projects\\cpfl\\web_scrapper\\venv_scraper\\lib\\site-packages\\urllib3\\connectionpool.py:1043: InsecureRequestWarning: Unverified HTTPS request is being made to host 'www2.aneel.gov.br'. Adding certificate verification is strongly advised. See: https://urllib3.readthedocs.io/en/1.26.x/advanced-usage.html#ssl-warnings\n",
      "  warnings.warn(\n"
     ]
    },
    {
     "name": "stdout",
     "output_type": "stream",
     "text": [
      "Arquivo: \"PCAT_EDPSP_2014-10-21_REAJUSTE_(PCATBANDEIRANTE2014).xlsx\" foi baixado com sucesso\n",
      "['PCAT_EDPSP_2015-10-23_REVISAO_(PCATBANDEIRANTE22015).xlsx'\n",
      " 'https://www2.aneel.gov.br/aplicacoes/tarifa/arquivo/PCAT_Bandeirante2_2015.xlsx']\n",
      "Arquivo: \"PCAT_EDPSP_2014-10-21_REAJUSTE_(PCATBANDEIRANTE2014).xlsx\" foi baixado com sucesso\n",
      "['PCAT_EDPSP_2015-10-23_REVISAO_(PCATBANDEIRANTE22015).xlsx'\n",
      " 'https://www2.aneel.gov.br/aplicacoes/tarifa/arquivo/PCAT_Bandeirante2_2015.xlsx']\n"
     ]
    },
    {
     "name": "stderr",
     "output_type": "stream",
     "text": [
      "D:\\python_projects\\cpfl\\web_scrapper\\venv_scraper\\lib\\site-packages\\urllib3\\connectionpool.py:1043: InsecureRequestWarning: Unverified HTTPS request is being made to host 'www2.aneel.gov.br'. Adding certificate verification is strongly advised. See: https://urllib3.readthedocs.io/en/1.26.x/advanced-usage.html#ssl-warnings\n",
      "  warnings.warn(\n",
      "D:\\python_projects\\cpfl\\web_scrapper\\venv_scraper\\lib\\site-packages\\urllib3\\connectionpool.py:1043: InsecureRequestWarning: Unverified HTTPS request is being made to host 'www2.aneel.gov.br'. Adding certificate verification is strongly advised. See: https://urllib3.readthedocs.io/en/1.26.x/advanced-usage.html#ssl-warnings\n",
      "  warnings.warn(\n"
     ]
    },
    {
     "name": "stdout",
     "output_type": "stream",
     "text": [
      "Arquivo: \"PCAT_EDPSP_2015-10-23_REVISAO_(PCATBANDEIRANTE22015).xlsx\" foi baixado com sucesso\n",
      "['PCAT_EDPSP_2015-03-02_REVISAOEXTRAORDINARIA_(PCATBANDEIRANTE2014CAT).xlsx'\n",
      " 'https://www2.aneel.gov.br/aplicacoes/tarifa/arquivo/PCAT_BANDEIRANTE_2014_CAT.xlsx']\n",
      "Arquivo: \"PCAT_EDPSP_2015-10-23_REVISAO_(PCATBANDEIRANTE22015).xlsx\" foi baixado com sucesso\n",
      "['PCAT_EDPSP_2015-03-02_REVISAOEXTRAORDINARIA_(PCATBANDEIRANTE2014CAT).xlsx'\n",
      " 'https://www2.aneel.gov.br/aplicacoes/tarifa/arquivo/PCAT_BANDEIRANTE_2014_CAT.xlsx']\n"
     ]
    },
    {
     "name": "stderr",
     "output_type": "stream",
     "text": [
      "D:\\python_projects\\cpfl\\web_scrapper\\venv_scraper\\lib\\site-packages\\urllib3\\connectionpool.py:1043: InsecureRequestWarning: Unverified HTTPS request is being made to host 'www2.aneel.gov.br'. Adding certificate verification is strongly advised. See: https://urllib3.readthedocs.io/en/1.26.x/advanced-usage.html#ssl-warnings\n",
      "  warnings.warn(\n",
      "D:\\python_projects\\cpfl\\web_scrapper\\venv_scraper\\lib\\site-packages\\urllib3\\connectionpool.py:1043: InsecureRequestWarning: Unverified HTTPS request is being made to host 'www2.aneel.gov.br'. Adding certificate verification is strongly advised. See: https://urllib3.readthedocs.io/en/1.26.x/advanced-usage.html#ssl-warnings\n",
      "  warnings.warn(\n"
     ]
    },
    {
     "name": "stdout",
     "output_type": "stream",
     "text": [
      "Arquivo: \"PCAT_EDPSP_2015-03-02_REVISAOEXTRAORDINARIA_(PCATBANDEIRANTE2014CAT).xlsx\" foi baixado com sucesso\n",
      "['PCAT_EDPSP_2016-10-23_REAJUSTE_(PCATBANDEIRANTE2016).xlsx'\n",
      " 'https://www2.aneel.gov.br/aplicacoes/tarifa/arquivo/PCAT_Bandeirante_2016.xlsx']\n",
      "Arquivo: \"PCAT_EDPSP_2015-03-02_REVISAOEXTRAORDINARIA_(PCATBANDEIRANTE2014CAT).xlsx\" foi baixado com sucesso\n",
      "['PCAT_EDPSP_2016-10-23_REAJUSTE_(PCATBANDEIRANTE2016).xlsx'\n",
      " 'https://www2.aneel.gov.br/aplicacoes/tarifa/arquivo/PCAT_Bandeirante_2016.xlsx']\n"
     ]
    },
    {
     "name": "stderr",
     "output_type": "stream",
     "text": [
      "D:\\python_projects\\cpfl\\web_scrapper\\venv_scraper\\lib\\site-packages\\urllib3\\connectionpool.py:1043: InsecureRequestWarning: Unverified HTTPS request is being made to host 'www2.aneel.gov.br'. Adding certificate verification is strongly advised. See: https://urllib3.readthedocs.io/en/1.26.x/advanced-usage.html#ssl-warnings\n",
      "  warnings.warn(\n",
      "D:\\python_projects\\cpfl\\web_scrapper\\venv_scraper\\lib\\site-packages\\urllib3\\connectionpool.py:1043: InsecureRequestWarning: Unverified HTTPS request is being made to host 'www2.aneel.gov.br'. Adding certificate verification is strongly advised. See: https://urllib3.readthedocs.io/en/1.26.x/advanced-usage.html#ssl-warnings\n",
      "  warnings.warn(\n"
     ]
    },
    {
     "name": "stdout",
     "output_type": "stream",
     "text": [
      "Arquivo: \"PCAT_EDPSP_2016-10-23_REAJUSTE_(PCATBANDEIRANTE2016).xlsx\" foi baixado com sucesso\n",
      "['PCAT_EDPSP_2017-10-23_REAJUSTE_(PCATBANDEIRANTE2017).xlsx'\n",
      " 'https://www2.aneel.gov.br/aplicacoes/tarifa/arquivo/PCAT_Bandeirante_2017.xlsx']\n",
      "Arquivo: \"PCAT_EDPSP_2016-10-23_REAJUSTE_(PCATBANDEIRANTE2016).xlsx\" foi baixado com sucesso\n",
      "['PCAT_EDPSP_2017-10-23_REAJUSTE_(PCATBANDEIRANTE2017).xlsx'\n",
      " 'https://www2.aneel.gov.br/aplicacoes/tarifa/arquivo/PCAT_Bandeirante_2017.xlsx']\n"
     ]
    },
    {
     "name": "stderr",
     "output_type": "stream",
     "text": [
      "D:\\python_projects\\cpfl\\web_scrapper\\venv_scraper\\lib\\site-packages\\urllib3\\connectionpool.py:1043: InsecureRequestWarning: Unverified HTTPS request is being made to host 'www2.aneel.gov.br'. Adding certificate verification is strongly advised. See: https://urllib3.readthedocs.io/en/1.26.x/advanced-usage.html#ssl-warnings\n",
      "  warnings.warn(\n",
      "D:\\python_projects\\cpfl\\web_scrapper\\venv_scraper\\lib\\site-packages\\urllib3\\connectionpool.py:1043: InsecureRequestWarning: Unverified HTTPS request is being made to host 'www2.aneel.gov.br'. Adding certificate verification is strongly advised. See: https://urllib3.readthedocs.io/en/1.26.x/advanced-usage.html#ssl-warnings\n",
      "  warnings.warn(\n"
     ]
    },
    {
     "name": "stdout",
     "output_type": "stream",
     "text": [
      "Arquivo: \"PCAT_EDPSP_2017-10-23_REAJUSTE_(PCATBANDEIRANTE2017).xlsx\" foi baixado com sucesso\n",
      "['PCAT_EDPSP_2018-10-23_REAJUSTE_(PCATBANDEIRANTE2018).xlsx'\n",
      " 'https://www2.aneel.gov.br/aplicacoes/tarifa/arquivo/PCAT_Bandeirante_2018 .xlsx']\n",
      "Arquivo: \"PCAT_EDPSP_2017-10-23_REAJUSTE_(PCATBANDEIRANTE2017).xlsx\" foi baixado com sucesso\n",
      "['PCAT_EDPSP_2018-10-23_REAJUSTE_(PCATBANDEIRANTE2018).xlsx'\n",
      " 'https://www2.aneel.gov.br/aplicacoes/tarifa/arquivo/PCAT_Bandeirante_2018 .xlsx']\n"
     ]
    },
    {
     "name": "stderr",
     "output_type": "stream",
     "text": [
      "D:\\python_projects\\cpfl\\web_scrapper\\venv_scraper\\lib\\site-packages\\urllib3\\connectionpool.py:1043: InsecureRequestWarning: Unverified HTTPS request is being made to host 'www2.aneel.gov.br'. Adding certificate verification is strongly advised. See: https://urllib3.readthedocs.io/en/1.26.x/advanced-usage.html#ssl-warnings\n",
      "  warnings.warn(\n",
      "D:\\python_projects\\cpfl\\web_scrapper\\venv_scraper\\lib\\site-packages\\urllib3\\connectionpool.py:1043: InsecureRequestWarning: Unverified HTTPS request is being made to host 'www2.aneel.gov.br'. Adding certificate verification is strongly advised. See: https://urllib3.readthedocs.io/en/1.26.x/advanced-usage.html#ssl-warnings\n",
      "  warnings.warn(\n"
     ]
    },
    {
     "name": "stdout",
     "output_type": "stream",
     "text": [
      "Arquivo: \"PCAT_EDPSP_2018-10-23_REAJUSTE_(PCATBANDEIRANTE2018).xlsx\" foi baixado com sucesso\n",
      "['PCAT_EDPSP_2019-10-22_REVISAO_(391PCATEDPSP2019V02).xlsx'\n",
      " 'https://www2.aneel.gov.br/aplicacoes/tarifa/arquivo/391 PCAT EDP SP 2019 V02.xlsx']\n",
      "Arquivo: \"PCAT_EDPSP_2018-10-23_REAJUSTE_(PCATBANDEIRANTE2018).xlsx\" foi baixado com sucesso\n",
      "['PCAT_EDPSP_2019-10-22_REVISAO_(391PCATEDPSP2019V02).xlsx'\n",
      " 'https://www2.aneel.gov.br/aplicacoes/tarifa/arquivo/391 PCAT EDP SP 2019 V02.xlsx']\n"
     ]
    },
    {
     "name": "stderr",
     "output_type": "stream",
     "text": [
      "D:\\python_projects\\cpfl\\web_scrapper\\venv_scraper\\lib\\site-packages\\urllib3\\connectionpool.py:1043: InsecureRequestWarning: Unverified HTTPS request is being made to host 'www2.aneel.gov.br'. Adding certificate verification is strongly advised. See: https://urllib3.readthedocs.io/en/1.26.x/advanced-usage.html#ssl-warnings\n",
      "  warnings.warn(\n",
      "D:\\python_projects\\cpfl\\web_scrapper\\venv_scraper\\lib\\site-packages\\urllib3\\connectionpool.py:1043: InsecureRequestWarning: Unverified HTTPS request is being made to host 'www2.aneel.gov.br'. Adding certificate verification is strongly advised. See: https://urllib3.readthedocs.io/en/1.26.x/advanced-usage.html#ssl-warnings\n",
      "  warnings.warn(\n"
     ]
    },
    {
     "name": "stdout",
     "output_type": "stream",
     "text": [
      "Arquivo: \"PCAT_EDPSP_2019-10-22_REVISAO_(391PCATEDPSP2019V02).xlsx\" foi baixado com sucesso\n",
      "['PCAT_EDPSP_2020-10-23_REAJUSTE_(391PCATEDPSP2020V02).xlsx'\n",
      " 'https://www2.aneel.gov.br/aplicacoes/tarifa/arquivo/391 PCAT EDP SP 2020 V02.xlsx']\n",
      "Arquivo: \"PCAT_EDPSP_2019-10-22_REVISAO_(391PCATEDPSP2019V02).xlsx\" foi baixado com sucesso\n",
      "['PCAT_EDPSP_2020-10-23_REAJUSTE_(391PCATEDPSP2020V02).xlsx'\n",
      " 'https://www2.aneel.gov.br/aplicacoes/tarifa/arquivo/391 PCAT EDP SP 2020 V02.xlsx']\n"
     ]
    },
    {
     "name": "stderr",
     "output_type": "stream",
     "text": [
      "D:\\python_projects\\cpfl\\web_scrapper\\venv_scraper\\lib\\site-packages\\urllib3\\connectionpool.py:1043: InsecureRequestWarning: Unverified HTTPS request is being made to host 'www2.aneel.gov.br'. Adding certificate verification is strongly advised. See: https://urllib3.readthedocs.io/en/1.26.x/advanced-usage.html#ssl-warnings\n",
      "  warnings.warn(\n",
      "D:\\python_projects\\cpfl\\web_scrapper\\venv_scraper\\lib\\site-packages\\urllib3\\connectionpool.py:1043: InsecureRequestWarning: Unverified HTTPS request is being made to host 'www2.aneel.gov.br'. Adding certificate verification is strongly advised. See: https://urllib3.readthedocs.io/en/1.26.x/advanced-usage.html#ssl-warnings\n",
      "  warnings.warn(\n"
     ]
    },
    {
     "name": "stdout",
     "output_type": "stream",
     "text": [
      "Arquivo: \"PCAT_EDPSP_2020-10-23_REAJUSTE_(391PCATEDPSP2020V02).xlsx\" foi baixado com sucesso\n",
      "['PCAT_EEB_2014-05-06_REAJUSTE_(PCATEEB2014).xlsx'\n",
      " 'https://www2.aneel.gov.br/aplicacoes/tarifa/arquivo/PCAT_EEB_2014.xlsx']\n",
      "Arquivo: \"PCAT_EDPSP_2020-10-23_REAJUSTE_(391PCATEDPSP2020V02).xlsx\" foi baixado com sucesso\n",
      "['PCAT_EEB_2014-05-06_REAJUSTE_(PCATEEB2014).xlsx'\n",
      " 'https://www2.aneel.gov.br/aplicacoes/tarifa/arquivo/PCAT_EEB_2014.xlsx']\n"
     ]
    },
    {
     "name": "stderr",
     "output_type": "stream",
     "text": [
      "D:\\python_projects\\cpfl\\web_scrapper\\venv_scraper\\lib\\site-packages\\urllib3\\connectionpool.py:1043: InsecureRequestWarning: Unverified HTTPS request is being made to host 'www2.aneel.gov.br'. Adding certificate verification is strongly advised. See: https://urllib3.readthedocs.io/en/1.26.x/advanced-usage.html#ssl-warnings\n",
      "  warnings.warn(\n",
      "D:\\python_projects\\cpfl\\web_scrapper\\venv_scraper\\lib\\site-packages\\urllib3\\connectionpool.py:1043: InsecureRequestWarning: Unverified HTTPS request is being made to host 'www2.aneel.gov.br'. Adding certificate verification is strongly advised. See: https://urllib3.readthedocs.io/en/1.26.x/advanced-usage.html#ssl-warnings\n",
      "  warnings.warn(\n"
     ]
    },
    {
     "name": "stdout",
     "output_type": "stream",
     "text": [
      "Arquivo: \"PCAT_EEB_2014-05-06_REAJUSTE_(PCATEEB2014).xlsx\" foi baixado com sucesso\n",
      "['PCAT_EEB_2015-05-10_REAJUSTE_(PCATEEB2015).xlsx'\n",
      " 'https://www2.aneel.gov.br/aplicacoes/tarifa/arquivo/PCAT_EEB_2015.xlsx']\n",
      "Arquivo: \"PCAT_EEB_2014-05-06_REAJUSTE_(PCATEEB2014).xlsx\" foi baixado com sucesso\n",
      "['PCAT_EEB_2015-05-10_REAJUSTE_(PCATEEB2015).xlsx'\n",
      " 'https://www2.aneel.gov.br/aplicacoes/tarifa/arquivo/PCAT_EEB_2015.xlsx']\n"
     ]
    },
    {
     "name": "stderr",
     "output_type": "stream",
     "text": [
      "D:\\python_projects\\cpfl\\web_scrapper\\venv_scraper\\lib\\site-packages\\urllib3\\connectionpool.py:1043: InsecureRequestWarning: Unverified HTTPS request is being made to host 'www2.aneel.gov.br'. Adding certificate verification is strongly advised. See: https://urllib3.readthedocs.io/en/1.26.x/advanced-usage.html#ssl-warnings\n",
      "  warnings.warn(\n",
      "D:\\python_projects\\cpfl\\web_scrapper\\venv_scraper\\lib\\site-packages\\urllib3\\connectionpool.py:1043: InsecureRequestWarning: Unverified HTTPS request is being made to host 'www2.aneel.gov.br'. Adding certificate verification is strongly advised. See: https://urllib3.readthedocs.io/en/1.26.x/advanced-usage.html#ssl-warnings\n",
      "  warnings.warn(\n"
     ]
    },
    {
     "name": "stdout",
     "output_type": "stream",
     "text": [
      "Arquivo: \"PCAT_EEB_2015-05-10_REAJUSTE_(PCATEEB2015).xlsx\" foi baixado com sucesso\n",
      "['PCAT_EEB_2015-03-02_REVISAOEXTRAORDINARIA_(PCATEEB2014V00).xlsx'\n",
      " 'https://www2.aneel.gov.br/aplicacoes/tarifa/arquivo/PCAT_EEB_2014_V00.xlsx']\n",
      "Arquivo: \"PCAT_EEB_2015-05-10_REAJUSTE_(PCATEEB2015).xlsx\" foi baixado com sucesso\n",
      "['PCAT_EEB_2015-03-02_REVISAOEXTRAORDINARIA_(PCATEEB2014V00).xlsx'\n",
      " 'https://www2.aneel.gov.br/aplicacoes/tarifa/arquivo/PCAT_EEB_2014_V00.xlsx']\n"
     ]
    },
    {
     "name": "stderr",
     "output_type": "stream",
     "text": [
      "D:\\python_projects\\cpfl\\web_scrapper\\venv_scraper\\lib\\site-packages\\urllib3\\connectionpool.py:1043: InsecureRequestWarning: Unverified HTTPS request is being made to host 'www2.aneel.gov.br'. Adding certificate verification is strongly advised. See: https://urllib3.readthedocs.io/en/1.26.x/advanced-usage.html#ssl-warnings\n",
      "  warnings.warn(\n",
      "D:\\python_projects\\cpfl\\web_scrapper\\venv_scraper\\lib\\site-packages\\urllib3\\connectionpool.py:1043: InsecureRequestWarning: Unverified HTTPS request is being made to host 'www2.aneel.gov.br'. Adding certificate verification is strongly advised. See: https://urllib3.readthedocs.io/en/1.26.x/advanced-usage.html#ssl-warnings\n",
      "  warnings.warn(\n"
     ]
    },
    {
     "name": "stdout",
     "output_type": "stream",
     "text": [
      "Arquivo: \"PCAT_EEB_2015-03-02_REVISAOEXTRAORDINARIA_(PCATEEB2014V00).xlsx\" foi baixado com sucesso\n",
      "['PCAT_EEB_2016-05-10_REVISAO_(PCATEEB2016).xlsx'\n",
      " 'https://www2.aneel.gov.br/aplicacoes/tarifa/arquivo/PCAT_EEB_2016.xlsx']\n",
      "Arquivo: \"PCAT_EEB_2015-03-02_REVISAOEXTRAORDINARIA_(PCATEEB2014V00).xlsx\" foi baixado com sucesso\n",
      "['PCAT_EEB_2016-05-10_REVISAO_(PCATEEB2016).xlsx'\n",
      " 'https://www2.aneel.gov.br/aplicacoes/tarifa/arquivo/PCAT_EEB_2016.xlsx']\n"
     ]
    },
    {
     "name": "stderr",
     "output_type": "stream",
     "text": [
      "D:\\python_projects\\cpfl\\web_scrapper\\venv_scraper\\lib\\site-packages\\urllib3\\connectionpool.py:1043: InsecureRequestWarning: Unverified HTTPS request is being made to host 'www2.aneel.gov.br'. Adding certificate verification is strongly advised. See: https://urllib3.readthedocs.io/en/1.26.x/advanced-usage.html#ssl-warnings\n",
      "  warnings.warn(\n",
      "D:\\python_projects\\cpfl\\web_scrapper\\venv_scraper\\lib\\site-packages\\urllib3\\connectionpool.py:1043: InsecureRequestWarning: Unverified HTTPS request is being made to host 'www2.aneel.gov.br'. Adding certificate verification is strongly advised. See: https://urllib3.readthedocs.io/en/1.26.x/advanced-usage.html#ssl-warnings\n",
      "  warnings.warn(\n"
     ]
    },
    {
     "name": "stdout",
     "output_type": "stream",
     "text": [
      "Arquivo: \"PCAT_EEB_2016-05-10_REVISAO_(PCATEEB2016).xlsx\" foi baixado com sucesso\n",
      "['PCAT_EEB_2017-07-12_REAJUSTE_(PCATSUPERENER20173).xlsx'\n",
      " 'https://www2.aneel.gov.br/aplicacoes/tarifa/arquivo/PCAT_SuperEner_20173.xlsx']\n",
      "Arquivo: \"PCAT_EEB_2016-05-10_REVISAO_(PCATEEB2016).xlsx\" foi baixado com sucesso\n",
      "['PCAT_EEB_2017-07-12_REAJUSTE_(PCATSUPERENER20173).xlsx'\n",
      " 'https://www2.aneel.gov.br/aplicacoes/tarifa/arquivo/PCAT_SuperEner_20173.xlsx']\n"
     ]
    },
    {
     "name": "stderr",
     "output_type": "stream",
     "text": [
      "D:\\python_projects\\cpfl\\web_scrapper\\venv_scraper\\lib\\site-packages\\urllib3\\connectionpool.py:1043: InsecureRequestWarning: Unverified HTTPS request is being made to host 'www2.aneel.gov.br'. Adding certificate verification is strongly advised. See: https://urllib3.readthedocs.io/en/1.26.x/advanced-usage.html#ssl-warnings\n",
      "  warnings.warn(\n",
      "D:\\python_projects\\cpfl\\web_scrapper\\venv_scraper\\lib\\site-packages\\urllib3\\connectionpool.py:1043: InsecureRequestWarning: Unverified HTTPS request is being made to host 'www2.aneel.gov.br'. Adding certificate verification is strongly advised. See: https://urllib3.readthedocs.io/en/1.26.x/advanced-usage.html#ssl-warnings\n",
      "  warnings.warn(\n"
     ]
    },
    {
     "name": "stdout",
     "output_type": "stream",
     "text": [
      "Arquivo: \"PCAT_EEB_2017-07-12_REAJUSTE_(PCATSUPERENER20173).xlsx\" foi baixado com sucesso\n",
      "['PCAT_EFLJC_2013-01-24_REAJUSTE_(PCATEFLJC2013).xlsx'\n",
      " 'https://www2.aneel.gov.br/aplicacoes/tarifa/arquivo/PCAT_EFLJC_2013.xlsx']\n",
      "Arquivo: \"PCAT_EEB_2017-07-12_REAJUSTE_(PCATSUPERENER20173).xlsx\" foi baixado com sucesso\n",
      "['PCAT_EFLJC_2013-01-24_REAJUSTE_(PCATEFLJC2013).xlsx'\n",
      " 'https://www2.aneel.gov.br/aplicacoes/tarifa/arquivo/PCAT_EFLJC_2013.xlsx']\n"
     ]
    },
    {
     "name": "stderr",
     "output_type": "stream",
     "text": [
      "D:\\python_projects\\cpfl\\web_scrapper\\venv_scraper\\lib\\site-packages\\urllib3\\connectionpool.py:1043: InsecureRequestWarning: Unverified HTTPS request is being made to host 'www2.aneel.gov.br'. Adding certificate verification is strongly advised. See: https://urllib3.readthedocs.io/en/1.26.x/advanced-usage.html#ssl-warnings\n",
      "  warnings.warn(\n",
      "D:\\python_projects\\cpfl\\web_scrapper\\venv_scraper\\lib\\site-packages\\urllib3\\connectionpool.py:1043: InsecureRequestWarning: Unverified HTTPS request is being made to host 'www2.aneel.gov.br'. Adding certificate verification is strongly advised. See: https://urllib3.readthedocs.io/en/1.26.x/advanced-usage.html#ssl-warnings\n",
      "  warnings.warn(\n"
     ]
    },
    {
     "name": "stdout",
     "output_type": "stream",
     "text": [
      "Arquivo: \"PCAT_EFLJC_2013-01-24_REAJUSTE_(PCATEFLJC2013).xlsx\" foi baixado com sucesso\n",
      "['PCAT_EFLJC_2014-08-12_REAJUSTE_(PCATEFLJC2014).xlsx'\n",
      " 'https://www2.aneel.gov.br/aplicacoes/tarifa/arquivo/PCAT_EFLJC_2014.xlsx']\n",
      "Arquivo: \"PCAT_EFLJC_2013-01-24_REAJUSTE_(PCATEFLJC2013).xlsx\" foi baixado com sucesso\n",
      "['PCAT_EFLJC_2014-08-12_REAJUSTE_(PCATEFLJC2014).xlsx'\n",
      " 'https://www2.aneel.gov.br/aplicacoes/tarifa/arquivo/PCAT_EFLJC_2014.xlsx']\n"
     ]
    },
    {
     "name": "stderr",
     "output_type": "stream",
     "text": [
      "D:\\python_projects\\cpfl\\web_scrapper\\venv_scraper\\lib\\site-packages\\urllib3\\connectionpool.py:1043: InsecureRequestWarning: Unverified HTTPS request is being made to host 'www2.aneel.gov.br'. Adding certificate verification is strongly advised. See: https://urllib3.readthedocs.io/en/1.26.x/advanced-usage.html#ssl-warnings\n",
      "  warnings.warn(\n",
      "D:\\python_projects\\cpfl\\web_scrapper\\venv_scraper\\lib\\site-packages\\urllib3\\connectionpool.py:1043: InsecureRequestWarning: Unverified HTTPS request is being made to host 'www2.aneel.gov.br'. Adding certificate verification is strongly advised. See: https://urllib3.readthedocs.io/en/1.26.x/advanced-usage.html#ssl-warnings\n",
      "  warnings.warn(\n"
     ]
    },
    {
     "name": "stdout",
     "output_type": "stream",
     "text": [
      "Arquivo: \"PCAT_EFLJC_2014-08-12_REAJUSTE_(PCATEFLJC2014).xlsx\" foi baixado com sucesso\n",
      "['PCAT_EFLJC_2015-08-14_REAJUSTE_(PCATEFLJC2015).xlsx'\n",
      " 'https://www2.aneel.gov.br/aplicacoes/tarifa/arquivo/PCAT_EFLJC_2015.xlsx']\n",
      "Arquivo: \"PCAT_EFLJC_2014-08-12_REAJUSTE_(PCATEFLJC2014).xlsx\" foi baixado com sucesso\n",
      "['PCAT_EFLJC_2015-08-14_REAJUSTE_(PCATEFLJC2015).xlsx'\n",
      " 'https://www2.aneel.gov.br/aplicacoes/tarifa/arquivo/PCAT_EFLJC_2015.xlsx']\n"
     ]
    },
    {
     "name": "stderr",
     "output_type": "stream",
     "text": [
      "D:\\python_projects\\cpfl\\web_scrapper\\venv_scraper\\lib\\site-packages\\urllib3\\connectionpool.py:1043: InsecureRequestWarning: Unverified HTTPS request is being made to host 'www2.aneel.gov.br'. Adding certificate verification is strongly advised. See: https://urllib3.readthedocs.io/en/1.26.x/advanced-usage.html#ssl-warnings\n",
      "  warnings.warn(\n",
      "D:\\python_projects\\cpfl\\web_scrapper\\venv_scraper\\lib\\site-packages\\urllib3\\connectionpool.py:1043: InsecureRequestWarning: Unverified HTTPS request is being made to host 'www2.aneel.gov.br'. Adding certificate verification is strongly advised. See: https://urllib3.readthedocs.io/en/1.26.x/advanced-usage.html#ssl-warnings\n",
      "  warnings.warn(\n"
     ]
    },
    {
     "name": "stdout",
     "output_type": "stream",
     "text": [
      "Arquivo: \"PCAT_EFLJC_2015-08-14_REAJUSTE_(PCATEFLJC2015).xlsx\" foi baixado com sucesso\n",
      "['PCAT_EFLJC_2015-03-02_REVISAOEXTRAORDINARIA_(PCATEFLJC2014V00).xlsx'\n",
      " 'https://www2.aneel.gov.br/aplicacoes/tarifa/arquivo/PCAT_EFLJC_2014_V00.xlsx']\n",
      "Arquivo: \"PCAT_EFLJC_2015-08-14_REAJUSTE_(PCATEFLJC2015).xlsx\" foi baixado com sucesso\n",
      "['PCAT_EFLJC_2015-03-02_REVISAOEXTRAORDINARIA_(PCATEFLJC2014V00).xlsx'\n",
      " 'https://www2.aneel.gov.br/aplicacoes/tarifa/arquivo/PCAT_EFLJC_2014_V00.xlsx']\n"
     ]
    },
    {
     "name": "stderr",
     "output_type": "stream",
     "text": [
      "D:\\python_projects\\cpfl\\web_scrapper\\venv_scraper\\lib\\site-packages\\urllib3\\connectionpool.py:1043: InsecureRequestWarning: Unverified HTTPS request is being made to host 'www2.aneel.gov.br'. Adding certificate verification is strongly advised. See: https://urllib3.readthedocs.io/en/1.26.x/advanced-usage.html#ssl-warnings\n",
      "  warnings.warn(\n",
      "D:\\python_projects\\cpfl\\web_scrapper\\venv_scraper\\lib\\site-packages\\urllib3\\connectionpool.py:1043: InsecureRequestWarning: Unverified HTTPS request is being made to host 'www2.aneel.gov.br'. Adding certificate verification is strongly advised. See: https://urllib3.readthedocs.io/en/1.26.x/advanced-usage.html#ssl-warnings\n",
      "  warnings.warn(\n"
     ]
    },
    {
     "name": "stdout",
     "output_type": "stream",
     "text": [
      "Arquivo: \"PCAT_EFLJC_2015-03-02_REVISAOEXTRAORDINARIA_(PCATEFLJC2014V00).xlsx\" foi baixado com sucesso\n",
      "['PCAT_EFLJC_2016-08-29_REVISAO_(PCATEFLJC2016).xlsx'\n",
      " 'https://www2.aneel.gov.br/aplicacoes/tarifa/arquivo/PCAT_EFLJC_2016.xlsx']\n",
      "Arquivo: \"PCAT_EFLJC_2015-03-02_REVISAOEXTRAORDINARIA_(PCATEFLJC2014V00).xlsx\" foi baixado com sucesso\n",
      "['PCAT_EFLJC_2016-08-29_REVISAO_(PCATEFLJC2016).xlsx'\n",
      " 'https://www2.aneel.gov.br/aplicacoes/tarifa/arquivo/PCAT_EFLJC_2016.xlsx']\n"
     ]
    },
    {
     "name": "stderr",
     "output_type": "stream",
     "text": [
      "D:\\python_projects\\cpfl\\web_scrapper\\venv_scraper\\lib\\site-packages\\urllib3\\connectionpool.py:1043: InsecureRequestWarning: Unverified HTTPS request is being made to host 'www2.aneel.gov.br'. Adding certificate verification is strongly advised. See: https://urllib3.readthedocs.io/en/1.26.x/advanced-usage.html#ssl-warnings\n",
      "  warnings.warn(\n",
      "D:\\python_projects\\cpfl\\web_scrapper\\venv_scraper\\lib\\site-packages\\urllib3\\connectionpool.py:1043: InsecureRequestWarning: Unverified HTTPS request is being made to host 'www2.aneel.gov.br'. Adding certificate verification is strongly advised. See: https://urllib3.readthedocs.io/en/1.26.x/advanced-usage.html#ssl-warnings\n",
      "  warnings.warn(\n"
     ]
    },
    {
     "name": "stdout",
     "output_type": "stream",
     "text": [
      "Arquivo: \"PCAT_EFLJC_2016-08-29_REVISAO_(PCATEFLJC2016).xlsx\" foi baixado com sucesso\n",
      "['PCAT_EFLJC_2017-08-29_REAJUSTE_(PCATEFLJC2017).xlsx'\n",
      " 'https://www2.aneel.gov.br/aplicacoes/tarifa/arquivo/PCAT_EFLJC_2017 .xlsx']\n",
      "Arquivo: \"PCAT_EFLJC_2016-08-29_REVISAO_(PCATEFLJC2016).xlsx\" foi baixado com sucesso\n",
      "['PCAT_EFLJC_2017-08-29_REAJUSTE_(PCATEFLJC2017).xlsx'\n",
      " 'https://www2.aneel.gov.br/aplicacoes/tarifa/arquivo/PCAT_EFLJC_2017 .xlsx']\n"
     ]
    },
    {
     "name": "stderr",
     "output_type": "stream",
     "text": [
      "D:\\python_projects\\cpfl\\web_scrapper\\venv_scraper\\lib\\site-packages\\urllib3\\connectionpool.py:1043: InsecureRequestWarning: Unverified HTTPS request is being made to host 'www2.aneel.gov.br'. Adding certificate verification is strongly advised. See: https://urllib3.readthedocs.io/en/1.26.x/advanced-usage.html#ssl-warnings\n",
      "  warnings.warn(\n",
      "D:\\python_projects\\cpfl\\web_scrapper\\venv_scraper\\lib\\site-packages\\urllib3\\connectionpool.py:1043: InsecureRequestWarning: Unverified HTTPS request is being made to host 'www2.aneel.gov.br'. Adding certificate verification is strongly advised. See: https://urllib3.readthedocs.io/en/1.26.x/advanced-usage.html#ssl-warnings\n",
      "  warnings.warn(\n"
     ]
    },
    {
     "name": "stdout",
     "output_type": "stream",
     "text": [
      "Arquivo: \"PCAT_EFLJC_2017-08-29_REAJUSTE_(PCATEFLJC2017).xlsx\" foi baixado com sucesso\n",
      "['PCAT_EFLJC_2018-08-29_REAJUSTE_(PCATEFLJC2018).xlsx'\n",
      " 'https://www2.aneel.gov.br/aplicacoes/tarifa/arquivo/PCAT_EFLJC_2018 .xlsx']\n",
      "Arquivo: \"PCAT_EFLJC_2017-08-29_REAJUSTE_(PCATEFLJC2017).xlsx\" foi baixado com sucesso\n",
      "['PCAT_EFLJC_2018-08-29_REAJUSTE_(PCATEFLJC2018).xlsx'\n",
      " 'https://www2.aneel.gov.br/aplicacoes/tarifa/arquivo/PCAT_EFLJC_2018 .xlsx']\n"
     ]
    },
    {
     "name": "stderr",
     "output_type": "stream",
     "text": [
      "D:\\python_projects\\cpfl\\web_scrapper\\venv_scraper\\lib\\site-packages\\urllib3\\connectionpool.py:1043: InsecureRequestWarning: Unverified HTTPS request is being made to host 'www2.aneel.gov.br'. Adding certificate verification is strongly advised. See: https://urllib3.readthedocs.io/en/1.26.x/advanced-usage.html#ssl-warnings\n",
      "  warnings.warn(\n",
      "D:\\python_projects\\cpfl\\web_scrapper\\venv_scraper\\lib\\site-packages\\urllib3\\connectionpool.py:1043: InsecureRequestWarning: Unverified HTTPS request is being made to host 'www2.aneel.gov.br'. Adding certificate verification is strongly advised. See: https://urllib3.readthedocs.io/en/1.26.x/advanced-usage.html#ssl-warnings\n",
      "  warnings.warn(\n"
     ]
    },
    {
     "name": "stdout",
     "output_type": "stream",
     "text": [
      "Arquivo: \"PCAT_EFLJC_2018-08-29_REAJUSTE_(PCATEFLJC2018).xlsx\" foi baixado com sucesso\n",
      "['PCAT_EFLJC_2019-08-29_REAJUSTE_(88PCATEFLJC2019).xlsx'\n",
      " 'https://www2.aneel.gov.br/aplicacoes/tarifa/arquivo/88 PCAT EFLJC 2019.xlsx']\n",
      "Arquivo: \"PCAT_EFLJC_2018-08-29_REAJUSTE_(PCATEFLJC2018).xlsx\" foi baixado com sucesso\n",
      "['PCAT_EFLJC_2019-08-29_REAJUSTE_(88PCATEFLJC2019).xlsx'\n",
      " 'https://www2.aneel.gov.br/aplicacoes/tarifa/arquivo/88 PCAT EFLJC 2019.xlsx']\n"
     ]
    },
    {
     "name": "stderr",
     "output_type": "stream",
     "text": [
      "D:\\python_projects\\cpfl\\web_scrapper\\venv_scraper\\lib\\site-packages\\urllib3\\connectionpool.py:1043: InsecureRequestWarning: Unverified HTTPS request is being made to host 'www2.aneel.gov.br'. Adding certificate verification is strongly advised. See: https://urllib3.readthedocs.io/en/1.26.x/advanced-usage.html#ssl-warnings\n",
      "  warnings.warn(\n",
      "D:\\python_projects\\cpfl\\web_scrapper\\venv_scraper\\lib\\site-packages\\urllib3\\connectionpool.py:1043: InsecureRequestWarning: Unverified HTTPS request is being made to host 'www2.aneel.gov.br'. Adding certificate verification is strongly advised. See: https://urllib3.readthedocs.io/en/1.26.x/advanced-usage.html#ssl-warnings\n",
      "  warnings.warn(\n"
     ]
    },
    {
     "name": "stdout",
     "output_type": "stream",
     "text": [
      "Arquivo: \"PCAT_EFLJC_2019-08-29_REAJUSTE_(88PCATEFLJC2019).xlsx\" foi baixado com sucesso\n",
      "['PCAT_EFLJC_2020-08-29_REAJUSTE_(88PCATEFLJC2020V02).xlsx'\n",
      " 'https://www2.aneel.gov.br/aplicacoes/tarifa/arquivo/88 PCAT EFLJC 2020 V02.xlsx']\n",
      "Arquivo: \"PCAT_EFLJC_2019-08-29_REAJUSTE_(88PCATEFLJC2019).xlsx\" foi baixado com sucesso\n",
      "['PCAT_EFLJC_2020-08-29_REAJUSTE_(88PCATEFLJC2020V02).xlsx'\n",
      " 'https://www2.aneel.gov.br/aplicacoes/tarifa/arquivo/88 PCAT EFLJC 2020 V02.xlsx']\n"
     ]
    },
    {
     "name": "stderr",
     "output_type": "stream",
     "text": [
      "D:\\python_projects\\cpfl\\web_scrapper\\venv_scraper\\lib\\site-packages\\urllib3\\connectionpool.py:1043: InsecureRequestWarning: Unverified HTTPS request is being made to host 'www2.aneel.gov.br'. Adding certificate verification is strongly advised. See: https://urllib3.readthedocs.io/en/1.26.x/advanced-usage.html#ssl-warnings\n",
      "  warnings.warn(\n",
      "D:\\python_projects\\cpfl\\web_scrapper\\venv_scraper\\lib\\site-packages\\urllib3\\connectionpool.py:1043: InsecureRequestWarning: Unverified HTTPS request is being made to host 'www2.aneel.gov.br'. Adding certificate verification is strongly advised. See: https://urllib3.readthedocs.io/en/1.26.x/advanced-usage.html#ssl-warnings\n",
      "  warnings.warn(\n"
     ]
    },
    {
     "name": "stdout",
     "output_type": "stream",
     "text": [
      "Arquivo: \"PCAT_EFLJC_2020-08-29_REAJUSTE_(88PCATEFLJC2020V02).xlsx\" foi baixado com sucesso\n",
      "['PCAT_EFLJC_2021-08-29_REVISAO_(88PCATEFLJC2021V02).xlsx'\n",
      " 'https://www2.aneel.gov.br/aplicacoes/tarifa/arquivo/88 PCAT EFLJC 2021 V02.xlsx']\n",
      "Arquivo: \"PCAT_EFLJC_2020-08-29_REAJUSTE_(88PCATEFLJC2020V02).xlsx\" foi baixado com sucesso\n",
      "['PCAT_EFLJC_2021-08-29_REVISAO_(88PCATEFLJC2021V02).xlsx'\n",
      " 'https://www2.aneel.gov.br/aplicacoes/tarifa/arquivo/88 PCAT EFLJC 2021 V02.xlsx']\n"
     ]
    },
    {
     "name": "stderr",
     "output_type": "stream",
     "text": [
      "D:\\python_projects\\cpfl\\web_scrapper\\venv_scraper\\lib\\site-packages\\urllib3\\connectionpool.py:1043: InsecureRequestWarning: Unverified HTTPS request is being made to host 'www2.aneel.gov.br'. Adding certificate verification is strongly advised. See: https://urllib3.readthedocs.io/en/1.26.x/advanced-usage.html#ssl-warnings\n",
      "  warnings.warn(\n",
      "D:\\python_projects\\cpfl\\web_scrapper\\venv_scraper\\lib\\site-packages\\urllib3\\connectionpool.py:1043: InsecureRequestWarning: Unverified HTTPS request is being made to host 'www2.aneel.gov.br'. Adding certificate verification is strongly advised. See: https://urllib3.readthedocs.io/en/1.26.x/advanced-usage.html#ssl-warnings\n",
      "  warnings.warn(\n"
     ]
    },
    {
     "name": "stdout",
     "output_type": "stream",
     "text": [
      "Arquivo: \"PCAT_EFLJC_2021-08-29_REVISAO_(88PCATEFLJC2021V02).xlsx\" foi baixado com sucesso\n",
      "['PCAT_EFLUL_2014-08-12_REAJUSTE_(PCATEFLUL2014).xlsx'\n",
      " 'https://www2.aneel.gov.br/aplicacoes/tarifa/arquivo/PCAT_EFLUL_2014.xlsx']\n",
      "Arquivo: \"PCAT_EFLJC_2021-08-29_REVISAO_(88PCATEFLJC2021V02).xlsx\" foi baixado com sucesso\n",
      "['PCAT_EFLUL_2014-08-12_REAJUSTE_(PCATEFLUL2014).xlsx'\n",
      " 'https://www2.aneel.gov.br/aplicacoes/tarifa/arquivo/PCAT_EFLUL_2014.xlsx']\n"
     ]
    },
    {
     "name": "stderr",
     "output_type": "stream",
     "text": [
      "D:\\python_projects\\cpfl\\web_scrapper\\venv_scraper\\lib\\site-packages\\urllib3\\connectionpool.py:1043: InsecureRequestWarning: Unverified HTTPS request is being made to host 'www2.aneel.gov.br'. Adding certificate verification is strongly advised. See: https://urllib3.readthedocs.io/en/1.26.x/advanced-usage.html#ssl-warnings\n",
      "  warnings.warn(\n",
      "D:\\python_projects\\cpfl\\web_scrapper\\venv_scraper\\lib\\site-packages\\urllib3\\connectionpool.py:1043: InsecureRequestWarning: Unverified HTTPS request is being made to host 'www2.aneel.gov.br'. Adding certificate verification is strongly advised. See: https://urllib3.readthedocs.io/en/1.26.x/advanced-usage.html#ssl-warnings\n",
      "  warnings.warn(\n"
     ]
    },
    {
     "name": "stdout",
     "output_type": "stream",
     "text": [
      "Arquivo: \"PCAT_EFLUL_2014-08-12_REAJUSTE_(PCATEFLUL2014).xlsx\" foi baixado com sucesso\n",
      "['PCAT_EFLUL_2015-08-14_REAJUSTE_(PCATEFLUL2015).xlsx'\n",
      " 'https://www2.aneel.gov.br/aplicacoes/tarifa/arquivo/PCAT_Eflul_2015.xlsx']\n",
      "Arquivo: \"PCAT_EFLUL_2014-08-12_REAJUSTE_(PCATEFLUL2014).xlsx\" foi baixado com sucesso\n",
      "['PCAT_EFLUL_2015-08-14_REAJUSTE_(PCATEFLUL2015).xlsx'\n",
      " 'https://www2.aneel.gov.br/aplicacoes/tarifa/arquivo/PCAT_Eflul_2015.xlsx']\n"
     ]
    },
    {
     "name": "stderr",
     "output_type": "stream",
     "text": [
      "D:\\python_projects\\cpfl\\web_scrapper\\venv_scraper\\lib\\site-packages\\urllib3\\connectionpool.py:1043: InsecureRequestWarning: Unverified HTTPS request is being made to host 'www2.aneel.gov.br'. Adding certificate verification is strongly advised. See: https://urllib3.readthedocs.io/en/1.26.x/advanced-usage.html#ssl-warnings\n",
      "  warnings.warn(\n",
      "D:\\python_projects\\cpfl\\web_scrapper\\venv_scraper\\lib\\site-packages\\urllib3\\connectionpool.py:1043: InsecureRequestWarning: Unverified HTTPS request is being made to host 'www2.aneel.gov.br'. Adding certificate verification is strongly advised. See: https://urllib3.readthedocs.io/en/1.26.x/advanced-usage.html#ssl-warnings\n",
      "  warnings.warn(\n"
     ]
    },
    {
     "name": "stdout",
     "output_type": "stream",
     "text": [
      "Arquivo: \"PCAT_EFLUL_2015-08-14_REAJUSTE_(PCATEFLUL2015).xlsx\" foi baixado com sucesso\n",
      "['PCAT_EFLUL_2015-03-02_REVISAOEXTRAORDINARIA_(PCATEFLUL2014V00).xlsx'\n",
      " 'https://www2.aneel.gov.br/aplicacoes/tarifa/arquivo/PCAT_EFLUL_2014_V00.xlsx']\n",
      "Arquivo: \"PCAT_EFLUL_2015-08-14_REAJUSTE_(PCATEFLUL2015).xlsx\" foi baixado com sucesso\n",
      "['PCAT_EFLUL_2015-03-02_REVISAOEXTRAORDINARIA_(PCATEFLUL2014V00).xlsx'\n",
      " 'https://www2.aneel.gov.br/aplicacoes/tarifa/arquivo/PCAT_EFLUL_2014_V00.xlsx']\n"
     ]
    },
    {
     "name": "stderr",
     "output_type": "stream",
     "text": [
      "D:\\python_projects\\cpfl\\web_scrapper\\venv_scraper\\lib\\site-packages\\urllib3\\connectionpool.py:1043: InsecureRequestWarning: Unverified HTTPS request is being made to host 'www2.aneel.gov.br'. Adding certificate verification is strongly advised. See: https://urllib3.readthedocs.io/en/1.26.x/advanced-usage.html#ssl-warnings\n",
      "  warnings.warn(\n",
      "D:\\python_projects\\cpfl\\web_scrapper\\venv_scraper\\lib\\site-packages\\urllib3\\connectionpool.py:1043: InsecureRequestWarning: Unverified HTTPS request is being made to host 'www2.aneel.gov.br'. Adding certificate verification is strongly advised. See: https://urllib3.readthedocs.io/en/1.26.x/advanced-usage.html#ssl-warnings\n",
      "  warnings.warn(\n"
     ]
    },
    {
     "name": "stdout",
     "output_type": "stream",
     "text": [
      "Arquivo: \"PCAT_EFLUL_2015-03-02_REVISAOEXTRAORDINARIA_(PCATEFLUL2014V00).xlsx\" foi baixado com sucesso\n",
      "['PCAT_EFLUL_2016-08-29_REVISAO_(PCATEFLUL2016).xlsx'\n",
      " 'https://www2.aneel.gov.br/aplicacoes/tarifa/arquivo/PCAT_Eflul_2016.xlsx']\n",
      "Arquivo: \"PCAT_EFLUL_2015-03-02_REVISAOEXTRAORDINARIA_(PCATEFLUL2014V00).xlsx\" foi baixado com sucesso\n",
      "['PCAT_EFLUL_2016-08-29_REVISAO_(PCATEFLUL2016).xlsx'\n",
      " 'https://www2.aneel.gov.br/aplicacoes/tarifa/arquivo/PCAT_Eflul_2016.xlsx']\n"
     ]
    },
    {
     "name": "stderr",
     "output_type": "stream",
     "text": [
      "D:\\python_projects\\cpfl\\web_scrapper\\venv_scraper\\lib\\site-packages\\urllib3\\connectionpool.py:1043: InsecureRequestWarning: Unverified HTTPS request is being made to host 'www2.aneel.gov.br'. Adding certificate verification is strongly advised. See: https://urllib3.readthedocs.io/en/1.26.x/advanced-usage.html#ssl-warnings\n",
      "  warnings.warn(\n",
      "D:\\python_projects\\cpfl\\web_scrapper\\venv_scraper\\lib\\site-packages\\urllib3\\connectionpool.py:1043: InsecureRequestWarning: Unverified HTTPS request is being made to host 'www2.aneel.gov.br'. Adding certificate verification is strongly advised. See: https://urllib3.readthedocs.io/en/1.26.x/advanced-usage.html#ssl-warnings\n",
      "  warnings.warn(\n"
     ]
    },
    {
     "name": "stdout",
     "output_type": "stream",
     "text": [
      "Arquivo: \"PCAT_EFLUL_2016-08-29_REVISAO_(PCATEFLUL2016).xlsx\" foi baixado com sucesso\n",
      "['PCAT_EFLUL_2017-08-29_REAJUSTE_(PCATEFLUL2017).xlsx'\n",
      " 'https://www2.aneel.gov.br/aplicacoes/tarifa/arquivo/PCAT_Eflul_2017.xlsx']\n",
      "Arquivo: \"PCAT_EFLUL_2016-08-29_REVISAO_(PCATEFLUL2016).xlsx\" foi baixado com sucesso\n",
      "['PCAT_EFLUL_2017-08-29_REAJUSTE_(PCATEFLUL2017).xlsx'\n",
      " 'https://www2.aneel.gov.br/aplicacoes/tarifa/arquivo/PCAT_Eflul_2017.xlsx']\n"
     ]
    },
    {
     "name": "stderr",
     "output_type": "stream",
     "text": [
      "D:\\python_projects\\cpfl\\web_scrapper\\venv_scraper\\lib\\site-packages\\urllib3\\connectionpool.py:1043: InsecureRequestWarning: Unverified HTTPS request is being made to host 'www2.aneel.gov.br'. Adding certificate verification is strongly advised. See: https://urllib3.readthedocs.io/en/1.26.x/advanced-usage.html#ssl-warnings\n",
      "  warnings.warn(\n",
      "D:\\python_projects\\cpfl\\web_scrapper\\venv_scraper\\lib\\site-packages\\urllib3\\connectionpool.py:1043: InsecureRequestWarning: Unverified HTTPS request is being made to host 'www2.aneel.gov.br'. Adding certificate verification is strongly advised. See: https://urllib3.readthedocs.io/en/1.26.x/advanced-usage.html#ssl-warnings\n",
      "  warnings.warn(\n"
     ]
    },
    {
     "name": "stdout",
     "output_type": "stream",
     "text": [
      "Arquivo: \"PCAT_EFLUL_2017-08-29_REAJUSTE_(PCATEFLUL2017).xlsx\" foi baixado com sucesso\n",
      "['PCAT_EFLUL_2018-08-28_REAJUSTE_(PCATEFLUL2018).xlsx'\n",
      " 'https://www2.aneel.gov.br/aplicacoes/tarifa/arquivo/PCAT_Eflul_2018 .xlsx']\n",
      "Arquivo: \"PCAT_EFLUL_2017-08-29_REAJUSTE_(PCATEFLUL2017).xlsx\" foi baixado com sucesso\n",
      "['PCAT_EFLUL_2018-08-28_REAJUSTE_(PCATEFLUL2018).xlsx'\n",
      " 'https://www2.aneel.gov.br/aplicacoes/tarifa/arquivo/PCAT_Eflul_2018 .xlsx']\n"
     ]
    },
    {
     "name": "stderr",
     "output_type": "stream",
     "text": [
      "D:\\python_projects\\cpfl\\web_scrapper\\venv_scraper\\lib\\site-packages\\urllib3\\connectionpool.py:1043: InsecureRequestWarning: Unverified HTTPS request is being made to host 'www2.aneel.gov.br'. Adding certificate verification is strongly advised. See: https://urllib3.readthedocs.io/en/1.26.x/advanced-usage.html#ssl-warnings\n",
      "  warnings.warn(\n",
      "D:\\python_projects\\cpfl\\web_scrapper\\venv_scraper\\lib\\site-packages\\urllib3\\connectionpool.py:1043: InsecureRequestWarning: Unverified HTTPS request is being made to host 'www2.aneel.gov.br'. Adding certificate verification is strongly advised. See: https://urllib3.readthedocs.io/en/1.26.x/advanced-usage.html#ssl-warnings\n",
      "  warnings.warn(\n"
     ]
    },
    {
     "name": "stdout",
     "output_type": "stream",
     "text": [
      "Arquivo: \"PCAT_EFLUL_2018-08-28_REAJUSTE_(PCATEFLUL2018).xlsx\" foi baixado com sucesso\n",
      "['PCAT_EFLUL_2019-08-29_REAJUSTE_(86PCATEFLUL2019V02).xlsx'\n",
      " 'https://www2.aneel.gov.br/aplicacoes/tarifa/arquivo/86 PCAT Eflul 2019 V02.xlsx']\n",
      "Arquivo: \"PCAT_EFLUL_2018-08-28_REAJUSTE_(PCATEFLUL2018).xlsx\" foi baixado com sucesso\n",
      "['PCAT_EFLUL_2019-08-29_REAJUSTE_(86PCATEFLUL2019V02).xlsx'\n",
      " 'https://www2.aneel.gov.br/aplicacoes/tarifa/arquivo/86 PCAT Eflul 2019 V02.xlsx']\n"
     ]
    },
    {
     "name": "stderr",
     "output_type": "stream",
     "text": [
      "D:\\python_projects\\cpfl\\web_scrapper\\venv_scraper\\lib\\site-packages\\urllib3\\connectionpool.py:1043: InsecureRequestWarning: Unverified HTTPS request is being made to host 'www2.aneel.gov.br'. Adding certificate verification is strongly advised. See: https://urllib3.readthedocs.io/en/1.26.x/advanced-usage.html#ssl-warnings\n",
      "  warnings.warn(\n",
      "D:\\python_projects\\cpfl\\web_scrapper\\venv_scraper\\lib\\site-packages\\urllib3\\connectionpool.py:1043: InsecureRequestWarning: Unverified HTTPS request is being made to host 'www2.aneel.gov.br'. Adding certificate verification is strongly advised. See: https://urllib3.readthedocs.io/en/1.26.x/advanced-usage.html#ssl-warnings\n",
      "  warnings.warn(\n"
     ]
    },
    {
     "name": "stdout",
     "output_type": "stream",
     "text": [
      "Arquivo: \"PCAT_EFLUL_2019-08-29_REAJUSTE_(86PCATEFLUL2019V02).xlsx\" foi baixado com sucesso\n",
      "['PCAT_EFLUL_2020-08-29_REAJUSTE_(86PCATEFLUL2020V02).xlsx'\n",
      " 'https://www2.aneel.gov.br/aplicacoes/tarifa/arquivo/86 PCAT Eflul 2020 V02.xlsx']\n",
      "Arquivo: \"PCAT_EFLUL_2019-08-29_REAJUSTE_(86PCATEFLUL2019V02).xlsx\" foi baixado com sucesso\n",
      "['PCAT_EFLUL_2020-08-29_REAJUSTE_(86PCATEFLUL2020V02).xlsx'\n",
      " 'https://www2.aneel.gov.br/aplicacoes/tarifa/arquivo/86 PCAT Eflul 2020 V02.xlsx']\n"
     ]
    },
    {
     "name": "stderr",
     "output_type": "stream",
     "text": [
      "D:\\python_projects\\cpfl\\web_scrapper\\venv_scraper\\lib\\site-packages\\urllib3\\connectionpool.py:1043: InsecureRequestWarning: Unverified HTTPS request is being made to host 'www2.aneel.gov.br'. Adding certificate verification is strongly advised. See: https://urllib3.readthedocs.io/en/1.26.x/advanced-usage.html#ssl-warnings\n",
      "  warnings.warn(\n",
      "D:\\python_projects\\cpfl\\web_scrapper\\venv_scraper\\lib\\site-packages\\urllib3\\connectionpool.py:1043: InsecureRequestWarning: Unverified HTTPS request is being made to host 'www2.aneel.gov.br'. Adding certificate verification is strongly advised. See: https://urllib3.readthedocs.io/en/1.26.x/advanced-usage.html#ssl-warnings\n",
      "  warnings.warn(\n"
     ]
    },
    {
     "name": "stdout",
     "output_type": "stream",
     "text": [
      "Arquivo: \"PCAT_EFLUL_2020-08-29_REAJUSTE_(86PCATEFLUL2020V02).xlsx\" foi baixado com sucesso\n",
      "['PCAT_EFLUL_2021-08-29_REVISAO_(86PCATEFLUL2021V02).xlsx'\n",
      " 'https://www2.aneel.gov.br/aplicacoes/tarifa/arquivo/86 PCAT Eflul 2021 V02.xlsx']\n",
      "Arquivo: \"PCAT_EFLUL_2020-08-29_REAJUSTE_(86PCATEFLUL2020V02).xlsx\" foi baixado com sucesso\n",
      "['PCAT_EFLUL_2021-08-29_REVISAO_(86PCATEFLUL2021V02).xlsx'\n",
      " 'https://www2.aneel.gov.br/aplicacoes/tarifa/arquivo/86 PCAT Eflul 2021 V02.xlsx']\n"
     ]
    },
    {
     "name": "stderr",
     "output_type": "stream",
     "text": [
      "D:\\python_projects\\cpfl\\web_scrapper\\venv_scraper\\lib\\site-packages\\urllib3\\connectionpool.py:1043: InsecureRequestWarning: Unverified HTTPS request is being made to host 'www2.aneel.gov.br'. Adding certificate verification is strongly advised. See: https://urllib3.readthedocs.io/en/1.26.x/advanced-usage.html#ssl-warnings\n",
      "  warnings.warn(\n",
      "D:\\python_projects\\cpfl\\web_scrapper\\venv_scraper\\lib\\site-packages\\urllib3\\connectionpool.py:1043: InsecureRequestWarning: Unverified HTTPS request is being made to host 'www2.aneel.gov.br'. Adding certificate verification is strongly advised. See: https://urllib3.readthedocs.io/en/1.26.x/advanced-usage.html#ssl-warnings\n",
      "  warnings.warn(\n"
     ]
    },
    {
     "name": "stdout",
     "output_type": "stream",
     "text": [
      "Arquivo: \"PCAT_EFLUL_2021-08-29_REVISAO_(86PCATEFLUL2021V02).xlsx\" foi baixado com sucesso\n",
      "['PCAT_ELEKTRO_2013-08-27_REAJUSTE_(PCATELEKTRO2013).xlsx'\n",
      " 'https://www2.aneel.gov.br/aplicacoes/tarifa/arquivo/PCAT_ELEKTRO_2013.xlsx']\n",
      "Arquivo: \"PCAT_EFLUL_2021-08-29_REVISAO_(86PCATEFLUL2021V02).xlsx\" foi baixado com sucesso\n",
      "['PCAT_ELEKTRO_2013-08-27_REAJUSTE_(PCATELEKTRO2013).xlsx'\n",
      " 'https://www2.aneel.gov.br/aplicacoes/tarifa/arquivo/PCAT_ELEKTRO_2013.xlsx']\n"
     ]
    },
    {
     "name": "stderr",
     "output_type": "stream",
     "text": [
      "D:\\python_projects\\cpfl\\web_scrapper\\venv_scraper\\lib\\site-packages\\urllib3\\connectionpool.py:1043: InsecureRequestWarning: Unverified HTTPS request is being made to host 'www2.aneel.gov.br'. Adding certificate verification is strongly advised. See: https://urllib3.readthedocs.io/en/1.26.x/advanced-usage.html#ssl-warnings\n",
      "  warnings.warn(\n",
      "D:\\python_projects\\cpfl\\web_scrapper\\venv_scraper\\lib\\site-packages\\urllib3\\connectionpool.py:1043: InsecureRequestWarning: Unverified HTTPS request is being made to host 'www2.aneel.gov.br'. Adding certificate verification is strongly advised. See: https://urllib3.readthedocs.io/en/1.26.x/advanced-usage.html#ssl-warnings\n",
      "  warnings.warn(\n"
     ]
    },
    {
     "name": "stdout",
     "output_type": "stream",
     "text": [
      "Arquivo: \"PCAT_ELEKTRO_2013-08-27_REAJUSTE_(PCATELEKTRO2013).xlsx\" foi baixado com sucesso\n",
      "['PCAT_ELEKTRO_2014-08-19_REAJUSTE_(PCATELEKTRO2014).xlsx'\n",
      " 'https://www2.aneel.gov.br/aplicacoes/tarifa/arquivo/PCAT_ELEKTRO_2014.xlsx']\n",
      "Arquivo: \"PCAT_ELEKTRO_2013-08-27_REAJUSTE_(PCATELEKTRO2013).xlsx\" foi baixado com sucesso\n",
      "['PCAT_ELEKTRO_2014-08-19_REAJUSTE_(PCATELEKTRO2014).xlsx'\n",
      " 'https://www2.aneel.gov.br/aplicacoes/tarifa/arquivo/PCAT_ELEKTRO_2014.xlsx']\n"
     ]
    },
    {
     "name": "stderr",
     "output_type": "stream",
     "text": [
      "D:\\python_projects\\cpfl\\web_scrapper\\venv_scraper\\lib\\site-packages\\urllib3\\connectionpool.py:1043: InsecureRequestWarning: Unverified HTTPS request is being made to host 'www2.aneel.gov.br'. Adding certificate verification is strongly advised. See: https://urllib3.readthedocs.io/en/1.26.x/advanced-usage.html#ssl-warnings\n",
      "  warnings.warn(\n",
      "D:\\python_projects\\cpfl\\web_scrapper\\venv_scraper\\lib\\site-packages\\urllib3\\connectionpool.py:1043: InsecureRequestWarning: Unverified HTTPS request is being made to host 'www2.aneel.gov.br'. Adding certificate verification is strongly advised. See: https://urllib3.readthedocs.io/en/1.26.x/advanced-usage.html#ssl-warnings\n",
      "  warnings.warn(\n"
     ]
    },
    {
     "name": "stdout",
     "output_type": "stream",
     "text": [
      "Arquivo: \"PCAT_ELEKTRO_2014-08-19_REAJUSTE_(PCATELEKTRO2014).xlsx\" foi baixado com sucesso\n",
      "['PCAT_ELEKTRO_2015-08-27_REVISAO_(PCATELEKTRO2015).xlsx'\n",
      " 'https://www2.aneel.gov.br/aplicacoes/tarifa/arquivo/PCAT_Elektro_2015.xlsx']\n",
      "Arquivo: \"PCAT_ELEKTRO_2014-08-19_REAJUSTE_(PCATELEKTRO2014).xlsx\" foi baixado com sucesso\n",
      "['PCAT_ELEKTRO_2015-08-27_REVISAO_(PCATELEKTRO2015).xlsx'\n",
      " 'https://www2.aneel.gov.br/aplicacoes/tarifa/arquivo/PCAT_Elektro_2015.xlsx']\n"
     ]
    },
    {
     "name": "stderr",
     "output_type": "stream",
     "text": [
      "D:\\python_projects\\cpfl\\web_scrapper\\venv_scraper\\lib\\site-packages\\urllib3\\connectionpool.py:1043: InsecureRequestWarning: Unverified HTTPS request is being made to host 'www2.aneel.gov.br'. Adding certificate verification is strongly advised. See: https://urllib3.readthedocs.io/en/1.26.x/advanced-usage.html#ssl-warnings\n",
      "  warnings.warn(\n",
      "D:\\python_projects\\cpfl\\web_scrapper\\venv_scraper\\lib\\site-packages\\urllib3\\connectionpool.py:1043: InsecureRequestWarning: Unverified HTTPS request is being made to host 'www2.aneel.gov.br'. Adding certificate verification is strongly advised. See: https://urllib3.readthedocs.io/en/1.26.x/advanced-usage.html#ssl-warnings\n",
      "  warnings.warn(\n"
     ]
    },
    {
     "name": "stdout",
     "output_type": "stream",
     "text": [
      "Arquivo: \"PCAT_ELEKTRO_2015-08-27_REVISAO_(PCATELEKTRO2015).xlsx\" foi baixado com sucesso\n",
      "['PCAT_ELEKTRO_2015-03-02_REVISAOEXTRAORDINARIA_(PCATELEKTRO2014CAT).xlsx'\n",
      " 'https://www2.aneel.gov.br/aplicacoes/tarifa/arquivo/PCAT_ELEKTRO_2014_CAT.xlsx']\n",
      "Arquivo: \"PCAT_ELEKTRO_2015-08-27_REVISAO_(PCATELEKTRO2015).xlsx\" foi baixado com sucesso\n",
      "['PCAT_ELEKTRO_2015-03-02_REVISAOEXTRAORDINARIA_(PCATELEKTRO2014CAT).xlsx'\n",
      " 'https://www2.aneel.gov.br/aplicacoes/tarifa/arquivo/PCAT_ELEKTRO_2014_CAT.xlsx']\n"
     ]
    },
    {
     "name": "stderr",
     "output_type": "stream",
     "text": [
      "D:\\python_projects\\cpfl\\web_scrapper\\venv_scraper\\lib\\site-packages\\urllib3\\connectionpool.py:1043: InsecureRequestWarning: Unverified HTTPS request is being made to host 'www2.aneel.gov.br'. Adding certificate verification is strongly advised. See: https://urllib3.readthedocs.io/en/1.26.x/advanced-usage.html#ssl-warnings\n",
      "  warnings.warn(\n",
      "D:\\python_projects\\cpfl\\web_scrapper\\venv_scraper\\lib\\site-packages\\urllib3\\connectionpool.py:1043: InsecureRequestWarning: Unverified HTTPS request is being made to host 'www2.aneel.gov.br'. Adding certificate verification is strongly advised. See: https://urllib3.readthedocs.io/en/1.26.x/advanced-usage.html#ssl-warnings\n",
      "  warnings.warn(\n"
     ]
    },
    {
     "name": "stdout",
     "output_type": "stream",
     "text": [
      "Arquivo: \"PCAT_ELEKTRO_2015-03-02_REVISAOEXTRAORDINARIA_(PCATELEKTRO2014CAT).xlsx\" foi baixado com sucesso\n",
      "['PCAT_ELEKTRO_2016-08-27_REAJUSTE_(PCATELEKTRO2016).xlsx'\n",
      " 'https://www2.aneel.gov.br/aplicacoes/tarifa/arquivo/PCAT_Elektro_2016.xlsx']\n",
      "Arquivo: \"PCAT_ELEKTRO_2015-03-02_REVISAOEXTRAORDINARIA_(PCATELEKTRO2014CAT).xlsx\" foi baixado com sucesso\n",
      "['PCAT_ELEKTRO_2016-08-27_REAJUSTE_(PCATELEKTRO2016).xlsx'\n",
      " 'https://www2.aneel.gov.br/aplicacoes/tarifa/arquivo/PCAT_Elektro_2016.xlsx']\n"
     ]
    },
    {
     "name": "stderr",
     "output_type": "stream",
     "text": [
      "D:\\python_projects\\cpfl\\web_scrapper\\venv_scraper\\lib\\site-packages\\urllib3\\connectionpool.py:1043: InsecureRequestWarning: Unverified HTTPS request is being made to host 'www2.aneel.gov.br'. Adding certificate verification is strongly advised. See: https://urllib3.readthedocs.io/en/1.26.x/advanced-usage.html#ssl-warnings\n",
      "  warnings.warn(\n",
      "D:\\python_projects\\cpfl\\web_scrapper\\venv_scraper\\lib\\site-packages\\urllib3\\connectionpool.py:1043: InsecureRequestWarning: Unverified HTTPS request is being made to host 'www2.aneel.gov.br'. Adding certificate verification is strongly advised. See: https://urllib3.readthedocs.io/en/1.26.x/advanced-usage.html#ssl-warnings\n",
      "  warnings.warn(\n"
     ]
    },
    {
     "name": "stdout",
     "output_type": "stream",
     "text": [
      "Arquivo: \"PCAT_ELEKTRO_2016-08-27_REAJUSTE_(PCATELEKTRO2016).xlsx\" foi baixado com sucesso\n",
      "['PCAT_ELEKTRO_2017-08-28_REAJUSTE_(PCATELEKTRO2017).xlsx'\n",
      " 'https://www2.aneel.gov.br/aplicacoes/tarifa/arquivo/PCAT_Elektro_2017.xlsx']\n",
      "Arquivo: \"PCAT_ELEKTRO_2016-08-27_REAJUSTE_(PCATELEKTRO2016).xlsx\" foi baixado com sucesso\n",
      "['PCAT_ELEKTRO_2017-08-28_REAJUSTE_(PCATELEKTRO2017).xlsx'\n",
      " 'https://www2.aneel.gov.br/aplicacoes/tarifa/arquivo/PCAT_Elektro_2017.xlsx']\n"
     ]
    },
    {
     "name": "stderr",
     "output_type": "stream",
     "text": [
      "D:\\python_projects\\cpfl\\web_scrapper\\venv_scraper\\lib\\site-packages\\urllib3\\connectionpool.py:1043: InsecureRequestWarning: Unverified HTTPS request is being made to host 'www2.aneel.gov.br'. Adding certificate verification is strongly advised. See: https://urllib3.readthedocs.io/en/1.26.x/advanced-usage.html#ssl-warnings\n",
      "  warnings.warn(\n",
      "D:\\python_projects\\cpfl\\web_scrapper\\venv_scraper\\lib\\site-packages\\urllib3\\connectionpool.py:1043: InsecureRequestWarning: Unverified HTTPS request is being made to host 'www2.aneel.gov.br'. Adding certificate verification is strongly advised. See: https://urllib3.readthedocs.io/en/1.26.x/advanced-usage.html#ssl-warnings\n",
      "  warnings.warn(\n"
     ]
    },
    {
     "name": "stdout",
     "output_type": "stream",
     "text": [
      "Arquivo: \"PCAT_ELEKTRO_2017-08-28_REAJUSTE_(PCATELEKTRO2017).xlsx\" foi baixado com sucesso\n",
      "['PCAT_ELEKTRO_2018-08-27_REAJUSTE_(PCATELEKTRO2018).xlsx'\n",
      " 'https://www2.aneel.gov.br/aplicacoes/tarifa/arquivo/PCAT_Elektro_2018 .xlsx']\n",
      "Arquivo: \"PCAT_ELEKTRO_2017-08-28_REAJUSTE_(PCATELEKTRO2017).xlsx\" foi baixado com sucesso\n",
      "['PCAT_ELEKTRO_2018-08-27_REAJUSTE_(PCATELEKTRO2018).xlsx'\n",
      " 'https://www2.aneel.gov.br/aplicacoes/tarifa/arquivo/PCAT_Elektro_2018 .xlsx']\n"
     ]
    },
    {
     "name": "stderr",
     "output_type": "stream",
     "text": [
      "D:\\python_projects\\cpfl\\web_scrapper\\venv_scraper\\lib\\site-packages\\urllib3\\connectionpool.py:1043: InsecureRequestWarning: Unverified HTTPS request is being made to host 'www2.aneel.gov.br'. Adding certificate verification is strongly advised. See: https://urllib3.readthedocs.io/en/1.26.x/advanced-usage.html#ssl-warnings\n",
      "  warnings.warn(\n",
      "D:\\python_projects\\cpfl\\web_scrapper\\venv_scraper\\lib\\site-packages\\urllib3\\connectionpool.py:1043: InsecureRequestWarning: Unverified HTTPS request is being made to host 'www2.aneel.gov.br'. Adding certificate verification is strongly advised. See: https://urllib3.readthedocs.io/en/1.26.x/advanced-usage.html#ssl-warnings\n",
      "  warnings.warn(\n"
     ]
    },
    {
     "name": "stdout",
     "output_type": "stream",
     "text": [
      "Arquivo: \"PCAT_ELEKTRO_2018-08-27_REAJUSTE_(PCATELEKTRO2018).xlsx\" foi baixado com sucesso\n",
      "['PCAT_ELEKTRO_2019-08-27_REVISAO_(385PCATELEKTRO2019V02).xlsx'\n",
      " 'https://www2.aneel.gov.br/aplicacoes/tarifa/arquivo/385 PCAT Elektro 2019 V02.xlsx']\n",
      "Arquivo: \"PCAT_ELEKTRO_2018-08-27_REAJUSTE_(PCATELEKTRO2018).xlsx\" foi baixado com sucesso\n",
      "['PCAT_ELEKTRO_2019-08-27_REVISAO_(385PCATELEKTRO2019V02).xlsx'\n",
      " 'https://www2.aneel.gov.br/aplicacoes/tarifa/arquivo/385 PCAT Elektro 2019 V02.xlsx']\n"
     ]
    },
    {
     "name": "stderr",
     "output_type": "stream",
     "text": [
      "D:\\python_projects\\cpfl\\web_scrapper\\venv_scraper\\lib\\site-packages\\urllib3\\connectionpool.py:1043: InsecureRequestWarning: Unverified HTTPS request is being made to host 'www2.aneel.gov.br'. Adding certificate verification is strongly advised. See: https://urllib3.readthedocs.io/en/1.26.x/advanced-usage.html#ssl-warnings\n",
      "  warnings.warn(\n",
      "D:\\python_projects\\cpfl\\web_scrapper\\venv_scraper\\lib\\site-packages\\urllib3\\connectionpool.py:1043: InsecureRequestWarning: Unverified HTTPS request is being made to host 'www2.aneel.gov.br'. Adding certificate verification is strongly advised. See: https://urllib3.readthedocs.io/en/1.26.x/advanced-usage.html#ssl-warnings\n",
      "  warnings.warn(\n"
     ]
    },
    {
     "name": "stdout",
     "output_type": "stream",
     "text": [
      "Arquivo: \"PCAT_ELEKTRO_2019-08-27_REVISAO_(385PCATELEKTRO2019V02).xlsx\" foi baixado com sucesso\n",
      "['PCAT_ELEKTRO_2020-08-27_REAJUSTE_(385PCATELEKTRO2020V02).xlsx'\n",
      " 'https://www2.aneel.gov.br/aplicacoes/tarifa/arquivo/385 PCAT Elektro 2020 V02.xlsx']\n",
      "Arquivo: \"PCAT_ELEKTRO_2019-08-27_REVISAO_(385PCATELEKTRO2019V02).xlsx\" foi baixado com sucesso\n",
      "['PCAT_ELEKTRO_2020-08-27_REAJUSTE_(385PCATELEKTRO2020V02).xlsx'\n",
      " 'https://www2.aneel.gov.br/aplicacoes/tarifa/arquivo/385 PCAT Elektro 2020 V02.xlsx']\n"
     ]
    },
    {
     "name": "stderr",
     "output_type": "stream",
     "text": [
      "D:\\python_projects\\cpfl\\web_scrapper\\venv_scraper\\lib\\site-packages\\urllib3\\connectionpool.py:1043: InsecureRequestWarning: Unverified HTTPS request is being made to host 'www2.aneel.gov.br'. Adding certificate verification is strongly advised. See: https://urllib3.readthedocs.io/en/1.26.x/advanced-usage.html#ssl-warnings\n",
      "  warnings.warn(\n",
      "D:\\python_projects\\cpfl\\web_scrapper\\venv_scraper\\lib\\site-packages\\urllib3\\connectionpool.py:1043: InsecureRequestWarning: Unverified HTTPS request is being made to host 'www2.aneel.gov.br'. Adding certificate verification is strongly advised. See: https://urllib3.readthedocs.io/en/1.26.x/advanced-usage.html#ssl-warnings\n",
      "  warnings.warn(\n"
     ]
    },
    {
     "name": "stdout",
     "output_type": "stream",
     "text": [
      "Arquivo: \"PCAT_ELEKTRO_2020-08-27_REAJUSTE_(385PCATELEKTRO2020V02).xlsx\" foi baixado com sucesso\n",
      "['PCAT_ELEKTRO_2021-08-27_REAJUSTE_(385PCATELEKTRO2021V02).xlsx'\n",
      " 'https://www2.aneel.gov.br/aplicacoes/tarifa/arquivo/385 PCAT Elektro 2021 V02.xlsx']\n",
      "Arquivo: \"PCAT_ELEKTRO_2020-08-27_REAJUSTE_(385PCATELEKTRO2020V02).xlsx\" foi baixado com sucesso\n",
      "['PCAT_ELEKTRO_2021-08-27_REAJUSTE_(385PCATELEKTRO2021V02).xlsx'\n",
      " 'https://www2.aneel.gov.br/aplicacoes/tarifa/arquivo/385 PCAT Elektro 2021 V02.xlsx']\n"
     ]
    },
    {
     "name": "stderr",
     "output_type": "stream",
     "text": [
      "D:\\python_projects\\cpfl\\web_scrapper\\venv_scraper\\lib\\site-packages\\urllib3\\connectionpool.py:1043: InsecureRequestWarning: Unverified HTTPS request is being made to host 'www2.aneel.gov.br'. Adding certificate verification is strongly advised. See: https://urllib3.readthedocs.io/en/1.26.x/advanced-usage.html#ssl-warnings\n",
      "  warnings.warn(\n",
      "D:\\python_projects\\cpfl\\web_scrapper\\venv_scraper\\lib\\site-packages\\urllib3\\connectionpool.py:1043: InsecureRequestWarning: Unverified HTTPS request is being made to host 'www2.aneel.gov.br'. Adding certificate verification is strongly advised. See: https://urllib3.readthedocs.io/en/1.26.x/advanced-usage.html#ssl-warnings\n",
      "  warnings.warn(\n"
     ]
    },
    {
     "name": "stdout",
     "output_type": "stream",
     "text": [
      "Arquivo: \"PCAT_ELEKTRO_2021-08-27_REAJUSTE_(385PCATELEKTRO2021V02).xlsx\" foi baixado com sucesso\n",
      "['PCAT_ELETROACRE_2013-11-30_REVISAO_(26PCAT2013V00).xlsx'\n",
      " 'https://www2.aneel.gov.br/aplicacoes/tarifa/arquivo/26 PCAT 2013 V00.xlsx']\n",
      "Arquivo: \"PCAT_ELEKTRO_2021-08-27_REAJUSTE_(385PCATELEKTRO2021V02).xlsx\" foi baixado com sucesso\n",
      "['PCAT_ELETROACRE_2013-11-30_REVISAO_(26PCAT2013V00).xlsx'\n",
      " 'https://www2.aneel.gov.br/aplicacoes/tarifa/arquivo/26 PCAT 2013 V00.xlsx']\n"
     ]
    },
    {
     "name": "stderr",
     "output_type": "stream",
     "text": [
      "D:\\python_projects\\cpfl\\web_scrapper\\venv_scraper\\lib\\site-packages\\urllib3\\connectionpool.py:1043: InsecureRequestWarning: Unverified HTTPS request is being made to host 'www2.aneel.gov.br'. Adding certificate verification is strongly advised. See: https://urllib3.readthedocs.io/en/1.26.x/advanced-usage.html#ssl-warnings\n",
      "  warnings.warn(\n",
      "D:\\python_projects\\cpfl\\web_scrapper\\venv_scraper\\lib\\site-packages\\urllib3\\connectionpool.py:1043: InsecureRequestWarning: Unverified HTTPS request is being made to host 'www2.aneel.gov.br'. Adding certificate verification is strongly advised. See: https://urllib3.readthedocs.io/en/1.26.x/advanced-usage.html#ssl-warnings\n",
      "  warnings.warn(\n"
     ]
    },
    {
     "name": "stdout",
     "output_type": "stream",
     "text": [
      "Arquivo: \"PCAT_ELETROACRE_2013-11-30_REVISAO_(26PCAT2013V00).xlsx\" foi baixado com sucesso\n",
      "['PCAT_ELETROACRE_2014-11-30_REAJUSTE_(PCATELETROACRE2014).xlsx'\n",
      " 'https://www2.aneel.gov.br/aplicacoes/tarifa/arquivo/PCAT_ELETROACRE_2014.xlsx']\n",
      "Arquivo: \"PCAT_ELETROACRE_2013-11-30_REVISAO_(26PCAT2013V00).xlsx\" foi baixado com sucesso\n",
      "['PCAT_ELETROACRE_2014-11-30_REAJUSTE_(PCATELETROACRE2014).xlsx'\n",
      " 'https://www2.aneel.gov.br/aplicacoes/tarifa/arquivo/PCAT_ELETROACRE_2014.xlsx']\n"
     ]
    },
    {
     "name": "stderr",
     "output_type": "stream",
     "text": [
      "D:\\python_projects\\cpfl\\web_scrapper\\venv_scraper\\lib\\site-packages\\urllib3\\connectionpool.py:1043: InsecureRequestWarning: Unverified HTTPS request is being made to host 'www2.aneel.gov.br'. Adding certificate verification is strongly advised. See: https://urllib3.readthedocs.io/en/1.26.x/advanced-usage.html#ssl-warnings\n",
      "  warnings.warn(\n",
      "D:\\python_projects\\cpfl\\web_scrapper\\venv_scraper\\lib\\site-packages\\urllib3\\connectionpool.py:1043: InsecureRequestWarning: Unverified HTTPS request is being made to host 'www2.aneel.gov.br'. Adding certificate verification is strongly advised. See: https://urllib3.readthedocs.io/en/1.26.x/advanced-usage.html#ssl-warnings\n",
      "  warnings.warn(\n"
     ]
    },
    {
     "name": "stdout",
     "output_type": "stream",
     "text": [
      "Arquivo: \"PCAT_ELETROACRE_2014-11-30_REAJUSTE_(PCATELETROACRE2014).xlsx\" foi baixado com sucesso\n",
      "['PCAT_ELETROACRE_2015-11-24_REAJUSTE_(PCATELETROACRE2015).xlsx'\n",
      " 'https://www2.aneel.gov.br/aplicacoes/tarifa/arquivo/PCAT_Eletroacre_2015.xlsx']\n",
      "Arquivo: \"PCAT_ELETROACRE_2014-11-30_REAJUSTE_(PCATELETROACRE2014).xlsx\" foi baixado com sucesso\n",
      "['PCAT_ELETROACRE_2015-11-24_REAJUSTE_(PCATELETROACRE2015).xlsx'\n",
      " 'https://www2.aneel.gov.br/aplicacoes/tarifa/arquivo/PCAT_Eletroacre_2015.xlsx']\n"
     ]
    },
    {
     "name": "stderr",
     "output_type": "stream",
     "text": [
      "D:\\python_projects\\cpfl\\web_scrapper\\venv_scraper\\lib\\site-packages\\urllib3\\connectionpool.py:1043: InsecureRequestWarning: Unverified HTTPS request is being made to host 'www2.aneel.gov.br'. Adding certificate verification is strongly advised. See: https://urllib3.readthedocs.io/en/1.26.x/advanced-usage.html#ssl-warnings\n",
      "  warnings.warn(\n",
      "D:\\python_projects\\cpfl\\web_scrapper\\venv_scraper\\lib\\site-packages\\urllib3\\connectionpool.py:1043: InsecureRequestWarning: Unverified HTTPS request is being made to host 'www2.aneel.gov.br'. Adding certificate verification is strongly advised. See: https://urllib3.readthedocs.io/en/1.26.x/advanced-usage.html#ssl-warnings\n",
      "  warnings.warn(\n"
     ]
    },
    {
     "name": "stdout",
     "output_type": "stream",
     "text": [
      "Arquivo: \"PCAT_ELETROACRE_2015-11-24_REAJUSTE_(PCATELETROACRE2015).xlsx\" foi baixado com sucesso\n",
      "['PCAT_ELETROACRE_2015-03-02_REVISAOEXTRAORDINARIA_(PCATELETROACRE2014CAT).xlsx'\n",
      " 'https://www2.aneel.gov.br/aplicacoes/tarifa/arquivo/PCAT_ELETROACRE_2014_CAT.xlsx']\n",
      "Arquivo: \"PCAT_ELETROACRE_2015-11-24_REAJUSTE_(PCATELETROACRE2015).xlsx\" foi baixado com sucesso\n",
      "['PCAT_ELETROACRE_2015-03-02_REVISAOEXTRAORDINARIA_(PCATELETROACRE2014CAT).xlsx'\n",
      " 'https://www2.aneel.gov.br/aplicacoes/tarifa/arquivo/PCAT_ELETROACRE_2014_CAT.xlsx']\n"
     ]
    },
    {
     "name": "stderr",
     "output_type": "stream",
     "text": [
      "D:\\python_projects\\cpfl\\web_scrapper\\venv_scraper\\lib\\site-packages\\urllib3\\connectionpool.py:1043: InsecureRequestWarning: Unverified HTTPS request is being made to host 'www2.aneel.gov.br'. Adding certificate verification is strongly advised. See: https://urllib3.readthedocs.io/en/1.26.x/advanced-usage.html#ssl-warnings\n",
      "  warnings.warn(\n",
      "D:\\python_projects\\cpfl\\web_scrapper\\venv_scraper\\lib\\site-packages\\urllib3\\connectionpool.py:1043: InsecureRequestWarning: Unverified HTTPS request is being made to host 'www2.aneel.gov.br'. Adding certificate verification is strongly advised. See: https://urllib3.readthedocs.io/en/1.26.x/advanced-usage.html#ssl-warnings\n",
      "  warnings.warn(\n"
     ]
    },
    {
     "name": "stdout",
     "output_type": "stream",
     "text": [
      "Arquivo: \"PCAT_ELETROACRE_2015-03-02_REVISAOEXTRAORDINARIA_(PCATELETROACRE2014CAT).xlsx\" foi baixado com sucesso\n",
      "['PCAT_ELETROACRE_2016-11-30_REAJUSTE_(PCATELETROACRE2016).xlsx'\n",
      " 'https://www2.aneel.gov.br/aplicacoes/tarifa/arquivo/PCAT_Eletroacre_2016.xlsx']\n",
      "Arquivo: \"PCAT_ELETROACRE_2015-03-02_REVISAOEXTRAORDINARIA_(PCATELETROACRE2014CAT).xlsx\" foi baixado com sucesso\n",
      "['PCAT_ELETROACRE_2016-11-30_REAJUSTE_(PCATELETROACRE2016).xlsx'\n",
      " 'https://www2.aneel.gov.br/aplicacoes/tarifa/arquivo/PCAT_Eletroacre_2016.xlsx']\n"
     ]
    },
    {
     "name": "stderr",
     "output_type": "stream",
     "text": [
      "D:\\python_projects\\cpfl\\web_scrapper\\venv_scraper\\lib\\site-packages\\urllib3\\connectionpool.py:1043: InsecureRequestWarning: Unverified HTTPS request is being made to host 'www2.aneel.gov.br'. Adding certificate verification is strongly advised. See: https://urllib3.readthedocs.io/en/1.26.x/advanced-usage.html#ssl-warnings\n",
      "  warnings.warn(\n",
      "D:\\python_projects\\cpfl\\web_scrapper\\venv_scraper\\lib\\site-packages\\urllib3\\connectionpool.py:1043: InsecureRequestWarning: Unverified HTTPS request is being made to host 'www2.aneel.gov.br'. Adding certificate verification is strongly advised. See: https://urllib3.readthedocs.io/en/1.26.x/advanced-usage.html#ssl-warnings\n",
      "  warnings.warn(\n"
     ]
    },
    {
     "name": "stdout",
     "output_type": "stream",
     "text": [
      "Arquivo: \"PCAT_ELETROACRE_2016-11-30_REAJUSTE_(PCATELETROACRE2016).xlsx\" foi baixado com sucesso\n",
      "['PCAT_ELETROACRE_2017-11-30_REAJUSTE_(PCATELETROACRE2017).xlsx'\n",
      " 'https://www2.aneel.gov.br/aplicacoes/tarifa/arquivo/PCAT_Eletroacre_2017.xlsx']\n",
      "Arquivo: \"PCAT_ELETROACRE_2016-11-30_REAJUSTE_(PCATELETROACRE2016).xlsx\" foi baixado com sucesso\n",
      "['PCAT_ELETROACRE_2017-11-30_REAJUSTE_(PCATELETROACRE2017).xlsx'\n",
      " 'https://www2.aneel.gov.br/aplicacoes/tarifa/arquivo/PCAT_Eletroacre_2017.xlsx']\n"
     ]
    },
    {
     "name": "stderr",
     "output_type": "stream",
     "text": [
      "D:\\python_projects\\cpfl\\web_scrapper\\venv_scraper\\lib\\site-packages\\urllib3\\connectionpool.py:1043: InsecureRequestWarning: Unverified HTTPS request is being made to host 'www2.aneel.gov.br'. Adding certificate verification is strongly advised. See: https://urllib3.readthedocs.io/en/1.26.x/advanced-usage.html#ssl-warnings\n",
      "  warnings.warn(\n",
      "D:\\python_projects\\cpfl\\web_scrapper\\venv_scraper\\lib\\site-packages\\urllib3\\connectionpool.py:1043: InsecureRequestWarning: Unverified HTTPS request is being made to host 'www2.aneel.gov.br'. Adding certificate verification is strongly advised. See: https://urllib3.readthedocs.io/en/1.26.x/advanced-usage.html#ssl-warnings\n",
      "  warnings.warn(\n"
     ]
    },
    {
     "name": "stdout",
     "output_type": "stream",
     "text": [
      "Arquivo: \"PCAT_ELETROACRE_2017-11-30_REAJUSTE_(PCATELETROACRE2017).xlsx\" foi baixado com sucesso\n",
      "['PCAT_ELETROACRE_2018-12-13_REAJUSTE_(PCATELETROACRE2018).xlsx'\n",
      " 'https://www2.aneel.gov.br/aplicacoes/tarifa/arquivo/PCAT_Eletroacre_2018 .xlsx']\n",
      "Arquivo: \"PCAT_ELETROACRE_2017-11-30_REAJUSTE_(PCATELETROACRE2017).xlsx\" foi baixado com sucesso\n",
      "['PCAT_ELETROACRE_2018-12-13_REAJUSTE_(PCATELETROACRE2018).xlsx'\n",
      " 'https://www2.aneel.gov.br/aplicacoes/tarifa/arquivo/PCAT_Eletroacre_2018 .xlsx']\n"
     ]
    },
    {
     "name": "stderr",
     "output_type": "stream",
     "text": [
      "D:\\python_projects\\cpfl\\web_scrapper\\venv_scraper\\lib\\site-packages\\urllib3\\connectionpool.py:1043: InsecureRequestWarning: Unverified HTTPS request is being made to host 'www2.aneel.gov.br'. Adding certificate verification is strongly advised. See: https://urllib3.readthedocs.io/en/1.26.x/advanced-usage.html#ssl-warnings\n",
      "  warnings.warn(\n",
      "D:\\python_projects\\cpfl\\web_scrapper\\venv_scraper\\lib\\site-packages\\urllib3\\connectionpool.py:1043: InsecureRequestWarning: Unverified HTTPS request is being made to host 'www2.aneel.gov.br'. Adding certificate verification is strongly advised. See: https://urllib3.readthedocs.io/en/1.26.x/advanced-usage.html#ssl-warnings\n",
      "  warnings.warn(\n"
     ]
    },
    {
     "name": "stdout",
     "output_type": "stream",
     "text": [
      "Arquivo: \"PCAT_ELETROACRE_2018-12-13_REAJUSTE_(PCATELETROACRE2018).xlsx\" foi baixado com sucesso\n",
      "['PCAT_ELETROACRE_2019-12-13_REAJUSTE_(26PCATELETROACRE2019V02).xlsx'\n",
      " 'https://www2.aneel.gov.br/aplicacoes/tarifa/arquivo/26 PCAT Eletroacre 2019 V02.xlsx']\n",
      "Arquivo: \"PCAT_ELETROACRE_2018-12-13_REAJUSTE_(PCATELETROACRE2018).xlsx\" foi baixado com sucesso\n",
      "['PCAT_ELETROACRE_2019-12-13_REAJUSTE_(26PCATELETROACRE2019V02).xlsx'\n",
      " 'https://www2.aneel.gov.br/aplicacoes/tarifa/arquivo/26 PCAT Eletroacre 2019 V02.xlsx']\n"
     ]
    },
    {
     "name": "stderr",
     "output_type": "stream",
     "text": [
      "D:\\python_projects\\cpfl\\web_scrapper\\venv_scraper\\lib\\site-packages\\urllib3\\connectionpool.py:1043: InsecureRequestWarning: Unverified HTTPS request is being made to host 'www2.aneel.gov.br'. Adding certificate verification is strongly advised. See: https://urllib3.readthedocs.io/en/1.26.x/advanced-usage.html#ssl-warnings\n",
      "  warnings.warn(\n",
      "D:\\python_projects\\cpfl\\web_scrapper\\venv_scraper\\lib\\site-packages\\urllib3\\connectionpool.py:1043: InsecureRequestWarning: Unverified HTTPS request is being made to host 'www2.aneel.gov.br'. Adding certificate verification is strongly advised. See: https://urllib3.readthedocs.io/en/1.26.x/advanced-usage.html#ssl-warnings\n",
      "  warnings.warn(\n"
     ]
    },
    {
     "name": "stdout",
     "output_type": "stream",
     "text": [
      "Arquivo: \"PCAT_ELETROACRE_2019-12-13_REAJUSTE_(26PCATELETROACRE2019V02).xlsx\" foi baixado com sucesso\n",
      "['PCAT_ELETROACRE_2019-04-01_REVISAOEXTRAORDINARIA_(PCATELETROACRE20182).xlsx'\n",
      " 'https://www2.aneel.gov.br/aplicacoes/tarifa/arquivo/PCAT_Eletroacre_2018 2.xlsx']\n",
      "Arquivo: \"PCAT_ELETROACRE_2019-12-13_REAJUSTE_(26PCATELETROACRE2019V02).xlsx\" foi baixado com sucesso\n",
      "['PCAT_ELETROACRE_2019-04-01_REVISAOEXTRAORDINARIA_(PCATELETROACRE20182).xlsx'\n",
      " 'https://www2.aneel.gov.br/aplicacoes/tarifa/arquivo/PCAT_Eletroacre_2018 2.xlsx']\n"
     ]
    },
    {
     "name": "stderr",
     "output_type": "stream",
     "text": [
      "D:\\python_projects\\cpfl\\web_scrapper\\venv_scraper\\lib\\site-packages\\urllib3\\connectionpool.py:1043: InsecureRequestWarning: Unverified HTTPS request is being made to host 'www2.aneel.gov.br'. Adding certificate verification is strongly advised. See: https://urllib3.readthedocs.io/en/1.26.x/advanced-usage.html#ssl-warnings\n",
      "  warnings.warn(\n",
      "D:\\python_projects\\cpfl\\web_scrapper\\venv_scraper\\lib\\site-packages\\urllib3\\connectionpool.py:1043: InsecureRequestWarning: Unverified HTTPS request is being made to host 'www2.aneel.gov.br'. Adding certificate verification is strongly advised. See: https://urllib3.readthedocs.io/en/1.26.x/advanced-usage.html#ssl-warnings\n",
      "  warnings.warn(\n"
     ]
    },
    {
     "name": "stdout",
     "output_type": "stream",
     "text": [
      "Arquivo: \"PCAT_ELETROACRE_2019-04-01_REVISAOEXTRAORDINARIA_(PCATELETROACRE20182).xlsx\" foi baixado com sucesso\n",
      "['PCAT_ELETROACRE_2020-12-13_REVISAOEXTRAORDINARIA_(26PCATELETROACRE2020V021).xlsx'\n",
      " 'https://www2.aneel.gov.br/aplicacoes/tarifa/arquivo/26 PCAT Eletroacre 2020 V021.xlsx']\n",
      "Arquivo: \"PCAT_ELETROACRE_2019-04-01_REVISAOEXTRAORDINARIA_(PCATELETROACRE20182).xlsx\" foi baixado com sucesso\n",
      "['PCAT_ELETROACRE_2020-12-13_REVISAOEXTRAORDINARIA_(26PCATELETROACRE2020V021).xlsx'\n",
      " 'https://www2.aneel.gov.br/aplicacoes/tarifa/arquivo/26 PCAT Eletroacre 2020 V021.xlsx']\n"
     ]
    },
    {
     "name": "stderr",
     "output_type": "stream",
     "text": [
      "D:\\python_projects\\cpfl\\web_scrapper\\venv_scraper\\lib\\site-packages\\urllib3\\connectionpool.py:1043: InsecureRequestWarning: Unverified HTTPS request is being made to host 'www2.aneel.gov.br'. Adding certificate verification is strongly advised. See: https://urllib3.readthedocs.io/en/1.26.x/advanced-usage.html#ssl-warnings\n",
      "  warnings.warn(\n",
      "D:\\python_projects\\cpfl\\web_scrapper\\venv_scraper\\lib\\site-packages\\urllib3\\connectionpool.py:1043: InsecureRequestWarning: Unverified HTTPS request is being made to host 'www2.aneel.gov.br'. Adding certificate verification is strongly advised. See: https://urllib3.readthedocs.io/en/1.26.x/advanced-usage.html#ssl-warnings\n",
      "  warnings.warn(\n"
     ]
    },
    {
     "name": "stdout",
     "output_type": "stream",
     "text": [
      "Arquivo: \"PCAT_ELETROACRE_2020-12-13_REVISAOEXTRAORDINARIA_(26PCATELETROACRE2020V021).xlsx\" foi baixado com sucesso\n",
      "['PCAT_ELETROCAR_2014-06-24_REAJUSTE_(PCATELETROCAR2014).xlsx'\n",
      " 'https://www2.aneel.gov.br/aplicacoes/tarifa/arquivo/PCAT_ELETROCAR_2014.xlsx']\n",
      "Arquivo: \"PCAT_ELETROACRE_2020-12-13_REVISAOEXTRAORDINARIA_(26PCATELETROACRE2020V021).xlsx\" foi baixado com sucesso\n",
      "['PCAT_ELETROCAR_2014-06-24_REAJUSTE_(PCATELETROCAR2014).xlsx'\n",
      " 'https://www2.aneel.gov.br/aplicacoes/tarifa/arquivo/PCAT_ELETROCAR_2014.xlsx']\n"
     ]
    },
    {
     "name": "stderr",
     "output_type": "stream",
     "text": [
      "D:\\python_projects\\cpfl\\web_scrapper\\venv_scraper\\lib\\site-packages\\urllib3\\connectionpool.py:1043: InsecureRequestWarning: Unverified HTTPS request is being made to host 'www2.aneel.gov.br'. Adding certificate verification is strongly advised. See: https://urllib3.readthedocs.io/en/1.26.x/advanced-usage.html#ssl-warnings\n",
      "  warnings.warn(\n",
      "D:\\python_projects\\cpfl\\web_scrapper\\venv_scraper\\lib\\site-packages\\urllib3\\connectionpool.py:1043: InsecureRequestWarning: Unverified HTTPS request is being made to host 'www2.aneel.gov.br'. Adding certificate verification is strongly advised. See: https://urllib3.readthedocs.io/en/1.26.x/advanced-usage.html#ssl-warnings\n",
      "  warnings.warn(\n"
     ]
    },
    {
     "name": "stdout",
     "output_type": "stream",
     "text": [
      "Arquivo: \"PCAT_ELETROCAR_2014-06-24_REAJUSTE_(PCATELETROCAR2014).xlsx\" foi baixado com sucesso\n",
      "['PCAT_ELETROCAR_2015-06-29_REAJUSTE_(PCATELETROCAR2015).xlsx'\n",
      " 'https://www2.aneel.gov.br/aplicacoes/tarifa/arquivo/PCAT _Eletrocar_ 2015.xlsx']\n",
      "Arquivo: \"PCAT_ELETROCAR_2014-06-24_REAJUSTE_(PCATELETROCAR2014).xlsx\" foi baixado com sucesso\n",
      "['PCAT_ELETROCAR_2015-06-29_REAJUSTE_(PCATELETROCAR2015).xlsx'\n",
      " 'https://www2.aneel.gov.br/aplicacoes/tarifa/arquivo/PCAT _Eletrocar_ 2015.xlsx']\n"
     ]
    },
    {
     "name": "stderr",
     "output_type": "stream",
     "text": [
      "D:\\python_projects\\cpfl\\web_scrapper\\venv_scraper\\lib\\site-packages\\urllib3\\connectionpool.py:1043: InsecureRequestWarning: Unverified HTTPS request is being made to host 'www2.aneel.gov.br'. Adding certificate verification is strongly advised. See: https://urllib3.readthedocs.io/en/1.26.x/advanced-usage.html#ssl-warnings\n",
      "  warnings.warn(\n",
      "D:\\python_projects\\cpfl\\web_scrapper\\venv_scraper\\lib\\site-packages\\urllib3\\connectionpool.py:1043: InsecureRequestWarning: Unverified HTTPS request is being made to host 'www2.aneel.gov.br'. Adding certificate verification is strongly advised. See: https://urllib3.readthedocs.io/en/1.26.x/advanced-usage.html#ssl-warnings\n",
      "  warnings.warn(\n"
     ]
    },
    {
     "name": "stdout",
     "output_type": "stream",
     "text": [
      "Arquivo: \"PCAT_ELETROCAR_2015-06-29_REAJUSTE_(PCATELETROCAR2015).xlsx\" foi baixado com sucesso\n",
      "['PCAT_ELETROCAR_2015-03-02_REVISAOEXTRAORDINARIA_(PCATELETROCAR2014V00).xlsx'\n",
      " 'https://www2.aneel.gov.br/aplicacoes/tarifa/arquivo/PCAT_ELETROCAR_2014_V00.xlsx']\n",
      "Arquivo: \"PCAT_ELETROCAR_2015-06-29_REAJUSTE_(PCATELETROCAR2015).xlsx\" foi baixado com sucesso\n",
      "['PCAT_ELETROCAR_2015-03-02_REVISAOEXTRAORDINARIA_(PCATELETROCAR2014V00).xlsx'\n",
      " 'https://www2.aneel.gov.br/aplicacoes/tarifa/arquivo/PCAT_ELETROCAR_2014_V00.xlsx']\n"
     ]
    },
    {
     "name": "stderr",
     "output_type": "stream",
     "text": [
      "D:\\python_projects\\cpfl\\web_scrapper\\venv_scraper\\lib\\site-packages\\urllib3\\connectionpool.py:1043: InsecureRequestWarning: Unverified HTTPS request is being made to host 'www2.aneel.gov.br'. Adding certificate verification is strongly advised. See: https://urllib3.readthedocs.io/en/1.26.x/advanced-usage.html#ssl-warnings\n",
      "  warnings.warn(\n",
      "D:\\python_projects\\cpfl\\web_scrapper\\venv_scraper\\lib\\site-packages\\urllib3\\connectionpool.py:1043: InsecureRequestWarning: Unverified HTTPS request is being made to host 'www2.aneel.gov.br'. Adding certificate verification is strongly advised. See: https://urllib3.readthedocs.io/en/1.26.x/advanced-usage.html#ssl-warnings\n",
      "  warnings.warn(\n"
     ]
    },
    {
     "name": "stdout",
     "output_type": "stream",
     "text": [
      "Arquivo: \"PCAT_ELETROCAR_2015-03-02_REVISAOEXTRAORDINARIA_(PCATELETROCAR2014V00).xlsx\" foi baixado com sucesso\n",
      "['PCAT_ELETROCAR_2016-07-22_REAJUSTE_(PCATELETROCAR2016).xlsx'\n",
      " 'https://www2.aneel.gov.br/aplicacoes/tarifa/arquivo/PCAT_ELETROCAR_ 2016.xlsx']\n",
      "Arquivo: \"PCAT_ELETROCAR_2015-03-02_REVISAOEXTRAORDINARIA_(PCATELETROCAR2014V00).xlsx\" foi baixado com sucesso\n",
      "['PCAT_ELETROCAR_2016-07-22_REAJUSTE_(PCATELETROCAR2016).xlsx'\n",
      " 'https://www2.aneel.gov.br/aplicacoes/tarifa/arquivo/PCAT_ELETROCAR_ 2016.xlsx']\n"
     ]
    },
    {
     "name": "stderr",
     "output_type": "stream",
     "text": [
      "D:\\python_projects\\cpfl\\web_scrapper\\venv_scraper\\lib\\site-packages\\urllib3\\connectionpool.py:1043: InsecureRequestWarning: Unverified HTTPS request is being made to host 'www2.aneel.gov.br'. Adding certificate verification is strongly advised. See: https://urllib3.readthedocs.io/en/1.26.x/advanced-usage.html#ssl-warnings\n",
      "  warnings.warn(\n",
      "D:\\python_projects\\cpfl\\web_scrapper\\venv_scraper\\lib\\site-packages\\urllib3\\connectionpool.py:1043: InsecureRequestWarning: Unverified HTTPS request is being made to host 'www2.aneel.gov.br'. Adding certificate verification is strongly advised. See: https://urllib3.readthedocs.io/en/1.26.x/advanced-usage.html#ssl-warnings\n",
      "  warnings.warn(\n"
     ]
    },
    {
     "name": "stdout",
     "output_type": "stream",
     "text": [
      "Arquivo: \"PCAT_ELETROCAR_2016-07-22_REAJUSTE_(PCATELETROCAR2016).xlsx\" foi baixado com sucesso\n",
      "['PCAT_ELETROCAR_2017-07-22_REVISAO_(PCATELETROCAR2017).xlsx'\n",
      " 'https://www2.aneel.gov.br/aplicacoes/tarifa/arquivo/PCAT_Eletrocar_2017.xlsx']\n",
      "Arquivo: \"PCAT_ELETROCAR_2016-07-22_REAJUSTE_(PCATELETROCAR2016).xlsx\" foi baixado com sucesso\n",
      "['PCAT_ELETROCAR_2017-07-22_REVISAO_(PCATELETROCAR2017).xlsx'\n",
      " 'https://www2.aneel.gov.br/aplicacoes/tarifa/arquivo/PCAT_Eletrocar_2017.xlsx']\n"
     ]
    },
    {
     "name": "stderr",
     "output_type": "stream",
     "text": [
      "D:\\python_projects\\cpfl\\web_scrapper\\venv_scraper\\lib\\site-packages\\urllib3\\connectionpool.py:1043: InsecureRequestWarning: Unverified HTTPS request is being made to host 'www2.aneel.gov.br'. Adding certificate verification is strongly advised. See: https://urllib3.readthedocs.io/en/1.26.x/advanced-usage.html#ssl-warnings\n",
      "  warnings.warn(\n",
      "D:\\python_projects\\cpfl\\web_scrapper\\venv_scraper\\lib\\site-packages\\urllib3\\connectionpool.py:1043: InsecureRequestWarning: Unverified HTTPS request is being made to host 'www2.aneel.gov.br'. Adding certificate verification is strongly advised. See: https://urllib3.readthedocs.io/en/1.26.x/advanced-usage.html#ssl-warnings\n",
      "  warnings.warn(\n"
     ]
    },
    {
     "name": "stdout",
     "output_type": "stream",
     "text": [
      "Arquivo: \"PCAT_ELETROCAR_2017-07-22_REVISAO_(PCATELETROCAR2017).xlsx\" foi baixado com sucesso\n",
      "['PCAT_ELETROCAR_2018-07-22_REAJUSTE_(PCATELETROCAR2018C).xlsx'\n",
      " 'https://www2.aneel.gov.br/aplicacoes/tarifa/arquivo/PCAT_Eletrocar_2018_c.xlsx']\n",
      "Arquivo: \"PCAT_ELETROCAR_2017-07-22_REVISAO_(PCATELETROCAR2017).xlsx\" foi baixado com sucesso\n",
      "['PCAT_ELETROCAR_2018-07-22_REAJUSTE_(PCATELETROCAR2018C).xlsx'\n",
      " 'https://www2.aneel.gov.br/aplicacoes/tarifa/arquivo/PCAT_Eletrocar_2018_c.xlsx']\n"
     ]
    },
    {
     "name": "stderr",
     "output_type": "stream",
     "text": [
      "D:\\python_projects\\cpfl\\web_scrapper\\venv_scraper\\lib\\site-packages\\urllib3\\connectionpool.py:1043: InsecureRequestWarning: Unverified HTTPS request is being made to host 'www2.aneel.gov.br'. Adding certificate verification is strongly advised. See: https://urllib3.readthedocs.io/en/1.26.x/advanced-usage.html#ssl-warnings\n",
      "  warnings.warn(\n",
      "D:\\python_projects\\cpfl\\web_scrapper\\venv_scraper\\lib\\site-packages\\urllib3\\connectionpool.py:1043: InsecureRequestWarning: Unverified HTTPS request is being made to host 'www2.aneel.gov.br'. Adding certificate verification is strongly advised. See: https://urllib3.readthedocs.io/en/1.26.x/advanced-usage.html#ssl-warnings\n",
      "  warnings.warn(\n"
     ]
    },
    {
     "name": "stdout",
     "output_type": "stream",
     "text": [
      "Arquivo: \"PCAT_ELETROCAR_2018-07-22_REAJUSTE_(PCATELETROCAR2018C).xlsx\" foi baixado com sucesso\n",
      "['PCAT_ELETROCAR_2019-07-22_REAJUSTE_(398PCATELETROCAR2019V17).xlsx'\n",
      " 'https://www2.aneel.gov.br/aplicacoes/tarifa/arquivo/398 PCAT Eletrocar 2019 V17.xlsx']\n",
      "Arquivo: \"PCAT_ELETROCAR_2018-07-22_REAJUSTE_(PCATELETROCAR2018C).xlsx\" foi baixado com sucesso\n",
      "['PCAT_ELETROCAR_2019-07-22_REAJUSTE_(398PCATELETROCAR2019V17).xlsx'\n",
      " 'https://www2.aneel.gov.br/aplicacoes/tarifa/arquivo/398 PCAT Eletrocar 2019 V17.xlsx']\n"
     ]
    },
    {
     "name": "stderr",
     "output_type": "stream",
     "text": [
      "D:\\python_projects\\cpfl\\web_scrapper\\venv_scraper\\lib\\site-packages\\urllib3\\connectionpool.py:1043: InsecureRequestWarning: Unverified HTTPS request is being made to host 'www2.aneel.gov.br'. Adding certificate verification is strongly advised. See: https://urllib3.readthedocs.io/en/1.26.x/advanced-usage.html#ssl-warnings\n",
      "  warnings.warn(\n",
      "D:\\python_projects\\cpfl\\web_scrapper\\venv_scraper\\lib\\site-packages\\urllib3\\connectionpool.py:1043: InsecureRequestWarning: Unverified HTTPS request is being made to host 'www2.aneel.gov.br'. Adding certificate verification is strongly advised. See: https://urllib3.readthedocs.io/en/1.26.x/advanced-usage.html#ssl-warnings\n",
      "  warnings.warn(\n"
     ]
    },
    {
     "name": "stdout",
     "output_type": "stream",
     "text": [
      "Arquivo: \"PCAT_ELETROCAR_2019-07-22_REAJUSTE_(398PCATELETROCAR2019V17).xlsx\" foi baixado com sucesso\n",
      "['PCAT_ELETROCAR_2020-07-22_REAJUSTE_(398PCATELETROCAR2020V02).xlsx'\n",
      " 'https://www2.aneel.gov.br/aplicacoes/tarifa/arquivo/398 PCAT Eletrocar 2020 V02.xlsx']\n",
      "Arquivo: \"PCAT_ELETROCAR_2019-07-22_REAJUSTE_(398PCATELETROCAR2019V17).xlsx\" foi baixado com sucesso\n",
      "['PCAT_ELETROCAR_2020-07-22_REAJUSTE_(398PCATELETROCAR2020V02).xlsx'\n",
      " 'https://www2.aneel.gov.br/aplicacoes/tarifa/arquivo/398 PCAT Eletrocar 2020 V02.xlsx']\n"
     ]
    },
    {
     "name": "stderr",
     "output_type": "stream",
     "text": [
      "D:\\python_projects\\cpfl\\web_scrapper\\venv_scraper\\lib\\site-packages\\urllib3\\connectionpool.py:1043: InsecureRequestWarning: Unverified HTTPS request is being made to host 'www2.aneel.gov.br'. Adding certificate verification is strongly advised. See: https://urllib3.readthedocs.io/en/1.26.x/advanced-usage.html#ssl-warnings\n",
      "  warnings.warn(\n",
      "D:\\python_projects\\cpfl\\web_scrapper\\venv_scraper\\lib\\site-packages\\urllib3\\connectionpool.py:1043: InsecureRequestWarning: Unverified HTTPS request is being made to host 'www2.aneel.gov.br'. Adding certificate verification is strongly advised. See: https://urllib3.readthedocs.io/en/1.26.x/advanced-usage.html#ssl-warnings\n",
      "  warnings.warn(\n"
     ]
    },
    {
     "name": "stdout",
     "output_type": "stream",
     "text": [
      "Arquivo: \"PCAT_ELETROCAR_2020-07-22_REAJUSTE_(398PCATELETROCAR2020V02).xlsx\" foi baixado com sucesso\n",
      "['PCAT_ELETROPAULO_2014-07-04_REAJUSTE_(PCATELETROPAULO2014).xlsx'\n",
      " 'https://www2.aneel.gov.br/aplicacoes/tarifa/arquivo/PCAT_ELETROPAULO_2014.xlsx']\n",
      "Arquivo: \"PCAT_ELETROCAR_2020-07-22_REAJUSTE_(398PCATELETROCAR2020V02).xlsx\" foi baixado com sucesso\n",
      "['PCAT_ELETROPAULO_2014-07-04_REAJUSTE_(PCATELETROPAULO2014).xlsx'\n",
      " 'https://www2.aneel.gov.br/aplicacoes/tarifa/arquivo/PCAT_ELETROPAULO_2014.xlsx']\n"
     ]
    },
    {
     "name": "stderr",
     "output_type": "stream",
     "text": [
      "D:\\python_projects\\cpfl\\web_scrapper\\venv_scraper\\lib\\site-packages\\urllib3\\connectionpool.py:1043: InsecureRequestWarning: Unverified HTTPS request is being made to host 'www2.aneel.gov.br'. Adding certificate verification is strongly advised. See: https://urllib3.readthedocs.io/en/1.26.x/advanced-usage.html#ssl-warnings\n",
      "  warnings.warn(\n",
      "D:\\python_projects\\cpfl\\web_scrapper\\venv_scraper\\lib\\site-packages\\urllib3\\connectionpool.py:1043: InsecureRequestWarning: Unverified HTTPS request is being made to host 'www2.aneel.gov.br'. Adding certificate verification is strongly advised. See: https://urllib3.readthedocs.io/en/1.26.x/advanced-usage.html#ssl-warnings\n",
      "  warnings.warn(\n"
     ]
    },
    {
     "name": "stdout",
     "output_type": "stream",
     "text": [
      "Arquivo: \"PCAT_ELETROPAULO_2014-07-04_REAJUSTE_(PCATELETROPAULO2014).xlsx\" foi baixado com sucesso\n",
      "['PCAT_ELETROPAULO_2015-07-04_REVISAO_(PCATELETROPAULO2015).xlsx'\n",
      " 'https://www2.aneel.gov.br/aplicacoes/tarifa/arquivo/PCAT_Eletropaulo_2015.xlsx']\n",
      "Arquivo: \"PCAT_ELETROPAULO_2014-07-04_REAJUSTE_(PCATELETROPAULO2014).xlsx\" foi baixado com sucesso\n",
      "['PCAT_ELETROPAULO_2015-07-04_REVISAO_(PCATELETROPAULO2015).xlsx'\n",
      " 'https://www2.aneel.gov.br/aplicacoes/tarifa/arquivo/PCAT_Eletropaulo_2015.xlsx']\n"
     ]
    },
    {
     "name": "stderr",
     "output_type": "stream",
     "text": [
      "D:\\python_projects\\cpfl\\web_scrapper\\venv_scraper\\lib\\site-packages\\urllib3\\connectionpool.py:1043: InsecureRequestWarning: Unverified HTTPS request is being made to host 'www2.aneel.gov.br'. Adding certificate verification is strongly advised. See: https://urllib3.readthedocs.io/en/1.26.x/advanced-usage.html#ssl-warnings\n",
      "  warnings.warn(\n",
      "D:\\python_projects\\cpfl\\web_scrapper\\venv_scraper\\lib\\site-packages\\urllib3\\connectionpool.py:1043: InsecureRequestWarning: Unverified HTTPS request is being made to host 'www2.aneel.gov.br'. Adding certificate verification is strongly advised. See: https://urllib3.readthedocs.io/en/1.26.x/advanced-usage.html#ssl-warnings\n",
      "  warnings.warn(\n"
     ]
    },
    {
     "name": "stdout",
     "output_type": "stream",
     "text": [
      "Arquivo: \"PCAT_ELETROPAULO_2015-07-04_REVISAO_(PCATELETROPAULO2015).xlsx\" foi baixado com sucesso\n",
      "['PCAT_ELETROPAULO_2015-03-02_REVISAOEXTRAORDINARIA_(PCATELETROPAULO2014V00).xlsx'\n",
      " 'https://www2.aneel.gov.br/aplicacoes/tarifa/arquivo/PCAT_ELETROPAULO_2014_V00.xlsx']\n",
      "Arquivo: \"PCAT_ELETROPAULO_2015-07-04_REVISAO_(PCATELETROPAULO2015).xlsx\" foi baixado com sucesso\n",
      "['PCAT_ELETROPAULO_2015-03-02_REVISAOEXTRAORDINARIA_(PCATELETROPAULO2014V00).xlsx'\n",
      " 'https://www2.aneel.gov.br/aplicacoes/tarifa/arquivo/PCAT_ELETROPAULO_2014_V00.xlsx']\n"
     ]
    },
    {
     "name": "stderr",
     "output_type": "stream",
     "text": [
      "D:\\python_projects\\cpfl\\web_scrapper\\venv_scraper\\lib\\site-packages\\urllib3\\connectionpool.py:1043: InsecureRequestWarning: Unverified HTTPS request is being made to host 'www2.aneel.gov.br'. Adding certificate verification is strongly advised. See: https://urllib3.readthedocs.io/en/1.26.x/advanced-usage.html#ssl-warnings\n",
      "  warnings.warn(\n",
      "D:\\python_projects\\cpfl\\web_scrapper\\venv_scraper\\lib\\site-packages\\urllib3\\connectionpool.py:1043: InsecureRequestWarning: Unverified HTTPS request is being made to host 'www2.aneel.gov.br'. Adding certificate verification is strongly advised. See: https://urllib3.readthedocs.io/en/1.26.x/advanced-usage.html#ssl-warnings\n",
      "  warnings.warn(\n"
     ]
    },
    {
     "name": "stdout",
     "output_type": "stream",
     "text": [
      "Arquivo: \"PCAT_ELETROPAULO_2015-03-02_REVISAOEXTRAORDINARIA_(PCATELETROPAULO2014V00).xlsx\" foi baixado com sucesso\n",
      "['PCAT_ELETROPAULO_2016-07-04_REAJUSTE_(PCATELETROPAULO2016).xlsx'\n",
      " 'https://www2.aneel.gov.br/aplicacoes/tarifa/arquivo/PCAT_Eletropaulo_2016.xlsx']\n",
      "Arquivo: \"PCAT_ELETROPAULO_2015-03-02_REVISAOEXTRAORDINARIA_(PCATELETROPAULO2014V00).xlsx\" foi baixado com sucesso\n",
      "['PCAT_ELETROPAULO_2016-07-04_REAJUSTE_(PCATELETROPAULO2016).xlsx'\n",
      " 'https://www2.aneel.gov.br/aplicacoes/tarifa/arquivo/PCAT_Eletropaulo_2016.xlsx']\n"
     ]
    },
    {
     "name": "stderr",
     "output_type": "stream",
     "text": [
      "D:\\python_projects\\cpfl\\web_scrapper\\venv_scraper\\lib\\site-packages\\urllib3\\connectionpool.py:1043: InsecureRequestWarning: Unverified HTTPS request is being made to host 'www2.aneel.gov.br'. Adding certificate verification is strongly advised. See: https://urllib3.readthedocs.io/en/1.26.x/advanced-usage.html#ssl-warnings\n",
      "  warnings.warn(\n",
      "D:\\python_projects\\cpfl\\web_scrapper\\venv_scraper\\lib\\site-packages\\urllib3\\connectionpool.py:1043: InsecureRequestWarning: Unverified HTTPS request is being made to host 'www2.aneel.gov.br'. Adding certificate verification is strongly advised. See: https://urllib3.readthedocs.io/en/1.26.x/advanced-usage.html#ssl-warnings\n",
      "  warnings.warn(\n"
     ]
    },
    {
     "name": "stdout",
     "output_type": "stream",
     "text": [
      "Arquivo: \"PCAT_ELETROPAULO_2016-07-04_REAJUSTE_(PCATELETROPAULO2016).xlsx\" foi baixado com sucesso\n",
      "['PCAT_ELETROPAULO_2017-07-04_REAJUSTE_(PCATELETROPAULO2017).xlsx'\n",
      " 'https://www2.aneel.gov.br/aplicacoes/tarifa/arquivo/PCAT_Eletropaulo_2017.xlsx']\n",
      "Arquivo: \"PCAT_ELETROPAULO_2016-07-04_REAJUSTE_(PCATELETROPAULO2016).xlsx\" foi baixado com sucesso\n",
      "['PCAT_ELETROPAULO_2017-07-04_REAJUSTE_(PCATELETROPAULO2017).xlsx'\n",
      " 'https://www2.aneel.gov.br/aplicacoes/tarifa/arquivo/PCAT_Eletropaulo_2017.xlsx']\n"
     ]
    },
    {
     "name": "stderr",
     "output_type": "stream",
     "text": [
      "D:\\python_projects\\cpfl\\web_scrapper\\venv_scraper\\lib\\site-packages\\urllib3\\connectionpool.py:1043: InsecureRequestWarning: Unverified HTTPS request is being made to host 'www2.aneel.gov.br'. Adding certificate verification is strongly advised. See: https://urllib3.readthedocs.io/en/1.26.x/advanced-usage.html#ssl-warnings\n",
      "  warnings.warn(\n",
      "D:\\python_projects\\cpfl\\web_scrapper\\venv_scraper\\lib\\site-packages\\urllib3\\connectionpool.py:1043: InsecureRequestWarning: Unverified HTTPS request is being made to host 'www2.aneel.gov.br'. Adding certificate verification is strongly advised. See: https://urllib3.readthedocs.io/en/1.26.x/advanced-usage.html#ssl-warnings\n",
      "  warnings.warn(\n"
     ]
    },
    {
     "name": "stdout",
     "output_type": "stream",
     "text": [
      "Arquivo: \"PCAT_ELETROPAULO_2017-07-04_REAJUSTE_(PCATELETROPAULO2017).xlsx\" foi baixado com sucesso\n",
      "['PCAT_ELETROPAULO_2018-07-04_REAJUSTE_(PCATELETROPAULO2018).xlsx'\n",
      " 'https://www2.aneel.gov.br/aplicacoes/tarifa/arquivo/PCAT_Eletropaulo_2018 .xlsx']\n",
      "Arquivo: \"PCAT_ELETROPAULO_2017-07-04_REAJUSTE_(PCATELETROPAULO2017).xlsx\" foi baixado com sucesso\n",
      "['PCAT_ELETROPAULO_2018-07-04_REAJUSTE_(PCATELETROPAULO2018).xlsx'\n",
      " 'https://www2.aneel.gov.br/aplicacoes/tarifa/arquivo/PCAT_Eletropaulo_2018 .xlsx']\n"
     ]
    },
    {
     "name": "stderr",
     "output_type": "stream",
     "text": [
      "D:\\python_projects\\cpfl\\web_scrapper\\venv_scraper\\lib\\site-packages\\urllib3\\connectionpool.py:1043: InsecureRequestWarning: Unverified HTTPS request is being made to host 'www2.aneel.gov.br'. Adding certificate verification is strongly advised. See: https://urllib3.readthedocs.io/en/1.26.x/advanced-usage.html#ssl-warnings\n",
      "  warnings.warn(\n",
      "D:\\python_projects\\cpfl\\web_scrapper\\venv_scraper\\lib\\site-packages\\urllib3\\connectionpool.py:1043: InsecureRequestWarning: Unverified HTTPS request is being made to host 'www2.aneel.gov.br'. Adding certificate verification is strongly advised. See: https://urllib3.readthedocs.io/en/1.26.x/advanced-usage.html#ssl-warnings\n",
      "  warnings.warn(\n"
     ]
    },
    {
     "name": "stdout",
     "output_type": "stream",
     "text": [
      "Arquivo: \"PCAT_ELETROPAULO_2018-07-04_REAJUSTE_(PCATELETROPAULO2018).xlsx\" foi baixado com sucesso\n",
      "['PCAT_ELETROPAULO_2019-07-04_REVISAO_(390PCATENELSP2019V02).xlsx'\n",
      " 'https://www2.aneel.gov.br/aplicacoes/tarifa/arquivo/390 PCAT Enel SP 2019 V02.xlsx']\n",
      "Arquivo: \"PCAT_ELETROPAULO_2018-07-04_REAJUSTE_(PCATELETROPAULO2018).xlsx\" foi baixado com sucesso\n",
      "['PCAT_ELETROPAULO_2019-07-04_REVISAO_(390PCATENELSP2019V02).xlsx'\n",
      " 'https://www2.aneel.gov.br/aplicacoes/tarifa/arquivo/390 PCAT Enel SP 2019 V02.xlsx']\n"
     ]
    },
    {
     "name": "stderr",
     "output_type": "stream",
     "text": [
      "D:\\python_projects\\cpfl\\web_scrapper\\venv_scraper\\lib\\site-packages\\urllib3\\connectionpool.py:1043: InsecureRequestWarning: Unverified HTTPS request is being made to host 'www2.aneel.gov.br'. Adding certificate verification is strongly advised. See: https://urllib3.readthedocs.io/en/1.26.x/advanced-usage.html#ssl-warnings\n",
      "  warnings.warn(\n",
      "D:\\python_projects\\cpfl\\web_scrapper\\venv_scraper\\lib\\site-packages\\urllib3\\connectionpool.py:1043: InsecureRequestWarning: Unverified HTTPS request is being made to host 'www2.aneel.gov.br'. Adding certificate verification is strongly advised. See: https://urllib3.readthedocs.io/en/1.26.x/advanced-usage.html#ssl-warnings\n",
      "  warnings.warn(\n"
     ]
    },
    {
     "name": "stdout",
     "output_type": "stream",
     "text": [
      "Arquivo: \"PCAT_ELETROPAULO_2019-07-04_REVISAO_(390PCATENELSP2019V02).xlsx\" foi baixado com sucesso\n",
      "['PCAT_ELETROPAULO_2020-07-04_REAJUSTE_(390PCATENELSP2020V02COMCOVID).xlsx'\n",
      " 'https://www2.aneel.gov.br/aplicacoes/tarifa/arquivo/390 PCAT Enel SP 2020 V02 - com covid.xlsx']\n",
      "Arquivo: \"PCAT_ELETROPAULO_2019-07-04_REVISAO_(390PCATENELSP2019V02).xlsx\" foi baixado com sucesso\n",
      "['PCAT_ELETROPAULO_2020-07-04_REAJUSTE_(390PCATENELSP2020V02COMCOVID).xlsx'\n",
      " 'https://www2.aneel.gov.br/aplicacoes/tarifa/arquivo/390 PCAT Enel SP 2020 V02 - com covid.xlsx']\n"
     ]
    },
    {
     "name": "stderr",
     "output_type": "stream",
     "text": [
      "D:\\python_projects\\cpfl\\web_scrapper\\venv_scraper\\lib\\site-packages\\urllib3\\connectionpool.py:1043: InsecureRequestWarning: Unverified HTTPS request is being made to host 'www2.aneel.gov.br'. Adding certificate verification is strongly advised. See: https://urllib3.readthedocs.io/en/1.26.x/advanced-usage.html#ssl-warnings\n",
      "  warnings.warn(\n",
      "D:\\python_projects\\cpfl\\web_scrapper\\venv_scraper\\lib\\site-packages\\urllib3\\connectionpool.py:1043: InsecureRequestWarning: Unverified HTTPS request is being made to host 'www2.aneel.gov.br'. Adding certificate verification is strongly advised. See: https://urllib3.readthedocs.io/en/1.26.x/advanced-usage.html#ssl-warnings\n",
      "  warnings.warn(\n"
     ]
    },
    {
     "name": "stdout",
     "output_type": "stream",
     "text": [
      "Arquivo: \"PCAT_ELETROPAULO_2020-07-04_REAJUSTE_(390PCATENELSP2020V02COMCOVID).xlsx\" foi baixado com sucesso\n",
      "['PCAT_ELETROPAULO_2021-07-04_REAJUSTE_(390PCATENELSP2021V02).xlsx'\n",
      " 'https://www2.aneel.gov.br/aplicacoes/tarifa/arquivo/390 PCAT Enel SP 2021 V02.xlsx']\n",
      "Arquivo: \"PCAT_ELETROPAULO_2020-07-04_REAJUSTE_(390PCATENELSP2020V02COMCOVID).xlsx\" foi baixado com sucesso\n",
      "['PCAT_ELETROPAULO_2021-07-04_REAJUSTE_(390PCATENELSP2021V02).xlsx'\n",
      " 'https://www2.aneel.gov.br/aplicacoes/tarifa/arquivo/390 PCAT Enel SP 2021 V02.xlsx']\n"
     ]
    },
    {
     "name": "stderr",
     "output_type": "stream",
     "text": [
      "D:\\python_projects\\cpfl\\web_scrapper\\venv_scraper\\lib\\site-packages\\urllib3\\connectionpool.py:1043: InsecureRequestWarning: Unverified HTTPS request is being made to host 'www2.aneel.gov.br'. Adding certificate verification is strongly advised. See: https://urllib3.readthedocs.io/en/1.26.x/advanced-usage.html#ssl-warnings\n",
      "  warnings.warn(\n",
      "D:\\python_projects\\cpfl\\web_scrapper\\venv_scraper\\lib\\site-packages\\urllib3\\connectionpool.py:1043: InsecureRequestWarning: Unverified HTTPS request is being made to host 'www2.aneel.gov.br'. Adding certificate verification is strongly advised. See: https://urllib3.readthedocs.io/en/1.26.x/advanced-usage.html#ssl-warnings\n",
      "  warnings.warn(\n"
     ]
    },
    {
     "name": "stdout",
     "output_type": "stream",
     "text": [
      "Arquivo: \"PCAT_ELETROPAULO_2021-07-04_REAJUSTE_(390PCATENELSP2021V02).xlsx\" foi baixado com sucesso\n",
      "['PCAT_ELFSM_2014-08-12_REAJUSTE_(PCATELFSM2014).xlsx'\n",
      " 'https://www2.aneel.gov.br/aplicacoes/tarifa/arquivo/PCAT_ELFSM_2014.xlsx']\n",
      "Arquivo: \"PCAT_ELETROPAULO_2021-07-04_REAJUSTE_(390PCATENELSP2021V02).xlsx\" foi baixado com sucesso\n",
      "['PCAT_ELFSM_2014-08-12_REAJUSTE_(PCATELFSM2014).xlsx'\n",
      " 'https://www2.aneel.gov.br/aplicacoes/tarifa/arquivo/PCAT_ELFSM_2014.xlsx']\n"
     ]
    },
    {
     "name": "stderr",
     "output_type": "stream",
     "text": [
      "D:\\python_projects\\cpfl\\web_scrapper\\venv_scraper\\lib\\site-packages\\urllib3\\connectionpool.py:1043: InsecureRequestWarning: Unverified HTTPS request is being made to host 'www2.aneel.gov.br'. Adding certificate verification is strongly advised. See: https://urllib3.readthedocs.io/en/1.26.x/advanced-usage.html#ssl-warnings\n",
      "  warnings.warn(\n",
      "D:\\python_projects\\cpfl\\web_scrapper\\venv_scraper\\lib\\site-packages\\urllib3\\connectionpool.py:1043: InsecureRequestWarning: Unverified HTTPS request is being made to host 'www2.aneel.gov.br'. Adding certificate verification is strongly advised. See: https://urllib3.readthedocs.io/en/1.26.x/advanced-usage.html#ssl-warnings\n",
      "  warnings.warn(\n"
     ]
    },
    {
     "name": "stdout",
     "output_type": "stream",
     "text": [
      "Arquivo: \"PCAT_ELFSM_2014-08-12_REAJUSTE_(PCATELFSM2014).xlsx\" foi baixado com sucesso\n",
      "['PCAT_ELFSM_2015-08-15_REAJUSTE_(PCATELFSM2015).xlsx'\n",
      " 'https://www2.aneel.gov.br/aplicacoes/tarifa/arquivo/PCAT_ELFSM_2015.xlsx']\n",
      "Arquivo: \"PCAT_ELFSM_2014-08-12_REAJUSTE_(PCATELFSM2014).xlsx\" foi baixado com sucesso\n",
      "['PCAT_ELFSM_2015-08-15_REAJUSTE_(PCATELFSM2015).xlsx'\n",
      " 'https://www2.aneel.gov.br/aplicacoes/tarifa/arquivo/PCAT_ELFSM_2015.xlsx']\n"
     ]
    },
    {
     "name": "stderr",
     "output_type": "stream",
     "text": [
      "D:\\python_projects\\cpfl\\web_scrapper\\venv_scraper\\lib\\site-packages\\urllib3\\connectionpool.py:1043: InsecureRequestWarning: Unverified HTTPS request is being made to host 'www2.aneel.gov.br'. Adding certificate verification is strongly advised. See: https://urllib3.readthedocs.io/en/1.26.x/advanced-usage.html#ssl-warnings\n",
      "  warnings.warn(\n",
      "D:\\python_projects\\cpfl\\web_scrapper\\venv_scraper\\lib\\site-packages\\urllib3\\connectionpool.py:1043: InsecureRequestWarning: Unverified HTTPS request is being made to host 'www2.aneel.gov.br'. Adding certificate verification is strongly advised. See: https://urllib3.readthedocs.io/en/1.26.x/advanced-usage.html#ssl-warnings\n",
      "  warnings.warn(\n"
     ]
    },
    {
     "name": "stdout",
     "output_type": "stream",
     "text": [
      "Arquivo: \"PCAT_ELFSM_2015-08-15_REAJUSTE_(PCATELFSM2015).xlsx\" foi baixado com sucesso\n",
      "['PCAT_ELFSM_2015-03-02_REVISAOEXTRAORDINARIA_(PCATELFSM2014V00).xlsx'\n",
      " 'https://www2.aneel.gov.br/aplicacoes/tarifa/arquivo/PCAT_ELFSM_2014_V00.xlsx']\n",
      "Arquivo: \"PCAT_ELFSM_2015-08-15_REAJUSTE_(PCATELFSM2015).xlsx\" foi baixado com sucesso\n",
      "['PCAT_ELFSM_2015-03-02_REVISAOEXTRAORDINARIA_(PCATELFSM2014V00).xlsx'\n",
      " 'https://www2.aneel.gov.br/aplicacoes/tarifa/arquivo/PCAT_ELFSM_2014_V00.xlsx']\n"
     ]
    },
    {
     "name": "stderr",
     "output_type": "stream",
     "text": [
      "D:\\python_projects\\cpfl\\web_scrapper\\venv_scraper\\lib\\site-packages\\urllib3\\connectionpool.py:1043: InsecureRequestWarning: Unverified HTTPS request is being made to host 'www2.aneel.gov.br'. Adding certificate verification is strongly advised. See: https://urllib3.readthedocs.io/en/1.26.x/advanced-usage.html#ssl-warnings\n",
      "  warnings.warn(\n",
      "D:\\python_projects\\cpfl\\web_scrapper\\venv_scraper\\lib\\site-packages\\urllib3\\connectionpool.py:1043: InsecureRequestWarning: Unverified HTTPS request is being made to host 'www2.aneel.gov.br'. Adding certificate verification is strongly advised. See: https://urllib3.readthedocs.io/en/1.26.x/advanced-usage.html#ssl-warnings\n",
      "  warnings.warn(\n"
     ]
    },
    {
     "name": "stdout",
     "output_type": "stream",
     "text": [
      "Arquivo: \"PCAT_ELFSM_2015-03-02_REVISAOEXTRAORDINARIA_(PCATELFSM2014V00).xlsx\" foi baixado com sucesso\n",
      "['PCAT_ELFSM_2016-08-22_REVISAO_(PCATELFSM2016).xlsx'\n",
      " 'https://www2.aneel.gov.br/aplicacoes/tarifa/arquivo/PCAT_ELFSM_2016.xlsx']\n",
      "Arquivo: \"PCAT_ELFSM_2015-03-02_REVISAOEXTRAORDINARIA_(PCATELFSM2014V00).xlsx\" foi baixado com sucesso\n",
      "['PCAT_ELFSM_2016-08-22_REVISAO_(PCATELFSM2016).xlsx'\n",
      " 'https://www2.aneel.gov.br/aplicacoes/tarifa/arquivo/PCAT_ELFSM_2016.xlsx']\n"
     ]
    },
    {
     "name": "stderr",
     "output_type": "stream",
     "text": [
      "D:\\python_projects\\cpfl\\web_scrapper\\venv_scraper\\lib\\site-packages\\urllib3\\connectionpool.py:1043: InsecureRequestWarning: Unverified HTTPS request is being made to host 'www2.aneel.gov.br'. Adding certificate verification is strongly advised. See: https://urllib3.readthedocs.io/en/1.26.x/advanced-usage.html#ssl-warnings\n",
      "  warnings.warn(\n",
      "D:\\python_projects\\cpfl\\web_scrapper\\venv_scraper\\lib\\site-packages\\urllib3\\connectionpool.py:1043: InsecureRequestWarning: Unverified HTTPS request is being made to host 'www2.aneel.gov.br'. Adding certificate verification is strongly advised. See: https://urllib3.readthedocs.io/en/1.26.x/advanced-usage.html#ssl-warnings\n",
      "  warnings.warn(\n"
     ]
    },
    {
     "name": "stdout",
     "output_type": "stream",
     "text": [
      "Arquivo: \"PCAT_ELFSM_2016-08-22_REVISAO_(PCATELFSM2016).xlsx\" foi baixado com sucesso\n",
      "['PCAT_ELFSM_2017-08-23_REAJUSTE_(PCATELFSM2017).xlsx'\n",
      " 'https://www2.aneel.gov.br/aplicacoes/tarifa/arquivo/PCAT_ELFSM_2017.xlsx']\n",
      "Arquivo: \"PCAT_ELFSM_2016-08-22_REVISAO_(PCATELFSM2016).xlsx\" foi baixado com sucesso\n",
      "['PCAT_ELFSM_2017-08-23_REAJUSTE_(PCATELFSM2017).xlsx'\n",
      " 'https://www2.aneel.gov.br/aplicacoes/tarifa/arquivo/PCAT_ELFSM_2017.xlsx']\n"
     ]
    },
    {
     "name": "stderr",
     "output_type": "stream",
     "text": [
      "D:\\python_projects\\cpfl\\web_scrapper\\venv_scraper\\lib\\site-packages\\urllib3\\connectionpool.py:1043: InsecureRequestWarning: Unverified HTTPS request is being made to host 'www2.aneel.gov.br'. Adding certificate verification is strongly advised. See: https://urllib3.readthedocs.io/en/1.26.x/advanced-usage.html#ssl-warnings\n",
      "  warnings.warn(\n",
      "D:\\python_projects\\cpfl\\web_scrapper\\venv_scraper\\lib\\site-packages\\urllib3\\connectionpool.py:1043: InsecureRequestWarning: Unverified HTTPS request is being made to host 'www2.aneel.gov.br'. Adding certificate verification is strongly advised. See: https://urllib3.readthedocs.io/en/1.26.x/advanced-usage.html#ssl-warnings\n",
      "  warnings.warn(\n"
     ]
    },
    {
     "name": "stdout",
     "output_type": "stream",
     "text": [
      "Arquivo: \"PCAT_ELFSM_2017-08-23_REAJUSTE_(PCATELFSM2017).xlsx\" foi baixado com sucesso\n",
      "['PCAT_ELFSM_2018-08-22_REAJUSTE_(PCATELFSM2018).xlsx'\n",
      " 'https://www2.aneel.gov.br/aplicacoes/tarifa/arquivo/PCAT_ELFSM_2018 .xlsx']\n",
      "Arquivo: \"PCAT_ELFSM_2017-08-23_REAJUSTE_(PCATELFSM2017).xlsx\" foi baixado com sucesso\n",
      "['PCAT_ELFSM_2018-08-22_REAJUSTE_(PCATELFSM2018).xlsx'\n",
      " 'https://www2.aneel.gov.br/aplicacoes/tarifa/arquivo/PCAT_ELFSM_2018 .xlsx']\n"
     ]
    },
    {
     "name": "stderr",
     "output_type": "stream",
     "text": [
      "D:\\python_projects\\cpfl\\web_scrapper\\venv_scraper\\lib\\site-packages\\urllib3\\connectionpool.py:1043: InsecureRequestWarning: Unverified HTTPS request is being made to host 'www2.aneel.gov.br'. Adding certificate verification is strongly advised. See: https://urllib3.readthedocs.io/en/1.26.x/advanced-usage.html#ssl-warnings\n",
      "  warnings.warn(\n",
      "D:\\python_projects\\cpfl\\web_scrapper\\venv_scraper\\lib\\site-packages\\urllib3\\connectionpool.py:1043: InsecureRequestWarning: Unverified HTTPS request is being made to host 'www2.aneel.gov.br'. Adding certificate verification is strongly advised. See: https://urllib3.readthedocs.io/en/1.26.x/advanced-usage.html#ssl-warnings\n",
      "  warnings.warn(\n"
     ]
    },
    {
     "name": "stdout",
     "output_type": "stream",
     "text": [
      "Arquivo: \"PCAT_ELFSM_2018-08-22_REAJUSTE_(PCATELFSM2018).xlsx\" foi baixado com sucesso\n",
      "['PCAT_ELFSM_2019-08-22_REAJUSTE_(381PCATELFSM2019).xlsx'\n",
      " 'https://www2.aneel.gov.br/aplicacoes/tarifa/arquivo/381 PCAT ELFSM 2019.xlsx']\n",
      "Arquivo: \"PCAT_ELFSM_2018-08-22_REAJUSTE_(PCATELFSM2018).xlsx\" foi baixado com sucesso\n",
      "['PCAT_ELFSM_2019-08-22_REAJUSTE_(381PCATELFSM2019).xlsx'\n",
      " 'https://www2.aneel.gov.br/aplicacoes/tarifa/arquivo/381 PCAT ELFSM 2019.xlsx']\n"
     ]
    },
    {
     "name": "stderr",
     "output_type": "stream",
     "text": [
      "D:\\python_projects\\cpfl\\web_scrapper\\venv_scraper\\lib\\site-packages\\urllib3\\connectionpool.py:1043: InsecureRequestWarning: Unverified HTTPS request is being made to host 'www2.aneel.gov.br'. Adding certificate verification is strongly advised. See: https://urllib3.readthedocs.io/en/1.26.x/advanced-usage.html#ssl-warnings\n",
      "  warnings.warn(\n",
      "D:\\python_projects\\cpfl\\web_scrapper\\venv_scraper\\lib\\site-packages\\urllib3\\connectionpool.py:1043: InsecureRequestWarning: Unverified HTTPS request is being made to host 'www2.aneel.gov.br'. Adding certificate verification is strongly advised. See: https://urllib3.readthedocs.io/en/1.26.x/advanced-usage.html#ssl-warnings\n",
      "  warnings.warn(\n"
     ]
    },
    {
     "name": "stdout",
     "output_type": "stream",
     "text": [
      "Arquivo: \"PCAT_ELFSM_2019-08-22_REAJUSTE_(381PCATELFSM2019).xlsx\" foi baixado com sucesso\n",
      "['PCAT_ELFSM_2020-09-22_REAJUSTE_(381PCATELFSM2020V02).xlsx'\n",
      " 'https://www2.aneel.gov.br/aplicacoes/tarifa/arquivo/381 PCAT ELFSM 2020 V02.xlsx']\n",
      "Arquivo: \"PCAT_ELFSM_2019-08-22_REAJUSTE_(381PCATELFSM2019).xlsx\" foi baixado com sucesso\n",
      "['PCAT_ELFSM_2020-09-22_REAJUSTE_(381PCATELFSM2020V02).xlsx'\n",
      " 'https://www2.aneel.gov.br/aplicacoes/tarifa/arquivo/381 PCAT ELFSM 2020 V02.xlsx']\n"
     ]
    },
    {
     "name": "stderr",
     "output_type": "stream",
     "text": [
      "D:\\python_projects\\cpfl\\web_scrapper\\venv_scraper\\lib\\site-packages\\urllib3\\connectionpool.py:1043: InsecureRequestWarning: Unverified HTTPS request is being made to host 'www2.aneel.gov.br'. Adding certificate verification is strongly advised. See: https://urllib3.readthedocs.io/en/1.26.x/advanced-usage.html#ssl-warnings\n",
      "  warnings.warn(\n",
      "D:\\python_projects\\cpfl\\web_scrapper\\venv_scraper\\lib\\site-packages\\urllib3\\connectionpool.py:1043: InsecureRequestWarning: Unverified HTTPS request is being made to host 'www2.aneel.gov.br'. Adding certificate verification is strongly advised. See: https://urllib3.readthedocs.io/en/1.26.x/advanced-usage.html#ssl-warnings\n",
      "  warnings.warn(\n"
     ]
    },
    {
     "name": "stdout",
     "output_type": "stream",
     "text": [
      "Arquivo: \"PCAT_ELFSM_2020-09-22_REAJUSTE_(381PCATELFSM2020V02).xlsx\" foi baixado com sucesso\n",
      "['PCAT_EMG_2014-06-18_REAJUSTE_(PCATEMG2014).xlsx'\n",
      " 'https://www2.aneel.gov.br/aplicacoes/tarifa/arquivo/PCAT_EMG_2014.xlsx']\n",
      "Arquivo: \"PCAT_ELFSM_2020-09-22_REAJUSTE_(381PCATELFSM2020V02).xlsx\" foi baixado com sucesso\n",
      "['PCAT_EMG_2014-06-18_REAJUSTE_(PCATEMG2014).xlsx'\n",
      " 'https://www2.aneel.gov.br/aplicacoes/tarifa/arquivo/PCAT_EMG_2014.xlsx']\n"
     ]
    },
    {
     "name": "stderr",
     "output_type": "stream",
     "text": [
      "D:\\python_projects\\cpfl\\web_scrapper\\venv_scraper\\lib\\site-packages\\urllib3\\connectionpool.py:1043: InsecureRequestWarning: Unverified HTTPS request is being made to host 'www2.aneel.gov.br'. Adding certificate verification is strongly advised. See: https://urllib3.readthedocs.io/en/1.26.x/advanced-usage.html#ssl-warnings\n",
      "  warnings.warn(\n",
      "D:\\python_projects\\cpfl\\web_scrapper\\venv_scraper\\lib\\site-packages\\urllib3\\connectionpool.py:1043: InsecureRequestWarning: Unverified HTTPS request is being made to host 'www2.aneel.gov.br'. Adding certificate verification is strongly advised. See: https://urllib3.readthedocs.io/en/1.26.x/advanced-usage.html#ssl-warnings\n",
      "  warnings.warn(\n"
     ]
    },
    {
     "name": "stdout",
     "output_type": "stream",
     "text": [
      "Arquivo: \"PCAT_EMG_2014-06-18_REAJUSTE_(PCATEMG2014).xlsx\" foi baixado com sucesso\n",
      "['PCAT_EMG_2015-06-18_REAJUSTE_(PCATEMG2015).xlsx'\n",
      " 'https://www2.aneel.gov.br/aplicacoes/tarifa/arquivo/PCAT_EMG_2015.xlsx']\n",
      "Arquivo: \"PCAT_EMG_2014-06-18_REAJUSTE_(PCATEMG2014).xlsx\" foi baixado com sucesso\n",
      "['PCAT_EMG_2015-06-18_REAJUSTE_(PCATEMG2015).xlsx'\n",
      " 'https://www2.aneel.gov.br/aplicacoes/tarifa/arquivo/PCAT_EMG_2015.xlsx']\n"
     ]
    },
    {
     "name": "stderr",
     "output_type": "stream",
     "text": [
      "D:\\python_projects\\cpfl\\web_scrapper\\venv_scraper\\lib\\site-packages\\urllib3\\connectionpool.py:1043: InsecureRequestWarning: Unverified HTTPS request is being made to host 'www2.aneel.gov.br'. Adding certificate verification is strongly advised. See: https://urllib3.readthedocs.io/en/1.26.x/advanced-usage.html#ssl-warnings\n",
      "  warnings.warn(\n",
      "D:\\python_projects\\cpfl\\web_scrapper\\venv_scraper\\lib\\site-packages\\urllib3\\connectionpool.py:1043: InsecureRequestWarning: Unverified HTTPS request is being made to host 'www2.aneel.gov.br'. Adding certificate verification is strongly advised. See: https://urllib3.readthedocs.io/en/1.26.x/advanced-usage.html#ssl-warnings\n",
      "  warnings.warn(\n"
     ]
    },
    {
     "name": "stdout",
     "output_type": "stream",
     "text": [
      "Arquivo: \"PCAT_EMG_2015-06-18_REAJUSTE_(PCATEMG2015).xlsx\" foi baixado com sucesso\n",
      "['PCAT_EMG_2015-03-02_REVISAOEXTRAORDINARIA_(PCATEMG2014V00).xlsx'\n",
      " 'https://www2.aneel.gov.br/aplicacoes/tarifa/arquivo/PCAT_EMG_2014_V00.xlsx']\n",
      "Arquivo: \"PCAT_EMG_2015-06-18_REAJUSTE_(PCATEMG2015).xlsx\" foi baixado com sucesso\n",
      "['PCAT_EMG_2015-03-02_REVISAOEXTRAORDINARIA_(PCATEMG2014V00).xlsx'\n",
      " 'https://www2.aneel.gov.br/aplicacoes/tarifa/arquivo/PCAT_EMG_2014_V00.xlsx']\n"
     ]
    },
    {
     "name": "stderr",
     "output_type": "stream",
     "text": [
      "D:\\python_projects\\cpfl\\web_scrapper\\venv_scraper\\lib\\site-packages\\urllib3\\connectionpool.py:1043: InsecureRequestWarning: Unverified HTTPS request is being made to host 'www2.aneel.gov.br'. Adding certificate verification is strongly advised. See: https://urllib3.readthedocs.io/en/1.26.x/advanced-usage.html#ssl-warnings\n",
      "  warnings.warn(\n",
      "D:\\python_projects\\cpfl\\web_scrapper\\venv_scraper\\lib\\site-packages\\urllib3\\connectionpool.py:1043: InsecureRequestWarning: Unverified HTTPS request is being made to host 'www2.aneel.gov.br'. Adding certificate verification is strongly advised. See: https://urllib3.readthedocs.io/en/1.26.x/advanced-usage.html#ssl-warnings\n",
      "  warnings.warn(\n"
     ]
    },
    {
     "name": "stdout",
     "output_type": "stream",
     "text": [
      "Arquivo: \"PCAT_EMG_2015-03-02_REVISAOEXTRAORDINARIA_(PCATEMG2014V00).xlsx\" foi baixado com sucesso\n",
      "['PCAT_EMG_2016-06-22_REVISAO_(PCATEMG20161).xlsx'\n",
      " 'https://www2.aneel.gov.br/aplicacoes/tarifa/arquivo/PCAT_EMG_20161.xlsx']\n",
      "Arquivo: \"PCAT_EMG_2015-03-02_REVISAOEXTRAORDINARIA_(PCATEMG2014V00).xlsx\" foi baixado com sucesso\n",
      "['PCAT_EMG_2016-06-22_REVISAO_(PCATEMG20161).xlsx'\n",
      " 'https://www2.aneel.gov.br/aplicacoes/tarifa/arquivo/PCAT_EMG_20161.xlsx']\n"
     ]
    },
    {
     "name": "stderr",
     "output_type": "stream",
     "text": [
      "D:\\python_projects\\cpfl\\web_scrapper\\venv_scraper\\lib\\site-packages\\urllib3\\connectionpool.py:1043: InsecureRequestWarning: Unverified HTTPS request is being made to host 'www2.aneel.gov.br'. Adding certificate verification is strongly advised. See: https://urllib3.readthedocs.io/en/1.26.x/advanced-usage.html#ssl-warnings\n",
      "  warnings.warn(\n",
      "D:\\python_projects\\cpfl\\web_scrapper\\venv_scraper\\lib\\site-packages\\urllib3\\connectionpool.py:1043: InsecureRequestWarning: Unverified HTTPS request is being made to host 'www2.aneel.gov.br'. Adding certificate verification is strongly advised. See: https://urllib3.readthedocs.io/en/1.26.x/advanced-usage.html#ssl-warnings\n",
      "  warnings.warn(\n"
     ]
    },
    {
     "name": "stdout",
     "output_type": "stream",
     "text": [
      "Arquivo: \"PCAT_EMG_2016-06-22_REVISAO_(PCATEMG20161).xlsx\" foi baixado com sucesso\n",
      "['PCAT_EMG_2017-06-22_REAJUSTE_(PCATEMG2017).xlsx'\n",
      " 'https://www2.aneel.gov.br/aplicacoes/tarifa/arquivo/PCAT_EMG_2017.xlsx']\n",
      "Arquivo: \"PCAT_EMG_2016-06-22_REVISAO_(PCATEMG20161).xlsx\" foi baixado com sucesso\n",
      "['PCAT_EMG_2017-06-22_REAJUSTE_(PCATEMG2017).xlsx'\n",
      " 'https://www2.aneel.gov.br/aplicacoes/tarifa/arquivo/PCAT_EMG_2017.xlsx']\n"
     ]
    },
    {
     "name": "stderr",
     "output_type": "stream",
     "text": [
      "D:\\python_projects\\cpfl\\web_scrapper\\venv_scraper\\lib\\site-packages\\urllib3\\connectionpool.py:1043: InsecureRequestWarning: Unverified HTTPS request is being made to host 'www2.aneel.gov.br'. Adding certificate verification is strongly advised. See: https://urllib3.readthedocs.io/en/1.26.x/advanced-usage.html#ssl-warnings\n",
      "  warnings.warn(\n",
      "D:\\python_projects\\cpfl\\web_scrapper\\venv_scraper\\lib\\site-packages\\urllib3\\connectionpool.py:1043: InsecureRequestWarning: Unverified HTTPS request is being made to host 'www2.aneel.gov.br'. Adding certificate verification is strongly advised. See: https://urllib3.readthedocs.io/en/1.26.x/advanced-usage.html#ssl-warnings\n",
      "  warnings.warn(\n"
     ]
    },
    {
     "name": "stdout",
     "output_type": "stream",
     "text": [
      "Arquivo: \"PCAT_EMG_2017-06-22_REAJUSTE_(PCATEMG2017).xlsx\" foi baixado com sucesso\n",
      "['PCAT_EMG_2018-06-22_REAJUSTE_(PCATEMG2018).xlsx'\n",
      " 'https://www2.aneel.gov.br/aplicacoes/tarifa/arquivo/PCAT_EMG_2018.xlsx']\n",
      "Arquivo: \"PCAT_EMG_2017-06-22_REAJUSTE_(PCATEMG2017).xlsx\" foi baixado com sucesso\n",
      "['PCAT_EMG_2018-06-22_REAJUSTE_(PCATEMG2018).xlsx'\n",
      " 'https://www2.aneel.gov.br/aplicacoes/tarifa/arquivo/PCAT_EMG_2018.xlsx']\n"
     ]
    },
    {
     "name": "stderr",
     "output_type": "stream",
     "text": [
      "D:\\python_projects\\cpfl\\web_scrapper\\venv_scraper\\lib\\site-packages\\urllib3\\connectionpool.py:1043: InsecureRequestWarning: Unverified HTTPS request is being made to host 'www2.aneel.gov.br'. Adding certificate verification is strongly advised. See: https://urllib3.readthedocs.io/en/1.26.x/advanced-usage.html#ssl-warnings\n",
      "  warnings.warn(\n",
      "D:\\python_projects\\cpfl\\web_scrapper\\venv_scraper\\lib\\site-packages\\urllib3\\connectionpool.py:1043: InsecureRequestWarning: Unverified HTTPS request is being made to host 'www2.aneel.gov.br'. Adding certificate verification is strongly advised. See: https://urllib3.readthedocs.io/en/1.26.x/advanced-usage.html#ssl-warnings\n",
      "  warnings.warn(\n"
     ]
    },
    {
     "name": "stdout",
     "output_type": "stream",
     "text": [
      "Arquivo: \"PCAT_EMG_2018-06-22_REAJUSTE_(PCATEMG2018).xlsx\" foi baixado com sucesso\n",
      "['PCAT_EMG_2019-06-22_REAJUSTE_(6585PCATEMG2019V02ANTIGO).xlsx'\n",
      " 'https://www2.aneel.gov.br/aplicacoes/tarifa/arquivo/6585 PCAT EMG 2019 V02 ANTIGO.xlsx']\n",
      "Arquivo: \"PCAT_EMG_2018-06-22_REAJUSTE_(PCATEMG2018).xlsx\" foi baixado com sucesso\n",
      "['PCAT_EMG_2019-06-22_REAJUSTE_(6585PCATEMG2019V02ANTIGO).xlsx'\n",
      " 'https://www2.aneel.gov.br/aplicacoes/tarifa/arquivo/6585 PCAT EMG 2019 V02 ANTIGO.xlsx']\n"
     ]
    },
    {
     "name": "stderr",
     "output_type": "stream",
     "text": [
      "D:\\python_projects\\cpfl\\web_scrapper\\venv_scraper\\lib\\site-packages\\urllib3\\connectionpool.py:1043: InsecureRequestWarning: Unverified HTTPS request is being made to host 'www2.aneel.gov.br'. Adding certificate verification is strongly advised. See: https://urllib3.readthedocs.io/en/1.26.x/advanced-usage.html#ssl-warnings\n",
      "  warnings.warn(\n",
      "D:\\python_projects\\cpfl\\web_scrapper\\venv_scraper\\lib\\site-packages\\urllib3\\connectionpool.py:1043: InsecureRequestWarning: Unverified HTTPS request is being made to host 'www2.aneel.gov.br'. Adding certificate verification is strongly advised. See: https://urllib3.readthedocs.io/en/1.26.x/advanced-usage.html#ssl-warnings\n",
      "  warnings.warn(\n"
     ]
    },
    {
     "name": "stdout",
     "output_type": "stream",
     "text": [
      "Arquivo: \"PCAT_EMG_2019-06-22_REAJUSTE_(6585PCATEMG2019V02ANTIGO).xlsx\" foi baixado com sucesso\n",
      "['PCAT_EMG_2020-06-22_REAJUSTE_(PCATEMG2020V02).xlsx'\n",
      " 'https://www2.aneel.gov.br/aplicacoes/tarifa/arquivo/PCAT EMG 2020 V02.xlsx']\n",
      "Arquivo: \"PCAT_EMG_2019-06-22_REAJUSTE_(6585PCATEMG2019V02ANTIGO).xlsx\" foi baixado com sucesso\n",
      "['PCAT_EMG_2020-06-22_REAJUSTE_(PCATEMG2020V02).xlsx'\n",
      " 'https://www2.aneel.gov.br/aplicacoes/tarifa/arquivo/PCAT EMG 2020 V02.xlsx']\n"
     ]
    },
    {
     "name": "stderr",
     "output_type": "stream",
     "text": [
      "D:\\python_projects\\cpfl\\web_scrapper\\venv_scraper\\lib\\site-packages\\urllib3\\connectionpool.py:1043: InsecureRequestWarning: Unverified HTTPS request is being made to host 'www2.aneel.gov.br'. Adding certificate verification is strongly advised. See: https://urllib3.readthedocs.io/en/1.26.x/advanced-usage.html#ssl-warnings\n",
      "  warnings.warn(\n",
      "D:\\python_projects\\cpfl\\web_scrapper\\venv_scraper\\lib\\site-packages\\urllib3\\connectionpool.py:1043: InsecureRequestWarning: Unverified HTTPS request is being made to host 'www2.aneel.gov.br'. Adding certificate verification is strongly advised. See: https://urllib3.readthedocs.io/en/1.26.x/advanced-usage.html#ssl-warnings\n",
      "  warnings.warn(\n"
     ]
    },
    {
     "name": "stdout",
     "output_type": "stream",
     "text": [
      "Arquivo: \"PCAT_EMG_2020-06-22_REAJUSTE_(PCATEMG2020V02).xlsx\" foi baixado com sucesso\n",
      "['PCAT_EMG_2021-06-22_REVISAO_(6585PCATEMG2021V02).xlsx'\n",
      " 'https://www2.aneel.gov.br/aplicacoes/tarifa/arquivo/6585 PCAT EMG 2021 V02.xlsx']\n",
      "Arquivo: \"PCAT_EMG_2020-06-22_REAJUSTE_(PCATEMG2020V02).xlsx\" foi baixado com sucesso\n",
      "['PCAT_EMG_2021-06-22_REVISAO_(6585PCATEMG2021V02).xlsx'\n",
      " 'https://www2.aneel.gov.br/aplicacoes/tarifa/arquivo/6585 PCAT EMG 2021 V02.xlsx']\n"
     ]
    },
    {
     "name": "stderr",
     "output_type": "stream",
     "text": [
      "D:\\python_projects\\cpfl\\web_scrapper\\venv_scraper\\lib\\site-packages\\urllib3\\connectionpool.py:1043: InsecureRequestWarning: Unverified HTTPS request is being made to host 'www2.aneel.gov.br'. Adding certificate verification is strongly advised. See: https://urllib3.readthedocs.io/en/1.26.x/advanced-usage.html#ssl-warnings\n",
      "  warnings.warn(\n",
      "D:\\python_projects\\cpfl\\web_scrapper\\venv_scraper\\lib\\site-packages\\urllib3\\connectionpool.py:1043: InsecureRequestWarning: Unverified HTTPS request is being made to host 'www2.aneel.gov.br'. Adding certificate verification is strongly advised. See: https://urllib3.readthedocs.io/en/1.26.x/advanced-usage.html#ssl-warnings\n",
      "  warnings.warn(\n"
     ]
    },
    {
     "name": "stdout",
     "output_type": "stream",
     "text": [
      "Arquivo: \"PCAT_EMG_2021-06-22_REVISAO_(6585PCATEMG2021V02).xlsx\" foi baixado com sucesso\n",
      "['PCAT_EMS_2014-04-08_REAJUSTE_(PCATENERSUL2014).xlsx'\n",
      " 'https://www2.aneel.gov.br/aplicacoes/tarifa/arquivo/PCAT_ENERSUL_2014.xlsx']\n",
      "Arquivo: \"PCAT_EMG_2021-06-22_REVISAO_(6585PCATEMG2021V02).xlsx\" foi baixado com sucesso\n",
      "['PCAT_EMS_2014-04-08_REAJUSTE_(PCATENERSUL2014).xlsx'\n",
      " 'https://www2.aneel.gov.br/aplicacoes/tarifa/arquivo/PCAT_ENERSUL_2014.xlsx']\n"
     ]
    },
    {
     "name": "stderr",
     "output_type": "stream",
     "text": [
      "D:\\python_projects\\cpfl\\web_scrapper\\venv_scraper\\lib\\site-packages\\urllib3\\connectionpool.py:1043: InsecureRequestWarning: Unverified HTTPS request is being made to host 'www2.aneel.gov.br'. Adding certificate verification is strongly advised. See: https://urllib3.readthedocs.io/en/1.26.x/advanced-usage.html#ssl-warnings\n",
      "  warnings.warn(\n",
      "D:\\python_projects\\cpfl\\web_scrapper\\venv_scraper\\lib\\site-packages\\urllib3\\connectionpool.py:1043: InsecureRequestWarning: Unverified HTTPS request is being made to host 'www2.aneel.gov.br'. Adding certificate verification is strongly advised. See: https://urllib3.readthedocs.io/en/1.26.x/advanced-usage.html#ssl-warnings\n",
      "  warnings.warn(\n"
     ]
    },
    {
     "name": "stdout",
     "output_type": "stream",
     "text": [
      "Arquivo: \"PCAT_EMS_2014-04-08_REAJUSTE_(PCATENERSUL2014).xlsx\" foi baixado com sucesso\n",
      "['PCAT_EMS_2015-04-08_REAJUSTE_(PCATEMS2015A015).xlsx'\n",
      " 'https://www2.aneel.gov.br/aplicacoes/tarifa/arquivo/PCAT_EMS_2015A_015.xls.xlsx']\n",
      "Arquivo: \"PCAT_EMS_2014-04-08_REAJUSTE_(PCATENERSUL2014).xlsx\" foi baixado com sucesso\n",
      "['PCAT_EMS_2015-04-08_REAJUSTE_(PCATEMS2015A015).xlsx'\n",
      " 'https://www2.aneel.gov.br/aplicacoes/tarifa/arquivo/PCAT_EMS_2015A_015.xls.xlsx']\n"
     ]
    },
    {
     "name": "stderr",
     "output_type": "stream",
     "text": [
      "D:\\python_projects\\cpfl\\web_scrapper\\venv_scraper\\lib\\site-packages\\urllib3\\connectionpool.py:1043: InsecureRequestWarning: Unverified HTTPS request is being made to host 'www2.aneel.gov.br'. Adding certificate verification is strongly advised. See: https://urllib3.readthedocs.io/en/1.26.x/advanced-usage.html#ssl-warnings\n",
      "  warnings.warn(\n",
      "D:\\python_projects\\cpfl\\web_scrapper\\venv_scraper\\lib\\site-packages\\urllib3\\connectionpool.py:1043: InsecureRequestWarning: Unverified HTTPS request is being made to host 'www2.aneel.gov.br'. Adding certificate verification is strongly advised. See: https://urllib3.readthedocs.io/en/1.26.x/advanced-usage.html#ssl-warnings\n",
      "  warnings.warn(\n"
     ]
    },
    {
     "name": "stdout",
     "output_type": "stream",
     "text": [
      "Arquivo: \"PCAT_EMS_2015-04-08_REAJUSTE_(PCATEMS2015A015).xlsx\" foi baixado com sucesso\n",
      "['PCAT_EMS_2015-03-02_REVISAOEXTRAORDINARIA_(PCATENERSUL2014V00).xlsx'\n",
      " 'https://www2.aneel.gov.br/aplicacoes/tarifa/arquivo/PCAT_ENERSUL_2014_V00.xlsx']\n",
      "Arquivo: \"PCAT_EMS_2015-04-08_REAJUSTE_(PCATEMS2015A015).xlsx\" foi baixado com sucesso\n",
      "['PCAT_EMS_2015-03-02_REVISAOEXTRAORDINARIA_(PCATENERSUL2014V00).xlsx'\n",
      " 'https://www2.aneel.gov.br/aplicacoes/tarifa/arquivo/PCAT_ENERSUL_2014_V00.xlsx']\n"
     ]
    },
    {
     "name": "stderr",
     "output_type": "stream",
     "text": [
      "D:\\python_projects\\cpfl\\web_scrapper\\venv_scraper\\lib\\site-packages\\urllib3\\connectionpool.py:1043: InsecureRequestWarning: Unverified HTTPS request is being made to host 'www2.aneel.gov.br'. Adding certificate verification is strongly advised. See: https://urllib3.readthedocs.io/en/1.26.x/advanced-usage.html#ssl-warnings\n",
      "  warnings.warn(\n",
      "D:\\python_projects\\cpfl\\web_scrapper\\venv_scraper\\lib\\site-packages\\urllib3\\connectionpool.py:1043: InsecureRequestWarning: Unverified HTTPS request is being made to host 'www2.aneel.gov.br'. Adding certificate verification is strongly advised. See: https://urllib3.readthedocs.io/en/1.26.x/advanced-usage.html#ssl-warnings\n",
      "  warnings.warn(\n"
     ]
    },
    {
     "name": "stdout",
     "output_type": "stream",
     "text": [
      "Arquivo: \"PCAT_EMS_2015-03-02_REVISAOEXTRAORDINARIA_(PCATENERSUL2014V00).xlsx\" foi baixado com sucesso\n",
      "['PCAT_EMS_2016-04-08_REAJUSTE_(PCATEMS2016V02).xlsx'\n",
      " 'https://www2.aneel.gov.br/aplicacoes/tarifa/arquivo/PCAT_EMS _2016_V02.xlsx']\n",
      "Arquivo: \"PCAT_EMS_2015-03-02_REVISAOEXTRAORDINARIA_(PCATENERSUL2014V00).xlsx\" foi baixado com sucesso\n",
      "['PCAT_EMS_2016-04-08_REAJUSTE_(PCATEMS2016V02).xlsx'\n",
      " 'https://www2.aneel.gov.br/aplicacoes/tarifa/arquivo/PCAT_EMS _2016_V02.xlsx']\n"
     ]
    },
    {
     "name": "stderr",
     "output_type": "stream",
     "text": [
      "D:\\python_projects\\cpfl\\web_scrapper\\venv_scraper\\lib\\site-packages\\urllib3\\connectionpool.py:1043: InsecureRequestWarning: Unverified HTTPS request is being made to host 'www2.aneel.gov.br'. Adding certificate verification is strongly advised. See: https://urllib3.readthedocs.io/en/1.26.x/advanced-usage.html#ssl-warnings\n",
      "  warnings.warn(\n",
      "D:\\python_projects\\cpfl\\web_scrapper\\venv_scraper\\lib\\site-packages\\urllib3\\connectionpool.py:1043: InsecureRequestWarning: Unverified HTTPS request is being made to host 'www2.aneel.gov.br'. Adding certificate verification is strongly advised. See: https://urllib3.readthedocs.io/en/1.26.x/advanced-usage.html#ssl-warnings\n",
      "  warnings.warn(\n"
     ]
    },
    {
     "name": "stdout",
     "output_type": "stream",
     "text": [
      "Arquivo: \"PCAT_EMS_2016-04-08_REAJUSTE_(PCATEMS2016V02).xlsx\" foi baixado com sucesso\n",
      "['PCAT_EMS_2017-04-08_REAJUSTE_(PCATEMS2017).xlsx'\n",
      " 'https://www2.aneel.gov.br/aplicacoes/tarifa/arquivo/PCAT_EMS _2017.xlsx']\n",
      "Arquivo: \"PCAT_EMS_2016-04-08_REAJUSTE_(PCATEMS2016V02).xlsx\" foi baixado com sucesso\n",
      "['PCAT_EMS_2017-04-08_REAJUSTE_(PCATEMS2017).xlsx'\n",
      " 'https://www2.aneel.gov.br/aplicacoes/tarifa/arquivo/PCAT_EMS _2017.xlsx']\n"
     ]
    },
    {
     "name": "stderr",
     "output_type": "stream",
     "text": [
      "D:\\python_projects\\cpfl\\web_scrapper\\venv_scraper\\lib\\site-packages\\urllib3\\connectionpool.py:1043: InsecureRequestWarning: Unverified HTTPS request is being made to host 'www2.aneel.gov.br'. Adding certificate verification is strongly advised. See: https://urllib3.readthedocs.io/en/1.26.x/advanced-usage.html#ssl-warnings\n",
      "  warnings.warn(\n",
      "D:\\python_projects\\cpfl\\web_scrapper\\venv_scraper\\lib\\site-packages\\urllib3\\connectionpool.py:1043: InsecureRequestWarning: Unverified HTTPS request is being made to host 'www2.aneel.gov.br'. Adding certificate verification is strongly advised. See: https://urllib3.readthedocs.io/en/1.26.x/advanced-usage.html#ssl-warnings\n",
      "  warnings.warn(\n"
     ]
    },
    {
     "name": "stdout",
     "output_type": "stream",
     "text": [
      "Arquivo: \"PCAT_EMS_2017-04-08_REAJUSTE_(PCATEMS2017).xlsx\" foi baixado com sucesso\n",
      "['PCAT_EMS_2018-04-08_REVISAO_(PCATEMS2018).xlsx'\n",
      " 'https://www2.aneel.gov.br/aplicacoes/tarifa/arquivo/PCAT_EMS _2018.xlsx']\n",
      "Arquivo: \"PCAT_EMS_2017-04-08_REAJUSTE_(PCATEMS2017).xlsx\" foi baixado com sucesso\n",
      "['PCAT_EMS_2018-04-08_REVISAO_(PCATEMS2018).xlsx'\n",
      " 'https://www2.aneel.gov.br/aplicacoes/tarifa/arquivo/PCAT_EMS _2018.xlsx']\n"
     ]
    },
    {
     "name": "stderr",
     "output_type": "stream",
     "text": [
      "D:\\python_projects\\cpfl\\web_scrapper\\venv_scraper\\lib\\site-packages\\urllib3\\connectionpool.py:1043: InsecureRequestWarning: Unverified HTTPS request is being made to host 'www2.aneel.gov.br'. Adding certificate verification is strongly advised. See: https://urllib3.readthedocs.io/en/1.26.x/advanced-usage.html#ssl-warnings\n",
      "  warnings.warn(\n",
      "D:\\python_projects\\cpfl\\web_scrapper\\venv_scraper\\lib\\site-packages\\urllib3\\connectionpool.py:1043: InsecureRequestWarning: Unverified HTTPS request is being made to host 'www2.aneel.gov.br'. Adding certificate verification is strongly advised. See: https://urllib3.readthedocs.io/en/1.26.x/advanced-usage.html#ssl-warnings\n",
      "  warnings.warn(\n"
     ]
    },
    {
     "name": "stdout",
     "output_type": "stream",
     "text": [
      "Arquivo: \"PCAT_EMS_2018-04-08_REVISAO_(PCATEMS2018).xlsx\" foi baixado com sucesso\n",
      "['PCAT_EMS_2019-04-08_REAJUSTE_(PCATEMS2019).xlsx'\n",
      " 'https://www2.aneel.gov.br/aplicacoes/tarifa/arquivo/PCAT_EMS _2019 .xlsx']\n",
      "Arquivo: \"PCAT_EMS_2018-04-08_REVISAO_(PCATEMS2018).xlsx\" foi baixado com sucesso\n",
      "['PCAT_EMS_2019-04-08_REAJUSTE_(PCATEMS2019).xlsx'\n",
      " 'https://www2.aneel.gov.br/aplicacoes/tarifa/arquivo/PCAT_EMS _2019 .xlsx']\n"
     ]
    },
    {
     "name": "stderr",
     "output_type": "stream",
     "text": [
      "D:\\python_projects\\cpfl\\web_scrapper\\venv_scraper\\lib\\site-packages\\urllib3\\connectionpool.py:1043: InsecureRequestWarning: Unverified HTTPS request is being made to host 'www2.aneel.gov.br'. Adding certificate verification is strongly advised. See: https://urllib3.readthedocs.io/en/1.26.x/advanced-usage.html#ssl-warnings\n",
      "  warnings.warn(\n",
      "D:\\python_projects\\cpfl\\web_scrapper\\venv_scraper\\lib\\site-packages\\urllib3\\connectionpool.py:1043: InsecureRequestWarning: Unverified HTTPS request is being made to host 'www2.aneel.gov.br'. Adding certificate verification is strongly advised. See: https://urllib3.readthedocs.io/en/1.26.x/advanced-usage.html#ssl-warnings\n",
      "  warnings.warn(\n"
     ]
    },
    {
     "name": "stdout",
     "output_type": "stream",
     "text": [
      "Arquivo: \"PCAT_EMS_2019-04-08_REAJUSTE_(PCATEMS2019).xlsx\" foi baixado com sucesso\n",
      "['PCAT_EMS_2020-04-08_REAJUSTE_(404PCATEMS2020V02).xlsx'\n",
      " 'https://www2.aneel.gov.br/aplicacoes/tarifa/arquivo/404 PCAT EMS  2020 V02.xlsx']\n",
      "Arquivo: \"PCAT_EMS_2019-04-08_REAJUSTE_(PCATEMS2019).xlsx\" foi baixado com sucesso\n",
      "['PCAT_EMS_2020-04-08_REAJUSTE_(404PCATEMS2020V02).xlsx'\n",
      " 'https://www2.aneel.gov.br/aplicacoes/tarifa/arquivo/404 PCAT EMS  2020 V02.xlsx']\n"
     ]
    },
    {
     "name": "stderr",
     "output_type": "stream",
     "text": [
      "D:\\python_projects\\cpfl\\web_scrapper\\venv_scraper\\lib\\site-packages\\urllib3\\connectionpool.py:1043: InsecureRequestWarning: Unverified HTTPS request is being made to host 'www2.aneel.gov.br'. Adding certificate verification is strongly advised. See: https://urllib3.readthedocs.io/en/1.26.x/advanced-usage.html#ssl-warnings\n",
      "  warnings.warn(\n",
      "D:\\python_projects\\cpfl\\web_scrapper\\venv_scraper\\lib\\site-packages\\urllib3\\connectionpool.py:1043: InsecureRequestWarning: Unverified HTTPS request is being made to host 'www2.aneel.gov.br'. Adding certificate verification is strongly advised. See: https://urllib3.readthedocs.io/en/1.26.x/advanced-usage.html#ssl-warnings\n",
      "  warnings.warn(\n"
     ]
    },
    {
     "name": "stdout",
     "output_type": "stream",
     "text": [
      "Arquivo: \"PCAT_EMS_2020-04-08_REAJUSTE_(404PCATEMS2020V02).xlsx\" foi baixado com sucesso\n",
      "['PCAT_EMS_2021-04-22_REAJUSTE_(404PCATEMS2021V02).xlsx'\n",
      " 'https://www2.aneel.gov.br/aplicacoes/tarifa/arquivo/404 PCAT EMS  2021 V02.xlsx']\n",
      "Arquivo: \"PCAT_EMS_2020-04-08_REAJUSTE_(404PCATEMS2020V02).xlsx\" foi baixado com sucesso\n",
      "['PCAT_EMS_2021-04-22_REAJUSTE_(404PCATEMS2021V02).xlsx'\n",
      " 'https://www2.aneel.gov.br/aplicacoes/tarifa/arquivo/404 PCAT EMS  2021 V02.xlsx']\n"
     ]
    },
    {
     "name": "stderr",
     "output_type": "stream",
     "text": [
      "D:\\python_projects\\cpfl\\web_scrapper\\venv_scraper\\lib\\site-packages\\urllib3\\connectionpool.py:1043: InsecureRequestWarning: Unverified HTTPS request is being made to host 'www2.aneel.gov.br'. Adding certificate verification is strongly advised. See: https://urllib3.readthedocs.io/en/1.26.x/advanced-usage.html#ssl-warnings\n",
      "  warnings.warn(\n",
      "D:\\python_projects\\cpfl\\web_scrapper\\venv_scraper\\lib\\site-packages\\urllib3\\connectionpool.py:1043: InsecureRequestWarning: Unverified HTTPS request is being made to host 'www2.aneel.gov.br'. Adding certificate verification is strongly advised. See: https://urllib3.readthedocs.io/en/1.26.x/advanced-usage.html#ssl-warnings\n",
      "  warnings.warn(\n"
     ]
    },
    {
     "name": "stdout",
     "output_type": "stream",
     "text": [
      "Arquivo: \"PCAT_EMS_2021-04-22_REAJUSTE_(404PCATEMS2021V02).xlsx\" foi baixado com sucesso\n",
      "['PCAT_EMT_2014-04-08_REAJUSTE_(PCATCEMAT2014).xlsx'\n",
      " 'https://www2.aneel.gov.br/aplicacoes/tarifa/arquivo/PCAT_CEMAT_2014.xlsx']\n",
      "Arquivo: \"PCAT_EMS_2021-04-22_REAJUSTE_(404PCATEMS2021V02).xlsx\" foi baixado com sucesso\n",
      "['PCAT_EMT_2014-04-08_REAJUSTE_(PCATCEMAT2014).xlsx'\n",
      " 'https://www2.aneel.gov.br/aplicacoes/tarifa/arquivo/PCAT_CEMAT_2014.xlsx']\n"
     ]
    },
    {
     "name": "stderr",
     "output_type": "stream",
     "text": [
      "D:\\python_projects\\cpfl\\web_scrapper\\venv_scraper\\lib\\site-packages\\urllib3\\connectionpool.py:1043: InsecureRequestWarning: Unverified HTTPS request is being made to host 'www2.aneel.gov.br'. Adding certificate verification is strongly advised. See: https://urllib3.readthedocs.io/en/1.26.x/advanced-usage.html#ssl-warnings\n",
      "  warnings.warn(\n",
      "D:\\python_projects\\cpfl\\web_scrapper\\venv_scraper\\lib\\site-packages\\urllib3\\connectionpool.py:1043: InsecureRequestWarning: Unverified HTTPS request is being made to host 'www2.aneel.gov.br'. Adding certificate verification is strongly advised. See: https://urllib3.readthedocs.io/en/1.26.x/advanced-usage.html#ssl-warnings\n",
      "  warnings.warn(\n"
     ]
    },
    {
     "name": "stdout",
     "output_type": "stream",
     "text": [
      "Arquivo: \"PCAT_EMT_2014-04-08_REAJUSTE_(PCATCEMAT2014).xlsx\" foi baixado com sucesso\n",
      "['PCAT_EMT_2015-04-08_REAJUSTE_(PCATEMT2015A015).xlsx'\n",
      " 'https://www2.aneel.gov.br/aplicacoes/tarifa/arquivo/PCAT_EMT_2015A_015.xls.xlsx']\n",
      "Arquivo: \"PCAT_EMT_2014-04-08_REAJUSTE_(PCATCEMAT2014).xlsx\" foi baixado com sucesso\n",
      "['PCAT_EMT_2015-04-08_REAJUSTE_(PCATEMT2015A015).xlsx'\n",
      " 'https://www2.aneel.gov.br/aplicacoes/tarifa/arquivo/PCAT_EMT_2015A_015.xls.xlsx']\n"
     ]
    },
    {
     "name": "stderr",
     "output_type": "stream",
     "text": [
      "D:\\python_projects\\cpfl\\web_scrapper\\venv_scraper\\lib\\site-packages\\urllib3\\connectionpool.py:1043: InsecureRequestWarning: Unverified HTTPS request is being made to host 'www2.aneel.gov.br'. Adding certificate verification is strongly advised. See: https://urllib3.readthedocs.io/en/1.26.x/advanced-usage.html#ssl-warnings\n",
      "  warnings.warn(\n",
      "D:\\python_projects\\cpfl\\web_scrapper\\venv_scraper\\lib\\site-packages\\urllib3\\connectionpool.py:1043: InsecureRequestWarning: Unverified HTTPS request is being made to host 'www2.aneel.gov.br'. Adding certificate verification is strongly advised. See: https://urllib3.readthedocs.io/en/1.26.x/advanced-usage.html#ssl-warnings\n",
      "  warnings.warn(\n"
     ]
    },
    {
     "name": "stdout",
     "output_type": "stream",
     "text": [
      "Arquivo: \"PCAT_EMT_2015-04-08_REAJUSTE_(PCATEMT2015A015).xlsx\" foi baixado com sucesso\n",
      "['PCAT_EMT_2015-03-02_REVISAOEXTRAORDINARIA_(PCATCEMAT2014V00).xlsx'\n",
      " 'https://www2.aneel.gov.br/aplicacoes/tarifa/arquivo/PCAT_CEMAT_2014_V00.xlsx']\n",
      "Arquivo: \"PCAT_EMT_2015-04-08_REAJUSTE_(PCATEMT2015A015).xlsx\" foi baixado com sucesso\n",
      "['PCAT_EMT_2015-03-02_REVISAOEXTRAORDINARIA_(PCATCEMAT2014V00).xlsx'\n",
      " 'https://www2.aneel.gov.br/aplicacoes/tarifa/arquivo/PCAT_CEMAT_2014_V00.xlsx']\n"
     ]
    },
    {
     "name": "stderr",
     "output_type": "stream",
     "text": [
      "D:\\python_projects\\cpfl\\web_scrapper\\venv_scraper\\lib\\site-packages\\urllib3\\connectionpool.py:1043: InsecureRequestWarning: Unverified HTTPS request is being made to host 'www2.aneel.gov.br'. Adding certificate verification is strongly advised. See: https://urllib3.readthedocs.io/en/1.26.x/advanced-usage.html#ssl-warnings\n",
      "  warnings.warn(\n",
      "D:\\python_projects\\cpfl\\web_scrapper\\venv_scraper\\lib\\site-packages\\urllib3\\connectionpool.py:1043: InsecureRequestWarning: Unverified HTTPS request is being made to host 'www2.aneel.gov.br'. Adding certificate verification is strongly advised. See: https://urllib3.readthedocs.io/en/1.26.x/advanced-usage.html#ssl-warnings\n",
      "  warnings.warn(\n"
     ]
    },
    {
     "name": "stdout",
     "output_type": "stream",
     "text": [
      "Arquivo: \"PCAT_EMT_2015-03-02_REVISAOEXTRAORDINARIA_(PCATCEMAT2014V00).xlsx\" foi baixado com sucesso\n",
      "['PCAT_EMT_2016-04-08_REAJUSTE_(PCATEMT2016).xlsx'\n",
      " 'https://www2.aneel.gov.br/aplicacoes/tarifa/arquivo/PCAT_EMT_2016.xlsx']\n",
      "Arquivo: \"PCAT_EMT_2015-03-02_REVISAOEXTRAORDINARIA_(PCATCEMAT2014V00).xlsx\" foi baixado com sucesso\n",
      "['PCAT_EMT_2016-04-08_REAJUSTE_(PCATEMT2016).xlsx'\n",
      " 'https://www2.aneel.gov.br/aplicacoes/tarifa/arquivo/PCAT_EMT_2016.xlsx']\n"
     ]
    },
    {
     "name": "stderr",
     "output_type": "stream",
     "text": [
      "D:\\python_projects\\cpfl\\web_scrapper\\venv_scraper\\lib\\site-packages\\urllib3\\connectionpool.py:1043: InsecureRequestWarning: Unverified HTTPS request is being made to host 'www2.aneel.gov.br'. Adding certificate verification is strongly advised. See: https://urllib3.readthedocs.io/en/1.26.x/advanced-usage.html#ssl-warnings\n",
      "  warnings.warn(\n",
      "D:\\python_projects\\cpfl\\web_scrapper\\venv_scraper\\lib\\site-packages\\urllib3\\connectionpool.py:1043: InsecureRequestWarning: Unverified HTTPS request is being made to host 'www2.aneel.gov.br'. Adding certificate verification is strongly advised. See: https://urllib3.readthedocs.io/en/1.26.x/advanced-usage.html#ssl-warnings\n",
      "  warnings.warn(\n"
     ]
    },
    {
     "name": "stdout",
     "output_type": "stream",
     "text": [
      "Arquivo: \"PCAT_EMT_2016-04-08_REAJUSTE_(PCATEMT2016).xlsx\" foi baixado com sucesso\n",
      "['PCAT_EMT_2017-04-08_REAJUSTE_(PCATEMT2017).xlsx'\n",
      " 'https://www2.aneel.gov.br/aplicacoes/tarifa/arquivo/PCAT_EMT_2017.xlsx']\n",
      "Arquivo: \"PCAT_EMT_2016-04-08_REAJUSTE_(PCATEMT2016).xlsx\" foi baixado com sucesso\n",
      "['PCAT_EMT_2017-04-08_REAJUSTE_(PCATEMT2017).xlsx'\n",
      " 'https://www2.aneel.gov.br/aplicacoes/tarifa/arquivo/PCAT_EMT_2017.xlsx']\n"
     ]
    },
    {
     "name": "stderr",
     "output_type": "stream",
     "text": [
      "D:\\python_projects\\cpfl\\web_scrapper\\venv_scraper\\lib\\site-packages\\urllib3\\connectionpool.py:1043: InsecureRequestWarning: Unverified HTTPS request is being made to host 'www2.aneel.gov.br'. Adding certificate verification is strongly advised. See: https://urllib3.readthedocs.io/en/1.26.x/advanced-usage.html#ssl-warnings\n",
      "  warnings.warn(\n",
      "D:\\python_projects\\cpfl\\web_scrapper\\venv_scraper\\lib\\site-packages\\urllib3\\connectionpool.py:1043: InsecureRequestWarning: Unverified HTTPS request is being made to host 'www2.aneel.gov.br'. Adding certificate verification is strongly advised. See: https://urllib3.readthedocs.io/en/1.26.x/advanced-usage.html#ssl-warnings\n",
      "  warnings.warn(\n"
     ]
    },
    {
     "name": "stdout",
     "output_type": "stream",
     "text": [
      "Arquivo: \"PCAT_EMT_2017-04-08_REAJUSTE_(PCATEMT2017).xlsx\" foi baixado com sucesso\n",
      "['PCAT_EMT_2018-04-08_REVISAO_(PCATEMT2018).xlsx'\n",
      " 'https://www2.aneel.gov.br/aplicacoes/tarifa/arquivo/PCAT_EMT_2018 .xlsx']\n",
      "Arquivo: \"PCAT_EMT_2017-04-08_REAJUSTE_(PCATEMT2017).xlsx\" foi baixado com sucesso\n",
      "['PCAT_EMT_2018-04-08_REVISAO_(PCATEMT2018).xlsx'\n",
      " 'https://www2.aneel.gov.br/aplicacoes/tarifa/arquivo/PCAT_EMT_2018 .xlsx']\n"
     ]
    },
    {
     "name": "stderr",
     "output_type": "stream",
     "text": [
      "D:\\python_projects\\cpfl\\web_scrapper\\venv_scraper\\lib\\site-packages\\urllib3\\connectionpool.py:1043: InsecureRequestWarning: Unverified HTTPS request is being made to host 'www2.aneel.gov.br'. Adding certificate verification is strongly advised. See: https://urllib3.readthedocs.io/en/1.26.x/advanced-usage.html#ssl-warnings\n",
      "  warnings.warn(\n",
      "D:\\python_projects\\cpfl\\web_scrapper\\venv_scraper\\lib\\site-packages\\urllib3\\connectionpool.py:1043: InsecureRequestWarning: Unverified HTTPS request is being made to host 'www2.aneel.gov.br'. Adding certificate verification is strongly advised. See: https://urllib3.readthedocs.io/en/1.26.x/advanced-usage.html#ssl-warnings\n",
      "  warnings.warn(\n"
     ]
    },
    {
     "name": "stdout",
     "output_type": "stream",
     "text": [
      "Arquivo: \"PCAT_EMT_2018-04-08_REVISAO_(PCATEMT2018).xlsx\" foi baixado com sucesso\n",
      "['PCAT_EMT_2019-04-08_REAJUSTE_(PCATEMT2019).xlsx'\n",
      " 'https://www2.aneel.gov.br/aplicacoes/tarifa/arquivo/PCAT_EMT_2019 .xlsx']\n",
      "Arquivo: \"PCAT_EMT_2018-04-08_REVISAO_(PCATEMT2018).xlsx\" foi baixado com sucesso\n",
      "['PCAT_EMT_2019-04-08_REAJUSTE_(PCATEMT2019).xlsx'\n",
      " 'https://www2.aneel.gov.br/aplicacoes/tarifa/arquivo/PCAT_EMT_2019 .xlsx']\n"
     ]
    },
    {
     "name": "stderr",
     "output_type": "stream",
     "text": [
      "D:\\python_projects\\cpfl\\web_scrapper\\venv_scraper\\lib\\site-packages\\urllib3\\connectionpool.py:1043: InsecureRequestWarning: Unverified HTTPS request is being made to host 'www2.aneel.gov.br'. Adding certificate verification is strongly advised. See: https://urllib3.readthedocs.io/en/1.26.x/advanced-usage.html#ssl-warnings\n",
      "  warnings.warn(\n",
      "D:\\python_projects\\cpfl\\web_scrapper\\venv_scraper\\lib\\site-packages\\urllib3\\connectionpool.py:1043: InsecureRequestWarning: Unverified HTTPS request is being made to host 'www2.aneel.gov.br'. Adding certificate verification is strongly advised. See: https://urllib3.readthedocs.io/en/1.26.x/advanced-usage.html#ssl-warnings\n",
      "  warnings.warn(\n"
     ]
    },
    {
     "name": "stdout",
     "output_type": "stream",
     "text": [
      "Arquivo: \"PCAT_EMT_2019-04-08_REAJUSTE_(PCATEMT2019).xlsx\" foi baixado com sucesso\n",
      "['PCAT_EMT_2020-04-08_REAJUSTE_(405PCATEMT2020V02).xlsx'\n",
      " 'https://www2.aneel.gov.br/aplicacoes/tarifa/arquivo/405 PCAT EMT 2020 V02.xlsx']\n",
      "Arquivo: \"PCAT_EMT_2019-04-08_REAJUSTE_(PCATEMT2019).xlsx\" foi baixado com sucesso\n",
      "['PCAT_EMT_2020-04-08_REAJUSTE_(405PCATEMT2020V02).xlsx'\n",
      " 'https://www2.aneel.gov.br/aplicacoes/tarifa/arquivo/405 PCAT EMT 2020 V02.xlsx']\n"
     ]
    },
    {
     "name": "stderr",
     "output_type": "stream",
     "text": [
      "D:\\python_projects\\cpfl\\web_scrapper\\venv_scraper\\lib\\site-packages\\urllib3\\connectionpool.py:1043: InsecureRequestWarning: Unverified HTTPS request is being made to host 'www2.aneel.gov.br'. Adding certificate verification is strongly advised. See: https://urllib3.readthedocs.io/en/1.26.x/advanced-usage.html#ssl-warnings\n",
      "  warnings.warn(\n",
      "D:\\python_projects\\cpfl\\web_scrapper\\venv_scraper\\lib\\site-packages\\urllib3\\connectionpool.py:1043: InsecureRequestWarning: Unverified HTTPS request is being made to host 'www2.aneel.gov.br'. Adding certificate verification is strongly advised. See: https://urllib3.readthedocs.io/en/1.26.x/advanced-usage.html#ssl-warnings\n",
      "  warnings.warn(\n"
     ]
    },
    {
     "name": "stdout",
     "output_type": "stream",
     "text": [
      "Arquivo: \"PCAT_EMT_2020-04-08_REAJUSTE_(405PCATEMT2020V02).xlsx\" foi baixado com sucesso\n",
      "['PCAT_EMT_2021-04-22_REAJUSTE_(405PCATEMT2021V02).xlsx'\n",
      " 'https://www2.aneel.gov.br/aplicacoes/tarifa/arquivo/405 PCAT EMT 2021 V02.xlsx']\n",
      "Arquivo: \"PCAT_EMT_2020-04-08_REAJUSTE_(405PCATEMT2020V02).xlsx\" foi baixado com sucesso\n",
      "['PCAT_EMT_2021-04-22_REAJUSTE_(405PCATEMT2021V02).xlsx'\n",
      " 'https://www2.aneel.gov.br/aplicacoes/tarifa/arquivo/405 PCAT EMT 2021 V02.xlsx']\n"
     ]
    },
    {
     "name": "stderr",
     "output_type": "stream",
     "text": [
      "D:\\python_projects\\cpfl\\web_scrapper\\venv_scraper\\lib\\site-packages\\urllib3\\connectionpool.py:1043: InsecureRequestWarning: Unverified HTTPS request is being made to host 'www2.aneel.gov.br'. Adding certificate verification is strongly advised. See: https://urllib3.readthedocs.io/en/1.26.x/advanced-usage.html#ssl-warnings\n",
      "  warnings.warn(\n",
      "D:\\python_projects\\cpfl\\web_scrapper\\venv_scraper\\lib\\site-packages\\urllib3\\connectionpool.py:1043: InsecureRequestWarning: Unverified HTTPS request is being made to host 'www2.aneel.gov.br'. Adding certificate verification is strongly advised. See: https://urllib3.readthedocs.io/en/1.26.x/advanced-usage.html#ssl-warnings\n",
      "  warnings.warn(\n"
     ]
    },
    {
     "name": "stdout",
     "output_type": "stream",
     "text": [
      "Arquivo: \"PCAT_EMT_2021-04-22_REAJUSTE_(405PCATEMT2021V02).xlsx\" foi baixado com sucesso\n",
      "['PCAT_ENELCE_2014-04-22_REAJUSTE_(PCATCOELCE2014).xlsx'\n",
      " 'https://www2.aneel.gov.br/aplicacoes/tarifa/arquivo/PCAT_COELCE_2014.xlsx']\n",
      "Arquivo: \"PCAT_EMT_2021-04-22_REAJUSTE_(405PCATEMT2021V02).xlsx\" foi baixado com sucesso\n",
      "['PCAT_ENELCE_2014-04-22_REAJUSTE_(PCATCOELCE2014).xlsx'\n",
      " 'https://www2.aneel.gov.br/aplicacoes/tarifa/arquivo/PCAT_COELCE_2014.xlsx']\n"
     ]
    },
    {
     "name": "stderr",
     "output_type": "stream",
     "text": [
      "D:\\python_projects\\cpfl\\web_scrapper\\venv_scraper\\lib\\site-packages\\urllib3\\connectionpool.py:1043: InsecureRequestWarning: Unverified HTTPS request is being made to host 'www2.aneel.gov.br'. Adding certificate verification is strongly advised. See: https://urllib3.readthedocs.io/en/1.26.x/advanced-usage.html#ssl-warnings\n",
      "  warnings.warn(\n",
      "D:\\python_projects\\cpfl\\web_scrapper\\venv_scraper\\lib\\site-packages\\urllib3\\connectionpool.py:1043: InsecureRequestWarning: Unverified HTTPS request is being made to host 'www2.aneel.gov.br'. Adding certificate verification is strongly advised. See: https://urllib3.readthedocs.io/en/1.26.x/advanced-usage.html#ssl-warnings\n",
      "  warnings.warn(\n"
     ]
    },
    {
     "name": "stdout",
     "output_type": "stream",
     "text": [
      "Arquivo: \"PCAT_ENELCE_2014-04-22_REAJUSTE_(PCATCOELCE2014).xlsx\" foi baixado com sucesso\n",
      "['PCAT_ENELCE_2015-04-22_REVISAO_(PCATCOELCE2015015).xlsx'\n",
      " 'https://www2.aneel.gov.br/aplicacoes/tarifa/arquivo/PCAT_COELCE_2015_015..xlsx']\n",
      "Arquivo: \"PCAT_ENELCE_2014-04-22_REAJUSTE_(PCATCOELCE2014).xlsx\" foi baixado com sucesso\n",
      "['PCAT_ENELCE_2015-04-22_REVISAO_(PCATCOELCE2015015).xlsx'\n",
      " 'https://www2.aneel.gov.br/aplicacoes/tarifa/arquivo/PCAT_COELCE_2015_015..xlsx']\n"
     ]
    },
    {
     "name": "stderr",
     "output_type": "stream",
     "text": [
      "D:\\python_projects\\cpfl\\web_scrapper\\venv_scraper\\lib\\site-packages\\urllib3\\connectionpool.py:1043: InsecureRequestWarning: Unverified HTTPS request is being made to host 'www2.aneel.gov.br'. Adding certificate verification is strongly advised. See: https://urllib3.readthedocs.io/en/1.26.x/advanced-usage.html#ssl-warnings\n",
      "  warnings.warn(\n",
      "D:\\python_projects\\cpfl\\web_scrapper\\venv_scraper\\lib\\site-packages\\urllib3\\connectionpool.py:1043: InsecureRequestWarning: Unverified HTTPS request is being made to host 'www2.aneel.gov.br'. Adding certificate verification is strongly advised. See: https://urllib3.readthedocs.io/en/1.26.x/advanced-usage.html#ssl-warnings\n",
      "  warnings.warn(\n"
     ]
    },
    {
     "name": "stdout",
     "output_type": "stream",
     "text": [
      "Arquivo: \"PCAT_ENELCE_2015-04-22_REVISAO_(PCATCOELCE2015015).xlsx\" foi baixado com sucesso\n",
      "['PCAT_ENELCE_2015-03-02_REVISAOEXTRAORDINARIA_(PCATCOELCE2014V00).xlsx'\n",
      " 'https://www2.aneel.gov.br/aplicacoes/tarifa/arquivo/PCAT_COELCE-2014_V00.xlsx']\n",
      "Arquivo: \"PCAT_ENELCE_2015-04-22_REVISAO_(PCATCOELCE2015015).xlsx\" foi baixado com sucesso\n",
      "['PCAT_ENELCE_2015-03-02_REVISAOEXTRAORDINARIA_(PCATCOELCE2014V00).xlsx'\n",
      " 'https://www2.aneel.gov.br/aplicacoes/tarifa/arquivo/PCAT_COELCE-2014_V00.xlsx']\n"
     ]
    },
    {
     "name": "stderr",
     "output_type": "stream",
     "text": [
      "D:\\python_projects\\cpfl\\web_scrapper\\venv_scraper\\lib\\site-packages\\urllib3\\connectionpool.py:1043: InsecureRequestWarning: Unverified HTTPS request is being made to host 'www2.aneel.gov.br'. Adding certificate verification is strongly advised. See: https://urllib3.readthedocs.io/en/1.26.x/advanced-usage.html#ssl-warnings\n",
      "  warnings.warn(\n",
      "D:\\python_projects\\cpfl\\web_scrapper\\venv_scraper\\lib\\site-packages\\urllib3\\connectionpool.py:1043: InsecureRequestWarning: Unverified HTTPS request is being made to host 'www2.aneel.gov.br'. Adding certificate verification is strongly advised. See: https://urllib3.readthedocs.io/en/1.26.x/advanced-usage.html#ssl-warnings\n",
      "  warnings.warn(\n"
     ]
    },
    {
     "name": "stdout",
     "output_type": "stream",
     "text": [
      "Arquivo: \"PCAT_ENELCE_2015-03-02_REVISAOEXTRAORDINARIA_(PCATCOELCE2014V00).xlsx\" foi baixado com sucesso\n",
      "['PCAT_ENELCE_2016-04-22_REAJUSTE_(PCATCOELCE2016).xlsx'\n",
      " 'https://www2.aneel.gov.br/aplicacoes/tarifa/arquivo/PCAT_Coelce_2016.xlsx']\n",
      "Arquivo: \"PCAT_ENELCE_2015-03-02_REVISAOEXTRAORDINARIA_(PCATCOELCE2014V00).xlsx\" foi baixado com sucesso\n",
      "['PCAT_ENELCE_2016-04-22_REAJUSTE_(PCATCOELCE2016).xlsx'\n",
      " 'https://www2.aneel.gov.br/aplicacoes/tarifa/arquivo/PCAT_Coelce_2016.xlsx']\n"
     ]
    },
    {
     "name": "stderr",
     "output_type": "stream",
     "text": [
      "D:\\python_projects\\cpfl\\web_scrapper\\venv_scraper\\lib\\site-packages\\urllib3\\connectionpool.py:1043: InsecureRequestWarning: Unverified HTTPS request is being made to host 'www2.aneel.gov.br'. Adding certificate verification is strongly advised. See: https://urllib3.readthedocs.io/en/1.26.x/advanced-usage.html#ssl-warnings\n",
      "  warnings.warn(\n",
      "D:\\python_projects\\cpfl\\web_scrapper\\venv_scraper\\lib\\site-packages\\urllib3\\connectionpool.py:1043: InsecureRequestWarning: Unverified HTTPS request is being made to host 'www2.aneel.gov.br'. Adding certificate verification is strongly advised. See: https://urllib3.readthedocs.io/en/1.26.x/advanced-usage.html#ssl-warnings\n",
      "  warnings.warn(\n"
     ]
    },
    {
     "name": "stdout",
     "output_type": "stream",
     "text": [
      "Arquivo: \"PCAT_ENELCE_2016-04-22_REAJUSTE_(PCATCOELCE2016).xlsx\" foi baixado com sucesso\n",
      "['PCAT_ENELCE_2017-04-22_REAJUSTE_(PCATCOELCE2017).xlsx'\n",
      " 'https://www2.aneel.gov.br/aplicacoes/tarifa/arquivo/PCAT_Coelce_2017.xlsx']\n",
      "Arquivo: \"PCAT_ENELCE_2016-04-22_REAJUSTE_(PCATCOELCE2016).xlsx\" foi baixado com sucesso\n",
      "['PCAT_ENELCE_2017-04-22_REAJUSTE_(PCATCOELCE2017).xlsx'\n",
      " 'https://www2.aneel.gov.br/aplicacoes/tarifa/arquivo/PCAT_Coelce_2017.xlsx']\n"
     ]
    },
    {
     "name": "stderr",
     "output_type": "stream",
     "text": [
      "D:\\python_projects\\cpfl\\web_scrapper\\venv_scraper\\lib\\site-packages\\urllib3\\connectionpool.py:1043: InsecureRequestWarning: Unverified HTTPS request is being made to host 'www2.aneel.gov.br'. Adding certificate verification is strongly advised. See: https://urllib3.readthedocs.io/en/1.26.x/advanced-usage.html#ssl-warnings\n",
      "  warnings.warn(\n",
      "D:\\python_projects\\cpfl\\web_scrapper\\venv_scraper\\lib\\site-packages\\urllib3\\connectionpool.py:1043: InsecureRequestWarning: Unverified HTTPS request is being made to host 'www2.aneel.gov.br'. Adding certificate verification is strongly advised. See: https://urllib3.readthedocs.io/en/1.26.x/advanced-usage.html#ssl-warnings\n",
      "  warnings.warn(\n"
     ]
    },
    {
     "name": "stdout",
     "output_type": "stream",
     "text": [
      "Arquivo: \"PCAT_ENELCE_2017-04-22_REAJUSTE_(PCATCOELCE2017).xlsx\" foi baixado com sucesso\n",
      "['PCAT_ENELCE_2018-04-22_REAJUSTE_(PCATENELCE2018).xlsx'\n",
      " 'https://www2.aneel.gov.br/aplicacoes/tarifa/arquivo/PCAT_ENEL-CE_2018.xlsx']\n",
      "Arquivo: \"PCAT_ENELCE_2017-04-22_REAJUSTE_(PCATCOELCE2017).xlsx\" foi baixado com sucesso\n",
      "['PCAT_ENELCE_2018-04-22_REAJUSTE_(PCATENELCE2018).xlsx'\n",
      " 'https://www2.aneel.gov.br/aplicacoes/tarifa/arquivo/PCAT_ENEL-CE_2018.xlsx']\n"
     ]
    },
    {
     "name": "stderr",
     "output_type": "stream",
     "text": [
      "D:\\python_projects\\cpfl\\web_scrapper\\venv_scraper\\lib\\site-packages\\urllib3\\connectionpool.py:1043: InsecureRequestWarning: Unverified HTTPS request is being made to host 'www2.aneel.gov.br'. Adding certificate verification is strongly advised. See: https://urllib3.readthedocs.io/en/1.26.x/advanced-usage.html#ssl-warnings\n",
      "  warnings.warn(\n",
      "D:\\python_projects\\cpfl\\web_scrapper\\venv_scraper\\lib\\site-packages\\urllib3\\connectionpool.py:1043: InsecureRequestWarning: Unverified HTTPS request is being made to host 'www2.aneel.gov.br'. Adding certificate verification is strongly advised. See: https://urllib3.readthedocs.io/en/1.26.x/advanced-usage.html#ssl-warnings\n",
      "  warnings.warn(\n"
     ]
    },
    {
     "name": "stdout",
     "output_type": "stream",
     "text": [
      "Arquivo: \"PCAT_ENELCE_2018-04-22_REAJUSTE_(PCATENELCE2018).xlsx\" foi baixado com sucesso\n",
      "['PCAT_ENELCE_2019-04-22_REVISAO_(PCATENELCE2019).xlsx'\n",
      " 'https://www2.aneel.gov.br/aplicacoes/tarifa/arquivo/PCAT_Enel CE_2019.xlsx']\n",
      "Arquivo: \"PCAT_ENELCE_2018-04-22_REAJUSTE_(PCATENELCE2018).xlsx\" foi baixado com sucesso\n",
      "['PCAT_ENELCE_2019-04-22_REVISAO_(PCATENELCE2019).xlsx'\n",
      " 'https://www2.aneel.gov.br/aplicacoes/tarifa/arquivo/PCAT_Enel CE_2019.xlsx']\n"
     ]
    },
    {
     "name": "stderr",
     "output_type": "stream",
     "text": [
      "D:\\python_projects\\cpfl\\web_scrapper\\venv_scraper\\lib\\site-packages\\urllib3\\connectionpool.py:1043: InsecureRequestWarning: Unverified HTTPS request is being made to host 'www2.aneel.gov.br'. Adding certificate verification is strongly advised. See: https://urllib3.readthedocs.io/en/1.26.x/advanced-usage.html#ssl-warnings\n",
      "  warnings.warn(\n",
      "D:\\python_projects\\cpfl\\web_scrapper\\venv_scraper\\lib\\site-packages\\urllib3\\connectionpool.py:1043: InsecureRequestWarning: Unverified HTTPS request is being made to host 'www2.aneel.gov.br'. Adding certificate verification is strongly advised. See: https://urllib3.readthedocs.io/en/1.26.x/advanced-usage.html#ssl-warnings\n",
      "  warnings.warn(\n"
     ]
    },
    {
     "name": "stdout",
     "output_type": "stream",
     "text": [
      "Arquivo: \"PCAT_ENELCE_2019-04-22_REVISAO_(PCATENELCE2019).xlsx\" foi baixado com sucesso\n",
      "['PCAT_ENELCE_2020-04-22_REAJUSTE_(39PCATENELCE2020V02).xlsx'\n",
      " 'https://www2.aneel.gov.br/aplicacoes/tarifa/arquivo/39 PCAT Enel CE 2020 V02.xlsx']\n",
      "Arquivo: \"PCAT_ENELCE_2019-04-22_REVISAO_(PCATENELCE2019).xlsx\" foi baixado com sucesso\n",
      "['PCAT_ENELCE_2020-04-22_REAJUSTE_(39PCATENELCE2020V02).xlsx'\n",
      " 'https://www2.aneel.gov.br/aplicacoes/tarifa/arquivo/39 PCAT Enel CE 2020 V02.xlsx']\n"
     ]
    },
    {
     "name": "stderr",
     "output_type": "stream",
     "text": [
      "D:\\python_projects\\cpfl\\web_scrapper\\venv_scraper\\lib\\site-packages\\urllib3\\connectionpool.py:1043: InsecureRequestWarning: Unverified HTTPS request is being made to host 'www2.aneel.gov.br'. Adding certificate verification is strongly advised. See: https://urllib3.readthedocs.io/en/1.26.x/advanced-usage.html#ssl-warnings\n",
      "  warnings.warn(\n",
      "D:\\python_projects\\cpfl\\web_scrapper\\venv_scraper\\lib\\site-packages\\urllib3\\connectionpool.py:1043: InsecureRequestWarning: Unverified HTTPS request is being made to host 'www2.aneel.gov.br'. Adding certificate verification is strongly advised. See: https://urllib3.readthedocs.io/en/1.26.x/advanced-usage.html#ssl-warnings\n",
      "  warnings.warn(\n"
     ]
    },
    {
     "name": "stdout",
     "output_type": "stream",
     "text": [
      "Arquivo: \"PCAT_ENELCE_2020-04-22_REAJUSTE_(39PCATENELCE2020V02).xlsx\" foi baixado com sucesso\n",
      "['PCAT_ENELCE_2021-04-22_REAJUSTE_(39PCATENELCE2021FINALV02).xlsx'\n",
      " 'https://www2.aneel.gov.br/aplicacoes/tarifa/arquivo/39 PCAT Enel CE 2021 final V02.xlsx']\n",
      "Arquivo: \"PCAT_ENELCE_2020-04-22_REAJUSTE_(39PCATENELCE2020V02).xlsx\" foi baixado com sucesso\n",
      "['PCAT_ENELCE_2021-04-22_REAJUSTE_(39PCATENELCE2021FINALV02).xlsx'\n",
      " 'https://www2.aneel.gov.br/aplicacoes/tarifa/arquivo/39 PCAT Enel CE 2021 final V02.xlsx']\n"
     ]
    },
    {
     "name": "stderr",
     "output_type": "stream",
     "text": [
      "D:\\python_projects\\cpfl\\web_scrapper\\venv_scraper\\lib\\site-packages\\urllib3\\connectionpool.py:1043: InsecureRequestWarning: Unverified HTTPS request is being made to host 'www2.aneel.gov.br'. Adding certificate verification is strongly advised. See: https://urllib3.readthedocs.io/en/1.26.x/advanced-usage.html#ssl-warnings\n",
      "  warnings.warn(\n",
      "D:\\python_projects\\cpfl\\web_scrapper\\venv_scraper\\lib\\site-packages\\urllib3\\connectionpool.py:1043: InsecureRequestWarning: Unverified HTTPS request is being made to host 'www2.aneel.gov.br'. Adding certificate verification is strongly advised. See: https://urllib3.readthedocs.io/en/1.26.x/advanced-usage.html#ssl-warnings\n",
      "  warnings.warn(\n"
     ]
    },
    {
     "name": "stdout",
     "output_type": "stream",
     "text": [
      "Arquivo: \"PCAT_ENELCE_2021-04-22_REAJUSTE_(39PCATENELCE2021FINALV02).xlsx\" foi baixado com sucesso\n",
      "['PCAT_ENELRJ_2014-03-15_REVISAO_(PCATAMPLA2014CERTO).xlsx'\n",
      " 'https://www2.aneel.gov.br/aplicacoes/tarifa/arquivo/PCAT_AMPLA_2014_certo.xlsx']\n",
      "Arquivo: \"PCAT_ENELCE_2021-04-22_REAJUSTE_(39PCATENELCE2021FINALV02).xlsx\" foi baixado com sucesso\n",
      "['PCAT_ENELRJ_2014-03-15_REVISAO_(PCATAMPLA2014CERTO).xlsx'\n",
      " 'https://www2.aneel.gov.br/aplicacoes/tarifa/arquivo/PCAT_AMPLA_2014_certo.xlsx']\n"
     ]
    },
    {
     "name": "stderr",
     "output_type": "stream",
     "text": [
      "D:\\python_projects\\cpfl\\web_scrapper\\venv_scraper\\lib\\site-packages\\urllib3\\connectionpool.py:1043: InsecureRequestWarning: Unverified HTTPS request is being made to host 'www2.aneel.gov.br'. Adding certificate verification is strongly advised. See: https://urllib3.readthedocs.io/en/1.26.x/advanced-usage.html#ssl-warnings\n",
      "  warnings.warn(\n",
      "D:\\python_projects\\cpfl\\web_scrapper\\venv_scraper\\lib\\site-packages\\urllib3\\connectionpool.py:1043: InsecureRequestWarning: Unverified HTTPS request is being made to host 'www2.aneel.gov.br'. Adding certificate verification is strongly advised. See: https://urllib3.readthedocs.io/en/1.26.x/advanced-usage.html#ssl-warnings\n",
      "  warnings.warn(\n"
     ]
    },
    {
     "name": "stdout",
     "output_type": "stream",
     "text": [
      "Arquivo: \"PCAT_ENELRJ_2014-03-15_REVISAO_(PCATAMPLA2014CERTO).xlsx\" foi baixado com sucesso\n",
      "['PCAT_ENELRJ_2015-03-15_REAJUSTE_(PCATAMPLA2015).xlsx'\n",
      " 'https://www2.aneel.gov.br/aplicacoes/tarifa/arquivo/PCAT_AMPLA_2015.xlsx']\n",
      "Arquivo: \"PCAT_ENELRJ_2014-03-15_REVISAO_(PCATAMPLA2014CERTO).xlsx\" foi baixado com sucesso\n",
      "['PCAT_ENELRJ_2015-03-15_REAJUSTE_(PCATAMPLA2015).xlsx'\n",
      " 'https://www2.aneel.gov.br/aplicacoes/tarifa/arquivo/PCAT_AMPLA_2015.xlsx']\n"
     ]
    },
    {
     "name": "stderr",
     "output_type": "stream",
     "text": [
      "D:\\python_projects\\cpfl\\web_scrapper\\venv_scraper\\lib\\site-packages\\urllib3\\connectionpool.py:1043: InsecureRequestWarning: Unverified HTTPS request is being made to host 'www2.aneel.gov.br'. Adding certificate verification is strongly advised. See: https://urllib3.readthedocs.io/en/1.26.x/advanced-usage.html#ssl-warnings\n",
      "  warnings.warn(\n",
      "D:\\python_projects\\cpfl\\web_scrapper\\venv_scraper\\lib\\site-packages\\urllib3\\connectionpool.py:1043: InsecureRequestWarning: Unverified HTTPS request is being made to host 'www2.aneel.gov.br'. Adding certificate verification is strongly advised. See: https://urllib3.readthedocs.io/en/1.26.x/advanced-usage.html#ssl-warnings\n",
      "  warnings.warn(\n"
     ]
    },
    {
     "name": "stdout",
     "output_type": "stream",
     "text": [
      "Arquivo: \"PCAT_ENELRJ_2015-03-15_REAJUSTE_(PCATAMPLA2015).xlsx\" foi baixado com sucesso\n",
      "['PCAT_ENELRJ_2016-03-15_REAJUSTE_(PCATAMPLA2016V02).xlsx'\n",
      " 'https://www2.aneel.gov.br/aplicacoes/tarifa/arquivo/PCAT_Ampla_2016_V02.xlsx']\n",
      "Arquivo: \"PCAT_ENELRJ_2015-03-15_REAJUSTE_(PCATAMPLA2015).xlsx\" foi baixado com sucesso\n",
      "['PCAT_ENELRJ_2016-03-15_REAJUSTE_(PCATAMPLA2016V02).xlsx'\n",
      " 'https://www2.aneel.gov.br/aplicacoes/tarifa/arquivo/PCAT_Ampla_2016_V02.xlsx']\n"
     ]
    },
    {
     "name": "stderr",
     "output_type": "stream",
     "text": [
      "D:\\python_projects\\cpfl\\web_scrapper\\venv_scraper\\lib\\site-packages\\urllib3\\connectionpool.py:1043: InsecureRequestWarning: Unverified HTTPS request is being made to host 'www2.aneel.gov.br'. Adding certificate verification is strongly advised. See: https://urllib3.readthedocs.io/en/1.26.x/advanced-usage.html#ssl-warnings\n",
      "  warnings.warn(\n",
      "D:\\python_projects\\cpfl\\web_scrapper\\venv_scraper\\lib\\site-packages\\urllib3\\connectionpool.py:1043: InsecureRequestWarning: Unverified HTTPS request is being made to host 'www2.aneel.gov.br'. Adding certificate verification is strongly advised. See: https://urllib3.readthedocs.io/en/1.26.x/advanced-usage.html#ssl-warnings\n",
      "  warnings.warn(\n"
     ]
    },
    {
     "name": "stdout",
     "output_type": "stream",
     "text": [
      "Arquivo: \"PCAT_ENELRJ_2016-03-15_REAJUSTE_(PCATAMPLA2016V02).xlsx\" foi baixado com sucesso\n",
      "['PCAT_ENELRJ_2017-03-15_REAJUSTE_(PCATAMPLA2017).xlsx'\n",
      " 'https://www2.aneel.gov.br/aplicacoes/tarifa/arquivo/PCAT_Ampla_2017.xlsx']\n",
      "Arquivo: \"PCAT_ENELRJ_2016-03-15_REAJUSTE_(PCATAMPLA2016V02).xlsx\" foi baixado com sucesso\n",
      "['PCAT_ENELRJ_2017-03-15_REAJUSTE_(PCATAMPLA2017).xlsx'\n",
      " 'https://www2.aneel.gov.br/aplicacoes/tarifa/arquivo/PCAT_Ampla_2017.xlsx']\n"
     ]
    },
    {
     "name": "stderr",
     "output_type": "stream",
     "text": [
      "D:\\python_projects\\cpfl\\web_scrapper\\venv_scraper\\lib\\site-packages\\urllib3\\connectionpool.py:1043: InsecureRequestWarning: Unverified HTTPS request is being made to host 'www2.aneel.gov.br'. Adding certificate verification is strongly advised. See: https://urllib3.readthedocs.io/en/1.26.x/advanced-usage.html#ssl-warnings\n",
      "  warnings.warn(\n",
      "D:\\python_projects\\cpfl\\web_scrapper\\venv_scraper\\lib\\site-packages\\urllib3\\connectionpool.py:1043: InsecureRequestWarning: Unverified HTTPS request is being made to host 'www2.aneel.gov.br'. Adding certificate verification is strongly advised. See: https://urllib3.readthedocs.io/en/1.26.x/advanced-usage.html#ssl-warnings\n",
      "  warnings.warn(\n"
     ]
    },
    {
     "name": "stdout",
     "output_type": "stream",
     "text": [
      "Arquivo: \"PCAT_ENELRJ_2017-03-15_REAJUSTE_(PCATAMPLA2017).xlsx\" foi baixado com sucesso\n",
      "['PCAT_ENELRJ_2018-03-15_REVISAO_(PCATENELRJ2018).xlsx'\n",
      " 'https://www2.aneel.gov.br/aplicacoes/tarifa/arquivo/PCAT_Enel_RJ 2018.xlsx']\n",
      "Arquivo: \"PCAT_ENELRJ_2017-03-15_REAJUSTE_(PCATAMPLA2017).xlsx\" foi baixado com sucesso\n",
      "['PCAT_ENELRJ_2018-03-15_REVISAO_(PCATENELRJ2018).xlsx'\n",
      " 'https://www2.aneel.gov.br/aplicacoes/tarifa/arquivo/PCAT_Enel_RJ 2018.xlsx']\n"
     ]
    },
    {
     "name": "stderr",
     "output_type": "stream",
     "text": [
      "D:\\python_projects\\cpfl\\web_scrapper\\venv_scraper\\lib\\site-packages\\urllib3\\connectionpool.py:1043: InsecureRequestWarning: Unverified HTTPS request is being made to host 'www2.aneel.gov.br'. Adding certificate verification is strongly advised. See: https://urllib3.readthedocs.io/en/1.26.x/advanced-usage.html#ssl-warnings\n",
      "  warnings.warn(\n",
      "D:\\python_projects\\cpfl\\web_scrapper\\venv_scraper\\lib\\site-packages\\urllib3\\connectionpool.py:1043: InsecureRequestWarning: Unverified HTTPS request is being made to host 'www2.aneel.gov.br'. Adding certificate verification is strongly advised. See: https://urllib3.readthedocs.io/en/1.26.x/advanced-usage.html#ssl-warnings\n",
      "  warnings.warn(\n"
     ]
    },
    {
     "name": "stdout",
     "output_type": "stream",
     "text": [
      "Arquivo: \"PCAT_ENELRJ_2018-03-15_REVISAO_(PCATENELRJ2018).xlsx\" foi baixado com sucesso\n",
      "['PCAT_ENELRJ_2019-04-01_REVISAOEXTRAORDINARIA_(PCATENELRJ2019).xlsx'\n",
      " 'https://www2.aneel.gov.br/aplicacoes/tarifa/arquivo/PCAT_Enel RJ_2019 .xlsx']\n",
      "Arquivo: \"PCAT_ENELRJ_2018-03-15_REVISAO_(PCATENELRJ2018).xlsx\" foi baixado com sucesso\n",
      "['PCAT_ENELRJ_2019-04-01_REVISAOEXTRAORDINARIA_(PCATENELRJ2019).xlsx'\n",
      " 'https://www2.aneel.gov.br/aplicacoes/tarifa/arquivo/PCAT_Enel RJ_2019 .xlsx']\n"
     ]
    },
    {
     "name": "stderr",
     "output_type": "stream",
     "text": [
      "D:\\python_projects\\cpfl\\web_scrapper\\venv_scraper\\lib\\site-packages\\urllib3\\connectionpool.py:1043: InsecureRequestWarning: Unverified HTTPS request is being made to host 'www2.aneel.gov.br'. Adding certificate verification is strongly advised. See: https://urllib3.readthedocs.io/en/1.26.x/advanced-usage.html#ssl-warnings\n",
      "  warnings.warn(\n",
      "D:\\python_projects\\cpfl\\web_scrapper\\venv_scraper\\lib\\site-packages\\urllib3\\connectionpool.py:1043: InsecureRequestWarning: Unverified HTTPS request is being made to host 'www2.aneel.gov.br'. Adding certificate verification is strongly advised. See: https://urllib3.readthedocs.io/en/1.26.x/advanced-usage.html#ssl-warnings\n",
      "  warnings.warn(\n"
     ]
    },
    {
     "name": "stdout",
     "output_type": "stream",
     "text": [
      "Arquivo: \"PCAT_ENELRJ_2019-04-01_REVISAOEXTRAORDINARIA_(PCATENELRJ2019).xlsx\" foi baixado com sucesso\n",
      "['PCAT_ENELRJ_2019-03-15_REAJUSTE_(PCATENELRJ2019).xlsx'\n",
      " 'https://www2.aneel.gov.br/aplicacoes/tarifa/arquivo/PCAT_Enel_RJ_2019 .xlsx']\n",
      "Arquivo: \"PCAT_ENELRJ_2019-04-01_REVISAOEXTRAORDINARIA_(PCATENELRJ2019).xlsx\" foi baixado com sucesso\n",
      "['PCAT_ENELRJ_2019-03-15_REAJUSTE_(PCATENELRJ2019).xlsx'\n",
      " 'https://www2.aneel.gov.br/aplicacoes/tarifa/arquivo/PCAT_Enel_RJ_2019 .xlsx']\n"
     ]
    },
    {
     "name": "stderr",
     "output_type": "stream",
     "text": [
      "D:\\python_projects\\cpfl\\web_scrapper\\venv_scraper\\lib\\site-packages\\urllib3\\connectionpool.py:1043: InsecureRequestWarning: Unverified HTTPS request is being made to host 'www2.aneel.gov.br'. Adding certificate verification is strongly advised. See: https://urllib3.readthedocs.io/en/1.26.x/advanced-usage.html#ssl-warnings\n",
      "  warnings.warn(\n",
      "D:\\python_projects\\cpfl\\web_scrapper\\venv_scraper\\lib\\site-packages\\urllib3\\connectionpool.py:1043: InsecureRequestWarning: Unverified HTTPS request is being made to host 'www2.aneel.gov.br'. Adding certificate verification is strongly advised. See: https://urllib3.readthedocs.io/en/1.26.x/advanced-usage.html#ssl-warnings\n",
      "  warnings.warn(\n"
     ]
    },
    {
     "name": "stdout",
     "output_type": "stream",
     "text": [
      "Arquivo: \"PCAT_ENELRJ_2019-03-15_REAJUSTE_(PCATENELRJ2019).xlsx\" foi baixado com sucesso\n",
      "['PCAT_ENELRJ_2020-03-15_REAJUSTE_(PCATENELRJ2020).xlsx'\n",
      " 'https://www2.aneel.gov.br/aplicacoes/tarifa/arquivo/PCAT_Enel_RJ_2020.xlsx']\n",
      "Arquivo: \"PCAT_ENELRJ_2019-03-15_REAJUSTE_(PCATENELRJ2019).xlsx\" foi baixado com sucesso\n",
      "['PCAT_ENELRJ_2020-03-15_REAJUSTE_(PCATENELRJ2020).xlsx'\n",
      " 'https://www2.aneel.gov.br/aplicacoes/tarifa/arquivo/PCAT_Enel_RJ_2020.xlsx']\n"
     ]
    },
    {
     "name": "stderr",
     "output_type": "stream",
     "text": [
      "D:\\python_projects\\cpfl\\web_scrapper\\venv_scraper\\lib\\site-packages\\urllib3\\connectionpool.py:1043: InsecureRequestWarning: Unverified HTTPS request is being made to host 'www2.aneel.gov.br'. Adding certificate verification is strongly advised. See: https://urllib3.readthedocs.io/en/1.26.x/advanced-usage.html#ssl-warnings\n",
      "  warnings.warn(\n",
      "D:\\python_projects\\cpfl\\web_scrapper\\venv_scraper\\lib\\site-packages\\urllib3\\connectionpool.py:1043: InsecureRequestWarning: Unverified HTTPS request is being made to host 'www2.aneel.gov.br'. Adding certificate verification is strongly advised. See: https://urllib3.readthedocs.io/en/1.26.x/advanced-usage.html#ssl-warnings\n",
      "  warnings.warn(\n"
     ]
    },
    {
     "name": "stdout",
     "output_type": "stream",
     "text": [
      "Arquivo: \"PCAT_ENELRJ_2020-03-15_REAJUSTE_(PCATENELRJ2020).xlsx\" foi baixado com sucesso\n",
      "['PCAT_ENF_2014-06-10_REAJUSTE_(PCATENF2014).xlsx'\n",
      " 'https://www2.aneel.gov.br/aplicacoes/tarifa/arquivo/PCAT_ENF_2014.xlsx']\n",
      "Arquivo: \"PCAT_ENELRJ_2020-03-15_REAJUSTE_(PCATENELRJ2020).xlsx\" foi baixado com sucesso\n",
      "['PCAT_ENF_2014-06-10_REAJUSTE_(PCATENF2014).xlsx'\n",
      " 'https://www2.aneel.gov.br/aplicacoes/tarifa/arquivo/PCAT_ENF_2014.xlsx']\n"
     ]
    },
    {
     "name": "stderr",
     "output_type": "stream",
     "text": [
      "D:\\python_projects\\cpfl\\web_scrapper\\venv_scraper\\lib\\site-packages\\urllib3\\connectionpool.py:1043: InsecureRequestWarning: Unverified HTTPS request is being made to host 'www2.aneel.gov.br'. Adding certificate verification is strongly advised. See: https://urllib3.readthedocs.io/en/1.26.x/advanced-usage.html#ssl-warnings\n",
      "  warnings.warn(\n",
      "D:\\python_projects\\cpfl\\web_scrapper\\venv_scraper\\lib\\site-packages\\urllib3\\connectionpool.py:1043: InsecureRequestWarning: Unverified HTTPS request is being made to host 'www2.aneel.gov.br'. Adding certificate verification is strongly advised. See: https://urllib3.readthedocs.io/en/1.26.x/advanced-usage.html#ssl-warnings\n",
      "  warnings.warn(\n"
     ]
    },
    {
     "name": "stdout",
     "output_type": "stream",
     "text": [
      "Arquivo: \"PCAT_ENF_2014-06-10_REAJUSTE_(PCATENF2014).xlsx\" foi baixado com sucesso\n",
      "['PCAT_ENF_2015-06-15_REAJUSTE_(PCATENF2015).xlsx'\n",
      " 'https://www2.aneel.gov.br/aplicacoes/tarifa/arquivo/PCAT_ENF_2015.xlsx']\n",
      "Arquivo: \"PCAT_ENF_2014-06-10_REAJUSTE_(PCATENF2014).xlsx\" foi baixado com sucesso\n",
      "['PCAT_ENF_2015-06-15_REAJUSTE_(PCATENF2015).xlsx'\n",
      " 'https://www2.aneel.gov.br/aplicacoes/tarifa/arquivo/PCAT_ENF_2015.xlsx']\n"
     ]
    },
    {
     "name": "stderr",
     "output_type": "stream",
     "text": [
      "D:\\python_projects\\cpfl\\web_scrapper\\venv_scraper\\lib\\site-packages\\urllib3\\connectionpool.py:1043: InsecureRequestWarning: Unverified HTTPS request is being made to host 'www2.aneel.gov.br'. Adding certificate verification is strongly advised. See: https://urllib3.readthedocs.io/en/1.26.x/advanced-usage.html#ssl-warnings\n",
      "  warnings.warn(\n",
      "D:\\python_projects\\cpfl\\web_scrapper\\venv_scraper\\lib\\site-packages\\urllib3\\connectionpool.py:1043: InsecureRequestWarning: Unverified HTTPS request is being made to host 'www2.aneel.gov.br'. Adding certificate verification is strongly advised. See: https://urllib3.readthedocs.io/en/1.26.x/advanced-usage.html#ssl-warnings\n",
      "  warnings.warn(\n"
     ]
    },
    {
     "name": "stdout",
     "output_type": "stream",
     "text": [
      "Arquivo: \"PCAT_ENF_2015-06-15_REAJUSTE_(PCATENF2015).xlsx\" foi baixado com sucesso\n",
      "['PCAT_ENF_2015-03-02_REVISAOEXTRAORDINARIA_(PCATENF2014V00).xlsx'\n",
      " 'https://www2.aneel.gov.br/aplicacoes/tarifa/arquivo/PCAT_ENF_2014_V00.xlsx']\n",
      "Arquivo: \"PCAT_ENF_2015-06-15_REAJUSTE_(PCATENF2015).xlsx\" foi baixado com sucesso\n",
      "['PCAT_ENF_2015-03-02_REVISAOEXTRAORDINARIA_(PCATENF2014V00).xlsx'\n",
      " 'https://www2.aneel.gov.br/aplicacoes/tarifa/arquivo/PCAT_ENF_2014_V00.xlsx']\n"
     ]
    },
    {
     "name": "stderr",
     "output_type": "stream",
     "text": [
      "D:\\python_projects\\cpfl\\web_scrapper\\venv_scraper\\lib\\site-packages\\urllib3\\connectionpool.py:1043: InsecureRequestWarning: Unverified HTTPS request is being made to host 'www2.aneel.gov.br'. Adding certificate verification is strongly advised. See: https://urllib3.readthedocs.io/en/1.26.x/advanced-usage.html#ssl-warnings\n",
      "  warnings.warn(\n",
      "D:\\python_projects\\cpfl\\web_scrapper\\venv_scraper\\lib\\site-packages\\urllib3\\connectionpool.py:1043: InsecureRequestWarning: Unverified HTTPS request is being made to host 'www2.aneel.gov.br'. Adding certificate verification is strongly advised. See: https://urllib3.readthedocs.io/en/1.26.x/advanced-usage.html#ssl-warnings\n",
      "  warnings.warn(\n"
     ]
    },
    {
     "name": "stdout",
     "output_type": "stream",
     "text": [
      "Arquivo: \"PCAT_ENF_2015-03-02_REVISAOEXTRAORDINARIA_(PCATENF2014V00).xlsx\" foi baixado com sucesso\n",
      "['PCAT_ENF_2016-06-22_REVISAO_(PCATENF2016).xlsx'\n",
      " 'https://www2.aneel.gov.br/aplicacoes/tarifa/arquivo/PCAT_ENF_2016.xlsx']\n",
      "Arquivo: \"PCAT_ENF_2015-03-02_REVISAOEXTRAORDINARIA_(PCATENF2014V00).xlsx\" foi baixado com sucesso\n",
      "['PCAT_ENF_2016-06-22_REVISAO_(PCATENF2016).xlsx'\n",
      " 'https://www2.aneel.gov.br/aplicacoes/tarifa/arquivo/PCAT_ENF_2016.xlsx']\n"
     ]
    },
    {
     "name": "stderr",
     "output_type": "stream",
     "text": [
      "D:\\python_projects\\cpfl\\web_scrapper\\venv_scraper\\lib\\site-packages\\urllib3\\connectionpool.py:1043: InsecureRequestWarning: Unverified HTTPS request is being made to host 'www2.aneel.gov.br'. Adding certificate verification is strongly advised. See: https://urllib3.readthedocs.io/en/1.26.x/advanced-usage.html#ssl-warnings\n",
      "  warnings.warn(\n",
      "D:\\python_projects\\cpfl\\web_scrapper\\venv_scraper\\lib\\site-packages\\urllib3\\connectionpool.py:1043: InsecureRequestWarning: Unverified HTTPS request is being made to host 'www2.aneel.gov.br'. Adding certificate verification is strongly advised. See: https://urllib3.readthedocs.io/en/1.26.x/advanced-usage.html#ssl-warnings\n",
      "  warnings.warn(\n"
     ]
    },
    {
     "name": "stdout",
     "output_type": "stream",
     "text": [
      "Arquivo: \"PCAT_ENF_2016-06-22_REVISAO_(PCATENF2016).xlsx\" foi baixado com sucesso\n",
      "['PCAT_ENF_2017-06-22_REAJUSTE_(PCATENF2017).xlsx'\n",
      " 'https://www2.aneel.gov.br/aplicacoes/tarifa/arquivo/PCAT_ENF_2017.xlsx']\n",
      "Arquivo: \"PCAT_ENF_2016-06-22_REVISAO_(PCATENF2016).xlsx\" foi baixado com sucesso\n",
      "['PCAT_ENF_2017-06-22_REAJUSTE_(PCATENF2017).xlsx'\n",
      " 'https://www2.aneel.gov.br/aplicacoes/tarifa/arquivo/PCAT_ENF_2017.xlsx']\n"
     ]
    },
    {
     "name": "stderr",
     "output_type": "stream",
     "text": [
      "D:\\python_projects\\cpfl\\web_scrapper\\venv_scraper\\lib\\site-packages\\urllib3\\connectionpool.py:1043: InsecureRequestWarning: Unverified HTTPS request is being made to host 'www2.aneel.gov.br'. Adding certificate verification is strongly advised. See: https://urllib3.readthedocs.io/en/1.26.x/advanced-usage.html#ssl-warnings\n",
      "  warnings.warn(\n",
      "D:\\python_projects\\cpfl\\web_scrapper\\venv_scraper\\lib\\site-packages\\urllib3\\connectionpool.py:1043: InsecureRequestWarning: Unverified HTTPS request is being made to host 'www2.aneel.gov.br'. Adding certificate verification is strongly advised. See: https://urllib3.readthedocs.io/en/1.26.x/advanced-usage.html#ssl-warnings\n",
      "  warnings.warn(\n"
     ]
    },
    {
     "name": "stdout",
     "output_type": "stream",
     "text": [
      "Arquivo: \"PCAT_ENF_2017-06-22_REAJUSTE_(PCATENF2017).xlsx\" foi baixado com sucesso\n",
      "['PCAT_ENF_2018-06-22_REAJUSTE_(PCATENF2018).xlsx'\n",
      " 'https://www2.aneel.gov.br/aplicacoes/tarifa/arquivo/PCAT_ENF_2018 .xlsx']\n",
      "Arquivo: \"PCAT_ENF_2017-06-22_REAJUSTE_(PCATENF2017).xlsx\" foi baixado com sucesso\n",
      "['PCAT_ENF_2018-06-22_REAJUSTE_(PCATENF2018).xlsx'\n",
      " 'https://www2.aneel.gov.br/aplicacoes/tarifa/arquivo/PCAT_ENF_2018 .xlsx']\n"
     ]
    },
    {
     "name": "stderr",
     "output_type": "stream",
     "text": [
      "D:\\python_projects\\cpfl\\web_scrapper\\venv_scraper\\lib\\site-packages\\urllib3\\connectionpool.py:1043: InsecureRequestWarning: Unverified HTTPS request is being made to host 'www2.aneel.gov.br'. Adding certificate verification is strongly advised. See: https://urllib3.readthedocs.io/en/1.26.x/advanced-usage.html#ssl-warnings\n",
      "  warnings.warn(\n",
      "D:\\python_projects\\cpfl\\web_scrapper\\venv_scraper\\lib\\site-packages\\urllib3\\connectionpool.py:1043: InsecureRequestWarning: Unverified HTTPS request is being made to host 'www2.aneel.gov.br'. Adding certificate verification is strongly advised. See: https://urllib3.readthedocs.io/en/1.26.x/advanced-usage.html#ssl-warnings\n",
      "  warnings.warn(\n"
     ]
    },
    {
     "name": "stdout",
     "output_type": "stream",
     "text": [
      "Arquivo: \"PCAT_ENF_2018-06-22_REAJUSTE_(PCATENF2018).xlsx\" foi baixado com sucesso\n",
      "['PCAT_ENF_2019-06-22_REAJUSTE_(6612PCATENF2019V02).xlsx'\n",
      " 'https://www2.aneel.gov.br/aplicacoes/tarifa/arquivo/6612 PCAT ENF 2019 V02.xlsx']\n",
      "Arquivo: \"PCAT_ENF_2018-06-22_REAJUSTE_(PCATENF2018).xlsx\" foi baixado com sucesso\n",
      "['PCAT_ENF_2019-06-22_REAJUSTE_(6612PCATENF2019V02).xlsx'\n",
      " 'https://www2.aneel.gov.br/aplicacoes/tarifa/arquivo/6612 PCAT ENF 2019 V02.xlsx']\n"
     ]
    },
    {
     "name": "stderr",
     "output_type": "stream",
     "text": [
      "D:\\python_projects\\cpfl\\web_scrapper\\venv_scraper\\lib\\site-packages\\urllib3\\connectionpool.py:1043: InsecureRequestWarning: Unverified HTTPS request is being made to host 'www2.aneel.gov.br'. Adding certificate verification is strongly advised. See: https://urllib3.readthedocs.io/en/1.26.x/advanced-usage.html#ssl-warnings\n",
      "  warnings.warn(\n",
      "D:\\python_projects\\cpfl\\web_scrapper\\venv_scraper\\lib\\site-packages\\urllib3\\connectionpool.py:1043: InsecureRequestWarning: Unverified HTTPS request is being made to host 'www2.aneel.gov.br'. Adding certificate verification is strongly advised. See: https://urllib3.readthedocs.io/en/1.26.x/advanced-usage.html#ssl-warnings\n",
      "  warnings.warn(\n"
     ]
    },
    {
     "name": "stdout",
     "output_type": "stream",
     "text": [
      "Arquivo: \"PCAT_ENF_2019-06-22_REAJUSTE_(6612PCATENF2019V02).xlsx\" foi baixado com sucesso\n",
      "['PCAT_ENF_2020-06-22_REAJUSTE_(6612PCATENF2020V02).xlsx'\n",
      " 'https://www2.aneel.gov.br/aplicacoes/tarifa/arquivo/6612 PCAT ENF 2020 V02.xlsx']\n",
      "Arquivo: \"PCAT_ENF_2019-06-22_REAJUSTE_(6612PCATENF2019V02).xlsx\" foi baixado com sucesso\n",
      "['PCAT_ENF_2020-06-22_REAJUSTE_(6612PCATENF2020V02).xlsx'\n",
      " 'https://www2.aneel.gov.br/aplicacoes/tarifa/arquivo/6612 PCAT ENF 2020 V02.xlsx']\n"
     ]
    },
    {
     "name": "stderr",
     "output_type": "stream",
     "text": [
      "D:\\python_projects\\cpfl\\web_scrapper\\venv_scraper\\lib\\site-packages\\urllib3\\connectionpool.py:1043: InsecureRequestWarning: Unverified HTTPS request is being made to host 'www2.aneel.gov.br'. Adding certificate verification is strongly advised. See: https://urllib3.readthedocs.io/en/1.26.x/advanced-usage.html#ssl-warnings\n",
      "  warnings.warn(\n",
      "D:\\python_projects\\cpfl\\web_scrapper\\venv_scraper\\lib\\site-packages\\urllib3\\connectionpool.py:1043: InsecureRequestWarning: Unverified HTTPS request is being made to host 'www2.aneel.gov.br'. Adding certificate verification is strongly advised. See: https://urllib3.readthedocs.io/en/1.26.x/advanced-usage.html#ssl-warnings\n",
      "  warnings.warn(\n"
     ]
    },
    {
     "name": "stdout",
     "output_type": "stream",
     "text": [
      "Arquivo: \"PCAT_ENF_2020-06-22_REAJUSTE_(6612PCATENF2020V02).xlsx\" foi baixado com sucesso\n",
      "['PCAT_ENF_2021-06-22_REVISAO_(6612PCATENF2021V02).xlsx'\n",
      " 'https://www2.aneel.gov.br/aplicacoes/tarifa/arquivo/6612 PCAT ENF 2021 V02.xlsx']\n",
      "Arquivo: \"PCAT_ENF_2020-06-22_REAJUSTE_(6612PCATENF2020V02).xlsx\" foi baixado com sucesso\n",
      "['PCAT_ENF_2021-06-22_REVISAO_(6612PCATENF2021V02).xlsx'\n",
      " 'https://www2.aneel.gov.br/aplicacoes/tarifa/arquivo/6612 PCAT ENF 2021 V02.xlsx']\n"
     ]
    },
    {
     "name": "stderr",
     "output_type": "stream",
     "text": [
      "D:\\python_projects\\cpfl\\web_scrapper\\venv_scraper\\lib\\site-packages\\urllib3\\connectionpool.py:1043: InsecureRequestWarning: Unverified HTTPS request is being made to host 'www2.aneel.gov.br'. Adding certificate verification is strongly advised. See: https://urllib3.readthedocs.io/en/1.26.x/advanced-usage.html#ssl-warnings\n",
      "  warnings.warn(\n",
      "D:\\python_projects\\cpfl\\web_scrapper\\venv_scraper\\lib\\site-packages\\urllib3\\connectionpool.py:1043: InsecureRequestWarning: Unverified HTTPS request is being made to host 'www2.aneel.gov.br'. Adding certificate verification is strongly advised. See: https://urllib3.readthedocs.io/en/1.26.x/advanced-usage.html#ssl-warnings\n",
      "  warnings.warn(\n"
     ]
    },
    {
     "name": "stdout",
     "output_type": "stream",
     "text": [
      "Arquivo: \"PCAT_ENF_2021-06-22_REVISAO_(6612PCATENF2021V02).xlsx\" foi baixado com sucesso\n",
      "['PCAT_EPB_2014-08-26_REAJUSTE_(PCATEPB2014).xlsx'\n",
      " 'https://www2.aneel.gov.br/aplicacoes/tarifa/arquivo/PCAT_EPB_2014.xlsx']\n",
      "Arquivo: \"PCAT_ENF_2021-06-22_REVISAO_(6612PCATENF2021V02).xlsx\" foi baixado com sucesso\n",
      "['PCAT_EPB_2014-08-26_REAJUSTE_(PCATEPB2014).xlsx'\n",
      " 'https://www2.aneel.gov.br/aplicacoes/tarifa/arquivo/PCAT_EPB_2014.xlsx']\n"
     ]
    },
    {
     "name": "stderr",
     "output_type": "stream",
     "text": [
      "D:\\python_projects\\cpfl\\web_scrapper\\venv_scraper\\lib\\site-packages\\urllib3\\connectionpool.py:1043: InsecureRequestWarning: Unverified HTTPS request is being made to host 'www2.aneel.gov.br'. Adding certificate verification is strongly advised. See: https://urllib3.readthedocs.io/en/1.26.x/advanced-usage.html#ssl-warnings\n",
      "  warnings.warn(\n",
      "D:\\python_projects\\cpfl\\web_scrapper\\venv_scraper\\lib\\site-packages\\urllib3\\connectionpool.py:1043: InsecureRequestWarning: Unverified HTTPS request is being made to host 'www2.aneel.gov.br'. Adding certificate verification is strongly advised. See: https://urllib3.readthedocs.io/en/1.26.x/advanced-usage.html#ssl-warnings\n",
      "  warnings.warn(\n"
     ]
    },
    {
     "name": "stdout",
     "output_type": "stream",
     "text": [
      "Arquivo: \"PCAT_EPB_2014-08-26_REAJUSTE_(PCATEPB2014).xlsx\" foi baixado com sucesso\n",
      "['PCAT_EPB_2015-08-28_REAJUSTE_(PCATEPB2015).xlsx'\n",
      " 'https://www2.aneel.gov.br/aplicacoes/tarifa/arquivo/PCAT_EPB_2015.xlsx']\n",
      "Arquivo: \"PCAT_EPB_2014-08-26_REAJUSTE_(PCATEPB2014).xlsx\" foi baixado com sucesso\n",
      "['PCAT_EPB_2015-08-28_REAJUSTE_(PCATEPB2015).xlsx'\n",
      " 'https://www2.aneel.gov.br/aplicacoes/tarifa/arquivo/PCAT_EPB_2015.xlsx']\n"
     ]
    },
    {
     "name": "stderr",
     "output_type": "stream",
     "text": [
      "D:\\python_projects\\cpfl\\web_scrapper\\venv_scraper\\lib\\site-packages\\urllib3\\connectionpool.py:1043: InsecureRequestWarning: Unverified HTTPS request is being made to host 'www2.aneel.gov.br'. Adding certificate verification is strongly advised. See: https://urllib3.readthedocs.io/en/1.26.x/advanced-usage.html#ssl-warnings\n",
      "  warnings.warn(\n",
      "D:\\python_projects\\cpfl\\web_scrapper\\venv_scraper\\lib\\site-packages\\urllib3\\connectionpool.py:1043: InsecureRequestWarning: Unverified HTTPS request is being made to host 'www2.aneel.gov.br'. Adding certificate verification is strongly advised. See: https://urllib3.readthedocs.io/en/1.26.x/advanced-usage.html#ssl-warnings\n",
      "  warnings.warn(\n"
     ]
    },
    {
     "name": "stdout",
     "output_type": "stream",
     "text": [
      "Arquivo: \"PCAT_EPB_2015-08-28_REAJUSTE_(PCATEPB2015).xlsx\" foi baixado com sucesso\n",
      "['PCAT_EPB_2015-03-02_REVISAOEXTRAORDINARIA_(PCATEPB2014CAT).xlsx'\n",
      " 'https://www2.aneel.gov.br/aplicacoes/tarifa/arquivo/PCAT_EPB_2014_CAT.xlsx']\n",
      "Arquivo: \"PCAT_EPB_2015-08-28_REAJUSTE_(PCATEPB2015).xlsx\" foi baixado com sucesso\n",
      "['PCAT_EPB_2015-03-02_REVISAOEXTRAORDINARIA_(PCATEPB2014CAT).xlsx'\n",
      " 'https://www2.aneel.gov.br/aplicacoes/tarifa/arquivo/PCAT_EPB_2014_CAT.xlsx']\n"
     ]
    },
    {
     "name": "stderr",
     "output_type": "stream",
     "text": [
      "D:\\python_projects\\cpfl\\web_scrapper\\venv_scraper\\lib\\site-packages\\urllib3\\connectionpool.py:1043: InsecureRequestWarning: Unverified HTTPS request is being made to host 'www2.aneel.gov.br'. Adding certificate verification is strongly advised. See: https://urllib3.readthedocs.io/en/1.26.x/advanced-usage.html#ssl-warnings\n",
      "  warnings.warn(\n",
      "D:\\python_projects\\cpfl\\web_scrapper\\venv_scraper\\lib\\site-packages\\urllib3\\connectionpool.py:1043: InsecureRequestWarning: Unverified HTTPS request is being made to host 'www2.aneel.gov.br'. Adding certificate verification is strongly advised. See: https://urllib3.readthedocs.io/en/1.26.x/advanced-usage.html#ssl-warnings\n",
      "  warnings.warn(\n"
     ]
    },
    {
     "name": "stdout",
     "output_type": "stream",
     "text": [
      "Arquivo: \"PCAT_EPB_2015-03-02_REVISAOEXTRAORDINARIA_(PCATEPB2014CAT).xlsx\" foi baixado com sucesso\n",
      "['PCAT_EPB_2016-08-28_REAJUSTE_(PCATEPB2016).xlsx'\n",
      " 'https://www2.aneel.gov.br/aplicacoes/tarifa/arquivo/PCAT_EPB_2016.xlsx']\n",
      "Arquivo: \"PCAT_EPB_2015-03-02_REVISAOEXTRAORDINARIA_(PCATEPB2014CAT).xlsx\" foi baixado com sucesso\n",
      "['PCAT_EPB_2016-08-28_REAJUSTE_(PCATEPB2016).xlsx'\n",
      " 'https://www2.aneel.gov.br/aplicacoes/tarifa/arquivo/PCAT_EPB_2016.xlsx']\n"
     ]
    },
    {
     "name": "stderr",
     "output_type": "stream",
     "text": [
      "D:\\python_projects\\cpfl\\web_scrapper\\venv_scraper\\lib\\site-packages\\urllib3\\connectionpool.py:1043: InsecureRequestWarning: Unverified HTTPS request is being made to host 'www2.aneel.gov.br'. Adding certificate verification is strongly advised. See: https://urllib3.readthedocs.io/en/1.26.x/advanced-usage.html#ssl-warnings\n",
      "  warnings.warn(\n",
      "D:\\python_projects\\cpfl\\web_scrapper\\venv_scraper\\lib\\site-packages\\urllib3\\connectionpool.py:1043: InsecureRequestWarning: Unverified HTTPS request is being made to host 'www2.aneel.gov.br'. Adding certificate verification is strongly advised. See: https://urllib3.readthedocs.io/en/1.26.x/advanced-usage.html#ssl-warnings\n",
      "  warnings.warn(\n"
     ]
    },
    {
     "name": "stdout",
     "output_type": "stream",
     "text": [
      "Arquivo: \"PCAT_EPB_2016-08-28_REAJUSTE_(PCATEPB2016).xlsx\" foi baixado com sucesso\n",
      "['PCAT_EPB_2017-08-28_REVISAO_(PCATINTERNETEPB2017).xlsx'\n",
      " 'https://www2.aneel.gov.br/aplicacoes/tarifa/arquivo/PCAT_Internet_EPB_2017.xlsx']\n",
      "Arquivo: \"PCAT_EPB_2016-08-28_REAJUSTE_(PCATEPB2016).xlsx\" foi baixado com sucesso\n",
      "['PCAT_EPB_2017-08-28_REVISAO_(PCATINTERNETEPB2017).xlsx'\n",
      " 'https://www2.aneel.gov.br/aplicacoes/tarifa/arquivo/PCAT_Internet_EPB_2017.xlsx']\n"
     ]
    },
    {
     "name": "stderr",
     "output_type": "stream",
     "text": [
      "D:\\python_projects\\cpfl\\web_scrapper\\venv_scraper\\lib\\site-packages\\urllib3\\connectionpool.py:1043: InsecureRequestWarning: Unverified HTTPS request is being made to host 'www2.aneel.gov.br'. Adding certificate verification is strongly advised. See: https://urllib3.readthedocs.io/en/1.26.x/advanced-usage.html#ssl-warnings\n",
      "  warnings.warn(\n",
      "D:\\python_projects\\cpfl\\web_scrapper\\venv_scraper\\lib\\site-packages\\urllib3\\connectionpool.py:1043: InsecureRequestWarning: Unverified HTTPS request is being made to host 'www2.aneel.gov.br'. Adding certificate verification is strongly advised. See: https://urllib3.readthedocs.io/en/1.26.x/advanced-usage.html#ssl-warnings\n",
      "  warnings.warn(\n"
     ]
    },
    {
     "name": "stdout",
     "output_type": "stream",
     "text": [
      "Arquivo: \"PCAT_EPB_2017-08-28_REVISAO_(PCATINTERNETEPB2017).xlsx\" foi baixado com sucesso\n",
      "['PCAT_EPB_2018-08-28_REAJUSTE_(PCATEPB2018).xlsx'\n",
      " 'https://www2.aneel.gov.br/aplicacoes/tarifa/arquivo/PCAT_EPB_2018 .xlsx']\n",
      "Arquivo: \"PCAT_EPB_2017-08-28_REVISAO_(PCATINTERNETEPB2017).xlsx\" foi baixado com sucesso\n",
      "['PCAT_EPB_2018-08-28_REAJUSTE_(PCATEPB2018).xlsx'\n",
      " 'https://www2.aneel.gov.br/aplicacoes/tarifa/arquivo/PCAT_EPB_2018 .xlsx']\n"
     ]
    },
    {
     "name": "stderr",
     "output_type": "stream",
     "text": [
      "D:\\python_projects\\cpfl\\web_scrapper\\venv_scraper\\lib\\site-packages\\urllib3\\connectionpool.py:1043: InsecureRequestWarning: Unverified HTTPS request is being made to host 'www2.aneel.gov.br'. Adding certificate verification is strongly advised. See: https://urllib3.readthedocs.io/en/1.26.x/advanced-usage.html#ssl-warnings\n",
      "  warnings.warn(\n",
      "D:\\python_projects\\cpfl\\web_scrapper\\venv_scraper\\lib\\site-packages\\urllib3\\connectionpool.py:1043: InsecureRequestWarning: Unverified HTTPS request is being made to host 'www2.aneel.gov.br'. Adding certificate verification is strongly advised. See: https://urllib3.readthedocs.io/en/1.26.x/advanced-usage.html#ssl-warnings\n",
      "  warnings.warn(\n"
     ]
    },
    {
     "name": "stdout",
     "output_type": "stream",
     "text": [
      "Arquivo: \"PCAT_EPB_2018-08-28_REAJUSTE_(PCATEPB2018).xlsx\" foi baixado com sucesso\n",
      "['PCAT_EPB_2019-08-28_REAJUSTE_(6600PCATEPB2019).xlsx'\n",
      " 'https://www2.aneel.gov.br/aplicacoes/tarifa/arquivo/6600 PCAT EPB 2019.xlsx']\n",
      "Arquivo: \"PCAT_EPB_2018-08-28_REAJUSTE_(PCATEPB2018).xlsx\" foi baixado com sucesso\n",
      "['PCAT_EPB_2019-08-28_REAJUSTE_(6600PCATEPB2019).xlsx'\n",
      " 'https://www2.aneel.gov.br/aplicacoes/tarifa/arquivo/6600 PCAT EPB 2019.xlsx']\n"
     ]
    },
    {
     "name": "stderr",
     "output_type": "stream",
     "text": [
      "D:\\python_projects\\cpfl\\web_scrapper\\venv_scraper\\lib\\site-packages\\urllib3\\connectionpool.py:1043: InsecureRequestWarning: Unverified HTTPS request is being made to host 'www2.aneel.gov.br'. Adding certificate verification is strongly advised. See: https://urllib3.readthedocs.io/en/1.26.x/advanced-usage.html#ssl-warnings\n",
      "  warnings.warn(\n",
      "D:\\python_projects\\cpfl\\web_scrapper\\venv_scraper\\lib\\site-packages\\urllib3\\connectionpool.py:1043: InsecureRequestWarning: Unverified HTTPS request is being made to host 'www2.aneel.gov.br'. Adding certificate verification is strongly advised. See: https://urllib3.readthedocs.io/en/1.26.x/advanced-usage.html#ssl-warnings\n",
      "  warnings.warn(\n"
     ]
    },
    {
     "name": "stdout",
     "output_type": "stream",
     "text": [
      "Arquivo: \"PCAT_EPB_2019-08-28_REAJUSTE_(6600PCATEPB2019).xlsx\" foi baixado com sucesso\n",
      "['PCAT_EPB_2020-08-28_REAJUSTE_(6600PCATEPB2020V02).xlsx'\n",
      " 'https://www2.aneel.gov.br/aplicacoes/tarifa/arquivo/6600 PCAT EPB 2020 V02.xlsx']\n",
      "Arquivo: \"PCAT_EPB_2019-08-28_REAJUSTE_(6600PCATEPB2019).xlsx\" foi baixado com sucesso\n",
      "['PCAT_EPB_2020-08-28_REAJUSTE_(6600PCATEPB2020V02).xlsx'\n",
      " 'https://www2.aneel.gov.br/aplicacoes/tarifa/arquivo/6600 PCAT EPB 2020 V02.xlsx']\n"
     ]
    },
    {
     "name": "stderr",
     "output_type": "stream",
     "text": [
      "D:\\python_projects\\cpfl\\web_scrapper\\venv_scraper\\lib\\site-packages\\urllib3\\connectionpool.py:1043: InsecureRequestWarning: Unverified HTTPS request is being made to host 'www2.aneel.gov.br'. Adding certificate verification is strongly advised. See: https://urllib3.readthedocs.io/en/1.26.x/advanced-usage.html#ssl-warnings\n",
      "  warnings.warn(\n",
      "D:\\python_projects\\cpfl\\web_scrapper\\venv_scraper\\lib\\site-packages\\urllib3\\connectionpool.py:1043: InsecureRequestWarning: Unverified HTTPS request is being made to host 'www2.aneel.gov.br'. Adding certificate verification is strongly advised. See: https://urllib3.readthedocs.io/en/1.26.x/advanced-usage.html#ssl-warnings\n",
      "  warnings.warn(\n"
     ]
    },
    {
     "name": "stdout",
     "output_type": "stream",
     "text": [
      "Arquivo: \"PCAT_EPB_2020-08-28_REAJUSTE_(6600PCATEPB2020V02).xlsx\" foi baixado com sucesso\n",
      "['PCAT_EPB_2021-08-28_REVISAO_(6600PCATEPB2021V02).xlsx'\n",
      " 'https://www2.aneel.gov.br/aplicacoes/tarifa/arquivo/6600 PCAT EPB 2021 V02.xlsx']\n",
      "Arquivo: \"PCAT_EPB_2020-08-28_REAJUSTE_(6600PCATEPB2020V02).xlsx\" foi baixado com sucesso\n",
      "['PCAT_EPB_2021-08-28_REVISAO_(6600PCATEPB2021V02).xlsx'\n",
      " 'https://www2.aneel.gov.br/aplicacoes/tarifa/arquivo/6600 PCAT EPB 2021 V02.xlsx']\n"
     ]
    },
    {
     "name": "stderr",
     "output_type": "stream",
     "text": [
      "D:\\python_projects\\cpfl\\web_scrapper\\venv_scraper\\lib\\site-packages\\urllib3\\connectionpool.py:1043: InsecureRequestWarning: Unverified HTTPS request is being made to host 'www2.aneel.gov.br'. Adding certificate verification is strongly advised. See: https://urllib3.readthedocs.io/en/1.26.x/advanced-usage.html#ssl-warnings\n",
      "  warnings.warn(\n",
      "D:\\python_projects\\cpfl\\web_scrapper\\venv_scraper\\lib\\site-packages\\urllib3\\connectionpool.py:1043: InsecureRequestWarning: Unverified HTTPS request is being made to host 'www2.aneel.gov.br'. Adding certificate verification is strongly advised. See: https://urllib3.readthedocs.io/en/1.26.x/advanced-usage.html#ssl-warnings\n",
      "  warnings.warn(\n"
     ]
    },
    {
     "name": "stdout",
     "output_type": "stream",
     "text": [
      "Arquivo: \"PCAT_EPB_2021-08-28_REVISAO_(6600PCATEPB2021V02).xlsx\" foi baixado com sucesso\n",
      "['PCAT_EQUATORIALAL_2014-08-26_REAJUSTE_(PCATCEAL2014).xlsx'\n",
      " 'https://www2.aneel.gov.br/aplicacoes/tarifa/arquivo/PCAT_CEAL_2014.xlsx']\n",
      "Arquivo: \"PCAT_EPB_2021-08-28_REVISAO_(6600PCATEPB2021V02).xlsx\" foi baixado com sucesso\n",
      "['PCAT_EQUATORIALAL_2014-08-26_REAJUSTE_(PCATCEAL2014).xlsx'\n",
      " 'https://www2.aneel.gov.br/aplicacoes/tarifa/arquivo/PCAT_CEAL_2014.xlsx']\n"
     ]
    },
    {
     "name": "stderr",
     "output_type": "stream",
     "text": [
      "D:\\python_projects\\cpfl\\web_scrapper\\venv_scraper\\lib\\site-packages\\urllib3\\connectionpool.py:1043: InsecureRequestWarning: Unverified HTTPS request is being made to host 'www2.aneel.gov.br'. Adding certificate verification is strongly advised. See: https://urllib3.readthedocs.io/en/1.26.x/advanced-usage.html#ssl-warnings\n",
      "  warnings.warn(\n",
      "D:\\python_projects\\cpfl\\web_scrapper\\venv_scraper\\lib\\site-packages\\urllib3\\connectionpool.py:1043: InsecureRequestWarning: Unverified HTTPS request is being made to host 'www2.aneel.gov.br'. Adding certificate verification is strongly advised. See: https://urllib3.readthedocs.io/en/1.26.x/advanced-usage.html#ssl-warnings\n",
      "  warnings.warn(\n"
     ]
    },
    {
     "name": "stdout",
     "output_type": "stream",
     "text": [
      "Arquivo: \"PCAT_EQUATORIALAL_2014-08-26_REAJUSTE_(PCATCEAL2014).xlsx\" foi baixado com sucesso\n",
      "['PCAT_EQUATORIALAL_2015-08-28_REAJUSTE_(PCATCEAL20151).xlsx'\n",
      " 'https://www2.aneel.gov.br/aplicacoes/tarifa/arquivo/PCAT_Ceal_20151.xlsx']\n",
      "Arquivo: \"PCAT_EQUATORIALAL_2014-08-26_REAJUSTE_(PCATCEAL2014).xlsx\" foi baixado com sucesso\n",
      "['PCAT_EQUATORIALAL_2015-08-28_REAJUSTE_(PCATCEAL20151).xlsx'\n",
      " 'https://www2.aneel.gov.br/aplicacoes/tarifa/arquivo/PCAT_Ceal_20151.xlsx']\n"
     ]
    },
    {
     "name": "stderr",
     "output_type": "stream",
     "text": [
      "D:\\python_projects\\cpfl\\web_scrapper\\venv_scraper\\lib\\site-packages\\urllib3\\connectionpool.py:1043: InsecureRequestWarning: Unverified HTTPS request is being made to host 'www2.aneel.gov.br'. Adding certificate verification is strongly advised. See: https://urllib3.readthedocs.io/en/1.26.x/advanced-usage.html#ssl-warnings\n",
      "  warnings.warn(\n",
      "D:\\python_projects\\cpfl\\web_scrapper\\venv_scraper\\lib\\site-packages\\urllib3\\connectionpool.py:1043: InsecureRequestWarning: Unverified HTTPS request is being made to host 'www2.aneel.gov.br'. Adding certificate verification is strongly advised. See: https://urllib3.readthedocs.io/en/1.26.x/advanced-usage.html#ssl-warnings\n",
      "  warnings.warn(\n"
     ]
    },
    {
     "name": "stdout",
     "output_type": "stream",
     "text": [
      "Arquivo: \"PCAT_EQUATORIALAL_2015-08-28_REAJUSTE_(PCATCEAL20151).xlsx\" foi baixado com sucesso\n",
      "['PCAT_EQUATORIALAL_2015-03-02_REVISAOEXTRAORDINARIA_(PCATCEAL2014CAT).xlsx'\n",
      " 'https://www2.aneel.gov.br/aplicacoes/tarifa/arquivo/PCAT_CEAL_2014_CAT.xlsx']\n",
      "Arquivo: \"PCAT_EQUATORIALAL_2015-08-28_REAJUSTE_(PCATCEAL20151).xlsx\" foi baixado com sucesso\n",
      "['PCAT_EQUATORIALAL_2015-03-02_REVISAOEXTRAORDINARIA_(PCATCEAL2014CAT).xlsx'\n",
      " 'https://www2.aneel.gov.br/aplicacoes/tarifa/arquivo/PCAT_CEAL_2014_CAT.xlsx']\n"
     ]
    },
    {
     "name": "stderr",
     "output_type": "stream",
     "text": [
      "D:\\python_projects\\cpfl\\web_scrapper\\venv_scraper\\lib\\site-packages\\urllib3\\connectionpool.py:1043: InsecureRequestWarning: Unverified HTTPS request is being made to host 'www2.aneel.gov.br'. Adding certificate verification is strongly advised. See: https://urllib3.readthedocs.io/en/1.26.x/advanced-usage.html#ssl-warnings\n",
      "  warnings.warn(\n",
      "D:\\python_projects\\cpfl\\web_scrapper\\venv_scraper\\lib\\site-packages\\urllib3\\connectionpool.py:1043: InsecureRequestWarning: Unverified HTTPS request is being made to host 'www2.aneel.gov.br'. Adding certificate verification is strongly advised. See: https://urllib3.readthedocs.io/en/1.26.x/advanced-usage.html#ssl-warnings\n",
      "  warnings.warn(\n"
     ]
    },
    {
     "name": "stdout",
     "output_type": "stream",
     "text": [
      "Arquivo: \"PCAT_EQUATORIALAL_2015-03-02_REVISAOEXTRAORDINARIA_(PCATCEAL2014CAT).xlsx\" foi baixado com sucesso\n",
      "['PCAT_EQUATORIALAL_2016-09-28_REAJUSTE_(PCATCEAL2016).xlsx'\n",
      " 'https://www2.aneel.gov.br/aplicacoes/tarifa/arquivo/PCAT_Ceal_2016.xlsx']\n",
      "Arquivo: \"PCAT_EQUATORIALAL_2015-03-02_REVISAOEXTRAORDINARIA_(PCATCEAL2014CAT).xlsx\" foi baixado com sucesso\n",
      "['PCAT_EQUATORIALAL_2016-09-28_REAJUSTE_(PCATCEAL2016).xlsx'\n",
      " 'https://www2.aneel.gov.br/aplicacoes/tarifa/arquivo/PCAT_Ceal_2016.xlsx']\n"
     ]
    },
    {
     "name": "stderr",
     "output_type": "stream",
     "text": [
      "D:\\python_projects\\cpfl\\web_scrapper\\venv_scraper\\lib\\site-packages\\urllib3\\connectionpool.py:1043: InsecureRequestWarning: Unverified HTTPS request is being made to host 'www2.aneel.gov.br'. Adding certificate verification is strongly advised. See: https://urllib3.readthedocs.io/en/1.26.x/advanced-usage.html#ssl-warnings\n",
      "  warnings.warn(\n",
      "D:\\python_projects\\cpfl\\web_scrapper\\venv_scraper\\lib\\site-packages\\urllib3\\connectionpool.py:1043: InsecureRequestWarning: Unverified HTTPS request is being made to host 'www2.aneel.gov.br'. Adding certificate verification is strongly advised. See: https://urllib3.readthedocs.io/en/1.26.x/advanced-usage.html#ssl-warnings\n",
      "  warnings.warn(\n"
     ]
    },
    {
     "name": "stdout",
     "output_type": "stream",
     "text": [
      "Arquivo: \"PCAT_EQUATORIALAL_2016-09-28_REAJUSTE_(PCATCEAL2016).xlsx\" foi baixado com sucesso\n",
      "['PCAT_EQUATORIALAL_2017-09-28_REAJUSTE_(PCATCEAL2017V02).xlsx'\n",
      " 'https://www2.aneel.gov.br/aplicacoes/tarifa/arquivo/PCAT Ceal 2017 V02.xlsx']\n",
      "Arquivo: \"PCAT_EQUATORIALAL_2016-09-28_REAJUSTE_(PCATCEAL2016).xlsx\" foi baixado com sucesso\n",
      "['PCAT_EQUATORIALAL_2017-09-28_REAJUSTE_(PCATCEAL2017V02).xlsx'\n",
      " 'https://www2.aneel.gov.br/aplicacoes/tarifa/arquivo/PCAT Ceal 2017 V02.xlsx']\n"
     ]
    },
    {
     "name": "stderr",
     "output_type": "stream",
     "text": [
      "D:\\python_projects\\cpfl\\web_scrapper\\venv_scraper\\lib\\site-packages\\urllib3\\connectionpool.py:1043: InsecureRequestWarning: Unverified HTTPS request is being made to host 'www2.aneel.gov.br'. Adding certificate verification is strongly advised. See: https://urllib3.readthedocs.io/en/1.26.x/advanced-usage.html#ssl-warnings\n",
      "  warnings.warn(\n",
      "D:\\python_projects\\cpfl\\web_scrapper\\venv_scraper\\lib\\site-packages\\urllib3\\connectionpool.py:1043: InsecureRequestWarning: Unverified HTTPS request is being made to host 'www2.aneel.gov.br'. Adding certificate verification is strongly advised. See: https://urllib3.readthedocs.io/en/1.26.x/advanced-usage.html#ssl-warnings\n",
      "  warnings.warn(\n"
     ]
    },
    {
     "name": "stdout",
     "output_type": "stream",
     "text": [
      "Arquivo: \"PCAT_EQUATORIALAL_2017-09-28_REAJUSTE_(PCATCEAL2017V02).xlsx\" foi baixado com sucesso\n",
      "['PCAT_EQUATORIALAL_2018-09-28_REAJUSTE_(PCATCEAL2018).xlsx'\n",
      " 'https://www2.aneel.gov.br/aplicacoes/tarifa/arquivo/PCAT_Ceal_2018 .xlsx']\n",
      "Arquivo: \"PCAT_EQUATORIALAL_2017-09-28_REAJUSTE_(PCATCEAL2017V02).xlsx\" foi baixado com sucesso\n",
      "['PCAT_EQUATORIALAL_2018-09-28_REAJUSTE_(PCATCEAL2018).xlsx'\n",
      " 'https://www2.aneel.gov.br/aplicacoes/tarifa/arquivo/PCAT_Ceal_2018 .xlsx']\n"
     ]
    },
    {
     "name": "stderr",
     "output_type": "stream",
     "text": [
      "D:\\python_projects\\cpfl\\web_scrapper\\venv_scraper\\lib\\site-packages\\urllib3\\connectionpool.py:1043: InsecureRequestWarning: Unverified HTTPS request is being made to host 'www2.aneel.gov.br'. Adding certificate verification is strongly advised. See: https://urllib3.readthedocs.io/en/1.26.x/advanced-usage.html#ssl-warnings\n",
      "  warnings.warn(\n",
      "D:\\python_projects\\cpfl\\web_scrapper\\venv_scraper\\lib\\site-packages\\urllib3\\connectionpool.py:1043: InsecureRequestWarning: Unverified HTTPS request is being made to host 'www2.aneel.gov.br'. Adding certificate verification is strongly advised. See: https://urllib3.readthedocs.io/en/1.26.x/advanced-usage.html#ssl-warnings\n",
      "  warnings.warn(\n"
     ]
    },
    {
     "name": "stdout",
     "output_type": "stream",
     "text": [
      "Arquivo: \"PCAT_EQUATORIALAL_2018-09-28_REAJUSTE_(PCATCEAL2018).xlsx\" foi baixado com sucesso\n",
      "['PCAT_EQUATORIALAL_2019-04-03_REAJUSTE_(PCATCEAL2019).xlsx'\n",
      " 'https://www2.aneel.gov.br/aplicacoes/tarifa/arquivo/PCAT_CEAL_2019.xlsx']\n",
      "Arquivo: \"PCAT_EQUATORIALAL_2018-09-28_REAJUSTE_(PCATCEAL2018).xlsx\" foi baixado com sucesso\n",
      "['PCAT_EQUATORIALAL_2019-04-03_REAJUSTE_(PCATCEAL2019).xlsx'\n",
      " 'https://www2.aneel.gov.br/aplicacoes/tarifa/arquivo/PCAT_CEAL_2019.xlsx']\n"
     ]
    },
    {
     "name": "stderr",
     "output_type": "stream",
     "text": [
      "D:\\python_projects\\cpfl\\web_scrapper\\venv_scraper\\lib\\site-packages\\urllib3\\connectionpool.py:1043: InsecureRequestWarning: Unverified HTTPS request is being made to host 'www2.aneel.gov.br'. Adding certificate verification is strongly advised. See: https://urllib3.readthedocs.io/en/1.26.x/advanced-usage.html#ssl-warnings\n",
      "  warnings.warn(\n",
      "D:\\python_projects\\cpfl\\web_scrapper\\venv_scraper\\lib\\site-packages\\urllib3\\connectionpool.py:1043: InsecureRequestWarning: Unverified HTTPS request is being made to host 'www2.aneel.gov.br'. Adding certificate verification is strongly advised. See: https://urllib3.readthedocs.io/en/1.26.x/advanced-usage.html#ssl-warnings\n",
      "  warnings.warn(\n"
     ]
    },
    {
     "name": "stdout",
     "output_type": "stream",
     "text": [
      "Arquivo: \"PCAT_EQUATORIALAL_2019-04-03_REAJUSTE_(PCATCEAL2019).xlsx\" foi baixado com sucesso\n",
      "['PCAT_EQUATORIALAL_2020-05-03_REVISAOEXTRAORDINARIA_(PCATCEAL2020V02).xlsx'\n",
      " 'https://www2.aneel.gov.br/aplicacoes/tarifa/arquivo/PCAT_Ceal 2020 V02.xlsx']\n",
      "Arquivo: \"PCAT_EQUATORIALAL_2019-04-03_REAJUSTE_(PCATCEAL2019).xlsx\" foi baixado com sucesso\n",
      "['PCAT_EQUATORIALAL_2020-05-03_REVISAOEXTRAORDINARIA_(PCATCEAL2020V02).xlsx'\n",
      " 'https://www2.aneel.gov.br/aplicacoes/tarifa/arquivo/PCAT_Ceal 2020 V02.xlsx']\n"
     ]
    },
    {
     "name": "stderr",
     "output_type": "stream",
     "text": [
      "D:\\python_projects\\cpfl\\web_scrapper\\venv_scraper\\lib\\site-packages\\urllib3\\connectionpool.py:1043: InsecureRequestWarning: Unverified HTTPS request is being made to host 'www2.aneel.gov.br'. Adding certificate verification is strongly advised. See: https://urllib3.readthedocs.io/en/1.26.x/advanced-usage.html#ssl-warnings\n",
      "  warnings.warn(\n",
      "D:\\python_projects\\cpfl\\web_scrapper\\venv_scraper\\lib\\site-packages\\urllib3\\connectionpool.py:1043: InsecureRequestWarning: Unverified HTTPS request is being made to host 'www2.aneel.gov.br'. Adding certificate verification is strongly advised. See: https://urllib3.readthedocs.io/en/1.26.x/advanced-usage.html#ssl-warnings\n",
      "  warnings.warn(\n"
     ]
    },
    {
     "name": "stdout",
     "output_type": "stream",
     "text": [
      "Arquivo: \"PCAT_EQUATORIALAL_2020-05-03_REVISAOEXTRAORDINARIA_(PCATCEAL2020V02).xlsx\" foi baixado com sucesso\n",
      "['PCAT_EQUATORIALAL_2021-05-03_REAJUSTE_(44PCATCEAL2021V02).xlsx'\n",
      " 'https://www2.aneel.gov.br/aplicacoes/tarifa/arquivo/44 PCAT Ceal 2021 V02.xlsx']\n",
      "Arquivo: \"PCAT_EQUATORIALAL_2020-05-03_REVISAOEXTRAORDINARIA_(PCATCEAL2020V02).xlsx\" foi baixado com sucesso\n",
      "['PCAT_EQUATORIALAL_2021-05-03_REAJUSTE_(44PCATCEAL2021V02).xlsx'\n",
      " 'https://www2.aneel.gov.br/aplicacoes/tarifa/arquivo/44 PCAT Ceal 2021 V02.xlsx']\n"
     ]
    },
    {
     "name": "stderr",
     "output_type": "stream",
     "text": [
      "D:\\python_projects\\cpfl\\web_scrapper\\venv_scraper\\lib\\site-packages\\urllib3\\connectionpool.py:1043: InsecureRequestWarning: Unverified HTTPS request is being made to host 'www2.aneel.gov.br'. Adding certificate verification is strongly advised. See: https://urllib3.readthedocs.io/en/1.26.x/advanced-usage.html#ssl-warnings\n",
      "  warnings.warn(\n",
      "D:\\python_projects\\cpfl\\web_scrapper\\venv_scraper\\lib\\site-packages\\urllib3\\connectionpool.py:1043: InsecureRequestWarning: Unverified HTTPS request is being made to host 'www2.aneel.gov.br'. Adding certificate verification is strongly advised. See: https://urllib3.readthedocs.io/en/1.26.x/advanced-usage.html#ssl-warnings\n",
      "  warnings.warn(\n"
     ]
    },
    {
     "name": "stdout",
     "output_type": "stream",
     "text": [
      "Arquivo: \"PCAT_EQUATORIALAL_2021-05-03_REAJUSTE_(44PCATCEAL2021V02).xlsx\" foi baixado com sucesso\n",
      "['PCAT_EQUATORIALMA_2014-08-26_REAJUSTE_(PCATCEMAR2014).xlsx'\n",
      " 'https://www2.aneel.gov.br/aplicacoes/tarifa/arquivo/PCAT_CEMAR_2014.xlsx']\n",
      "Arquivo: \"PCAT_EQUATORIALAL_2021-05-03_REAJUSTE_(44PCATCEAL2021V02).xlsx\" foi baixado com sucesso\n",
      "['PCAT_EQUATORIALMA_2014-08-26_REAJUSTE_(PCATCEMAR2014).xlsx'\n",
      " 'https://www2.aneel.gov.br/aplicacoes/tarifa/arquivo/PCAT_CEMAR_2014.xlsx']\n"
     ]
    },
    {
     "name": "stderr",
     "output_type": "stream",
     "text": [
      "D:\\python_projects\\cpfl\\web_scrapper\\venv_scraper\\lib\\site-packages\\urllib3\\connectionpool.py:1043: InsecureRequestWarning: Unverified HTTPS request is being made to host 'www2.aneel.gov.br'. Adding certificate verification is strongly advised. See: https://urllib3.readthedocs.io/en/1.26.x/advanced-usage.html#ssl-warnings\n",
      "  warnings.warn(\n",
      "D:\\python_projects\\cpfl\\web_scrapper\\venv_scraper\\lib\\site-packages\\urllib3\\connectionpool.py:1043: InsecureRequestWarning: Unverified HTTPS request is being made to host 'www2.aneel.gov.br'. Adding certificate verification is strongly advised. See: https://urllib3.readthedocs.io/en/1.26.x/advanced-usage.html#ssl-warnings\n",
      "  warnings.warn(\n"
     ]
    },
    {
     "name": "stdout",
     "output_type": "stream",
     "text": [
      "Arquivo: \"PCAT_EQUATORIALMA_2014-08-26_REAJUSTE_(PCATCEMAR2014).xlsx\" foi baixado com sucesso\n",
      "['PCAT_EQUATORIALMA_2015-08-28_REAJUSTE_(PCATCEMAR2015).xlsx'\n",
      " 'https://www2.aneel.gov.br/aplicacoes/tarifa/arquivo/PCAT_Cemar_2015.xlsx']\n",
      "Arquivo: \"PCAT_EQUATORIALMA_2014-08-26_REAJUSTE_(PCATCEMAR2014).xlsx\" foi baixado com sucesso\n",
      "['PCAT_EQUATORIALMA_2015-08-28_REAJUSTE_(PCATCEMAR2015).xlsx'\n",
      " 'https://www2.aneel.gov.br/aplicacoes/tarifa/arquivo/PCAT_Cemar_2015.xlsx']\n"
     ]
    },
    {
     "name": "stderr",
     "output_type": "stream",
     "text": [
      "D:\\python_projects\\cpfl\\web_scrapper\\venv_scraper\\lib\\site-packages\\urllib3\\connectionpool.py:1043: InsecureRequestWarning: Unverified HTTPS request is being made to host 'www2.aneel.gov.br'. Adding certificate verification is strongly advised. See: https://urllib3.readthedocs.io/en/1.26.x/advanced-usage.html#ssl-warnings\n",
      "  warnings.warn(\n",
      "D:\\python_projects\\cpfl\\web_scrapper\\venv_scraper\\lib\\site-packages\\urllib3\\connectionpool.py:1043: InsecureRequestWarning: Unverified HTTPS request is being made to host 'www2.aneel.gov.br'. Adding certificate verification is strongly advised. See: https://urllib3.readthedocs.io/en/1.26.x/advanced-usage.html#ssl-warnings\n",
      "  warnings.warn(\n"
     ]
    },
    {
     "name": "stdout",
     "output_type": "stream",
     "text": [
      "Arquivo: \"PCAT_EQUATORIALMA_2015-08-28_REAJUSTE_(PCATCEMAR2015).xlsx\" foi baixado com sucesso\n",
      "['PCAT_EQUATORIALMA_2015-03-02_REVISAOEXTRAORDINARIA_(PCATCEMAR2014CAT).xlsx'\n",
      " 'https://www2.aneel.gov.br/aplicacoes/tarifa/arquivo/PCAT_CEMAR_2014_CAT.xlsx']\n",
      "Arquivo: \"PCAT_EQUATORIALMA_2015-08-28_REAJUSTE_(PCATCEMAR2015).xlsx\" foi baixado com sucesso\n",
      "['PCAT_EQUATORIALMA_2015-03-02_REVISAOEXTRAORDINARIA_(PCATCEMAR2014CAT).xlsx'\n",
      " 'https://www2.aneel.gov.br/aplicacoes/tarifa/arquivo/PCAT_CEMAR_2014_CAT.xlsx']\n"
     ]
    },
    {
     "name": "stderr",
     "output_type": "stream",
     "text": [
      "D:\\python_projects\\cpfl\\web_scrapper\\venv_scraper\\lib\\site-packages\\urllib3\\connectionpool.py:1043: InsecureRequestWarning: Unverified HTTPS request is being made to host 'www2.aneel.gov.br'. Adding certificate verification is strongly advised. See: https://urllib3.readthedocs.io/en/1.26.x/advanced-usage.html#ssl-warnings\n",
      "  warnings.warn(\n",
      "D:\\python_projects\\cpfl\\web_scrapper\\venv_scraper\\lib\\site-packages\\urllib3\\connectionpool.py:1043: InsecureRequestWarning: Unverified HTTPS request is being made to host 'www2.aneel.gov.br'. Adding certificate verification is strongly advised. See: https://urllib3.readthedocs.io/en/1.26.x/advanced-usage.html#ssl-warnings\n",
      "  warnings.warn(\n"
     ]
    },
    {
     "name": "stdout",
     "output_type": "stream",
     "text": [
      "Arquivo: \"PCAT_EQUATORIALMA_2015-03-02_REVISAOEXTRAORDINARIA_(PCATCEMAR2014CAT).xlsx\" foi baixado com sucesso\n",
      "['PCAT_EQUATORIALMA_2016-08-28_REAJUSTE_(PCATCEMAR2016).xlsx'\n",
      " 'https://www2.aneel.gov.br/aplicacoes/tarifa/arquivo/PCAT_Cemar_2016.xlsx']\n",
      "Arquivo: \"PCAT_EQUATORIALMA_2015-03-02_REVISAOEXTRAORDINARIA_(PCATCEMAR2014CAT).xlsx\" foi baixado com sucesso\n",
      "['PCAT_EQUATORIALMA_2016-08-28_REAJUSTE_(PCATCEMAR2016).xlsx'\n",
      " 'https://www2.aneel.gov.br/aplicacoes/tarifa/arquivo/PCAT_Cemar_2016.xlsx']\n"
     ]
    },
    {
     "name": "stderr",
     "output_type": "stream",
     "text": [
      "D:\\python_projects\\cpfl\\web_scrapper\\venv_scraper\\lib\\site-packages\\urllib3\\connectionpool.py:1043: InsecureRequestWarning: Unverified HTTPS request is being made to host 'www2.aneel.gov.br'. Adding certificate verification is strongly advised. See: https://urllib3.readthedocs.io/en/1.26.x/advanced-usage.html#ssl-warnings\n",
      "  warnings.warn(\n",
      "D:\\python_projects\\cpfl\\web_scrapper\\venv_scraper\\lib\\site-packages\\urllib3\\connectionpool.py:1043: InsecureRequestWarning: Unverified HTTPS request is being made to host 'www2.aneel.gov.br'. Adding certificate verification is strongly advised. See: https://urllib3.readthedocs.io/en/1.26.x/advanced-usage.html#ssl-warnings\n",
      "  warnings.warn(\n"
     ]
    },
    {
     "name": "stdout",
     "output_type": "stream",
     "text": [
      "Arquivo: \"PCAT_EQUATORIALMA_2016-08-28_REAJUSTE_(PCATCEMAR2016).xlsx\" foi baixado com sucesso\n",
      "['PCAT_EQUATORIALMA_2017-08-28_REAJUSTE_(PCATCEMAR2017).xlsx'\n",
      " 'https://www2.aneel.gov.br/aplicacoes/tarifa/arquivo/PCAT_Cemar_2017.xlsx']\n",
      "Arquivo: \"PCAT_EQUATORIALMA_2016-08-28_REAJUSTE_(PCATCEMAR2016).xlsx\" foi baixado com sucesso\n",
      "['PCAT_EQUATORIALMA_2017-08-28_REAJUSTE_(PCATCEMAR2017).xlsx'\n",
      " 'https://www2.aneel.gov.br/aplicacoes/tarifa/arquivo/PCAT_Cemar_2017.xlsx']\n"
     ]
    },
    {
     "name": "stderr",
     "output_type": "stream",
     "text": [
      "D:\\python_projects\\cpfl\\web_scrapper\\venv_scraper\\lib\\site-packages\\urllib3\\connectionpool.py:1043: InsecureRequestWarning: Unverified HTTPS request is being made to host 'www2.aneel.gov.br'. Adding certificate verification is strongly advised. See: https://urllib3.readthedocs.io/en/1.26.x/advanced-usage.html#ssl-warnings\n",
      "  warnings.warn(\n",
      "D:\\python_projects\\cpfl\\web_scrapper\\venv_scraper\\lib\\site-packages\\urllib3\\connectionpool.py:1043: InsecureRequestWarning: Unverified HTTPS request is being made to host 'www2.aneel.gov.br'. Adding certificate verification is strongly advised. See: https://urllib3.readthedocs.io/en/1.26.x/advanced-usage.html#ssl-warnings\n",
      "  warnings.warn(\n"
     ]
    },
    {
     "name": "stdout",
     "output_type": "stream",
     "text": [
      "Arquivo: \"PCAT_EQUATORIALMA_2017-08-28_REAJUSTE_(PCATCEMAR2017).xlsx\" foi baixado com sucesso\n",
      "['PCAT_EQUATORIALMA_2018-08-28_REAJUSTE_(PCATCEMAR2018).xlsx'\n",
      " 'https://www2.aneel.gov.br/aplicacoes/tarifa/arquivo/PCAT_Cemar_2018 .xlsx']\n",
      "Arquivo: \"PCAT_EQUATORIALMA_2017-08-28_REAJUSTE_(PCATCEMAR2017).xlsx\" foi baixado com sucesso\n",
      "['PCAT_EQUATORIALMA_2018-08-28_REAJUSTE_(PCATCEMAR2018).xlsx'\n",
      " 'https://www2.aneel.gov.br/aplicacoes/tarifa/arquivo/PCAT_Cemar_2018 .xlsx']\n"
     ]
    },
    {
     "name": "stderr",
     "output_type": "stream",
     "text": [
      "D:\\python_projects\\cpfl\\web_scrapper\\venv_scraper\\lib\\site-packages\\urllib3\\connectionpool.py:1043: InsecureRequestWarning: Unverified HTTPS request is being made to host 'www2.aneel.gov.br'. Adding certificate verification is strongly advised. See: https://urllib3.readthedocs.io/en/1.26.x/advanced-usage.html#ssl-warnings\n",
      "  warnings.warn(\n",
      "D:\\python_projects\\cpfl\\web_scrapper\\venv_scraper\\lib\\site-packages\\urllib3\\connectionpool.py:1043: InsecureRequestWarning: Unverified HTTPS request is being made to host 'www2.aneel.gov.br'. Adding certificate verification is strongly advised. See: https://urllib3.readthedocs.io/en/1.26.x/advanced-usage.html#ssl-warnings\n",
      "  warnings.warn(\n"
     ]
    },
    {
     "name": "stdout",
     "output_type": "stream",
     "text": [
      "Arquivo: \"PCAT_EQUATORIALMA_2018-08-28_REAJUSTE_(PCATCEMAR2018).xlsx\" foi baixado com sucesso\n",
      "['PCAT_EQUATORIALMA_2019-08-28_REAJUSTE_(37PCATCEMAR2019).xlsx'\n",
      " 'https://www2.aneel.gov.br/aplicacoes/tarifa/arquivo/37_PCAT_CEMAR_2019.xlsx']\n",
      "Arquivo: \"PCAT_EQUATORIALMA_2018-08-28_REAJUSTE_(PCATCEMAR2018).xlsx\" foi baixado com sucesso\n",
      "['PCAT_EQUATORIALMA_2019-08-28_REAJUSTE_(37PCATCEMAR2019).xlsx'\n",
      " 'https://www2.aneel.gov.br/aplicacoes/tarifa/arquivo/37_PCAT_CEMAR_2019.xlsx']\n"
     ]
    },
    {
     "name": "stderr",
     "output_type": "stream",
     "text": [
      "D:\\python_projects\\cpfl\\web_scrapper\\venv_scraper\\lib\\site-packages\\urllib3\\connectionpool.py:1043: InsecureRequestWarning: Unverified HTTPS request is being made to host 'www2.aneel.gov.br'. Adding certificate verification is strongly advised. See: https://urllib3.readthedocs.io/en/1.26.x/advanced-usage.html#ssl-warnings\n",
      "  warnings.warn(\n",
      "D:\\python_projects\\cpfl\\web_scrapper\\venv_scraper\\lib\\site-packages\\urllib3\\connectionpool.py:1043: InsecureRequestWarning: Unverified HTTPS request is being made to host 'www2.aneel.gov.br'. Adding certificate verification is strongly advised. See: https://urllib3.readthedocs.io/en/1.26.x/advanced-usage.html#ssl-warnings\n",
      "  warnings.warn(\n"
     ]
    },
    {
     "name": "stdout",
     "output_type": "stream",
     "text": [
      "Arquivo: \"PCAT_EQUATORIALMA_2019-08-28_REAJUSTE_(37PCATCEMAR2019).xlsx\" foi baixado com sucesso\n",
      "['PCAT_EQUATORIALMA_2020-08-28_REAJUSTE_(37PCATCEMAR2020V02).xlsx'\n",
      " 'https://www2.aneel.gov.br/aplicacoes/tarifa/arquivo/37 PCAT Cemar 2020 V02.xlsx']\n",
      "Arquivo: \"PCAT_EQUATORIALMA_2019-08-28_REAJUSTE_(37PCATCEMAR2019).xlsx\" foi baixado com sucesso\n",
      "['PCAT_EQUATORIALMA_2020-08-28_REAJUSTE_(37PCATCEMAR2020V02).xlsx'\n",
      " 'https://www2.aneel.gov.br/aplicacoes/tarifa/arquivo/37 PCAT Cemar 2020 V02.xlsx']\n"
     ]
    },
    {
     "name": "stderr",
     "output_type": "stream",
     "text": [
      "D:\\python_projects\\cpfl\\web_scrapper\\venv_scraper\\lib\\site-packages\\urllib3\\connectionpool.py:1043: InsecureRequestWarning: Unverified HTTPS request is being made to host 'www2.aneel.gov.br'. Adding certificate verification is strongly advised. See: https://urllib3.readthedocs.io/en/1.26.x/advanced-usage.html#ssl-warnings\n",
      "  warnings.warn(\n",
      "D:\\python_projects\\cpfl\\web_scrapper\\venv_scraper\\lib\\site-packages\\urllib3\\connectionpool.py:1043: InsecureRequestWarning: Unverified HTTPS request is being made to host 'www2.aneel.gov.br'. Adding certificate verification is strongly advised. See: https://urllib3.readthedocs.io/en/1.26.x/advanced-usage.html#ssl-warnings\n",
      "  warnings.warn(\n"
     ]
    },
    {
     "name": "stdout",
     "output_type": "stream",
     "text": [
      "Arquivo: \"PCAT_EQUATORIALMA_2020-08-28_REAJUSTE_(37PCATCEMAR2020V02).xlsx\" foi baixado com sucesso\n",
      "['PCAT_EQUATORIALMA_2021-08-28_REVISAO_(37PCATCEMAR2021V02).xlsx'\n",
      " 'https://www2.aneel.gov.br/aplicacoes/tarifa/arquivo/37 PCAT Cemar 2021 V02.xlsx']\n",
      "Arquivo: \"PCAT_EQUATORIALMA_2020-08-28_REAJUSTE_(37PCATCEMAR2020V02).xlsx\" foi baixado com sucesso\n",
      "['PCAT_EQUATORIALMA_2021-08-28_REVISAO_(37PCATCEMAR2021V02).xlsx'\n",
      " 'https://www2.aneel.gov.br/aplicacoes/tarifa/arquivo/37 PCAT Cemar 2021 V02.xlsx']\n"
     ]
    },
    {
     "name": "stderr",
     "output_type": "stream",
     "text": [
      "D:\\python_projects\\cpfl\\web_scrapper\\venv_scraper\\lib\\site-packages\\urllib3\\connectionpool.py:1043: InsecureRequestWarning: Unverified HTTPS request is being made to host 'www2.aneel.gov.br'. Adding certificate verification is strongly advised. See: https://urllib3.readthedocs.io/en/1.26.x/advanced-usage.html#ssl-warnings\n",
      "  warnings.warn(\n",
      "D:\\python_projects\\cpfl\\web_scrapper\\venv_scraper\\lib\\site-packages\\urllib3\\connectionpool.py:1043: InsecureRequestWarning: Unverified HTTPS request is being made to host 'www2.aneel.gov.br'. Adding certificate verification is strongly advised. See: https://urllib3.readthedocs.io/en/1.26.x/advanced-usage.html#ssl-warnings\n",
      "  warnings.warn(\n"
     ]
    },
    {
     "name": "stdout",
     "output_type": "stream",
     "text": [
      "Arquivo: \"PCAT_EQUATORIALMA_2021-08-28_REVISAO_(37PCATCEMAR2021V02).xlsx\" foi baixado com sucesso\n",
      "['PCAT_EQUATORIALPA_2013-08-07_REAJUSTE_(PCATCELPA2013).xlsx'\n",
      " 'https://www2.aneel.gov.br/aplicacoes/tarifa/arquivo/PCAT_CELPA_2013.xlsx']\n",
      "Arquivo: \"PCAT_EQUATORIALMA_2021-08-28_REVISAO_(37PCATCEMAR2021V02).xlsx\" foi baixado com sucesso\n",
      "['PCAT_EQUATORIALPA_2013-08-07_REAJUSTE_(PCATCELPA2013).xlsx'\n",
      " 'https://www2.aneel.gov.br/aplicacoes/tarifa/arquivo/PCAT_CELPA_2013.xlsx']\n"
     ]
    },
    {
     "name": "stderr",
     "output_type": "stream",
     "text": [
      "D:\\python_projects\\cpfl\\web_scrapper\\venv_scraper\\lib\\site-packages\\urllib3\\connectionpool.py:1043: InsecureRequestWarning: Unverified HTTPS request is being made to host 'www2.aneel.gov.br'. Adding certificate verification is strongly advised. See: https://urllib3.readthedocs.io/en/1.26.x/advanced-usage.html#ssl-warnings\n",
      "  warnings.warn(\n",
      "D:\\python_projects\\cpfl\\web_scrapper\\venv_scraper\\lib\\site-packages\\urllib3\\connectionpool.py:1043: InsecureRequestWarning: Unverified HTTPS request is being made to host 'www2.aneel.gov.br'. Adding certificate verification is strongly advised. See: https://urllib3.readthedocs.io/en/1.26.x/advanced-usage.html#ssl-warnings\n",
      "  warnings.warn(\n"
     ]
    },
    {
     "name": "stdout",
     "output_type": "stream",
     "text": [
      "Arquivo: \"PCAT_EQUATORIALPA_2013-08-07_REAJUSTE_(PCATCELPA2013).xlsx\" foi baixado com sucesso\n",
      "['PCAT_EQUATORIALPA_2014-08-07_REAJUSTE_(PCATCELPA2014).xlsx'\n",
      " 'https://www2.aneel.gov.br/aplicacoes/tarifa/arquivo/PCAT_CELPA_2014.xlsx']\n",
      "Arquivo: \"PCAT_EQUATORIALPA_2013-08-07_REAJUSTE_(PCATCELPA2013).xlsx\" foi baixado com sucesso\n",
      "['PCAT_EQUATORIALPA_2014-08-07_REAJUSTE_(PCATCELPA2014).xlsx'\n",
      " 'https://www2.aneel.gov.br/aplicacoes/tarifa/arquivo/PCAT_CELPA_2014.xlsx']\n"
     ]
    },
    {
     "name": "stderr",
     "output_type": "stream",
     "text": [
      "D:\\python_projects\\cpfl\\web_scrapper\\venv_scraper\\lib\\site-packages\\urllib3\\connectionpool.py:1043: InsecureRequestWarning: Unverified HTTPS request is being made to host 'www2.aneel.gov.br'. Adding certificate verification is strongly advised. See: https://urllib3.readthedocs.io/en/1.26.x/advanced-usage.html#ssl-warnings\n",
      "  warnings.warn(\n",
      "D:\\python_projects\\cpfl\\web_scrapper\\venv_scraper\\lib\\site-packages\\urllib3\\connectionpool.py:1043: InsecureRequestWarning: Unverified HTTPS request is being made to host 'www2.aneel.gov.br'. Adding certificate verification is strongly advised. See: https://urllib3.readthedocs.io/en/1.26.x/advanced-usage.html#ssl-warnings\n",
      "  warnings.warn(\n"
     ]
    },
    {
     "name": "stdout",
     "output_type": "stream",
     "text": [
      "Arquivo: \"PCAT_EQUATORIALPA_2014-08-07_REAJUSTE_(PCATCELPA2014).xlsx\" foi baixado com sucesso\n",
      "['PCAT_EQUATORIALPA_2015-08-07_REVISAO_(PCATCELPA2015).xlsx'\n",
      " 'https://www2.aneel.gov.br/aplicacoes/tarifa/arquivo/PCAT_Celpa_2015.xlsx']\n",
      "Arquivo: \"PCAT_EQUATORIALPA_2014-08-07_REAJUSTE_(PCATCELPA2014).xlsx\" foi baixado com sucesso\n",
      "['PCAT_EQUATORIALPA_2015-08-07_REVISAO_(PCATCELPA2015).xlsx'\n",
      " 'https://www2.aneel.gov.br/aplicacoes/tarifa/arquivo/PCAT_Celpa_2015.xlsx']\n"
     ]
    },
    {
     "name": "stderr",
     "output_type": "stream",
     "text": [
      "D:\\python_projects\\cpfl\\web_scrapper\\venv_scraper\\lib\\site-packages\\urllib3\\connectionpool.py:1043: InsecureRequestWarning: Unverified HTTPS request is being made to host 'www2.aneel.gov.br'. Adding certificate verification is strongly advised. See: https://urllib3.readthedocs.io/en/1.26.x/advanced-usage.html#ssl-warnings\n",
      "  warnings.warn(\n",
      "D:\\python_projects\\cpfl\\web_scrapper\\venv_scraper\\lib\\site-packages\\urllib3\\connectionpool.py:1043: InsecureRequestWarning: Unverified HTTPS request is being made to host 'www2.aneel.gov.br'. Adding certificate verification is strongly advised. See: https://urllib3.readthedocs.io/en/1.26.x/advanced-usage.html#ssl-warnings\n",
      "  warnings.warn(\n"
     ]
    },
    {
     "name": "stdout",
     "output_type": "stream",
     "text": [
      "Arquivo: \"PCAT_EQUATORIALPA_2015-08-07_REVISAO_(PCATCELPA2015).xlsx\" foi baixado com sucesso\n",
      "['PCAT_EQUATORIALPA_2015-03-02_REVISAOEXTRAORDINARIA_(PCATCELPA2014V00).xlsx'\n",
      " 'https://www2.aneel.gov.br/aplicacoes/tarifa/arquivo/PCAT_CELPA_2014_V00.xlsx']\n",
      "Arquivo: \"PCAT_EQUATORIALPA_2015-08-07_REVISAO_(PCATCELPA2015).xlsx\" foi baixado com sucesso\n",
      "['PCAT_EQUATORIALPA_2015-03-02_REVISAOEXTRAORDINARIA_(PCATCELPA2014V00).xlsx'\n",
      " 'https://www2.aneel.gov.br/aplicacoes/tarifa/arquivo/PCAT_CELPA_2014_V00.xlsx']\n"
     ]
    },
    {
     "name": "stderr",
     "output_type": "stream",
     "text": [
      "D:\\python_projects\\cpfl\\web_scrapper\\venv_scraper\\lib\\site-packages\\urllib3\\connectionpool.py:1043: InsecureRequestWarning: Unverified HTTPS request is being made to host 'www2.aneel.gov.br'. Adding certificate verification is strongly advised. See: https://urllib3.readthedocs.io/en/1.26.x/advanced-usage.html#ssl-warnings\n",
      "  warnings.warn(\n",
      "D:\\python_projects\\cpfl\\web_scrapper\\venv_scraper\\lib\\site-packages\\urllib3\\connectionpool.py:1043: InsecureRequestWarning: Unverified HTTPS request is being made to host 'www2.aneel.gov.br'. Adding certificate verification is strongly advised. See: https://urllib3.readthedocs.io/en/1.26.x/advanced-usage.html#ssl-warnings\n",
      "  warnings.warn(\n"
     ]
    },
    {
     "name": "stdout",
     "output_type": "stream",
     "text": [
      "Arquivo: \"PCAT_EQUATORIALPA_2015-03-02_REVISAOEXTRAORDINARIA_(PCATCELPA2014V00).xlsx\" foi baixado com sucesso\n",
      "['PCAT_EQUATORIALPA_2016-08-07_REAJUSTE_(PCATCELPA2016).xlsx'\n",
      " 'https://www2.aneel.gov.br/aplicacoes/tarifa/arquivo/PCAT_Celpa_2016.xlsx']\n",
      "Arquivo: \"PCAT_EQUATORIALPA_2015-03-02_REVISAOEXTRAORDINARIA_(PCATCELPA2014V00).xlsx\" foi baixado com sucesso\n",
      "['PCAT_EQUATORIALPA_2016-08-07_REAJUSTE_(PCATCELPA2016).xlsx'\n",
      " 'https://www2.aneel.gov.br/aplicacoes/tarifa/arquivo/PCAT_Celpa_2016.xlsx']\n"
     ]
    },
    {
     "name": "stderr",
     "output_type": "stream",
     "text": [
      "D:\\python_projects\\cpfl\\web_scrapper\\venv_scraper\\lib\\site-packages\\urllib3\\connectionpool.py:1043: InsecureRequestWarning: Unverified HTTPS request is being made to host 'www2.aneel.gov.br'. Adding certificate verification is strongly advised. See: https://urllib3.readthedocs.io/en/1.26.x/advanced-usage.html#ssl-warnings\n",
      "  warnings.warn(\n",
      "D:\\python_projects\\cpfl\\web_scrapper\\venv_scraper\\lib\\site-packages\\urllib3\\connectionpool.py:1043: InsecureRequestWarning: Unverified HTTPS request is being made to host 'www2.aneel.gov.br'. Adding certificate verification is strongly advised. See: https://urllib3.readthedocs.io/en/1.26.x/advanced-usage.html#ssl-warnings\n",
      "  warnings.warn(\n"
     ]
    },
    {
     "name": "stdout",
     "output_type": "stream",
     "text": [
      "Arquivo: \"PCAT_EQUATORIALPA_2016-08-07_REAJUSTE_(PCATCELPA2016).xlsx\" foi baixado com sucesso\n",
      "['PCAT_EQUATORIALPA_2017-08-07_REAJUSTE_(PCATCELPA2017).xlsx'\n",
      " 'https://www2.aneel.gov.br/aplicacoes/tarifa/arquivo/PCAT_CELPA_2017.xlsx']\n",
      "Arquivo: \"PCAT_EQUATORIALPA_2016-08-07_REAJUSTE_(PCATCELPA2016).xlsx\" foi baixado com sucesso\n",
      "['PCAT_EQUATORIALPA_2017-08-07_REAJUSTE_(PCATCELPA2017).xlsx'\n",
      " 'https://www2.aneel.gov.br/aplicacoes/tarifa/arquivo/PCAT_CELPA_2017.xlsx']\n"
     ]
    },
    {
     "name": "stderr",
     "output_type": "stream",
     "text": [
      "D:\\python_projects\\cpfl\\web_scrapper\\venv_scraper\\lib\\site-packages\\urllib3\\connectionpool.py:1043: InsecureRequestWarning: Unverified HTTPS request is being made to host 'www2.aneel.gov.br'. Adding certificate verification is strongly advised. See: https://urllib3.readthedocs.io/en/1.26.x/advanced-usage.html#ssl-warnings\n",
      "  warnings.warn(\n",
      "D:\\python_projects\\cpfl\\web_scrapper\\venv_scraper\\lib\\site-packages\\urllib3\\connectionpool.py:1043: InsecureRequestWarning: Unverified HTTPS request is being made to host 'www2.aneel.gov.br'. Adding certificate verification is strongly advised. See: https://urllib3.readthedocs.io/en/1.26.x/advanced-usage.html#ssl-warnings\n",
      "  warnings.warn(\n"
     ]
    },
    {
     "name": "stdout",
     "output_type": "stream",
     "text": [
      "Arquivo: \"PCAT_EQUATORIALPA_2017-08-07_REAJUSTE_(PCATCELPA2017).xlsx\" foi baixado com sucesso\n",
      "['PCAT_EQUATORIALPA_2018-08-29_REAJUSTE_(PCATCELPA2018).xlsx'\n",
      " 'https://www2.aneel.gov.br/aplicacoes/tarifa/arquivo/PCAT_Celpa_2018 .xlsx']\n",
      "Arquivo: \"PCAT_EQUATORIALPA_2017-08-07_REAJUSTE_(PCATCELPA2017).xlsx\" foi baixado com sucesso\n",
      "['PCAT_EQUATORIALPA_2018-08-29_REAJUSTE_(PCATCELPA2018).xlsx'\n",
      " 'https://www2.aneel.gov.br/aplicacoes/tarifa/arquivo/PCAT_Celpa_2018 .xlsx']\n"
     ]
    },
    {
     "name": "stderr",
     "output_type": "stream",
     "text": [
      "D:\\python_projects\\cpfl\\web_scrapper\\venv_scraper\\lib\\site-packages\\urllib3\\connectionpool.py:1043: InsecureRequestWarning: Unverified HTTPS request is being made to host 'www2.aneel.gov.br'. Adding certificate verification is strongly advised. See: https://urllib3.readthedocs.io/en/1.26.x/advanced-usage.html#ssl-warnings\n",
      "  warnings.warn(\n",
      "D:\\python_projects\\cpfl\\web_scrapper\\venv_scraper\\lib\\site-packages\\urllib3\\connectionpool.py:1043: InsecureRequestWarning: Unverified HTTPS request is being made to host 'www2.aneel.gov.br'. Adding certificate verification is strongly advised. See: https://urllib3.readthedocs.io/en/1.26.x/advanced-usage.html#ssl-warnings\n",
      "  warnings.warn(\n"
     ]
    },
    {
     "name": "stdout",
     "output_type": "stream",
     "text": [
      "Arquivo: \"PCAT_EQUATORIALPA_2018-08-29_REAJUSTE_(PCATCELPA2018).xlsx\" foi baixado com sucesso\n",
      "['PCAT_EQUATORIALPA_2019-08-07_REVISAO_(371PCATCELPA2019).xlsx'\n",
      " 'https://www2.aneel.gov.br/aplicacoes/tarifa/arquivo/371 PCAT Celpa 2019.xlsx']\n",
      "Arquivo: \"PCAT_EQUATORIALPA_2018-08-29_REAJUSTE_(PCATCELPA2018).xlsx\" foi baixado com sucesso\n",
      "['PCAT_EQUATORIALPA_2019-08-07_REVISAO_(371PCATCELPA2019).xlsx'\n",
      " 'https://www2.aneel.gov.br/aplicacoes/tarifa/arquivo/371 PCAT Celpa 2019.xlsx']\n"
     ]
    },
    {
     "name": "stderr",
     "output_type": "stream",
     "text": [
      "D:\\python_projects\\cpfl\\web_scrapper\\venv_scraper\\lib\\site-packages\\urllib3\\connectionpool.py:1043: InsecureRequestWarning: Unverified HTTPS request is being made to host 'www2.aneel.gov.br'. Adding certificate verification is strongly advised. See: https://urllib3.readthedocs.io/en/1.26.x/advanced-usage.html#ssl-warnings\n",
      "  warnings.warn(\n",
      "D:\\python_projects\\cpfl\\web_scrapper\\venv_scraper\\lib\\site-packages\\urllib3\\connectionpool.py:1043: InsecureRequestWarning: Unverified HTTPS request is being made to host 'www2.aneel.gov.br'. Adding certificate verification is strongly advised. See: https://urllib3.readthedocs.io/en/1.26.x/advanced-usage.html#ssl-warnings\n",
      "  warnings.warn(\n"
     ]
    },
    {
     "name": "stdout",
     "output_type": "stream",
     "text": [
      "Arquivo: \"PCAT_EQUATORIALPA_2019-08-07_REVISAO_(371PCATCELPA2019).xlsx\" foi baixado com sucesso\n",
      "['PCAT_EQUATORIALPA_2020-08-07_REAJUSTE_(371PCATCELPA2020V0230JUL).xlsx'\n",
      " 'https://www2.aneel.gov.br/aplicacoes/tarifa/arquivo/371 PCAT Celpa 2020 V02-30jul.xlsx']\n",
      "Arquivo: \"PCAT_EQUATORIALPA_2019-08-07_REVISAO_(371PCATCELPA2019).xlsx\" foi baixado com sucesso\n",
      "['PCAT_EQUATORIALPA_2020-08-07_REAJUSTE_(371PCATCELPA2020V0230JUL).xlsx'\n",
      " 'https://www2.aneel.gov.br/aplicacoes/tarifa/arquivo/371 PCAT Celpa 2020 V02-30jul.xlsx']\n"
     ]
    },
    {
     "name": "stderr",
     "output_type": "stream",
     "text": [
      "D:\\python_projects\\cpfl\\web_scrapper\\venv_scraper\\lib\\site-packages\\urllib3\\connectionpool.py:1043: InsecureRequestWarning: Unverified HTTPS request is being made to host 'www2.aneel.gov.br'. Adding certificate verification is strongly advised. See: https://urllib3.readthedocs.io/en/1.26.x/advanced-usage.html#ssl-warnings\n",
      "  warnings.warn(\n",
      "D:\\python_projects\\cpfl\\web_scrapper\\venv_scraper\\lib\\site-packages\\urllib3\\connectionpool.py:1043: InsecureRequestWarning: Unverified HTTPS request is being made to host 'www2.aneel.gov.br'. Adding certificate verification is strongly advised. See: https://urllib3.readthedocs.io/en/1.26.x/advanced-usage.html#ssl-warnings\n",
      "  warnings.warn(\n"
     ]
    },
    {
     "name": "stdout",
     "output_type": "stream",
     "text": [
      "Arquivo: \"PCAT_EQUATORIALPA_2020-08-07_REAJUSTE_(371PCATCELPA2020V0230JUL).xlsx\" foi baixado com sucesso\n",
      "['PCAT_EQUATORIALPA_2021-08-07_REAJUSTE_(371PCATCELPA2021V02).xlsx'\n",
      " 'https://www2.aneel.gov.br/aplicacoes/tarifa/arquivo/371 PCAT Celpa 2021 V02.xlsx']\n",
      "Arquivo: \"PCAT_EQUATORIALPA_2020-08-07_REAJUSTE_(371PCATCELPA2020V0230JUL).xlsx\" foi baixado com sucesso\n",
      "['PCAT_EQUATORIALPA_2021-08-07_REAJUSTE_(371PCATCELPA2021V02).xlsx'\n",
      " 'https://www2.aneel.gov.br/aplicacoes/tarifa/arquivo/371 PCAT Celpa 2021 V02.xlsx']\n"
     ]
    },
    {
     "name": "stderr",
     "output_type": "stream",
     "text": [
      "D:\\python_projects\\cpfl\\web_scrapper\\venv_scraper\\lib\\site-packages\\urllib3\\connectionpool.py:1043: InsecureRequestWarning: Unverified HTTPS request is being made to host 'www2.aneel.gov.br'. Adding certificate verification is strongly advised. See: https://urllib3.readthedocs.io/en/1.26.x/advanced-usage.html#ssl-warnings\n",
      "  warnings.warn(\n",
      "D:\\python_projects\\cpfl\\web_scrapper\\venv_scraper\\lib\\site-packages\\urllib3\\connectionpool.py:1043: InsecureRequestWarning: Unverified HTTPS request is being made to host 'www2.aneel.gov.br'. Adding certificate verification is strongly advised. See: https://urllib3.readthedocs.io/en/1.26.x/advanced-usage.html#ssl-warnings\n",
      "  warnings.warn(\n"
     ]
    },
    {
     "name": "stdout",
     "output_type": "stream",
     "text": [
      "Arquivo: \"PCAT_EQUATORIALPA_2021-08-07_REAJUSTE_(371PCATCELPA2021V02).xlsx\" foi baixado com sucesso\n",
      "['PCAT_EQUATORIALPI_2014-08-26_REAJUSTE_(PCATCEPISA2014).xlsx'\n",
      " 'https://www2.aneel.gov.br/aplicacoes/tarifa/arquivo/PCAT_CEPISA_2014.xlsx']\n",
      "Arquivo: \"PCAT_EQUATORIALPA_2021-08-07_REAJUSTE_(371PCATCELPA2021V02).xlsx\" foi baixado com sucesso\n",
      "['PCAT_EQUATORIALPI_2014-08-26_REAJUSTE_(PCATCEPISA2014).xlsx'\n",
      " 'https://www2.aneel.gov.br/aplicacoes/tarifa/arquivo/PCAT_CEPISA_2014.xlsx']\n"
     ]
    },
    {
     "name": "stderr",
     "output_type": "stream",
     "text": [
      "D:\\python_projects\\cpfl\\web_scrapper\\venv_scraper\\lib\\site-packages\\urllib3\\connectionpool.py:1043: InsecureRequestWarning: Unverified HTTPS request is being made to host 'www2.aneel.gov.br'. Adding certificate verification is strongly advised. See: https://urllib3.readthedocs.io/en/1.26.x/advanced-usage.html#ssl-warnings\n",
      "  warnings.warn(\n",
      "D:\\python_projects\\cpfl\\web_scrapper\\venv_scraper\\lib\\site-packages\\urllib3\\connectionpool.py:1043: InsecureRequestWarning: Unverified HTTPS request is being made to host 'www2.aneel.gov.br'. Adding certificate verification is strongly advised. See: https://urllib3.readthedocs.io/en/1.26.x/advanced-usage.html#ssl-warnings\n",
      "  warnings.warn(\n"
     ]
    },
    {
     "name": "stdout",
     "output_type": "stream",
     "text": [
      "Arquivo: \"PCAT_EQUATORIALPI_2014-08-26_REAJUSTE_(PCATCEPISA2014).xlsx\" foi baixado com sucesso\n",
      "['PCAT_EQUATORIALPI_2015-08-28_REAJUSTE_(PCATCEPISA2015).xlsx'\n",
      " 'https://www2.aneel.gov.br/aplicacoes/tarifa/arquivo/PCAT_Cepisa_2015.xlsx']\n",
      "Arquivo: \"PCAT_EQUATORIALPI_2014-08-26_REAJUSTE_(PCATCEPISA2014).xlsx\" foi baixado com sucesso\n",
      "['PCAT_EQUATORIALPI_2015-08-28_REAJUSTE_(PCATCEPISA2015).xlsx'\n",
      " 'https://www2.aneel.gov.br/aplicacoes/tarifa/arquivo/PCAT_Cepisa_2015.xlsx']\n"
     ]
    },
    {
     "name": "stderr",
     "output_type": "stream",
     "text": [
      "D:\\python_projects\\cpfl\\web_scrapper\\venv_scraper\\lib\\site-packages\\urllib3\\connectionpool.py:1043: InsecureRequestWarning: Unverified HTTPS request is being made to host 'www2.aneel.gov.br'. Adding certificate verification is strongly advised. See: https://urllib3.readthedocs.io/en/1.26.x/advanced-usage.html#ssl-warnings\n",
      "  warnings.warn(\n",
      "D:\\python_projects\\cpfl\\web_scrapper\\venv_scraper\\lib\\site-packages\\urllib3\\connectionpool.py:1043: InsecureRequestWarning: Unverified HTTPS request is being made to host 'www2.aneel.gov.br'. Adding certificate verification is strongly advised. See: https://urllib3.readthedocs.io/en/1.26.x/advanced-usage.html#ssl-warnings\n",
      "  warnings.warn(\n"
     ]
    },
    {
     "name": "stdout",
     "output_type": "stream",
     "text": [
      "Arquivo: \"PCAT_EQUATORIALPI_2015-08-28_REAJUSTE_(PCATCEPISA2015).xlsx\" foi baixado com sucesso\n",
      "['PCAT_EQUATORIALPI_2015-03-02_REVISAOEXTRAORDINARIA_(PCATCEPISA2014CAT).xlsx'\n",
      " 'https://www2.aneel.gov.br/aplicacoes/tarifa/arquivo/PCAT_CEPISA_2014_CAT.xlsx']\n",
      "Arquivo: \"PCAT_EQUATORIALPI_2015-08-28_REAJUSTE_(PCATCEPISA2015).xlsx\" foi baixado com sucesso\n",
      "['PCAT_EQUATORIALPI_2015-03-02_REVISAOEXTRAORDINARIA_(PCATCEPISA2014CAT).xlsx'\n",
      " 'https://www2.aneel.gov.br/aplicacoes/tarifa/arquivo/PCAT_CEPISA_2014_CAT.xlsx']\n"
     ]
    },
    {
     "name": "stderr",
     "output_type": "stream",
     "text": [
      "D:\\python_projects\\cpfl\\web_scrapper\\venv_scraper\\lib\\site-packages\\urllib3\\connectionpool.py:1043: InsecureRequestWarning: Unverified HTTPS request is being made to host 'www2.aneel.gov.br'. Adding certificate verification is strongly advised. See: https://urllib3.readthedocs.io/en/1.26.x/advanced-usage.html#ssl-warnings\n",
      "  warnings.warn(\n",
      "D:\\python_projects\\cpfl\\web_scrapper\\venv_scraper\\lib\\site-packages\\urllib3\\connectionpool.py:1043: InsecureRequestWarning: Unverified HTTPS request is being made to host 'www2.aneel.gov.br'. Adding certificate verification is strongly advised. See: https://urllib3.readthedocs.io/en/1.26.x/advanced-usage.html#ssl-warnings\n",
      "  warnings.warn(\n"
     ]
    },
    {
     "name": "stdout",
     "output_type": "stream",
     "text": [
      "Arquivo: \"PCAT_EQUATORIALPI_2015-03-02_REVISAOEXTRAORDINARIA_(PCATCEPISA2014CAT).xlsx\" foi baixado com sucesso\n",
      "['PCAT_EQUATORIALPI_2016-09-28_REAJUSTE_(PCATCEPISA2016).xlsx'\n",
      " 'https://www2.aneel.gov.br/aplicacoes/tarifa/arquivo/PCAT_Cepisa_2016.xlsx']\n",
      "Arquivo: \"PCAT_EQUATORIALPI_2015-03-02_REVISAOEXTRAORDINARIA_(PCATCEPISA2014CAT).xlsx\" foi baixado com sucesso\n",
      "['PCAT_EQUATORIALPI_2016-09-28_REAJUSTE_(PCATCEPISA2016).xlsx'\n",
      " 'https://www2.aneel.gov.br/aplicacoes/tarifa/arquivo/PCAT_Cepisa_2016.xlsx']\n"
     ]
    },
    {
     "name": "stderr",
     "output_type": "stream",
     "text": [
      "D:\\python_projects\\cpfl\\web_scrapper\\venv_scraper\\lib\\site-packages\\urllib3\\connectionpool.py:1043: InsecureRequestWarning: Unverified HTTPS request is being made to host 'www2.aneel.gov.br'. Adding certificate verification is strongly advised. See: https://urllib3.readthedocs.io/en/1.26.x/advanced-usage.html#ssl-warnings\n",
      "  warnings.warn(\n",
      "D:\\python_projects\\cpfl\\web_scrapper\\venv_scraper\\lib\\site-packages\\urllib3\\connectionpool.py:1043: InsecureRequestWarning: Unverified HTTPS request is being made to host 'www2.aneel.gov.br'. Adding certificate verification is strongly advised. See: https://urllib3.readthedocs.io/en/1.26.x/advanced-usage.html#ssl-warnings\n",
      "  warnings.warn(\n"
     ]
    },
    {
     "name": "stdout",
     "output_type": "stream",
     "text": [
      "Arquivo: \"PCAT_EQUATORIALPI_2016-09-28_REAJUSTE_(PCATCEPISA2016).xlsx\" foi baixado com sucesso\n",
      "['PCAT_EQUATORIALPI_2017-09-28_REAJUSTE_(PCATCEPISA2017).xlsx'\n",
      " 'https://www2.aneel.gov.br/aplicacoes/tarifa/arquivo/PCAT_Cepisa_2017.xlsx']\n",
      "Arquivo: \"PCAT_EQUATORIALPI_2016-09-28_REAJUSTE_(PCATCEPISA2016).xlsx\" foi baixado com sucesso\n",
      "['PCAT_EQUATORIALPI_2017-09-28_REAJUSTE_(PCATCEPISA2017).xlsx'\n",
      " 'https://www2.aneel.gov.br/aplicacoes/tarifa/arquivo/PCAT_Cepisa_2017.xlsx']\n"
     ]
    },
    {
     "name": "stderr",
     "output_type": "stream",
     "text": [
      "D:\\python_projects\\cpfl\\web_scrapper\\venv_scraper\\lib\\site-packages\\urllib3\\connectionpool.py:1043: InsecureRequestWarning: Unverified HTTPS request is being made to host 'www2.aneel.gov.br'. Adding certificate verification is strongly advised. See: https://urllib3.readthedocs.io/en/1.26.x/advanced-usage.html#ssl-warnings\n",
      "  warnings.warn(\n",
      "D:\\python_projects\\cpfl\\web_scrapper\\venv_scraper\\lib\\site-packages\\urllib3\\connectionpool.py:1043: InsecureRequestWarning: Unverified HTTPS request is being made to host 'www2.aneel.gov.br'. Adding certificate verification is strongly advised. See: https://urllib3.readthedocs.io/en/1.26.x/advanced-usage.html#ssl-warnings\n",
      "  warnings.warn(\n"
     ]
    },
    {
     "name": "stdout",
     "output_type": "stream",
     "text": [
      "Arquivo: \"PCAT_EQUATORIALPI_2017-09-28_REAJUSTE_(PCATCEPISA2017).xlsx\" foi baixado com sucesso\n",
      "['PCAT_EQUATORIALPI_2018-12-02_REAJUSTE_(PCATCEPISA2018).xlsx'\n",
      " 'https://www2.aneel.gov.br/aplicacoes/tarifa/arquivo/PCAT_Cepisa_2018.xlsx']\n",
      "Arquivo: \"PCAT_EQUATORIALPI_2017-09-28_REAJUSTE_(PCATCEPISA2017).xlsx\" foi baixado com sucesso\n",
      "['PCAT_EQUATORIALPI_2018-12-02_REAJUSTE_(PCATCEPISA2018).xlsx'\n",
      " 'https://www2.aneel.gov.br/aplicacoes/tarifa/arquivo/PCAT_Cepisa_2018.xlsx']\n"
     ]
    },
    {
     "name": "stderr",
     "output_type": "stream",
     "text": [
      "D:\\python_projects\\cpfl\\web_scrapper\\venv_scraper\\lib\\site-packages\\urllib3\\connectionpool.py:1043: InsecureRequestWarning: Unverified HTTPS request is being made to host 'www2.aneel.gov.br'. Adding certificate verification is strongly advised. See: https://urllib3.readthedocs.io/en/1.26.x/advanced-usage.html#ssl-warnings\n",
      "  warnings.warn(\n",
      "D:\\python_projects\\cpfl\\web_scrapper\\venv_scraper\\lib\\site-packages\\urllib3\\connectionpool.py:1043: InsecureRequestWarning: Unverified HTTPS request is being made to host 'www2.aneel.gov.br'. Adding certificate verification is strongly advised. See: https://urllib3.readthedocs.io/en/1.26.x/advanced-usage.html#ssl-warnings\n",
      "  warnings.warn(\n"
     ]
    },
    {
     "name": "stdout",
     "output_type": "stream",
     "text": [
      "Arquivo: \"PCAT_EQUATORIALPI_2018-12-02_REAJUSTE_(PCATCEPISA2018).xlsx\" foi baixado com sucesso\n",
      "['PCAT_EQUATORIALPI_2019-11-30_REAJUSTE_(38PCATCEPISA2019V02).xlsx'\n",
      " 'https://www2.aneel.gov.br/aplicacoes/tarifa/arquivo/38 PCAT Cepisa 2019 V02.xlsx']\n",
      "Arquivo: \"PCAT_EQUATORIALPI_2018-12-02_REAJUSTE_(PCATCEPISA2018).xlsx\" foi baixado com sucesso\n",
      "['PCAT_EQUATORIALPI_2019-11-30_REAJUSTE_(38PCATCEPISA2019V02).xlsx'\n",
      " 'https://www2.aneel.gov.br/aplicacoes/tarifa/arquivo/38 PCAT Cepisa 2019 V02.xlsx']\n"
     ]
    },
    {
     "name": "stderr",
     "output_type": "stream",
     "text": [
      "D:\\python_projects\\cpfl\\web_scrapper\\venv_scraper\\lib\\site-packages\\urllib3\\connectionpool.py:1043: InsecureRequestWarning: Unverified HTTPS request is being made to host 'www2.aneel.gov.br'. Adding certificate verification is strongly advised. See: https://urllib3.readthedocs.io/en/1.26.x/advanced-usage.html#ssl-warnings\n",
      "  warnings.warn(\n",
      "D:\\python_projects\\cpfl\\web_scrapper\\venv_scraper\\lib\\site-packages\\urllib3\\connectionpool.py:1043: InsecureRequestWarning: Unverified HTTPS request is being made to host 'www2.aneel.gov.br'. Adding certificate verification is strongly advised. See: https://urllib3.readthedocs.io/en/1.26.x/advanced-usage.html#ssl-warnings\n",
      "  warnings.warn(\n"
     ]
    },
    {
     "name": "stdout",
     "output_type": "stream",
     "text": [
      "Arquivo: \"PCAT_EQUATORIALPI_2019-11-30_REAJUSTE_(38PCATCEPISA2019V02).xlsx\" foi baixado com sucesso\n",
      "['PCAT_EQUATORIALPI_2019-04-01_REVISAOEXTRAORDINARIA_(PCATCEPISA20181).xlsx'\n",
      " 'https://www2.aneel.gov.br/aplicacoes/tarifa/arquivo/PCAT_Cepisa_20181.xlsx']\n",
      "Arquivo: \"PCAT_EQUATORIALPI_2019-11-30_REAJUSTE_(38PCATCEPISA2019V02).xlsx\" foi baixado com sucesso\n",
      "['PCAT_EQUATORIALPI_2019-04-01_REVISAOEXTRAORDINARIA_(PCATCEPISA20181).xlsx'\n",
      " 'https://www2.aneel.gov.br/aplicacoes/tarifa/arquivo/PCAT_Cepisa_20181.xlsx']\n"
     ]
    },
    {
     "name": "stderr",
     "output_type": "stream",
     "text": [
      "D:\\python_projects\\cpfl\\web_scrapper\\venv_scraper\\lib\\site-packages\\urllib3\\connectionpool.py:1043: InsecureRequestWarning: Unverified HTTPS request is being made to host 'www2.aneel.gov.br'. Adding certificate verification is strongly advised. See: https://urllib3.readthedocs.io/en/1.26.x/advanced-usage.html#ssl-warnings\n",
      "  warnings.warn(\n",
      "D:\\python_projects\\cpfl\\web_scrapper\\venv_scraper\\lib\\site-packages\\urllib3\\connectionpool.py:1043: InsecureRequestWarning: Unverified HTTPS request is being made to host 'www2.aneel.gov.br'. Adding certificate verification is strongly advised. See: https://urllib3.readthedocs.io/en/1.26.x/advanced-usage.html#ssl-warnings\n",
      "  warnings.warn(\n"
     ]
    },
    {
     "name": "stdout",
     "output_type": "stream",
     "text": [
      "Arquivo: \"PCAT_EQUATORIALPI_2019-04-01_REVISAOEXTRAORDINARIA_(PCATCEPISA20181).xlsx\" foi baixado com sucesso\n",
      "['PCAT_EQUATORIALPI_2020-12-02_REVISAOEXTRAORDINARIA_(38PCATCEPISA2020V021).xlsx'\n",
      " 'https://www2.aneel.gov.br/aplicacoes/tarifa/arquivo/38 PCAT Cepisa 2020 V021.xlsx']\n",
      "Arquivo: \"PCAT_EQUATORIALPI_2019-04-01_REVISAOEXTRAORDINARIA_(PCATCEPISA20181).xlsx\" foi baixado com sucesso\n",
      "['PCAT_EQUATORIALPI_2020-12-02_REVISAOEXTRAORDINARIA_(38PCATCEPISA2020V021).xlsx'\n",
      " 'https://www2.aneel.gov.br/aplicacoes/tarifa/arquivo/38 PCAT Cepisa 2020 V021.xlsx']\n"
     ]
    },
    {
     "name": "stderr",
     "output_type": "stream",
     "text": [
      "D:\\python_projects\\cpfl\\web_scrapper\\venv_scraper\\lib\\site-packages\\urllib3\\connectionpool.py:1043: InsecureRequestWarning: Unverified HTTPS request is being made to host 'www2.aneel.gov.br'. Adding certificate verification is strongly advised. See: https://urllib3.readthedocs.io/en/1.26.x/advanced-usage.html#ssl-warnings\n",
      "  warnings.warn(\n",
      "D:\\python_projects\\cpfl\\web_scrapper\\venv_scraper\\lib\\site-packages\\urllib3\\connectionpool.py:1043: InsecureRequestWarning: Unverified HTTPS request is being made to host 'www2.aneel.gov.br'. Adding certificate verification is strongly advised. See: https://urllib3.readthedocs.io/en/1.26.x/advanced-usage.html#ssl-warnings\n",
      "  warnings.warn(\n"
     ]
    },
    {
     "name": "stdout",
     "output_type": "stream",
     "text": [
      "Arquivo: \"PCAT_EQUATORIALPI_2020-12-02_REVISAOEXTRAORDINARIA_(38PCATCEPISA2020V021).xlsx\" foi baixado com sucesso\n",
      "['PCAT_ESE_2014-04-22_REAJUSTE_(PCATESE2014).xlsx'\n",
      " 'https://www2.aneel.gov.br/aplicacoes/tarifa/arquivo/PCAT_ESE_2014.xlsx']\n",
      "Arquivo: \"PCAT_EQUATORIALPI_2020-12-02_REVISAOEXTRAORDINARIA_(38PCATCEPISA2020V021).xlsx\" foi baixado com sucesso\n",
      "['PCAT_ESE_2014-04-22_REAJUSTE_(PCATESE2014).xlsx'\n",
      " 'https://www2.aneel.gov.br/aplicacoes/tarifa/arquivo/PCAT_ESE_2014.xlsx']\n"
     ]
    },
    {
     "name": "stderr",
     "output_type": "stream",
     "text": [
      "D:\\python_projects\\cpfl\\web_scrapper\\venv_scraper\\lib\\site-packages\\urllib3\\connectionpool.py:1043: InsecureRequestWarning: Unverified HTTPS request is being made to host 'www2.aneel.gov.br'. Adding certificate verification is strongly advised. See: https://urllib3.readthedocs.io/en/1.26.x/advanced-usage.html#ssl-warnings\n",
      "  warnings.warn(\n",
      "D:\\python_projects\\cpfl\\web_scrapper\\venv_scraper\\lib\\site-packages\\urllib3\\connectionpool.py:1043: InsecureRequestWarning: Unverified HTTPS request is being made to host 'www2.aneel.gov.br'. Adding certificate verification is strongly advised. See: https://urllib3.readthedocs.io/en/1.26.x/advanced-usage.html#ssl-warnings\n",
      "  warnings.warn(\n"
     ]
    },
    {
     "name": "stdout",
     "output_type": "stream",
     "text": [
      "Arquivo: \"PCAT_ESE_2014-04-22_REAJUSTE_(PCATESE2014).xlsx\" foi baixado com sucesso\n",
      "['PCAT_ESE_2015-04-22_REAJUSTE_(PCATESE2015AV01).xlsx'\n",
      " 'https://www2.aneel.gov.br/aplicacoes/tarifa/arquivo/PCAT_ESE_2015A_V01..xlsx']\n",
      "Arquivo: \"PCAT_ESE_2014-04-22_REAJUSTE_(PCATESE2014).xlsx\" foi baixado com sucesso\n",
      "['PCAT_ESE_2015-04-22_REAJUSTE_(PCATESE2015AV01).xlsx'\n",
      " 'https://www2.aneel.gov.br/aplicacoes/tarifa/arquivo/PCAT_ESE_2015A_V01..xlsx']\n"
     ]
    },
    {
     "name": "stderr",
     "output_type": "stream",
     "text": [
      "D:\\python_projects\\cpfl\\web_scrapper\\venv_scraper\\lib\\site-packages\\urllib3\\connectionpool.py:1043: InsecureRequestWarning: Unverified HTTPS request is being made to host 'www2.aneel.gov.br'. Adding certificate verification is strongly advised. See: https://urllib3.readthedocs.io/en/1.26.x/advanced-usage.html#ssl-warnings\n",
      "  warnings.warn(\n",
      "D:\\python_projects\\cpfl\\web_scrapper\\venv_scraper\\lib\\site-packages\\urllib3\\connectionpool.py:1043: InsecureRequestWarning: Unverified HTTPS request is being made to host 'www2.aneel.gov.br'. Adding certificate verification is strongly advised. See: https://urllib3.readthedocs.io/en/1.26.x/advanced-usage.html#ssl-warnings\n",
      "  warnings.warn(\n"
     ]
    },
    {
     "name": "stdout",
     "output_type": "stream",
     "text": [
      "Arquivo: \"PCAT_ESE_2015-04-22_REAJUSTE_(PCATESE2015AV01).xlsx\" foi baixado com sucesso\n",
      "['PCAT_ESE_2015-03-02_REVISAOEXTRAORDINARIA_(PCATESE2014V00).xlsx'\n",
      " 'https://www2.aneel.gov.br/aplicacoes/tarifa/arquivo/PCAT_ESE_2014_V00.xlsx']\n",
      "Arquivo: \"PCAT_ESE_2015-04-22_REAJUSTE_(PCATESE2015AV01).xlsx\" foi baixado com sucesso\n",
      "['PCAT_ESE_2015-03-02_REVISAOEXTRAORDINARIA_(PCATESE2014V00).xlsx'\n",
      " 'https://www2.aneel.gov.br/aplicacoes/tarifa/arquivo/PCAT_ESE_2014_V00.xlsx']\n"
     ]
    },
    {
     "name": "stderr",
     "output_type": "stream",
     "text": [
      "D:\\python_projects\\cpfl\\web_scrapper\\venv_scraper\\lib\\site-packages\\urllib3\\connectionpool.py:1043: InsecureRequestWarning: Unverified HTTPS request is being made to host 'www2.aneel.gov.br'. Adding certificate verification is strongly advised. See: https://urllib3.readthedocs.io/en/1.26.x/advanced-usage.html#ssl-warnings\n",
      "  warnings.warn(\n",
      "D:\\python_projects\\cpfl\\web_scrapper\\venv_scraper\\lib\\site-packages\\urllib3\\connectionpool.py:1043: InsecureRequestWarning: Unverified HTTPS request is being made to host 'www2.aneel.gov.br'. Adding certificate verification is strongly advised. See: https://urllib3.readthedocs.io/en/1.26.x/advanced-usage.html#ssl-warnings\n",
      "  warnings.warn(\n"
     ]
    },
    {
     "name": "stdout",
     "output_type": "stream",
     "text": [
      "Arquivo: \"PCAT_ESE_2015-03-02_REVISAOEXTRAORDINARIA_(PCATESE2014V00).xlsx\" foi baixado com sucesso\n",
      "['PCAT_ESE_2016-04-22_REAJUSTE_(PCATESE2016).xlsx'\n",
      " 'https://www2.aneel.gov.br/aplicacoes/tarifa/arquivo/PCAT_ESE_2016.xlsx']\n",
      "Arquivo: \"PCAT_ESE_2015-03-02_REVISAOEXTRAORDINARIA_(PCATESE2014V00).xlsx\" foi baixado com sucesso\n",
      "['PCAT_ESE_2016-04-22_REAJUSTE_(PCATESE2016).xlsx'\n",
      " 'https://www2.aneel.gov.br/aplicacoes/tarifa/arquivo/PCAT_ESE_2016.xlsx']\n"
     ]
    },
    {
     "name": "stderr",
     "output_type": "stream",
     "text": [
      "D:\\python_projects\\cpfl\\web_scrapper\\venv_scraper\\lib\\site-packages\\urllib3\\connectionpool.py:1043: InsecureRequestWarning: Unverified HTTPS request is being made to host 'www2.aneel.gov.br'. Adding certificate verification is strongly advised. See: https://urllib3.readthedocs.io/en/1.26.x/advanced-usage.html#ssl-warnings\n",
      "  warnings.warn(\n",
      "D:\\python_projects\\cpfl\\web_scrapper\\venv_scraper\\lib\\site-packages\\urllib3\\connectionpool.py:1043: InsecureRequestWarning: Unverified HTTPS request is being made to host 'www2.aneel.gov.br'. Adding certificate verification is strongly advised. See: https://urllib3.readthedocs.io/en/1.26.x/advanced-usage.html#ssl-warnings\n",
      "  warnings.warn(\n"
     ]
    },
    {
     "name": "stdout",
     "output_type": "stream",
     "text": [
      "Arquivo: \"PCAT_ESE_2016-04-22_REAJUSTE_(PCATESE2016).xlsx\" foi baixado com sucesso\n",
      "['PCAT_ESE_2017-04-22_REAJUSTE_(PCATESE2017).xlsx'\n",
      " 'https://www2.aneel.gov.br/aplicacoes/tarifa/arquivo/PCAT_ESE_2017.xlsx']\n",
      "Arquivo: \"PCAT_ESE_2016-04-22_REAJUSTE_(PCATESE2016).xlsx\" foi baixado com sucesso\n",
      "['PCAT_ESE_2017-04-22_REAJUSTE_(PCATESE2017).xlsx'\n",
      " 'https://www2.aneel.gov.br/aplicacoes/tarifa/arquivo/PCAT_ESE_2017.xlsx']\n"
     ]
    },
    {
     "name": "stderr",
     "output_type": "stream",
     "text": [
      "D:\\python_projects\\cpfl\\web_scrapper\\venv_scraper\\lib\\site-packages\\urllib3\\connectionpool.py:1043: InsecureRequestWarning: Unverified HTTPS request is being made to host 'www2.aneel.gov.br'. Adding certificate verification is strongly advised. See: https://urllib3.readthedocs.io/en/1.26.x/advanced-usage.html#ssl-warnings\n",
      "  warnings.warn(\n",
      "D:\\python_projects\\cpfl\\web_scrapper\\venv_scraper\\lib\\site-packages\\urllib3\\connectionpool.py:1043: InsecureRequestWarning: Unverified HTTPS request is being made to host 'www2.aneel.gov.br'. Adding certificate verification is strongly advised. See: https://urllib3.readthedocs.io/en/1.26.x/advanced-usage.html#ssl-warnings\n",
      "  warnings.warn(\n"
     ]
    },
    {
     "name": "stdout",
     "output_type": "stream",
     "text": [
      "Arquivo: \"PCAT_ESE_2017-04-22_REAJUSTE_(PCATESE2017).xlsx\" foi baixado com sucesso\n",
      "['PCAT_ESE_2018-04-22_REVISAO_(PCATESE2018).xlsx'\n",
      " 'https://www2.aneel.gov.br/aplicacoes/tarifa/arquivo/PCAT_ESE_2018 .xlsx']\n",
      "Arquivo: \"PCAT_ESE_2017-04-22_REAJUSTE_(PCATESE2017).xlsx\" foi baixado com sucesso\n",
      "['PCAT_ESE_2018-04-22_REVISAO_(PCATESE2018).xlsx'\n",
      " 'https://www2.aneel.gov.br/aplicacoes/tarifa/arquivo/PCAT_ESE_2018 .xlsx']\n"
     ]
    },
    {
     "name": "stderr",
     "output_type": "stream",
     "text": [
      "D:\\python_projects\\cpfl\\web_scrapper\\venv_scraper\\lib\\site-packages\\urllib3\\connectionpool.py:1043: InsecureRequestWarning: Unverified HTTPS request is being made to host 'www2.aneel.gov.br'. Adding certificate verification is strongly advised. See: https://urllib3.readthedocs.io/en/1.26.x/advanced-usage.html#ssl-warnings\n",
      "  warnings.warn(\n",
      "D:\\python_projects\\cpfl\\web_scrapper\\venv_scraper\\lib\\site-packages\\urllib3\\connectionpool.py:1043: InsecureRequestWarning: Unverified HTTPS request is being made to host 'www2.aneel.gov.br'. Adding certificate verification is strongly advised. See: https://urllib3.readthedocs.io/en/1.26.x/advanced-usage.html#ssl-warnings\n",
      "  warnings.warn(\n"
     ]
    },
    {
     "name": "stdout",
     "output_type": "stream",
     "text": [
      "Arquivo: \"PCAT_ESE_2018-04-22_REVISAO_(PCATESE2018).xlsx\" foi baixado com sucesso\n",
      "['PCAT_ESE_2019-04-22_REAJUSTE_(PCATESE2019).xlsx'\n",
      " 'https://www2.aneel.gov.br/aplicacoes/tarifa/arquivo/PCAT_ESE_2019.xlsx']\n",
      "Arquivo: \"PCAT_ESE_2018-04-22_REVISAO_(PCATESE2018).xlsx\" foi baixado com sucesso\n",
      "['PCAT_ESE_2019-04-22_REAJUSTE_(PCATESE2019).xlsx'\n",
      " 'https://www2.aneel.gov.br/aplicacoes/tarifa/arquivo/PCAT_ESE_2019.xlsx']\n"
     ]
    },
    {
     "name": "stderr",
     "output_type": "stream",
     "text": [
      "D:\\python_projects\\cpfl\\web_scrapper\\venv_scraper\\lib\\site-packages\\urllib3\\connectionpool.py:1043: InsecureRequestWarning: Unverified HTTPS request is being made to host 'www2.aneel.gov.br'. Adding certificate verification is strongly advised. See: https://urllib3.readthedocs.io/en/1.26.x/advanced-usage.html#ssl-warnings\n",
      "  warnings.warn(\n",
      "D:\\python_projects\\cpfl\\web_scrapper\\venv_scraper\\lib\\site-packages\\urllib3\\connectionpool.py:1043: InsecureRequestWarning: Unverified HTTPS request is being made to host 'www2.aneel.gov.br'. Adding certificate verification is strongly advised. See: https://urllib3.readthedocs.io/en/1.26.x/advanced-usage.html#ssl-warnings\n",
      "  warnings.warn(\n"
     ]
    },
    {
     "name": "stdout",
     "output_type": "stream",
     "text": [
      "Arquivo: \"PCAT_ESE_2019-04-22_REAJUSTE_(PCATESE2019).xlsx\" foi baixado com sucesso\n",
      "['PCAT_ESE_2020-04-22_REAJUSTE_(6587PCATESE2020V02).xlsx'\n",
      " 'https://www2.aneel.gov.br/aplicacoes/tarifa/arquivo/6587 PCAT ESE 2020 V02.xlsx']\n",
      "Arquivo: \"PCAT_ESE_2019-04-22_REAJUSTE_(PCATESE2019).xlsx\" foi baixado com sucesso\n",
      "['PCAT_ESE_2020-04-22_REAJUSTE_(6587PCATESE2020V02).xlsx'\n",
      " 'https://www2.aneel.gov.br/aplicacoes/tarifa/arquivo/6587 PCAT ESE 2020 V02.xlsx']\n"
     ]
    },
    {
     "name": "stderr",
     "output_type": "stream",
     "text": [
      "D:\\python_projects\\cpfl\\web_scrapper\\venv_scraper\\lib\\site-packages\\urllib3\\connectionpool.py:1043: InsecureRequestWarning: Unverified HTTPS request is being made to host 'www2.aneel.gov.br'. Adding certificate verification is strongly advised. See: https://urllib3.readthedocs.io/en/1.26.x/advanced-usage.html#ssl-warnings\n",
      "  warnings.warn(\n",
      "D:\\python_projects\\cpfl\\web_scrapper\\venv_scraper\\lib\\site-packages\\urllib3\\connectionpool.py:1043: InsecureRequestWarning: Unverified HTTPS request is being made to host 'www2.aneel.gov.br'. Adding certificate verification is strongly advised. See: https://urllib3.readthedocs.io/en/1.26.x/advanced-usage.html#ssl-warnings\n",
      "  warnings.warn(\n"
     ]
    },
    {
     "name": "stdout",
     "output_type": "stream",
     "text": [
      "Arquivo: \"PCAT_ESE_2020-04-22_REAJUSTE_(6587PCATESE2020V02).xlsx\" foi baixado com sucesso\n",
      "['PCAT_ESE_2021-04-22_REAJUSTE_(6587PCATESE2021V02).xlsx'\n",
      " 'https://www2.aneel.gov.br/aplicacoes/tarifa/arquivo/6587 PCAT ESE 2021 V02.xlsx']\n",
      "Arquivo: \"PCAT_ESE_2020-04-22_REAJUSTE_(6587PCATESE2020V02).xlsx\" foi baixado com sucesso\n",
      "['PCAT_ESE_2021-04-22_REAJUSTE_(6587PCATESE2021V02).xlsx'\n",
      " 'https://www2.aneel.gov.br/aplicacoes/tarifa/arquivo/6587 PCAT ESE 2021 V02.xlsx']\n"
     ]
    },
    {
     "name": "stderr",
     "output_type": "stream",
     "text": [
      "D:\\python_projects\\cpfl\\web_scrapper\\venv_scraper\\lib\\site-packages\\urllib3\\connectionpool.py:1043: InsecureRequestWarning: Unverified HTTPS request is being made to host 'www2.aneel.gov.br'. Adding certificate verification is strongly advised. See: https://urllib3.readthedocs.io/en/1.26.x/advanced-usage.html#ssl-warnings\n",
      "  warnings.warn(\n",
      "D:\\python_projects\\cpfl\\web_scrapper\\venv_scraper\\lib\\site-packages\\urllib3\\connectionpool.py:1043: InsecureRequestWarning: Unverified HTTPS request is being made to host 'www2.aneel.gov.br'. Adding certificate verification is strongly advised. See: https://urllib3.readthedocs.io/en/1.26.x/advanced-usage.html#ssl-warnings\n",
      "  warnings.warn(\n"
     ]
    },
    {
     "name": "stdout",
     "output_type": "stream",
     "text": [
      "Arquivo: \"PCAT_ESE_2021-04-22_REAJUSTE_(6587PCATESE2021V02).xlsx\" foi baixado com sucesso\n",
      "['PCAT_ESS_2014-05-06_REAJUSTE_(PCATCAIUA2014).xlsx'\n",
      " 'https://www2.aneel.gov.br/aplicacoes/tarifa/arquivo/PCAT_CAIUÁ_2014.xlsx']\n",
      "Arquivo: \"PCAT_ESE_2021-04-22_REAJUSTE_(6587PCATESE2021V02).xlsx\" foi baixado com sucesso\n",
      "['PCAT_ESS_2014-05-06_REAJUSTE_(PCATCAIUA2014).xlsx'\n",
      " 'https://www2.aneel.gov.br/aplicacoes/tarifa/arquivo/PCAT_CAIUÁ_2014.xlsx']\n"
     ]
    },
    {
     "name": "stderr",
     "output_type": "stream",
     "text": [
      "D:\\python_projects\\cpfl\\web_scrapper\\venv_scraper\\lib\\site-packages\\urllib3\\connectionpool.py:1043: InsecureRequestWarning: Unverified HTTPS request is being made to host 'www2.aneel.gov.br'. Adding certificate verification is strongly advised. See: https://urllib3.readthedocs.io/en/1.26.x/advanced-usage.html#ssl-warnings\n",
      "  warnings.warn(\n",
      "D:\\python_projects\\cpfl\\web_scrapper\\venv_scraper\\lib\\site-packages\\urllib3\\connectionpool.py:1043: InsecureRequestWarning: Unverified HTTPS request is being made to host 'www2.aneel.gov.br'. Adding certificate verification is strongly advised. See: https://urllib3.readthedocs.io/en/1.26.x/advanced-usage.html#ssl-warnings\n",
      "  warnings.warn(\n"
     ]
    },
    {
     "name": "stdout",
     "output_type": "stream",
     "text": [
      "Arquivo: \"PCAT_ESS_2014-05-06_REAJUSTE_(PCATCAIUA2014).xlsx\" foi baixado com sucesso\n",
      "['PCAT_ESS_2015-05-10_REAJUSTE_(PCATCAIUA2015).xlsx'\n",
      " 'https://www2.aneel.gov.br/aplicacoes/tarifa/arquivo/PCAT_CAIUÁ_2015.xlsx']\n",
      "Arquivo: \"PCAT_ESS_2014-05-06_REAJUSTE_(PCATCAIUA2014).xlsx\" foi baixado com sucesso\n",
      "['PCAT_ESS_2015-05-10_REAJUSTE_(PCATCAIUA2015).xlsx'\n",
      " 'https://www2.aneel.gov.br/aplicacoes/tarifa/arquivo/PCAT_CAIUÁ_2015.xlsx']\n"
     ]
    },
    {
     "name": "stderr",
     "output_type": "stream",
     "text": [
      "D:\\python_projects\\cpfl\\web_scrapper\\venv_scraper\\lib\\site-packages\\urllib3\\connectionpool.py:1043: InsecureRequestWarning: Unverified HTTPS request is being made to host 'www2.aneel.gov.br'. Adding certificate verification is strongly advised. See: https://urllib3.readthedocs.io/en/1.26.x/advanced-usage.html#ssl-warnings\n",
      "  warnings.warn(\n",
      "D:\\python_projects\\cpfl\\web_scrapper\\venv_scraper\\lib\\site-packages\\urllib3\\connectionpool.py:1043: InsecureRequestWarning: Unverified HTTPS request is being made to host 'www2.aneel.gov.br'. Adding certificate verification is strongly advised. See: https://urllib3.readthedocs.io/en/1.26.x/advanced-usage.html#ssl-warnings\n",
      "  warnings.warn(\n"
     ]
    },
    {
     "name": "stdout",
     "output_type": "stream",
     "text": [
      "Arquivo: \"PCAT_ESS_2015-05-10_REAJUSTE_(PCATCAIUA2015).xlsx\" foi baixado com sucesso\n",
      "['PCAT_ESS_2015-03-02_REVISAOEXTRAORDINARIA_(PCATCAIUA2014V00).xlsx'\n",
      " 'https://www2.aneel.gov.br/aplicacoes/tarifa/arquivo/PCAT_CAIUÁ_2014_V00.xlsx']\n",
      "Arquivo: \"PCAT_ESS_2015-05-10_REAJUSTE_(PCATCAIUA2015).xlsx\" foi baixado com sucesso\n",
      "['PCAT_ESS_2015-03-02_REVISAOEXTRAORDINARIA_(PCATCAIUA2014V00).xlsx'\n",
      " 'https://www2.aneel.gov.br/aplicacoes/tarifa/arquivo/PCAT_CAIUÁ_2014_V00.xlsx']\n"
     ]
    },
    {
     "name": "stderr",
     "output_type": "stream",
     "text": [
      "D:\\python_projects\\cpfl\\web_scrapper\\venv_scraper\\lib\\site-packages\\urllib3\\connectionpool.py:1043: InsecureRequestWarning: Unverified HTTPS request is being made to host 'www2.aneel.gov.br'. Adding certificate verification is strongly advised. See: https://urllib3.readthedocs.io/en/1.26.x/advanced-usage.html#ssl-warnings\n",
      "  warnings.warn(\n",
      "D:\\python_projects\\cpfl\\web_scrapper\\venv_scraper\\lib\\site-packages\\urllib3\\connectionpool.py:1043: InsecureRequestWarning: Unverified HTTPS request is being made to host 'www2.aneel.gov.br'. Adding certificate verification is strongly advised. See: https://urllib3.readthedocs.io/en/1.26.x/advanced-usage.html#ssl-warnings\n",
      "  warnings.warn(\n"
     ]
    },
    {
     "name": "stdout",
     "output_type": "stream",
     "text": [
      "Arquivo: \"PCAT_ESS_2015-03-02_REVISAOEXTRAORDINARIA_(PCATCAIUA2014V00).xlsx\" foi baixado com sucesso\n",
      "['PCAT_ESS_2016-05-10_REVISAO_(PCATCAIUA2016).xlsx'\n",
      " 'https://www2.aneel.gov.br/aplicacoes/tarifa/arquivo/PCAT_CAIUA_2016.xlsx']\n",
      "Arquivo: \"PCAT_ESS_2015-03-02_REVISAOEXTRAORDINARIA_(PCATCAIUA2014V00).xlsx\" foi baixado com sucesso\n",
      "['PCAT_ESS_2016-05-10_REVISAO_(PCATCAIUA2016).xlsx'\n",
      " 'https://www2.aneel.gov.br/aplicacoes/tarifa/arquivo/PCAT_CAIUA_2016.xlsx']\n"
     ]
    },
    {
     "name": "stderr",
     "output_type": "stream",
     "text": [
      "D:\\python_projects\\cpfl\\web_scrapper\\venv_scraper\\lib\\site-packages\\urllib3\\connectionpool.py:1043: InsecureRequestWarning: Unverified HTTPS request is being made to host 'www2.aneel.gov.br'. Adding certificate verification is strongly advised. See: https://urllib3.readthedocs.io/en/1.26.x/advanced-usage.html#ssl-warnings\n",
      "  warnings.warn(\n",
      "D:\\python_projects\\cpfl\\web_scrapper\\venv_scraper\\lib\\site-packages\\urllib3\\connectionpool.py:1043: InsecureRequestWarning: Unverified HTTPS request is being made to host 'www2.aneel.gov.br'. Adding certificate verification is strongly advised. See: https://urllib3.readthedocs.io/en/1.26.x/advanced-usage.html#ssl-warnings\n",
      "  warnings.warn(\n"
     ]
    },
    {
     "name": "stdout",
     "output_type": "stream",
     "text": [
      "Arquivo: \"PCAT_ESS_2016-05-10_REVISAO_(PCATCAIUA2016).xlsx\" foi baixado com sucesso\n",
      "['PCAT_ESS_2017-07-12_REAJUSTE_(PCATSUPERENER2017).xlsx'\n",
      " 'https://www2.aneel.gov.br/aplicacoes/tarifa/arquivo/PCAT_SuperEner_2017.xlsx']\n",
      "Arquivo: \"PCAT_ESS_2016-05-10_REVISAO_(PCATCAIUA2016).xlsx\" foi baixado com sucesso\n",
      "['PCAT_ESS_2017-07-12_REAJUSTE_(PCATSUPERENER2017).xlsx'\n",
      " 'https://www2.aneel.gov.br/aplicacoes/tarifa/arquivo/PCAT_SuperEner_2017.xlsx']\n"
     ]
    },
    {
     "name": "stderr",
     "output_type": "stream",
     "text": [
      "D:\\python_projects\\cpfl\\web_scrapper\\venv_scraper\\lib\\site-packages\\urllib3\\connectionpool.py:1043: InsecureRequestWarning: Unverified HTTPS request is being made to host 'www2.aneel.gov.br'. Adding certificate verification is strongly advised. See: https://urllib3.readthedocs.io/en/1.26.x/advanced-usage.html#ssl-warnings\n",
      "  warnings.warn(\n",
      "D:\\python_projects\\cpfl\\web_scrapper\\venv_scraper\\lib\\site-packages\\urllib3\\connectionpool.py:1043: InsecureRequestWarning: Unverified HTTPS request is being made to host 'www2.aneel.gov.br'. Adding certificate verification is strongly advised. See: https://urllib3.readthedocs.io/en/1.26.x/advanced-usage.html#ssl-warnings\n",
      "  warnings.warn(\n"
     ]
    },
    {
     "name": "stdout",
     "output_type": "stream",
     "text": [
      "Arquivo: \"PCAT_ESS_2017-07-12_REAJUSTE_(PCATSUPERENER2017).xlsx\" foi baixado com sucesso\n",
      "['PCAT_ESS_2018-07-12_REAJUSTE_(PCATSULSUDESTE2018).xlsx'\n",
      " 'https://www2.aneel.gov.br/aplicacoes/tarifa/arquivo/PCAT_Sul_Sudeste_2018 .xlsx']\n",
      "Arquivo: \"PCAT_ESS_2017-07-12_REAJUSTE_(PCATSUPERENER2017).xlsx\" foi baixado com sucesso\n",
      "['PCAT_ESS_2018-07-12_REAJUSTE_(PCATSULSUDESTE2018).xlsx'\n",
      " 'https://www2.aneel.gov.br/aplicacoes/tarifa/arquivo/PCAT_Sul_Sudeste_2018 .xlsx']\n"
     ]
    },
    {
     "name": "stderr",
     "output_type": "stream",
     "text": [
      "D:\\python_projects\\cpfl\\web_scrapper\\venv_scraper\\lib\\site-packages\\urllib3\\connectionpool.py:1043: InsecureRequestWarning: Unverified HTTPS request is being made to host 'www2.aneel.gov.br'. Adding certificate verification is strongly advised. See: https://urllib3.readthedocs.io/en/1.26.x/advanced-usage.html#ssl-warnings\n",
      "  warnings.warn(\n",
      "D:\\python_projects\\cpfl\\web_scrapper\\venv_scraper\\lib\\site-packages\\urllib3\\connectionpool.py:1043: InsecureRequestWarning: Unverified HTTPS request is being made to host 'www2.aneel.gov.br'. Adding certificate verification is strongly advised. See: https://urllib3.readthedocs.io/en/1.26.x/advanced-usage.html#ssl-warnings\n",
      "  warnings.warn(\n"
     ]
    },
    {
     "name": "stdout",
     "output_type": "stream",
     "text": [
      "Arquivo: \"PCAT_ESS_2018-07-12_REAJUSTE_(PCATSULSUDESTE2018).xlsx\" foi baixado com sucesso\n",
      "['PCAT_ESS_2019-07-12_REAJUSTE_(1000040PCATSULSUDESTE2019V02).xlsx'\n",
      " 'https://www2.aneel.gov.br/aplicacoes/tarifa/arquivo/1000040 PCAT Sul Sudeste 2019 V02.xlsx']\n",
      "Arquivo: \"PCAT_ESS_2018-07-12_REAJUSTE_(PCATSULSUDESTE2018).xlsx\" foi baixado com sucesso\n",
      "['PCAT_ESS_2019-07-12_REAJUSTE_(1000040PCATSULSUDESTE2019V02).xlsx'\n",
      " 'https://www2.aneel.gov.br/aplicacoes/tarifa/arquivo/1000040 PCAT Sul Sudeste 2019 V02.xlsx']\n"
     ]
    },
    {
     "name": "stderr",
     "output_type": "stream",
     "text": [
      "D:\\python_projects\\cpfl\\web_scrapper\\venv_scraper\\lib\\site-packages\\urllib3\\connectionpool.py:1043: InsecureRequestWarning: Unverified HTTPS request is being made to host 'www2.aneel.gov.br'. Adding certificate verification is strongly advised. See: https://urllib3.readthedocs.io/en/1.26.x/advanced-usage.html#ssl-warnings\n",
      "  warnings.warn(\n",
      "D:\\python_projects\\cpfl\\web_scrapper\\venv_scraper\\lib\\site-packages\\urllib3\\connectionpool.py:1043: InsecureRequestWarning: Unverified HTTPS request is being made to host 'www2.aneel.gov.br'. Adding certificate verification is strongly advised. See: https://urllib3.readthedocs.io/en/1.26.x/advanced-usage.html#ssl-warnings\n",
      "  warnings.warn(\n"
     ]
    },
    {
     "name": "stdout",
     "output_type": "stream",
     "text": [
      "Arquivo: \"PCAT_ESS_2019-07-12_REAJUSTE_(1000040PCATSULSUDESTE2019V02).xlsx\" foi baixado com sucesso\n",
      "['PCAT_ESS_2020-07-12_REAJUSTE_(PCATESSAGRUPADA2020V02).xlsx'\n",
      " 'https://www2.aneel.gov.br/aplicacoes/tarifa/arquivo/PCAT ESS (agrupada) 2020 V02.xlsx']\n",
      "Arquivo: \"PCAT_ESS_2019-07-12_REAJUSTE_(1000040PCATSULSUDESTE2019V02).xlsx\" foi baixado com sucesso\n",
      "['PCAT_ESS_2020-07-12_REAJUSTE_(PCATESSAGRUPADA2020V02).xlsx'\n",
      " 'https://www2.aneel.gov.br/aplicacoes/tarifa/arquivo/PCAT ESS (agrupada) 2020 V02.xlsx']\n"
     ]
    },
    {
     "name": "stderr",
     "output_type": "stream",
     "text": [
      "D:\\python_projects\\cpfl\\web_scrapper\\venv_scraper\\lib\\site-packages\\urllib3\\connectionpool.py:1043: InsecureRequestWarning: Unverified HTTPS request is being made to host 'www2.aneel.gov.br'. Adding certificate verification is strongly advised. See: https://urllib3.readthedocs.io/en/1.26.x/advanced-usage.html#ssl-warnings\n",
      "  warnings.warn(\n",
      "D:\\python_projects\\cpfl\\web_scrapper\\venv_scraper\\lib\\site-packages\\urllib3\\connectionpool.py:1043: InsecureRequestWarning: Unverified HTTPS request is being made to host 'www2.aneel.gov.br'. Adding certificate verification is strongly advised. See: https://urllib3.readthedocs.io/en/1.26.x/advanced-usage.html#ssl-warnings\n",
      "  warnings.warn(\n"
     ]
    },
    {
     "name": "stdout",
     "output_type": "stream",
     "text": [
      "Arquivo: \"PCAT_ESS_2020-07-12_REAJUSTE_(PCATESSAGRUPADA2020V02).xlsx\" foi baixado com sucesso\n",
      "['PCAT_ESS_2021-07-12_REVISAO_(1000040PCATESSAGRUPADA2021V02).xlsx'\n",
      " 'https://www2.aneel.gov.br/aplicacoes/tarifa/arquivo/1000040 PCAT ESS (agrupada) 2021 V02.xlsx']\n",
      "Arquivo: \"PCAT_ESS_2020-07-12_REAJUSTE_(PCATESSAGRUPADA2020V02).xlsx\" foi baixado com sucesso\n",
      "['PCAT_ESS_2021-07-12_REVISAO_(1000040PCATESSAGRUPADA2021V02).xlsx'\n",
      " 'https://www2.aneel.gov.br/aplicacoes/tarifa/arquivo/1000040 PCAT ESS (agrupada) 2021 V02.xlsx']\n"
     ]
    },
    {
     "name": "stderr",
     "output_type": "stream",
     "text": [
      "D:\\python_projects\\cpfl\\web_scrapper\\venv_scraper\\lib\\site-packages\\urllib3\\connectionpool.py:1043: InsecureRequestWarning: Unverified HTTPS request is being made to host 'www2.aneel.gov.br'. Adding certificate verification is strongly advised. See: https://urllib3.readthedocs.io/en/1.26.x/advanced-usage.html#ssl-warnings\n",
      "  warnings.warn(\n",
      "D:\\python_projects\\cpfl\\web_scrapper\\venv_scraper\\lib\\site-packages\\urllib3\\connectionpool.py:1043: InsecureRequestWarning: Unverified HTTPS request is being made to host 'www2.aneel.gov.br'. Adding certificate verification is strongly advised. See: https://urllib3.readthedocs.io/en/1.26.x/advanced-usage.html#ssl-warnings\n",
      "  warnings.warn(\n"
     ]
    },
    {
     "name": "stdout",
     "output_type": "stream",
     "text": [
      "Arquivo: \"PCAT_ESS_2021-07-12_REVISAO_(1000040PCATESSAGRUPADA2021V02).xlsx\" foi baixado com sucesso\n",
      "['PCAT_ETO_2014-07-03_REAJUSTE_(PCATCELTINS2014).xlsx'\n",
      " 'https://www2.aneel.gov.br/aplicacoes/tarifa/arquivo/PCAT_CELTINS_2014.xlsx']\n",
      "Arquivo: \"PCAT_ESS_2021-07-12_REVISAO_(1000040PCATESSAGRUPADA2021V02).xlsx\" foi baixado com sucesso\n",
      "['PCAT_ETO_2014-07-03_REAJUSTE_(PCATCELTINS2014).xlsx'\n",
      " 'https://www2.aneel.gov.br/aplicacoes/tarifa/arquivo/PCAT_CELTINS_2014.xlsx']\n"
     ]
    },
    {
     "name": "stderr",
     "output_type": "stream",
     "text": [
      "D:\\python_projects\\cpfl\\web_scrapper\\venv_scraper\\lib\\site-packages\\urllib3\\connectionpool.py:1043: InsecureRequestWarning: Unverified HTTPS request is being made to host 'www2.aneel.gov.br'. Adding certificate verification is strongly advised. See: https://urllib3.readthedocs.io/en/1.26.x/advanced-usage.html#ssl-warnings\n",
      "  warnings.warn(\n",
      "D:\\python_projects\\cpfl\\web_scrapper\\venv_scraper\\lib\\site-packages\\urllib3\\connectionpool.py:1043: InsecureRequestWarning: Unverified HTTPS request is being made to host 'www2.aneel.gov.br'. Adding certificate verification is strongly advised. See: https://urllib3.readthedocs.io/en/1.26.x/advanced-usage.html#ssl-warnings\n",
      "  warnings.warn(\n"
     ]
    },
    {
     "name": "stdout",
     "output_type": "stream",
     "text": [
      "Arquivo: \"PCAT_ETO_2014-07-03_REAJUSTE_(PCATCELTINS2014).xlsx\" foi baixado com sucesso\n",
      "['PCAT_ETO_2015-07-04_REAJUSTE_(PCATETO2015).xlsx'\n",
      " 'https://www2.aneel.gov.br/aplicacoes/tarifa/arquivo/PCAT_ETO_2015.xlsx']\n",
      "Arquivo: \"PCAT_ETO_2014-07-03_REAJUSTE_(PCATCELTINS2014).xlsx\" foi baixado com sucesso\n",
      "['PCAT_ETO_2015-07-04_REAJUSTE_(PCATETO2015).xlsx'\n",
      " 'https://www2.aneel.gov.br/aplicacoes/tarifa/arquivo/PCAT_ETO_2015.xlsx']\n"
     ]
    },
    {
     "name": "stderr",
     "output_type": "stream",
     "text": [
      "D:\\python_projects\\cpfl\\web_scrapper\\venv_scraper\\lib\\site-packages\\urllib3\\connectionpool.py:1043: InsecureRequestWarning: Unverified HTTPS request is being made to host 'www2.aneel.gov.br'. Adding certificate verification is strongly advised. See: https://urllib3.readthedocs.io/en/1.26.x/advanced-usage.html#ssl-warnings\n",
      "  warnings.warn(\n",
      "D:\\python_projects\\cpfl\\web_scrapper\\venv_scraper\\lib\\site-packages\\urllib3\\connectionpool.py:1043: InsecureRequestWarning: Unverified HTTPS request is being made to host 'www2.aneel.gov.br'. Adding certificate verification is strongly advised. See: https://urllib3.readthedocs.io/en/1.26.x/advanced-usage.html#ssl-warnings\n",
      "  warnings.warn(\n"
     ]
    },
    {
     "name": "stdout",
     "output_type": "stream",
     "text": [
      "Arquivo: \"PCAT_ETO_2015-07-04_REAJUSTE_(PCATETO2015).xlsx\" foi baixado com sucesso\n",
      "['PCAT_ETO_2015-03-02_REVISAOEXTRAORDINARIA_(PCATCELTINS2014V00).xlsx'\n",
      " 'https://www2.aneel.gov.br/aplicacoes/tarifa/arquivo/PCAT_CELTINS_2014_V00.xlsx']\n",
      "Arquivo: \"PCAT_ETO_2015-07-04_REAJUSTE_(PCATETO2015).xlsx\" foi baixado com sucesso\n",
      "['PCAT_ETO_2015-03-02_REVISAOEXTRAORDINARIA_(PCATCELTINS2014V00).xlsx'\n",
      " 'https://www2.aneel.gov.br/aplicacoes/tarifa/arquivo/PCAT_CELTINS_2014_V00.xlsx']\n"
     ]
    },
    {
     "name": "stderr",
     "output_type": "stream",
     "text": [
      "D:\\python_projects\\cpfl\\web_scrapper\\venv_scraper\\lib\\site-packages\\urllib3\\connectionpool.py:1043: InsecureRequestWarning: Unverified HTTPS request is being made to host 'www2.aneel.gov.br'. Adding certificate verification is strongly advised. See: https://urllib3.readthedocs.io/en/1.26.x/advanced-usage.html#ssl-warnings\n",
      "  warnings.warn(\n",
      "D:\\python_projects\\cpfl\\web_scrapper\\venv_scraper\\lib\\site-packages\\urllib3\\connectionpool.py:1043: InsecureRequestWarning: Unverified HTTPS request is being made to host 'www2.aneel.gov.br'. Adding certificate verification is strongly advised. See: https://urllib3.readthedocs.io/en/1.26.x/advanced-usage.html#ssl-warnings\n",
      "  warnings.warn(\n"
     ]
    },
    {
     "name": "stdout",
     "output_type": "stream",
     "text": [
      "Arquivo: \"PCAT_ETO_2015-03-02_REVISAOEXTRAORDINARIA_(PCATCELTINS2014V00).xlsx\" foi baixado com sucesso\n",
      "['PCAT_ETO_2016-07-04_REVISAO_(PCATETO2016).xlsx'\n",
      " 'https://www2.aneel.gov.br/aplicacoes/tarifa/arquivo/PCAT_ETO_2016.xlsx']\n",
      "Arquivo: \"PCAT_ETO_2015-03-02_REVISAOEXTRAORDINARIA_(PCATCELTINS2014V00).xlsx\" foi baixado com sucesso\n",
      "['PCAT_ETO_2016-07-04_REVISAO_(PCATETO2016).xlsx'\n",
      " 'https://www2.aneel.gov.br/aplicacoes/tarifa/arquivo/PCAT_ETO_2016.xlsx']\n"
     ]
    },
    {
     "name": "stderr",
     "output_type": "stream",
     "text": [
      "D:\\python_projects\\cpfl\\web_scrapper\\venv_scraper\\lib\\site-packages\\urllib3\\connectionpool.py:1043: InsecureRequestWarning: Unverified HTTPS request is being made to host 'www2.aneel.gov.br'. Adding certificate verification is strongly advised. See: https://urllib3.readthedocs.io/en/1.26.x/advanced-usage.html#ssl-warnings\n",
      "  warnings.warn(\n",
      "D:\\python_projects\\cpfl\\web_scrapper\\venv_scraper\\lib\\site-packages\\urllib3\\connectionpool.py:1043: InsecureRequestWarning: Unverified HTTPS request is being made to host 'www2.aneel.gov.br'. Adding certificate verification is strongly advised. See: https://urllib3.readthedocs.io/en/1.26.x/advanced-usage.html#ssl-warnings\n",
      "  warnings.warn(\n"
     ]
    },
    {
     "name": "stdout",
     "output_type": "stream",
     "text": [
      "Arquivo: \"PCAT_ETO_2016-07-04_REVISAO_(PCATETO2016).xlsx\" foi baixado com sucesso\n",
      "['PCAT_ETO_2017-07-04_REAJUSTE_(PCATETO2017).xlsx'\n",
      " 'https://www2.aneel.gov.br/aplicacoes/tarifa/arquivo/PCAT_ETO_2017.xlsx']\n",
      "Arquivo: \"PCAT_ETO_2016-07-04_REVISAO_(PCATETO2016).xlsx\" foi baixado com sucesso\n",
      "['PCAT_ETO_2017-07-04_REAJUSTE_(PCATETO2017).xlsx'\n",
      " 'https://www2.aneel.gov.br/aplicacoes/tarifa/arquivo/PCAT_ETO_2017.xlsx']\n"
     ]
    },
    {
     "name": "stderr",
     "output_type": "stream",
     "text": [
      "D:\\python_projects\\cpfl\\web_scrapper\\venv_scraper\\lib\\site-packages\\urllib3\\connectionpool.py:1043: InsecureRequestWarning: Unverified HTTPS request is being made to host 'www2.aneel.gov.br'. Adding certificate verification is strongly advised. See: https://urllib3.readthedocs.io/en/1.26.x/advanced-usage.html#ssl-warnings\n",
      "  warnings.warn(\n",
      "D:\\python_projects\\cpfl\\web_scrapper\\venv_scraper\\lib\\site-packages\\urllib3\\connectionpool.py:1043: InsecureRequestWarning: Unverified HTTPS request is being made to host 'www2.aneel.gov.br'. Adding certificate verification is strongly advised. See: https://urllib3.readthedocs.io/en/1.26.x/advanced-usage.html#ssl-warnings\n",
      "  warnings.warn(\n"
     ]
    },
    {
     "name": "stdout",
     "output_type": "stream",
     "text": [
      "Arquivo: \"PCAT_ETO_2017-07-04_REAJUSTE_(PCATETO2017).xlsx\" foi baixado com sucesso\n",
      "['PCAT_ETO_2018-07-04_REAJUSTE_(PCATETO2018).xlsx'\n",
      " 'https://www2.aneel.gov.br/aplicacoes/tarifa/arquivo/PCAT_ETO_2018.xlsx']\n",
      "Arquivo: \"PCAT_ETO_2017-07-04_REAJUSTE_(PCATETO2017).xlsx\" foi baixado com sucesso\n",
      "['PCAT_ETO_2018-07-04_REAJUSTE_(PCATETO2018).xlsx'\n",
      " 'https://www2.aneel.gov.br/aplicacoes/tarifa/arquivo/PCAT_ETO_2018.xlsx']\n"
     ]
    },
    {
     "name": "stderr",
     "output_type": "stream",
     "text": [
      "D:\\python_projects\\cpfl\\web_scrapper\\venv_scraper\\lib\\site-packages\\urllib3\\connectionpool.py:1043: InsecureRequestWarning: Unverified HTTPS request is being made to host 'www2.aneel.gov.br'. Adding certificate verification is strongly advised. See: https://urllib3.readthedocs.io/en/1.26.x/advanced-usage.html#ssl-warnings\n",
      "  warnings.warn(\n",
      "D:\\python_projects\\cpfl\\web_scrapper\\venv_scraper\\lib\\site-packages\\urllib3\\connectionpool.py:1043: InsecureRequestWarning: Unverified HTTPS request is being made to host 'www2.aneel.gov.br'. Adding certificate verification is strongly advised. See: https://urllib3.readthedocs.io/en/1.26.x/advanced-usage.html#ssl-warnings\n",
      "  warnings.warn(\n"
     ]
    },
    {
     "name": "stdout",
     "output_type": "stream",
     "text": [
      "Arquivo: \"PCAT_ETO_2018-07-04_REAJUSTE_(PCATETO2018).xlsx\" foi baixado com sucesso\n",
      "['PCAT_ETO_2019-07-04_REAJUSTE_(32PCATETO2019V02).xlsx'\n",
      " 'https://www2.aneel.gov.br/aplicacoes/tarifa/arquivo/32 PCAT ETO 2019 V02.xlsx']\n",
      "Arquivo: \"PCAT_ETO_2018-07-04_REAJUSTE_(PCATETO2018).xlsx\" foi baixado com sucesso\n",
      "['PCAT_ETO_2019-07-04_REAJUSTE_(32PCATETO2019V02).xlsx'\n",
      " 'https://www2.aneel.gov.br/aplicacoes/tarifa/arquivo/32 PCAT ETO 2019 V02.xlsx']\n"
     ]
    },
    {
     "name": "stderr",
     "output_type": "stream",
     "text": [
      "D:\\python_projects\\cpfl\\web_scrapper\\venv_scraper\\lib\\site-packages\\urllib3\\connectionpool.py:1043: InsecureRequestWarning: Unverified HTTPS request is being made to host 'www2.aneel.gov.br'. Adding certificate verification is strongly advised. See: https://urllib3.readthedocs.io/en/1.26.x/advanced-usage.html#ssl-warnings\n",
      "  warnings.warn(\n",
      "D:\\python_projects\\cpfl\\web_scrapper\\venv_scraper\\lib\\site-packages\\urllib3\\connectionpool.py:1043: InsecureRequestWarning: Unverified HTTPS request is being made to host 'www2.aneel.gov.br'. Adding certificate verification is strongly advised. See: https://urllib3.readthedocs.io/en/1.26.x/advanced-usage.html#ssl-warnings\n",
      "  warnings.warn(\n"
     ]
    },
    {
     "name": "stdout",
     "output_type": "stream",
     "text": [
      "Arquivo: \"PCAT_ETO_2019-07-04_REAJUSTE_(32PCATETO2019V02).xlsx\" foi baixado com sucesso\n",
      "['PCAT_ETO_2020-07-04_REVISAO_(32PCATETO2020V02).xlsx'\n",
      " 'https://www2.aneel.gov.br/aplicacoes/tarifa/arquivo/32 PCAT ETO 2020 V02.xlsx']\n",
      "Arquivo: \"PCAT_ETO_2019-07-04_REAJUSTE_(32PCATETO2019V02).xlsx\" foi baixado com sucesso\n",
      "['PCAT_ETO_2020-07-04_REVISAO_(32PCATETO2020V02).xlsx'\n",
      " 'https://www2.aneel.gov.br/aplicacoes/tarifa/arquivo/32 PCAT ETO 2020 V02.xlsx']\n"
     ]
    },
    {
     "name": "stderr",
     "output_type": "stream",
     "text": [
      "D:\\python_projects\\cpfl\\web_scrapper\\venv_scraper\\lib\\site-packages\\urllib3\\connectionpool.py:1043: InsecureRequestWarning: Unverified HTTPS request is being made to host 'www2.aneel.gov.br'. Adding certificate verification is strongly advised. See: https://urllib3.readthedocs.io/en/1.26.x/advanced-usage.html#ssl-warnings\n",
      "  warnings.warn(\n",
      "D:\\python_projects\\cpfl\\web_scrapper\\venv_scraper\\lib\\site-packages\\urllib3\\connectionpool.py:1043: InsecureRequestWarning: Unverified HTTPS request is being made to host 'www2.aneel.gov.br'. Adding certificate verification is strongly advised. See: https://urllib3.readthedocs.io/en/1.26.x/advanced-usage.html#ssl-warnings\n",
      "  warnings.warn(\n"
     ]
    },
    {
     "name": "stdout",
     "output_type": "stream",
     "text": [
      "Arquivo: \"PCAT_ETO_2020-07-04_REVISAO_(32PCATETO2020V02).xlsx\" foi baixado com sucesso\n",
      "['PCAT_ETO_2021-07-04_REAJUSTE_(32PCATETO2021V02).xlsx'\n",
      " 'https://www2.aneel.gov.br/aplicacoes/tarifa/arquivo/32 PCAT ETO 2021 V02.xlsx']\n",
      "Arquivo: \"PCAT_ETO_2020-07-04_REVISAO_(32PCATETO2020V02).xlsx\" foi baixado com sucesso\n",
      "['PCAT_ETO_2021-07-04_REAJUSTE_(32PCATETO2021V02).xlsx'\n",
      " 'https://www2.aneel.gov.br/aplicacoes/tarifa/arquivo/32 PCAT ETO 2021 V02.xlsx']\n"
     ]
    },
    {
     "name": "stderr",
     "output_type": "stream",
     "text": [
      "D:\\python_projects\\cpfl\\web_scrapper\\venv_scraper\\lib\\site-packages\\urllib3\\connectionpool.py:1043: InsecureRequestWarning: Unverified HTTPS request is being made to host 'www2.aneel.gov.br'. Adding certificate verification is strongly advised. See: https://urllib3.readthedocs.io/en/1.26.x/advanced-usage.html#ssl-warnings\n",
      "  warnings.warn(\n",
      "D:\\python_projects\\cpfl\\web_scrapper\\venv_scraper\\lib\\site-packages\\urllib3\\connectionpool.py:1043: InsecureRequestWarning: Unverified HTTPS request is being made to host 'www2.aneel.gov.br'. Adding certificate verification is strongly advised. See: https://urllib3.readthedocs.io/en/1.26.x/advanced-usage.html#ssl-warnings\n",
      "  warnings.warn(\n"
     ]
    },
    {
     "name": "stdout",
     "output_type": "stream",
     "text": [
      "Arquivo: \"PCAT_ETO_2021-07-04_REAJUSTE_(32PCATETO2021V02).xlsx\" foi baixado com sucesso\n",
      "['PCAT_FORCEL_2013-08-20_REAJUSTE_(PCATFORCEL2013).xlsx'\n",
      " 'https://www2.aneel.gov.br/aplicacoes/tarifa/arquivo/PCAT_FORCEL_2013.xlsx']\n",
      "Arquivo: \"PCAT_ETO_2021-07-04_REAJUSTE_(32PCATETO2021V02).xlsx\" foi baixado com sucesso\n",
      "['PCAT_FORCEL_2013-08-20_REAJUSTE_(PCATFORCEL2013).xlsx'\n",
      " 'https://www2.aneel.gov.br/aplicacoes/tarifa/arquivo/PCAT_FORCEL_2013.xlsx']\n"
     ]
    },
    {
     "name": "stderr",
     "output_type": "stream",
     "text": [
      "D:\\python_projects\\cpfl\\web_scrapper\\venv_scraper\\lib\\site-packages\\urllib3\\connectionpool.py:1043: InsecureRequestWarning: Unverified HTTPS request is being made to host 'www2.aneel.gov.br'. Adding certificate verification is strongly advised. See: https://urllib3.readthedocs.io/en/1.26.x/advanced-usage.html#ssl-warnings\n",
      "  warnings.warn(\n",
      "D:\\python_projects\\cpfl\\web_scrapper\\venv_scraper\\lib\\site-packages\\urllib3\\connectionpool.py:1043: InsecureRequestWarning: Unverified HTTPS request is being made to host 'www2.aneel.gov.br'. Adding certificate verification is strongly advised. See: https://urllib3.readthedocs.io/en/1.26.x/advanced-usage.html#ssl-warnings\n",
      "  warnings.warn(\n"
     ]
    },
    {
     "name": "stdout",
     "output_type": "stream",
     "text": [
      "Arquivo: \"PCAT_FORCEL_2013-08-20_REAJUSTE_(PCATFORCEL2013).xlsx\" foi baixado com sucesso\n",
      "['PCAT_FORCEL_2013-01-24_REAJUSTE_(PCATFORCEL20131).xlsx'\n",
      " 'https://www2.aneel.gov.br/aplicacoes/tarifa/arquivo/PCAT_FORCEL_20131.xlsx']\n",
      "Arquivo: \"PCAT_FORCEL_2013-08-20_REAJUSTE_(PCATFORCEL2013).xlsx\" foi baixado com sucesso\n",
      "['PCAT_FORCEL_2013-01-24_REAJUSTE_(PCATFORCEL20131).xlsx'\n",
      " 'https://www2.aneel.gov.br/aplicacoes/tarifa/arquivo/PCAT_FORCEL_20131.xlsx']\n"
     ]
    },
    {
     "name": "stderr",
     "output_type": "stream",
     "text": [
      "D:\\python_projects\\cpfl\\web_scrapper\\venv_scraper\\lib\\site-packages\\urllib3\\connectionpool.py:1043: InsecureRequestWarning: Unverified HTTPS request is being made to host 'www2.aneel.gov.br'. Adding certificate verification is strongly advised. See: https://urllib3.readthedocs.io/en/1.26.x/advanced-usage.html#ssl-warnings\n",
      "  warnings.warn(\n",
      "D:\\python_projects\\cpfl\\web_scrapper\\venv_scraper\\lib\\site-packages\\urllib3\\connectionpool.py:1043: InsecureRequestWarning: Unverified HTTPS request is being made to host 'www2.aneel.gov.br'. Adding certificate verification is strongly advised. See: https://urllib3.readthedocs.io/en/1.26.x/advanced-usage.html#ssl-warnings\n",
      "  warnings.warn(\n"
     ]
    },
    {
     "name": "stdout",
     "output_type": "stream",
     "text": [
      "Arquivo: \"PCAT_FORCEL_2013-01-24_REAJUSTE_(PCATFORCEL20131).xlsx\" foi baixado com sucesso\n",
      "['PCAT_FORCEL_2014-08-19_REAJUSTE_(PCATFORCEL2014).xlsx'\n",
      " 'https://www2.aneel.gov.br/aplicacoes/tarifa/arquivo/PCAT_FORCEL_2014.xlsx']\n",
      "Arquivo: \"PCAT_FORCEL_2013-01-24_REAJUSTE_(PCATFORCEL20131).xlsx\" foi baixado com sucesso\n",
      "['PCAT_FORCEL_2014-08-19_REAJUSTE_(PCATFORCEL2014).xlsx'\n",
      " 'https://www2.aneel.gov.br/aplicacoes/tarifa/arquivo/PCAT_FORCEL_2014.xlsx']\n"
     ]
    },
    {
     "name": "stderr",
     "output_type": "stream",
     "text": [
      "D:\\python_projects\\cpfl\\web_scrapper\\venv_scraper\\lib\\site-packages\\urllib3\\connectionpool.py:1043: InsecureRequestWarning: Unverified HTTPS request is being made to host 'www2.aneel.gov.br'. Adding certificate verification is strongly advised. See: https://urllib3.readthedocs.io/en/1.26.x/advanced-usage.html#ssl-warnings\n",
      "  warnings.warn(\n",
      "D:\\python_projects\\cpfl\\web_scrapper\\venv_scraper\\lib\\site-packages\\urllib3\\connectionpool.py:1043: InsecureRequestWarning: Unverified HTTPS request is being made to host 'www2.aneel.gov.br'. Adding certificate verification is strongly advised. See: https://urllib3.readthedocs.io/en/1.26.x/advanced-usage.html#ssl-warnings\n",
      "  warnings.warn(\n"
     ]
    },
    {
     "name": "stdout",
     "output_type": "stream",
     "text": [
      "Arquivo: \"PCAT_FORCEL_2014-08-19_REAJUSTE_(PCATFORCEL2014).xlsx\" foi baixado com sucesso\n",
      "['PCAT_FORCEL_2015-08-26_REAJUSTE_(PCATFORCEL2015).xlsx'\n",
      " 'https://www2.aneel.gov.br/aplicacoes/tarifa/arquivo/PCAT_Forcel_2015.xlsx']\n",
      "Arquivo: \"PCAT_FORCEL_2014-08-19_REAJUSTE_(PCATFORCEL2014).xlsx\" foi baixado com sucesso\n",
      "['PCAT_FORCEL_2015-08-26_REAJUSTE_(PCATFORCEL2015).xlsx'\n",
      " 'https://www2.aneel.gov.br/aplicacoes/tarifa/arquivo/PCAT_Forcel_2015.xlsx']\n"
     ]
    },
    {
     "name": "stderr",
     "output_type": "stream",
     "text": [
      "D:\\python_projects\\cpfl\\web_scrapper\\venv_scraper\\lib\\site-packages\\urllib3\\connectionpool.py:1043: InsecureRequestWarning: Unverified HTTPS request is being made to host 'www2.aneel.gov.br'. Adding certificate verification is strongly advised. See: https://urllib3.readthedocs.io/en/1.26.x/advanced-usage.html#ssl-warnings\n",
      "  warnings.warn(\n",
      "D:\\python_projects\\cpfl\\web_scrapper\\venv_scraper\\lib\\site-packages\\urllib3\\connectionpool.py:1043: InsecureRequestWarning: Unverified HTTPS request is being made to host 'www2.aneel.gov.br'. Adding certificate verification is strongly advised. See: https://urllib3.readthedocs.io/en/1.26.x/advanced-usage.html#ssl-warnings\n",
      "  warnings.warn(\n"
     ]
    },
    {
     "name": "stdout",
     "output_type": "stream",
     "text": [
      "Arquivo: \"PCAT_FORCEL_2015-08-26_REAJUSTE_(PCATFORCEL2015).xlsx\" foi baixado com sucesso\n",
      "['PCAT_FORCEL_2015-03-02_REVISAOEXTRAORDINARIA_(PCATFORCEL2014V00).xlsx'\n",
      " 'https://www2.aneel.gov.br/aplicacoes/tarifa/arquivo/PCAT_FORCEL_2014_V00.xlsx']\n",
      "Arquivo: \"PCAT_FORCEL_2015-08-26_REAJUSTE_(PCATFORCEL2015).xlsx\" foi baixado com sucesso\n",
      "['PCAT_FORCEL_2015-03-02_REVISAOEXTRAORDINARIA_(PCATFORCEL2014V00).xlsx'\n",
      " 'https://www2.aneel.gov.br/aplicacoes/tarifa/arquivo/PCAT_FORCEL_2014_V00.xlsx']\n"
     ]
    },
    {
     "name": "stderr",
     "output_type": "stream",
     "text": [
      "D:\\python_projects\\cpfl\\web_scrapper\\venv_scraper\\lib\\site-packages\\urllib3\\connectionpool.py:1043: InsecureRequestWarning: Unverified HTTPS request is being made to host 'www2.aneel.gov.br'. Adding certificate verification is strongly advised. See: https://urllib3.readthedocs.io/en/1.26.x/advanced-usage.html#ssl-warnings\n",
      "  warnings.warn(\n",
      "D:\\python_projects\\cpfl\\web_scrapper\\venv_scraper\\lib\\site-packages\\urllib3\\connectionpool.py:1043: InsecureRequestWarning: Unverified HTTPS request is being made to host 'www2.aneel.gov.br'. Adding certificate verification is strongly advised. See: https://urllib3.readthedocs.io/en/1.26.x/advanced-usage.html#ssl-warnings\n",
      "  warnings.warn(\n"
     ]
    },
    {
     "name": "stdout",
     "output_type": "stream",
     "text": [
      "Arquivo: \"PCAT_FORCEL_2015-03-02_REVISAOEXTRAORDINARIA_(PCATFORCEL2014V00).xlsx\" foi baixado com sucesso\n",
      "['PCAT_FORCEL_2016-08-26_REVISAO_(PCATFORCEL2016).xlsx'\n",
      " 'https://www2.aneel.gov.br/aplicacoes/tarifa/arquivo/PCAT_Forcel_2016.xlsx']\n",
      "Arquivo: \"PCAT_FORCEL_2015-03-02_REVISAOEXTRAORDINARIA_(PCATFORCEL2014V00).xlsx\" foi baixado com sucesso\n",
      "['PCAT_FORCEL_2016-08-26_REVISAO_(PCATFORCEL2016).xlsx'\n",
      " 'https://www2.aneel.gov.br/aplicacoes/tarifa/arquivo/PCAT_Forcel_2016.xlsx']\n"
     ]
    },
    {
     "name": "stderr",
     "output_type": "stream",
     "text": [
      "D:\\python_projects\\cpfl\\web_scrapper\\venv_scraper\\lib\\site-packages\\urllib3\\connectionpool.py:1043: InsecureRequestWarning: Unverified HTTPS request is being made to host 'www2.aneel.gov.br'. Adding certificate verification is strongly advised. See: https://urllib3.readthedocs.io/en/1.26.x/advanced-usage.html#ssl-warnings\n",
      "  warnings.warn(\n",
      "D:\\python_projects\\cpfl\\web_scrapper\\venv_scraper\\lib\\site-packages\\urllib3\\connectionpool.py:1043: InsecureRequestWarning: Unverified HTTPS request is being made to host 'www2.aneel.gov.br'. Adding certificate verification is strongly advised. See: https://urllib3.readthedocs.io/en/1.26.x/advanced-usage.html#ssl-warnings\n",
      "  warnings.warn(\n"
     ]
    },
    {
     "name": "stdout",
     "output_type": "stream",
     "text": [
      "Arquivo: \"PCAT_FORCEL_2016-08-26_REVISAO_(PCATFORCEL2016).xlsx\" foi baixado com sucesso\n",
      "['PCAT_FORCEL_2017-08-26_REAJUSTE_(PCATFORCEL2017).xlsx'\n",
      " 'https://www2.aneel.gov.br/aplicacoes/tarifa/arquivo/PCAT_Forcel_2017.xlsx']\n",
      "Arquivo: \"PCAT_FORCEL_2016-08-26_REVISAO_(PCATFORCEL2016).xlsx\" foi baixado com sucesso\n",
      "['PCAT_FORCEL_2017-08-26_REAJUSTE_(PCATFORCEL2017).xlsx'\n",
      " 'https://www2.aneel.gov.br/aplicacoes/tarifa/arquivo/PCAT_Forcel_2017.xlsx']\n"
     ]
    },
    {
     "name": "stderr",
     "output_type": "stream",
     "text": [
      "D:\\python_projects\\cpfl\\web_scrapper\\venv_scraper\\lib\\site-packages\\urllib3\\connectionpool.py:1043: InsecureRequestWarning: Unverified HTTPS request is being made to host 'www2.aneel.gov.br'. Adding certificate verification is strongly advised. See: https://urllib3.readthedocs.io/en/1.26.x/advanced-usage.html#ssl-warnings\n",
      "  warnings.warn(\n",
      "D:\\python_projects\\cpfl\\web_scrapper\\venv_scraper\\lib\\site-packages\\urllib3\\connectionpool.py:1043: InsecureRequestWarning: Unverified HTTPS request is being made to host 'www2.aneel.gov.br'. Adding certificate verification is strongly advised. See: https://urllib3.readthedocs.io/en/1.26.x/advanced-usage.html#ssl-warnings\n",
      "  warnings.warn(\n"
     ]
    },
    {
     "name": "stdout",
     "output_type": "stream",
     "text": [
      "Arquivo: \"PCAT_FORCEL_2017-08-26_REAJUSTE_(PCATFORCEL2017).xlsx\" foi baixado com sucesso\n",
      "['PCAT_FORCEL_2018-08-26_REAJUSTE_(PCATFORCEL2018).xlsx'\n",
      " 'https://www2.aneel.gov.br/aplicacoes/tarifa/arquivo/PCAT_Forcel_2018.xlsx']\n",
      "Arquivo: \"PCAT_FORCEL_2017-08-26_REAJUSTE_(PCATFORCEL2017).xlsx\" foi baixado com sucesso\n",
      "['PCAT_FORCEL_2018-08-26_REAJUSTE_(PCATFORCEL2018).xlsx'\n",
      " 'https://www2.aneel.gov.br/aplicacoes/tarifa/arquivo/PCAT_Forcel_2018.xlsx']\n"
     ]
    },
    {
     "name": "stderr",
     "output_type": "stream",
     "text": [
      "D:\\python_projects\\cpfl\\web_scrapper\\venv_scraper\\lib\\site-packages\\urllib3\\connectionpool.py:1043: InsecureRequestWarning: Unverified HTTPS request is being made to host 'www2.aneel.gov.br'. Adding certificate verification is strongly advised. See: https://urllib3.readthedocs.io/en/1.26.x/advanced-usage.html#ssl-warnings\n",
      "  warnings.warn(\n",
      "D:\\python_projects\\cpfl\\web_scrapper\\venv_scraper\\lib\\site-packages\\urllib3\\connectionpool.py:1043: InsecureRequestWarning: Unverified HTTPS request is being made to host 'www2.aneel.gov.br'. Adding certificate verification is strongly advised. See: https://urllib3.readthedocs.io/en/1.26.x/advanced-usage.html#ssl-warnings\n",
      "  warnings.warn(\n"
     ]
    },
    {
     "name": "stdout",
     "output_type": "stream",
     "text": [
      "Arquivo: \"PCAT_FORCEL_2018-08-26_REAJUSTE_(PCATFORCEL2018).xlsx\" foi baixado com sucesso\n",
      "['PCAT_FORCEL_2019-08-26_REAJUSTE_(83PCATFORCEL2019).xlsx'\n",
      " 'https://www2.aneel.gov.br/aplicacoes/tarifa/arquivo/83 PCAT Forcel 2019.xlsx']\n",
      "Arquivo: \"PCAT_FORCEL_2018-08-26_REAJUSTE_(PCATFORCEL2018).xlsx\" foi baixado com sucesso\n",
      "['PCAT_FORCEL_2019-08-26_REAJUSTE_(83PCATFORCEL2019).xlsx'\n",
      " 'https://www2.aneel.gov.br/aplicacoes/tarifa/arquivo/83 PCAT Forcel 2019.xlsx']\n"
     ]
    },
    {
     "name": "stderr",
     "output_type": "stream",
     "text": [
      "D:\\python_projects\\cpfl\\web_scrapper\\venv_scraper\\lib\\site-packages\\urllib3\\connectionpool.py:1043: InsecureRequestWarning: Unverified HTTPS request is being made to host 'www2.aneel.gov.br'. Adding certificate verification is strongly advised. See: https://urllib3.readthedocs.io/en/1.26.x/advanced-usage.html#ssl-warnings\n",
      "  warnings.warn(\n",
      "D:\\python_projects\\cpfl\\web_scrapper\\venv_scraper\\lib\\site-packages\\urllib3\\connectionpool.py:1043: InsecureRequestWarning: Unverified HTTPS request is being made to host 'www2.aneel.gov.br'. Adding certificate verification is strongly advised. See: https://urllib3.readthedocs.io/en/1.26.x/advanced-usage.html#ssl-warnings\n",
      "  warnings.warn(\n"
     ]
    },
    {
     "name": "stdout",
     "output_type": "stream",
     "text": [
      "Arquivo: \"PCAT_FORCEL_2019-08-26_REAJUSTE_(83PCATFORCEL2019).xlsx\" foi baixado com sucesso\n",
      "['PCAT_FORCEL_2020-08-26_REAJUSTE_(83PCATFORCEL2020V02).xlsx'\n",
      " 'https://www2.aneel.gov.br/aplicacoes/tarifa/arquivo/83 PCAT Forcel 2020 V02.xlsx']\n",
      "Arquivo: \"PCAT_FORCEL_2019-08-26_REAJUSTE_(83PCATFORCEL2019).xlsx\" foi baixado com sucesso\n",
      "['PCAT_FORCEL_2020-08-26_REAJUSTE_(83PCATFORCEL2020V02).xlsx'\n",
      " 'https://www2.aneel.gov.br/aplicacoes/tarifa/arquivo/83 PCAT Forcel 2020 V02.xlsx']\n"
     ]
    },
    {
     "name": "stderr",
     "output_type": "stream",
     "text": [
      "D:\\python_projects\\cpfl\\web_scrapper\\venv_scraper\\lib\\site-packages\\urllib3\\connectionpool.py:1043: InsecureRequestWarning: Unverified HTTPS request is being made to host 'www2.aneel.gov.br'. Adding certificate verification is strongly advised. See: https://urllib3.readthedocs.io/en/1.26.x/advanced-usage.html#ssl-warnings\n",
      "  warnings.warn(\n",
      "D:\\python_projects\\cpfl\\web_scrapper\\venv_scraper\\lib\\site-packages\\urllib3\\connectionpool.py:1043: InsecureRequestWarning: Unverified HTTPS request is being made to host 'www2.aneel.gov.br'. Adding certificate verification is strongly advised. See: https://urllib3.readthedocs.io/en/1.26.x/advanced-usage.html#ssl-warnings\n",
      "  warnings.warn(\n"
     ]
    },
    {
     "name": "stdout",
     "output_type": "stream",
     "text": [
      "Arquivo: \"PCAT_FORCEL_2020-08-26_REAJUSTE_(83PCATFORCEL2020V02).xlsx\" foi baixado com sucesso\n",
      "['PCAT_FORCEL_2021-08-26_REVISAO_(83PCATFORCEL2021V02).xlsx'\n",
      " 'https://www2.aneel.gov.br/aplicacoes/tarifa/arquivo/83 PCAT Forcel 2021 V02.xlsx']\n",
      "Arquivo: \"PCAT_FORCEL_2020-08-26_REAJUSTE_(83PCATFORCEL2020V02).xlsx\" foi baixado com sucesso\n",
      "['PCAT_FORCEL_2021-08-26_REVISAO_(83PCATFORCEL2021V02).xlsx'\n",
      " 'https://www2.aneel.gov.br/aplicacoes/tarifa/arquivo/83 PCAT Forcel 2021 V02.xlsx']\n"
     ]
    },
    {
     "name": "stderr",
     "output_type": "stream",
     "text": [
      "D:\\python_projects\\cpfl\\web_scrapper\\venv_scraper\\lib\\site-packages\\urllib3\\connectionpool.py:1043: InsecureRequestWarning: Unverified HTTPS request is being made to host 'www2.aneel.gov.br'. Adding certificate verification is strongly advised. See: https://urllib3.readthedocs.io/en/1.26.x/advanced-usage.html#ssl-warnings\n",
      "  warnings.warn(\n",
      "D:\\python_projects\\cpfl\\web_scrapper\\venv_scraper\\lib\\site-packages\\urllib3\\connectionpool.py:1043: InsecureRequestWarning: Unverified HTTPS request is being made to host 'www2.aneel.gov.br'. Adding certificate verification is strongly advised. See: https://urllib3.readthedocs.io/en/1.26.x/advanced-usage.html#ssl-warnings\n",
      "  warnings.warn(\n"
     ]
    },
    {
     "name": "stdout",
     "output_type": "stream",
     "text": [
      "Arquivo: \"PCAT_FORCEL_2021-08-26_REVISAO_(83PCATFORCEL2021V02).xlsx\" foi baixado com sucesso\n",
      "['PCAT_HIDROPAN_2014-06-24_REAJUSTE_(PCATHIDROPAN2014).xlsx'\n",
      " 'https://www2.aneel.gov.br/aplicacoes/tarifa/arquivo/PCAT_HIDROPAN_2014.xlsx']\n",
      "Arquivo: \"PCAT_FORCEL_2021-08-26_REVISAO_(83PCATFORCEL2021V02).xlsx\" foi baixado com sucesso\n",
      "['PCAT_HIDROPAN_2014-06-24_REAJUSTE_(PCATHIDROPAN2014).xlsx'\n",
      " 'https://www2.aneel.gov.br/aplicacoes/tarifa/arquivo/PCAT_HIDROPAN_2014.xlsx']\n"
     ]
    },
    {
     "name": "stderr",
     "output_type": "stream",
     "text": [
      "D:\\python_projects\\cpfl\\web_scrapper\\venv_scraper\\lib\\site-packages\\urllib3\\connectionpool.py:1043: InsecureRequestWarning: Unverified HTTPS request is being made to host 'www2.aneel.gov.br'. Adding certificate verification is strongly advised. See: https://urllib3.readthedocs.io/en/1.26.x/advanced-usage.html#ssl-warnings\n",
      "  warnings.warn(\n",
      "D:\\python_projects\\cpfl\\web_scrapper\\venv_scraper\\lib\\site-packages\\urllib3\\connectionpool.py:1043: InsecureRequestWarning: Unverified HTTPS request is being made to host 'www2.aneel.gov.br'. Adding certificate verification is strongly advised. See: https://urllib3.readthedocs.io/en/1.26.x/advanced-usage.html#ssl-warnings\n",
      "  warnings.warn(\n"
     ]
    },
    {
     "name": "stdout",
     "output_type": "stream",
     "text": [
      "Arquivo: \"PCAT_HIDROPAN_2014-06-24_REAJUSTE_(PCATHIDROPAN2014).xlsx\" foi baixado com sucesso\n",
      "['PCAT_HIDROPAN_2015-06-29_REAJUSTE_(PCATHIDROPAN2015).xlsx'\n",
      " 'https://www2.aneel.gov.br/aplicacoes/tarifa/arquivo/PCAT_Hidropan_2015.xlsx']\n",
      "Arquivo: \"PCAT_HIDROPAN_2014-06-24_REAJUSTE_(PCATHIDROPAN2014).xlsx\" foi baixado com sucesso\n",
      "['PCAT_HIDROPAN_2015-06-29_REAJUSTE_(PCATHIDROPAN2015).xlsx'\n",
      " 'https://www2.aneel.gov.br/aplicacoes/tarifa/arquivo/PCAT_Hidropan_2015.xlsx']\n"
     ]
    },
    {
     "name": "stderr",
     "output_type": "stream",
     "text": [
      "D:\\python_projects\\cpfl\\web_scrapper\\venv_scraper\\lib\\site-packages\\urllib3\\connectionpool.py:1043: InsecureRequestWarning: Unverified HTTPS request is being made to host 'www2.aneel.gov.br'. Adding certificate verification is strongly advised. See: https://urllib3.readthedocs.io/en/1.26.x/advanced-usage.html#ssl-warnings\n",
      "  warnings.warn(\n",
      "D:\\python_projects\\cpfl\\web_scrapper\\venv_scraper\\lib\\site-packages\\urllib3\\connectionpool.py:1043: InsecureRequestWarning: Unverified HTTPS request is being made to host 'www2.aneel.gov.br'. Adding certificate verification is strongly advised. See: https://urllib3.readthedocs.io/en/1.26.x/advanced-usage.html#ssl-warnings\n",
      "  warnings.warn(\n"
     ]
    },
    {
     "name": "stdout",
     "output_type": "stream",
     "text": [
      "Arquivo: \"PCAT_HIDROPAN_2015-06-29_REAJUSTE_(PCATHIDROPAN2015).xlsx\" foi baixado com sucesso\n",
      "['PCAT_HIDROPAN_2015-03-02_REVISAOEXTRAORDINARIA_(PCATHIDROPAN2014V00).xlsx'\n",
      " 'https://www2.aneel.gov.br/aplicacoes/tarifa/arquivo/PCAT_HIDROPAN_2014_V00.xlsx']\n",
      "Arquivo: \"PCAT_HIDROPAN_2015-06-29_REAJUSTE_(PCATHIDROPAN2015).xlsx\" foi baixado com sucesso\n",
      "['PCAT_HIDROPAN_2015-03-02_REVISAOEXTRAORDINARIA_(PCATHIDROPAN2014V00).xlsx'\n",
      " 'https://www2.aneel.gov.br/aplicacoes/tarifa/arquivo/PCAT_HIDROPAN_2014_V00.xlsx']\n"
     ]
    },
    {
     "name": "stderr",
     "output_type": "stream",
     "text": [
      "D:\\python_projects\\cpfl\\web_scrapper\\venv_scraper\\lib\\site-packages\\urllib3\\connectionpool.py:1043: InsecureRequestWarning: Unverified HTTPS request is being made to host 'www2.aneel.gov.br'. Adding certificate verification is strongly advised. See: https://urllib3.readthedocs.io/en/1.26.x/advanced-usage.html#ssl-warnings\n",
      "  warnings.warn(\n",
      "D:\\python_projects\\cpfl\\web_scrapper\\venv_scraper\\lib\\site-packages\\urllib3\\connectionpool.py:1043: InsecureRequestWarning: Unverified HTTPS request is being made to host 'www2.aneel.gov.br'. Adding certificate verification is strongly advised. See: https://urllib3.readthedocs.io/en/1.26.x/advanced-usage.html#ssl-warnings\n",
      "  warnings.warn(\n"
     ]
    },
    {
     "name": "stdout",
     "output_type": "stream",
     "text": [
      "Arquivo: \"PCAT_HIDROPAN_2015-03-02_REVISAOEXTRAORDINARIA_(PCATHIDROPAN2014V00).xlsx\" foi baixado com sucesso\n",
      "['PCAT_HIDROPAN_2016-07-22_REAJUSTE_(PCATHIDROPAN2016).xlsx'\n",
      " 'https://www2.aneel.gov.br/aplicacoes/tarifa/arquivo/PCAT_Hidropan_2016.xlsx']\n",
      "Arquivo: \"PCAT_HIDROPAN_2015-03-02_REVISAOEXTRAORDINARIA_(PCATHIDROPAN2014V00).xlsx\" foi baixado com sucesso\n",
      "['PCAT_HIDROPAN_2016-07-22_REAJUSTE_(PCATHIDROPAN2016).xlsx'\n",
      " 'https://www2.aneel.gov.br/aplicacoes/tarifa/arquivo/PCAT_Hidropan_2016.xlsx']\n"
     ]
    },
    {
     "name": "stderr",
     "output_type": "stream",
     "text": [
      "D:\\python_projects\\cpfl\\web_scrapper\\venv_scraper\\lib\\site-packages\\urllib3\\connectionpool.py:1043: InsecureRequestWarning: Unverified HTTPS request is being made to host 'www2.aneel.gov.br'. Adding certificate verification is strongly advised. See: https://urllib3.readthedocs.io/en/1.26.x/advanced-usage.html#ssl-warnings\n",
      "  warnings.warn(\n",
      "D:\\python_projects\\cpfl\\web_scrapper\\venv_scraper\\lib\\site-packages\\urllib3\\connectionpool.py:1043: InsecureRequestWarning: Unverified HTTPS request is being made to host 'www2.aneel.gov.br'. Adding certificate verification is strongly advised. See: https://urllib3.readthedocs.io/en/1.26.x/advanced-usage.html#ssl-warnings\n",
      "  warnings.warn(\n"
     ]
    },
    {
     "name": "stdout",
     "output_type": "stream",
     "text": [
      "Arquivo: \"PCAT_HIDROPAN_2016-07-22_REAJUSTE_(PCATHIDROPAN2016).xlsx\" foi baixado com sucesso\n",
      "['PCAT_HIDROPAN_2017-07-22_REVISAO_(PCATHIDROPAN2017).xlsx'\n",
      " 'https://www2.aneel.gov.br/aplicacoes/tarifa/arquivo/PCAT_Hidropan_2017.xlsx']\n",
      "Arquivo: \"PCAT_HIDROPAN_2016-07-22_REAJUSTE_(PCATHIDROPAN2016).xlsx\" foi baixado com sucesso\n",
      "['PCAT_HIDROPAN_2017-07-22_REVISAO_(PCATHIDROPAN2017).xlsx'\n",
      " 'https://www2.aneel.gov.br/aplicacoes/tarifa/arquivo/PCAT_Hidropan_2017.xlsx']\n"
     ]
    },
    {
     "name": "stderr",
     "output_type": "stream",
     "text": [
      "D:\\python_projects\\cpfl\\web_scrapper\\venv_scraper\\lib\\site-packages\\urllib3\\connectionpool.py:1043: InsecureRequestWarning: Unverified HTTPS request is being made to host 'www2.aneel.gov.br'. Adding certificate verification is strongly advised. See: https://urllib3.readthedocs.io/en/1.26.x/advanced-usage.html#ssl-warnings\n",
      "  warnings.warn(\n",
      "D:\\python_projects\\cpfl\\web_scrapper\\venv_scraper\\lib\\site-packages\\urllib3\\connectionpool.py:1043: InsecureRequestWarning: Unverified HTTPS request is being made to host 'www2.aneel.gov.br'. Adding certificate verification is strongly advised. See: https://urllib3.readthedocs.io/en/1.26.x/advanced-usage.html#ssl-warnings\n",
      "  warnings.warn(\n"
     ]
    },
    {
     "name": "stdout",
     "output_type": "stream",
     "text": [
      "Arquivo: \"PCAT_HIDROPAN_2017-07-22_REVISAO_(PCATHIDROPAN2017).xlsx\" foi baixado com sucesso\n",
      "['PCAT_HIDROPAN_2018-07-22_REAJUSTE_(PCATHIDROPAN2018).xlsx'\n",
      " 'https://www2.aneel.gov.br/aplicacoes/tarifa/arquivo/PCAT_Hidropan_2018.xlsx']\n",
      "Arquivo: \"PCAT_HIDROPAN_2017-07-22_REVISAO_(PCATHIDROPAN2017).xlsx\" foi baixado com sucesso\n",
      "['PCAT_HIDROPAN_2018-07-22_REAJUSTE_(PCATHIDROPAN2018).xlsx'\n",
      " 'https://www2.aneel.gov.br/aplicacoes/tarifa/arquivo/PCAT_Hidropan_2018.xlsx']\n"
     ]
    },
    {
     "name": "stderr",
     "output_type": "stream",
     "text": [
      "D:\\python_projects\\cpfl\\web_scrapper\\venv_scraper\\lib\\site-packages\\urllib3\\connectionpool.py:1043: InsecureRequestWarning: Unverified HTTPS request is being made to host 'www2.aneel.gov.br'. Adding certificate verification is strongly advised. See: https://urllib3.readthedocs.io/en/1.26.x/advanced-usage.html#ssl-warnings\n",
      "  warnings.warn(\n",
      "D:\\python_projects\\cpfl\\web_scrapper\\venv_scraper\\lib\\site-packages\\urllib3\\connectionpool.py:1043: InsecureRequestWarning: Unverified HTTPS request is being made to host 'www2.aneel.gov.br'. Adding certificate verification is strongly advised. See: https://urllib3.readthedocs.io/en/1.26.x/advanced-usage.html#ssl-warnings\n",
      "  warnings.warn(\n"
     ]
    },
    {
     "name": "stdout",
     "output_type": "stream",
     "text": [
      "Arquivo: \"PCAT_HIDROPAN_2018-07-22_REAJUSTE_(PCATHIDROPAN2018).xlsx\" foi baixado com sucesso\n",
      "['PCAT_HIDROPAN_2019-07-22_REAJUSTE_(399PCATHIDROPAN2019V02).xlsx'\n",
      " 'https://www2.aneel.gov.br/aplicacoes/tarifa/arquivo/399 PCAT Hidropan 2019 V02.xlsx']\n",
      "Arquivo: \"PCAT_HIDROPAN_2018-07-22_REAJUSTE_(PCATHIDROPAN2018).xlsx\" foi baixado com sucesso\n",
      "['PCAT_HIDROPAN_2019-07-22_REAJUSTE_(399PCATHIDROPAN2019V02).xlsx'\n",
      " 'https://www2.aneel.gov.br/aplicacoes/tarifa/arquivo/399 PCAT Hidropan 2019 V02.xlsx']\n"
     ]
    },
    {
     "name": "stderr",
     "output_type": "stream",
     "text": [
      "D:\\python_projects\\cpfl\\web_scrapper\\venv_scraper\\lib\\site-packages\\urllib3\\connectionpool.py:1043: InsecureRequestWarning: Unverified HTTPS request is being made to host 'www2.aneel.gov.br'. Adding certificate verification is strongly advised. See: https://urllib3.readthedocs.io/en/1.26.x/advanced-usage.html#ssl-warnings\n",
      "  warnings.warn(\n",
      "D:\\python_projects\\cpfl\\web_scrapper\\venv_scraper\\lib\\site-packages\\urllib3\\connectionpool.py:1043: InsecureRequestWarning: Unverified HTTPS request is being made to host 'www2.aneel.gov.br'. Adding certificate verification is strongly advised. See: https://urllib3.readthedocs.io/en/1.26.x/advanced-usage.html#ssl-warnings\n",
      "  warnings.warn(\n"
     ]
    },
    {
     "name": "stdout",
     "output_type": "stream",
     "text": [
      "Arquivo: \"PCAT_HIDROPAN_2019-07-22_REAJUSTE_(399PCATHIDROPAN2019V02).xlsx\" foi baixado com sucesso\n",
      "['PCAT_HIDROPAN_2020-07-22_REAJUSTE_(399PCATHIDROPAN2020V02).xlsx'\n",
      " 'https://www2.aneel.gov.br/aplicacoes/tarifa/arquivo/399 PCAT Hidropan 2020 V02.xlsx']\n",
      "Arquivo: \"PCAT_HIDROPAN_2019-07-22_REAJUSTE_(399PCATHIDROPAN2019V02).xlsx\" foi baixado com sucesso\n",
      "['PCAT_HIDROPAN_2020-07-22_REAJUSTE_(399PCATHIDROPAN2020V02).xlsx'\n",
      " 'https://www2.aneel.gov.br/aplicacoes/tarifa/arquivo/399 PCAT Hidropan 2020 V02.xlsx']\n"
     ]
    },
    {
     "name": "stderr",
     "output_type": "stream",
     "text": [
      "D:\\python_projects\\cpfl\\web_scrapper\\venv_scraper\\lib\\site-packages\\urllib3\\connectionpool.py:1043: InsecureRequestWarning: Unverified HTTPS request is being made to host 'www2.aneel.gov.br'. Adding certificate verification is strongly advised. See: https://urllib3.readthedocs.io/en/1.26.x/advanced-usage.html#ssl-warnings\n",
      "  warnings.warn(\n",
      "D:\\python_projects\\cpfl\\web_scrapper\\venv_scraper\\lib\\site-packages\\urllib3\\connectionpool.py:1043: InsecureRequestWarning: Unverified HTTPS request is being made to host 'www2.aneel.gov.br'. Adding certificate verification is strongly advised. See: https://urllib3.readthedocs.io/en/1.26.x/advanced-usage.html#ssl-warnings\n",
      "  warnings.warn(\n"
     ]
    },
    {
     "name": "stdout",
     "output_type": "stream",
     "text": [
      "Arquivo: \"PCAT_HIDROPAN_2020-07-22_REAJUSTE_(399PCATHIDROPAN2020V02).xlsx\" foi baixado com sucesso\n",
      "['PCAT_HIDROPAN_2021-07-22_REAJUSTE_(399PCATHIDROPAN2021V02).xlsx'\n",
      " 'https://www2.aneel.gov.br/aplicacoes/tarifa/arquivo/399 PCAT Hidropan 2021 V02.xlsx']\n",
      "Arquivo: \"PCAT_HIDROPAN_2020-07-22_REAJUSTE_(399PCATHIDROPAN2020V02).xlsx\" foi baixado com sucesso\n",
      "['PCAT_HIDROPAN_2021-07-22_REAJUSTE_(399PCATHIDROPAN2021V02).xlsx'\n",
      " 'https://www2.aneel.gov.br/aplicacoes/tarifa/arquivo/399 PCAT Hidropan 2021 V02.xlsx']\n"
     ]
    },
    {
     "name": "stderr",
     "output_type": "stream",
     "text": [
      "D:\\python_projects\\cpfl\\web_scrapper\\venv_scraper\\lib\\site-packages\\urllib3\\connectionpool.py:1043: InsecureRequestWarning: Unverified HTTPS request is being made to host 'www2.aneel.gov.br'. Adding certificate verification is strongly advised. See: https://urllib3.readthedocs.io/en/1.26.x/advanced-usage.html#ssl-warnings\n",
      "  warnings.warn(\n",
      "D:\\python_projects\\cpfl\\web_scrapper\\venv_scraper\\lib\\site-packages\\urllib3\\connectionpool.py:1043: InsecureRequestWarning: Unverified HTTPS request is being made to host 'www2.aneel.gov.br'. Adding certificate verification is strongly advised. See: https://urllib3.readthedocs.io/en/1.26.x/advanced-usage.html#ssl-warnings\n",
      "  warnings.warn(\n"
     ]
    },
    {
     "name": "stdout",
     "output_type": "stream",
     "text": [
      "Arquivo: \"PCAT_HIDROPAN_2021-07-22_REAJUSTE_(399PCATHIDROPAN2021V02).xlsx\" foi baixado com sucesso\n",
      "['PCAT_LIGHT_2014-11-07_REAJUSTE_(PCATLIGHT2014).xlsx'\n",
      " 'https://www2.aneel.gov.br/aplicacoes/tarifa/arquivo/PCAT_LIGHT_2014.xlsx']\n",
      "Arquivo: \"PCAT_HIDROPAN_2021-07-22_REAJUSTE_(399PCATHIDROPAN2021V02).xlsx\" foi baixado com sucesso\n",
      "['PCAT_LIGHT_2014-11-07_REAJUSTE_(PCATLIGHT2014).xlsx'\n",
      " 'https://www2.aneel.gov.br/aplicacoes/tarifa/arquivo/PCAT_LIGHT_2014.xlsx']\n"
     ]
    },
    {
     "name": "stderr",
     "output_type": "stream",
     "text": [
      "D:\\python_projects\\cpfl\\web_scrapper\\venv_scraper\\lib\\site-packages\\urllib3\\connectionpool.py:1043: InsecureRequestWarning: Unverified HTTPS request is being made to host 'www2.aneel.gov.br'. Adding certificate verification is strongly advised. See: https://urllib3.readthedocs.io/en/1.26.x/advanced-usage.html#ssl-warnings\n",
      "  warnings.warn(\n",
      "D:\\python_projects\\cpfl\\web_scrapper\\venv_scraper\\lib\\site-packages\\urllib3\\connectionpool.py:1043: InsecureRequestWarning: Unverified HTTPS request is being made to host 'www2.aneel.gov.br'. Adding certificate verification is strongly advised. See: https://urllib3.readthedocs.io/en/1.26.x/advanced-usage.html#ssl-warnings\n",
      "  warnings.warn(\n"
     ]
    },
    {
     "name": "stdout",
     "output_type": "stream",
     "text": [
      "Arquivo: \"PCAT_LIGHT_2014-11-07_REAJUSTE_(PCATLIGHT2014).xlsx\" foi baixado com sucesso\n",
      "['PCAT_LIGHT_2015-11-07_REAJUSTE_(PCATLIGHT2015).xlsx'\n",
      " 'https://www2.aneel.gov.br/aplicacoes/tarifa/arquivo/PCAT_Light_2015.xlsx']\n",
      "Arquivo: \"PCAT_LIGHT_2014-11-07_REAJUSTE_(PCATLIGHT2014).xlsx\" foi baixado com sucesso\n",
      "['PCAT_LIGHT_2015-11-07_REAJUSTE_(PCATLIGHT2015).xlsx'\n",
      " 'https://www2.aneel.gov.br/aplicacoes/tarifa/arquivo/PCAT_Light_2015.xlsx']\n"
     ]
    },
    {
     "name": "stderr",
     "output_type": "stream",
     "text": [
      "D:\\python_projects\\cpfl\\web_scrapper\\venv_scraper\\lib\\site-packages\\urllib3\\connectionpool.py:1043: InsecureRequestWarning: Unverified HTTPS request is being made to host 'www2.aneel.gov.br'. Adding certificate verification is strongly advised. See: https://urllib3.readthedocs.io/en/1.26.x/advanced-usage.html#ssl-warnings\n",
      "  warnings.warn(\n",
      "D:\\python_projects\\cpfl\\web_scrapper\\venv_scraper\\lib\\site-packages\\urllib3\\connectionpool.py:1043: InsecureRequestWarning: Unverified HTTPS request is being made to host 'www2.aneel.gov.br'. Adding certificate verification is strongly advised. See: https://urllib3.readthedocs.io/en/1.26.x/advanced-usage.html#ssl-warnings\n",
      "  warnings.warn(\n"
     ]
    },
    {
     "name": "stdout",
     "output_type": "stream",
     "text": [
      "Arquivo: \"PCAT_LIGHT_2015-11-07_REAJUSTE_(PCATLIGHT2015).xlsx\" foi baixado com sucesso\n",
      "['PCAT_LIGHT_2015-03-02_REVISAOEXTRAORDINARIA_(PCATLIGHT2014CAT).xlsx'\n",
      " 'https://www2.aneel.gov.br/aplicacoes/tarifa/arquivo/PCAT_LIGHT_2014_CAT.xlsx']\n",
      "Arquivo: \"PCAT_LIGHT_2015-11-07_REAJUSTE_(PCATLIGHT2015).xlsx\" foi baixado com sucesso\n",
      "['PCAT_LIGHT_2015-03-02_REVISAOEXTRAORDINARIA_(PCATLIGHT2014CAT).xlsx'\n",
      " 'https://www2.aneel.gov.br/aplicacoes/tarifa/arquivo/PCAT_LIGHT_2014_CAT.xlsx']\n"
     ]
    },
    {
     "name": "stderr",
     "output_type": "stream",
     "text": [
      "D:\\python_projects\\cpfl\\web_scrapper\\venv_scraper\\lib\\site-packages\\urllib3\\connectionpool.py:1043: InsecureRequestWarning: Unverified HTTPS request is being made to host 'www2.aneel.gov.br'. Adding certificate verification is strongly advised. See: https://urllib3.readthedocs.io/en/1.26.x/advanced-usage.html#ssl-warnings\n",
      "  warnings.warn(\n",
      "D:\\python_projects\\cpfl\\web_scrapper\\venv_scraper\\lib\\site-packages\\urllib3\\connectionpool.py:1043: InsecureRequestWarning: Unverified HTTPS request is being made to host 'www2.aneel.gov.br'. Adding certificate verification is strongly advised. See: https://urllib3.readthedocs.io/en/1.26.x/advanced-usage.html#ssl-warnings\n",
      "  warnings.warn(\n"
     ]
    },
    {
     "name": "stdout",
     "output_type": "stream",
     "text": [
      "Arquivo: \"PCAT_LIGHT_2015-03-02_REVISAOEXTRAORDINARIA_(PCATLIGHT2014CAT).xlsx\" foi baixado com sucesso\n",
      "['PCAT_LIGHT_2016-11-07_REAJUSTE_(PCATLIGHT2016).xlsx'\n",
      " 'https://www2.aneel.gov.br/aplicacoes/tarifa/arquivo/PCAT_Light_2016.xlsx']\n",
      "Arquivo: \"PCAT_LIGHT_2015-03-02_REVISAOEXTRAORDINARIA_(PCATLIGHT2014CAT).xlsx\" foi baixado com sucesso\n",
      "['PCAT_LIGHT_2016-11-07_REAJUSTE_(PCATLIGHT2016).xlsx'\n",
      " 'https://www2.aneel.gov.br/aplicacoes/tarifa/arquivo/PCAT_Light_2016.xlsx']\n"
     ]
    },
    {
     "name": "stderr",
     "output_type": "stream",
     "text": [
      "D:\\python_projects\\cpfl\\web_scrapper\\venv_scraper\\lib\\site-packages\\urllib3\\connectionpool.py:1043: InsecureRequestWarning: Unverified HTTPS request is being made to host 'www2.aneel.gov.br'. Adding certificate verification is strongly advised. See: https://urllib3.readthedocs.io/en/1.26.x/advanced-usage.html#ssl-warnings\n",
      "  warnings.warn(\n",
      "D:\\python_projects\\cpfl\\web_scrapper\\venv_scraper\\lib\\site-packages\\urllib3\\connectionpool.py:1043: InsecureRequestWarning: Unverified HTTPS request is being made to host 'www2.aneel.gov.br'. Adding certificate verification is strongly advised. See: https://urllib3.readthedocs.io/en/1.26.x/advanced-usage.html#ssl-warnings\n",
      "  warnings.warn(\n"
     ]
    },
    {
     "name": "stdout",
     "output_type": "stream",
     "text": [
      "Arquivo: \"PCAT_LIGHT_2016-11-07_REAJUSTE_(PCATLIGHT2016).xlsx\" foi baixado com sucesso\n",
      "['PCAT_LIGHT_2017-03-15_REVISAO_(PCATLIGHT2017).xlsx'\n",
      " 'https://www2.aneel.gov.br/aplicacoes/tarifa/arquivo/PCAT_Light_2017.xlsx']\n",
      "Arquivo: \"PCAT_LIGHT_2016-11-07_REAJUSTE_(PCATLIGHT2016).xlsx\" foi baixado com sucesso\n",
      "['PCAT_LIGHT_2017-03-15_REVISAO_(PCATLIGHT2017).xlsx'\n",
      " 'https://www2.aneel.gov.br/aplicacoes/tarifa/arquivo/PCAT_Light_2017.xlsx']\n"
     ]
    },
    {
     "name": "stderr",
     "output_type": "stream",
     "text": [
      "D:\\python_projects\\cpfl\\web_scrapper\\venv_scraper\\lib\\site-packages\\urllib3\\connectionpool.py:1043: InsecureRequestWarning: Unverified HTTPS request is being made to host 'www2.aneel.gov.br'. Adding certificate verification is strongly advised. See: https://urllib3.readthedocs.io/en/1.26.x/advanced-usage.html#ssl-warnings\n",
      "  warnings.warn(\n",
      "D:\\python_projects\\cpfl\\web_scrapper\\venv_scraper\\lib\\site-packages\\urllib3\\connectionpool.py:1043: InsecureRequestWarning: Unverified HTTPS request is being made to host 'www2.aneel.gov.br'. Adding certificate verification is strongly advised. See: https://urllib3.readthedocs.io/en/1.26.x/advanced-usage.html#ssl-warnings\n",
      "  warnings.warn(\n"
     ]
    },
    {
     "name": "stdout",
     "output_type": "stream",
     "text": [
      "Arquivo: \"PCAT_LIGHT_2017-03-15_REVISAO_(PCATLIGHT2017).xlsx\" foi baixado com sucesso\n",
      "['PCAT_LIGHT_2018-03-15_REAJUSTE_(PCATLIGHT2018).xlsx'\n",
      " 'https://www2.aneel.gov.br/aplicacoes/tarifa/arquivo/PCAT_Light_2018.xlsx']\n",
      "Arquivo: \"PCAT_LIGHT_2017-03-15_REVISAO_(PCATLIGHT2017).xlsx\" foi baixado com sucesso\n",
      "['PCAT_LIGHT_2018-03-15_REAJUSTE_(PCATLIGHT2018).xlsx'\n",
      " 'https://www2.aneel.gov.br/aplicacoes/tarifa/arquivo/PCAT_Light_2018.xlsx']\n"
     ]
    },
    {
     "name": "stderr",
     "output_type": "stream",
     "text": [
      "D:\\python_projects\\cpfl\\web_scrapper\\venv_scraper\\lib\\site-packages\\urllib3\\connectionpool.py:1043: InsecureRequestWarning: Unverified HTTPS request is being made to host 'www2.aneel.gov.br'. Adding certificate verification is strongly advised. See: https://urllib3.readthedocs.io/en/1.26.x/advanced-usage.html#ssl-warnings\n",
      "  warnings.warn(\n",
      "D:\\python_projects\\cpfl\\web_scrapper\\venv_scraper\\lib\\site-packages\\urllib3\\connectionpool.py:1043: InsecureRequestWarning: Unverified HTTPS request is being made to host 'www2.aneel.gov.br'. Adding certificate verification is strongly advised. See: https://urllib3.readthedocs.io/en/1.26.x/advanced-usage.html#ssl-warnings\n",
      "  warnings.warn(\n"
     ]
    },
    {
     "name": "stdout",
     "output_type": "stream",
     "text": [
      "Arquivo: \"PCAT_LIGHT_2018-03-15_REAJUSTE_(PCATLIGHT2018).xlsx\" foi baixado com sucesso\n",
      "['PCAT_LIGHT_2019-04-01_REVISAOEXTRAORDINARIA_(PCATLIGHT2019).xlsx'\n",
      " 'https://www2.aneel.gov.br/aplicacoes/tarifa/arquivo/PCAT_Light_2019 .xlsx']\n",
      "Arquivo: \"PCAT_LIGHT_2018-03-15_REAJUSTE_(PCATLIGHT2018).xlsx\" foi baixado com sucesso\n",
      "['PCAT_LIGHT_2019-04-01_REVISAOEXTRAORDINARIA_(PCATLIGHT2019).xlsx'\n",
      " 'https://www2.aneel.gov.br/aplicacoes/tarifa/arquivo/PCAT_Light_2019 .xlsx']\n"
     ]
    },
    {
     "name": "stderr",
     "output_type": "stream",
     "text": [
      "D:\\python_projects\\cpfl\\web_scrapper\\venv_scraper\\lib\\site-packages\\urllib3\\connectionpool.py:1043: InsecureRequestWarning: Unverified HTTPS request is being made to host 'www2.aneel.gov.br'. Adding certificate verification is strongly advised. See: https://urllib3.readthedocs.io/en/1.26.x/advanced-usage.html#ssl-warnings\n",
      "  warnings.warn(\n",
      "D:\\python_projects\\cpfl\\web_scrapper\\venv_scraper\\lib\\site-packages\\urllib3\\connectionpool.py:1043: InsecureRequestWarning: Unverified HTTPS request is being made to host 'www2.aneel.gov.br'. Adding certificate verification is strongly advised. See: https://urllib3.readthedocs.io/en/1.26.x/advanced-usage.html#ssl-warnings\n",
      "  warnings.warn(\n"
     ]
    },
    {
     "name": "stdout",
     "output_type": "stream",
     "text": [
      "Arquivo: \"PCAT_LIGHT_2019-04-01_REVISAOEXTRAORDINARIA_(PCATLIGHT2019).xlsx\" foi baixado com sucesso\n",
      "['PCAT_LIGHT_2019-03-15_REAJUSTE_(382PCATLIGHT2019V02).xlsx'\n",
      " 'https://www2.aneel.gov.br/aplicacoes/tarifa/arquivo/382 PCAT Light 2019 V02.xlsx']\n",
      "Arquivo: \"PCAT_LIGHT_2019-04-01_REVISAOEXTRAORDINARIA_(PCATLIGHT2019).xlsx\" foi baixado com sucesso\n",
      "['PCAT_LIGHT_2019-03-15_REAJUSTE_(382PCATLIGHT2019V02).xlsx'\n",
      " 'https://www2.aneel.gov.br/aplicacoes/tarifa/arquivo/382 PCAT Light 2019 V02.xlsx']\n"
     ]
    },
    {
     "name": "stderr",
     "output_type": "stream",
     "text": [
      "D:\\python_projects\\cpfl\\web_scrapper\\venv_scraper\\lib\\site-packages\\urllib3\\connectionpool.py:1043: InsecureRequestWarning: Unverified HTTPS request is being made to host 'www2.aneel.gov.br'. Adding certificate verification is strongly advised. See: https://urllib3.readthedocs.io/en/1.26.x/advanced-usage.html#ssl-warnings\n",
      "  warnings.warn(\n",
      "D:\\python_projects\\cpfl\\web_scrapper\\venv_scraper\\lib\\site-packages\\urllib3\\connectionpool.py:1043: InsecureRequestWarning: Unverified HTTPS request is being made to host 'www2.aneel.gov.br'. Adding certificate verification is strongly advised. See: https://urllib3.readthedocs.io/en/1.26.x/advanced-usage.html#ssl-warnings\n",
      "  warnings.warn(\n"
     ]
    },
    {
     "name": "stdout",
     "output_type": "stream",
     "text": [
      "Arquivo: \"PCAT_LIGHT_2019-03-15_REAJUSTE_(382PCATLIGHT2019V02).xlsx\" foi baixado com sucesso\n",
      "['PCAT_LIGHT_2020-03-15_REAJUSTE_(PCATLIGHT2020).xlsx'\n",
      " 'https://www2.aneel.gov.br/aplicacoes/tarifa/arquivo/PCAT_Light_2020.xlsx']\n",
      "Arquivo: \"PCAT_LIGHT_2019-03-15_REAJUSTE_(382PCATLIGHT2019V02).xlsx\" foi baixado com sucesso\n",
      "['PCAT_LIGHT_2020-03-15_REAJUSTE_(PCATLIGHT2020).xlsx'\n",
      " 'https://www2.aneel.gov.br/aplicacoes/tarifa/arquivo/PCAT_Light_2020.xlsx']\n"
     ]
    },
    {
     "name": "stderr",
     "output_type": "stream",
     "text": [
      "D:\\python_projects\\cpfl\\web_scrapper\\venv_scraper\\lib\\site-packages\\urllib3\\connectionpool.py:1043: InsecureRequestWarning: Unverified HTTPS request is being made to host 'www2.aneel.gov.br'. Adding certificate verification is strongly advised. See: https://urllib3.readthedocs.io/en/1.26.x/advanced-usage.html#ssl-warnings\n",
      "  warnings.warn(\n",
      "D:\\python_projects\\cpfl\\web_scrapper\\venv_scraper\\lib\\site-packages\\urllib3\\connectionpool.py:1043: InsecureRequestWarning: Unverified HTTPS request is being made to host 'www2.aneel.gov.br'. Adding certificate verification is strongly advised. See: https://urllib3.readthedocs.io/en/1.26.x/advanced-usage.html#ssl-warnings\n",
      "  warnings.warn(\n"
     ]
    },
    {
     "name": "stdout",
     "output_type": "stream",
     "text": [
      "Arquivo: \"PCAT_LIGHT_2020-03-15_REAJUSTE_(PCATLIGHT2020).xlsx\" foi baixado com sucesso\n",
      "['PCAT_LIGHT_2021-03-15_REAJUSTE_(382PCATLIGHT2021).xlsx'\n",
      " 'https://www2.aneel.gov.br/aplicacoes/tarifa/arquivo/382_PCAT_Light_2021.xlsx']\n",
      "Arquivo: \"PCAT_LIGHT_2020-03-15_REAJUSTE_(PCATLIGHT2020).xlsx\" foi baixado com sucesso\n",
      "['PCAT_LIGHT_2021-03-15_REAJUSTE_(382PCATLIGHT2021).xlsx'\n",
      " 'https://www2.aneel.gov.br/aplicacoes/tarifa/arquivo/382_PCAT_Light_2021.xlsx']\n"
     ]
    },
    {
     "name": "stderr",
     "output_type": "stream",
     "text": [
      "D:\\python_projects\\cpfl\\web_scrapper\\venv_scraper\\lib\\site-packages\\urllib3\\connectionpool.py:1043: InsecureRequestWarning: Unverified HTTPS request is being made to host 'www2.aneel.gov.br'. Adding certificate verification is strongly advised. See: https://urllib3.readthedocs.io/en/1.26.x/advanced-usage.html#ssl-warnings\n",
      "  warnings.warn(\n",
      "D:\\python_projects\\cpfl\\web_scrapper\\venv_scraper\\lib\\site-packages\\urllib3\\connectionpool.py:1043: InsecureRequestWarning: Unverified HTTPS request is being made to host 'www2.aneel.gov.br'. Adding certificate verification is strongly advised. See: https://urllib3.readthedocs.io/en/1.26.x/advanced-usage.html#ssl-warnings\n",
      "  warnings.warn(\n"
     ]
    },
    {
     "name": "stdout",
     "output_type": "stream",
     "text": [
      "Arquivo: \"PCAT_LIGHT_2021-03-15_REAJUSTE_(382PCATLIGHT2021).xlsx\" foi baixado com sucesso\n",
      "['PCAT_MUXENERGIA_2014-06-24_REAJUSTE_(PCATMUXFELDT2014).xlsx'\n",
      " 'https://www2.aneel.gov.br/aplicacoes/tarifa/arquivo/PCAT_MUXFELDT_2014.xlsx']\n",
      "Arquivo: \"PCAT_LIGHT_2021-03-15_REAJUSTE_(382PCATLIGHT2021).xlsx\" foi baixado com sucesso\n",
      "['PCAT_MUXENERGIA_2014-06-24_REAJUSTE_(PCATMUXFELDT2014).xlsx'\n",
      " 'https://www2.aneel.gov.br/aplicacoes/tarifa/arquivo/PCAT_MUXFELDT_2014.xlsx']\n"
     ]
    },
    {
     "name": "stderr",
     "output_type": "stream",
     "text": [
      "D:\\python_projects\\cpfl\\web_scrapper\\venv_scraper\\lib\\site-packages\\urllib3\\connectionpool.py:1043: InsecureRequestWarning: Unverified HTTPS request is being made to host 'www2.aneel.gov.br'. Adding certificate verification is strongly advised. See: https://urllib3.readthedocs.io/en/1.26.x/advanced-usage.html#ssl-warnings\n",
      "  warnings.warn(\n",
      "D:\\python_projects\\cpfl\\web_scrapper\\venv_scraper\\lib\\site-packages\\urllib3\\connectionpool.py:1043: InsecureRequestWarning: Unverified HTTPS request is being made to host 'www2.aneel.gov.br'. Adding certificate verification is strongly advised. See: https://urllib3.readthedocs.io/en/1.26.x/advanced-usage.html#ssl-warnings\n",
      "  warnings.warn(\n"
     ]
    },
    {
     "name": "stdout",
     "output_type": "stream",
     "text": [
      "Arquivo: \"PCAT_MUXENERGIA_2014-06-24_REAJUSTE_(PCATMUXFELDT2014).xlsx\" foi baixado com sucesso\n",
      "['PCAT_MUXENERGIA_2016-07-22_REAJUSTE_(PCATMUXENERGIA2016).xlsx'\n",
      " 'https://www2.aneel.gov.br/aplicacoes/tarifa/arquivo/PCAT_MuxEnergia_2016.xlsx']\n",
      "Arquivo: \"PCAT_MUXENERGIA_2014-06-24_REAJUSTE_(PCATMUXFELDT2014).xlsx\" foi baixado com sucesso\n",
      "['PCAT_MUXENERGIA_2016-07-22_REAJUSTE_(PCATMUXENERGIA2016).xlsx'\n",
      " 'https://www2.aneel.gov.br/aplicacoes/tarifa/arquivo/PCAT_MuxEnergia_2016.xlsx']\n"
     ]
    },
    {
     "name": "stderr",
     "output_type": "stream",
     "text": [
      "D:\\python_projects\\cpfl\\web_scrapper\\venv_scraper\\lib\\site-packages\\urllib3\\connectionpool.py:1043: InsecureRequestWarning: Unverified HTTPS request is being made to host 'www2.aneel.gov.br'. Adding certificate verification is strongly advised. See: https://urllib3.readthedocs.io/en/1.26.x/advanced-usage.html#ssl-warnings\n",
      "  warnings.warn(\n",
      "D:\\python_projects\\cpfl\\web_scrapper\\venv_scraper\\lib\\site-packages\\urllib3\\connectionpool.py:1043: InsecureRequestWarning: Unverified HTTPS request is being made to host 'www2.aneel.gov.br'. Adding certificate verification is strongly advised. See: https://urllib3.readthedocs.io/en/1.26.x/advanced-usage.html#ssl-warnings\n",
      "  warnings.warn(\n"
     ]
    },
    {
     "name": "stdout",
     "output_type": "stream",
     "text": [
      "Arquivo: \"PCAT_MUXENERGIA_2016-07-22_REAJUSTE_(PCATMUXENERGIA2016).xlsx\" foi baixado com sucesso\n",
      "['PCAT_MUXENERGIA_2017-07-22_REVISAO_(PCATMUXENERGIA2017).xlsx'\n",
      " 'https://www2.aneel.gov.br/aplicacoes/tarifa/arquivo/PCAT_MuxEnergia_2017.xlsx']\n",
      "Arquivo: \"PCAT_MUXENERGIA_2016-07-22_REAJUSTE_(PCATMUXENERGIA2016).xlsx\" foi baixado com sucesso\n",
      "['PCAT_MUXENERGIA_2017-07-22_REVISAO_(PCATMUXENERGIA2017).xlsx'\n",
      " 'https://www2.aneel.gov.br/aplicacoes/tarifa/arquivo/PCAT_MuxEnergia_2017.xlsx']\n"
     ]
    },
    {
     "name": "stderr",
     "output_type": "stream",
     "text": [
      "D:\\python_projects\\cpfl\\web_scrapper\\venv_scraper\\lib\\site-packages\\urllib3\\connectionpool.py:1043: InsecureRequestWarning: Unverified HTTPS request is being made to host 'www2.aneel.gov.br'. Adding certificate verification is strongly advised. See: https://urllib3.readthedocs.io/en/1.26.x/advanced-usage.html#ssl-warnings\n",
      "  warnings.warn(\n",
      "D:\\python_projects\\cpfl\\web_scrapper\\venv_scraper\\lib\\site-packages\\urllib3\\connectionpool.py:1043: InsecureRequestWarning: Unverified HTTPS request is being made to host 'www2.aneel.gov.br'. Adding certificate verification is strongly advised. See: https://urllib3.readthedocs.io/en/1.26.x/advanced-usage.html#ssl-warnings\n",
      "  warnings.warn(\n"
     ]
    },
    {
     "name": "stdout",
     "output_type": "stream",
     "text": [
      "Arquivo: \"PCAT_MUXENERGIA_2017-07-22_REVISAO_(PCATMUXENERGIA2017).xlsx\" foi baixado com sucesso\n",
      "['PCAT_MUXENERGIA_2018-07-22_REAJUSTE_(PCATMUXENERGIA2018).xlsx'\n",
      " 'https://www2.aneel.gov.br/aplicacoes/tarifa/arquivo/PCAT_MuxEnergia_2018 .xlsx']\n",
      "Arquivo: \"PCAT_MUXENERGIA_2017-07-22_REVISAO_(PCATMUXENERGIA2017).xlsx\" foi baixado com sucesso\n",
      "['PCAT_MUXENERGIA_2018-07-22_REAJUSTE_(PCATMUXENERGIA2018).xlsx'\n",
      " 'https://www2.aneel.gov.br/aplicacoes/tarifa/arquivo/PCAT_MuxEnergia_2018 .xlsx']\n"
     ]
    },
    {
     "name": "stderr",
     "output_type": "stream",
     "text": [
      "D:\\python_projects\\cpfl\\web_scrapper\\venv_scraper\\lib\\site-packages\\urllib3\\connectionpool.py:1043: InsecureRequestWarning: Unverified HTTPS request is being made to host 'www2.aneel.gov.br'. Adding certificate verification is strongly advised. See: https://urllib3.readthedocs.io/en/1.26.x/advanced-usage.html#ssl-warnings\n",
      "  warnings.warn(\n",
      "D:\\python_projects\\cpfl\\web_scrapper\\venv_scraper\\lib\\site-packages\\urllib3\\connectionpool.py:1043: InsecureRequestWarning: Unverified HTTPS request is being made to host 'www2.aneel.gov.br'. Adding certificate verification is strongly advised. See: https://urllib3.readthedocs.io/en/1.26.x/advanced-usage.html#ssl-warnings\n",
      "  warnings.warn(\n"
     ]
    },
    {
     "name": "stdout",
     "output_type": "stream",
     "text": [
      "Arquivo: \"PCAT_MUXENERGIA_2018-07-22_REAJUSTE_(PCATMUXENERGIA2018).xlsx\" foi baixado com sucesso\n",
      "['PCAT_MUXENERGIA_2019-07-22_REAJUSTE_(401PCATMUXENERGIA2019).xlsx'\n",
      " 'https://www2.aneel.gov.br/aplicacoes/tarifa/arquivo/401_PCAT_MuxEnergia_2019.xlsx']\n",
      "Arquivo: \"PCAT_MUXENERGIA_2018-07-22_REAJUSTE_(PCATMUXENERGIA2018).xlsx\" foi baixado com sucesso\n",
      "['PCAT_MUXENERGIA_2019-07-22_REAJUSTE_(401PCATMUXENERGIA2019).xlsx'\n",
      " 'https://www2.aneel.gov.br/aplicacoes/tarifa/arquivo/401_PCAT_MuxEnergia_2019.xlsx']\n"
     ]
    },
    {
     "name": "stderr",
     "output_type": "stream",
     "text": [
      "D:\\python_projects\\cpfl\\web_scrapper\\venv_scraper\\lib\\site-packages\\urllib3\\connectionpool.py:1043: InsecureRequestWarning: Unverified HTTPS request is being made to host 'www2.aneel.gov.br'. Adding certificate verification is strongly advised. See: https://urllib3.readthedocs.io/en/1.26.x/advanced-usage.html#ssl-warnings\n",
      "  warnings.warn(\n",
      "D:\\python_projects\\cpfl\\web_scrapper\\venv_scraper\\lib\\site-packages\\urllib3\\connectionpool.py:1043: InsecureRequestWarning: Unverified HTTPS request is being made to host 'www2.aneel.gov.br'. Adding certificate verification is strongly advised. See: https://urllib3.readthedocs.io/en/1.26.x/advanced-usage.html#ssl-warnings\n",
      "  warnings.warn(\n"
     ]
    },
    {
     "name": "stdout",
     "output_type": "stream",
     "text": [
      "Arquivo: \"PCAT_MUXENERGIA_2019-07-22_REAJUSTE_(401PCATMUXENERGIA2019).xlsx\" foi baixado com sucesso\n",
      "['PCAT_MUXENERGIA_2020-07-22_REAJUSTE_(401PCATMUXENERGIA2020V02).xlsx'\n",
      " 'https://www2.aneel.gov.br/aplicacoes/tarifa/arquivo/401 PCAT MuxEnergia 2020 V02.xlsx']\n",
      "Arquivo: \"PCAT_MUXENERGIA_2019-07-22_REAJUSTE_(401PCATMUXENERGIA2019).xlsx\" foi baixado com sucesso\n",
      "['PCAT_MUXENERGIA_2020-07-22_REAJUSTE_(401PCATMUXENERGIA2020V02).xlsx'\n",
      " 'https://www2.aneel.gov.br/aplicacoes/tarifa/arquivo/401 PCAT MuxEnergia 2020 V02.xlsx']\n"
     ]
    },
    {
     "name": "stderr",
     "output_type": "stream",
     "text": [
      "D:\\python_projects\\cpfl\\web_scrapper\\venv_scraper\\lib\\site-packages\\urllib3\\connectionpool.py:1043: InsecureRequestWarning: Unverified HTTPS request is being made to host 'www2.aneel.gov.br'. Adding certificate verification is strongly advised. See: https://urllib3.readthedocs.io/en/1.26.x/advanced-usage.html#ssl-warnings\n",
      "  warnings.warn(\n",
      "D:\\python_projects\\cpfl\\web_scrapper\\venv_scraper\\lib\\site-packages\\urllib3\\connectionpool.py:1043: InsecureRequestWarning: Unverified HTTPS request is being made to host 'www2.aneel.gov.br'. Adding certificate verification is strongly advised. See: https://urllib3.readthedocs.io/en/1.26.x/advanced-usage.html#ssl-warnings\n",
      "  warnings.warn(\n"
     ]
    },
    {
     "name": "stdout",
     "output_type": "stream",
     "text": [
      "Arquivo: \"PCAT_MUXENERGIA_2020-07-22_REAJUSTE_(401PCATMUXENERGIA2020V02).xlsx\" foi baixado com sucesso\n",
      "['PCAT_MUXENERGIA_2021-07-22_REAJUSTE_(401PCATMUXENERGIA2021V02).xlsx'\n",
      " 'https://www2.aneel.gov.br/aplicacoes/tarifa/arquivo/401 PCAT MuxEnergia 2021 V02.xlsx']\n",
      "Arquivo: \"PCAT_MUXENERGIA_2020-07-22_REAJUSTE_(401PCATMUXENERGIA2020V02).xlsx\" foi baixado com sucesso\n",
      "['PCAT_MUXENERGIA_2021-07-22_REAJUSTE_(401PCATMUXENERGIA2021V02).xlsx'\n",
      " 'https://www2.aneel.gov.br/aplicacoes/tarifa/arquivo/401 PCAT MuxEnergia 2021 V02.xlsx']\n"
     ]
    },
    {
     "name": "stderr",
     "output_type": "stream",
     "text": [
      "D:\\python_projects\\cpfl\\web_scrapper\\venv_scraper\\lib\\site-packages\\urllib3\\connectionpool.py:1043: InsecureRequestWarning: Unverified HTTPS request is being made to host 'www2.aneel.gov.br'. Adding certificate verification is strongly advised. See: https://urllib3.readthedocs.io/en/1.26.x/advanced-usage.html#ssl-warnings\n",
      "  warnings.warn(\n",
      "D:\\python_projects\\cpfl\\web_scrapper\\venv_scraper\\lib\\site-packages\\urllib3\\connectionpool.py:1043: InsecureRequestWarning: Unverified HTTPS request is being made to host 'www2.aneel.gov.br'. Adding certificate verification is strongly advised. See: https://urllib3.readthedocs.io/en/1.26.x/advanced-usage.html#ssl-warnings\n",
      "  warnings.warn(\n"
     ]
    },
    {
     "name": "stdout",
     "output_type": "stream",
     "text": [
      "Arquivo: \"PCAT_MUXENERGIA_2021-07-22_REAJUSTE_(401PCATMUXENERGIA2021V02).xlsx\" foi baixado com sucesso\n",
      "['PCAT_RGE_2013-06-19_REVISAO_(PCATRGE2013AV00).xlsx'\n",
      " 'https://www2.aneel.gov.br/aplicacoes/tarifa/arquivo/PCAT RGE 2013A V00.xlsx']\n",
      "Arquivo: \"PCAT_MUXENERGIA_2021-07-22_REAJUSTE_(401PCATMUXENERGIA2021V02).xlsx\" foi baixado com sucesso\n",
      "['PCAT_RGE_2013-06-19_REVISAO_(PCATRGE2013AV00).xlsx'\n",
      " 'https://www2.aneel.gov.br/aplicacoes/tarifa/arquivo/PCAT RGE 2013A V00.xlsx']\n"
     ]
    },
    {
     "name": "stderr",
     "output_type": "stream",
     "text": [
      "D:\\python_projects\\cpfl\\web_scrapper\\venv_scraper\\lib\\site-packages\\urllib3\\connectionpool.py:1043: InsecureRequestWarning: Unverified HTTPS request is being made to host 'www2.aneel.gov.br'. Adding certificate verification is strongly advised. See: https://urllib3.readthedocs.io/en/1.26.x/advanced-usage.html#ssl-warnings\n",
      "  warnings.warn(\n",
      "D:\\python_projects\\cpfl\\web_scrapper\\venv_scraper\\lib\\site-packages\\urllib3\\connectionpool.py:1043: InsecureRequestWarning: Unverified HTTPS request is being made to host 'www2.aneel.gov.br'. Adding certificate verification is strongly advised. See: https://urllib3.readthedocs.io/en/1.26.x/advanced-usage.html#ssl-warnings\n",
      "  warnings.warn(\n"
     ]
    },
    {
     "name": "stdout",
     "output_type": "stream",
     "text": [
      "Arquivo: \"PCAT_RGE_2013-06-19_REVISAO_(PCATRGE2013AV00).xlsx\" foi baixado com sucesso\n",
      "['PCAT_RGE_2014-06-17_REAJUSTE_(PCATRGE2014).xlsx'\n",
      " 'https://www2.aneel.gov.br/aplicacoes/tarifa/arquivo/PCAT_RGE_2014.xlsx']\n",
      "Arquivo: \"PCAT_RGE_2013-06-19_REVISAO_(PCATRGE2013AV00).xlsx\" foi baixado com sucesso\n",
      "['PCAT_RGE_2014-06-17_REAJUSTE_(PCATRGE2014).xlsx'\n",
      " 'https://www2.aneel.gov.br/aplicacoes/tarifa/arquivo/PCAT_RGE_2014.xlsx']\n"
     ]
    },
    {
     "name": "stderr",
     "output_type": "stream",
     "text": [
      "D:\\python_projects\\cpfl\\web_scrapper\\venv_scraper\\lib\\site-packages\\urllib3\\connectionpool.py:1043: InsecureRequestWarning: Unverified HTTPS request is being made to host 'www2.aneel.gov.br'. Adding certificate verification is strongly advised. See: https://urllib3.readthedocs.io/en/1.26.x/advanced-usage.html#ssl-warnings\n",
      "  warnings.warn(\n",
      "D:\\python_projects\\cpfl\\web_scrapper\\venv_scraper\\lib\\site-packages\\urllib3\\connectionpool.py:1043: InsecureRequestWarning: Unverified HTTPS request is being made to host 'www2.aneel.gov.br'. Adding certificate verification is strongly advised. See: https://urllib3.readthedocs.io/en/1.26.x/advanced-usage.html#ssl-warnings\n",
      "  warnings.warn(\n"
     ]
    },
    {
     "name": "stdout",
     "output_type": "stream",
     "text": [
      "Arquivo: \"PCAT_RGE_2014-06-17_REAJUSTE_(PCATRGE2014).xlsx\" foi baixado com sucesso\n",
      "['PCAT_RGE_2015-06-16_REAJUSTE_(PCATRGE2015).xlsx'\n",
      " 'https://www2.aneel.gov.br/aplicacoes/tarifa/arquivo/PCAT_RGE_2015.xlsx']\n",
      "Arquivo: \"PCAT_RGE_2014-06-17_REAJUSTE_(PCATRGE2014).xlsx\" foi baixado com sucesso\n",
      "['PCAT_RGE_2015-06-16_REAJUSTE_(PCATRGE2015).xlsx'\n",
      " 'https://www2.aneel.gov.br/aplicacoes/tarifa/arquivo/PCAT_RGE_2015.xlsx']\n"
     ]
    },
    {
     "name": "stderr",
     "output_type": "stream",
     "text": [
      "D:\\python_projects\\cpfl\\web_scrapper\\venv_scraper\\lib\\site-packages\\urllib3\\connectionpool.py:1043: InsecureRequestWarning: Unverified HTTPS request is being made to host 'www2.aneel.gov.br'. Adding certificate verification is strongly advised. See: https://urllib3.readthedocs.io/en/1.26.x/advanced-usage.html#ssl-warnings\n",
      "  warnings.warn(\n",
      "D:\\python_projects\\cpfl\\web_scrapper\\venv_scraper\\lib\\site-packages\\urllib3\\connectionpool.py:1043: InsecureRequestWarning: Unverified HTTPS request is being made to host 'www2.aneel.gov.br'. Adding certificate verification is strongly advised. See: https://urllib3.readthedocs.io/en/1.26.x/advanced-usage.html#ssl-warnings\n",
      "  warnings.warn(\n"
     ]
    },
    {
     "name": "stdout",
     "output_type": "stream",
     "text": [
      "Arquivo: \"PCAT_RGE_2015-06-16_REAJUSTE_(PCATRGE2015).xlsx\" foi baixado com sucesso\n",
      "['PCAT_RGE_2015-03-02_REVISAOEXTRAORDINARIA_(PCATRGE2014V00).xlsx'\n",
      " 'https://www2.aneel.gov.br/aplicacoes/tarifa/arquivo/PCAT_RGE_2014_V00.xlsx']\n",
      "Arquivo: \"PCAT_RGE_2015-06-16_REAJUSTE_(PCATRGE2015).xlsx\" foi baixado com sucesso\n",
      "['PCAT_RGE_2015-03-02_REVISAOEXTRAORDINARIA_(PCATRGE2014V00).xlsx'\n",
      " 'https://www2.aneel.gov.br/aplicacoes/tarifa/arquivo/PCAT_RGE_2014_V00.xlsx']\n"
     ]
    },
    {
     "name": "stderr",
     "output_type": "stream",
     "text": [
      "D:\\python_projects\\cpfl\\web_scrapper\\venv_scraper\\lib\\site-packages\\urllib3\\connectionpool.py:1043: InsecureRequestWarning: Unverified HTTPS request is being made to host 'www2.aneel.gov.br'. Adding certificate verification is strongly advised. See: https://urllib3.readthedocs.io/en/1.26.x/advanced-usage.html#ssl-warnings\n",
      "  warnings.warn(\n",
      "D:\\python_projects\\cpfl\\web_scrapper\\venv_scraper\\lib\\site-packages\\urllib3\\connectionpool.py:1043: InsecureRequestWarning: Unverified HTTPS request is being made to host 'www2.aneel.gov.br'. Adding certificate verification is strongly advised. See: https://urllib3.readthedocs.io/en/1.26.x/advanced-usage.html#ssl-warnings\n",
      "  warnings.warn(\n"
     ]
    },
    {
     "name": "stdout",
     "output_type": "stream",
     "text": [
      "Arquivo: \"PCAT_RGE_2015-03-02_REVISAOEXTRAORDINARIA_(PCATRGE2014V00).xlsx\" foi baixado com sucesso\n",
      "['PCAT_RGE_2016-06-14_REAJUSTE_(PCATRGE2016).xlsx'\n",
      " 'https://www2.aneel.gov.br/aplicacoes/tarifa/arquivo/PCAT_RGE_2016.xlsx']\n",
      "Arquivo: \"PCAT_RGE_2015-03-02_REVISAOEXTRAORDINARIA_(PCATRGE2014V00).xlsx\" foi baixado com sucesso\n",
      "['PCAT_RGE_2016-06-14_REAJUSTE_(PCATRGE2016).xlsx'\n",
      " 'https://www2.aneel.gov.br/aplicacoes/tarifa/arquivo/PCAT_RGE_2016.xlsx']\n"
     ]
    },
    {
     "name": "stderr",
     "output_type": "stream",
     "text": [
      "D:\\python_projects\\cpfl\\web_scrapper\\venv_scraper\\lib\\site-packages\\urllib3\\connectionpool.py:1043: InsecureRequestWarning: Unverified HTTPS request is being made to host 'www2.aneel.gov.br'. Adding certificate verification is strongly advised. See: https://urllib3.readthedocs.io/en/1.26.x/advanced-usage.html#ssl-warnings\n",
      "  warnings.warn(\n",
      "D:\\python_projects\\cpfl\\web_scrapper\\venv_scraper\\lib\\site-packages\\urllib3\\connectionpool.py:1043: InsecureRequestWarning: Unverified HTTPS request is being made to host 'www2.aneel.gov.br'. Adding certificate verification is strongly advised. See: https://urllib3.readthedocs.io/en/1.26.x/advanced-usage.html#ssl-warnings\n",
      "  warnings.warn(\n"
     ]
    },
    {
     "name": "stdout",
     "output_type": "stream",
     "text": [
      "Arquivo: \"PCAT_RGE_2016-06-14_REAJUSTE_(PCATRGE2016).xlsx\" foi baixado com sucesso\n",
      "['PCAT_RGE_2017-06-19_REAJUSTE_(PCATRGE2017).xlsx'\n",
      " 'https://www2.aneel.gov.br/aplicacoes/tarifa/arquivo/PCAT_RGE_2017.xlsx']\n",
      "Arquivo: \"PCAT_RGE_2016-06-14_REAJUSTE_(PCATRGE2016).xlsx\" foi baixado com sucesso\n",
      "['PCAT_RGE_2017-06-19_REAJUSTE_(PCATRGE2017).xlsx'\n",
      " 'https://www2.aneel.gov.br/aplicacoes/tarifa/arquivo/PCAT_RGE_2017.xlsx']\n"
     ]
    },
    {
     "name": "stderr",
     "output_type": "stream",
     "text": [
      "D:\\python_projects\\cpfl\\web_scrapper\\venv_scraper\\lib\\site-packages\\urllib3\\connectionpool.py:1043: InsecureRequestWarning: Unverified HTTPS request is being made to host 'www2.aneel.gov.br'. Adding certificate verification is strongly advised. See: https://urllib3.readthedocs.io/en/1.26.x/advanced-usage.html#ssl-warnings\n",
      "  warnings.warn(\n",
      "D:\\python_projects\\cpfl\\web_scrapper\\venv_scraper\\lib\\site-packages\\urllib3\\connectionpool.py:1043: InsecureRequestWarning: Unverified HTTPS request is being made to host 'www2.aneel.gov.br'. Adding certificate verification is strongly advised. See: https://urllib3.readthedocs.io/en/1.26.x/advanced-usage.html#ssl-warnings\n",
      "  warnings.warn(\n"
     ]
    },
    {
     "name": "stdout",
     "output_type": "stream",
     "text": [
      "Arquivo: \"PCAT_RGE_2017-06-19_REAJUSTE_(PCATRGE2017).xlsx\" foi baixado com sucesso\n",
      "['PCAT_RGE_2018-06-19_REVISAO_(PCATRGE2018).xlsx'\n",
      " 'https://www2.aneel.gov.br/aplicacoes/tarifa/arquivo/PCAT_RGE_2018 .xlsx']\n",
      "Arquivo: \"PCAT_RGE_2017-06-19_REAJUSTE_(PCATRGE2017).xlsx\" foi baixado com sucesso\n",
      "['PCAT_RGE_2018-06-19_REVISAO_(PCATRGE2018).xlsx'\n",
      " 'https://www2.aneel.gov.br/aplicacoes/tarifa/arquivo/PCAT_RGE_2018 .xlsx']\n"
     ]
    },
    {
     "name": "stderr",
     "output_type": "stream",
     "text": [
      "D:\\python_projects\\cpfl\\web_scrapper\\venv_scraper\\lib\\site-packages\\urllib3\\connectionpool.py:1043: InsecureRequestWarning: Unverified HTTPS request is being made to host 'www2.aneel.gov.br'. Adding certificate verification is strongly advised. See: https://urllib3.readthedocs.io/en/1.26.x/advanced-usage.html#ssl-warnings\n",
      "  warnings.warn(\n",
      "D:\\python_projects\\cpfl\\web_scrapper\\venv_scraper\\lib\\site-packages\\urllib3\\connectionpool.py:1043: InsecureRequestWarning: Unverified HTTPS request is being made to host 'www2.aneel.gov.br'. Adding certificate verification is strongly advised. See: https://urllib3.readthedocs.io/en/1.26.x/advanced-usage.html#ssl-warnings\n",
      "  warnings.warn(\n"
     ]
    },
    {
     "name": "stdout",
     "output_type": "stream",
     "text": [
      "Arquivo: \"PCAT_RGE_2018-06-19_REVISAO_(PCATRGE2018).xlsx\" foi baixado com sucesso\n",
      "['PCAT_RGE_2019-06-19_REAJUSTE_(396PCATRGESUL2019V021).xlsx'\n",
      " 'https://www2.aneel.gov.br/aplicacoes/tarifa/arquivo/396 PCAT RGE SUL 2019 V021.xlsx']\n",
      "Arquivo: \"PCAT_RGE_2018-06-19_REVISAO_(PCATRGE2018).xlsx\" foi baixado com sucesso\n",
      "['PCAT_RGE_2019-06-19_REAJUSTE_(396PCATRGESUL2019V021).xlsx'\n",
      " 'https://www2.aneel.gov.br/aplicacoes/tarifa/arquivo/396 PCAT RGE SUL 2019 V021.xlsx']\n"
     ]
    },
    {
     "name": "stderr",
     "output_type": "stream",
     "text": [
      "D:\\python_projects\\cpfl\\web_scrapper\\venv_scraper\\lib\\site-packages\\urllib3\\connectionpool.py:1043: InsecureRequestWarning: Unverified HTTPS request is being made to host 'www2.aneel.gov.br'. Adding certificate verification is strongly advised. See: https://urllib3.readthedocs.io/en/1.26.x/advanced-usage.html#ssl-warnings\n",
      "  warnings.warn(\n",
      "D:\\python_projects\\cpfl\\web_scrapper\\venv_scraper\\lib\\site-packages\\urllib3\\connectionpool.py:1043: InsecureRequestWarning: Unverified HTTPS request is being made to host 'www2.aneel.gov.br'. Adding certificate verification is strongly advised. See: https://urllib3.readthedocs.io/en/1.26.x/advanced-usage.html#ssl-warnings\n",
      "  warnings.warn(\n"
     ]
    },
    {
     "name": "stdout",
     "output_type": "stream",
     "text": [
      "Arquivo: \"PCAT_RGE_2019-06-19_REAJUSTE_(396PCATRGESUL2019V021).xlsx\" foi baixado com sucesso\n",
      "['PCAT_RGESUL_2014-04-19_REAJUSTE_(PCATAESSUL2014).xlsx'\n",
      " 'https://www2.aneel.gov.br/aplicacoes/tarifa/arquivo/PCAT_AES SUL_2014.xlsx']\n",
      "Arquivo: \"PCAT_RGE_2019-06-19_REAJUSTE_(396PCATRGESUL2019V021).xlsx\" foi baixado com sucesso\n",
      "['PCAT_RGESUL_2014-04-19_REAJUSTE_(PCATAESSUL2014).xlsx'\n",
      " 'https://www2.aneel.gov.br/aplicacoes/tarifa/arquivo/PCAT_AES SUL_2014.xlsx']\n"
     ]
    },
    {
     "name": "stderr",
     "output_type": "stream",
     "text": [
      "D:\\python_projects\\cpfl\\web_scrapper\\venv_scraper\\lib\\site-packages\\urllib3\\connectionpool.py:1043: InsecureRequestWarning: Unverified HTTPS request is being made to host 'www2.aneel.gov.br'. Adding certificate verification is strongly advised. See: https://urllib3.readthedocs.io/en/1.26.x/advanced-usage.html#ssl-warnings\n",
      "  warnings.warn(\n",
      "D:\\python_projects\\cpfl\\web_scrapper\\venv_scraper\\lib\\site-packages\\urllib3\\connectionpool.py:1043: InsecureRequestWarning: Unverified HTTPS request is being made to host 'www2.aneel.gov.br'. Adding certificate verification is strongly advised. See: https://urllib3.readthedocs.io/en/1.26.x/advanced-usage.html#ssl-warnings\n",
      "  warnings.warn(\n"
     ]
    },
    {
     "name": "stdout",
     "output_type": "stream",
     "text": [
      "Arquivo: \"PCAT_RGESUL_2014-04-19_REAJUSTE_(PCATAESSUL2014).xlsx\" foi baixado com sucesso\n",
      "['PCAT_RGESUL_2015-04-19_REAJUSTE_(PCATAESSUL2015A15).xlsx'\n",
      " 'https://www2.aneel.gov.br/aplicacoes/tarifa/arquivo/PCAT_ AES SUL_ 2015A_15..xlsx']\n",
      "Arquivo: \"PCAT_RGESUL_2014-04-19_REAJUSTE_(PCATAESSUL2014).xlsx\" foi baixado com sucesso\n",
      "['PCAT_RGESUL_2015-04-19_REAJUSTE_(PCATAESSUL2015A15).xlsx'\n",
      " 'https://www2.aneel.gov.br/aplicacoes/tarifa/arquivo/PCAT_ AES SUL_ 2015A_15..xlsx']\n"
     ]
    },
    {
     "name": "stderr",
     "output_type": "stream",
     "text": [
      "D:\\python_projects\\cpfl\\web_scrapper\\venv_scraper\\lib\\site-packages\\urllib3\\connectionpool.py:1043: InsecureRequestWarning: Unverified HTTPS request is being made to host 'www2.aneel.gov.br'. Adding certificate verification is strongly advised. See: https://urllib3.readthedocs.io/en/1.26.x/advanced-usage.html#ssl-warnings\n",
      "  warnings.warn(\n",
      "D:\\python_projects\\cpfl\\web_scrapper\\venv_scraper\\lib\\site-packages\\urllib3\\connectionpool.py:1043: InsecureRequestWarning: Unverified HTTPS request is being made to host 'www2.aneel.gov.br'. Adding certificate verification is strongly advised. See: https://urllib3.readthedocs.io/en/1.26.x/advanced-usage.html#ssl-warnings\n",
      "  warnings.warn(\n"
     ]
    },
    {
     "name": "stdout",
     "output_type": "stream",
     "text": [
      "Arquivo: \"PCAT_RGESUL_2015-04-19_REAJUSTE_(PCATAESSUL2015A15).xlsx\" foi baixado com sucesso\n",
      "['PCAT_RGESUL_2015-03-02_REVISAOEXTRAORDINARIA_(PCATAESSUL2014V00).xlsx'\n",
      " 'https://www2.aneel.gov.br/aplicacoes/tarifa/arquivo/PCAT_AESSUL_2014_V00.xlsx']\n",
      "Arquivo: \"PCAT_RGESUL_2015-04-19_REAJUSTE_(PCATAESSUL2015A15).xlsx\" foi baixado com sucesso\n",
      "['PCAT_RGESUL_2015-03-02_REVISAOEXTRAORDINARIA_(PCATAESSUL2014V00).xlsx'\n",
      " 'https://www2.aneel.gov.br/aplicacoes/tarifa/arquivo/PCAT_AESSUL_2014_V00.xlsx']\n"
     ]
    },
    {
     "name": "stderr",
     "output_type": "stream",
     "text": [
      "D:\\python_projects\\cpfl\\web_scrapper\\venv_scraper\\lib\\site-packages\\urllib3\\connectionpool.py:1043: InsecureRequestWarning: Unverified HTTPS request is being made to host 'www2.aneel.gov.br'. Adding certificate verification is strongly advised. See: https://urllib3.readthedocs.io/en/1.26.x/advanced-usage.html#ssl-warnings\n",
      "  warnings.warn(\n",
      "D:\\python_projects\\cpfl\\web_scrapper\\venv_scraper\\lib\\site-packages\\urllib3\\connectionpool.py:1043: InsecureRequestWarning: Unverified HTTPS request is being made to host 'www2.aneel.gov.br'. Adding certificate verification is strongly advised. See: https://urllib3.readthedocs.io/en/1.26.x/advanced-usage.html#ssl-warnings\n",
      "  warnings.warn(\n"
     ]
    },
    {
     "name": "stdout",
     "output_type": "stream",
     "text": [
      "Arquivo: \"PCAT_RGESUL_2015-03-02_REVISAOEXTRAORDINARIA_(PCATAESSUL2014V00).xlsx\" foi baixado com sucesso\n",
      "['PCAT_RGESUL_2016-04-12_REAJUSTE_(PCATAESSUL2016).xlsx'\n",
      " 'https://www2.aneel.gov.br/aplicacoes/tarifa/arquivo/PCAT_AES_Sul_2016.xlsx']\n",
      "Arquivo: \"PCAT_RGESUL_2015-03-02_REVISAOEXTRAORDINARIA_(PCATAESSUL2014V00).xlsx\" foi baixado com sucesso\n",
      "['PCAT_RGESUL_2016-04-12_REAJUSTE_(PCATAESSUL2016).xlsx'\n",
      " 'https://www2.aneel.gov.br/aplicacoes/tarifa/arquivo/PCAT_AES_Sul_2016.xlsx']\n"
     ]
    },
    {
     "name": "stderr",
     "output_type": "stream",
     "text": [
      "D:\\python_projects\\cpfl\\web_scrapper\\venv_scraper\\lib\\site-packages\\urllib3\\connectionpool.py:1043: InsecureRequestWarning: Unverified HTTPS request is being made to host 'www2.aneel.gov.br'. Adding certificate verification is strongly advised. See: https://urllib3.readthedocs.io/en/1.26.x/advanced-usage.html#ssl-warnings\n",
      "  warnings.warn(\n",
      "D:\\python_projects\\cpfl\\web_scrapper\\venv_scraper\\lib\\site-packages\\urllib3\\connectionpool.py:1043: InsecureRequestWarning: Unverified HTTPS request is being made to host 'www2.aneel.gov.br'. Adding certificate verification is strongly advised. See: https://urllib3.readthedocs.io/en/1.26.x/advanced-usage.html#ssl-warnings\n",
      "  warnings.warn(\n"
     ]
    },
    {
     "name": "stdout",
     "output_type": "stream",
     "text": [
      "Arquivo: \"PCAT_RGESUL_2016-04-12_REAJUSTE_(PCATAESSUL2016).xlsx\" foi baixado com sucesso\n",
      "['PCAT_RGESUL_2017-04-19_REAJUSTE_(PCATAESSUL2017).xlsx'\n",
      " 'https://www2.aneel.gov.br/aplicacoes/tarifa/arquivo/PCAT_AES_Sul_2017.xlsx']\n",
      "Arquivo: \"PCAT_RGESUL_2016-04-12_REAJUSTE_(PCATAESSUL2016).xlsx\" foi baixado com sucesso\n",
      "['PCAT_RGESUL_2017-04-19_REAJUSTE_(PCATAESSUL2017).xlsx'\n",
      " 'https://www2.aneel.gov.br/aplicacoes/tarifa/arquivo/PCAT_AES_Sul_2017.xlsx']\n"
     ]
    },
    {
     "name": "stderr",
     "output_type": "stream",
     "text": [
      "D:\\python_projects\\cpfl\\web_scrapper\\venv_scraper\\lib\\site-packages\\urllib3\\connectionpool.py:1043: InsecureRequestWarning: Unverified HTTPS request is being made to host 'www2.aneel.gov.br'. Adding certificate verification is strongly advised. See: https://urllib3.readthedocs.io/en/1.26.x/advanced-usage.html#ssl-warnings\n",
      "  warnings.warn(\n",
      "D:\\python_projects\\cpfl\\web_scrapper\\venv_scraper\\lib\\site-packages\\urllib3\\connectionpool.py:1043: InsecureRequestWarning: Unverified HTTPS request is being made to host 'www2.aneel.gov.br'. Adding certificate verification is strongly advised. See: https://urllib3.readthedocs.io/en/1.26.x/advanced-usage.html#ssl-warnings\n",
      "  warnings.warn(\n"
     ]
    },
    {
     "name": "stdout",
     "output_type": "stream",
     "text": [
      "Arquivo: \"PCAT_RGESUL_2017-04-19_REAJUSTE_(PCATAESSUL2017).xlsx\" foi baixado com sucesso\n",
      "['PCAT_RGESUL_2018-04-19_REVISAO_(PCATRGESUL2018).xlsx'\n",
      " 'https://www2.aneel.gov.br/aplicacoes/tarifa/arquivo/PCAT_RGE-SUL_2018 .xlsx']\n",
      "Arquivo: \"PCAT_RGESUL_2017-04-19_REAJUSTE_(PCATAESSUL2017).xlsx\" foi baixado com sucesso\n",
      "['PCAT_RGESUL_2018-04-19_REVISAO_(PCATRGESUL2018).xlsx'\n",
      " 'https://www2.aneel.gov.br/aplicacoes/tarifa/arquivo/PCAT_RGE-SUL_2018 .xlsx']\n"
     ]
    },
    {
     "name": "stderr",
     "output_type": "stream",
     "text": [
      "D:\\python_projects\\cpfl\\web_scrapper\\venv_scraper\\lib\\site-packages\\urllib3\\connectionpool.py:1043: InsecureRequestWarning: Unverified HTTPS request is being made to host 'www2.aneel.gov.br'. Adding certificate verification is strongly advised. See: https://urllib3.readthedocs.io/en/1.26.x/advanced-usage.html#ssl-warnings\n",
      "  warnings.warn(\n",
      "D:\\python_projects\\cpfl\\web_scrapper\\venv_scraper\\lib\\site-packages\\urllib3\\connectionpool.py:1043: InsecureRequestWarning: Unverified HTTPS request is being made to host 'www2.aneel.gov.br'. Adding certificate verification is strongly advised. See: https://urllib3.readthedocs.io/en/1.26.x/advanced-usage.html#ssl-warnings\n",
      "  warnings.warn(\n"
     ]
    },
    {
     "name": "stdout",
     "output_type": "stream",
     "text": [
      "Arquivo: \"PCAT_RGESUL_2018-04-19_REVISAO_(PCATRGESUL2018).xlsx\" foi baixado com sucesso\n",
      "['PCAT_RGESUL_2019-06-19_REAJUSTE_(1000042PCATRGEAGRUPADA2019V02).xlsx'\n",
      " 'https://www2.aneel.gov.br/aplicacoes/tarifa/arquivo/1000042 PCAT RGE Agrupada 2019 V02.xlsx']\n",
      "Arquivo: \"PCAT_RGESUL_2018-04-19_REVISAO_(PCATRGESUL2018).xlsx\" foi baixado com sucesso\n",
      "['PCAT_RGESUL_2019-06-19_REAJUSTE_(1000042PCATRGEAGRUPADA2019V02).xlsx'\n",
      " 'https://www2.aneel.gov.br/aplicacoes/tarifa/arquivo/1000042 PCAT RGE Agrupada 2019 V02.xlsx']\n"
     ]
    },
    {
     "name": "stderr",
     "output_type": "stream",
     "text": [
      "D:\\python_projects\\cpfl\\web_scrapper\\venv_scraper\\lib\\site-packages\\urllib3\\connectionpool.py:1043: InsecureRequestWarning: Unverified HTTPS request is being made to host 'www2.aneel.gov.br'. Adding certificate verification is strongly advised. See: https://urllib3.readthedocs.io/en/1.26.x/advanced-usage.html#ssl-warnings\n",
      "  warnings.warn(\n",
      "D:\\python_projects\\cpfl\\web_scrapper\\venv_scraper\\lib\\site-packages\\urllib3\\connectionpool.py:1043: InsecureRequestWarning: Unverified HTTPS request is being made to host 'www2.aneel.gov.br'. Adding certificate verification is strongly advised. See: https://urllib3.readthedocs.io/en/1.26.x/advanced-usage.html#ssl-warnings\n",
      "  warnings.warn(\n"
     ]
    },
    {
     "name": "stdout",
     "output_type": "stream",
     "text": [
      "Arquivo: \"PCAT_RGESUL_2019-06-19_REAJUSTE_(1000042PCATRGEAGRUPADA2019V02).xlsx\" foi baixado com sucesso\n",
      "['PCAT_RGESUL_2020-06-19_REAJUSTE_(PCATRGEAGRU2020V02).xlsx'\n",
      " 'https://www2.aneel.gov.br/aplicacoes/tarifa/arquivo/PCAT_RGE_AGRU_2020 V02.xlsx']\n",
      "Arquivo: \"PCAT_RGESUL_2019-06-19_REAJUSTE_(1000042PCATRGEAGRUPADA2019V02).xlsx\" foi baixado com sucesso\n",
      "['PCAT_RGESUL_2020-06-19_REAJUSTE_(PCATRGEAGRU2020V02).xlsx'\n",
      " 'https://www2.aneel.gov.br/aplicacoes/tarifa/arquivo/PCAT_RGE_AGRU_2020 V02.xlsx']\n"
     ]
    },
    {
     "name": "stderr",
     "output_type": "stream",
     "text": [
      "D:\\python_projects\\cpfl\\web_scrapper\\venv_scraper\\lib\\site-packages\\urllib3\\connectionpool.py:1043: InsecureRequestWarning: Unverified HTTPS request is being made to host 'www2.aneel.gov.br'. Adding certificate verification is strongly advised. See: https://urllib3.readthedocs.io/en/1.26.x/advanced-usage.html#ssl-warnings\n",
      "  warnings.warn(\n",
      "D:\\python_projects\\cpfl\\web_scrapper\\venv_scraper\\lib\\site-packages\\urllib3\\connectionpool.py:1043: InsecureRequestWarning: Unverified HTTPS request is being made to host 'www2.aneel.gov.br'. Adding certificate verification is strongly advised. See: https://urllib3.readthedocs.io/en/1.26.x/advanced-usage.html#ssl-warnings\n",
      "  warnings.warn(\n"
     ]
    },
    {
     "name": "stdout",
     "output_type": "stream",
     "text": [
      "Arquivo: \"PCAT_RGESUL_2020-06-19_REAJUSTE_(PCATRGEAGRU2020V02).xlsx\" foi baixado com sucesso\n",
      "['PCAT_RGESUL_2021-06-19_REAJUSTE_(1000042PCATRGEAGRUPADA2021V02).xlsx'\n",
      " 'https://www2.aneel.gov.br/aplicacoes/tarifa/arquivo/1000042 PCAT RGE (agrupada) 2021 V02.xlsx']\n",
      "Arquivo: \"PCAT_RGESUL_2020-06-19_REAJUSTE_(PCATRGEAGRU2020V02).xlsx\" foi baixado com sucesso\n",
      "['PCAT_RGESUL_2021-06-19_REAJUSTE_(1000042PCATRGEAGRUPADA2021V02).xlsx'\n",
      " 'https://www2.aneel.gov.br/aplicacoes/tarifa/arquivo/1000042 PCAT RGE (agrupada) 2021 V02.xlsx']\n"
     ]
    },
    {
     "name": "stderr",
     "output_type": "stream",
     "text": [
      "D:\\python_projects\\cpfl\\web_scrapper\\venv_scraper\\lib\\site-packages\\urllib3\\connectionpool.py:1043: InsecureRequestWarning: Unverified HTTPS request is being made to host 'www2.aneel.gov.br'. Adding certificate verification is strongly advised. See: https://urllib3.readthedocs.io/en/1.26.x/advanced-usage.html#ssl-warnings\n",
      "  warnings.warn(\n",
      "D:\\python_projects\\cpfl\\web_scrapper\\venv_scraper\\lib\\site-packages\\urllib3\\connectionpool.py:1043: InsecureRequestWarning: Unverified HTTPS request is being made to host 'www2.aneel.gov.br'. Adding certificate verification is strongly advised. See: https://urllib3.readthedocs.io/en/1.26.x/advanced-usage.html#ssl-warnings\n",
      "  warnings.warn(\n"
     ]
    },
    {
     "name": "stdout",
     "output_type": "stream",
     "text": [
      "Arquivo: \"PCAT_RGESUL_2021-06-19_REAJUSTE_(1000042PCATRGEAGRUPADA2021V02).xlsx\" foi baixado com sucesso\n",
      "['PCAT_SULGIPE_2014-12-14_REAJUSTE_(PCATSULGIPE2014CAT1).xlsx'\n",
      " 'https://www2.aneel.gov.br/aplicacoes/tarifa/arquivo/PCAT_SULGIPE_2014_CAT1.xlsx']\n",
      "Arquivo: \"PCAT_RGESUL_2021-06-19_REAJUSTE_(1000042PCATRGEAGRUPADA2021V02).xlsx\" foi baixado com sucesso\n",
      "['PCAT_SULGIPE_2014-12-14_REAJUSTE_(PCATSULGIPE2014CAT1).xlsx'\n",
      " 'https://www2.aneel.gov.br/aplicacoes/tarifa/arquivo/PCAT_SULGIPE_2014_CAT1.xlsx']\n"
     ]
    },
    {
     "name": "stderr",
     "output_type": "stream",
     "text": [
      "D:\\python_projects\\cpfl\\web_scrapper\\venv_scraper\\lib\\site-packages\\urllib3\\connectionpool.py:1043: InsecureRequestWarning: Unverified HTTPS request is being made to host 'www2.aneel.gov.br'. Adding certificate verification is strongly advised. See: https://urllib3.readthedocs.io/en/1.26.x/advanced-usage.html#ssl-warnings\n",
      "  warnings.warn(\n",
      "D:\\python_projects\\cpfl\\web_scrapper\\venv_scraper\\lib\\site-packages\\urllib3\\connectionpool.py:1043: InsecureRequestWarning: Unverified HTTPS request is being made to host 'www2.aneel.gov.br'. Adding certificate verification is strongly advised. See: https://urllib3.readthedocs.io/en/1.26.x/advanced-usage.html#ssl-warnings\n",
      "  warnings.warn(\n"
     ]
    },
    {
     "name": "stdout",
     "output_type": "stream",
     "text": [
      "Arquivo: \"PCAT_SULGIPE_2014-12-14_REAJUSTE_(PCATSULGIPE2014CAT1).xlsx\" foi baixado com sucesso\n",
      "['PCAT_SULGIPE_2015-12-14_REAJUSTE_(PCATSULGIPE2015).xlsx'\n",
      " 'https://www2.aneel.gov.br/aplicacoes/tarifa/arquivo/PCAT_Sulgipe_2015.xlsx']\n",
      "Arquivo: \"PCAT_SULGIPE_2014-12-14_REAJUSTE_(PCATSULGIPE2014CAT1).xlsx\" foi baixado com sucesso\n",
      "['PCAT_SULGIPE_2015-12-14_REAJUSTE_(PCATSULGIPE2015).xlsx'\n",
      " 'https://www2.aneel.gov.br/aplicacoes/tarifa/arquivo/PCAT_Sulgipe_2015.xlsx']\n"
     ]
    },
    {
     "name": "stderr",
     "output_type": "stream",
     "text": [
      "D:\\python_projects\\cpfl\\web_scrapper\\venv_scraper\\lib\\site-packages\\urllib3\\connectionpool.py:1043: InsecureRequestWarning: Unverified HTTPS request is being made to host 'www2.aneel.gov.br'. Adding certificate verification is strongly advised. See: https://urllib3.readthedocs.io/en/1.26.x/advanced-usage.html#ssl-warnings\n",
      "  warnings.warn(\n",
      "D:\\python_projects\\cpfl\\web_scrapper\\venv_scraper\\lib\\site-packages\\urllib3\\connectionpool.py:1043: InsecureRequestWarning: Unverified HTTPS request is being made to host 'www2.aneel.gov.br'. Adding certificate verification is strongly advised. See: https://urllib3.readthedocs.io/en/1.26.x/advanced-usage.html#ssl-warnings\n",
      "  warnings.warn(\n"
     ]
    },
    {
     "name": "stdout",
     "output_type": "stream",
     "text": [
      "Arquivo: \"PCAT_SULGIPE_2015-12-14_REAJUSTE_(PCATSULGIPE2015).xlsx\" foi baixado com sucesso\n",
      "['PCAT_SULGIPE_2015-03-02_REVISAOEXTRAORDINARIA_(PCATSULGIPE2014CAT).xlsx'\n",
      " 'https://www2.aneel.gov.br/aplicacoes/tarifa/arquivo/PCAT_SULGIPE_2014_CAT.xlsx']\n",
      "Arquivo: \"PCAT_SULGIPE_2015-12-14_REAJUSTE_(PCATSULGIPE2015).xlsx\" foi baixado com sucesso\n",
      "['PCAT_SULGIPE_2015-03-02_REVISAOEXTRAORDINARIA_(PCATSULGIPE2014CAT).xlsx'\n",
      " 'https://www2.aneel.gov.br/aplicacoes/tarifa/arquivo/PCAT_SULGIPE_2014_CAT.xlsx']\n"
     ]
    },
    {
     "name": "stderr",
     "output_type": "stream",
     "text": [
      "D:\\python_projects\\cpfl\\web_scrapper\\venv_scraper\\lib\\site-packages\\urllib3\\connectionpool.py:1043: InsecureRequestWarning: Unverified HTTPS request is being made to host 'www2.aneel.gov.br'. Adding certificate verification is strongly advised. See: https://urllib3.readthedocs.io/en/1.26.x/advanced-usage.html#ssl-warnings\n",
      "  warnings.warn(\n",
      "D:\\python_projects\\cpfl\\web_scrapper\\venv_scraper\\lib\\site-packages\\urllib3\\connectionpool.py:1043: InsecureRequestWarning: Unverified HTTPS request is being made to host 'www2.aneel.gov.br'. Adding certificate verification is strongly advised. See: https://urllib3.readthedocs.io/en/1.26.x/advanced-usage.html#ssl-warnings\n",
      "  warnings.warn(\n"
     ]
    },
    {
     "name": "stdout",
     "output_type": "stream",
     "text": [
      "Arquivo: \"PCAT_SULGIPE_2015-03-02_REVISAOEXTRAORDINARIA_(PCATSULGIPE2014CAT).xlsx\" foi baixado com sucesso\n",
      "['PCAT_SULGIPE_2018-05-22_REAJUSTE_(PCATSULGIPE2018V02).xlsx'\n",
      " 'https://www2.aneel.gov.br/aplicacoes/tarifa/arquivo/PCAT Sulgipe 2018 V02.xlsx']\n",
      "Arquivo: \"PCAT_SULGIPE_2015-03-02_REVISAOEXTRAORDINARIA_(PCATSULGIPE2014CAT).xlsx\" foi baixado com sucesso\n",
      "['PCAT_SULGIPE_2018-05-22_REAJUSTE_(PCATSULGIPE2018V02).xlsx'\n",
      " 'https://www2.aneel.gov.br/aplicacoes/tarifa/arquivo/PCAT Sulgipe 2018 V02.xlsx']\n"
     ]
    },
    {
     "name": "stderr",
     "output_type": "stream",
     "text": [
      "D:\\python_projects\\cpfl\\web_scrapper\\venv_scraper\\lib\\site-packages\\urllib3\\connectionpool.py:1043: InsecureRequestWarning: Unverified HTTPS request is being made to host 'www2.aneel.gov.br'. Adding certificate verification is strongly advised. See: https://urllib3.readthedocs.io/en/1.26.x/advanced-usage.html#ssl-warnings\n",
      "  warnings.warn(\n",
      "D:\\python_projects\\cpfl\\web_scrapper\\venv_scraper\\lib\\site-packages\\urllib3\\connectionpool.py:1043: InsecureRequestWarning: Unverified HTTPS request is being made to host 'www2.aneel.gov.br'. Adding certificate verification is strongly advised. See: https://urllib3.readthedocs.io/en/1.26.x/advanced-usage.html#ssl-warnings\n",
      "  warnings.warn(\n"
     ]
    },
    {
     "name": "stdout",
     "output_type": "stream",
     "text": [
      "Arquivo: \"PCAT_SULGIPE_2018-05-22_REAJUSTE_(PCATSULGIPE2018V02).xlsx\" foi baixado com sucesso\n",
      "['PCAT_SULGIPE_2019-05-22_REAJUSTE_(46PCATSULGIPE2019V02).xlsx'\n",
      " 'https://www2.aneel.gov.br/aplicacoes/tarifa/arquivo/46 PCAT Sulgipe 2019 V02.xlsx']\n",
      "Arquivo: \"PCAT_SULGIPE_2018-05-22_REAJUSTE_(PCATSULGIPE2018V02).xlsx\" foi baixado com sucesso\n",
      "['PCAT_SULGIPE_2019-05-22_REAJUSTE_(46PCATSULGIPE2019V02).xlsx'\n",
      " 'https://www2.aneel.gov.br/aplicacoes/tarifa/arquivo/46 PCAT Sulgipe 2019 V02.xlsx']\n"
     ]
    },
    {
     "name": "stderr",
     "output_type": "stream",
     "text": [
      "D:\\python_projects\\cpfl\\web_scrapper\\venv_scraper\\lib\\site-packages\\urllib3\\connectionpool.py:1043: InsecureRequestWarning: Unverified HTTPS request is being made to host 'www2.aneel.gov.br'. Adding certificate verification is strongly advised. See: https://urllib3.readthedocs.io/en/1.26.x/advanced-usage.html#ssl-warnings\n",
      "  warnings.warn(\n",
      "D:\\python_projects\\cpfl\\web_scrapper\\venv_scraper\\lib\\site-packages\\urllib3\\connectionpool.py:1043: InsecureRequestWarning: Unverified HTTPS request is being made to host 'www2.aneel.gov.br'. Adding certificate verification is strongly advised. See: https://urllib3.readthedocs.io/en/1.26.x/advanced-usage.html#ssl-warnings\n",
      "  warnings.warn(\n"
     ]
    },
    {
     "name": "stdout",
     "output_type": "stream",
     "text": [
      "Arquivo: \"PCAT_SULGIPE_2019-05-22_REAJUSTE_(46PCATSULGIPE2019V02).xlsx\" foi baixado com sucesso\n",
      "['PCAT_SULGIPE_2020-05-22_REAJUSTE_(46PCAT2020V02).xlsx'\n",
      " 'https://www2.aneel.gov.br/aplicacoes/tarifa/arquivo/46 PCAT 2020 V02.xlsx']\n",
      "Arquivo: \"PCAT_SULGIPE_2019-05-22_REAJUSTE_(46PCATSULGIPE2019V02).xlsx\" foi baixado com sucesso\n",
      "['PCAT_SULGIPE_2020-05-22_REAJUSTE_(46PCAT2020V02).xlsx'\n",
      " 'https://www2.aneel.gov.br/aplicacoes/tarifa/arquivo/46 PCAT 2020 V02.xlsx']\n"
     ]
    },
    {
     "name": "stderr",
     "output_type": "stream",
     "text": [
      "D:\\python_projects\\cpfl\\web_scrapper\\venv_scraper\\lib\\site-packages\\urllib3\\connectionpool.py:1043: InsecureRequestWarning: Unverified HTTPS request is being made to host 'www2.aneel.gov.br'. Adding certificate verification is strongly advised. See: https://urllib3.readthedocs.io/en/1.26.x/advanced-usage.html#ssl-warnings\n",
      "  warnings.warn(\n",
      "D:\\python_projects\\cpfl\\web_scrapper\\venv_scraper\\lib\\site-packages\\urllib3\\connectionpool.py:1043: InsecureRequestWarning: Unverified HTTPS request is being made to host 'www2.aneel.gov.br'. Adding certificate verification is strongly advised. See: https://urllib3.readthedocs.io/en/1.26.x/advanced-usage.html#ssl-warnings\n",
      "  warnings.warn(\n"
     ]
    },
    {
     "name": "stdout",
     "output_type": "stream",
     "text": [
      "Arquivo: \"PCAT_SULGIPE_2020-05-22_REAJUSTE_(46PCAT2020V02).xlsx\" foi baixado com sucesso\n",
      "['PCAT_SULGIPE_2021-05-22_REAJUSTE_(46PCATSULGIPE2021V02).xlsx'\n",
      " 'https://www2.aneel.gov.br/aplicacoes/tarifa/arquivo/46 PCAT Sulgipe 2021 V02.xlsx']\n",
      "Arquivo: \"PCAT_SULGIPE_2020-05-22_REAJUSTE_(46PCAT2020V02).xlsx\" foi baixado com sucesso\n",
      "['PCAT_SULGIPE_2021-05-22_REAJUSTE_(46PCATSULGIPE2021V02).xlsx'\n",
      " 'https://www2.aneel.gov.br/aplicacoes/tarifa/arquivo/46 PCAT Sulgipe 2021 V02.xlsx']\n"
     ]
    },
    {
     "name": "stderr",
     "output_type": "stream",
     "text": [
      "D:\\python_projects\\cpfl\\web_scrapper\\venv_scraper\\lib\\site-packages\\urllib3\\connectionpool.py:1043: InsecureRequestWarning: Unverified HTTPS request is being made to host 'www2.aneel.gov.br'. Adding certificate verification is strongly advised. See: https://urllib3.readthedocs.io/en/1.26.x/advanced-usage.html#ssl-warnings\n",
      "  warnings.warn(\n",
      "D:\\python_projects\\cpfl\\web_scrapper\\venv_scraper\\lib\\site-packages\\urllib3\\connectionpool.py:1043: InsecureRequestWarning: Unverified HTTPS request is being made to host 'www2.aneel.gov.br'. Adding certificate verification is strongly advised. See: https://urllib3.readthedocs.io/en/1.26.x/advanced-usage.html#ssl-warnings\n",
      "  warnings.warn(\n"
     ]
    },
    {
     "name": "stdout",
     "output_type": "stream",
     "text": [
      "Arquivo: \"PCAT_SULGIPE_2021-05-22_REAJUSTE_(46PCATSULGIPE2021V02).xlsx\" foi baixado com sucesso\n",
      "['PCAT_UHENPAL_2014-04-19_REAJUSTE_(PCATUHENPAL2014).xlsx'\n",
      " 'https://www2.aneel.gov.br/aplicacoes/tarifa/arquivo/PCAT_UHENPAL_2014.xlsx']\n",
      "Arquivo: \"PCAT_SULGIPE_2021-05-22_REAJUSTE_(46PCATSULGIPE2021V02).xlsx\" foi baixado com sucesso\n",
      "['PCAT_UHENPAL_2014-04-19_REAJUSTE_(PCATUHENPAL2014).xlsx'\n",
      " 'https://www2.aneel.gov.br/aplicacoes/tarifa/arquivo/PCAT_UHENPAL_2014.xlsx']\n"
     ]
    },
    {
     "name": "stderr",
     "output_type": "stream",
     "text": [
      "D:\\python_projects\\cpfl\\web_scrapper\\venv_scraper\\lib\\site-packages\\urllib3\\connectionpool.py:1043: InsecureRequestWarning: Unverified HTTPS request is being made to host 'www2.aneel.gov.br'. Adding certificate verification is strongly advised. See: https://urllib3.readthedocs.io/en/1.26.x/advanced-usage.html#ssl-warnings\n",
      "  warnings.warn(\n",
      "D:\\python_projects\\cpfl\\web_scrapper\\venv_scraper\\lib\\site-packages\\urllib3\\connectionpool.py:1043: InsecureRequestWarning: Unverified HTTPS request is being made to host 'www2.aneel.gov.br'. Adding certificate verification is strongly advised. See: https://urllib3.readthedocs.io/en/1.26.x/advanced-usage.html#ssl-warnings\n",
      "  warnings.warn(\n"
     ]
    },
    {
     "name": "stdout",
     "output_type": "stream",
     "text": [
      "Arquivo: \"PCAT_UHENPAL_2014-04-19_REAJUSTE_(PCATUHENPAL2014).xlsx\" foi baixado com sucesso\n",
      "['PCAT_UHENPAL_2015-04-19_REAJUSTE_(PCATUHENPAL2015A015).xlsx'\n",
      " 'https://www2.aneel.gov.br/aplicacoes/tarifa/arquivo/PCAT_UHENPAL_2015A 015..xlsx']\n",
      "Arquivo: \"PCAT_UHENPAL_2014-04-19_REAJUSTE_(PCATUHENPAL2014).xlsx\" foi baixado com sucesso\n",
      "['PCAT_UHENPAL_2015-04-19_REAJUSTE_(PCATUHENPAL2015A015).xlsx'\n",
      " 'https://www2.aneel.gov.br/aplicacoes/tarifa/arquivo/PCAT_UHENPAL_2015A 015..xlsx']\n"
     ]
    },
    {
     "name": "stderr",
     "output_type": "stream",
     "text": [
      "D:\\python_projects\\cpfl\\web_scrapper\\venv_scraper\\lib\\site-packages\\urllib3\\connectionpool.py:1043: InsecureRequestWarning: Unverified HTTPS request is being made to host 'www2.aneel.gov.br'. Adding certificate verification is strongly advised. See: https://urllib3.readthedocs.io/en/1.26.x/advanced-usage.html#ssl-warnings\n",
      "  warnings.warn(\n",
      "D:\\python_projects\\cpfl\\web_scrapper\\venv_scraper\\lib\\site-packages\\urllib3\\connectionpool.py:1043: InsecureRequestWarning: Unverified HTTPS request is being made to host 'www2.aneel.gov.br'. Adding certificate verification is strongly advised. See: https://urllib3.readthedocs.io/en/1.26.x/advanced-usage.html#ssl-warnings\n",
      "  warnings.warn(\n"
     ]
    },
    {
     "name": "stdout",
     "output_type": "stream",
     "text": [
      "Arquivo: \"PCAT_UHENPAL_2015-04-19_REAJUSTE_(PCATUHENPAL2015A015).xlsx\" foi baixado com sucesso\n",
      "['PCAT_UHENPAL_2015-03-02_REVISAOEXTRAORDINARIA_(PCATUHENPAL2014V00).xlsx'\n",
      " 'https://www2.aneel.gov.br/aplicacoes/tarifa/arquivo/PCAT_UHENPAL_2014_V00.xlsx']\n",
      "Arquivo: \"PCAT_UHENPAL_2015-04-19_REAJUSTE_(PCATUHENPAL2015A015).xlsx\" foi baixado com sucesso\n",
      "['PCAT_UHENPAL_2015-03-02_REVISAOEXTRAORDINARIA_(PCATUHENPAL2014V00).xlsx'\n",
      " 'https://www2.aneel.gov.br/aplicacoes/tarifa/arquivo/PCAT_UHENPAL_2014_V00.xlsx']\n"
     ]
    },
    {
     "name": "stderr",
     "output_type": "stream",
     "text": [
      "D:\\python_projects\\cpfl\\web_scrapper\\venv_scraper\\lib\\site-packages\\urllib3\\connectionpool.py:1043: InsecureRequestWarning: Unverified HTTPS request is being made to host 'www2.aneel.gov.br'. Adding certificate verification is strongly advised. See: https://urllib3.readthedocs.io/en/1.26.x/advanced-usage.html#ssl-warnings\n",
      "  warnings.warn(\n",
      "D:\\python_projects\\cpfl\\web_scrapper\\venv_scraper\\lib\\site-packages\\urllib3\\connectionpool.py:1043: InsecureRequestWarning: Unverified HTTPS request is being made to host 'www2.aneel.gov.br'. Adding certificate verification is strongly advised. See: https://urllib3.readthedocs.io/en/1.26.x/advanced-usage.html#ssl-warnings\n",
      "  warnings.warn(\n"
     ]
    },
    {
     "name": "stdout",
     "output_type": "stream",
     "text": [
      "Arquivo: \"PCAT_UHENPAL_2015-03-02_REVISAOEXTRAORDINARIA_(PCATUHENPAL2014V00).xlsx\" foi baixado com sucesso\n",
      "['PCAT_UHENPAL_2017-05-22_REVISAO_(PCATUHENPAL2017).xlsx'\n",
      " 'https://www2.aneel.gov.br/aplicacoes/tarifa/arquivo/PCAT_Uhenpal_2017.xlsx']\n",
      "Arquivo: \"PCAT_UHENPAL_2015-03-02_REVISAOEXTRAORDINARIA_(PCATUHENPAL2014V00).xlsx\" foi baixado com sucesso\n",
      "['PCAT_UHENPAL_2017-05-22_REVISAO_(PCATUHENPAL2017).xlsx'\n",
      " 'https://www2.aneel.gov.br/aplicacoes/tarifa/arquivo/PCAT_Uhenpal_2017.xlsx']\n"
     ]
    },
    {
     "name": "stderr",
     "output_type": "stream",
     "text": [
      "D:\\python_projects\\cpfl\\web_scrapper\\venv_scraper\\lib\\site-packages\\urllib3\\connectionpool.py:1043: InsecureRequestWarning: Unverified HTTPS request is being made to host 'www2.aneel.gov.br'. Adding certificate verification is strongly advised. See: https://urllib3.readthedocs.io/en/1.26.x/advanced-usage.html#ssl-warnings\n",
      "  warnings.warn(\n",
      "D:\\python_projects\\cpfl\\web_scrapper\\venv_scraper\\lib\\site-packages\\urllib3\\connectionpool.py:1043: InsecureRequestWarning: Unverified HTTPS request is being made to host 'www2.aneel.gov.br'. Adding certificate verification is strongly advised. See: https://urllib3.readthedocs.io/en/1.26.x/advanced-usage.html#ssl-warnings\n",
      "  warnings.warn(\n"
     ]
    },
    {
     "name": "stdout",
     "output_type": "stream",
     "text": [
      "Arquivo: \"PCAT_UHENPAL_2017-05-22_REVISAO_(PCATUHENPAL2017).xlsx\" foi baixado com sucesso\n",
      "['PCAT_UHENPAL_2020-05-22_REAJUSTE_(400PCATUHENPALV02).xlsx'\n",
      " 'https://www2.aneel.gov.br/aplicacoes/tarifa/arquivo/400 PCAT_Uhenpal_V02.xlsx']\n",
      "Arquivo: \"PCAT_UHENPAL_2017-05-22_REVISAO_(PCATUHENPAL2017).xlsx\" foi baixado com sucesso\n",
      "['PCAT_UHENPAL_2020-05-22_REAJUSTE_(400PCATUHENPALV02).xlsx'\n",
      " 'https://www2.aneel.gov.br/aplicacoes/tarifa/arquivo/400 PCAT_Uhenpal_V02.xlsx']\n"
     ]
    },
    {
     "name": "stderr",
     "output_type": "stream",
     "text": [
      "D:\\python_projects\\cpfl\\web_scrapper\\venv_scraper\\lib\\site-packages\\urllib3\\connectionpool.py:1043: InsecureRequestWarning: Unverified HTTPS request is being made to host 'www2.aneel.gov.br'. Adding certificate verification is strongly advised. See: https://urllib3.readthedocs.io/en/1.26.x/advanced-usage.html#ssl-warnings\n",
      "  warnings.warn(\n",
      "D:\\python_projects\\cpfl\\web_scrapper\\venv_scraper\\lib\\site-packages\\urllib3\\connectionpool.py:1043: InsecureRequestWarning: Unverified HTTPS request is being made to host 'www2.aneel.gov.br'. Adding certificate verification is strongly advised. See: https://urllib3.readthedocs.io/en/1.26.x/advanced-usage.html#ssl-warnings\n",
      "  warnings.warn(\n"
     ]
    },
    {
     "name": "stdout",
     "output_type": "stream",
     "text": [
      "Arquivo: \"PCAT_UHENPAL_2020-05-22_REAJUSTE_(400PCATUHENPALV02).xlsx\" foi baixado com sucesso\n",
      "['PCAT_UHENPAL_2021-07-22_REAJUSTE_(400PCATNOVAPALMA2021V02).xlsx'\n",
      " 'https://www2.aneel.gov.br/aplicacoes/tarifa/arquivo/400 PCAT NOVA PALMA 2021 V02.xlsx']\n",
      "Arquivo: \"PCAT_UHENPAL_2020-05-22_REAJUSTE_(400PCATUHENPALV02).xlsx\" foi baixado com sucesso\n",
      "['PCAT_UHENPAL_2021-07-22_REAJUSTE_(400PCATNOVAPALMA2021V02).xlsx'\n",
      " 'https://www2.aneel.gov.br/aplicacoes/tarifa/arquivo/400 PCAT NOVA PALMA 2021 V02.xlsx']\n"
     ]
    },
    {
     "name": "stderr",
     "output_type": "stream",
     "text": [
      "D:\\python_projects\\cpfl\\web_scrapper\\venv_scraper\\lib\\site-packages\\urllib3\\connectionpool.py:1043: InsecureRequestWarning: Unverified HTTPS request is being made to host 'www2.aneel.gov.br'. Adding certificate verification is strongly advised. See: https://urllib3.readthedocs.io/en/1.26.x/advanced-usage.html#ssl-warnings\n",
      "  warnings.warn(\n",
      "D:\\python_projects\\cpfl\\web_scrapper\\venv_scraper\\lib\\site-packages\\urllib3\\connectionpool.py:1043: InsecureRequestWarning: Unverified HTTPS request is being made to host 'www2.aneel.gov.br'. Adding certificate verification is strongly advised. See: https://urllib3.readthedocs.io/en/1.26.x/advanced-usage.html#ssl-warnings\n",
      "  warnings.warn(\n"
     ]
    },
    {
     "name": "stdout",
     "output_type": "stream",
     "text": [
      "Arquivo: \"PCAT_UHENPAL_2021-07-22_REAJUSTE_(400PCATNOVAPALMA2021V02).xlsx\" foi baixado com sucesso\n",
      "['PCAT_CEMIGD_2014-04-08_REAJUSTE_(PCATCEMIG2014).xlsx'\n",
      " 'https://www2.aneel.gov.br/aplicacoes/tarifa/arquivo/PCAT_CEMIG_2014.xlsx']\n",
      "Arquivo: \"PCAT_UHENPAL_2021-07-22_REAJUSTE_(400PCATNOVAPALMA2021V02).xlsx\" foi baixado com sucesso\n",
      "['PCAT_CEMIGD_2014-04-08_REAJUSTE_(PCATCEMIG2014).xlsx'\n",
      " 'https://www2.aneel.gov.br/aplicacoes/tarifa/arquivo/PCAT_CEMIG_2014.xlsx']\n"
     ]
    },
    {
     "name": "stderr",
     "output_type": "stream",
     "text": [
      "D:\\python_projects\\cpfl\\web_scrapper\\venv_scraper\\lib\\site-packages\\urllib3\\connectionpool.py:1043: InsecureRequestWarning: Unverified HTTPS request is being made to host 'www2.aneel.gov.br'. Adding certificate verification is strongly advised. See: https://urllib3.readthedocs.io/en/1.26.x/advanced-usage.html#ssl-warnings\n",
      "  warnings.warn(\n",
      "D:\\python_projects\\cpfl\\web_scrapper\\venv_scraper\\lib\\site-packages\\urllib3\\connectionpool.py:1043: InsecureRequestWarning: Unverified HTTPS request is being made to host 'www2.aneel.gov.br'. Adding certificate verification is strongly advised. See: https://urllib3.readthedocs.io/en/1.26.x/advanced-usage.html#ssl-warnings\n",
      "  warnings.warn(\n"
     ]
    },
    {
     "name": "stdout",
     "output_type": "stream",
     "text": [
      "Arquivo: \"PCAT_CEMIGD_2014-04-08_REAJUSTE_(PCATCEMIG2014).xlsx\" foi baixado com sucesso\n",
      "['PCAT_CPFLPIRATININGA_2013-10-23_REAJUSTE_(PCATCPFLPIRATININGA2013).xlsx'\n",
      " 'https://www2.aneel.gov.br/aplicacoes/tarifa/arquivo/PCAT_CPFL_PIRATININGA_2013.xlsx']\n",
      "Arquivo: \"PCAT_CEMIGD_2014-04-08_REAJUSTE_(PCATCEMIG2014).xlsx\" foi baixado com sucesso\n",
      "['PCAT_CPFLPIRATININGA_2013-10-23_REAJUSTE_(PCATCPFLPIRATININGA2013).xlsx'\n",
      " 'https://www2.aneel.gov.br/aplicacoes/tarifa/arquivo/PCAT_CPFL_PIRATININGA_2013.xlsx']\n"
     ]
    },
    {
     "name": "stderr",
     "output_type": "stream",
     "text": [
      "D:\\python_projects\\cpfl\\web_scrapper\\venv_scraper\\lib\\site-packages\\urllib3\\connectionpool.py:1043: InsecureRequestWarning: Unverified HTTPS request is being made to host 'www2.aneel.gov.br'. Adding certificate verification is strongly advised. See: https://urllib3.readthedocs.io/en/1.26.x/advanced-usage.html#ssl-warnings\n",
      "  warnings.warn(\n",
      "D:\\python_projects\\cpfl\\web_scrapper\\venv_scraper\\lib\\site-packages\\urllib3\\connectionpool.py:1043: InsecureRequestWarning: Unverified HTTPS request is being made to host 'www2.aneel.gov.br'. Adding certificate verification is strongly advised. See: https://urllib3.readthedocs.io/en/1.26.x/advanced-usage.html#ssl-warnings\n",
      "  warnings.warn(\n"
     ]
    },
    {
     "name": "stdout",
     "output_type": "stream",
     "text": [
      "Arquivo: \"PCAT_CPFLPIRATININGA_2013-10-23_REAJUSTE_(PCATCPFLPIRATININGA2013).xlsx\" foi baixado com sucesso\n",
      "['PCAT_UHENPAL_2016-05-22_REAJUSTE_(PCATUHENPAL2016).xlsx'\n",
      " 'https://www2.aneel.gov.br/aplicacoes/tarifa/arquivo/PCAT_ UHENPAL_ 2016.xlsx']\n",
      "Arquivo: \"PCAT_CPFLPIRATININGA_2013-10-23_REAJUSTE_(PCATCPFLPIRATININGA2013).xlsx\" foi baixado com sucesso\n",
      "['PCAT_UHENPAL_2016-05-22_REAJUSTE_(PCATUHENPAL2016).xlsx'\n",
      " 'https://www2.aneel.gov.br/aplicacoes/tarifa/arquivo/PCAT_ UHENPAL_ 2016.xlsx']\n"
     ]
    },
    {
     "name": "stderr",
     "output_type": "stream",
     "text": [
      "D:\\python_projects\\cpfl\\web_scrapper\\venv_scraper\\lib\\site-packages\\urllib3\\connectionpool.py:1043: InsecureRequestWarning: Unverified HTTPS request is being made to host 'www2.aneel.gov.br'. Adding certificate verification is strongly advised. See: https://urllib3.readthedocs.io/en/1.26.x/advanced-usage.html#ssl-warnings\n",
      "  warnings.warn(\n",
      "D:\\python_projects\\cpfl\\web_scrapper\\venv_scraper\\lib\\site-packages\\urllib3\\connectionpool.py:1043: InsecureRequestWarning: Unverified HTTPS request is being made to host 'www2.aneel.gov.br'. Adding certificate verification is strongly advised. See: https://urllib3.readthedocs.io/en/1.26.x/advanced-usage.html#ssl-warnings\n",
      "  warnings.warn(\n"
     ]
    },
    {
     "name": "stdout",
     "output_type": "stream",
     "text": [
      "Arquivo: \"PCAT_UHENPAL_2016-05-22_REAJUSTE_(PCATUHENPAL2016).xlsx\" foi baixado com sucesso\n",
      "['PCAT_UHENPAL_2019-05-22_REAJUSTE_(400PCATUHENPAL2019V02).xlsx'\n",
      " 'https://www2.aneel.gov.br/aplicacoes/tarifa/arquivo/400 PCAT Uhenpal 2019 V02.xlsx']\n",
      "Arquivo: \"PCAT_UHENPAL_2016-05-22_REAJUSTE_(PCATUHENPAL2016).xlsx\" foi baixado com sucesso\n",
      "['PCAT_UHENPAL_2019-05-22_REAJUSTE_(400PCATUHENPAL2019V02).xlsx'\n",
      " 'https://www2.aneel.gov.br/aplicacoes/tarifa/arquivo/400 PCAT Uhenpal 2019 V02.xlsx']\n"
     ]
    },
    {
     "name": "stderr",
     "output_type": "stream",
     "text": [
      "D:\\python_projects\\cpfl\\web_scrapper\\venv_scraper\\lib\\site-packages\\urllib3\\connectionpool.py:1043: InsecureRequestWarning: Unverified HTTPS request is being made to host 'www2.aneel.gov.br'. Adding certificate verification is strongly advised. See: https://urllib3.readthedocs.io/en/1.26.x/advanced-usage.html#ssl-warnings\n",
      "  warnings.warn(\n",
      "D:\\python_projects\\cpfl\\web_scrapper\\venv_scraper\\lib\\site-packages\\urllib3\\connectionpool.py:1043: InsecureRequestWarning: Unverified HTTPS request is being made to host 'www2.aneel.gov.br'. Adding certificate verification is strongly advised. See: https://urllib3.readthedocs.io/en/1.26.x/advanced-usage.html#ssl-warnings\n",
      "  warnings.warn(\n"
     ]
    },
    {
     "name": "stdout",
     "output_type": "stream",
     "text": [
      "Arquivo: \"PCAT_UHENPAL_2019-05-22_REAJUSTE_(400PCATUHENPAL2019V02).xlsx\" foi baixado com sucesso\n",
      "['PCAT_DMED_2014-10-28_REAJUSTE_(PCATDMEPC2014).xlsx'\n",
      " 'https://www2.aneel.gov.br/aplicacoes/tarifa/arquivo/PCAT_DMEPC_2014.xlsx']\n",
      "Arquivo: \"PCAT_UHENPAL_2019-05-22_REAJUSTE_(400PCATUHENPAL2019V02).xlsx\" foi baixado com sucesso\n",
      "['PCAT_DMED_2014-10-28_REAJUSTE_(PCATDMEPC2014).xlsx'\n",
      " 'https://www2.aneel.gov.br/aplicacoes/tarifa/arquivo/PCAT_DMEPC_2014.xlsx']\n"
     ]
    },
    {
     "name": "stderr",
     "output_type": "stream",
     "text": [
      "D:\\python_projects\\cpfl\\web_scrapper\\venv_scraper\\lib\\site-packages\\urllib3\\connectionpool.py:1043: InsecureRequestWarning: Unverified HTTPS request is being made to host 'www2.aneel.gov.br'. Adding certificate verification is strongly advised. See: https://urllib3.readthedocs.io/en/1.26.x/advanced-usage.html#ssl-warnings\n",
      "  warnings.warn(\n",
      "D:\\python_projects\\cpfl\\web_scrapper\\venv_scraper\\lib\\site-packages\\urllib3\\connectionpool.py:1043: InsecureRequestWarning: Unverified HTTPS request is being made to host 'www2.aneel.gov.br'. Adding certificate verification is strongly advised. See: https://urllib3.readthedocs.io/en/1.26.x/advanced-usage.html#ssl-warnings\n",
      "  warnings.warn(\n"
     ]
    },
    {
     "name": "stdout",
     "output_type": "stream",
     "text": [
      "Arquivo: \"PCAT_DMED_2014-10-28_REAJUSTE_(PCATDMEPC2014).xlsx\" foi baixado com sucesso\n",
      "['PCAT_EBO_2020-02-04_REAJUSTE_(PCATEBO2020V02).xlsx'\n",
      " 'https://www2.aneel.gov.br/aplicacoes/tarifa/arquivo/PCAT EBO 2020 V02.xlsx']\n",
      "Arquivo: \"PCAT_DMED_2014-10-28_REAJUSTE_(PCATDMEPC2014).xlsx\" foi baixado com sucesso\n",
      "['PCAT_EBO_2020-02-04_REAJUSTE_(PCATEBO2020V02).xlsx'\n",
      " 'https://www2.aneel.gov.br/aplicacoes/tarifa/arquivo/PCAT EBO 2020 V02.xlsx']\n"
     ]
    },
    {
     "name": "stderr",
     "output_type": "stream",
     "text": [
      "D:\\python_projects\\cpfl\\web_scrapper\\venv_scraper\\lib\\site-packages\\urllib3\\connectionpool.py:1043: InsecureRequestWarning: Unverified HTTPS request is being made to host 'www2.aneel.gov.br'. Adding certificate verification is strongly advised. See: https://urllib3.readthedocs.io/en/1.26.x/advanced-usage.html#ssl-warnings\n",
      "  warnings.warn(\n",
      "D:\\python_projects\\cpfl\\web_scrapper\\venv_scraper\\lib\\site-packages\\urllib3\\connectionpool.py:1043: InsecureRequestWarning: Unverified HTTPS request is being made to host 'www2.aneel.gov.br'. Adding certificate verification is strongly advised. See: https://urllib3.readthedocs.io/en/1.26.x/advanced-usage.html#ssl-warnings\n",
      "  warnings.warn(\n"
     ]
    },
    {
     "name": "stdout",
     "output_type": "stream",
     "text": [
      "Arquivo: \"PCAT_EBO_2020-02-04_REAJUSTE_(PCATEBO2020V02).xlsx\" foi baixado com sucesso\n",
      "['PCAT_EBO_2021-02-04_REVISAO_(6611PCATEBO2021V02).xlsx'\n",
      " 'https://www2.aneel.gov.br/aplicacoes/tarifa/arquivo/6611 PCAT EBO 2021 V02.xlsx']\n",
      "Arquivo: \"PCAT_EBO_2020-02-04_REAJUSTE_(PCATEBO2020V02).xlsx\" foi baixado com sucesso\n",
      "['PCAT_EBO_2021-02-04_REVISAO_(6611PCATEBO2021V02).xlsx'\n",
      " 'https://www2.aneel.gov.br/aplicacoes/tarifa/arquivo/6611 PCAT EBO 2021 V02.xlsx']\n"
     ]
    },
    {
     "name": "stderr",
     "output_type": "stream",
     "text": [
      "D:\\python_projects\\cpfl\\web_scrapper\\venv_scraper\\lib\\site-packages\\urllib3\\connectionpool.py:1043: InsecureRequestWarning: Unverified HTTPS request is being made to host 'www2.aneel.gov.br'. Adding certificate verification is strongly advised. See: https://urllib3.readthedocs.io/en/1.26.x/advanced-usage.html#ssl-warnings\n",
      "  warnings.warn(\n",
      "D:\\python_projects\\cpfl\\web_scrapper\\venv_scraper\\lib\\site-packages\\urllib3\\connectionpool.py:1043: InsecureRequestWarning: Unverified HTTPS request is being made to host 'www2.aneel.gov.br'. Adding certificate verification is strongly advised. See: https://urllib3.readthedocs.io/en/1.26.x/advanced-usage.html#ssl-warnings\n",
      "  warnings.warn(\n"
     ]
    },
    {
     "name": "stdout",
     "output_type": "stream",
     "text": [
      "Arquivo: \"PCAT_EBO_2021-02-04_REVISAO_(6611PCATEBO2021V02).xlsx\" foi baixado com sucesso\n",
      "['PCAT_ELETROCAR_2021-07-22_REAJUSTE_(398PCATELETROCAR2021V02).xlsx'\n",
      " 'https://www2.aneel.gov.br/aplicacoes/tarifa/arquivo/398 PCAT Eletrocar 2021 V02.xlsx']\n",
      "Arquivo: \"PCAT_EBO_2021-02-04_REVISAO_(6611PCATEBO2021V02).xlsx\" foi baixado com sucesso\n",
      "['PCAT_ELETROCAR_2021-07-22_REAJUSTE_(398PCATELETROCAR2021V02).xlsx'\n",
      " 'https://www2.aneel.gov.br/aplicacoes/tarifa/arquivo/398 PCAT Eletrocar 2021 V02.xlsx']\n"
     ]
    },
    {
     "name": "stderr",
     "output_type": "stream",
     "text": [
      "D:\\python_projects\\cpfl\\web_scrapper\\venv_scraper\\lib\\site-packages\\urllib3\\connectionpool.py:1043: InsecureRequestWarning: Unverified HTTPS request is being made to host 'www2.aneel.gov.br'. Adding certificate verification is strongly advised. See: https://urllib3.readthedocs.io/en/1.26.x/advanced-usage.html#ssl-warnings\n",
      "  warnings.warn(\n",
      "D:\\python_projects\\cpfl\\web_scrapper\\venv_scraper\\lib\\site-packages\\urllib3\\connectionpool.py:1043: InsecureRequestWarning: Unverified HTTPS request is being made to host 'www2.aneel.gov.br'. Adding certificate verification is strongly advised. See: https://urllib3.readthedocs.io/en/1.26.x/advanced-usage.html#ssl-warnings\n",
      "  warnings.warn(\n"
     ]
    },
    {
     "name": "stdout",
     "output_type": "stream",
     "text": [
      "Arquivo: \"PCAT_ELETROCAR_2021-07-22_REAJUSTE_(398PCATELETROCAR2021V02).xlsx\" foi baixado com sucesso\n",
      "['PCAT_SULGIPE_2017-05-22_REVISAO_(PCATSULGIPE2017).xlsx'\n",
      " 'https://www2.aneel.gov.br/aplicacoes/tarifa/arquivo/PCAT_Sulgipe_2017.xlsx']\n",
      "Arquivo: \"PCAT_ELETROCAR_2021-07-22_REAJUSTE_(398PCATELETROCAR2021V02).xlsx\" foi baixado com sucesso\n",
      "['PCAT_SULGIPE_2017-05-22_REVISAO_(PCATSULGIPE2017).xlsx'\n",
      " 'https://www2.aneel.gov.br/aplicacoes/tarifa/arquivo/PCAT_Sulgipe_2017.xlsx']\n"
     ]
    },
    {
     "name": "stderr",
     "output_type": "stream",
     "text": [
      "D:\\python_projects\\cpfl\\web_scrapper\\venv_scraper\\lib\\site-packages\\urllib3\\connectionpool.py:1043: InsecureRequestWarning: Unverified HTTPS request is being made to host 'www2.aneel.gov.br'. Adding certificate verification is strongly advised. See: https://urllib3.readthedocs.io/en/1.26.x/advanced-usage.html#ssl-warnings\n",
      "  warnings.warn(\n",
      "D:\\python_projects\\cpfl\\web_scrapper\\venv_scraper\\lib\\site-packages\\urllib3\\connectionpool.py:1043: InsecureRequestWarning: Unverified HTTPS request is being made to host 'www2.aneel.gov.br'. Adding certificate verification is strongly advised. See: https://urllib3.readthedocs.io/en/1.26.x/advanced-usage.html#ssl-warnings\n",
      "  warnings.warn(\n"
     ]
    },
    {
     "name": "stdout",
     "output_type": "stream",
     "text": [
      "Arquivo: \"PCAT_SULGIPE_2017-05-22_REVISAO_(PCATSULGIPE2017).xlsx\" foi baixado com sucesso\n",
      "['PCAT_LIGHT_2013-11-07_REVISAO_(PCATLIGHT2013).xlsx'\n",
      " 'https://www2.aneel.gov.br/aplicacoes/tarifa/arquivo/PCAT_LIGHT_2013.xlsx']\n",
      "Arquivo: \"PCAT_SULGIPE_2017-05-22_REVISAO_(PCATSULGIPE2017).xlsx\" foi baixado com sucesso\n",
      "['PCAT_LIGHT_2013-11-07_REVISAO_(PCATLIGHT2013).xlsx'\n",
      " 'https://www2.aneel.gov.br/aplicacoes/tarifa/arquivo/PCAT_LIGHT_2013.xlsx']\n"
     ]
    },
    {
     "name": "stderr",
     "output_type": "stream",
     "text": [
      "D:\\python_projects\\cpfl\\web_scrapper\\venv_scraper\\lib\\site-packages\\urllib3\\connectionpool.py:1043: InsecureRequestWarning: Unverified HTTPS request is being made to host 'www2.aneel.gov.br'. Adding certificate verification is strongly advised. See: https://urllib3.readthedocs.io/en/1.26.x/advanced-usage.html#ssl-warnings\n",
      "  warnings.warn(\n",
      "D:\\python_projects\\cpfl\\web_scrapper\\venv_scraper\\lib\\site-packages\\urllib3\\connectionpool.py:1043: InsecureRequestWarning: Unverified HTTPS request is being made to host 'www2.aneel.gov.br'. Adding certificate verification is strongly advised. See: https://urllib3.readthedocs.io/en/1.26.x/advanced-usage.html#ssl-warnings\n",
      "  warnings.warn(\n"
     ]
    },
    {
     "name": "stdout",
     "output_type": "stream",
     "text": [
      "Arquivo: \"PCAT_LIGHT_2013-11-07_REVISAO_(PCATLIGHT2013).xlsx\" foi baixado com sucesso\n",
      "['PCAT_MUXENERGIA_2015-06-26_REAJUSTE_(PCATMUXENERGIA2015).xlsx'\n",
      " 'https://www2.aneel.gov.br/aplicacoes/tarifa/arquivo/PCAT_MuxEnergia_2015.xlsx']\n",
      "Arquivo: \"PCAT_LIGHT_2013-11-07_REVISAO_(PCATLIGHT2013).xlsx\" foi baixado com sucesso\n",
      "['PCAT_MUXENERGIA_2015-06-26_REAJUSTE_(PCATMUXENERGIA2015).xlsx'\n",
      " 'https://www2.aneel.gov.br/aplicacoes/tarifa/arquivo/PCAT_MuxEnergia_2015.xlsx']\n"
     ]
    },
    {
     "name": "stderr",
     "output_type": "stream",
     "text": [
      "D:\\python_projects\\cpfl\\web_scrapper\\venv_scraper\\lib\\site-packages\\urllib3\\connectionpool.py:1043: InsecureRequestWarning: Unverified HTTPS request is being made to host 'www2.aneel.gov.br'. Adding certificate verification is strongly advised. See: https://urllib3.readthedocs.io/en/1.26.x/advanced-usage.html#ssl-warnings\n",
      "  warnings.warn(\n",
      "D:\\python_projects\\cpfl\\web_scrapper\\venv_scraper\\lib\\site-packages\\urllib3\\connectionpool.py:1043: InsecureRequestWarning: Unverified HTTPS request is being made to host 'www2.aneel.gov.br'. Adding certificate verification is strongly advised. See: https://urllib3.readthedocs.io/en/1.26.x/advanced-usage.html#ssl-warnings\n",
      "  warnings.warn(\n"
     ]
    },
    {
     "name": "stdout",
     "output_type": "stream",
     "text": [
      "Arquivo: \"PCAT_MUXENERGIA_2015-06-26_REAJUSTE_(PCATMUXENERGIA2015).xlsx\" foi baixado com sucesso\n",
      "['PCAT_CERR_2014-11-01_REAJUSTE_(PECATCERR2014).xlsx'\n",
      " 'https://www2.aneel.gov.br/aplicacoes/tarifa/arquivo/PECAT_CERR_2014.xlsx']\n",
      "Arquivo: \"PCAT_MUXENERGIA_2015-06-26_REAJUSTE_(PCATMUXENERGIA2015).xlsx\" foi baixado com sucesso\n",
      "['PCAT_CERR_2014-11-01_REAJUSTE_(PECATCERR2014).xlsx'\n",
      " 'https://www2.aneel.gov.br/aplicacoes/tarifa/arquivo/PECAT_CERR_2014.xlsx']\n"
     ]
    },
    {
     "name": "stderr",
     "output_type": "stream",
     "text": [
      "D:\\python_projects\\cpfl\\web_scrapper\\venv_scraper\\lib\\site-packages\\urllib3\\connectionpool.py:1043: InsecureRequestWarning: Unverified HTTPS request is being made to host 'www2.aneel.gov.br'. Adding certificate verification is strongly advised. See: https://urllib3.readthedocs.io/en/1.26.x/advanced-usage.html#ssl-warnings\n",
      "  warnings.warn(\n",
      "D:\\python_projects\\cpfl\\web_scrapper\\venv_scraper\\lib\\site-packages\\urllib3\\connectionpool.py:1043: InsecureRequestWarning: Unverified HTTPS request is being made to host 'www2.aneel.gov.br'. Adding certificate verification is strongly advised. See: https://urllib3.readthedocs.io/en/1.26.x/advanced-usage.html#ssl-warnings\n",
      "  warnings.warn(\n"
     ]
    },
    {
     "name": "stdout",
     "output_type": "stream",
     "text": [
      "Arquivo: \"PCAT_CERR_2014-11-01_REAJUSTE_(PECATCERR2014).xlsx\" foi baixado com sucesso\n",
      "['PCAT_COCEL_2016-06-29_REVISAO_(82PCATCOCEL2016V021).xlsx'\n",
      " 'https://www2.aneel.gov.br/aplicacoes/tarifa/arquivo/82 PCAT Cocel 2016 V021.xlsx']\n",
      "Arquivo: \"PCAT_CERR_2014-11-01_REAJUSTE_(PECATCERR2014).xlsx\" foi baixado com sucesso\n",
      "['PCAT_COCEL_2016-06-29_REVISAO_(82PCATCOCEL2016V021).xlsx'\n",
      " 'https://www2.aneel.gov.br/aplicacoes/tarifa/arquivo/82 PCAT Cocel 2016 V021.xlsx']\n"
     ]
    },
    {
     "name": "stderr",
     "output_type": "stream",
     "text": [
      "D:\\python_projects\\cpfl\\web_scrapper\\venv_scraper\\lib\\site-packages\\urllib3\\connectionpool.py:1043: InsecureRequestWarning: Unverified HTTPS request is being made to host 'www2.aneel.gov.br'. Adding certificate verification is strongly advised. See: https://urllib3.readthedocs.io/en/1.26.x/advanced-usage.html#ssl-warnings\n",
      "  warnings.warn(\n",
      "D:\\python_projects\\cpfl\\web_scrapper\\venv_scraper\\lib\\site-packages\\urllib3\\connectionpool.py:1043: InsecureRequestWarning: Unverified HTTPS request is being made to host 'www2.aneel.gov.br'. Adding certificate verification is strongly advised. See: https://urllib3.readthedocs.io/en/1.26.x/advanced-usage.html#ssl-warnings\n",
      "  warnings.warn(\n"
     ]
    },
    {
     "name": "stdout",
     "output_type": "stream",
     "text": [
      "Arquivo: \"PCAT_COCEL_2016-06-29_REVISAO_(82PCATCOCEL2016V021).xlsx\" foi baixado com sucesso\n",
      "['PCAT_COSERN_2018-04-22_REVISAO_(PCATCOSERN2018).xlsx'\n",
      " 'https://www2.aneel.gov.br/aplicacoes/tarifa/arquivo/PCAT_Cosern_2018 .xlsx']\n",
      "Arquivo: \"PCAT_COCEL_2016-06-29_REVISAO_(82PCATCOCEL2016V021).xlsx\" foi baixado com sucesso\n",
      "['PCAT_COSERN_2018-04-22_REVISAO_(PCATCOSERN2018).xlsx'\n",
      " 'https://www2.aneel.gov.br/aplicacoes/tarifa/arquivo/PCAT_Cosern_2018 .xlsx']\n"
     ]
    },
    {
     "name": "stderr",
     "output_type": "stream",
     "text": [
      "D:\\python_projects\\cpfl\\web_scrapper\\venv_scraper\\lib\\site-packages\\urllib3\\connectionpool.py:1043: InsecureRequestWarning: Unverified HTTPS request is being made to host 'www2.aneel.gov.br'. Adding certificate verification is strongly advised. See: https://urllib3.readthedocs.io/en/1.26.x/advanced-usage.html#ssl-warnings\n",
      "  warnings.warn(\n",
      "D:\\python_projects\\cpfl\\web_scrapper\\venv_scraper\\lib\\site-packages\\urllib3\\connectionpool.py:1043: InsecureRequestWarning: Unverified HTTPS request is being made to host 'www2.aneel.gov.br'. Adding certificate verification is strongly advised. See: https://urllib3.readthedocs.io/en/1.26.x/advanced-usage.html#ssl-warnings\n",
      "  warnings.warn(\n"
     ]
    },
    {
     "name": "stdout",
     "output_type": "stream",
     "text": [
      "Arquivo: \"PCAT_COSERN_2018-04-22_REVISAO_(PCATCOSERN2018).xlsx\" foi baixado com sucesso\n",
      "['PCAT_CPFLJAGUARI_2018-03-22_REAJUSTE_(PCATNSC2018).xlsx'\n",
      " 'https://www2.aneel.gov.br/aplicacoes/tarifa/arquivo/PCAT_NSC_2018.xlsx']\n",
      "Arquivo: \"PCAT_COSERN_2018-04-22_REVISAO_(PCATCOSERN2018).xlsx\" foi baixado com sucesso\n",
      "['PCAT_CPFLJAGUARI_2018-03-22_REAJUSTE_(PCATNSC2018).xlsx'\n",
      " 'https://www2.aneel.gov.br/aplicacoes/tarifa/arquivo/PCAT_NSC_2018.xlsx']\n"
     ]
    },
    {
     "name": "stderr",
     "output_type": "stream",
     "text": [
      "D:\\python_projects\\cpfl\\web_scrapper\\venv_scraper\\lib\\site-packages\\urllib3\\connectionpool.py:1043: InsecureRequestWarning: Unverified HTTPS request is being made to host 'www2.aneel.gov.br'. Adding certificate verification is strongly advised. See: https://urllib3.readthedocs.io/en/1.26.x/advanced-usage.html#ssl-warnings\n",
      "  warnings.warn(\n",
      "D:\\python_projects\\cpfl\\web_scrapper\\venv_scraper\\lib\\site-packages\\urllib3\\connectionpool.py:1043: InsecureRequestWarning: Unverified HTTPS request is being made to host 'www2.aneel.gov.br'. Adding certificate verification is strongly advised. See: https://urllib3.readthedocs.io/en/1.26.x/advanced-usage.html#ssl-warnings\n",
      "  warnings.warn(\n"
     ]
    },
    {
     "name": "stdout",
     "output_type": "stream",
     "text": [
      "Arquivo: \"PCAT_CPFLJAGUARI_2018-03-22_REAJUSTE_(PCATNSC2018).xlsx\" foi baixado com sucesso\n",
      "['PCAT_CPFLLESTEPAULISTA_2017-03-22_REAJUSTE_(PCATCPFLLESTEPAULISTA2017).xlsx'\n",
      " 'https://www2.aneel.gov.br/aplicacoes/tarifa/arquivo/PCAT_CPFL_Leste_Paulista_2017.xlsx']\n",
      "Arquivo: \"PCAT_CPFLJAGUARI_2018-03-22_REAJUSTE_(PCATNSC2018).xlsx\" foi baixado com sucesso\n",
      "['PCAT_CPFLLESTEPAULISTA_2017-03-22_REAJUSTE_(PCATCPFLLESTEPAULISTA2017).xlsx'\n",
      " 'https://www2.aneel.gov.br/aplicacoes/tarifa/arquivo/PCAT_CPFL_Leste_Paulista_2017.xlsx']\n"
     ]
    },
    {
     "name": "stderr",
     "output_type": "stream",
     "text": [
      "D:\\python_projects\\cpfl\\web_scrapper\\venv_scraper\\lib\\site-packages\\urllib3\\connectionpool.py:1043: InsecureRequestWarning: Unverified HTTPS request is being made to host 'www2.aneel.gov.br'. Adding certificate verification is strongly advised. See: https://urllib3.readthedocs.io/en/1.26.x/advanced-usage.html#ssl-warnings\n",
      "  warnings.warn(\n",
      "D:\\python_projects\\cpfl\\web_scrapper\\venv_scraper\\lib\\site-packages\\urllib3\\connectionpool.py:1043: InsecureRequestWarning: Unverified HTTPS request is being made to host 'www2.aneel.gov.br'. Adding certificate verification is strongly advised. See: https://urllib3.readthedocs.io/en/1.26.x/advanced-usage.html#ssl-warnings\n",
      "  warnings.warn(\n"
     ]
    },
    {
     "name": "stdout",
     "output_type": "stream",
     "text": [
      "Arquivo: \"PCAT_CPFLLESTEPAULISTA_2017-03-22_REAJUSTE_(PCATCPFLLESTEPAULISTA2017).xlsx\" foi baixado com sucesso\n",
      "['PCAT_CELGD_2021-10-22_REAJUSTE_(6072PCATENELGO2021V02).xlsx'\n",
      " 'https://www2.aneel.gov.br/aplicacoes/tarifa/arquivo/6072 PCAT Enel GO 2021 V02.xlsx']\n",
      "Arquivo: \"PCAT_CPFLLESTEPAULISTA_2017-03-22_REAJUSTE_(PCATCPFLLESTEPAULISTA2017).xlsx\" foi baixado com sucesso\n",
      "['PCAT_CELGD_2021-10-22_REAJUSTE_(6072PCATENELGO2021V02).xlsx'\n",
      " 'https://www2.aneel.gov.br/aplicacoes/tarifa/arquivo/6072 PCAT Enel GO 2021 V02.xlsx']\n"
     ]
    },
    {
     "name": "stderr",
     "output_type": "stream",
     "text": [
      "D:\\python_projects\\cpfl\\web_scrapper\\venv_scraper\\lib\\site-packages\\urllib3\\connectionpool.py:1043: InsecureRequestWarning: Unverified HTTPS request is being made to host 'www2.aneel.gov.br'. Adding certificate verification is strongly advised. See: https://urllib3.readthedocs.io/en/1.26.x/advanced-usage.html#ssl-warnings\n",
      "  warnings.warn(\n",
      "D:\\python_projects\\cpfl\\web_scrapper\\venv_scraper\\lib\\site-packages\\urllib3\\connectionpool.py:1043: InsecureRequestWarning: Unverified HTTPS request is being made to host 'www2.aneel.gov.br'. Adding certificate verification is strongly advised. See: https://urllib3.readthedocs.io/en/1.26.x/advanced-usage.html#ssl-warnings\n",
      "  warnings.warn(\n"
     ]
    },
    {
     "name": "stdout",
     "output_type": "stream",
     "text": [
      "Arquivo: \"PCAT_CELGD_2021-10-22_REAJUSTE_(6072PCATENELGO2021V02).xlsx\" foi baixado com sucesso\n",
      "['PCAT_CPFLPIRATININGA_2021-10-23_REAJUSTE_(2937PCATCPFLPIRATININGA2021V02).xlsx'\n",
      " 'https://www2.aneel.gov.br/aplicacoes/tarifa/arquivo/2937 PCAT CPFL Piratininga 2021 V02.xlsx']\n",
      "Arquivo: \"PCAT_CELGD_2021-10-22_REAJUSTE_(6072PCATENELGO2021V02).xlsx\" foi baixado com sucesso\n",
      "['PCAT_CPFLPIRATININGA_2021-10-23_REAJUSTE_(2937PCATCPFLPIRATININGA2021V02).xlsx'\n",
      " 'https://www2.aneel.gov.br/aplicacoes/tarifa/arquivo/2937 PCAT CPFL Piratininga 2021 V02.xlsx']\n"
     ]
    },
    {
     "name": "stderr",
     "output_type": "stream",
     "text": [
      "D:\\python_projects\\cpfl\\web_scrapper\\venv_scraper\\lib\\site-packages\\urllib3\\connectionpool.py:1043: InsecureRequestWarning: Unverified HTTPS request is being made to host 'www2.aneel.gov.br'. Adding certificate verification is strongly advised. See: https://urllib3.readthedocs.io/en/1.26.x/advanced-usage.html#ssl-warnings\n",
      "  warnings.warn(\n",
      "D:\\python_projects\\cpfl\\web_scrapper\\venv_scraper\\lib\\site-packages\\urllib3\\connectionpool.py:1043: InsecureRequestWarning: Unverified HTTPS request is being made to host 'www2.aneel.gov.br'. Adding certificate verification is strongly advised. See: https://urllib3.readthedocs.io/en/1.26.x/advanced-usage.html#ssl-warnings\n",
      "  warnings.warn(\n"
     ]
    },
    {
     "name": "stdout",
     "output_type": "stream",
     "text": [
      "Arquivo: \"PCAT_CPFLPIRATININGA_2021-10-23_REAJUSTE_(2937PCATCPFLPIRATININGA2021V02).xlsx\" foi baixado com sucesso\n",
      "['PCAT_EDPSP_2021-10-23_REAJUSTE_(391PCATEDPSP2021V02).xlsx'\n",
      " 'https://www2.aneel.gov.br/aplicacoes/tarifa/arquivo/391 PCAT EDP SP 2021 V02.xlsx']\n",
      "Arquivo: \"PCAT_CPFLPIRATININGA_2021-10-23_REAJUSTE_(2937PCATCPFLPIRATININGA2021V02).xlsx\" foi baixado com sucesso\n",
      "['PCAT_EDPSP_2021-10-23_REAJUSTE_(391PCATEDPSP2021V02).xlsx'\n",
      " 'https://www2.aneel.gov.br/aplicacoes/tarifa/arquivo/391 PCAT EDP SP 2021 V02.xlsx']\n"
     ]
    },
    {
     "name": "stderr",
     "output_type": "stream",
     "text": [
      "D:\\python_projects\\cpfl\\web_scrapper\\venv_scraper\\lib\\site-packages\\urllib3\\connectionpool.py:1043: InsecureRequestWarning: Unverified HTTPS request is being made to host 'www2.aneel.gov.br'. Adding certificate verification is strongly advised. See: https://urllib3.readthedocs.io/en/1.26.x/advanced-usage.html#ssl-warnings\n",
      "  warnings.warn(\n",
      "D:\\python_projects\\cpfl\\web_scrapper\\venv_scraper\\lib\\site-packages\\urllib3\\connectionpool.py:1043: InsecureRequestWarning: Unverified HTTPS request is being made to host 'www2.aneel.gov.br'. Adding certificate verification is strongly advised. See: https://urllib3.readthedocs.io/en/1.26.x/advanced-usage.html#ssl-warnings\n",
      "  warnings.warn(\n"
     ]
    },
    {
     "name": "stdout",
     "output_type": "stream",
     "text": [
      "Arquivo: \"PCAT_EDPSP_2021-10-23_REAJUSTE_(391PCATEDPSP2021V02).xlsx\" foi baixado com sucesso\n",
      "['PCAT_ELFSM_2021-09-22_REVISAO_(381PCATELFSM2021V02).xlsx'\n",
      " 'https://www2.aneel.gov.br/aplicacoes/tarifa/arquivo/381 PCAT ELFSM 2021 V02.xlsx']\n",
      "Arquivo: \"PCAT_EDPSP_2021-10-23_REAJUSTE_(391PCATEDPSP2021V02).xlsx\" foi baixado com sucesso\n",
      "['PCAT_ELFSM_2021-09-22_REVISAO_(381PCATELFSM2021V02).xlsx'\n",
      " 'https://www2.aneel.gov.br/aplicacoes/tarifa/arquivo/381 PCAT ELFSM 2021 V02.xlsx']\n"
     ]
    },
    {
     "name": "stderr",
     "output_type": "stream",
     "text": [
      "D:\\python_projects\\cpfl\\web_scrapper\\venv_scraper\\lib\\site-packages\\urllib3\\connectionpool.py:1043: InsecureRequestWarning: Unverified HTTPS request is being made to host 'www2.aneel.gov.br'. Adding certificate verification is strongly advised. See: https://urllib3.readthedocs.io/en/1.26.x/advanced-usage.html#ssl-warnings\n",
      "  warnings.warn(\n",
      "D:\\python_projects\\cpfl\\web_scrapper\\venv_scraper\\lib\\site-packages\\urllib3\\connectionpool.py:1043: InsecureRequestWarning: Unverified HTTPS request is being made to host 'www2.aneel.gov.br'. Adding certificate verification is strongly advised. See: https://urllib3.readthedocs.io/en/1.26.x/advanced-usage.html#ssl-warnings\n",
      "  warnings.warn(\n"
     ]
    },
    {
     "name": "stdout",
     "output_type": "stream",
     "text": [
      "Arquivo: \"PCAT_ELFSM_2021-09-22_REVISAO_(381PCATELFSM2021V02).xlsx\" foi baixado com sucesso\n",
      "['PCAT_ENELRJ_2021-03-15_REAJUSTE_(383PCATENELRJ2021V021).xlsx'\n",
      " 'https://www2.aneel.gov.br/aplicacoes/tarifa/arquivo/383 PCAT Enel RJ 2021 V021.xlsx']\n",
      "Arquivo: \"PCAT_ELFSM_2021-09-22_REVISAO_(381PCATELFSM2021V02).xlsx\" foi baixado com sucesso\n",
      "['PCAT_ENELRJ_2021-03-15_REAJUSTE_(383PCATENELRJ2021V021).xlsx'\n",
      " 'https://www2.aneel.gov.br/aplicacoes/tarifa/arquivo/383 PCAT Enel RJ 2021 V021.xlsx']\n"
     ]
    },
    {
     "name": "stderr",
     "output_type": "stream",
     "text": [
      "D:\\python_projects\\cpfl\\web_scrapper\\venv_scraper\\lib\\site-packages\\urllib3\\connectionpool.py:1043: InsecureRequestWarning: Unverified HTTPS request is being made to host 'www2.aneel.gov.br'. Adding certificate verification is strongly advised. See: https://urllib3.readthedocs.io/en/1.26.x/advanced-usage.html#ssl-warnings\n",
      "  warnings.warn(\n",
      "D:\\python_projects\\cpfl\\web_scrapper\\venv_scraper\\lib\\site-packages\\urllib3\\connectionpool.py:1043: InsecureRequestWarning: Unverified HTTPS request is being made to host 'www2.aneel.gov.br'. Adding certificate verification is strongly advised. See: https://urllib3.readthedocs.io/en/1.26.x/advanced-usage.html#ssl-warnings\n",
      "  warnings.warn(\n"
     ]
    },
    {
     "name": "stdout",
     "output_type": "stream",
     "text": [
      "Arquivo: \"PCAT_ENELRJ_2021-03-15_REAJUSTE_(383PCATENELRJ2021V021).xlsx\" foi baixado com sucesso\n",
      "['PCAT_AME_2021-11-01_REAJUSTE_(7019PCATAME2021V02).xlsx'\n",
      " 'https://www2.aneel.gov.br/aplicacoes/tarifa/arquivo/7019 PCAT AmE 2021 V02.xlsx']\n",
      "Arquivo: \"PCAT_ENELRJ_2021-03-15_REAJUSTE_(383PCATENELRJ2021V021).xlsx\" foi baixado com sucesso\n",
      "['PCAT_AME_2021-11-01_REAJUSTE_(7019PCATAME2021V02).xlsx'\n",
      " 'https://www2.aneel.gov.br/aplicacoes/tarifa/arquivo/7019 PCAT AmE 2021 V02.xlsx']\n"
     ]
    },
    {
     "name": "stderr",
     "output_type": "stream",
     "text": [
      "D:\\python_projects\\cpfl\\web_scrapper\\venv_scraper\\lib\\site-packages\\urllib3\\connectionpool.py:1043: InsecureRequestWarning: Unverified HTTPS request is being made to host 'www2.aneel.gov.br'. Adding certificate verification is strongly advised. See: https://urllib3.readthedocs.io/en/1.26.x/advanced-usage.html#ssl-warnings\n",
      "  warnings.warn(\n",
      "D:\\python_projects\\cpfl\\web_scrapper\\venv_scraper\\lib\\site-packages\\urllib3\\connectionpool.py:1043: InsecureRequestWarning: Unverified HTTPS request is being made to host 'www2.aneel.gov.br'. Adding certificate verification is strongly advised. See: https://urllib3.readthedocs.io/en/1.26.x/advanced-usage.html#ssl-warnings\n",
      "  warnings.warn(\n"
     ]
    },
    {
     "name": "stdout",
     "output_type": "stream",
     "text": [
      "Arquivo: \"PCAT_AME_2021-11-01_REAJUSTE_(7019PCATAME2021V02).xlsx\" foi baixado com sucesso\n",
      "['PCAT_BOAVISTA_2021-11-01_REAJUSTE_(370PCATRORAIMAENERGIA2021V02).xlsx'\n",
      " 'https://www2.aneel.gov.br/aplicacoes/tarifa/arquivo/370 PCAT Roraima Energia 2021 V02.xlsx']\n",
      "Arquivo: \"PCAT_AME_2021-11-01_REAJUSTE_(7019PCATAME2021V02).xlsx\" foi baixado com sucesso\n",
      "['PCAT_BOAVISTA_2021-11-01_REAJUSTE_(370PCATRORAIMAENERGIA2021V02).xlsx'\n",
      " 'https://www2.aneel.gov.br/aplicacoes/tarifa/arquivo/370 PCAT Roraima Energia 2021 V02.xlsx']\n"
     ]
    },
    {
     "name": "stderr",
     "output_type": "stream",
     "text": [
      "D:\\python_projects\\cpfl\\web_scrapper\\venv_scraper\\lib\\site-packages\\urllib3\\connectionpool.py:1043: InsecureRequestWarning: Unverified HTTPS request is being made to host 'www2.aneel.gov.br'. Adding certificate verification is strongly advised. See: https://urllib3.readthedocs.io/en/1.26.x/advanced-usage.html#ssl-warnings\n",
      "  warnings.warn(\n",
      "D:\\python_projects\\cpfl\\web_scrapper\\venv_scraper\\lib\\site-packages\\urllib3\\connectionpool.py:1043: InsecureRequestWarning: Unverified HTTPS request is being made to host 'www2.aneel.gov.br'. Adding certificate verification is strongly advised. See: https://urllib3.readthedocs.io/en/1.26.x/advanced-usage.html#ssl-warnings\n",
      "  warnings.warn(\n"
     ]
    },
    {
     "name": "stdout",
     "output_type": "stream",
     "text": [
      "Arquivo: \"PCAT_BOAVISTA_2021-11-01_REAJUSTE_(370PCATRORAIMAENERGIA2021V02).xlsx\" foi baixado com sucesso\n",
      "['PCAT_CEA_2021-12-13_REAJUSTE_(31PCATCEA2021V02).xlsx'\n",
      " 'https://www2.aneel.gov.br/aplicacoes/tarifa/arquivo/31 PCAT CEA 2021 V02.xlsx']\n",
      "Arquivo: \"PCAT_BOAVISTA_2021-11-01_REAJUSTE_(370PCATRORAIMAENERGIA2021V02).xlsx\" foi baixado com sucesso\n",
      "['PCAT_CEA_2021-12-13_REAJUSTE_(31PCATCEA2021V02).xlsx'\n",
      " 'https://www2.aneel.gov.br/aplicacoes/tarifa/arquivo/31 PCAT CEA 2021 V02.xlsx']\n"
     ]
    },
    {
     "name": "stderr",
     "output_type": "stream",
     "text": [
      "D:\\python_projects\\cpfl\\web_scrapper\\venv_scraper\\lib\\site-packages\\urllib3\\connectionpool.py:1043: InsecureRequestWarning: Unverified HTTPS request is being made to host 'www2.aneel.gov.br'. Adding certificate verification is strongly advised. See: https://urllib3.readthedocs.io/en/1.26.x/advanced-usage.html#ssl-warnings\n",
      "  warnings.warn(\n",
      "D:\\python_projects\\cpfl\\web_scrapper\\venv_scraper\\lib\\site-packages\\urllib3\\connectionpool.py:1043: InsecureRequestWarning: Unverified HTTPS request is being made to host 'www2.aneel.gov.br'. Adding certificate verification is strongly advised. See: https://urllib3.readthedocs.io/en/1.26.x/advanced-usage.html#ssl-warnings\n",
      "  warnings.warn(\n"
     ]
    },
    {
     "name": "stdout",
     "output_type": "stream",
     "text": [
      "Arquivo: \"PCAT_CEA_2021-12-13_REAJUSTE_(31PCATCEA2021V02).xlsx\" foi baixado com sucesso\n",
      "['PCAT_CEEED_2021-11-22_REVISAO_(5707PCATCEEED2021V02).xlsx'\n",
      " 'https://www2.aneel.gov.br/aplicacoes/tarifa/arquivo/5707 PCAT CEEE-D 2021 V02.xlsx']\n",
      "Arquivo: \"PCAT_CEA_2021-12-13_REAJUSTE_(31PCATCEA2021V02).xlsx\" foi baixado com sucesso\n",
      "['PCAT_CEEED_2021-11-22_REVISAO_(5707PCATCEEED2021V02).xlsx'\n",
      " 'https://www2.aneel.gov.br/aplicacoes/tarifa/arquivo/5707 PCAT CEEE-D 2021 V02.xlsx']\n"
     ]
    },
    {
     "name": "stderr",
     "output_type": "stream",
     "text": [
      "D:\\python_projects\\cpfl\\web_scrapper\\venv_scraper\\lib\\site-packages\\urllib3\\connectionpool.py:1043: InsecureRequestWarning: Unverified HTTPS request is being made to host 'www2.aneel.gov.br'. Adding certificate verification is strongly advised. See: https://urllib3.readthedocs.io/en/1.26.x/advanced-usage.html#ssl-warnings\n",
      "  warnings.warn(\n",
      "D:\\python_projects\\cpfl\\web_scrapper\\venv_scraper\\lib\\site-packages\\urllib3\\connectionpool.py:1043: InsecureRequestWarning: Unverified HTTPS request is being made to host 'www2.aneel.gov.br'. Adding certificate verification is strongly advised. See: https://urllib3.readthedocs.io/en/1.26.x/advanced-usage.html#ssl-warnings\n",
      "  warnings.warn(\n"
     ]
    },
    {
     "name": "stdout",
     "output_type": "stream",
     "text": [
      "Arquivo: \"PCAT_CEEED_2021-11-22_REVISAO_(5707PCATCEEED2021V02).xlsx\" foi baixado com sucesso\n",
      "['PCAT_CERON_2021-12-13_REAJUSTE_(369PCATCERON2021V02).xlsx'\n",
      " 'https://www2.aneel.gov.br/aplicacoes/tarifa/arquivo/369 PCAT Ceron 2021 V02.xlsx']\n",
      "Arquivo: \"PCAT_CEEED_2021-11-22_REVISAO_(5707PCATCEEED2021V02).xlsx\" foi baixado com sucesso\n",
      "['PCAT_CERON_2021-12-13_REAJUSTE_(369PCATCERON2021V02).xlsx'\n",
      " 'https://www2.aneel.gov.br/aplicacoes/tarifa/arquivo/369 PCAT Ceron 2021 V02.xlsx']\n"
     ]
    },
    {
     "name": "stderr",
     "output_type": "stream",
     "text": [
      "D:\\python_projects\\cpfl\\web_scrapper\\venv_scraper\\lib\\site-packages\\urllib3\\connectionpool.py:1043: InsecureRequestWarning: Unverified HTTPS request is being made to host 'www2.aneel.gov.br'. Adding certificate verification is strongly advised. See: https://urllib3.readthedocs.io/en/1.26.x/advanced-usage.html#ssl-warnings\n",
      "  warnings.warn(\n",
      "D:\\python_projects\\cpfl\\web_scrapper\\venv_scraper\\lib\\site-packages\\urllib3\\connectionpool.py:1043: InsecureRequestWarning: Unverified HTTPS request is being made to host 'www2.aneel.gov.br'. Adding certificate verification is strongly advised. See: https://urllib3.readthedocs.io/en/1.26.x/advanced-usage.html#ssl-warnings\n",
      "  warnings.warn(\n"
     ]
    },
    {
     "name": "stdout",
     "output_type": "stream",
     "text": [
      "Arquivo: \"PCAT_CERON_2021-12-13_REAJUSTE_(369PCATCERON2021V02).xlsx\" foi baixado com sucesso\n",
      "['PCAT_CHESP_2021-11-22_REVISAO_(103PCATCHESP2021V02).xlsx'\n",
      " 'https://www2.aneel.gov.br/aplicacoes/tarifa/arquivo/103 PCAT Chesp 2021 V02.xlsx']\n",
      "Arquivo: \"PCAT_CERON_2021-12-13_REAJUSTE_(369PCATCERON2021V02).xlsx\" foi baixado com sucesso\n",
      "['PCAT_CHESP_2021-11-22_REVISAO_(103PCATCHESP2021V02).xlsx'\n",
      " 'https://www2.aneel.gov.br/aplicacoes/tarifa/arquivo/103 PCAT Chesp 2021 V02.xlsx']\n"
     ]
    },
    {
     "name": "stderr",
     "output_type": "stream",
     "text": [
      "D:\\python_projects\\cpfl\\web_scrapper\\venv_scraper\\lib\\site-packages\\urllib3\\connectionpool.py:1043: InsecureRequestWarning: Unverified HTTPS request is being made to host 'www2.aneel.gov.br'. Adding certificate verification is strongly advised. See: https://urllib3.readthedocs.io/en/1.26.x/advanced-usage.html#ssl-warnings\n",
      "  warnings.warn(\n",
      "D:\\python_projects\\cpfl\\web_scrapper\\venv_scraper\\lib\\site-packages\\urllib3\\connectionpool.py:1043: InsecureRequestWarning: Unverified HTTPS request is being made to host 'www2.aneel.gov.br'. Adding certificate verification is strongly advised. See: https://urllib3.readthedocs.io/en/1.26.x/advanced-usage.html#ssl-warnings\n",
      "  warnings.warn(\n"
     ]
    },
    {
     "name": "stdout",
     "output_type": "stream",
     "text": [
      "Arquivo: \"PCAT_CHESP_2021-11-22_REVISAO_(103PCATCHESP2021V02).xlsx\" foi baixado com sucesso\n",
      "['PCAT_DMED_2021-11-22_REAJUSTE_(51PCATDMED2021V02).xlsx'\n",
      " 'https://www2.aneel.gov.br/aplicacoes/tarifa/arquivo/51 PCAT DMED 2021 V02.xlsx']\n",
      "Arquivo: \"PCAT_CHESP_2021-11-22_REVISAO_(103PCATCHESP2021V02).xlsx\" foi baixado com sucesso\n",
      "['PCAT_DMED_2021-11-22_REAJUSTE_(51PCATDMED2021V02).xlsx'\n",
      " 'https://www2.aneel.gov.br/aplicacoes/tarifa/arquivo/51 PCAT DMED 2021 V02.xlsx']\n"
     ]
    },
    {
     "name": "stderr",
     "output_type": "stream",
     "text": [
      "D:\\python_projects\\cpfl\\web_scrapper\\venv_scraper\\lib\\site-packages\\urllib3\\connectionpool.py:1043: InsecureRequestWarning: Unverified HTTPS request is being made to host 'www2.aneel.gov.br'. Adding certificate verification is strongly advised. See: https://urllib3.readthedocs.io/en/1.26.x/advanced-usage.html#ssl-warnings\n",
      "  warnings.warn(\n",
      "D:\\python_projects\\cpfl\\web_scrapper\\venv_scraper\\lib\\site-packages\\urllib3\\connectionpool.py:1043: InsecureRequestWarning: Unverified HTTPS request is being made to host 'www2.aneel.gov.br'. Adding certificate verification is strongly advised. See: https://urllib3.readthedocs.io/en/1.26.x/advanced-usage.html#ssl-warnings\n",
      "  warnings.warn(\n"
     ]
    },
    {
     "name": "stdout",
     "output_type": "stream",
     "text": [
      "Arquivo: \"PCAT_DMED_2021-11-22_REAJUSTE_(51PCATDMED2021V02).xlsx\" foi baixado com sucesso\n",
      "['PCAT_ELETROACRE_2021-12-13_REAJUSTE_(26PCATELETROACRE2021V02).xlsx'\n",
      " 'https://www2.aneel.gov.br/aplicacoes/tarifa/arquivo/26 PCAT Eletroacre 2021 V02.xlsx']\n",
      "Arquivo: \"PCAT_DMED_2021-11-22_REAJUSTE_(51PCATDMED2021V02).xlsx\" foi baixado com sucesso\n",
      "['PCAT_ELETROACRE_2021-12-13_REAJUSTE_(26PCATELETROACRE2021V02).xlsx'\n",
      " 'https://www2.aneel.gov.br/aplicacoes/tarifa/arquivo/26 PCAT Eletroacre 2021 V02.xlsx']\n"
     ]
    },
    {
     "name": "stderr",
     "output_type": "stream",
     "text": [
      "D:\\python_projects\\cpfl\\web_scrapper\\venv_scraper\\lib\\site-packages\\urllib3\\connectionpool.py:1043: InsecureRequestWarning: Unverified HTTPS request is being made to host 'www2.aneel.gov.br'. Adding certificate verification is strongly advised. See: https://urllib3.readthedocs.io/en/1.26.x/advanced-usage.html#ssl-warnings\n",
      "  warnings.warn(\n",
      "D:\\python_projects\\cpfl\\web_scrapper\\venv_scraper\\lib\\site-packages\\urllib3\\connectionpool.py:1043: InsecureRequestWarning: Unverified HTTPS request is being made to host 'www2.aneel.gov.br'. Adding certificate verification is strongly advised. See: https://urllib3.readthedocs.io/en/1.26.x/advanced-usage.html#ssl-warnings\n",
      "  warnings.warn(\n"
     ]
    },
    {
     "name": "stdout",
     "output_type": "stream",
     "text": [
      "Arquivo: \"PCAT_ELETROACRE_2021-12-13_REAJUSTE_(26PCATELETROACRE2021V02).xlsx\" foi baixado com sucesso\n",
      "['PCAT_EQUATORIALPI_2021-12-02_REAJUSTE_(38PCATCEPISA2021V02).xlsx'\n",
      " 'https://www2.aneel.gov.br/aplicacoes/tarifa/arquivo/38 PCAT Cepisa 2021 V02.xlsx']\n",
      "Arquivo: \"PCAT_ELETROACRE_2021-12-13_REAJUSTE_(26PCATELETROACRE2021V02).xlsx\" foi baixado com sucesso\n",
      "['PCAT_EQUATORIALPI_2021-12-02_REAJUSTE_(38PCATCEPISA2021V02).xlsx'\n",
      " 'https://www2.aneel.gov.br/aplicacoes/tarifa/arquivo/38 PCAT Cepisa 2021 V02.xlsx']\n"
     ]
    },
    {
     "name": "stderr",
     "output_type": "stream",
     "text": [
      "D:\\python_projects\\cpfl\\web_scrapper\\venv_scraper\\lib\\site-packages\\urllib3\\connectionpool.py:1043: InsecureRequestWarning: Unverified HTTPS request is being made to host 'www2.aneel.gov.br'. Adding certificate verification is strongly advised. See: https://urllib3.readthedocs.io/en/1.26.x/advanced-usage.html#ssl-warnings\n",
      "  warnings.warn(\n",
      "D:\\python_projects\\cpfl\\web_scrapper\\venv_scraper\\lib\\site-packages\\urllib3\\connectionpool.py:1043: InsecureRequestWarning: Unverified HTTPS request is being made to host 'www2.aneel.gov.br'. Adding certificate verification is strongly advised. See: https://urllib3.readthedocs.io/en/1.26.x/advanced-usage.html#ssl-warnings\n",
      "  warnings.warn(\n"
     ]
    },
    {
     "name": "stdout",
     "output_type": "stream",
     "text": [
      "Arquivo: \"PCAT_EQUATORIALPI_2021-12-02_REAJUSTE_(38PCATCEPISA2021V02).xlsx\" foi baixado com sucesso\n",
      "Todos os arquivos foram baixados com sucesso\n",
      "Arquivo: \"PCAT_EQUATORIALPI_2021-12-02_REAJUSTE_(38PCATCEPISA2021V02).xlsx\" foi baixado com sucesso\n",
      "Todos os arquivos foram baixados com sucesso\n"
     ]
    }
   ],
   "source": [
    "download(df_download)"
   ]
  },
  {
   "cell_type": "code",
   "execution_count": null,
   "id": "controlled-interface",
   "metadata": {},
   "outputs": [],
   "source": []
  }
 ],
 "metadata": {
  "interpreter": {
   "hash": "2ad59e0b83f6ab2c5dbeee98198127797ccebc23c6b83b468e8d17c4a6335bac"
  },
  "kernelspec": {
   "display_name": "venv_scraper",
   "language": "python",
   "name": "venv_scraper"
  },
  "language_info": {
   "codemirror_mode": {
    "name": "ipython",
    "version": 3
   },
   "file_extension": ".py",
   "mimetype": "text/x-python",
   "name": "python",
   "nbconvert_exporter": "python",
   "pygments_lexer": "ipython3",
   "version": "3.10.2"
  }
 },
 "nbformat": 4,
 "nbformat_minor": 5
}
